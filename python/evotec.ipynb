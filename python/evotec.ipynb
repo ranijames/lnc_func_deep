{
 "cells": [
  {
   "cell_type": "code",
   "execution_count": 58,
   "id": "delayed-timber",
   "metadata": {},
   "outputs": [],
   "source": [
    "def prime_number(y):\n",
    "    \n",
    "    prim =y/2\n",
    "    \n",
    "    if (isinstance(prim,int)):\n",
    "        print(\"The input is Prime\")\n",
    "    elif (isinstance(prim,float)):\n",
    "         print(\"The input is not prime\")           \n",
    "    return \n",
    "\n",
    "def is_prime(num, div = 2):\n",
    "    if num == div: return print(num, \"is a prime number\")\n",
    "    elif num % div == 0: return print(num, \"is not a prime number\")\n",
    "    elif num == 1: return print(num, \"is not a prime number\")\n",
    "    else: return is_prime(num, div+1)"
   ]
  },
  {
   "cell_type": "code",
   "execution_count": 33,
   "id": "professional-centre",
   "metadata": {},
   "outputs": [],
   "source": [
    "def p_number(a, b):\n",
    "    pnumber = [x for x in range(a, b+1) if all(x % i for i in range(2, x))]\n",
    "    \n",
    "    print(pnumber)"
   ]
  },
  {
   "cell_type": "code",
   "execution_count": 59,
   "id": "northern-cooperation",
   "metadata": {},
   "outputs": [
    {
     "name": "stdout",
     "output_type": "stream",
     "text": [
      "5 is a prime number\n"
     ]
    }
   ],
   "source": [
    "is_prime(5)"
   ]
  }
 ],
 "metadata": {
  "kernelspec": {
   "display_name": "Python 3",
   "language": "python",
   "name": "python3"
  },
  "language_info": {
   "codemirror_mode": {
    "name": "ipython",
    "version": 3
   },
   "file_extension": ".py",
   "mimetype": "text/x-python",
   "name": "python",
   "nbconvert_exporter": "python",
   "pygments_lexer": "ipython3",
   "version": "3.7.3"
  }
 },
 "nbformat": 4,
 "nbformat_minor": 5
}
