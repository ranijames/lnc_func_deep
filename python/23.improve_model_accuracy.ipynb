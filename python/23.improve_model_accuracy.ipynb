{
 "cells": [
  {
   "cell_type": "code",
   "execution_count": 16,
   "id": "athletic-attachment",
   "metadata": {},
   "outputs": [],
   "source": [
    "import pandas as pd\n",
    "import numpy as np\n",
    "import matplotlib.pyplot as plt\n",
    "%matplotlib inline\n",
    "from IPython.display import display\n",
    "pd.options.display.max_columns = None\n",
    "import seaborn as sb\n",
    "from sklearn.linear_model import LogisticRegression\n",
    "from sklearn.ensemble import RandomForestClassifier\n",
    "from sklearn import metrics\n",
    "from sklearn.preprocessing import MinMaxScaler, StandardScaler, LabelEncoder\n",
    "from sklearn.feature_selection import SelectKBest\n",
    "from sklearn.pipeline import Pipeline\n",
    "from sklearn.model_selection import train_test_split, GridSearchCV, RandomizedSearchCV\n",
    "from imblearn.over_sampling import SMOTE"
   ]
  },
  {
   "cell_type": "code",
   "execution_count": 17,
   "id": "premier-bridges",
   "metadata": {},
   "outputs": [],
   "source": [
    "from sklearn import preprocessing\n"
   ]
  },
  {
   "cell_type": "code",
   "execution_count": 2,
   "id": "adjusted-world",
   "metadata": {
    "collapsed": true
   },
   "outputs": [
    {
     "name": "stdout",
     "output_type": "stream",
     "text": [
      "Collecting missingno\n",
      "  Downloading missingno-0.4.2-py3-none-any.whl (9.7 kB)\n",
      "Requirement already satisfied: seaborn in /home/alva/anaconda3/lib/python3.7/site-packages (from missingno) (0.11.1)\n",
      "Requirement already satisfied: numpy in /home/alva/anaconda3/lib/python3.7/site-packages (from missingno) (1.19.5)\n",
      "Requirement already satisfied: scipy in /home/alva/anaconda3/lib/python3.7/site-packages (from missingno) (1.6.0)\n",
      "Requirement already satisfied: matplotlib in /home/alva/anaconda3/lib/python3.7/site-packages (from missingno) (3.3.4)\n",
      "Requirement already satisfied: python-dateutil>=2.1 in /home/alva/anaconda3/lib/python3.7/site-packages (from matplotlib->missingno) (2.8.1)\n",
      "Requirement already satisfied: kiwisolver>=1.0.1 in /home/alva/anaconda3/lib/python3.7/site-packages (from matplotlib->missingno) (1.3.1)\n",
      "Requirement already satisfied: pyparsing!=2.0.4,!=2.1.2,!=2.1.6,>=2.0.3 in /home/alva/anaconda3/lib/python3.7/site-packages (from matplotlib->missingno) (2.4.7)\n",
      "Requirement already satisfied: cycler>=0.10 in /home/alva/anaconda3/lib/python3.7/site-packages (from matplotlib->missingno) (0.10.0)\n",
      "Requirement already satisfied: pillow>=6.2.0 in /home/alva/anaconda3/lib/python3.7/site-packages (from matplotlib->missingno) (8.1.0)\n",
      "Requirement already satisfied: six in /home/alva/anaconda3/lib/python3.7/site-packages (from cycler>=0.10->matplotlib->missingno) (1.15.0)\n",
      "Requirement already satisfied: pandas>=0.23 in /home/alva/anaconda3/lib/python3.7/site-packages (from seaborn->missingno) (1.2.2)\n",
      "Requirement already satisfied: pytz>=2017.3 in /home/alva/anaconda3/lib/python3.7/site-packages (from pandas>=0.23->seaborn->missingno) (2020.5)\n",
      "Installing collected packages: missingno\n",
      "Successfully installed missingno-0.4.2\n"
     ]
    }
   ],
   "source": [
    "!pip install missingno"
   ]
  },
  {
   "cell_type": "code",
   "execution_count": 278,
   "id": "qualified-progressive",
   "metadata": {},
   "outputs": [],
   "source": [
    "%store -r common_de"
   ]
  },
  {
   "cell_type": "code",
   "execution_count": 279,
   "id": "suburban-enlargement",
   "metadata": {},
   "outputs": [],
   "source": [
    "common_de.drop('triplex',axis=1,inplace=True)\n",
    "common_de.drop(['gene_sym'],axis=1,inplace=True)\n",
    "common_de.drop_duplicates(inplace=True)"
   ]
  },
  {
   "cell_type": "markdown",
   "id": "naked-alpha",
   "metadata": {},
   "source": [
    "Separating with continuous and categorical variables."
   ]
  },
  {
   "cell_type": "code",
   "execution_count": 263,
   "id": "double-deviation",
   "metadata": {},
   "outputs": [],
   "source": [
    "pathway_list = common_de.Pathway.drop_duplicates().tolist()"
   ]
  },
  {
   "cell_type": "code",
   "execution_count": 276,
   "id": "through-virginia",
   "metadata": {
    "collapsed": true
   },
   "outputs": [
    {
     "data": {
      "text/plain": [
       "Index(['proximal_cancer_driver', 'proximal_drug_target', 'promoter_methylated',\n",
       "       'SNPS', 'negative_correlated_methylation',\n",
       "       'positive_correlated_methylation', 'sample', 'mechanism', 'functional',\n",
       "       'clinical', 'Pathway', 'y', 'risk_alelle_freq'],\n",
       "      dtype='object')"
      ]
     },
     "execution_count": 276,
     "metadata": {},
     "output_type": "execute_result"
    }
   ],
   "source": [
    "common_de.columns"
   ]
  },
  {
   "cell_type": "code",
   "execution_count": 277,
   "id": "continuing-communications",
   "metadata": {
    "collapsed": true
   },
   "outputs": [
    {
     "ename": "AttributeError",
     "evalue": "'DataFrame' object has no attribute 'Meth_Mean'",
     "output_type": "error",
     "traceback": [
      "\u001b[0;31m---------------------------------------------------------------------------\u001b[0m",
      "\u001b[0;31mAttributeError\u001b[0m                            Traceback (most recent call last)",
      "\u001b[0;32m<ipython-input-277-d63b3e37596e>\u001b[0m in \u001b[0;36m<module>\u001b[0;34m\u001b[0m\n\u001b[0;32m----> 1\u001b[0;31m common_de_fil['Meth_Mean']       =pd.to_numeric(common_de_fil.Meth_Mean,\n\u001b[0m\u001b[1;32m      2\u001b[0m                                                 errors='coerce')\n\u001b[1;32m      3\u001b[0m common_de_fil['sphase_mean_FC']  =pd.to_numeric(common_de_fil.sphase_mean_FC,\n\u001b[1;32m      4\u001b[0m                                                 errors='coerce')\n\u001b[1;32m      5\u001b[0m common_de_fil['risk_alelle_freq']=pd.to_numeric(common_de_fil.risk_alelle_freq, \n",
      "\u001b[0;32m~/anaconda3/lib/python3.7/site-packages/pandas/core/generic.py\u001b[0m in \u001b[0;36m__getattr__\u001b[0;34m(self, name)\u001b[0m\n\u001b[1;32m   5460\u001b[0m             \u001b[0;32mif\u001b[0m \u001b[0mself\u001b[0m\u001b[0;34m.\u001b[0m\u001b[0m_info_axis\u001b[0m\u001b[0;34m.\u001b[0m\u001b[0m_can_hold_identifiers_and_holds_name\u001b[0m\u001b[0;34m(\u001b[0m\u001b[0mname\u001b[0m\u001b[0;34m)\u001b[0m\u001b[0;34m:\u001b[0m\u001b[0;34m\u001b[0m\u001b[0;34m\u001b[0m\u001b[0m\n\u001b[1;32m   5461\u001b[0m                 \u001b[0;32mreturn\u001b[0m \u001b[0mself\u001b[0m\u001b[0;34m[\u001b[0m\u001b[0mname\u001b[0m\u001b[0;34m]\u001b[0m\u001b[0;34m\u001b[0m\u001b[0;34m\u001b[0m\u001b[0m\n\u001b[0;32m-> 5462\u001b[0;31m             \u001b[0;32mreturn\u001b[0m \u001b[0mobject\u001b[0m\u001b[0;34m.\u001b[0m\u001b[0m__getattribute__\u001b[0m\u001b[0;34m(\u001b[0m\u001b[0mself\u001b[0m\u001b[0;34m,\u001b[0m \u001b[0mname\u001b[0m\u001b[0;34m)\u001b[0m\u001b[0;34m\u001b[0m\u001b[0;34m\u001b[0m\u001b[0m\n\u001b[0m\u001b[1;32m   5463\u001b[0m \u001b[0;34m\u001b[0m\u001b[0m\n\u001b[1;32m   5464\u001b[0m     \u001b[0;32mdef\u001b[0m \u001b[0m__setattr__\u001b[0m\u001b[0;34m(\u001b[0m\u001b[0mself\u001b[0m\u001b[0;34m,\u001b[0m \u001b[0mname\u001b[0m\u001b[0;34m:\u001b[0m \u001b[0mstr\u001b[0m\u001b[0;34m,\u001b[0m \u001b[0mvalue\u001b[0m\u001b[0;34m)\u001b[0m \u001b[0;34m->\u001b[0m \u001b[0;32mNone\u001b[0m\u001b[0;34m:\u001b[0m\u001b[0;34m\u001b[0m\u001b[0;34m\u001b[0m\u001b[0m\n",
      "\u001b[0;31mAttributeError\u001b[0m: 'DataFrame' object has no attribute 'Meth_Mean'"
     ]
    }
   ],
   "source": [
    "common_de_fil['Meth_Mean']       =pd.to_numeric(common_de_fil.Meth_Mean,\n",
    "                                                errors='coerce')\n",
    "common_de_fil['sphase_mean_FC']  =pd.to_numeric(common_de_fil.sphase_mean_FC,\n",
    "                                                errors='coerce')\n",
    "common_de_fil['risk_alelle_freq']=pd.to_numeric(common_de_fil.risk_alelle_freq, \n",
    "                                                errors='coerce')\n",
    "common_de_fil['score']           =pd.to_numeric(common_de_fil.score,\n",
    "                                      errors='coerce')\n",
    "common_de_fil.drop('Pathway',axis=1,\n",
    "                   inplace=True)\n",
    "common_de_fil.drop_duplicates(inplace=True)\n",
    "common_de_fil.shape"
   ]
  },
  {
   "cell_type": "code",
   "execution_count": 250,
   "id": "serious-interstate",
   "metadata": {},
   "outputs": [
    {
     "name": "stdout",
     "output_type": "stream",
     "text": [
      "Stored 'common_de_fil' (DataFrame)\n"
     ]
    }
   ],
   "source": [
    "%store common_de_fil"
   ]
  },
  {
   "cell_type": "code",
   "execution_count": 545,
   "id": "waiting-bridge",
   "metadata": {},
   "outputs": [],
   "source": [
    "%store -r common_de"
   ]
  },
  {
   "cell_type": "code",
   "execution_count": 465,
   "id": "specified-berkeley",
   "metadata": {},
   "outputs": [
    {
     "data": {
      "text/plain": [
       "Index(['sample', 'proximal_cancer_driver', 'proximal_drug_target',\n",
       "       'promoter_methylated', 'SNPS', 'negative_correlated_methylation',\n",
       "       'positive_correlated_methylation', 'types', 'mechanism', 'functional',\n",
       "       'clinical'],\n",
       "      dtype='object')"
      ]
     },
     "execution_count": 465,
     "metadata": {},
     "output_type": "execute_result"
    }
   ],
   "source": [
    "common_de.loc[:, common_de.dtypes == np.object].columns"
   ]
  },
  {
   "cell_type": "code",
   "execution_count": 526,
   "id": "sacred-genetics",
   "metadata": {
    "collapsed": true
   },
   "outputs": [
    {
     "data": {
      "text/plain": [
       "['logFC',\n",
       " 'proximal_cancer_driver',\n",
       " 'Meth_Mean',\n",
       " 'sphase_mean_FC',\n",
       " 'score',\n",
       " 'clinical',\n",
       " 'risk_alelle_freq',\n",
       " 'BRCA',\n",
       " 'COAD',\n",
       " 'ESCA',\n",
       " 'HNSC',\n",
       " 'KICH',\n",
       " 'KIRC',\n",
       " 'KIRP',\n",
       " 'LIHC',\n",
       " 'LUAD',\n",
       " 'LUSC',\n",
       " 'PAAD',\n",
       " 'PRAD',\n",
       " 'STAD',\n",
       " 'THCA']"
      ]
     },
     "execution_count": 526,
     "metadata": {},
     "output_type": "execute_result"
    }
   ],
   "source": [
    "X_df.select_dtypes(exclude = ['object']).columns.to_list()"
   ]
  },
  {
   "cell_type": "code",
   "execution_count": 518,
   "id": "automated-tragedy",
   "metadata": {},
   "outputs": [
    {
     "data": {
      "text/plain": [
       "Index(['logFC', 'sample', 'proximal_cancer_driver', 'proximal_drug_target',\n",
       "       'promoter_methylated', 'SNPS', 'negative_correlated_methylation',\n",
       "       'positive_correlated_methylation', 'types', 'Meth_Mean',\n",
       "       'sphase_mean_FC', 'score', 'mechanism', 'functional', 'clinical', 'y',\n",
       "       'risk_alelle_freq'],\n",
       "      dtype='object')"
      ]
     },
     "execution_count": 518,
     "metadata": {},
     "output_type": "execute_result"
    }
   ],
   "source": [
    "common_de.columns"
   ]
  },
  {
   "cell_type": "code",
   "execution_count": 178,
   "id": "returning-disability",
   "metadata": {},
   "outputs": [],
   "source": [
    "# Creating dummy variable dataframe from categorical variables.\n",
    "#X_df = cont_df.join(pd.get_dummies(cat_df))"
   ]
  },
  {
   "cell_type": "code",
   "execution_count": 546,
   "id": "naval-operation",
   "metadata": {},
   "outputs": [],
   "source": [
    "common_de = common_de.query('sample !=0')\n",
    "BRCA      = common_de.query('sample==\"BRCA\"')\n",
    "X_df      = BRCA.drop(['y','proximal_drug_target','negative_correlated_methylation',\n",
    "                          'positive_correlated_methylation','promoter_methylated','mechanism','SNPS','types','functional','proximal_cancer_driver','clinical'], axis=1)"
   ]
  },
  {
   "cell_type": "code",
   "execution_count": 543,
   "id": "neither-handbook",
   "metadata": {},
   "outputs": [
    {
     "data": {
      "text/plain": [
       "(2114, 6)"
      ]
     },
     "execution_count": 543,
     "metadata": {},
     "output_type": "execute_result"
    }
   ],
   "source": [
    "X_df.shape"
   ]
  },
  {
   "cell_type": "code",
   "execution_count": 547,
   "id": "confirmed-junction",
   "metadata": {},
   "outputs": [],
   "source": [
    "y       = BRCA['y']\n",
    "X_cat   = list(X_df.select_dtypes(['object']).columns)\n",
    "X_cont  = ['logFC']\n",
    "cont_df = X_df[X_cont]\n",
    "cat_df  = X_df[X_cat]\n",
    "#X_df['types']      = X_df['types'].replace([0,'0'],'No')\n",
    "#X_df['clinical']   = X_df['clinical'].replace([0,'0'],'No')\n",
    "#X_df['functional'] = X_df['functional'].replace(['0',0],'No')\n",
    "#X_df['mechanism']  = X_df['mechanism'].replace(['0',0],'No')\n",
    "#X_df['promoter_methylated']  = X_df['promoter_methylated'].replace(0,'No')\n",
    "\n",
    "\n",
    "# Label encode categorical variables.\n",
    "label_encoder = LabelEncoder()\n",
    "mappings      = []\n",
    "\n",
    "# Desired label orders for categorical columns.\n",
    "#clinical_order   = X_df.clinical.drop_duplicates().to_list()\n",
    "\n",
    "\"\"\"\n",
    "mechanism_order  = X_df.mechanism.drop_duplicates().to_list()\n",
    "types_order      = X_df.types.drop_duplicates().to_list()\n",
    "proximal_cancer_driver_order = X_df.proximal_cancer_driver.drop_duplicates().to_list()\n",
    "promoter_methylated_order    = X_df.promoter_methylated.drop_duplicates().to_list()\n",
    "SNPS_order                   = X_df.SNPS.drop_duplicates().to_list()\n",
    "negative_correlated_methylation_order = X_df.negative_correlated_methylation.drop_duplicates().to_list()\n",
    "positive_correlated_methylation_order = X_df.positive_correlated_methylation.drop_duplicates().to_list()\n",
    "promoter_methylated_order = X_df.promoter_methylated.drop_duplicates().to_list()\n",
    "\"\"\"\n",
    "#sample_order     = X_df['sample'].drop_duplicates().to_list()\n",
    "# using cat.codes for order, one hot for high cardinality and weak case of cardinality.\n",
    "\n",
    "def ordered_labels(df, col, order):\n",
    "    df[col] = df[col].astype('category')\n",
    "    df[col] = df[col].cat.reorder_categories(order, ordered=True)\n",
    "    df[col] = df[col].cat.codes.astype(int)\n",
    "    \n",
    "# Use dummy variables for occupation\n",
    "X_df = pd.concat([X_df, pd.get_dummies(X_df['sample'])],axis=1).drop('sample',axis=1)\n",
    "# Use ordered cat.codes for days, months, and education\n"
   ]
  },
  {
   "cell_type": "code",
   "execution_count": 430,
   "id": "sorted-jordan",
   "metadata": {
    "collapsed": true
   },
   "outputs": [
    {
     "data": {
      "text/plain": [
       "['No', 'Yes']"
      ]
     },
     "execution_count": 430,
     "metadata": {},
     "output_type": "execute_result"
    }
   ],
   "source": [
    "promoter_methylated_order"
   ]
  },
  {
   "cell_type": "code",
   "execution_count": 353,
   "id": "brown-banking",
   "metadata": {},
   "outputs": [
    {
     "data": {
      "text/plain": [
       "['No', 't', 'o', 'ot']"
      ]
     },
     "execution_count": 353,
     "metadata": {},
     "output_type": "execute_result"
    }
   ],
   "source": [
    " X_df.types.drop_duplicates().to_list()"
   ]
  },
  {
   "cell_type": "code",
   "execution_count": 506,
   "id": "precious-exercise",
   "metadata": {},
   "outputs": [],
   "source": [
    "ordered_labels(X_df, 'types', types_order)\n",
    "#ordered_labels(X_df, 'sample', sample_order)\n",
    "#ordered_labels(X_df, 'clinical', clinical_order)\n",
    "ordered_labels(X_df, 'functional', functional_order)\n",
    "#ordered_labels(X_df, 'mechanism', mechanism_order)\n",
    "#ordered_labels(X_df, 'proximal_cancer_driver', proximal_cancer_driver_order)\n",
    "#ordered_labels(X_df, 'promoter_methylated', promoter_methylated_order)\n",
    "#ordered_labels(X_df, 'SNPS', SNPS_order)\n",
    "#ordered_labels(X_df, 'negative_correlated_methylation', negative_correlated_methylation_order)\n",
    "#ordered_labels(X_df, 'positive_correlated_methylation', positive_correlated_methylation_order)\n"
   ]
  },
  {
   "cell_type": "code",
   "execution_count": 507,
   "id": "three-engineer",
   "metadata": {
    "collapsed": true
   },
   "outputs": [
    {
     "ename": "KeyError",
     "evalue": "'promoter_methylated'",
     "output_type": "error",
     "traceback": [
      "\u001b[0;31m---------------------------------------------------------------------------\u001b[0m",
      "\u001b[0;31mKeyError\u001b[0m                                  Traceback (most recent call last)",
      "\u001b[0;32m~/anaconda3/lib/python3.7/site-packages/pandas/core/indexes/base.py\u001b[0m in \u001b[0;36mget_loc\u001b[0;34m(self, key, method, tolerance)\u001b[0m\n\u001b[1;32m   3079\u001b[0m             \u001b[0;32mtry\u001b[0m\u001b[0;34m:\u001b[0m\u001b[0;34m\u001b[0m\u001b[0;34m\u001b[0m\u001b[0m\n\u001b[0;32m-> 3080\u001b[0;31m                 \u001b[0;32mreturn\u001b[0m \u001b[0mself\u001b[0m\u001b[0;34m.\u001b[0m\u001b[0m_engine\u001b[0m\u001b[0;34m.\u001b[0m\u001b[0mget_loc\u001b[0m\u001b[0;34m(\u001b[0m\u001b[0mcasted_key\u001b[0m\u001b[0;34m)\u001b[0m\u001b[0;34m\u001b[0m\u001b[0;34m\u001b[0m\u001b[0m\n\u001b[0m\u001b[1;32m   3081\u001b[0m             \u001b[0;32mexcept\u001b[0m \u001b[0mKeyError\u001b[0m \u001b[0;32mas\u001b[0m \u001b[0merr\u001b[0m\u001b[0;34m:\u001b[0m\u001b[0;34m\u001b[0m\u001b[0;34m\u001b[0m\u001b[0m\n",
      "\u001b[0;32mpandas/_libs/index.pyx\u001b[0m in \u001b[0;36mpandas._libs.index.IndexEngine.get_loc\u001b[0;34m()\u001b[0m\n",
      "\u001b[0;32mpandas/_libs/index.pyx\u001b[0m in \u001b[0;36mpandas._libs.index.IndexEngine.get_loc\u001b[0;34m()\u001b[0m\n",
      "\u001b[0;32mpandas/_libs/hashtable_class_helper.pxi\u001b[0m in \u001b[0;36mpandas._libs.hashtable.PyObjectHashTable.get_item\u001b[0;34m()\u001b[0m\n",
      "\u001b[0;32mpandas/_libs/hashtable_class_helper.pxi\u001b[0m in \u001b[0;36mpandas._libs.hashtable.PyObjectHashTable.get_item\u001b[0;34m()\u001b[0m\n",
      "\u001b[0;31mKeyError\u001b[0m: 'promoter_methylated'",
      "\nThe above exception was the direct cause of the following exception:\n",
      "\u001b[0;31mKeyError\u001b[0m                                  Traceback (most recent call last)",
      "\u001b[0;32m<ipython-input-507-fe50621f0926>\u001b[0m in \u001b[0;36m<module>\u001b[0;34m\u001b[0m\n\u001b[0;32m----> 1\u001b[0;31m \u001b[0mordered_labels\u001b[0m\u001b[0;34m(\u001b[0m\u001b[0mX_df\u001b[0m\u001b[0;34m,\u001b[0m \u001b[0;34m'promoter_methylated'\u001b[0m\u001b[0;34m,\u001b[0m \u001b[0mpromoter_methylated_order\u001b[0m\u001b[0;34m)\u001b[0m\u001b[0;34m\u001b[0m\u001b[0;34m\u001b[0m\u001b[0m\n\u001b[0m",
      "\u001b[0;32m<ipython-input-505-c257b3f5f8dc>\u001b[0m in \u001b[0;36mordered_labels\u001b[0;34m(df, col, order)\u001b[0m\n\u001b[1;32m     33\u001b[0m \u001b[0;34m\u001b[0m\u001b[0m\n\u001b[1;32m     34\u001b[0m \u001b[0;32mdef\u001b[0m \u001b[0mordered_labels\u001b[0m\u001b[0;34m(\u001b[0m\u001b[0mdf\u001b[0m\u001b[0;34m,\u001b[0m \u001b[0mcol\u001b[0m\u001b[0;34m,\u001b[0m \u001b[0morder\u001b[0m\u001b[0;34m)\u001b[0m\u001b[0;34m:\u001b[0m\u001b[0;34m\u001b[0m\u001b[0;34m\u001b[0m\u001b[0m\n\u001b[0;32m---> 35\u001b[0;31m     \u001b[0mdf\u001b[0m\u001b[0;34m[\u001b[0m\u001b[0mcol\u001b[0m\u001b[0;34m]\u001b[0m \u001b[0;34m=\u001b[0m \u001b[0mdf\u001b[0m\u001b[0;34m[\u001b[0m\u001b[0mcol\u001b[0m\u001b[0;34m]\u001b[0m\u001b[0;34m.\u001b[0m\u001b[0mastype\u001b[0m\u001b[0;34m(\u001b[0m\u001b[0;34m'category'\u001b[0m\u001b[0;34m)\u001b[0m\u001b[0;34m\u001b[0m\u001b[0;34m\u001b[0m\u001b[0m\n\u001b[0m\u001b[1;32m     36\u001b[0m     \u001b[0mdf\u001b[0m\u001b[0;34m[\u001b[0m\u001b[0mcol\u001b[0m\u001b[0;34m]\u001b[0m \u001b[0;34m=\u001b[0m \u001b[0mdf\u001b[0m\u001b[0;34m[\u001b[0m\u001b[0mcol\u001b[0m\u001b[0;34m]\u001b[0m\u001b[0;34m.\u001b[0m\u001b[0mcat\u001b[0m\u001b[0;34m.\u001b[0m\u001b[0mreorder_categories\u001b[0m\u001b[0;34m(\u001b[0m\u001b[0morder\u001b[0m\u001b[0;34m,\u001b[0m \u001b[0mordered\u001b[0m\u001b[0;34m=\u001b[0m\u001b[0;32mTrue\u001b[0m\u001b[0;34m)\u001b[0m\u001b[0;34m\u001b[0m\u001b[0;34m\u001b[0m\u001b[0m\n\u001b[1;32m     37\u001b[0m     \u001b[0mdf\u001b[0m\u001b[0;34m[\u001b[0m\u001b[0mcol\u001b[0m\u001b[0;34m]\u001b[0m \u001b[0;34m=\u001b[0m \u001b[0mdf\u001b[0m\u001b[0;34m[\u001b[0m\u001b[0mcol\u001b[0m\u001b[0;34m]\u001b[0m\u001b[0;34m.\u001b[0m\u001b[0mcat\u001b[0m\u001b[0;34m.\u001b[0m\u001b[0mcodes\u001b[0m\u001b[0;34m.\u001b[0m\u001b[0mastype\u001b[0m\u001b[0;34m(\u001b[0m\u001b[0mint\u001b[0m\u001b[0;34m)\u001b[0m\u001b[0;34m\u001b[0m\u001b[0;34m\u001b[0m\u001b[0m\n",
      "\u001b[0;32m~/anaconda3/lib/python3.7/site-packages/pandas/core/frame.py\u001b[0m in \u001b[0;36m__getitem__\u001b[0;34m(self, key)\u001b[0m\n\u001b[1;32m   3022\u001b[0m             \u001b[0;32mif\u001b[0m \u001b[0mself\u001b[0m\u001b[0;34m.\u001b[0m\u001b[0mcolumns\u001b[0m\u001b[0;34m.\u001b[0m\u001b[0mnlevels\u001b[0m \u001b[0;34m>\u001b[0m \u001b[0;36m1\u001b[0m\u001b[0;34m:\u001b[0m\u001b[0;34m\u001b[0m\u001b[0;34m\u001b[0m\u001b[0m\n\u001b[1;32m   3023\u001b[0m                 \u001b[0;32mreturn\u001b[0m \u001b[0mself\u001b[0m\u001b[0;34m.\u001b[0m\u001b[0m_getitem_multilevel\u001b[0m\u001b[0;34m(\u001b[0m\u001b[0mkey\u001b[0m\u001b[0;34m)\u001b[0m\u001b[0;34m\u001b[0m\u001b[0;34m\u001b[0m\u001b[0m\n\u001b[0;32m-> 3024\u001b[0;31m             \u001b[0mindexer\u001b[0m \u001b[0;34m=\u001b[0m \u001b[0mself\u001b[0m\u001b[0;34m.\u001b[0m\u001b[0mcolumns\u001b[0m\u001b[0;34m.\u001b[0m\u001b[0mget_loc\u001b[0m\u001b[0;34m(\u001b[0m\u001b[0mkey\u001b[0m\u001b[0;34m)\u001b[0m\u001b[0;34m\u001b[0m\u001b[0;34m\u001b[0m\u001b[0m\n\u001b[0m\u001b[1;32m   3025\u001b[0m             \u001b[0;32mif\u001b[0m \u001b[0mis_integer\u001b[0m\u001b[0;34m(\u001b[0m\u001b[0mindexer\u001b[0m\u001b[0;34m)\u001b[0m\u001b[0;34m:\u001b[0m\u001b[0;34m\u001b[0m\u001b[0;34m\u001b[0m\u001b[0m\n\u001b[1;32m   3026\u001b[0m                 \u001b[0mindexer\u001b[0m \u001b[0;34m=\u001b[0m \u001b[0;34m[\u001b[0m\u001b[0mindexer\u001b[0m\u001b[0;34m]\u001b[0m\u001b[0;34m\u001b[0m\u001b[0;34m\u001b[0m\u001b[0m\n",
      "\u001b[0;32m~/anaconda3/lib/python3.7/site-packages/pandas/core/indexes/base.py\u001b[0m in \u001b[0;36mget_loc\u001b[0;34m(self, key, method, tolerance)\u001b[0m\n\u001b[1;32m   3080\u001b[0m                 \u001b[0;32mreturn\u001b[0m \u001b[0mself\u001b[0m\u001b[0;34m.\u001b[0m\u001b[0m_engine\u001b[0m\u001b[0;34m.\u001b[0m\u001b[0mget_loc\u001b[0m\u001b[0;34m(\u001b[0m\u001b[0mcasted_key\u001b[0m\u001b[0;34m)\u001b[0m\u001b[0;34m\u001b[0m\u001b[0;34m\u001b[0m\u001b[0m\n\u001b[1;32m   3081\u001b[0m             \u001b[0;32mexcept\u001b[0m \u001b[0mKeyError\u001b[0m \u001b[0;32mas\u001b[0m \u001b[0merr\u001b[0m\u001b[0;34m:\u001b[0m\u001b[0;34m\u001b[0m\u001b[0;34m\u001b[0m\u001b[0m\n\u001b[0;32m-> 3082\u001b[0;31m                 \u001b[0;32mraise\u001b[0m \u001b[0mKeyError\u001b[0m\u001b[0;34m(\u001b[0m\u001b[0mkey\u001b[0m\u001b[0;34m)\u001b[0m \u001b[0;32mfrom\u001b[0m \u001b[0merr\u001b[0m\u001b[0;34m\u001b[0m\u001b[0;34m\u001b[0m\u001b[0m\n\u001b[0m\u001b[1;32m   3083\u001b[0m \u001b[0;34m\u001b[0m\u001b[0m\n\u001b[1;32m   3084\u001b[0m         \u001b[0;32mif\u001b[0m \u001b[0mtolerance\u001b[0m \u001b[0;32mis\u001b[0m \u001b[0;32mnot\u001b[0m \u001b[0;32mNone\u001b[0m\u001b[0;34m:\u001b[0m\u001b[0;34m\u001b[0m\u001b[0;34m\u001b[0m\u001b[0m\n",
      "\u001b[0;31mKeyError\u001b[0m: 'promoter_methylated'"
     ]
    }
   ],
   "source": [
    "ordered_labels(X_df, 'promoter_methylated', promoter_methylated_order)\n"
   ]
  },
  {
   "cell_type": "code",
   "execution_count": 548,
   "id": "united-concentrate",
   "metadata": {},
   "outputs": [
    {
     "data": {
      "text/html": [
       "<div>\n",
       "<style scoped>\n",
       "    .dataframe tbody tr th:only-of-type {\n",
       "        vertical-align: middle;\n",
       "    }\n",
       "\n",
       "    .dataframe tbody tr th {\n",
       "        vertical-align: top;\n",
       "    }\n",
       "\n",
       "    .dataframe thead th {\n",
       "        text-align: right;\n",
       "    }\n",
       "</style>\n",
       "<table border=\"1\" class=\"dataframe\">\n",
       "  <thead>\n",
       "    <tr style=\"text-align: right;\">\n",
       "      <th></th>\n",
       "      <th>logFC</th>\n",
       "      <th>Meth_Mean</th>\n",
       "      <th>sphase_mean_FC</th>\n",
       "      <th>score</th>\n",
       "      <th>risk_alelle_freq</th>\n",
       "      <th>BRCA</th>\n",
       "    </tr>\n",
       "  </thead>\n",
       "  <tbody>\n",
       "    <tr>\n",
       "      <th>9</th>\n",
       "      <td>-1.307162</td>\n",
       "      <td>0.0</td>\n",
       "      <td>0.666667</td>\n",
       "      <td>0.0</td>\n",
       "      <td>0.0</td>\n",
       "      <td>1</td>\n",
       "    </tr>\n",
       "    <tr>\n",
       "      <th>18</th>\n",
       "      <td>-1.693635</td>\n",
       "      <td>0.0</td>\n",
       "      <td>0.000000</td>\n",
       "      <td>0.0</td>\n",
       "      <td>0.0</td>\n",
       "      <td>1</td>\n",
       "    </tr>\n",
       "    <tr>\n",
       "      <th>23</th>\n",
       "      <td>0.668899</td>\n",
       "      <td>0.0</td>\n",
       "      <td>0.000000</td>\n",
       "      <td>0.0</td>\n",
       "      <td>0.0</td>\n",
       "      <td>1</td>\n",
       "    </tr>\n",
       "    <tr>\n",
       "      <th>58</th>\n",
       "      <td>-0.689454</td>\n",
       "      <td>0.0</td>\n",
       "      <td>0.000000</td>\n",
       "      <td>0.0</td>\n",
       "      <td>0.0</td>\n",
       "      <td>1</td>\n",
       "    </tr>\n",
       "    <tr>\n",
       "      <th>69</th>\n",
       "      <td>-1.296427</td>\n",
       "      <td>0.0</td>\n",
       "      <td>0.000000</td>\n",
       "      <td>0.0</td>\n",
       "      <td>0.0</td>\n",
       "      <td>1</td>\n",
       "    </tr>\n",
       "  </tbody>\n",
       "</table>\n",
       "</div>"
      ],
      "text/plain": [
       "       logFC  Meth_Mean  sphase_mean_FC  score  risk_alelle_freq  BRCA\n",
       "9  -1.307162        0.0        0.666667    0.0               0.0     1\n",
       "18 -1.693635        0.0        0.000000    0.0               0.0     1\n",
       "23  0.668899        0.0        0.000000    0.0               0.0     1\n",
       "58 -0.689454        0.0        0.000000    0.0               0.0     1\n",
       "69 -1.296427        0.0        0.000000    0.0               0.0     1"
      ]
     },
     "execution_count": 548,
     "metadata": {},
     "output_type": "execute_result"
    }
   ],
   "source": [
    "# Same label encoding for rest since low cardinality\n",
    "for i, col in enumerate(X_df):\n",
    "    if X_df[col].dtype == 'object':\n",
    "        X_df[col] = label_encoder.fit_transform(np.array(X_df[col].astype(str)).reshape((-1,)))\n",
    "        mappings.append(dict(zip(label_encoder.classes_, range(1, len(label_encoder.classes_)+1))))\n",
    "X_df.fillna(0,inplace=True)\n",
    "X_df.head()"
   ]
  },
  {
   "cell_type": "code",
   "execution_count": 549,
   "id": "dependent-running",
   "metadata": {},
   "outputs": [
    {
     "data": {
      "text/plain": [
       "((1691, 6), (423, 6), (1691,), (423,))"
      ]
     },
     "execution_count": 549,
     "metadata": {},
     "output_type": "execute_result"
    }
   ],
   "source": [
    "# Split feature and label sets to train and data sets.\n",
    "X_train, X_test, y_train, y_test = train_test_split(X_df, y, test_size = 0.2, random_state = 10)\n",
    "X_train.shape, X_test.shape, y_train.shape, y_test.shape"
   ]
  },
  {
   "cell_type": "code",
   "execution_count": 550,
   "id": "amber-algebra",
   "metadata": {},
   "outputs": [],
   "source": [
    "# Normalize using MinMaxScaler to constrain values to between 0 and 1.\n",
    "scaler = MinMaxScaler(feature_range = (0,1))\n",
    "scaler.fit(X_train)\n",
    "X_train = scaler.transform(X_train)\n",
    "X_test  = scaler.transform(X_test)"
   ]
  },
  {
   "cell_type": "code",
   "execution_count": 551,
   "id": "peaceful-brunei",
   "metadata": {},
   "outputs": [
    {
     "name": "stdout",
     "output_type": "stream",
     "text": [
      "Fitting 5 folds for each of 100 candidates, totalling 500 fits\n"
     ]
    },
    {
     "name": "stderr",
     "output_type": "stream",
     "text": [
      "/home/alva/anaconda3/lib/python3.7/site-packages/sklearn/model_selection/_search.py:921: UserWarning: One or more of the test scores are non-finite: [0.61561153 0.61561153 0.61561153 0.61561153 0.61561153 0.61561153\n",
      " 0.61561153 0.61561153 0.61561153 0.61561153 0.61561153 0.61561153\n",
      " 0.61561153 0.61620324 0.66528949 0.66528949 0.6658812  0.6658812\n",
      " 0.6658812  0.6658812  0.6658812  0.6658812  0.6658812  0.6658812\n",
      " 0.66528949 0.66469777 0.66528949 0.66469777 0.66469777 0.66469777\n",
      " 0.66469777 0.66528949 0.66528949 0.66528949 0.66528949 0.66528949\n",
      " 0.66528949 0.66528949 0.66528949 0.66528949 0.59252239 0.58128153\n",
      " 0.5806933  0.58246496 0.58186975 0.5800981  0.5818715  0.58068807\n",
      " 0.58127978 0.58068807        nan        nan        nan        nan\n",
      "        nan        nan        nan        nan        nan        nan\n",
      "        nan        nan        nan        nan        nan        nan\n",
      "        nan        nan        nan        nan        nan        nan\n",
      "        nan        nan        nan        nan        nan        nan\n",
      "        nan        nan        nan        nan        nan        nan\n",
      "        nan        nan        nan        nan        nan        nan\n",
      "        nan        nan        nan        nan        nan        nan\n",
      "        nan        nan        nan        nan]\n",
      "  category=UserWarning\n"
     ]
    }
   ],
   "source": [
    "# Create first pipeline for base without reducing features.\n",
    "\n",
    "pipe = Pipeline([('classifier' , RandomForestClassifier())])\n",
    "# pipe = Pipeline([('classifier', RandomForestClassifier())])\n",
    "\n",
    "# Create param grid.\n",
    "\n",
    "param_grid = [\n",
    "    {'classifier' : [LogisticRegression()],\n",
    "     'classifier__penalty' : ['l1', 'l2'],\n",
    "    'classifier__C' : np.logspace(-4, 4, 20),\n",
    "    'classifier__solver' : ['liblinear']},\n",
    "    {'classifier' : [RandomForestClassifier()],\n",
    "    'classifier__n_estimators' : list(range(10,101,10)),\n",
    "    'classifier__max_features' : list(range(6,32,5))}\n",
    "]\n",
    "\n",
    "# Create grid search object\n",
    "\n",
    "clf = GridSearchCV(pipe, param_grid = param_grid, cv = 5, verbose=True, n_jobs=-1)\n",
    "\n",
    "# Fit on data\n",
    "\n",
    "best_clf = clf.fit(X_train, y_train)\n"
   ]
  },
  {
   "cell_type": "code",
   "execution_count": 552,
   "id": "early-chosen",
   "metadata": {},
   "outputs": [
    {
     "data": {
      "text/plain": [
       "LogisticRegression(C=0.23357214690901212, penalty='l1', solver='liblinear')"
      ]
     },
     "execution_count": 552,
     "metadata": {},
     "output_type": "execute_result"
    }
   ],
   "source": [
    "best_clf.best_estimator_.get_params()['classifier']\n",
    "# type=LogisticRegression(C=4.281332398719396, penalty='l1', solver='liblinear')\n"
   ]
  },
  {
   "cell_type": "code",
   "execution_count": 553,
   "id": "russian-accounting",
   "metadata": {},
   "outputs": [
    {
     "name": "stdout",
     "output_type": "stream",
     "text": [
      "Model accuracy is 0.6619385342789598\n"
     ]
    }
   ],
   "source": [
    "print('Model accuracy is',best_clf.score(X_test, y_test))"
   ]
  },
  {
   "cell_type": "code",
   "execution_count": 444,
   "id": "endless-victoria",
   "metadata": {},
   "outputs": [
    {
     "data": {
      "text/plain": [
       "GridSearchCV(cv=5,\n",
       "             estimator=Pipeline(steps=[('classifier',\n",
       "                                        RandomForestClassifier())]),\n",
       "             n_jobs=-1,\n",
       "             param_grid=[{'classifier': [LogisticRegression(C=0.615848211066026,\n",
       "                                                            penalty='l1',\n",
       "                                                            solver='liblinear')],\n",
       "                          'classifier__C': array([1.00000000e-04, 2.63665090e-04, 6.95192796e-04, 1.83298071e-03,\n",
       "       4.83293024e-03, 1.27427499e-02, 3.35981829e-02, 8.85866790e-02,\n",
       "       2.33572147e...\n",
       "       1.12883789e+01, 2.97635144e+01, 7.84759970e+01, 2.06913808e+02,\n",
       "       5.45559478e+02, 1.43844989e+03, 3.79269019e+03, 1.00000000e+04]),\n",
       "                          'classifier__penalty': ['l1', 'l2'],\n",
       "                          'classifier__solver': ['liblinear']},\n",
       "                         {'classifier': [RandomForestClassifier()],\n",
       "                          'classifier__max_features': [6, 11, 16, 21, 26, 31],\n",
       "                          'classifier__n_estimators': [10, 20, 30, 40, 50, 60,\n",
       "                                                       70, 80, 90, 100]}],\n",
       "             verbose=True)"
      ]
     },
     "execution_count": 444,
     "metadata": {},
     "output_type": "execute_result"
    }
   ],
   "source": [
    "best_clf"
   ]
  },
  {
   "cell_type": "code",
   "execution_count": 554,
   "id": "billion-gnome",
   "metadata": {},
   "outputs": [
    {
     "data": {
      "image/png": "[encoded data removed]",
      "text/plain": [
       "<Figure size 432x288 with 1 Axes>"
      ]
     },
     "metadata": {
      "needs_background": "light"
     },
     "output_type": "display_data"
    }
   ],
   "source": [
    "probs = best_clf.predict_proba(X_test)\n",
    "preds = probs[:,1]\n",
    "fpr, tpr, threshold = metrics.roc_curve(y_test, preds)\n",
    "roc_auc = metrics.auc(fpr, tpr)\n",
    "plt.figure()\n",
    "plt.plot(fpr, tpr, label='GridSearchCV (area = %0.2f)' % roc_auc)\n",
    "plt.plot([0, 1], [0, 1],'r--')\n",
    "plt.xlim([0.0, 1.0])\n",
    "plt.ylim([0.0, 1.05])\n",
    "plt.xlabel('False Positive Rate')\n",
    "plt.ylabel('True Positive Rate')\n",
    "plt.title('Receiver operating characteristic')\n",
    "plt.legend(loc=\"lower right\")\n",
    "plt.savefig('Log_ROC')\n",
    "plt.show()"
   ]
  },
  {
   "cell_type": "code",
   "execution_count": 555,
   "id": "pharmaceutical-detroit",
   "metadata": {},
   "outputs": [
    {
     "data": {
      "text/plain": [
       "0.6021940494011976"
      ]
     },
     "execution_count": 555,
     "metadata": {},
     "output_type": "execute_result"
    }
   ],
   "source": [
    "roc_auc"
   ]
  },
  {
   "cell_type": "code",
   "execution_count": 556,
   "id": "early-newman",
   "metadata": {},
   "outputs": [
    {
     "name": "stdout",
     "output_type": "stream",
     "text": [
      "0.6619385342789598 0.8019279209455532 0.1497005988023952 0.14630694965769497 0.25906735751295334 0.9615384615384616 0.6021940494011976\n"
     ]
    }
   ],
   "source": [
    "classes = best_clf.predict(X_test)\n",
    "    \n",
    "accuracy = metrics.accuracy_score(classes, y_test)\n",
    "    \n",
    "balanced_accuracy = metrics.balanced_accuracy_score(classes, y_test)\n",
    "\n",
    "precision = metrics.precision_score(classes, y_test)\n",
    "    \n",
    "average_precision = metrics.average_precision_score(classes, y_test)\n",
    "    \n",
    "f1_score = metrics.f1_score(classes, y_test)\n",
    "    \n",
    "recall = metrics.recall_score(classes, y_test)\n",
    "\n",
    "print (accuracy, balanced_accuracy, precision, average_precision, f1_score, recall, roc_auc)\n"
   ]
  },
  {
   "cell_type": "code",
   "execution_count": 448,
   "id": "radical-network",
   "metadata": {
    "scrolled": false
   },
   "outputs": [
    {
     "name": "stdout",
     "output_type": "stream",
     "text": [
      "              precision    recall  f1-score   support\n",
      "\n",
      "         0.0       0.99      0.64      0.78      4661\n",
      "         1.0       0.18      0.93      0.30       386\n",
      "\n",
      "    accuracy                           0.66      5047\n",
      "   macro avg       0.58      0.79      0.54      5047\n",
      "weighted avg       0.93      0.66      0.74      5047\n",
      "\n"
     ]
    }
   ],
   "source": [
    "print(metrics.classification_report(classes, y_test))\n"
   ]
  },
  {
   "cell_type": "code",
   "execution_count": 557,
   "id": "functional-transcription",
   "metadata": {},
   "outputs": [
    {
     "name": "stdout",
     "output_type": "stream",
     "text": [
      "Fitting 5 folds for each of 100 candidates, totalling 500 fits\n"
     ]
    },
    {
     "name": "stderr",
     "output_type": "stream",
     "text": [
      "/home/alva/anaconda3/lib/python3.7/site-packages/sklearn/model_selection/_search.py:921: UserWarning: One or more of the test scores are non-finite: [0.5        0.53794388 0.5        0.53890311 0.5        0.55138697\n",
      " 0.5        0.55666505 0.5        0.56147505 0.5        0.5763593\n",
      " 0.51153846 0.57682623 0.56820121 0.58499816 0.57155391 0.58451854\n",
      " 0.58451969 0.58499931 0.58451969 0.58404008 0.58500161 0.58548123\n",
      " 0.58548123 0.58548123 0.58500046 0.58548123 0.58548123 0.58548123\n",
      " 0.58548123 0.58548123 0.58548123 0.58548123 0.58548123 0.58548123\n",
      " 0.58548123 0.58548123 0.58548123 0.58548123 0.61287124 0.60326277\n",
      " 0.59942123 0.60134316 0.59894162 0.59606046 0.59845969 0.59750046\n",
      " 0.59845854 0.59894046        nan        nan        nan        nan\n",
      "        nan        nan        nan        nan        nan        nan\n",
      "        nan        nan        nan        nan        nan        nan\n",
      "        nan        nan        nan        nan        nan        nan\n",
      "        nan        nan        nan        nan        nan        nan\n",
      "        nan        nan        nan        nan        nan        nan\n",
      "        nan        nan        nan        nan        nan        nan\n",
      "        nan        nan        nan        nan        nan        nan\n",
      "        nan        nan        nan        nan]\n",
      "  category=UserWarning\n"
     ]
    }
   ],
   "source": [
    "# Rerunning above with resampled data\n",
    "sm = SMOTE(random_state = 2)\n",
    "X_train_res, y_train_res = sm.fit_resample(X_train, y_train.ravel())\n",
    "best_clf = clf.fit(X_train_res, y_train_res)"
   ]
  },
  {
   "cell_type": "code",
   "execution_count": 558,
   "id": "respiratory-banking",
   "metadata": {},
   "outputs": [
    {
     "name": "stdout",
     "output_type": "stream",
     "text": [
      "Model accuracy is 0.5721040189125296\n"
     ]
    }
   ],
   "source": [
    "best_clf.best_estimator_.get_params()['classifier']\n",
    "print('Model accuracy is',best_clf.score(X_test, y_test))\n"
   ]
  },
  {
   "cell_type": "code",
   "execution_count": 560,
   "id": "equipped-nursery",
   "metadata": {},
   "outputs": [
    {
     "data": {
      "text/plain": [
       "GridSearchCV(cv=5,\n",
       "             estimator=Pipeline(steps=[('classifier',\n",
       "                                        RandomForestClassifier())]),\n",
       "             n_jobs=-1,\n",
       "             param_grid=[{'classifier': [LogisticRegression(C=0.23357214690901212,\n",
       "                                                            penalty='l1',\n",
       "                                                            solver='liblinear')],\n",
       "                          'classifier__C': array([1.00000000e-04, 2.63665090e-04, 6.95192796e-04, 1.83298071e-03,\n",
       "       4.83293024e-03, 1.27427499e-02, 3.35981829e-02, 8.85866790e-02,\n",
       "       2.3357214...\n",
       "       1.12883789e+01, 2.97635144e+01, 7.84759970e+01, 2.06913808e+02,\n",
       "       5.45559478e+02, 1.43844989e+03, 3.79269019e+03, 1.00000000e+04]),\n",
       "                          'classifier__penalty': ['l1', 'l2'],\n",
       "                          'classifier__solver': ['liblinear']},\n",
       "                         {'classifier': [RandomForestClassifier(max_features=6,\n",
       "                                                                n_estimators=10)],\n",
       "                          'classifier__max_features': [6, 11, 16, 21, 26, 31],\n",
       "                          'classifier__n_estimators': [10, 20, 30, 40, 50, 60,\n",
       "                                                       70, 80, 90, 100]}],\n",
       "             verbose=True)"
      ]
     },
     "execution_count": 560,
     "metadata": {},
     "output_type": "execute_result"
    }
   ],
   "source": [
    "best_clf"
   ]
  }
 ],
 "metadata": {
  "kernelspec": {
   "display_name": "Python 3",
   "language": "python",
   "name": "python3"
  },
  "language_info": {
   "codemirror_mode": {
    "name": "ipython",
    "version": 3
   },
   "file_extension": ".py",
   "mimetype": "text/x-python",
   "name": "python",
   "nbconvert_exporter": "python",
   "pygments_lexer": "ipython3",
   "version": "3.7.3"
  }
 },
 "nbformat": 4,
 "nbformat_minor": 5
}
