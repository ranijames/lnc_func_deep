{
 "cells": [
  {
   "cell_type": "code",
   "execution_count": 1,
   "id": "joint-aside",
   "metadata": {},
   "outputs": [],
   "source": [
    "import pandas as pd\n",
    "import numpy as np\n",
    "from functools import reduce\n",
    "import os\n",
    "import matplotlib.backends \n",
    "import matplotlib.pyplot as plt\n",
    "import seaborn as sns"
   ]
  },
  {
   "cell_type": "code",
   "execution_count": 2,
   "id": "combined-toner",
   "metadata": {},
   "outputs": [],
   "source": [
    "path         = '/home/alva/Documents/lncRNAs_project_2020/Analysis_2021/DNA_methy_tcga/meth/de' \n",
    "files        = os.listdir(path)\n",
    "results      = [os.path.join(path,i) for i in files if i.startswith('lncRNA_0.58_TCGA')]"
   ]
  },
  {
   "cell_type": "code",
   "execution_count": 13,
   "id": "sound-papua",
   "metadata": {
    "collapsed": true
   },
   "outputs": [
    {
     "data": {
      "text/plain": [
       "['/home/alva/Documents/lncRNAs_project_2020/Analysis_2021/DNA_methy_tcga/meth/de/lncRNA_0.58_TCGA-KIRP_DE',\n",
       " '/home/alva/Documents/lncRNAs_project_2020/Analysis_2021/DNA_methy_tcga/meth/de/lncRNA_0.58_TCGA-HNSC_DE',\n",
       " '/home/alva/Documents/lncRNAs_project_2020/Analysis_2021/DNA_methy_tcga/meth/de/lncRNA_0.58_TCGA-KICH_DE',\n",
       " '/home/alva/Documents/lncRNAs_project_2020/Analysis_2021/DNA_methy_tcga/meth/de/lncRNA_0.58_TCGA-BRCA_DE',\n",
       " '/home/alva/Documents/lncRNAs_project_2020/Analysis_2021/DNA_methy_tcga/meth/de/lncRNA_0.58_TCGA-PRAD_DE',\n",
       " '/home/alva/Documents/lncRNAs_project_2020/Analysis_2021/DNA_methy_tcga/meth/de/lncRNA_0.58_TCGA-ESCA_DE',\n",
       " '/home/alva/Documents/lncRNAs_project_2020/Analysis_2021/DNA_methy_tcga/meth/de/lncRNA_0.58_TCGA-LUAD_DE',\n",
       " '/home/alva/Documents/lncRNAs_project_2020/Analysis_2021/DNA_methy_tcga/meth/de/lncRNA_0.58_TCGA-LUSC_DE',\n",
       " '/home/alva/Documents/lncRNAs_project_2020/Analysis_2021/DNA_methy_tcga/meth/de/lncRNA_0.58_TCGA-STAD_DE',\n",
       " '/home/alva/Documents/lncRNAs_project_2020/Analysis_2021/DNA_methy_tcga/meth/de/lncRNA_0.58_TCGA-THCA_DE',\n",
       " '/home/alva/Documents/lncRNAs_project_2020/Analysis_2021/DNA_methy_tcga/meth/de/lncRNA_0.58_TCGA-LIHC_DE',\n",
       " '/home/alva/Documents/lncRNAs_project_2020/Analysis_2021/DNA_methy_tcga/meth/de/lncRNA_0.58_TCGA-COAD_DE',\n",
       " '/home/alva/Documents/lncRNAs_project_2020/Analysis_2021/DNA_methy_tcga/meth/de/lncRNA_0.58_TCGA-KIRC_DE',\n",
       " '/home/alva/Documents/lncRNAs_project_2020/Analysis_2021/DNA_methy_tcga/meth/de/lncRNA_0.58_TCGA-PAAD_DE']"
      ]
     },
     "execution_count": 13,
     "metadata": {},
     "output_type": "execute_result"
    }
   ],
   "source": [
    "results"
   ]
  },
  {
   "cell_type": "code",
   "execution_count": 3,
   "id": "moral-pattern",
   "metadata": {},
   "outputs": [],
   "source": [
    "DE_lncRNAs_count = pd.read_csv(path + \"/DE_lncRNAs_count\", sep=\"\\t\", header=0,skipinitialspace=True)\n",
    "DE_lncRNAs_count['cancer'] = DE_lncRNAs_count['cancer'].apply(lambda x:x.split('-')[1])\n",
    "DE_lncRNAs_count['cancer'] = DE_lncRNAs_count['cancer'].apply(lambda x:x.split('_')[0])\n",
    "DE_lncRNAs_count=DE_lncRNAs_count.sort_values(['count']).reset_index(drop=True)"
   ]
  },
  {
   "cell_type": "code",
   "execution_count": 4,
   "id": "herbal-hello",
   "metadata": {
    "collapsed": true
   },
   "outputs": [
    {
     "data": {
      "text/plain": [
       "[Text(0.5, 0, 'Number of DE lncRNAs'), Text(0, 0.5, 'TCGA cancer')]"
      ]
     },
     "execution_count": 4,
     "metadata": {},
     "output_type": "execute_result"
    },
    {
     "data": {
      "image/png": "[encoded data removed]",
      "text/plain": [
       "<Figure size 432x288 with 1 Axes>"
      ]
     },
     "metadata": {
      "needs_background": "light"
     },
     "output_type": "display_data"
    }
   ],
   "source": [
    "ax = sns.barplot(x=\"count\", y=\"cancer\", data=DE_lncRNAs_count)\n",
    "ax.set(xlabel= \"Number of DE lncRNAs\", ylabel='TCGA cancer')"
   ]
  },
  {
   "cell_type": "code",
   "execution_count": 5,
   "id": "constitutional-thompson",
   "metadata": {},
   "outputs": [],
   "source": [
    "dfs =list()\n",
    "final_df = pd.DataFrame()\n",
    "for lncde in results:\n",
    "    name = os.path.basename(os.path.normpath(lncde))\n",
    "    df   = pd.read_csv(lncde, sep='\\t',header=0,skipinitialspace=True,usecols=[\"external_gene_name\",\"logFC\",\"P.Value\"])\n",
    "    df.drop_duplicates(inplace=True)\n",
    "    df['filename'] = name\n",
    "    df_gene = df[[\"external_gene_name\",\"filename\",\"logFC\",\"P.Value\"]]\n",
    "    #print(\"Reading file: {}\".format(os.path.basename(os.path.normpath(lncde))))\n",
    "    dfs.append(df_gene)\n",
    "    frame=pd.concat(dfs,ignore_index=True,axis=0)\n",
    "frame['filename']=frame['filename'].apply(lambda x:x.split('_')[2])"
   ]
  },
  {
   "cell_type": "code",
   "execution_count": 7,
   "id": "nasty-activity",
   "metadata": {},
   "outputs": [
    {
     "ename": "NameError",
     "evalue": "name 'df' is not defined",
     "output_type": "error",
     "traceback": [
      "\u001b[0;31m---------------------------------------------------------------------------\u001b[0m",
      "\u001b[0;31mNameError\u001b[0m                                 Traceback (most recent call last)",
      "\u001b[0;32m<ipython-input-7-00cf07b74dcd>\u001b[0m in \u001b[0;36m<module>\u001b[0;34m\u001b[0m\n\u001b[0;32m----> 1\u001b[0;31m \u001b[0mdf\u001b[0m\u001b[0;34m\u001b[0m\u001b[0;34m\u001b[0m\u001b[0m\n\u001b[0m",
      "\u001b[0;31mNameError\u001b[0m: name 'df' is not defined"
     ]
    }
   ],
   "source": [
    "df"
   ]
  },
  {
   "cell_type": "code",
   "execution_count": 17,
   "id": "matched-communication",
   "metadata": {},
   "outputs": [],
   "source": [
    "commn_de_drug_tar_distance =pd.read_csv(\"/home/alva/Documents/lncRNAs_project_2020/Analysis_2021/Drug_targets/BRCA_DE_closetodrugtargets\",sep='\\t',header=0)\n",
    "commn_de_drug_tar_distance_100k=commn_de_drug_tar_distance.query('Distance<=10000')"
   ]
  },
  {
   "cell_type": "code",
   "execution_count": 22,
   "id": "substantial-apple",
   "metadata": {},
   "outputs": [
    {
     "data": {
      "text/html": [
       "<div>\n",
       "<style scoped>\n",
       "    .dataframe tbody tr th:only-of-type {\n",
       "        vertical-align: middle;\n",
       "    }\n",
       "\n",
       "    .dataframe tbody tr th {\n",
       "        vertical-align: top;\n",
       "    }\n",
       "\n",
       "    .dataframe thead th {\n",
       "        text-align: right;\n",
       "    }\n",
       "</style>\n",
       "<table border=\"1\" class=\"dataframe\">\n",
       "  <thead>\n",
       "    <tr style=\"text-align: right;\">\n",
       "      <th></th>\n",
       "      <th>chr</th>\n",
       "      <th>start</th>\n",
       "      <th>end</th>\n",
       "      <th>gene_sym_lncNRAs</th>\n",
       "      <th>chr.1</th>\n",
       "      <th>start.1</th>\n",
       "      <th>end.1</th>\n",
       "      <th>Gene_sym</th>\n",
       "      <th>Distance</th>\n",
       "    </tr>\n",
       "  </thead>\n",
       "  <tbody>\n",
       "    <tr>\n",
       "      <th>128</th>\n",
       "      <td>1</td>\n",
       "      <td>64972225</td>\n",
       "      <td>65002489</td>\n",
       "      <td>LINC01359</td>\n",
       "      <td>1</td>\n",
       "      <td>64833229</td>\n",
       "      <td>64966549</td>\n",
       "      <td>JAK1</td>\n",
       "      <td>5677</td>\n",
       "    </tr>\n",
       "    <tr>\n",
       "      <th>129</th>\n",
       "      <td>1</td>\n",
       "      <td>64972225</td>\n",
       "      <td>65002489</td>\n",
       "      <td>LINC01359</td>\n",
       "      <td>1</td>\n",
       "      <td>64833229</td>\n",
       "      <td>64966549</td>\n",
       "      <td>JAK1</td>\n",
       "      <td>5677</td>\n",
       "    </tr>\n",
       "    <tr>\n",
       "      <th>130</th>\n",
       "      <td>1</td>\n",
       "      <td>64972225</td>\n",
       "      <td>65002489</td>\n",
       "      <td>LINC01359</td>\n",
       "      <td>1</td>\n",
       "      <td>64833229</td>\n",
       "      <td>64966549</td>\n",
       "      <td>JAK1</td>\n",
       "      <td>5677</td>\n",
       "    </tr>\n",
       "  </tbody>\n",
       "</table>\n",
       "</div>"
      ],
      "text/plain": [
       "    chr     start       end gene_sym_lncNRAs chr.1   start.1     end.1  \\\n",
       "128   1  64972225  65002489        LINC01359     1  64833229  64966549   \n",
       "129   1  64972225  65002489        LINC01359     1  64833229  64966549   \n",
       "130   1  64972225  65002489        LINC01359     1  64833229  64966549   \n",
       "\n",
       "    Gene_sym  Distance  \n",
       "128     JAK1      5677  \n",
       "129     JAK1      5677  \n",
       "130     JAK1      5677  "
      ]
     },
     "execution_count": 22,
     "metadata": {},
     "output_type": "execute_result"
    }
   ],
   "source": [
    "commn_de_drug_tar_distance_100k.query('Gene_sym ==\"JAK1\"')"
   ]
  },
  {
   "cell_type": "code",
   "execution_count": 16,
   "id": "decreased-knight",
   "metadata": {},
   "outputs": [],
   "source": [
    "dfs      = list()\n",
    "final_df = pd.DataFrame()\n",
    "for lncde in results:\n",
    "    name = os.path.basename(os.path.normpath(lncde))\n",
    "    df   = pd.read_csv(lncde, sep='\\t',header=0,skipinitialspace=True,usecols =[\"AveExpr\",\"external_gene_name\"])\n",
    "    df['filename'] = name\n",
    "    #df.drop([\"gene_id\",\"logFC\",\"chr\",\"start\",\"end\",\"adj_pval\",\"P.Value\",\"AveExpr\",\"gene_sym\"], inplace = True,axis=1)\n",
    "    dfs.append(df)\n",
    "avexp=pd.concat(dfs)"
   ]
  },
  {
   "cell_type": "code",
   "execution_count": 21,
   "id": "independent-consumption",
   "metadata": {},
   "outputs": [],
   "source": [
    "avexp.rename(columns={'external_gene_name':'gene_sym'},inplace=True)"
   ]
  },
  {
   "cell_type": "code",
   "execution_count": 22,
   "id": "sticky-nirvana",
   "metadata": {},
   "outputs": [],
   "source": [
    "Triplex_genes_close_totripleDE_lncRNAs = pd.read_csv('/home/alva/Documents/lncRNAs_project_2020/Analysis_2021/DNA_methy_tcga/meth/matrix/Genes_close_totriplex_delncRNAs',sep ='\\t',header=0)\n",
    "Triplex_genes_close_totripleDE_lncRNAs.head()\n",
    "cis_triplex_DNA_lncRNAs                =Triplex_genes_close_totripleDE_lncRNAs.query('Distance<=100000')\n",
    "lncRNAs=pd.DataFrame(Triplex_genes_close_totripleDE_lncRNAs['end'])\n",
    "lncRNAs.reset_index(inplace =True)\n",
    "lncRNAs.drop('index',inplace =True,axis=1)\n",
    "lncRNAs.rename(columns={'end':'gene_sym'},inplace=True)"
   ]
  },
  {
   "cell_type": "code",
   "execution_count": 5,
   "id": "ordered-silly",
   "metadata": {
    "collapsed": true
   },
   "outputs": [
    {
     "ename": "NameError",
     "evalue": "name 'avexp' is not defined",
     "output_type": "error",
     "traceback": [
      "\u001b[0;31m---------------------------------------------------------------------------\u001b[0m",
      "\u001b[0;31mNameError\u001b[0m                                 Traceback (most recent call last)",
      "\u001b[0;32m<ipython-input-5-3424e9cee6e9>\u001b[0m in \u001b[0;36m<module>\u001b[0;34m\u001b[0m\n\u001b[0;32m----> 1\u001b[0;31m \u001b[0mavexp_de_triplex\u001b[0m \u001b[0;34m=\u001b[0m\u001b[0mpd\u001b[0m\u001b[0;34m.\u001b[0m\u001b[0mmerge\u001b[0m\u001b[0;34m(\u001b[0m\u001b[0mavexp\u001b[0m\u001b[0;34m,\u001b[0m\u001b[0mlncRNAs\u001b[0m\u001b[0;34m,\u001b[0m \u001b[0mon\u001b[0m\u001b[0;34m=\u001b[0m\u001b[0;34m'gene_sym'\u001b[0m\u001b[0;34m)\u001b[0m\u001b[0;34m\u001b[0m\u001b[0;34m\u001b[0m\u001b[0m\n\u001b[0m\u001b[1;32m      2\u001b[0m \u001b[0mavexp_de_triplex\u001b[0m\u001b[0;34m[\u001b[0m\u001b[0;34m'filename'\u001b[0m\u001b[0;34m]\u001b[0m\u001b[0;34m=\u001b[0m\u001b[0mavexp_de_triplex\u001b[0m\u001b[0;34m[\u001b[0m\u001b[0;34m'filename'\u001b[0m\u001b[0;34m]\u001b[0m\u001b[0;34m.\u001b[0m\u001b[0mapply\u001b[0m\u001b[0;34m(\u001b[0m\u001b[0;32mlambda\u001b[0m \u001b[0mx\u001b[0m\u001b[0;34m:\u001b[0m\u001b[0mx\u001b[0m\u001b[0;34m.\u001b[0m\u001b[0msplit\u001b[0m\u001b[0;34m(\u001b[0m\u001b[0;34m'-'\u001b[0m\u001b[0;34m)\u001b[0m\u001b[0;34m[\u001b[0m\u001b[0;36m1\u001b[0m\u001b[0;34m]\u001b[0m\u001b[0;34m)\u001b[0m\u001b[0;34m\u001b[0m\u001b[0;34m\u001b[0m\u001b[0m\n\u001b[1;32m      3\u001b[0m \u001b[0mavexp_de_triplex\u001b[0m\u001b[0;34m[\u001b[0m\u001b[0;34m'filename'\u001b[0m\u001b[0;34m]\u001b[0m\u001b[0;34m=\u001b[0m\u001b[0mavexp_de_triplex\u001b[0m\u001b[0;34m[\u001b[0m\u001b[0;34m'filename'\u001b[0m\u001b[0;34m]\u001b[0m\u001b[0;34m.\u001b[0m\u001b[0mapply\u001b[0m\u001b[0;34m(\u001b[0m\u001b[0;32mlambda\u001b[0m \u001b[0mx\u001b[0m\u001b[0;34m:\u001b[0m\u001b[0mx\u001b[0m\u001b[0;34m.\u001b[0m\u001b[0msplit\u001b[0m\u001b[0;34m(\u001b[0m\u001b[0;34m'_'\u001b[0m\u001b[0;34m)\u001b[0m\u001b[0;34m[\u001b[0m\u001b[0;36m0\u001b[0m\u001b[0;34m]\u001b[0m\u001b[0;34m)\u001b[0m\u001b[0;34m\u001b[0m\u001b[0;34m\u001b[0m\u001b[0m\n",
      "\u001b[0;31mNameError\u001b[0m: name 'avexp' is not defined"
     ]
    }
   ],
   "source": [
    "avexp_de_triplex =pd.merge(avexp,lncRNAs, on='gene_sym')\n",
    "avexp_de_triplex['filename']=avexp_de_triplex['filename'].apply(lambda x:x.split('-')[1])\n",
    "avexp_de_triplex['filename']=avexp_de_triplex['filename'].apply(lambda x:x.split('_')[0])"
   ]
  },
  {
   "cell_type": "code",
   "execution_count": 48,
   "id": "weird-bosnia",
   "metadata": {},
   "outputs": [
    {
     "data": {
      "text/plain": [
       "(2427, 3)"
      ]
     },
     "execution_count": 48,
     "metadata": {},
     "output_type": "execute_result"
    }
   ],
   "source": [
    "avexp_de_triplex"
   ]
  },
  {
   "cell_type": "code",
   "execution_count": 35,
   "id": "fallen-threshold",
   "metadata": {
    "scrolled": true
   },
   "outputs": [],
   "source": [
    "avexp_de_triplex.rename(columns={'filename':'sample','gene_sym':'Gene'},inplace=True)"
   ]
  },
  {
   "cell_type": "code",
   "execution_count": 4,
   "id": "maritime-limitation",
   "metadata": {
    "collapsed": true
   },
   "outputs": [
    {
     "ename": "NameError",
     "evalue": "name 'avexp_de_triplex' is not defined",
     "output_type": "error",
     "traceback": [
      "\u001b[0;31m---------------------------------------------------------------------------\u001b[0m",
      "\u001b[0;31mNameError\u001b[0m                                 Traceback (most recent call last)",
      "\u001b[0;32m<ipython-input-4-1c03a41c43a7>\u001b[0m in \u001b[0;36m<module>\u001b[0;34m\u001b[0m\n\u001b[1;32m      1\u001b[0m \u001b[0mpromoter_meth_lncRNAs\u001b[0m\u001b[0;34m=\u001b[0m\u001b[0mpd\u001b[0m\u001b[0;34m.\u001b[0m\u001b[0mread_csv\u001b[0m\u001b[0;34m(\u001b[0m\u001b[0;34m'/home/alva/Documents/lncRNAs_project_2020/Analysis_2021/DNA_methy_tcga/meth/de/promoter_methylated_lncRNAs'\u001b[0m\u001b[0;34m,\u001b[0m\u001b[0msep\u001b[0m\u001b[0;34m=\u001b[0m\u001b[0;34m'\\t'\u001b[0m\u001b[0;34m,\u001b[0m\u001b[0mheader\u001b[0m\u001b[0;34m=\u001b[0m\u001b[0;36m0\u001b[0m\u001b[0;34m)\u001b[0m\u001b[0;34m\u001b[0m\u001b[0;34m\u001b[0m\u001b[0m\n\u001b[0;32m----> 2\u001b[0;31m \u001b[0mpromoter_meth_lncRNAs_avexp\u001b[0m\u001b[0;34m=\u001b[0m\u001b[0mpd\u001b[0m\u001b[0;34m.\u001b[0m\u001b[0mmerge\u001b[0m\u001b[0;34m(\u001b[0m\u001b[0mpromoter_meth_lncRNAs\u001b[0m\u001b[0;34m[\u001b[0m\u001b[0;34m[\u001b[0m\u001b[0;34m\"Gene\"\u001b[0m\u001b[0;34m,\u001b[0m\u001b[0;34m\"Corr_Coeff\"\u001b[0m\u001b[0;34m,\u001b[0m\u001b[0;34m\"Meth_Mean\"\u001b[0m\u001b[0;34m,\u001b[0m\u001b[0;34m\"sample\"\u001b[0m\u001b[0;34m]\u001b[0m\u001b[0;34m]\u001b[0m\u001b[0;34m,\u001b[0m\u001b[0mavexp_de_triplex\u001b[0m\u001b[0;34m,\u001b[0m\u001b[0mon\u001b[0m\u001b[0;34m=\u001b[0m\u001b[0;34m[\u001b[0m\u001b[0;34m'sample'\u001b[0m\u001b[0;34m,\u001b[0m\u001b[0;34m'Gene'\u001b[0m\u001b[0;34m]\u001b[0m\u001b[0;34m)\u001b[0m\u001b[0;34m\u001b[0m\u001b[0;34m\u001b[0m\u001b[0m\n\u001b[0m\u001b[1;32m      3\u001b[0m \u001b[0mpromoter_meth_lncRNAs_avexp\u001b[0m\u001b[0;34m.\u001b[0m\u001b[0mdrop_duplicates\u001b[0m\u001b[0;34m(\u001b[0m\u001b[0minplace\u001b[0m\u001b[0;34m=\u001b[0m\u001b[0;32mTrue\u001b[0m\u001b[0;34m)\u001b[0m\u001b[0;34m\u001b[0m\u001b[0;34m\u001b[0m\u001b[0m\n",
      "\u001b[0;31mNameError\u001b[0m: name 'avexp_de_triplex' is not defined"
     ]
    }
   ],
   "source": [
    "promoter_meth_lncRNAs=pd.read_csv('/home/alva/Documents/lncRNAs_project_2020/Analysis_2021/DNA_methy_tcga/meth/de/promoter_methylated_lncRNAs',sep='\\t',header=0)\n",
    "promoter_meth_lncRNAs_avexp=pd.merge(promoter_meth_lncRNAs[[\"Gene\",\"Corr_Coeff\",\"Meth_Mean\",\"sample\"]],avexp_de_triplex,on=['sample','Gene'])\n",
    "promoter_meth_lncRNAs_avexp.drop_duplicates(inplace=True)"
   ]
  },
  {
   "cell_type": "code",
   "execution_count": 8,
   "id": "quiet-klein",
   "metadata": {},
   "outputs": [
    {
     "data": {
      "text/plain": [
       "(12,)"
      ]
     },
     "execution_count": 8,
     "metadata": {},
     "output_type": "execute_result"
    }
   ],
   "source": [
    "promoter_meth_lncRNAs.Gene.drop_duplicates().shape"
   ]
  },
  {
   "cell_type": "code",
   "execution_count": 45,
   "id": "quiet-repair",
   "metadata": {
    "collapsed": true
   },
   "outputs": [
    {
     "data": {
      "text/html": [
       "<div>\n",
       "<style scoped>\n",
       "    .dataframe tbody tr th:only-of-type {\n",
       "        vertical-align: middle;\n",
       "    }\n",
       "\n",
       "    .dataframe tbody tr th {\n",
       "        vertical-align: top;\n",
       "    }\n",
       "\n",
       "    .dataframe thead th {\n",
       "        text-align: right;\n",
       "    }\n",
       "</style>\n",
       "<table border=\"1\" class=\"dataframe\">\n",
       "  <thead>\n",
       "    <tr style=\"text-align: right;\">\n",
       "      <th></th>\n",
       "      <th>Gene</th>\n",
       "      <th>Corr_Coeff</th>\n",
       "      <th>Meth_Mean</th>\n",
       "      <th>sample</th>\n",
       "      <th>AveExpr</th>\n",
       "    </tr>\n",
       "  </thead>\n",
       "  <tbody>\n",
       "    <tr>\n",
       "      <th>0</th>\n",
       "      <td>PVT1</td>\n",
       "      <td>-0.506700</td>\n",
       "      <td>0.270403</td>\n",
       "      <td>COAD</td>\n",
       "      <td>3.621140</td>\n",
       "    </tr>\n",
       "    <tr>\n",
       "      <th>2</th>\n",
       "      <td>PVT1</td>\n",
       "      <td>-0.743700</td>\n",
       "      <td>0.527601</td>\n",
       "      <td>LIHC</td>\n",
       "      <td>1.349159</td>\n",
       "    </tr>\n",
       "    <tr>\n",
       "      <th>4</th>\n",
       "      <td>PVT1</td>\n",
       "      <td>-0.647800</td>\n",
       "      <td>0.282321</td>\n",
       "      <td>LUSC</td>\n",
       "      <td>3.694038</td>\n",
       "    </tr>\n",
       "    <tr>\n",
       "      <th>6</th>\n",
       "      <td>PVT1</td>\n",
       "      <td>-0.574800</td>\n",
       "      <td>0.336624</td>\n",
       "      <td>LUAD</td>\n",
       "      <td>3.324109</td>\n",
       "    </tr>\n",
       "    <tr>\n",
       "      <th>8</th>\n",
       "      <td>PVT1</td>\n",
       "      <td>-0.615000</td>\n",
       "      <td>0.337770</td>\n",
       "      <td>PRAD</td>\n",
       "      <td>3.434827</td>\n",
       "    </tr>\n",
       "    <tr>\n",
       "      <th>10</th>\n",
       "      <td>PVT1</td>\n",
       "      <td>-0.768842</td>\n",
       "      <td>0.589155</td>\n",
       "      <td>KIRP</td>\n",
       "      <td>1.872391</td>\n",
       "    </tr>\n",
       "    <tr>\n",
       "      <th>12</th>\n",
       "      <td>PVT1</td>\n",
       "      <td>-0.608100</td>\n",
       "      <td>0.255606</td>\n",
       "      <td>BRCA</td>\n",
       "      <td>3.895351</td>\n",
       "    </tr>\n",
       "    <tr>\n",
       "      <th>14</th>\n",
       "      <td>SNHG12</td>\n",
       "      <td>-0.197600</td>\n",
       "      <td>0.047067</td>\n",
       "      <td>COAD</td>\n",
       "      <td>3.833405</td>\n",
       "    </tr>\n",
       "    <tr>\n",
       "      <th>15</th>\n",
       "      <td>SNHG12</td>\n",
       "      <td>-0.311300</td>\n",
       "      <td>0.043600</td>\n",
       "      <td>LUAD</td>\n",
       "      <td>3.768668</td>\n",
       "    </tr>\n",
       "    <tr>\n",
       "      <th>16</th>\n",
       "      <td>HOTAIR</td>\n",
       "      <td>-0.092920</td>\n",
       "      <td>0.519963</td>\n",
       "      <td>COAD</td>\n",
       "      <td>-3.440762</td>\n",
       "    </tr>\n",
       "    <tr>\n",
       "      <th>19</th>\n",
       "      <td>HOTAIR</td>\n",
       "      <td>0.052030</td>\n",
       "      <td>0.520636</td>\n",
       "      <td>LUSC</td>\n",
       "      <td>-2.409670</td>\n",
       "    </tr>\n",
       "    <tr>\n",
       "      <th>22</th>\n",
       "      <td>HOTAIR</td>\n",
       "      <td>-0.371600</td>\n",
       "      <td>0.514185</td>\n",
       "      <td>STAD</td>\n",
       "      <td>-0.262770</td>\n",
       "    </tr>\n",
       "    <tr>\n",
       "      <th>25</th>\n",
       "      <td>HOTAIR</td>\n",
       "      <td>0.032560</td>\n",
       "      <td>0.670390</td>\n",
       "      <td>KICH</td>\n",
       "      <td>-2.037780</td>\n",
       "    </tr>\n",
       "    <tr>\n",
       "      <th>28</th>\n",
       "      <td>HOTAIR</td>\n",
       "      <td>-0.097960</td>\n",
       "      <td>0.601858</td>\n",
       "      <td>KIRC</td>\n",
       "      <td>-0.565478</td>\n",
       "    </tr>\n",
       "    <tr>\n",
       "      <th>31</th>\n",
       "      <td>HOTAIR</td>\n",
       "      <td>0.279702</td>\n",
       "      <td>0.520013</td>\n",
       "      <td>HNSC</td>\n",
       "      <td>-2.160803</td>\n",
       "    </tr>\n",
       "    <tr>\n",
       "      <th>34</th>\n",
       "      <td>HOTAIR</td>\n",
       "      <td>-0.669100</td>\n",
       "      <td>0.479077</td>\n",
       "      <td>BRCA</td>\n",
       "      <td>0.956323</td>\n",
       "    </tr>\n",
       "    <tr>\n",
       "      <th>37</th>\n",
       "      <td>SNHG12</td>\n",
       "      <td>-0.434500</td>\n",
       "      <td>0.843309</td>\n",
       "      <td>LIHC</td>\n",
       "      <td>2.110083</td>\n",
       "    </tr>\n",
       "    <tr>\n",
       "      <th>38</th>\n",
       "      <td>SNHG12</td>\n",
       "      <td>-0.270800</td>\n",
       "      <td>0.581358</td>\n",
       "      <td>STAD</td>\n",
       "      <td>3.341566</td>\n",
       "    </tr>\n",
       "    <tr>\n",
       "      <th>39</th>\n",
       "      <td>SNHG12</td>\n",
       "      <td>-0.318700</td>\n",
       "      <td>0.054580</td>\n",
       "      <td>STAD</td>\n",
       "      <td>3.341566</td>\n",
       "    </tr>\n",
       "    <tr>\n",
       "      <th>40</th>\n",
       "      <td>SNHG12</td>\n",
       "      <td>-0.239107</td>\n",
       "      <td>0.673228</td>\n",
       "      <td>HNSC</td>\n",
       "      <td>3.035681</td>\n",
       "    </tr>\n",
       "    <tr>\n",
       "      <th>41</th>\n",
       "      <td>SNHG12</td>\n",
       "      <td>-0.448900</td>\n",
       "      <td>0.435707</td>\n",
       "      <td>LUSC</td>\n",
       "      <td>3.594579</td>\n",
       "    </tr>\n",
       "    <tr>\n",
       "      <th>42</th>\n",
       "      <td>SNHG12</td>\n",
       "      <td>-0.342100</td>\n",
       "      <td>0.408491</td>\n",
       "      <td>PRAD</td>\n",
       "      <td>2.991099</td>\n",
       "    </tr>\n",
       "    <tr>\n",
       "      <th>43</th>\n",
       "      <td>HOTAIR</td>\n",
       "      <td>0.445900</td>\n",
       "      <td>0.397383</td>\n",
       "      <td>LUAD</td>\n",
       "      <td>-3.453639</td>\n",
       "    </tr>\n",
       "    <tr>\n",
       "      <th>46</th>\n",
       "      <td>PVT1</td>\n",
       "      <td>-0.594000</td>\n",
       "      <td>0.518856</td>\n",
       "      <td>STAD</td>\n",
       "      <td>3.678301</td>\n",
       "    </tr>\n",
       "    <tr>\n",
       "      <th>48</th>\n",
       "      <td>PVT1</td>\n",
       "      <td>-0.054210</td>\n",
       "      <td>0.934754</td>\n",
       "      <td>STAD</td>\n",
       "      <td>3.678301</td>\n",
       "    </tr>\n",
       "    <tr>\n",
       "      <th>50</th>\n",
       "      <td>PVT1</td>\n",
       "      <td>-0.542800</td>\n",
       "      <td>0.517807</td>\n",
       "      <td>KIRC</td>\n",
       "      <td>3.340244</td>\n",
       "    </tr>\n",
       "    <tr>\n",
       "      <th>52</th>\n",
       "      <td>SNHG12</td>\n",
       "      <td>-0.317610</td>\n",
       "      <td>0.552378</td>\n",
       "      <td>KIRP</td>\n",
       "      <td>3.392052</td>\n",
       "    </tr>\n",
       "    <tr>\n",
       "      <th>53</th>\n",
       "      <td>HOTAIR</td>\n",
       "      <td>0.052777</td>\n",
       "      <td>0.519630</td>\n",
       "      <td>KIRP</td>\n",
       "      <td>0.349763</td>\n",
       "    </tr>\n",
       "    <tr>\n",
       "      <th>56</th>\n",
       "      <td>PVT1</td>\n",
       "      <td>-0.492900</td>\n",
       "      <td>0.403262</td>\n",
       "      <td>KICH</td>\n",
       "      <td>0.218386</td>\n",
       "    </tr>\n",
       "    <tr>\n",
       "      <th>58</th>\n",
       "      <td>SNHG12</td>\n",
       "      <td>-0.452300</td>\n",
       "      <td>0.687492</td>\n",
       "      <td>KIRC</td>\n",
       "      <td>3.278826</td>\n",
       "    </tr>\n",
       "    <tr>\n",
       "      <th>59</th>\n",
       "      <td>SNHG12</td>\n",
       "      <td>-0.049030</td>\n",
       "      <td>0.039527</td>\n",
       "      <td>KIRC</td>\n",
       "      <td>3.278826</td>\n",
       "    </tr>\n",
       "  </tbody>\n",
       "</table>\n",
       "</div>"
      ],
      "text/plain": [
       "      Gene  Corr_Coeff  Meth_Mean sample   AveExpr\n",
       "0     PVT1   -0.506700   0.270403   COAD  3.621140\n",
       "2     PVT1   -0.743700   0.527601   LIHC  1.349159\n",
       "4     PVT1   -0.647800   0.282321   LUSC  3.694038\n",
       "6     PVT1   -0.574800   0.336624   LUAD  3.324109\n",
       "8     PVT1   -0.615000   0.337770   PRAD  3.434827\n",
       "10    PVT1   -0.768842   0.589155   KIRP  1.872391\n",
       "12    PVT1   -0.608100   0.255606   BRCA  3.895351\n",
       "14  SNHG12   -0.197600   0.047067   COAD  3.833405\n",
       "15  SNHG12   -0.311300   0.043600   LUAD  3.768668\n",
       "16  HOTAIR   -0.092920   0.519963   COAD -3.440762\n",
       "19  HOTAIR    0.052030   0.520636   LUSC -2.409670\n",
       "22  HOTAIR   -0.371600   0.514185   STAD -0.262770\n",
       "25  HOTAIR    0.032560   0.670390   KICH -2.037780\n",
       "28  HOTAIR   -0.097960   0.601858   KIRC -0.565478\n",
       "31  HOTAIR    0.279702   0.520013   HNSC -2.160803\n",
       "34  HOTAIR   -0.669100   0.479077   BRCA  0.956323\n",
       "37  SNHG12   -0.434500   0.843309   LIHC  2.110083\n",
       "38  SNHG12   -0.270800   0.581358   STAD  3.341566\n",
       "39  SNHG12   -0.318700   0.054580   STAD  3.341566\n",
       "40  SNHG12   -0.239107   0.673228   HNSC  3.035681\n",
       "41  SNHG12   -0.448900   0.435707   LUSC  3.594579\n",
       "42  SNHG12   -0.342100   0.408491   PRAD  2.991099\n",
       "43  HOTAIR    0.445900   0.397383   LUAD -3.453639\n",
       "46    PVT1   -0.594000   0.518856   STAD  3.678301\n",
       "48    PVT1   -0.054210   0.934754   STAD  3.678301\n",
       "50    PVT1   -0.542800   0.517807   KIRC  3.340244\n",
       "52  SNHG12   -0.317610   0.552378   KIRP  3.392052\n",
       "53  HOTAIR    0.052777   0.519630   KIRP  0.349763\n",
       "56    PVT1   -0.492900   0.403262   KICH  0.218386\n",
       "58  SNHG12   -0.452300   0.687492   KIRC  3.278826\n",
       "59  SNHG12   -0.049030   0.039527   KIRC  3.278826"
      ]
     },
     "execution_count": 45,
     "metadata": {},
     "output_type": "execute_result"
    }
   ],
   "source": [
    "sns.barplot(x='sample', y='value', hue='variable', data=promoter_meth_lncRNAs_avexp)\n",
    "plt.xticks(rotation=90)\n",
    "plt.title('Methylation vs Expression');"
   ]
  },
  {
   "cell_type": "code",
   "execution_count": 6,
   "id": "italic-shopping",
   "metadata": {},
   "outputs": [],
   "source": [
    "df_merged = reduce(lambda  left,right: pd.merge(left,right,on=['external_gene_name'],\n",
    "                                            how='outer'), dfs)"
   ]
  },
  {
   "cell_type": "code",
   "execution_count": 7,
   "id": "defensive-beauty",
   "metadata": {},
   "outputs": [],
   "source": [
    "df_merged.to_csv('/home/alva/Documents/lncRNAs_project_2020/Analysis_2021/DNA_methy_tcga/meth/de/common_de_lncRNAs', sep='\\t',index=True)"
   ]
  },
  {
   "cell_type": "code",
   "execution_count": 46,
   "id": "primary-resident",
   "metadata": {
    "collapsed": true
   },
   "outputs": [
    {
     "ename": "KeyboardInterrupt",
     "evalue": "",
     "output_type": "error",
     "traceback": [
      "\u001b[0;31m---------------------------------------------------------------------------\u001b[0m",
      "\u001b[0;31mKeyboardInterrupt\u001b[0m                         Traceback (most recent call last)",
      "\u001b[0;32m<ipython-input-46-2fc26acf9f39>\u001b[0m in \u001b[0;36m<module>\u001b[0;34m\u001b[0m\n\u001b[1;32m      1\u001b[0m df_merged = reduce(lambda  left,right: pd.merge(left,right,on=['external_gene_name'],\n\u001b[0;32m----> 2\u001b[0;31m                                             how='outer'), dfs).fillna('void')\n\u001b[0m",
      "\u001b[0;32m~/anaconda3/lib/python3.7/site-packages/pandas/core/frame.py\u001b[0m in \u001b[0;36mfillna\u001b[0;34m(self, value, method, axis, inplace, limit, downcast)\u001b[0m\n\u001b[1;32m   4463\u001b[0m             \u001b[0minplace\u001b[0m\u001b[0;34m=\u001b[0m\u001b[0minplace\u001b[0m\u001b[0;34m,\u001b[0m\u001b[0;34m\u001b[0m\u001b[0;34m\u001b[0m\u001b[0m\n\u001b[1;32m   4464\u001b[0m             \u001b[0mlimit\u001b[0m\u001b[0;34m=\u001b[0m\u001b[0mlimit\u001b[0m\u001b[0;34m,\u001b[0m\u001b[0;34m\u001b[0m\u001b[0;34m\u001b[0m\u001b[0m\n\u001b[0;32m-> 4465\u001b[0;31m             \u001b[0mdowncast\u001b[0m\u001b[0;34m=\u001b[0m\u001b[0mdowncast\u001b[0m\u001b[0;34m,\u001b[0m\u001b[0;34m\u001b[0m\u001b[0;34m\u001b[0m\u001b[0m\n\u001b[0m\u001b[1;32m   4466\u001b[0m         )\n\u001b[1;32m   4467\u001b[0m \u001b[0;34m\u001b[0m\u001b[0m\n",
      "\u001b[0;32m~/anaconda3/lib/python3.7/site-packages/pandas/core/generic.py\u001b[0m in \u001b[0;36mfillna\u001b[0;34m(self, value, method, axis, inplace, limit, downcast)\u001b[0m\n\u001b[1;32m   6425\u001b[0m             \u001b[0;32melif\u001b[0m \u001b[0;32mnot\u001b[0m \u001b[0mis_list_like\u001b[0m\u001b[0;34m(\u001b[0m\u001b[0mvalue\u001b[0m\u001b[0;34m)\u001b[0m\u001b[0;34m:\u001b[0m\u001b[0;34m\u001b[0m\u001b[0;34m\u001b[0m\u001b[0m\n\u001b[1;32m   6426\u001b[0m                 new_data = self._mgr.fillna(\n\u001b[0;32m-> 6427\u001b[0;31m                     \u001b[0mvalue\u001b[0m\u001b[0;34m=\u001b[0m\u001b[0mvalue\u001b[0m\u001b[0;34m,\u001b[0m \u001b[0mlimit\u001b[0m\u001b[0;34m=\u001b[0m\u001b[0mlimit\u001b[0m\u001b[0;34m,\u001b[0m \u001b[0minplace\u001b[0m\u001b[0;34m=\u001b[0m\u001b[0minplace\u001b[0m\u001b[0;34m,\u001b[0m \u001b[0mdowncast\u001b[0m\u001b[0;34m=\u001b[0m\u001b[0mdowncast\u001b[0m\u001b[0;34m\u001b[0m\u001b[0;34m\u001b[0m\u001b[0m\n\u001b[0m\u001b[1;32m   6428\u001b[0m                 )\n\u001b[1;32m   6429\u001b[0m             \u001b[0;32melif\u001b[0m \u001b[0misinstance\u001b[0m\u001b[0;34m(\u001b[0m\u001b[0mvalue\u001b[0m\u001b[0;34m,\u001b[0m \u001b[0mABCDataFrame\u001b[0m\u001b[0;34m)\u001b[0m \u001b[0;32mand\u001b[0m \u001b[0mself\u001b[0m\u001b[0;34m.\u001b[0m\u001b[0mndim\u001b[0m \u001b[0;34m==\u001b[0m \u001b[0;36m2\u001b[0m\u001b[0;34m:\u001b[0m\u001b[0;34m\u001b[0m\u001b[0;34m\u001b[0m\u001b[0m\n",
      "\u001b[0;32m~/anaconda3/lib/python3.7/site-packages/pandas/core/internals/managers.py\u001b[0m in \u001b[0;36mfillna\u001b[0;34m(self, value, limit, inplace, downcast)\u001b[0m\n\u001b[1;32m    620\u001b[0m     \u001b[0;32mdef\u001b[0m \u001b[0mfillna\u001b[0m\u001b[0;34m(\u001b[0m\u001b[0mself\u001b[0m\u001b[0;34m,\u001b[0m \u001b[0mvalue\u001b[0m\u001b[0;34m,\u001b[0m \u001b[0mlimit\u001b[0m\u001b[0;34m,\u001b[0m \u001b[0minplace\u001b[0m\u001b[0;34m:\u001b[0m \u001b[0mbool\u001b[0m\u001b[0;34m,\u001b[0m \u001b[0mdowncast\u001b[0m\u001b[0;34m)\u001b[0m \u001b[0;34m->\u001b[0m \u001b[0;34m\"BlockManager\"\u001b[0m\u001b[0;34m:\u001b[0m\u001b[0;34m\u001b[0m\u001b[0;34m\u001b[0m\u001b[0m\n\u001b[1;32m    621\u001b[0m         return self.apply(\n\u001b[0;32m--> 622\u001b[0;31m             \u001b[0;34m\"fillna\"\u001b[0m\u001b[0;34m,\u001b[0m \u001b[0mvalue\u001b[0m\u001b[0;34m=\u001b[0m\u001b[0mvalue\u001b[0m\u001b[0;34m,\u001b[0m \u001b[0mlimit\u001b[0m\u001b[0;34m=\u001b[0m\u001b[0mlimit\u001b[0m\u001b[0;34m,\u001b[0m \u001b[0minplace\u001b[0m\u001b[0;34m=\u001b[0m\u001b[0minplace\u001b[0m\u001b[0;34m,\u001b[0m \u001b[0mdowncast\u001b[0m\u001b[0;34m=\u001b[0m\u001b[0mdowncast\u001b[0m\u001b[0;34m\u001b[0m\u001b[0;34m\u001b[0m\u001b[0m\n\u001b[0m\u001b[1;32m    623\u001b[0m         )\n\u001b[1;32m    624\u001b[0m \u001b[0;34m\u001b[0m\u001b[0m\n",
      "\u001b[0;32m~/anaconda3/lib/python3.7/site-packages/pandas/core/internals/managers.py\u001b[0m in \u001b[0;36mapply\u001b[0;34m(self, f, align_keys, ignore_failures, **kwargs)\u001b[0m\n\u001b[1;32m    425\u001b[0m                     \u001b[0mapplied\u001b[0m \u001b[0;34m=\u001b[0m \u001b[0mb\u001b[0m\u001b[0;34m.\u001b[0m\u001b[0mapply\u001b[0m\u001b[0;34m(\u001b[0m\u001b[0mf\u001b[0m\u001b[0;34m,\u001b[0m \u001b[0;34m**\u001b[0m\u001b[0mkwargs\u001b[0m\u001b[0;34m)\u001b[0m\u001b[0;34m\u001b[0m\u001b[0;34m\u001b[0m\u001b[0m\n\u001b[1;32m    426\u001b[0m                 \u001b[0;32melse\u001b[0m\u001b[0;34m:\u001b[0m\u001b[0;34m\u001b[0m\u001b[0;34m\u001b[0m\u001b[0m\n\u001b[0;32m--> 427\u001b[0;31m                     \u001b[0mapplied\u001b[0m \u001b[0;34m=\u001b[0m \u001b[0mgetattr\u001b[0m\u001b[0;34m(\u001b[0m\u001b[0mb\u001b[0m\u001b[0;34m,\u001b[0m \u001b[0mf\u001b[0m\u001b[0;34m)\u001b[0m\u001b[0;34m(\u001b[0m\u001b[0;34m**\u001b[0m\u001b[0mkwargs\u001b[0m\u001b[0;34m)\u001b[0m\u001b[0;34m\u001b[0m\u001b[0;34m\u001b[0m\u001b[0m\n\u001b[0m\u001b[1;32m    428\u001b[0m             \u001b[0;32mexcept\u001b[0m \u001b[0;34m(\u001b[0m\u001b[0mTypeError\u001b[0m\u001b[0;34m,\u001b[0m \u001b[0mNotImplementedError\u001b[0m\u001b[0;34m)\u001b[0m\u001b[0;34m:\u001b[0m\u001b[0;34m\u001b[0m\u001b[0;34m\u001b[0m\u001b[0m\n\u001b[1;32m    429\u001b[0m                 \u001b[0;32mif\u001b[0m \u001b[0;32mnot\u001b[0m \u001b[0mignore_failures\u001b[0m\u001b[0;34m:\u001b[0m\u001b[0;34m\u001b[0m\u001b[0;34m\u001b[0m\u001b[0m\n",
      "\u001b[0;32m~/anaconda3/lib/python3.7/site-packages/pandas/core/internals/blocks.py\u001b[0m in \u001b[0;36mfillna\u001b[0;34m(self, value, limit, inplace, downcast)\u001b[0m\n\u001b[1;32m    459\u001b[0m             \u001b[0;32mreturn\u001b[0m \u001b[0mblock\u001b[0m\u001b[0;34m.\u001b[0m\u001b[0mfillna\u001b[0m\u001b[0;34m(\u001b[0m\u001b[0mvalue\u001b[0m\u001b[0;34m,\u001b[0m \u001b[0mlimit\u001b[0m\u001b[0;34m=\u001b[0m\u001b[0mlimit\u001b[0m\u001b[0;34m,\u001b[0m \u001b[0minplace\u001b[0m\u001b[0;34m=\u001b[0m\u001b[0minplace\u001b[0m\u001b[0;34m,\u001b[0m \u001b[0mdowncast\u001b[0m\u001b[0;34m=\u001b[0m\u001b[0;32mNone\u001b[0m\u001b[0;34m)\u001b[0m\u001b[0;34m\u001b[0m\u001b[0;34m\u001b[0m\u001b[0m\n\u001b[1;32m    460\u001b[0m \u001b[0;34m\u001b[0m\u001b[0m\n\u001b[0;32m--> 461\u001b[0;31m         \u001b[0;32mreturn\u001b[0m \u001b[0mself\u001b[0m\u001b[0;34m.\u001b[0m\u001b[0msplit_and_operate\u001b[0m\u001b[0;34m(\u001b[0m\u001b[0;32mNone\u001b[0m\u001b[0;34m,\u001b[0m \u001b[0mf\u001b[0m\u001b[0;34m,\u001b[0m \u001b[0minplace\u001b[0m\u001b[0;34m)\u001b[0m\u001b[0;34m\u001b[0m\u001b[0;34m\u001b[0m\u001b[0m\n\u001b[0m\u001b[1;32m    462\u001b[0m \u001b[0;34m\u001b[0m\u001b[0m\n\u001b[1;32m    463\u001b[0m     \u001b[0;32mdef\u001b[0m \u001b[0m_split\u001b[0m\u001b[0;34m(\u001b[0m\u001b[0mself\u001b[0m\u001b[0;34m)\u001b[0m \u001b[0;34m->\u001b[0m \u001b[0mList\u001b[0m\u001b[0;34m[\u001b[0m\u001b[0;34m\"Block\"\u001b[0m\u001b[0;34m]\u001b[0m\u001b[0;34m:\u001b[0m\u001b[0;34m\u001b[0m\u001b[0;34m\u001b[0m\u001b[0m\n",
      "\u001b[0;32m~/anaconda3/lib/python3.7/site-packages/pandas/core/internals/blocks.py\u001b[0m in \u001b[0;36msplit_and_operate\u001b[0;34m(self, mask, f, inplace, ignore_failures)\u001b[0m\n\u001b[1;32m    531\u001b[0m                 \u001b[0;31m#  reduction that is dropping nuisance columns GH#37827\u001b[0m\u001b[0;34m\u001b[0m\u001b[0;34m\u001b[0m\u001b[0;34m\u001b[0m\u001b[0m\n\u001b[1;32m    532\u001b[0m                 \u001b[0;32mtry\u001b[0m\u001b[0;34m:\u001b[0m\u001b[0;34m\u001b[0m\u001b[0;34m\u001b[0m\u001b[0m\n\u001b[0;32m--> 533\u001b[0;31m                     \u001b[0mnv\u001b[0m \u001b[0;34m=\u001b[0m \u001b[0mf\u001b[0m\u001b[0;34m(\u001b[0m\u001b[0mm\u001b[0m\u001b[0;34m,\u001b[0m \u001b[0mv\u001b[0m\u001b[0;34m,\u001b[0m \u001b[0mi\u001b[0m\u001b[0;34m)\u001b[0m\u001b[0;34m\u001b[0m\u001b[0;34m\u001b[0m\u001b[0m\n\u001b[0m\u001b[1;32m    534\u001b[0m                 \u001b[0;32mexcept\u001b[0m \u001b[0mTypeError\u001b[0m\u001b[0;34m:\u001b[0m\u001b[0;34m\u001b[0m\u001b[0;34m\u001b[0m\u001b[0m\n\u001b[1;32m    535\u001b[0m                     \u001b[0;32mif\u001b[0m \u001b[0mignore_failures\u001b[0m\u001b[0;34m:\u001b[0m\u001b[0;34m\u001b[0m\u001b[0;34m\u001b[0m\u001b[0m\n",
      "\u001b[0;32m~/anaconda3/lib/python3.7/site-packages/pandas/core/internals/blocks.py\u001b[0m in \u001b[0;36mf\u001b[0;34m(mask, val, idx)\u001b[0m\n\u001b[1;32m    451\u001b[0m         \u001b[0;31m# operate column-by-column\u001b[0m\u001b[0;34m\u001b[0m\u001b[0;34m\u001b[0m\u001b[0;34m\u001b[0m\u001b[0m\n\u001b[1;32m    452\u001b[0m         \u001b[0;32mdef\u001b[0m \u001b[0mf\u001b[0m\u001b[0;34m(\u001b[0m\u001b[0mmask\u001b[0m\u001b[0;34m,\u001b[0m \u001b[0mval\u001b[0m\u001b[0;34m,\u001b[0m \u001b[0midx\u001b[0m\u001b[0;34m)\u001b[0m\u001b[0;34m:\u001b[0m\u001b[0;34m\u001b[0m\u001b[0;34m\u001b[0m\u001b[0m\n\u001b[0;32m--> 453\u001b[0;31m             \u001b[0mblock\u001b[0m \u001b[0;34m=\u001b[0m \u001b[0mself\u001b[0m\u001b[0;34m.\u001b[0m\u001b[0mcoerce_to_target_dtype\u001b[0m\u001b[0;34m(\u001b[0m\u001b[0mvalue\u001b[0m\u001b[0;34m)\u001b[0m\u001b[0;34m\u001b[0m\u001b[0;34m\u001b[0m\u001b[0m\n\u001b[0m\u001b[1;32m    454\u001b[0m \u001b[0;34m\u001b[0m\u001b[0m\n\u001b[1;32m    455\u001b[0m             \u001b[0;31m# slice out our block\u001b[0m\u001b[0;34m\u001b[0m\u001b[0;34m\u001b[0m\u001b[0;34m\u001b[0m\u001b[0m\n",
      "\u001b[0;32m~/anaconda3/lib/python3.7/site-packages/pandas/core/internals/blocks.py\u001b[0m in \u001b[0;36mcoerce_to_target_dtype\u001b[0;34m(self, other)\u001b[0m\n\u001b[1;32m   1202\u001b[0m         \u001b[0;32mif\u001b[0m \u001b[0mself\u001b[0m\u001b[0;34m.\u001b[0m\u001b[0mis_bool\u001b[0m \u001b[0;32mor\u001b[0m \u001b[0mis_object_dtype\u001b[0m\u001b[0;34m(\u001b[0m\u001b[0mdtype\u001b[0m\u001b[0;34m)\u001b[0m \u001b[0;32mor\u001b[0m \u001b[0mis_bool_dtype\u001b[0m\u001b[0;34m(\u001b[0m\u001b[0mdtype\u001b[0m\u001b[0;34m)\u001b[0m\u001b[0;34m:\u001b[0m\u001b[0;34m\u001b[0m\u001b[0;34m\u001b[0m\u001b[0m\n\u001b[1;32m   1203\u001b[0m             \u001b[0;31m# we don't upcast to bool\u001b[0m\u001b[0;34m\u001b[0m\u001b[0;34m\u001b[0m\u001b[0;34m\u001b[0m\u001b[0m\n\u001b[0;32m-> 1204\u001b[0;31m             \u001b[0;32mreturn\u001b[0m \u001b[0mself\u001b[0m\u001b[0;34m.\u001b[0m\u001b[0mastype\u001b[0m\u001b[0;34m(\u001b[0m\u001b[0mobject\u001b[0m\u001b[0;34m)\u001b[0m\u001b[0;34m\u001b[0m\u001b[0;34m\u001b[0m\u001b[0m\n\u001b[0m\u001b[1;32m   1205\u001b[0m \u001b[0;34m\u001b[0m\u001b[0m\n\u001b[1;32m   1206\u001b[0m         elif (self.is_float or self.is_complex) and (\n",
      "\u001b[0;32m~/anaconda3/lib/python3.7/site-packages/pandas/core/internals/blocks.py\u001b[0m in \u001b[0;36mastype\u001b[0;34m(self, dtype, copy, errors)\u001b[0m\n\u001b[1;32m    666\u001b[0m \u001b[0;34m\u001b[0m\u001b[0m\n\u001b[1;32m    667\u001b[0m             \u001b[0;32melse\u001b[0m\u001b[0;34m:\u001b[0m\u001b[0;34m\u001b[0m\u001b[0;34m\u001b[0m\u001b[0m\n\u001b[0;32m--> 668\u001b[0;31m                 \u001b[0mvalues\u001b[0m \u001b[0;34m=\u001b[0m \u001b[0mself\u001b[0m\u001b[0;34m.\u001b[0m\u001b[0mget_values\u001b[0m\u001b[0;34m(\u001b[0m\u001b[0mdtype\u001b[0m\u001b[0;34m=\u001b[0m\u001b[0mdtype\u001b[0m\u001b[0;34m)\u001b[0m\u001b[0;34m\u001b[0m\u001b[0;34m\u001b[0m\u001b[0m\n\u001b[0m\u001b[1;32m    669\u001b[0m \u001b[0;34m\u001b[0m\u001b[0m\n\u001b[1;32m    670\u001b[0m             \u001b[0;31m# _astype_nansafe works fine with 1-d only\u001b[0m\u001b[0;34m\u001b[0m\u001b[0;34m\u001b[0m\u001b[0;34m\u001b[0m\u001b[0m\n",
      "\u001b[0;32m~/anaconda3/lib/python3.7/site-packages/pandas/core/internals/blocks.py\u001b[0m in \u001b[0;36mget_values\u001b[0;34m(self, dtype)\u001b[0m\n\u001b[1;32m    249\u001b[0m         \"\"\"\n\u001b[1;32m    250\u001b[0m         \u001b[0;32mif\u001b[0m \u001b[0mis_object_dtype\u001b[0m\u001b[0;34m(\u001b[0m\u001b[0mdtype\u001b[0m\u001b[0;34m)\u001b[0m\u001b[0;34m:\u001b[0m\u001b[0;34m\u001b[0m\u001b[0;34m\u001b[0m\u001b[0m\n\u001b[0;32m--> 251\u001b[0;31m             \u001b[0;32mreturn\u001b[0m \u001b[0mself\u001b[0m\u001b[0;34m.\u001b[0m\u001b[0mvalues\u001b[0m\u001b[0;34m.\u001b[0m\u001b[0mastype\u001b[0m\u001b[0;34m(\u001b[0m\u001b[0mobject\u001b[0m\u001b[0;34m)\u001b[0m\u001b[0;34m\u001b[0m\u001b[0;34m\u001b[0m\u001b[0m\n\u001b[0m\u001b[1;32m    252\u001b[0m         \u001b[0;32mreturn\u001b[0m \u001b[0mself\u001b[0m\u001b[0;34m.\u001b[0m\u001b[0mvalues\u001b[0m\u001b[0;34m\u001b[0m\u001b[0;34m\u001b[0m\u001b[0m\n\u001b[1;32m    253\u001b[0m \u001b[0;34m\u001b[0m\u001b[0m\n",
      "\u001b[0;31mKeyboardInterrupt\u001b[0m: "
     ]
    }
   ],
   "source": [
    "df_merged = reduce(lambda  left,right: pd.merge(left,right,on=['external_gene_name'],\n",
    "                                            how='outer'), dfs).fillna('void')"
   ]
  },
  {
   "cell_type": "code",
   "execution_count": 20,
   "id": "regional-balance",
   "metadata": {},
   "outputs": [],
   "source": [
    "triplex = pd.read_csv('/home/alva/Documents/lncRNAs_project_2020/Analysis_2021/DNA_methy_tcga/meth/de/tripleFPP_triplex_genecode',sep='\\t',header=0,skipinitialspace=True)\n",
    "triplex.rename(columns={'gene_sym_y':'external_gene_name'},inplace =True)\n",
    "triplex_common_de= pd.merge(df_merged, triplex[\"external_gene_name\"],on='external_gene_name')\n",
    "triplex_common_de.to_csv('/home/alva/Documents/lncRNAs_project_2020/Analysis_2021/DNA_methy_tcga/meth/de/common_de_lncRNAs_triplex', sep='\\t',index=False)"
   ]
  },
  {
   "cell_type": "code",
   "execution_count": 19,
   "id": "cultural-statement",
   "metadata": {
    "collapsed": true
   },
   "outputs": [
    {
     "data": {
      "text/html": [
       "<div>\n",
       "<style scoped>\n",
       "    .dataframe tbody tr th:only-of-type {\n",
       "        vertical-align: middle;\n",
       "    }\n",
       "\n",
       "    .dataframe tbody tr th {\n",
       "        vertical-align: top;\n",
       "    }\n",
       "\n",
       "    .dataframe thead th {\n",
       "        text-align: right;\n",
       "    }\n",
       "</style>\n",
       "<table border=\"1\" class=\"dataframe\">\n",
       "  <thead>\n",
       "    <tr style=\"text-align: right;\">\n",
       "      <th></th>\n",
       "      <th>external_gene_name</th>\n",
       "      <th>filename</th>\n",
       "      <th>logFC</th>\n",
       "      <th>count</th>\n",
       "    </tr>\n",
       "  </thead>\n",
       "  <tbody>\n",
       "    <tr>\n",
       "      <th>0</th>\n",
       "      <td>A1BG-AS1</td>\n",
       "      <td>TCGA-COAD</td>\n",
       "      <td>-1.277354</td>\n",
       "      <td>9</td>\n",
       "    </tr>\n",
       "    <tr>\n",
       "      <th>1</th>\n",
       "      <td>A1BG-AS1</td>\n",
       "      <td>TCGA-HNSC</td>\n",
       "      <td>0.988639</td>\n",
       "      <td>9</td>\n",
       "    </tr>\n",
       "    <tr>\n",
       "      <th>2</th>\n",
       "      <td>A1BG-AS1</td>\n",
       "      <td>TCGA-KICH</td>\n",
       "      <td>-1.049325</td>\n",
       "      <td>9</td>\n",
       "    </tr>\n",
       "    <tr>\n",
       "      <th>3</th>\n",
       "      <td>A1BG-AS1</td>\n",
       "      <td>TCGA-LIHC</td>\n",
       "      <td>-0.772376</td>\n",
       "      <td>9</td>\n",
       "    </tr>\n",
       "    <tr>\n",
       "      <th>4</th>\n",
       "      <td>A1BG-AS1</td>\n",
       "      <td>TCGA-LUAD</td>\n",
       "      <td>-0.581519</td>\n",
       "      <td>9</td>\n",
       "    </tr>\n",
       "    <tr>\n",
       "      <th>...</th>\n",
       "      <td>...</td>\n",
       "      <td>...</td>\n",
       "      <td>...</td>\n",
       "      <td>...</td>\n",
       "    </tr>\n",
       "    <tr>\n",
       "      <th>34494</th>\n",
       "      <td>ZSCAN16-AS1</td>\n",
       "      <td>TCGA-KIRC</td>\n",
       "      <td>-0.778585</td>\n",
       "      <td>5</td>\n",
       "    </tr>\n",
       "    <tr>\n",
       "      <th>34495</th>\n",
       "      <td>ZSCAN16-AS1</td>\n",
       "      <td>TCGA-LUAD</td>\n",
       "      <td>-0.642760</td>\n",
       "      <td>5</td>\n",
       "    </tr>\n",
       "    <tr>\n",
       "      <th>34496</th>\n",
       "      <td>ZSCAN16-AS1</td>\n",
       "      <td>TCGA-STAD</td>\n",
       "      <td>-1.000631</td>\n",
       "      <td>5</td>\n",
       "    </tr>\n",
       "    <tr>\n",
       "      <th>34497</th>\n",
       "      <td>ZSWIM8-AS1</td>\n",
       "      <td>TCGA-KIRC</td>\n",
       "      <td>1.300204</td>\n",
       "      <td>2</td>\n",
       "    </tr>\n",
       "    <tr>\n",
       "      <th>34498</th>\n",
       "      <td>ZSWIM8-AS1</td>\n",
       "      <td>TCGA-PRAD</td>\n",
       "      <td>0.690879</td>\n",
       "      <td>2</td>\n",
       "    </tr>\n",
       "  </tbody>\n",
       "</table>\n",
       "<p>34499 rows × 4 columns</p>\n",
       "</div>"
      ],
      "text/plain": [
       "      external_gene_name   filename     logFC  count\n",
       "0               A1BG-AS1  TCGA-COAD -1.277354      9\n",
       "1               A1BG-AS1  TCGA-HNSC  0.988639      9\n",
       "2               A1BG-AS1  TCGA-KICH -1.049325      9\n",
       "3               A1BG-AS1  TCGA-LIHC -0.772376      9\n",
       "4               A1BG-AS1  TCGA-LUAD -0.581519      9\n",
       "...                  ...        ...       ...    ...\n",
       "34494        ZSCAN16-AS1  TCGA-KIRC -0.778585      5\n",
       "34495        ZSCAN16-AS1  TCGA-LUAD -0.642760      5\n",
       "34496        ZSCAN16-AS1  TCGA-STAD -1.000631      5\n",
       "34497         ZSWIM8-AS1  TCGA-KIRC  1.300204      2\n",
       "34498         ZSWIM8-AS1  TCGA-PRAD  0.690879      2\n",
       "\n",
       "[34499 rows x 4 columns]"
      ]
     },
     "execution_count": 19,
     "metadata": {},
     "output_type": "execute_result"
    }
   ],
   "source": [
    "grouped_multiple"
   ]
  },
  {
   "cell_type": "code",
   "execution_count": 6,
   "id": "pending-proposition",
   "metadata": {},
   "outputs": [],
   "source": [
    "de_lncRNA_accross_cancers      =frame.groupby(['external_gene_name']).size()\n",
    "de_lncRNA_accross_cancers_count=de_lncRNA_accross_cancers.to_frame(name = 'size').reset_index()"
   ]
  },
  {
   "cell_type": "code",
   "execution_count": 7,
   "id": "involved-consensus",
   "metadata": {},
   "outputs": [],
   "source": [
    "# grouped_multiple.groupby([ 'external_gene_name' ]).agg({'count':'sum','filename':'count'})\n",
    "grouped_multiple = frame.groupby(['external_gene_name','filename','logFC','P.Value']).agg({'external_gene_name':'count'})\n",
    "grouped_multiple.rename(columns={'external_gene_name':'count'},inplace =True)\n",
    "grouped_multiple.reset_index(inplace =True)\n",
    "grouped_multiple['count']= grouped_multiple.groupby(['external_gene_name'])['filename'].transform('count')\n",
    "#lncRNAs_accross_cancer   = grouped_multiple.query('count >=5')"
   ]
  },
  {
   "cell_type": "code",
   "execution_count": 11,
   "id": "limiting-operation",
   "metadata": {
    "collapsed": true
   },
   "outputs": [
    {
     "data": {
      "text/html": [
       "<div>\n",
       "<style scoped>\n",
       "    .dataframe tbody tr th:only-of-type {\n",
       "        vertical-align: middle;\n",
       "    }\n",
       "\n",
       "    .dataframe tbody tr th {\n",
       "        vertical-align: top;\n",
       "    }\n",
       "\n",
       "    .dataframe thead th {\n",
       "        text-align: right;\n",
       "    }\n",
       "</style>\n",
       "<table border=\"1\" class=\"dataframe\">\n",
       "  <thead>\n",
       "    <tr style=\"text-align: right;\">\n",
       "      <th></th>\n",
       "      <th>external_gene_name</th>\n",
       "      <th>filename</th>\n",
       "      <th>logFC</th>\n",
       "      <th>P.Value</th>\n",
       "      <th>count</th>\n",
       "    </tr>\n",
       "  </thead>\n",
       "  <tbody>\n",
       "    <tr>\n",
       "      <th>0</th>\n",
       "      <td>A1BG-AS1</td>\n",
       "      <td>TCGA-COAD</td>\n",
       "      <td>-1.277354</td>\n",
       "      <td>4.240154e-15</td>\n",
       "      <td>9</td>\n",
       "    </tr>\n",
       "    <tr>\n",
       "      <th>1</th>\n",
       "      <td>A1BG-AS1</td>\n",
       "      <td>TCGA-HNSC</td>\n",
       "      <td>0.988639</td>\n",
       "      <td>9.614590e-06</td>\n",
       "      <td>9</td>\n",
       "    </tr>\n",
       "    <tr>\n",
       "      <th>2</th>\n",
       "      <td>A1BG-AS1</td>\n",
       "      <td>TCGA-KICH</td>\n",
       "      <td>-1.049325</td>\n",
       "      <td>1.151220e-03</td>\n",
       "      <td>9</td>\n",
       "    </tr>\n",
       "    <tr>\n",
       "      <th>3</th>\n",
       "      <td>A1BG-AS1</td>\n",
       "      <td>TCGA-LIHC</td>\n",
       "      <td>-0.772376</td>\n",
       "      <td>1.367678e-05</td>\n",
       "      <td>9</td>\n",
       "    </tr>\n",
       "    <tr>\n",
       "      <th>4</th>\n",
       "      <td>A1BG-AS1</td>\n",
       "      <td>TCGA-LUAD</td>\n",
       "      <td>-0.581519</td>\n",
       "      <td>1.148093e-04</td>\n",
       "      <td>9</td>\n",
       "    </tr>\n",
       "    <tr>\n",
       "      <th>...</th>\n",
       "      <td>...</td>\n",
       "      <td>...</td>\n",
       "      <td>...</td>\n",
       "      <td>...</td>\n",
       "      <td>...</td>\n",
       "    </tr>\n",
       "    <tr>\n",
       "      <th>34492</th>\n",
       "      <td>ZSCAN16-AS1</td>\n",
       "      <td>TCGA-COAD</td>\n",
       "      <td>-0.670712</td>\n",
       "      <td>4.475392e-09</td>\n",
       "      <td>5</td>\n",
       "    </tr>\n",
       "    <tr>\n",
       "      <th>34493</th>\n",
       "      <td>ZSCAN16-AS1</td>\n",
       "      <td>TCGA-KICH</td>\n",
       "      <td>-0.968157</td>\n",
       "      <td>1.811925e-08</td>\n",
       "      <td>5</td>\n",
       "    </tr>\n",
       "    <tr>\n",
       "      <th>34494</th>\n",
       "      <td>ZSCAN16-AS1</td>\n",
       "      <td>TCGA-KIRC</td>\n",
       "      <td>-0.778585</td>\n",
       "      <td>6.286885e-24</td>\n",
       "      <td>5</td>\n",
       "    </tr>\n",
       "    <tr>\n",
       "      <th>34495</th>\n",
       "      <td>ZSCAN16-AS1</td>\n",
       "      <td>TCGA-LUAD</td>\n",
       "      <td>-0.642760</td>\n",
       "      <td>1.651140e-08</td>\n",
       "      <td>5</td>\n",
       "    </tr>\n",
       "    <tr>\n",
       "      <th>34496</th>\n",
       "      <td>ZSCAN16-AS1</td>\n",
       "      <td>TCGA-STAD</td>\n",
       "      <td>-1.000631</td>\n",
       "      <td>2.091831e-11</td>\n",
       "      <td>5</td>\n",
       "    </tr>\n",
       "  </tbody>\n",
       "</table>\n",
       "<p>23331 rows × 5 columns</p>\n",
       "</div>"
      ],
      "text/plain": [
       "      external_gene_name   filename     logFC       P.Value  count\n",
       "0               A1BG-AS1  TCGA-COAD -1.277354  4.240154e-15      9\n",
       "1               A1BG-AS1  TCGA-HNSC  0.988639  9.614590e-06      9\n",
       "2               A1BG-AS1  TCGA-KICH -1.049325  1.151220e-03      9\n",
       "3               A1BG-AS1  TCGA-LIHC -0.772376  1.367678e-05      9\n",
       "4               A1BG-AS1  TCGA-LUAD -0.581519  1.148093e-04      9\n",
       "...                  ...        ...       ...           ...    ...\n",
       "34492        ZSCAN16-AS1  TCGA-COAD -0.670712  4.475392e-09      5\n",
       "34493        ZSCAN16-AS1  TCGA-KICH -0.968157  1.811925e-08      5\n",
       "34494        ZSCAN16-AS1  TCGA-KIRC -0.778585  6.286885e-24      5\n",
       "34495        ZSCAN16-AS1  TCGA-LUAD -0.642760  1.651140e-08      5\n",
       "34496        ZSCAN16-AS1  TCGA-STAD -1.000631  2.091831e-11      5\n",
       "\n",
       "[23331 rows x 5 columns]"
      ]
     },
     "execution_count": 11,
     "metadata": {},
     "output_type": "execute_result"
    }
   ],
   "source": [
    "lncRNAs_accross_cancer   = grouped_multiple.query('count >=5')\n",
    "\n",
    "lncRNAs_accross_cancer"
   ]
  },
  {
   "cell_type": "code",
   "execution_count": 10,
   "id": "voluntary-patrol",
   "metadata": {},
   "outputs": [],
   "source": [
    "lncRNAs_accross_cancer.to_csv(path +'/filtered_results/lncRNAs_acrossatleast5cancer', sep='\\t',index=False)"
   ]
  }
 ],
 "metadata": {
  "kernelspec": {
   "display_name": "Python 3",
   "language": "python",
   "name": "python3"
  },
  "language_info": {
   "codemirror_mode": {
    "name": "ipython",
    "version": 3
   },
   "file_extension": ".py",
   "mimetype": "text/x-python",
   "name": "python",
   "nbconvert_exporter": "python",
   "pygments_lexer": "ipython3",
   "version": "3.7.3"
  }
 },
 "nbformat": 4,
 "nbformat_minor": 5
}
