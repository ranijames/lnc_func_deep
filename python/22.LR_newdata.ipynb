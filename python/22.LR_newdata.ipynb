{
 "cells": [
  {
   "cell_type": "code",
   "execution_count": 1,
   "id": "level-optics",
   "metadata": {},
   "outputs": [
    {
     "name": "stdout",
     "output_type": "stream",
     "text": [
      "Linux-5.4.0-67-generic-x86_64-with-debian-bullseye-sid\n",
      "Python 3.7.3 (default, Mar 27 2019, 22:11:17) \n",
      "[GCC 7.3.0]\n",
      "NumPy 1.19.5\n",
      "SciPy 1.6.0\n",
      "Scikit-Learn 0.24.1\n"
     ]
    }
   ],
   "source": [
    "import matplotlib.pyplot as plt\n",
    "import numpy as np\n",
    "import seaborn as sns\n",
    "import pandas as pd\n",
    "from imblearn.over_sampling import SMOTE\n",
    "from sklearn import preprocessing\n",
    "import matplotlib.pyplot as plt \n",
    "plt.rc(\"font\", size=14)\n",
    "from sklearn.linear_model import LogisticRegression\n",
    "from sklearn.model_selection import train_test_split\n",
    "import platform; print(platform.platform())\n",
    "import sys; print(\"Python\", sys.version)\n",
    "import numpy; print(\"NumPy\", numpy.__version__)\n",
    "import scipy; print(\"SciPy\", scipy.__version__)\n",
    "import sklearn; print(\"Scikit-Learn\", sklearn.__version__)\n",
    "from sklearn.feature_selection import RFE\n",
    "from sklearn.linear_model import LogisticRegression\n",
    "%matplotlib inline\n",
    "from collections import OrderedDict\n",
    "%config InlineBackend.figure_format = 'retina'"
   ]
  },
  {
   "cell_type": "code",
   "execution_count": 2,
   "id": "random-picking",
   "metadata": {},
   "outputs": [],
   "source": [
    "%store -r common_de\n",
    "common_de.drop(['Pathway'],inplace=True,axis=1)\n",
    "common_de.drop_duplicates(inplace=True)"
   ]
  },
  {
   "cell_type": "code",
   "execution_count": 3,
   "id": "removed-plant",
   "metadata": {},
   "outputs": [
    {
     "data": {
      "text/plain": [
       "(48292, 17)"
      ]
     },
     "execution_count": 3,
     "metadata": {},
     "output_type": "execute_result"
    }
   ],
   "source": [
    "common_de.shape"
   ]
  },
  {
   "cell_type": "code",
   "execution_count": 4,
   "id": "heavy-train",
   "metadata": {},
   "outputs": [
    {
     "data": {
      "text/plain": [
       "<AxesSubplot:ylabel='y'>"
      ]
     },
     "execution_count": 4,
     "metadata": {},
     "output_type": "execute_result"
    },
    {
     "data": {
      "image/png": "[encoded data removed]",
      "text/plain": [
       "<Figure size 432x288 with 1 Axes>"
      ]
     },
     "metadata": {
      "image/png": {
       "height": 231,
       "width": 245
      }
     },
     "output_type": "display_data"
    }
   ],
   "source": [
    "common_de.y.value_counts().plot(kind='pie', autopct='%1.0f%%', colors=['skyblue', 'orange'],\n",
    "                                                      explode=(0.05, 0.05))"
   ]
  },
  {
   "cell_type": "code",
   "execution_count": 5,
   "id": "structured-worcester",
   "metadata": {},
   "outputs": [],
   "source": [
    "keep_samples =['BRCA']\n",
    "common_DE_5samples = common_de[common_de['sample'].isin(keep_samples)]"
   ]
  },
  {
   "cell_type": "code",
   "execution_count": 6,
   "id": "adjustable-supply",
   "metadata": {},
   "outputs": [],
   "source": [
    "up   =   common_de.query('logFC>=0.58')\n",
    "down = common_de.query('logFC<=-0.58')"
   ]
  },
  {
   "cell_type": "code",
   "execution_count": 7,
   "id": "everyday-hurricane",
   "metadata": {},
   "outputs": [
    {
     "data": {
      "text/plain": [
       "(20286, 17)"
      ]
     },
     "execution_count": 7,
     "metadata": {},
     "output_type": "execute_result"
    }
   ],
   "source": [
    "down.shape"
   ]
  },
  {
   "cell_type": "code",
   "execution_count": 23,
   "id": "assumed-sampling",
   "metadata": {},
   "outputs": [],
   "source": [
    "data =up"
   ]
  },
  {
   "cell_type": "code",
   "execution_count": 25,
   "id": "respected-anchor",
   "metadata": {},
   "outputs": [
    {
     "name": "stderr",
     "output_type": "stream",
     "text": [
      "/home/alva/anaconda3/lib/python3.7/site-packages/pandas/core/frame.py:4312: SettingWithCopyWarning: \n",
      "A value is trying to be set on a copy of a slice from a DataFrame\n",
      "\n",
      "See the caveats in the documentation: https://pandas.pydata.org/pandas-docs/stable/user_guide/indexing.html#returning-a-view-versus-a-copy\n",
      "  errors=errors,\n"
     ]
    }
   ],
   "source": [
    "data.drop('gene_sym',inplace=True,axis=1)"
   ]
  },
  {
   "cell_type": "code",
   "execution_count": 26,
   "id": "interior-temple",
   "metadata": {},
   "outputs": [
    {
     "name": "stderr",
     "output_type": "stream",
     "text": [
      "/home/alva/anaconda3/lib/python3.7/site-packages/ipykernel_launcher.py:2: SettingWithCopyWarning: \n",
      "A value is trying to be set on a copy of a slice from a DataFrame.\n",
      "Try using .loc[row_indexer,col_indexer] = value instead\n",
      "\n",
      "See the caveats in the documentation: https://pandas.pydata.org/pandas-docs/stable/user_guide/indexing.html#returning-a-view-versus-a-copy\n",
      "  \n",
      "/home/alva/anaconda3/lib/python3.7/site-packages/ipykernel_launcher.py:3: SettingWithCopyWarning: \n",
      "A value is trying to be set on a copy of a slice from a DataFrame.\n",
      "Try using .loc[row_indexer,col_indexer] = value instead\n",
      "\n",
      "See the caveats in the documentation: https://pandas.pydata.org/pandas-docs/stable/user_guide/indexing.html#returning-a-view-versus-a-copy\n",
      "  This is separate from the ipykernel package so we can avoid doing imports until\n"
     ]
    }
   ],
   "source": [
    "#data.drop(['gene_sym'],axis=1,inplace=True)\n",
    "data['Meth_Mean']     =pd.to_numeric(data.Meth_Mean, errors='coerce')\n",
    "data['sphase_mean_FC']=pd.to_numeric(data.sphase_mean_FC, errors='coerce')\n"
   ]
  },
  {
   "cell_type": "code",
   "execution_count": 27,
   "id": "rural-drinking",
   "metadata": {},
   "outputs": [],
   "source": [
    "cat_vars=['proximal_cancer_driver','proximal_drug_target','negative_correlated_methylation','positive_correlated_methylation', 'promoter_methylated',\n",
    " 'triplex','sample','types','mechanism','functional','clinical']\n",
    "for var in cat_vars:\n",
    "    cat_list = 'var '+'_'+ var\n",
    "    cat_list = pd.get_dummies(data[var], prefix=var)\n",
    "    data1    = data.join(cat_list)\n",
    "    data     = data1\n",
    "cat_vars=['proximal_cancer_driver','proximal_drug_target','negative_correlated_methylation','positive_correlated_methylation', 'promoter_methylated',\n",
    " 'triplex','sample','types','mechanism','functional','clinical']\n",
    "data_vars    = data.columns.values.tolist()\n",
    "to_keep      = [i for i in data_vars if i not in cat_vars]"
   ]
  },
  {
   "cell_type": "code",
   "execution_count": 28,
   "id": "charitable-justice",
   "metadata": {},
   "outputs": [],
   "source": [
    "data_final = data[to_keep]\n",
    "data_final = data_final.replace(['o','t','ot'],1)"
   ]
  },
  {
   "cell_type": "code",
   "execution_count": 29,
   "id": "saved-legislation",
   "metadata": {},
   "outputs": [],
   "source": [
    "data_final=data_final.replace(['unknown', 'Yes'], \n",
    "                     [0,1])\n",
    "data_final=data_final.fillna(0)"
   ]
  },
  {
   "cell_type": "code",
   "execution_count": 30,
   "id": "advanced-ratio",
   "metadata": {
    "collapsed": true
   },
   "outputs": [
    {
     "data": {
      "text/html": [
       "<div>\n",
       "<style scoped>\n",
       "    .dataframe tbody tr th:only-of-type {\n",
       "        vertical-align: middle;\n",
       "    }\n",
       "\n",
       "    .dataframe tbody tr th {\n",
       "        vertical-align: top;\n",
       "    }\n",
       "\n",
       "    .dataframe thead th {\n",
       "        text-align: right;\n",
       "    }\n",
       "</style>\n",
       "<table border=\"1\" class=\"dataframe\">\n",
       "  <thead>\n",
       "    <tr style=\"text-align: right;\">\n",
       "      <th></th>\n",
       "      <th>logFC</th>\n",
       "      <th>Meth_Mean</th>\n",
       "      <th>sphase_mean_FC</th>\n",
       "      <th>y</th>\n",
       "      <th>risk_alelle_freq</th>\n",
       "      <th>proximal_cancer_driver_No</th>\n",
       "      <th>proximal_cancer_driver_Yes</th>\n",
       "      <th>proximal_drug_target_No</th>\n",
       "      <th>negative_correlated_methylation_No</th>\n",
       "      <th>negative_correlated_methylation_Yes</th>\n",
       "      <th>...</th>\n",
       "      <th>functional_0</th>\n",
       "      <th>functional_Cell Growth</th>\n",
       "      <th>functional_EMT</th>\n",
       "      <th>functional_Survival</th>\n",
       "      <th>functional_autophagy/Apoptosis</th>\n",
       "      <th>clinical_0</th>\n",
       "      <th>clinical_Circulating</th>\n",
       "      <th>clinical_Drug</th>\n",
       "      <th>clinical_Metastasis</th>\n",
       "      <th>clinical_Recurrence</th>\n",
       "    </tr>\n",
       "  </thead>\n",
       "  <tbody>\n",
       "    <tr>\n",
       "      <th>2</th>\n",
       "      <td>0.988639</td>\n",
       "      <td>0.0</td>\n",
       "      <td>0.0</td>\n",
       "      <td>0</td>\n",
       "      <td>0.0</td>\n",
       "      <td>1</td>\n",
       "      <td>0</td>\n",
       "      <td>1</td>\n",
       "      <td>1</td>\n",
       "      <td>0</td>\n",
       "      <td>...</td>\n",
       "      <td>1</td>\n",
       "      <td>0</td>\n",
       "      <td>0</td>\n",
       "      <td>0</td>\n",
       "      <td>0</td>\n",
       "      <td>0</td>\n",
       "      <td>0</td>\n",
       "      <td>0</td>\n",
       "      <td>1</td>\n",
       "      <td>0</td>\n",
       "    </tr>\n",
       "    <tr>\n",
       "      <th>3</th>\n",
       "      <td>0.988639</td>\n",
       "      <td>0.0</td>\n",
       "      <td>0.0</td>\n",
       "      <td>0</td>\n",
       "      <td>0.0</td>\n",
       "      <td>1</td>\n",
       "      <td>0</td>\n",
       "      <td>1</td>\n",
       "      <td>1</td>\n",
       "      <td>0</td>\n",
       "      <td>...</td>\n",
       "      <td>1</td>\n",
       "      <td>0</td>\n",
       "      <td>0</td>\n",
       "      <td>0</td>\n",
       "      <td>0</td>\n",
       "      <td>0</td>\n",
       "      <td>0</td>\n",
       "      <td>0</td>\n",
       "      <td>0</td>\n",
       "      <td>1</td>\n",
       "    </tr>\n",
       "    <tr>\n",
       "      <th>16</th>\n",
       "      <td>0.736331</td>\n",
       "      <td>0.0</td>\n",
       "      <td>0.0</td>\n",
       "      <td>0</td>\n",
       "      <td>0.0</td>\n",
       "      <td>1</td>\n",
       "      <td>0</td>\n",
       "      <td>1</td>\n",
       "      <td>1</td>\n",
       "      <td>0</td>\n",
       "      <td>...</td>\n",
       "      <td>1</td>\n",
       "      <td>0</td>\n",
       "      <td>0</td>\n",
       "      <td>0</td>\n",
       "      <td>0</td>\n",
       "      <td>0</td>\n",
       "      <td>0</td>\n",
       "      <td>0</td>\n",
       "      <td>1</td>\n",
       "      <td>0</td>\n",
       "    </tr>\n",
       "    <tr>\n",
       "      <th>17</th>\n",
       "      <td>0.736331</td>\n",
       "      <td>0.0</td>\n",
       "      <td>0.0</td>\n",
       "      <td>0</td>\n",
       "      <td>0.0</td>\n",
       "      <td>1</td>\n",
       "      <td>0</td>\n",
       "      <td>1</td>\n",
       "      <td>1</td>\n",
       "      <td>0</td>\n",
       "      <td>...</td>\n",
       "      <td>1</td>\n",
       "      <td>0</td>\n",
       "      <td>0</td>\n",
       "      <td>0</td>\n",
       "      <td>0</td>\n",
       "      <td>0</td>\n",
       "      <td>0</td>\n",
       "      <td>0</td>\n",
       "      <td>0</td>\n",
       "      <td>1</td>\n",
       "    </tr>\n",
       "    <tr>\n",
       "      <th>57</th>\n",
       "      <td>0.966222</td>\n",
       "      <td>0.0</td>\n",
       "      <td>0.0</td>\n",
       "      <td>1</td>\n",
       "      <td>0.0</td>\n",
       "      <td>1</td>\n",
       "      <td>0</td>\n",
       "      <td>1</td>\n",
       "      <td>1</td>\n",
       "      <td>0</td>\n",
       "      <td>...</td>\n",
       "      <td>1</td>\n",
       "      <td>0</td>\n",
       "      <td>0</td>\n",
       "      <td>0</td>\n",
       "      <td>0</td>\n",
       "      <td>1</td>\n",
       "      <td>0</td>\n",
       "      <td>0</td>\n",
       "      <td>0</td>\n",
       "      <td>0</td>\n",
       "    </tr>\n",
       "  </tbody>\n",
       "</table>\n",
       "<p>5 rows × 47 columns</p>\n",
       "</div>"
      ],
      "text/plain": [
       "       logFC  Meth_Mean  sphase_mean_FC  y  risk_alelle_freq  \\\n",
       "2   0.988639        0.0             0.0  0               0.0   \n",
       "3   0.988639        0.0             0.0  0               0.0   \n",
       "16  0.736331        0.0             0.0  0               0.0   \n",
       "17  0.736331        0.0             0.0  0               0.0   \n",
       "57  0.966222        0.0             0.0  1               0.0   \n",
       "\n",
       "    proximal_cancer_driver_No  proximal_cancer_driver_Yes  \\\n",
       "2                           1                           0   \n",
       "3                           1                           0   \n",
       "16                          1                           0   \n",
       "17                          1                           0   \n",
       "57                          1                           0   \n",
       "\n",
       "    proximal_drug_target_No  negative_correlated_methylation_No  \\\n",
       "2                         1                                   1   \n",
       "3                         1                                   1   \n",
       "16                        1                                   1   \n",
       "17                        1                                   1   \n",
       "57                        1                                   1   \n",
       "\n",
       "    negative_correlated_methylation_Yes  ...  functional_0  \\\n",
       "2                                     0  ...             1   \n",
       "3                                     0  ...             1   \n",
       "16                                    0  ...             1   \n",
       "17                                    0  ...             1   \n",
       "57                                    0  ...             1   \n",
       "\n",
       "    functional_Cell Growth  functional_EMT  functional_Survival  \\\n",
       "2                        0               0                    0   \n",
       "3                        0               0                    0   \n",
       "16                       0               0                    0   \n",
       "17                       0               0                    0   \n",
       "57                       0               0                    0   \n",
       "\n",
       "    functional_autophagy/Apoptosis  clinical_0  clinical_Circulating  \\\n",
       "2                                0           0                     0   \n",
       "3                                0           0                     0   \n",
       "16                               0           0                     0   \n",
       "17                               0           0                     0   \n",
       "57                               0           1                     0   \n",
       "\n",
       "    clinical_Drug  clinical_Metastasis  clinical_Recurrence  \n",
       "2               0                    1                    0  \n",
       "3               0                    0                    1  \n",
       "16              0                    1                    0  \n",
       "17              0                    0                    1  \n",
       "57              0                    0                    0  \n",
       "\n",
       "[5 rows x 47 columns]"
      ]
     },
     "execution_count": 30,
     "metadata": {},
     "output_type": "execute_result"
    }
   ],
   "source": [
    "data_final = data_final.replace('yes',1)\n",
    "data_final.head()"
   ]
  },
  {
   "cell_type": "code",
   "execution_count": 31,
   "id": "manufactured-animation",
   "metadata": {},
   "outputs": [],
   "source": [
    "X  = data_final.loc[:, data_final.columns != 'y']\n",
    "y  = data_final.loc[:, data_final.columns == 'y']\n",
    "os = SMOTE(random_state=0)\n",
    "X_train, X_test, y_train, y_test = train_test_split(X, y, test_size=0.3, random_state=0)"
   ]
  },
  {
   "cell_type": "code",
   "execution_count": 32,
   "id": "martial-algeria",
   "metadata": {},
   "outputs": [],
   "source": [
    "columns   = X_train.columns\n",
    "os_data_X,os_data_y=os.fit_resample(X_train, y_train)\n",
    "os_data_X = pd.DataFrame(data=os_data_X,columns=columns )\n",
    "os_data_y = pd.DataFrame(data=os_data_y,columns=['y'])"
   ]
  },
  {
   "cell_type": "code",
   "execution_count": 33,
   "id": "neutral-visiting",
   "metadata": {},
   "outputs": [
    {
     "name": "stdout",
     "output_type": "stream",
     "text": [
      "length of oversampled data is  23122\n",
      "Number of no pathways in oversampled data 11561\n",
      "Number of pathways 11561\n",
      "Proportion of no pathways data in oversampled data is  0.5\n",
      "Proportion of pathways data in oversampled data is  0.5\n"
     ]
    }
   ],
   "source": [
    "# Check the numbers of our data\n",
    "print(\"length of oversampled data is \",len(os_data_X))\n",
    "print(\"Number of no pathways in oversampled data\",len(os_data_y[os_data_y['y']==0]))\n",
    "print(\"Number of pathways\",len(os_data_y[os_data_y['y']==1]))\n",
    "print(\"Proportion of no pathways data in oversampled data is \",len(os_data_y[os_data_y['y']==0])/len(os_data_X))\n",
    "print(\"Proportion of pathways data in oversampled data is \",len(os_data_y[os_data_y['y']==1])/len(os_data_X))"
   ]
  },
  {
   "cell_type": "code",
   "execution_count": 34,
   "id": "active-dublin",
   "metadata": {},
   "outputs": [
    {
     "data": {
      "text/plain": [
       "47"
      ]
     },
     "execution_count": 34,
     "metadata": {},
     "output_type": "execute_result"
    }
   ],
   "source": [
    "data_final_vars=data_final.columns.values.tolist()\n",
    "len(data_final_vars)"
   ]
  },
  {
   "cell_type": "code",
   "execution_count": 35,
   "id": "hungry-controversy",
   "metadata": {},
   "outputs": [
    {
     "name": "stderr",
     "output_type": "stream",
     "text": [
      "/home/alva/anaconda3/lib/python3.7/site-packages/sklearn/utils/validation.py:72: FutureWarning: Pass n_features_to_select=47 as keyword args. From version 1.0 (renaming of 0.25) passing these as positional arguments will result in an error\n",
      "  \"will result in an error\", FutureWarning)\n"
     ]
    },
    {
     "name": "stdout",
     "output_type": "stream",
     "text": [
      "[ True  True  True  True  True  True  True  True  True  True  True  True\n",
      "  True  True  True  True  True  True  True  True  True  True  True  True\n",
      "  True  True  True  True  True  True  True  True  True  True  True  True\n",
      "  True  True  True  True  True  True  True  True  True  True]\n",
      "[1 1 1 1 1 1 1 1 1 1 1 1 1 1 1 1 1 1 1 1 1 1 1 1 1 1 1 1 1 1 1 1 1 1 1 1 1\n",
      " 1 1 1 1 1 1 1 1 1]\n"
     ]
    },
    {
     "name": "stderr",
     "output_type": "stream",
     "text": [
      "/home/alva/anaconda3/lib/python3.7/site-packages/sklearn/linear_model/_logistic.py:765: ConvergenceWarning: lbfgs failed to converge (status=1):\n",
      "STOP: TOTAL NO. of ITERATIONS REACHED LIMIT.\n",
      "\n",
      "Increase the number of iterations (max_iter) or scale the data as shown in:\n",
      "    https://scikit-learn.org/stable/modules/preprocessing.html\n",
      "Please also refer to the documentation for alternative solver options:\n",
      "    https://scikit-learn.org/stable/modules/linear_model.html#logistic-regression\n",
      "  extra_warning_msg=_LOGISTIC_SOLVER_CONVERGENCE_MSG)\n"
     ]
    }
   ],
   "source": [
    "y=['y']\n",
    "X=[i for i in data_final_vars if i not in y]\n",
    "from sklearn.feature_selection import RFE\n",
    "from sklearn.linear_model import LogisticRegression\n",
    "logreg = LogisticRegression()\n",
    "rfe = RFE(logreg, 47)\n",
    "rfe = rfe.fit(os_data_X, os_data_y.values.ravel())\n",
    "print(rfe.support_)\n",
    "print(rfe.ranking_)"
   ]
  },
  {
   "cell_type": "code",
   "execution_count": 42,
   "id": "alive-engineer",
   "metadata": {
    "collapsed": true
   },
   "outputs": [
    {
     "data": {
      "text/plain": [
       "['logFC',\n",
       " 'Meth_Mean',\n",
       " 'sphase_mean_FC',\n",
       " 'risk_alelle_freq',\n",
       " 'proximal_cancer_driver_No',\n",
       " 'proximal_cancer_driver_Yes',\n",
       " 'proximal_drug_target_No',\n",
       " 'negative_correlated_methylation_No',\n",
       " 'negative_correlated_methylation_Yes',\n",
       " 'positive_correlated_methylation_No',\n",
       " 'positive_correlated_methylation_Yes',\n",
       " 'promoter_methylated_No',\n",
       " 'promoter_methylated_Yes',\n",
       " 'triplex_No',\n",
       " 'triplex_Yes',\n",
       " 'sample_BRCA',\n",
       " 'sample_COAD',\n",
       " 'sample_ESCA',\n",
       " 'sample_HNSC',\n",
       " 'sample_KICH',\n",
       " 'sample_KIRC',\n",
       " 'sample_KIRP',\n",
       " 'sample_LIHC',\n",
       " 'sample_LUAD',\n",
       " 'sample_LUSC',\n",
       " 'sample_PRAD',\n",
       " 'sample_STAD',\n",
       " 'sample_THCA',\n",
       " 'types_0',\n",
       " 'types_o',\n",
       " 'types_ot',\n",
       " 'types_t',\n",
       " 'mechanism_0',\n",
       " 'mechanism_Enhancer',\n",
       " 'mechanism_TF',\n",
       " 'mechanism_Variant',\n",
       " 'functional_0',\n",
       " 'functional_Cell Growth',\n",
       " 'functional_EMT',\n",
       " 'functional_Survival',\n",
       " 'functional_autophagy/Apoptosis',\n",
       " 'clinical_0',\n",
       " 'clinical_Circulating',\n",
       " 'clinical_Drug',\n",
       " 'clinical_Metastasis',\n",
       " 'clinical_Recurrence']"
      ]
     },
     "execution_count": 42,
     "metadata": {},
     "output_type": "execute_result"
    }
   ],
   "source": [
    "cols = os_data_X.columns[rfe.support_].tolist()\n",
    "X=os_data_X[cols]\n",
    "y=os_data_y['y']"
   ]
  },
  {
   "cell_type": "code",
   "execution_count": 39,
   "id": "independent-airport",
   "metadata": {
    "collapsed": true
   },
   "outputs": [
    {
     "name": "stdout",
     "output_type": "stream",
     "text": [
      "Warning: Maximum number of iterations has been exceeded.\n",
      "         Current function value: 0.557738\n",
      "         Iterations: 35\n",
      "                                           Results: Logit\n",
      "=====================================================================================================\n",
      "Model:                          Logit                        Pseudo R-squared:             0.195     \n",
      "Dependent Variable:             y                            AIC:                          25882.0256\n",
      "Date:                           2021-03-22 11:36             BIC:                          26244.2099\n",
      "No. Observations:               23122                        Log-Likelihood:               -12896.   \n",
      "Df Model:                       44                           LL-Null:                      -16027.   \n",
      "Df Residuals:                   23077                        LLR p-value:                  0.0000    \n",
      "Converged:                      0.0000                       Scale:                        1.0000    \n",
      "No. Iterations:                 35.0000                                                              \n",
      "-----------------------------------------------------------------------------------------------------\n",
      "                                      Coef.      Std.Err.      z    P>|z|      [0.025       0.975]   \n",
      "-----------------------------------------------------------------------------------------------------\n",
      "logFC                                   0.1391       0.0172  8.0889 0.0000        0.1054       0.1728\n",
      "Meth_Mean                               2.9721       0.1928 15.4121 0.0000        2.5941       3.3500\n",
      "sphase_mean_FC                         -0.2615       0.0387 -6.7614 0.0000       -0.3373      -0.1857\n",
      "risk_alelle_freq                       19.8249       1.4159 14.0016 0.0000       17.0498      22.6001\n",
      "proximal_cancer_driver_No            -121.6196 1057469.5666 -0.0001 0.9999 -2072723.8849 2072480.6456\n",
      "proximal_cancer_driver_Yes           -121.0319 1053745.0424 -0.0001 0.9999 -2065423.3639 2065181.3002\n",
      "proximal_drug_target_No              1337.4865          nan     nan    nan           nan          nan\n",
      "negative_correlated_methylation_No  -1598.3607          nan     nan    nan           nan          nan\n",
      "negative_correlated_methylation_Yes -1601.1715          nan     nan    nan           nan          nan\n",
      "positive_correlated_methylation_No    -22.4922   24562.6463 -0.0009 0.9993   -48164.3942   48119.4099\n",
      "positive_correlated_methylation_Yes   -22.4546   24561.1611 -0.0009 0.9993   -48161.4459   48116.5366\n",
      "promoter_methylated_No                669.2186          nan     nan    nan           nan          nan\n",
      "promoter_methylated_Yes               668.2701          nan     nan    nan           nan          nan\n",
      "triplex_No                            -56.5768          nan     nan    nan           nan          nan\n",
      "triplex_Yes                           -56.9064          nan     nan    nan           nan          nan\n",
      "sample_BRCA                           -38.2029  240932.9795 -0.0002 0.9999  -472258.1654  472181.7596\n",
      "sample_COAD                           -38.2680  206354.4263 -0.0002 0.9999  -404485.5117  404408.9757\n",
      "sample_ESCA                           -38.3245  245073.8886 -0.0002 0.9999  -480374.3196  480297.6707\n",
      "sample_HNSC                           -38.1305  201711.6806 -0.0002 0.9998  -395385.7598  395309.4988\n",
      "sample_KICH                           -38.0033  236047.6558 -0.0002 0.9999  -462682.9072  462606.9006\n",
      "sample_KIRC                           -38.2934  232880.7975 -0.0002 0.9999  -456476.2692  456399.6824\n",
      "sample_KIRP                           -38.4057  266702.4969 -0.0001 0.9999  -522765.6942  522688.8827\n",
      "sample_LIHC                           -38.4222  214559.4161 -0.0002 0.9999  -420567.1502  420490.3059\n",
      "sample_LUAD                           -38.2473  245353.6324 -0.0002 0.9999  -480922.5303  480846.0357\n",
      "sample_LUSC                           -38.3018  220196.4075 -0.0002 0.9999  -431615.3300  431538.7265\n",
      "sample_PRAD                           -38.3983  247594.7325 -0.0002 0.9999  -485315.1567  485238.3600\n",
      "sample_STAD                           -38.1612  223027.6132 -0.0002 0.9999  -437164.2507  437087.9283\n",
      "sample_THCA                           -38.0655  270959.2229 -0.0001 0.9999  -531108.3837  531032.2527\n",
      "types_0                               -98.8297  646729.8387 -0.0002 0.9999 -1267666.0212 1267468.3619\n",
      "types_o                               -99.5613  646995.3900 -0.0002 0.9999 -1268187.2238 1267988.1012\n",
      "types_ot                              -77.8176  646940.5501 -0.0001 0.9999 -1268057.9960 1267902.3608\n",
      "types_t                               -98.2824  646669.9830 -0.0002 0.9999 -1267548.1590 1267351.5942\n",
      "mechanism_0                           -37.8587          nan     nan    nan           nan          nan\n",
      "mechanism_Enhancer                    -38.3304          nan     nan    nan           nan          nan\n",
      "mechanism_TF                          -37.8383          nan     nan    nan           nan          nan\n",
      "mechanism_Variant                     -37.7048          nan     nan    nan           nan          nan\n",
      "functional_0                          -15.7322      94.7754 -0.1660 0.8682     -201.4886     170.0241\n",
      "functional_Cell Growth                -15.8888      94.7753 -0.1676 0.8669     -201.6451     169.8674\n",
      "functional_EMT                        -16.0462      94.7753 -0.1693 0.8656     -201.8024     169.7101\n",
      "functional_Survival                   -15.8766      94.7753 -0.1675 0.8670     -201.6329     169.8797\n",
      "functional_autophagy/Apoptosis        -15.9244      94.7753 -0.1680 0.8666     -201.6806     169.8319\n",
      "clinical_0                            -17.1571     161.8093 -0.1060 0.9156     -334.2975     299.9834\n",
      "clinical_Circulating                  -16.9381     161.8093 -0.1047 0.9166     -334.0785     300.2023\n",
      "clinical_Drug                         -16.8430     161.8093 -0.1041 0.9171     -333.9834     300.2974\n",
      "clinical_Metastasis                   -16.9486     161.8093 -0.1047 0.9166     -334.0890     300.1917\n",
      "clinical_Recurrence                   -16.9404     161.8093 -0.1047 0.9166     -334.0808     300.2000\n",
      "=====================================================================================================\n",
      "\n"
     ]
    },
    {
     "name": "stderr",
     "output_type": "stream",
     "text": [
      "/home/alva/anaconda3/lib/python3.7/site-packages/statsmodels/base/model.py:568: ConvergenceWarning: Maximum Likelihood optimization failed to converge. Check mle_retvals\n",
      "  ConvergenceWarning)\n"
     ]
    }
   ],
   "source": [
    "import statsmodels.api as sm\n",
    "logit_model = sm.Logit(y,X)\n",
    "result      = logit_model.fit()\n",
    "print(result.summary2())"
   ]
  },
  {
   "cell_type": "code",
   "execution_count": 40,
   "id": "parental-zealand",
   "metadata": {
    "collapsed": true
   },
   "outputs": [
    {
     "name": "stdout",
     "output_type": "stream",
     "text": [
      "Accuracy of logistic regression classifier on test set: 0.64\n"
     ]
    }
   ],
   "source": [
    "from sklearn.linear_model import LogisticRegression\n",
    "from sklearn import metrics\n",
    "X_train, X_test, y_train, y_test = train_test_split(X, y, test_size=0.3, random_state=0)\n",
    "\n",
    "logreg = LogisticRegression(class_weight=\"balanced\",dual=False, fit_intercept=False,intercept_scaling=1,\n",
    "                   max_iter=100,multi_class='ovr',n_jobs=1, penalty='l2',random_state=None,solver='liblinear',tol=0.0001,\n",
    "                  verbose=0,warm_start=False,C = 1e9)\n",
    "\n",
    "logreg.fit(X_train, y_train)\n",
    "y_pred = logreg.predict(X_test)\n",
    "print('Accuracy of logistic regression classifier on test set: {:.2f}'.format(logreg.score(X_test, y_test)))"
   ]
  },
  {
   "cell_type": "markdown",
   "id": "statistical-ferry",
   "metadata": {},
   "source": [
    "Up_only accuracy: 64/ all features\n",
    "\n",
    "Down only accuracy: 61 all features"
   ]
  },
  {
   "cell_type": "markdown",
   "id": "monthly-mason",
   "metadata": {},
   "source": [
    "Improve the accuracy of the model"
   ]
  },
  {
   "cell_type": "code",
   "execution_count": null,
   "id": "dimensional-reference",
   "metadata": {},
   "outputs": [],
   "source": []
  }
 ],
 "metadata": {
  "kernelspec": {
   "display_name": "Python 3",
   "language": "python",
   "name": "python3"
  },
  "language_info": {
   "codemirror_mode": {
    "name": "ipython",
    "version": 3
   },
   "file_extension": ".py",
   "mimetype": "text/x-python",
   "name": "python",
   "nbconvert_exporter": "python",
   "pygments_lexer": "ipython3",
   "version": "3.7.3"
  }
 },
 "nbformat": 4,
 "nbformat_minor": 5
}
