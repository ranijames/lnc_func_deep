{
 "cells": [
  {
   "cell_type": "code",
   "execution_count": 1,
   "id": "interpreted-elimination",
   "metadata": {},
   "outputs": [
    {
     "data": {
      "text/plain": [
       "<Figure size 576x720 with 0 Axes>"
      ]
     },
     "metadata": {},
     "output_type": "display_data"
    }
   ],
   "source": [
    "import pandas as pd\n",
    "from datapreprocessfunction_code import function_process, readfile, rename_cols,annon,outers_join,add_column,label_paths\n",
    "import seaborn as sns\n",
    "from matplotlib import pyplot as plt\n",
    "import os\n",
    "import numpy as np\n",
    "from plots_functions import plot3d\n",
    "from collections import OrderedDict\n",
    "import cmath\n",
    "from sklearn.decomposition import PCA"
   ]
  },
  {
   "cell_type": "code",
   "execution_count": 2,
   "id": "oriental-assist",
   "metadata": {},
   "outputs": [],
   "source": [
    "%store -r arr_great\n",
    "%store -r PC_ref\n",
    "%store -r common_de\n",
    "%store -r lncRNAs_ref\n",
    "arr_great = rename_cols(arr_great,\"PC\",\"gene_sym\")"
   ]
  },
  {
   "cell_type": "code",
   "execution_count": 50,
   "id": "northern-lotus",
   "metadata": {},
   "outputs": [
    {
     "data": {
      "text/plain": [
       "(16825,)"
      ]
     },
     "execution_count": 50,
     "metadata": {},
     "output_type": "execute_result"
    }
   ],
   "source": [
    "lncRNAs_ref.gene_sym.drop_duplicates().shape"
   ]
  },
  {
   "cell_type": "code",
   "execution_count": 3,
   "id": "subject-literature",
   "metadata": {},
   "outputs": [],
   "source": [
    "pathways    = '/home/alva/Documents/lncRNAs_project_2020/Analysis_2021/DNA_methy_tcga/meth/de/filtered_results/'"
   ]
  },
  {
   "cell_type": "code",
   "execution_count": 4,
   "id": "organized-monitor",
   "metadata": {},
   "outputs": [],
   "source": [
    "kegg        = readfile(pathways,\"great_PC_commonDE5lncRNAs_PC_KEGG_hsa_functional_classification.tsv\")\n",
    "goBP        = readfile(pathways,\"great_PC_commonDE5lncRNAs_PC_GO_BP_goa_human_functional_classification.tsv\")\n",
    "kegg_geneid = readfile(pathways,\"kegg_filtered_entrenzid_pathways_ensgene\")"
   ]
  },
  {
   "cell_type": "code",
   "execution_count": 26,
   "id": "upset-thomas",
   "metadata": {
    "collapsed": true
   },
   "outputs": [
    {
     "data": {
      "text/html": [
       "<div>\n",
       "<style scoped>\n",
       "    .dataframe tbody tr th:only-of-type {\n",
       "        vertical-align: middle;\n",
       "    }\n",
       "\n",
       "    .dataframe tbody tr th {\n",
       "        vertical-align: top;\n",
       "    }\n",
       "\n",
       "    .dataframe thead th {\n",
       "        text-align: right;\n",
       "    }\n",
       "</style>\n",
       "<table border=\"1\" class=\"dataframe\">\n",
       "  <thead>\n",
       "    <tr style=\"text-align: right;\">\n",
       "      <th></th>\n",
       "      <th>Genes</th>\n",
       "      <th>Process~name</th>\n",
       "      <th>num_of_Genes</th>\n",
       "      <th>gene_group</th>\n",
       "      <th>percentage%</th>\n",
       "      <th>Pvalue</th>\n",
       "      <th>Benjamini and Hochberg (FDR)</th>\n",
       "      <th>Hommel singlewise process</th>\n",
       "      <th>Bonferroni single-step process</th>\n",
       "      <th>Hommel singlewise process.1</th>\n",
       "      <th>Hochberg step-up process</th>\n",
       "      <th>Benjamini and Yekutieli</th>\n",
       "    </tr>\n",
       "  </thead>\n",
       "  <tbody>\n",
       "    <tr>\n",
       "      <th>0</th>\n",
       "      <td>127; 130; 131; 1738; 2023; 218; 221; 2538; 259...</td>\n",
       "      <td>hsa00010~Glycolysis_/_Gluconeogenesis</td>\n",
       "      <td>25</td>\n",
       "      <td>67</td>\n",
       "      <td>37.313433</td>\n",
       "      <td>0.029251</td>\n",
       "      <td>0.146024</td>\n",
       "      <td>1.0</td>\n",
       "      <td>1.0</td>\n",
       "      <td>1.0</td>\n",
       "      <td>1.0</td>\n",
       "      <td>0.934806</td>\n",
       "    </tr>\n",
       "    <tr>\n",
       "      <th>1</th>\n",
       "      <td>1738; 3417; 3418; 5161; 5162; 6389; 8801;</td>\n",
       "      <td>hsa00020~Citrate_cycle_(TCA_cycle)</td>\n",
       "      <td>7</td>\n",
       "      <td>30</td>\n",
       "      <td>23.333333</td>\n",
       "      <td>0.552494</td>\n",
       "      <td>0.735208</td>\n",
       "      <td>1.0</td>\n",
       "      <td>1.0</td>\n",
       "      <td>1.0</td>\n",
       "      <td>1.0</td>\n",
       "      <td>1.000000</td>\n",
       "    </tr>\n",
       "    <tr>\n",
       "      <th>2</th>\n",
       "      <td>132158; 22934; 2821; 5214; 6120; 64080; 6888; ...</td>\n",
       "      <td>hsa00030~Pentose_phosphate_pathway</td>\n",
       "      <td>9</td>\n",
       "      <td>30</td>\n",
       "      <td>30.000000</td>\n",
       "      <td>0.298568</td>\n",
       "      <td>0.519007</td>\n",
       "      <td>1.0</td>\n",
       "      <td>1.0</td>\n",
       "      <td>1.0</td>\n",
       "      <td>1.0</td>\n",
       "      <td>1.000000</td>\n",
       "    </tr>\n",
       "    <tr>\n",
       "      <th>3</th>\n",
       "      <td>231; 51181; 57016; 6120; 7358; 7365; 79799; 9365;</td>\n",
       "      <td>hsa00040~Pentose_and_glucuronate_interconversions</td>\n",
       "      <td>8</td>\n",
       "      <td>34</td>\n",
       "      <td>23.529412</td>\n",
       "      <td>0.538982</td>\n",
       "      <td>0.722921</td>\n",
       "      <td>1.0</td>\n",
       "      <td>1.0</td>\n",
       "      <td>1.0</td>\n",
       "      <td>1.0</td>\n",
       "      <td>1.000000</td>\n",
       "    </tr>\n",
       "    <tr>\n",
       "      <th>4</th>\n",
       "      <td>231; 2762; 29926; 3098; 3099; 5209; 5214; 5373...</td>\n",
       "      <td>hsa00051~Fructose_and_mannose_metabolism</td>\n",
       "      <td>12</td>\n",
       "      <td>33</td>\n",
       "      <td>36.363636</td>\n",
       "      <td>0.120911</td>\n",
       "      <td>0.319281</td>\n",
       "      <td>1.0</td>\n",
       "      <td>1.0</td>\n",
       "      <td>1.0</td>\n",
       "      <td>1.0</td>\n",
       "      <td>1.000000</td>\n",
       "    </tr>\n",
       "  </tbody>\n",
       "</table>\n",
       "</div>"
      ],
      "text/plain": [
       "                                               Genes  \\\n",
       "0  127; 130; 131; 1738; 2023; 218; 221; 2538; 259...   \n",
       "1          1738; 3417; 3418; 5161; 5162; 6389; 8801;   \n",
       "2  132158; 22934; 2821; 5214; 6120; 64080; 6888; ...   \n",
       "3  231; 51181; 57016; 6120; 7358; 7365; 79799; 9365;   \n",
       "4  231; 2762; 29926; 3098; 3099; 5209; 5214; 5373...   \n",
       "\n",
       "                                        Process~name  num_of_Genes  \\\n",
       "0              hsa00010~Glycolysis_/_Gluconeogenesis            25   \n",
       "1                 hsa00020~Citrate_cycle_(TCA_cycle)             7   \n",
       "2                 hsa00030~Pentose_phosphate_pathway             9   \n",
       "3  hsa00040~Pentose_and_glucuronate_interconversions             8   \n",
       "4           hsa00051~Fructose_and_mannose_metabolism            12   \n",
       "\n",
       "   gene_group  percentage%    Pvalue  Benjamini and Hochberg (FDR)  \\\n",
       "0          67    37.313433  0.029251                      0.146024   \n",
       "1          30    23.333333  0.552494                      0.735208   \n",
       "2          30    30.000000  0.298568                      0.519007   \n",
       "3          34    23.529412  0.538982                      0.722921   \n",
       "4          33    36.363636  0.120911                      0.319281   \n",
       "\n",
       "   Hommel singlewise process  Bonferroni single-step process  \\\n",
       "0                        1.0                             1.0   \n",
       "1                        1.0                             1.0   \n",
       "2                        1.0                             1.0   \n",
       "3                        1.0                             1.0   \n",
       "4                        1.0                             1.0   \n",
       "\n",
       "   Hommel singlewise process.1  Hochberg step-up process  \\\n",
       "0                          1.0                       1.0   \n",
       "1                          1.0                       1.0   \n",
       "2                          1.0                       1.0   \n",
       "3                          1.0                       1.0   \n",
       "4                          1.0                       1.0   \n",
       "\n",
       "   Benjamini and Yekutieli  \n",
       "0                 0.934806  \n",
       "1                 1.000000  \n",
       "2                 1.000000  \n",
       "3                 1.000000  \n",
       "4                 1.000000  "
      ]
     },
     "execution_count": 26,
     "metadata": {},
     "output_type": "execute_result"
    }
   ],
   "source": [
    "kegg.head()"
   ]
  },
  {
   "cell_type": "code",
   "execution_count": 5,
   "id": "micro-monster",
   "metadata": {
    "collapsed": true
   },
   "outputs": [
    {
     "data": {
      "text/html": [
       "<div>\n",
       "<style scoped>\n",
       "    .dataframe tbody tr th:only-of-type {\n",
       "        vertical-align: middle;\n",
       "    }\n",
       "\n",
       "    .dataframe tbody tr th {\n",
       "        vertical-align: top;\n",
       "    }\n",
       "\n",
       "    .dataframe thead th {\n",
       "        text-align: right;\n",
       "    }\n",
       "</style>\n",
       "<table border=\"1\" class=\"dataframe\">\n",
       "  <thead>\n",
       "    <tr style=\"text-align: right;\">\n",
       "      <th></th>\n",
       "      <th>Process~name</th>\n",
       "      <th>gene_group</th>\n",
       "      <th>num_of_Genes</th>\n",
       "    </tr>\n",
       "  </thead>\n",
       "  <tbody>\n",
       "    <tr>\n",
       "      <th>0</th>\n",
       "      <td>hsa00010~Glycolysis_/_Gluconeogenesis</td>\n",
       "      <td>67</td>\n",
       "      <td>25</td>\n",
       "    </tr>\n",
       "    <tr>\n",
       "      <th>1</th>\n",
       "      <td>hsa00020~Citrate_cycle_(TCA_cycle)</td>\n",
       "      <td>30</td>\n",
       "      <td>7</td>\n",
       "    </tr>\n",
       "    <tr>\n",
       "      <th>2</th>\n",
       "      <td>hsa00030~Pentose_phosphate_pathway</td>\n",
       "      <td>30</td>\n",
       "      <td>9</td>\n",
       "    </tr>\n",
       "    <tr>\n",
       "      <th>3</th>\n",
       "      <td>hsa00040~Pentose_and_glucuronate_interconversions</td>\n",
       "      <td>34</td>\n",
       "      <td>8</td>\n",
       "    </tr>\n",
       "    <tr>\n",
       "      <th>4</th>\n",
       "      <td>hsa00051~Fructose_and_mannose_metabolism</td>\n",
       "      <td>33</td>\n",
       "      <td>12</td>\n",
       "    </tr>\n",
       "    <tr>\n",
       "      <th>...</th>\n",
       "      <td>...</td>\n",
       "      <td>...</td>\n",
       "      <td>...</td>\n",
       "    </tr>\n",
       "    <tr>\n",
       "      <th>333</th>\n",
       "      <td>hsa05412~Arrhythmogenic_right_ventricular_card...</td>\n",
       "      <td>77</td>\n",
       "      <td>24</td>\n",
       "    </tr>\n",
       "    <tr>\n",
       "      <th>334</th>\n",
       "      <td>hsa05414~Dilated_cardiomyopathy</td>\n",
       "      <td>96</td>\n",
       "      <td>26</td>\n",
       "    </tr>\n",
       "    <tr>\n",
       "      <th>335</th>\n",
       "      <td>hsa05415~Diabetic_cardiomyopathy</td>\n",
       "      <td>203</td>\n",
       "      <td>47</td>\n",
       "    </tr>\n",
       "    <tr>\n",
       "      <th>336</th>\n",
       "      <td>hsa05416~Viral_myocarditis</td>\n",
       "      <td>60</td>\n",
       "      <td>15</td>\n",
       "    </tr>\n",
       "    <tr>\n",
       "      <th>337</th>\n",
       "      <td>hsa05418~Fluid_shear_stress_and_atherosclerosis</td>\n",
       "      <td>139</td>\n",
       "      <td>47</td>\n",
       "    </tr>\n",
       "  </tbody>\n",
       "</table>\n",
       "<p>338 rows × 3 columns</p>\n",
       "</div>"
      ],
      "text/plain": [
       "                                          Process~name  gene_group  \\\n",
       "0                hsa00010~Glycolysis_/_Gluconeogenesis          67   \n",
       "1                   hsa00020~Citrate_cycle_(TCA_cycle)          30   \n",
       "2                   hsa00030~Pentose_phosphate_pathway          30   \n",
       "3    hsa00040~Pentose_and_glucuronate_interconversions          34   \n",
       "4             hsa00051~Fructose_and_mannose_metabolism          33   \n",
       "..                                                 ...         ...   \n",
       "333  hsa05412~Arrhythmogenic_right_ventricular_card...          77   \n",
       "334                    hsa05414~Dilated_cardiomyopathy          96   \n",
       "335                   hsa05415~Diabetic_cardiomyopathy         203   \n",
       "336                         hsa05416~Viral_myocarditis          60   \n",
       "337    hsa05418~Fluid_shear_stress_and_atherosclerosis         139   \n",
       "\n",
       "     num_of_Genes  \n",
       "0              25  \n",
       "1               7  \n",
       "2               9  \n",
       "3               8  \n",
       "4              12  \n",
       "..            ...  \n",
       "333            24  \n",
       "334            26  \n",
       "335            47  \n",
       "336            15  \n",
       "337            47  \n",
       "\n",
       "[338 rows x 3 columns]"
      ]
     },
     "execution_count": 5,
     "metadata": {},
     "output_type": "execute_result"
    }
   ],
   "source": [
    "kegg[[\"Process~name\",\"gene_group\",\"num_of_Genes\"]]"
   ]
  },
  {
   "cell_type": "code",
   "execution_count": 6,
   "id": "hidden-warren",
   "metadata": {},
   "outputs": [],
   "source": [
    "kegg_geneid[\"Genes\"] = kegg_geneid['Genes'].astype(int)"
   ]
  },
  {
   "cell_type": "code",
   "execution_count": 7,
   "id": "every-demographic",
   "metadata": {},
   "outputs": [],
   "source": [
    "kegg_filtered    = kegg.query('Pvalue<=0.05')"
   ]
  },
  {
   "cell_type": "code",
   "execution_count": 8,
   "id": "indirect-storage",
   "metadata": {},
   "outputs": [],
   "source": [
    "kf               = (kegg_filtered.assign(Genes = kegg_filtered['Genes'].str.split(';'))\n",
    "                    .explode('Genes')\n",
    "                    .reset_index(drop=True))\n",
    "kf['Genes'].replace('', np.nan, inplace=True)\n",
    "kf.dropna(subset = ['Genes'], inplace=True)\n",
    "kf['Genes']      = kf['Genes'].apply(lambda x: x.strip())\n",
    "kf[\"Genes\"]      = kf['Genes'].astype(int)\n",
    "#kf.to_csv(pathways + 'kegg_filtered_entrenzid_pathways', sep='\\t',index=False)"
   ]
  },
  {
   "cell_type": "code",
   "execution_count": 9,
   "id": "computational-baseline",
   "metadata": {},
   "outputs": [],
   "source": [
    "kf                = kf[[\"Genes\",\"Process~name\",\"gene_group\",\"num_of_Genes\"]]\n",
    "pathways_kegg_eng = pd.merge(kegg_geneid[[\"ensembl_gene_id\",\"Genes\"]],kf,on='Genes')\n",
    "pathways_kegg_eng['Process~name'] = pathways_kegg_eng['Process~name'].apply(lambda x:x.split('~')[1])\n",
    "pathways_kegg_eng = rename_cols(pathways_kegg_eng,\"ensembl_gene_id\",\"gene_id\")\n",
    "pathways_kegg_eng['Process~name'] = pathways_kegg_eng['Process~name'].apply(lambda x:x.split('_')[0])\n",
    "pathways_kegg_eng_ann = annon(PC_ref[[\"gene_id\",\"gene_sym\"]],\"gene_id\",pathways_kegg_eng)"
   ]
  },
  {
   "cell_type": "code",
   "execution_count": 10,
   "id": "wooden-regard",
   "metadata": {},
   "outputs": [],
   "source": [
    "df1 = (pathways_kegg_eng_ann.groupby('Process~name')['gene_sym'].\n",
    "        apply(lambda x: ', '.join(x.astype(str))).reset_index())\n",
    "df1['num_of_lncRNAs'] = df1.gene_sym.str.count(',')+1"
   ]
  },
  {
   "cell_type": "code",
   "execution_count": 11,
   "id": "imported-heritage",
   "metadata": {},
   "outputs": [
    {
     "name": "stdout",
     "output_type": "stream",
     "text": [
      "Stored 'pathways_kegg_eng_ann_list' (DataFrame)\n"
     ]
    }
   ],
   "source": [
    "pathways_kegg_eng_ann_list= (pathways_kegg_eng_ann['gene_sym'].str.split(', ')\n",
    "                    .groupby(pathways_kegg_eng_ann['Process~name'])\n",
    "                    .agg(lambda x: ', '.join(set(y for z in x for y in z)))\n",
    "                    .reset_index())\n",
    "%store pathways_kegg_eng_ann_list"
   ]
  },
  {
   "cell_type": "code",
   "execution_count": 12,
   "id": "reported-hardwood",
   "metadata": {},
   "outputs": [],
   "source": [
    "arr_great_ann = annon(PC_ref[[\"gene_id\",\"gene_sym\"]],\"gene_sym\",arr_great)\n",
    "pathways_kegg_eng_ann_great = pd.merge(pathways_kegg_eng_ann[[\"gene_id\",\"gene_sym\",\"Process~name\",\"gene_group\",\"num_of_Genes\"]],\n",
    "         arr_great_ann[[\"gene_id\",\"lncRNA\",\"Distance\"]],on=\"gene_id\")"
   ]
  },
  {
   "cell_type": "code",
   "execution_count": 13,
   "id": "trying-contractor",
   "metadata": {},
   "outputs": [],
   "source": [
    "pathways_kegg_eng_ann_great = rename_cols(pathways_kegg_eng_ann_great,\"Process~name\",\"Pathway\")"
   ]
  },
  {
   "cell_type": "code",
   "execution_count": 15,
   "id": "graphic-cabinet",
   "metadata": {
    "collapsed": true
   },
   "outputs": [
    {
     "name": "stderr",
     "output_type": "stream",
     "text": [
      "/home/alva/anaconda3/lib/python3.7/site-packages/pandas/core/frame.py:4446: SettingWithCopyWarning: \n",
      "A value is trying to be set on a copy of a slice from a DataFrame\n",
      "\n",
      "See the caveats in the documentation: https://pandas.pydata.org/pandas-docs/stable/user_guide/indexing.html#returning-a-view-versus-a-copy\n",
      "  errors=errors,\n",
      "/home/alva/anaconda3/lib/python3.7/site-packages/pandas/core/frame.py:4312: SettingWithCopyWarning: \n",
      "A value is trying to be set on a copy of a slice from a DataFrame\n",
      "\n",
      "See the caveats in the documentation: https://pandas.pydata.org/pandas-docs/stable/user_guide/indexing.html#returning-a-view-versus-a-copy\n",
      "  errors=errors,\n"
     ]
    }
   ],
   "source": [
    "pathways_kegg_eng_ann_great_fil = pathways_kegg_eng_ann_great.query('Pathway !=\"Human\" and Pathway !=\"Circadian\" and Pathway !=\"Glutamatergic\"')\n",
    "pathways_kegg_eng_ann_great_fil = rename_cols(pathways_kegg_eng_ann_great_fil,\"lncRNA\",\"gene_ids\")\n",
    "pathways_kegg_eng_ann_great_fil.drop('gene_id',axis=1,inplace=True)\n",
    "pathways_kegg_eng_ann_great_fil = rename_cols(pathways_kegg_eng_ann_great_fil,\"gene_ids\",\"gene_id\")\n",
    "pathways_kegg_eng_ann_great_fil_lnc = annon(lncRNAs_ref[['gene_id','gene_sym']],\"gene_id\",pathways_kegg_eng_ann_great_fil[[\"Pathway\",\"gene_id\",\"gene_group\",\"num_of_Genes\"]])"
   ]
  },
  {
   "cell_type": "code",
   "execution_count": 16,
   "id": "headed-suite",
   "metadata": {},
   "outputs": [],
   "source": [
    "pathways_kegg_eng_ann_great_fil_lnc = annon(common_de,\"gene_sym\",pathways_kegg_eng_ann_great_fil_lnc[[\"Pathway\",\"gene_sym\",\"gene_group\",\"num_of_Genes\"]])"
   ]
  },
  {
   "cell_type": "code",
   "execution_count": 17,
   "id": "experimental-withdrawal",
   "metadata": {},
   "outputs": [
    {
     "data": {
      "text/plain": [
       "(1408,)"
      ]
     },
     "execution_count": 17,
     "metadata": {},
     "output_type": "execute_result"
    }
   ],
   "source": [
    "pathways_kegg_eng_ann_great_fil_lnc.gene_sym.drop_duplicates().shape"
   ]
  },
  {
   "cell_type": "code",
   "execution_count": 21,
   "id": "indirect-scheduling",
   "metadata": {
    "collapsed": true
   },
   "outputs": [
    {
     "data": {
      "text/plain": [
       "0                          cAMP\n",
       "5                     Metabolic\n",
       "6                     Alzheimer\n",
       "7                           Ras\n",
       "8                      PI3K-Akt\n",
       "                  ...          \n",
       "222862                 TGF-beta\n",
       "223041                    Basal\n",
       "223043                   Breast\n",
       "394652                 Maturity\n",
       "409612    Aldosterone-regulated\n",
       "Name: Pathway_y, Length: 69, dtype: object"
      ]
     },
     "execution_count": 21,
     "metadata": {},
     "output_type": "execute_result"
    }
   ],
   "source": [
    "pathways_kegg_eng_ann_great_fil_lnc.Pathway_y.drop_duplicates()"
   ]
  },
  {
   "cell_type": "code",
   "execution_count": 18,
   "id": "fallen-stream",
   "metadata": {},
   "outputs": [
    {
     "data": {
      "text/plain": [
       "(19621642, 21)"
      ]
     },
     "execution_count": 18,
     "metadata": {},
     "output_type": "execute_result"
    }
   ],
   "source": [
    "pathways_kegg_eng_ann_great_fil_lnc.shape"
   ]
  },
  {
   "cell_type": "code",
   "execution_count": 45,
   "id": "following-aluminum",
   "metadata": {},
   "outputs": [
    {
     "name": "stdout",
     "output_type": "stream",
     "text": [
      "Stored 'pathways_kegg_eng_ann_great_fil_lnc' (DataFrame)\n"
     ]
    }
   ],
   "source": [
    "%store pathways_kegg_eng_ann_great_fil_lnc"
   ]
  }
 ],
 "metadata": {
  "kernelspec": {
   "display_name": "Python 3",
   "language": "python",
   "name": "python3"
  },
  "language_info": {
   "codemirror_mode": {
    "name": "ipython",
    "version": 3
   },
   "file_extension": ".py",
   "mimetype": "text/x-python",
   "name": "python",
   "nbconvert_exporter": "python",
   "pygments_lexer": "ipython3",
   "version": "3.7.3"
  }
 },
 "nbformat": 4,
 "nbformat_minor": 5
}
