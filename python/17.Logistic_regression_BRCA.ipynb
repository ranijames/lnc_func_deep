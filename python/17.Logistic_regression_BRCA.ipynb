{
 "cells": [
  {
   "cell_type": "code",
   "execution_count": 1,
   "id": "classified-comparative",
   "metadata": {},
   "outputs": [
    {
     "name": "stdout",
     "output_type": "stream",
     "text": [
      "Linux-5.4.0-59-generic-x86_64-with-debian-buster-sid\n",
      "Python 3.7.3 (default, Mar 27 2019, 22:11:17) \n",
      "[GCC 7.3.0]\n",
      "NumPy 1.19.5\n",
      "SciPy 1.6.0\n",
      "Scikit-Learn 0.24.1\n"
     ]
    }
   ],
   "source": [
    "from comut import comut\n",
    "from comut import fileparsers\n",
    "import palettable\n",
    "import pandas as pd\n",
    "import matplotlib.pyplot as plt\n",
    "import numpy as np\n",
    "import seaborn as sns\n",
    "from imblearn.over_sampling import SMOTE\n",
    "from sklearn import preprocessing\n",
    "import matplotlib.pyplot as plt \n",
    "plt.rc(\"font\", size=14)\n",
    "from sklearn.linear_model import LogisticRegression\n",
    "from sklearn.model_selection import train_test_split\n",
    "import platform; print(platform.platform())\n",
    "import sys; print(\"Python\", sys.version)\n",
    "import numpy; print(\"NumPy\", numpy.__version__)\n",
    "import scipy; print(\"SciPy\", scipy.__version__)\n",
    "import sklearn; print(\"Scikit-Learn\", sklearn.__version__)\n",
    "from sklearn.feature_selection import RFE\n",
    "from sklearn.linear_model import LogisticRegression\n",
    "%matplotlib inline\n",
    "from collections import OrderedDict\n",
    "from datapreprocessfunction_code import function_process, readfile, rename_cols,annon,outers_join,label_paths\n",
    "\n",
    "%config InlineBackend.figure_format = 'retina'"
   ]
  },
  {
   "cell_type": "markdown",
   "id": "perceived-canada",
   "metadata": {},
   "source": [
    "Pathways based on positive correlation between GSEA C6 oncogeic gene signature and BRCA DE lncRNAs"
   ]
  },
  {
   "cell_type": "code",
   "execution_count": 134,
   "id": "following-advancement",
   "metadata": {},
   "outputs": [],
   "source": [
    "%store -r data_new"
   ]
  },
  {
   "cell_type": "code",
   "execution_count": 130,
   "id": "legitimate-neutral",
   "metadata": {},
   "outputs": [],
   "source": [
    "data_new[\"pathway_y\"]   = data_new.apply(lambda row: label_paths(row), axis=1)\n",
    "data_new.drop('Pathway',axis=1,inplace=True)"
   ]
  },
  {
   "cell_type": "code",
   "execution_count": 135,
   "id": "parallel-demonstration",
   "metadata": {},
   "outputs": [],
   "source": [
    "num_cols                    = ['EZH2', 'H3K27','logFC','Meth_Mean','risk_alelle_freq','pathway_y','sphase_mean_FC','vaf','cnv_exp_cor',\"Correlation\"]\n",
    "data_new[num_cols]          = data_new[num_cols].apply(pd.to_numeric, errors='coerce')"
   ]
  },
  {
   "cell_type": "code",
   "execution_count": 140,
   "id": "bottom-combine",
   "metadata": {},
   "outputs": [
    {
     "data": {
      "text/html": [
       "<div>\n",
       "<style scoped>\n",
       "    .dataframe tbody tr th:only-of-type {\n",
       "        vertical-align: middle;\n",
       "    }\n",
       "\n",
       "    .dataframe tbody tr th {\n",
       "        vertical-align: top;\n",
       "    }\n",
       "\n",
       "    .dataframe thead th {\n",
       "        text-align: right;\n",
       "    }\n",
       "</style>\n",
       "<table border=\"1\" class=\"dataframe\">\n",
       "  <thead>\n",
       "    <tr style=\"text-align: right;\">\n",
       "      <th></th>\n",
       "      <th>gene_sym</th>\n",
       "      <th>cancer_driver</th>\n",
       "      <th>drug_target</th>\n",
       "      <th>triplex</th>\n",
       "      <th>promoter_methylated</th>\n",
       "      <th>negative_correlated_methylation</th>\n",
       "      <th>positive_correlated_methylation</th>\n",
       "      <th>risk_alelle_freq</th>\n",
       "      <th>EZH2</th>\n",
       "      <th>H3K27</th>\n",
       "      <th>types</th>\n",
       "      <th>cnv_exp_cor</th>\n",
       "      <th>Meth_Mean</th>\n",
       "      <th>logFC</th>\n",
       "      <th>Correlation</th>\n",
       "      <th>target</th>\n",
       "      <th>sphase_mean_FC</th>\n",
       "      <th>vaf</th>\n",
       "      <th>pathway_y</th>\n",
       "    </tr>\n",
       "  </thead>\n",
       "  <tbody>\n",
       "    <tr>\n",
       "      <th>0</th>\n",
       "      <td>AC062028.1</td>\n",
       "      <td>No</td>\n",
       "      <td>No</td>\n",
       "      <td>No</td>\n",
       "      <td>No</td>\n",
       "      <td>No</td>\n",
       "      <td>No</td>\n",
       "      <td>0.0</td>\n",
       "      <td>0.0</td>\n",
       "      <td>0.0</td>\n",
       "      <td>unknown</td>\n",
       "      <td>0.0000</td>\n",
       "      <td>0.0</td>\n",
       "      <td>1.376536</td>\n",
       "      <td>0.000000</td>\n",
       "      <td>unknown</td>\n",
       "      <td>0.0</td>\n",
       "      <td>0.273400</td>\n",
       "      <td>0</td>\n",
       "    </tr>\n",
       "    <tr>\n",
       "      <th>1</th>\n",
       "      <td>LINC00467</td>\n",
       "      <td>No</td>\n",
       "      <td>No</td>\n",
       "      <td>No</td>\n",
       "      <td>No</td>\n",
       "      <td>No</td>\n",
       "      <td>No</td>\n",
       "      <td>0.0</td>\n",
       "      <td>0.0</td>\n",
       "      <td>0.0</td>\n",
       "      <td>t</td>\n",
       "      <td>0.5647</td>\n",
       "      <td>0.0</td>\n",
       "      <td>0.815080</td>\n",
       "      <td>0.463718</td>\n",
       "      <td>unknown</td>\n",
       "      <td>0.0</td>\n",
       "      <td>0.238314</td>\n",
       "      <td>1</td>\n",
       "    </tr>\n",
       "    <tr>\n",
       "      <th>2</th>\n",
       "      <td>C1orf147</td>\n",
       "      <td>No</td>\n",
       "      <td>No</td>\n",
       "      <td>No</td>\n",
       "      <td>No</td>\n",
       "      <td>No</td>\n",
       "      <td>No</td>\n",
       "      <td>0.0</td>\n",
       "      <td>0.0</td>\n",
       "      <td>0.0</td>\n",
       "      <td>unknown</td>\n",
       "      <td>0.0000</td>\n",
       "      <td>0.0</td>\n",
       "      <td>0.705599</td>\n",
       "      <td>0.000000</td>\n",
       "      <td>unknown</td>\n",
       "      <td>0.0</td>\n",
       "      <td>0.000000</td>\n",
       "      <td>0</td>\n",
       "    </tr>\n",
       "    <tr>\n",
       "      <th>3</th>\n",
       "      <td>LINC01116</td>\n",
       "      <td>No</td>\n",
       "      <td>No</td>\n",
       "      <td>No</td>\n",
       "      <td>No</td>\n",
       "      <td>No</td>\n",
       "      <td>No</td>\n",
       "      <td>0.0</td>\n",
       "      <td>0.0</td>\n",
       "      <td>0.0</td>\n",
       "      <td>unknown</td>\n",
       "      <td>0.0000</td>\n",
       "      <td>0.0</td>\n",
       "      <td>0.830010</td>\n",
       "      <td>0.471589</td>\n",
       "      <td>unknown</td>\n",
       "      <td>0.0</td>\n",
       "      <td>0.000000</td>\n",
       "      <td>1</td>\n",
       "    </tr>\n",
       "    <tr>\n",
       "      <th>6</th>\n",
       "      <td>LINC01116</td>\n",
       "      <td>No</td>\n",
       "      <td>No</td>\n",
       "      <td>No</td>\n",
       "      <td>No</td>\n",
       "      <td>No</td>\n",
       "      <td>No</td>\n",
       "      <td>0.0</td>\n",
       "      <td>0.0</td>\n",
       "      <td>0.0</td>\n",
       "      <td>unknown</td>\n",
       "      <td>0.0000</td>\n",
       "      <td>0.0</td>\n",
       "      <td>0.830010</td>\n",
       "      <td>0.450748</td>\n",
       "      <td>unknown</td>\n",
       "      <td>0.0</td>\n",
       "      <td>0.000000</td>\n",
       "      <td>1</td>\n",
       "    </tr>\n",
       "    <tr>\n",
       "      <th>...</th>\n",
       "      <td>...</td>\n",
       "      <td>...</td>\n",
       "      <td>...</td>\n",
       "      <td>...</td>\n",
       "      <td>...</td>\n",
       "      <td>...</td>\n",
       "      <td>...</td>\n",
       "      <td>...</td>\n",
       "      <td>...</td>\n",
       "      <td>...</td>\n",
       "      <td>...</td>\n",
       "      <td>...</td>\n",
       "      <td>...</td>\n",
       "      <td>...</td>\n",
       "      <td>...</td>\n",
       "      <td>...</td>\n",
       "      <td>...</td>\n",
       "      <td>...</td>\n",
       "      <td>...</td>\n",
       "    </tr>\n",
       "    <tr>\n",
       "      <th>62192</th>\n",
       "      <td>LINC00891</td>\n",
       "      <td>Yes</td>\n",
       "      <td>No</td>\n",
       "      <td>No</td>\n",
       "      <td>No</td>\n",
       "      <td>No</td>\n",
       "      <td>No</td>\n",
       "      <td>0.0</td>\n",
       "      <td>0.0</td>\n",
       "      <td>0.0</td>\n",
       "      <td>unknown</td>\n",
       "      <td>0.0000</td>\n",
       "      <td>0.0</td>\n",
       "      <td>-1.251660</td>\n",
       "      <td>0.462915</td>\n",
       "      <td>unknown</td>\n",
       "      <td>0.0</td>\n",
       "      <td>0.000000</td>\n",
       "      <td>1</td>\n",
       "    </tr>\n",
       "    <tr>\n",
       "      <th>62193</th>\n",
       "      <td>LINC00891</td>\n",
       "      <td>Yes</td>\n",
       "      <td>No</td>\n",
       "      <td>No</td>\n",
       "      <td>No</td>\n",
       "      <td>No</td>\n",
       "      <td>No</td>\n",
       "      <td>0.0</td>\n",
       "      <td>0.0</td>\n",
       "      <td>0.0</td>\n",
       "      <td>unknown</td>\n",
       "      <td>0.0000</td>\n",
       "      <td>0.0</td>\n",
       "      <td>-1.251660</td>\n",
       "      <td>0.457868</td>\n",
       "      <td>unknown</td>\n",
       "      <td>0.0</td>\n",
       "      <td>0.000000</td>\n",
       "      <td>1</td>\n",
       "    </tr>\n",
       "    <tr>\n",
       "      <th>62195</th>\n",
       "      <td>LINC00891</td>\n",
       "      <td>Yes</td>\n",
       "      <td>No</td>\n",
       "      <td>No</td>\n",
       "      <td>No</td>\n",
       "      <td>No</td>\n",
       "      <td>No</td>\n",
       "      <td>0.0</td>\n",
       "      <td>0.0</td>\n",
       "      <td>0.0</td>\n",
       "      <td>unknown</td>\n",
       "      <td>0.0000</td>\n",
       "      <td>0.0</td>\n",
       "      <td>-1.251660</td>\n",
       "      <td>0.482828</td>\n",
       "      <td>unknown</td>\n",
       "      <td>0.0</td>\n",
       "      <td>0.000000</td>\n",
       "      <td>1</td>\n",
       "    </tr>\n",
       "    <tr>\n",
       "      <th>62196</th>\n",
       "      <td>LINC00891</td>\n",
       "      <td>Yes</td>\n",
       "      <td>No</td>\n",
       "      <td>No</td>\n",
       "      <td>No</td>\n",
       "      <td>No</td>\n",
       "      <td>No</td>\n",
       "      <td>0.0</td>\n",
       "      <td>0.0</td>\n",
       "      <td>0.0</td>\n",
       "      <td>unknown</td>\n",
       "      <td>0.0000</td>\n",
       "      <td>0.0</td>\n",
       "      <td>-1.251660</td>\n",
       "      <td>0.454535</td>\n",
       "      <td>unknown</td>\n",
       "      <td>0.0</td>\n",
       "      <td>0.000000</td>\n",
       "      <td>1</td>\n",
       "    </tr>\n",
       "    <tr>\n",
       "      <th>62197</th>\n",
       "      <td>LINC00891</td>\n",
       "      <td>Yes</td>\n",
       "      <td>No</td>\n",
       "      <td>No</td>\n",
       "      <td>No</td>\n",
       "      <td>No</td>\n",
       "      <td>No</td>\n",
       "      <td>0.0</td>\n",
       "      <td>0.0</td>\n",
       "      <td>0.0</td>\n",
       "      <td>unknown</td>\n",
       "      <td>0.0000</td>\n",
       "      <td>0.0</td>\n",
       "      <td>-1.251660</td>\n",
       "      <td>0.484733</td>\n",
       "      <td>unknown</td>\n",
       "      <td>0.0</td>\n",
       "      <td>0.000000</td>\n",
       "      <td>1</td>\n",
       "    </tr>\n",
       "  </tbody>\n",
       "</table>\n",
       "<p>30267 rows × 19 columns</p>\n",
       "</div>"
      ],
      "text/plain": [
       "         gene_sym cancer_driver drug_target triplex promoter_methylated  \\\n",
       "0      AC062028.1            No          No      No                  No   \n",
       "1       LINC00467            No          No      No                  No   \n",
       "2        C1orf147            No          No      No                  No   \n",
       "3       LINC01116            No          No      No                  No   \n",
       "6       LINC01116            No          No      No                  No   \n",
       "...           ...           ...         ...     ...                 ...   \n",
       "62192   LINC00891           Yes          No      No                  No   \n",
       "62193   LINC00891           Yes          No      No                  No   \n",
       "62195   LINC00891           Yes          No      No                  No   \n",
       "62196   LINC00891           Yes          No      No                  No   \n",
       "62197   LINC00891           Yes          No      No                  No   \n",
       "\n",
       "      negative_correlated_methylation positive_correlated_methylation  \\\n",
       "0                                  No                              No   \n",
       "1                                  No                              No   \n",
       "2                                  No                              No   \n",
       "3                                  No                              No   \n",
       "6                                  No                              No   \n",
       "...                               ...                             ...   \n",
       "62192                              No                              No   \n",
       "62193                              No                              No   \n",
       "62195                              No                              No   \n",
       "62196                              No                              No   \n",
       "62197                              No                              No   \n",
       "\n",
       "       risk_alelle_freq  EZH2  H3K27    types  cnv_exp_cor  Meth_Mean  \\\n",
       "0                   0.0   0.0    0.0  unknown       0.0000        0.0   \n",
       "1                   0.0   0.0    0.0        t       0.5647        0.0   \n",
       "2                   0.0   0.0    0.0  unknown       0.0000        0.0   \n",
       "3                   0.0   0.0    0.0  unknown       0.0000        0.0   \n",
       "6                   0.0   0.0    0.0  unknown       0.0000        0.0   \n",
       "...                 ...   ...    ...      ...          ...        ...   \n",
       "62192               0.0   0.0    0.0  unknown       0.0000        0.0   \n",
       "62193               0.0   0.0    0.0  unknown       0.0000        0.0   \n",
       "62195               0.0   0.0    0.0  unknown       0.0000        0.0   \n",
       "62196               0.0   0.0    0.0  unknown       0.0000        0.0   \n",
       "62197               0.0   0.0    0.0  unknown       0.0000        0.0   \n",
       "\n",
       "          logFC  Correlation   target  sphase_mean_FC       vaf  pathway_y  \n",
       "0      1.376536     0.000000  unknown             0.0  0.273400          0  \n",
       "1      0.815080     0.463718  unknown             0.0  0.238314          1  \n",
       "2      0.705599     0.000000  unknown             0.0  0.000000          0  \n",
       "3      0.830010     0.471589  unknown             0.0  0.000000          1  \n",
       "6      0.830010     0.450748  unknown             0.0  0.000000          1  \n",
       "...         ...          ...      ...             ...       ...        ...  \n",
       "62192 -1.251660     0.462915  unknown             0.0  0.000000          1  \n",
       "62193 -1.251660     0.457868  unknown             0.0  0.000000          1  \n",
       "62195 -1.251660     0.482828  unknown             0.0  0.000000          1  \n",
       "62196 -1.251660     0.454535  unknown             0.0  0.000000          1  \n",
       "62197 -1.251660     0.484733  unknown             0.0  0.000000          1  \n",
       "\n",
       "[30267 rows x 19 columns]"
      ]
     },
     "execution_count": 140,
     "metadata": {},
     "output_type": "execute_result"
    }
   ],
   "source": [
    "data_new.drop_duplicates()"
   ]
  },
  {
   "cell_type": "code",
   "execution_count": 137,
   "id": "checked-lobby",
   "metadata": {},
   "outputs": [
    {
     "name": "stdout",
     "output_type": "stream",
     "text": [
      "Stored 'data_new' (DataFrame)\n"
     ]
    }
   ],
   "source": [
    "%store data_new"
   ]
  },
  {
   "cell_type": "code",
   "execution_count": 14,
   "id": "dimensional-grenada",
   "metadata": {},
   "outputs": [],
   "source": [
    "down = data_new.query('logFC<=-0.58')"
   ]
  },
  {
   "cell_type": "code",
   "execution_count": 138,
   "id": "conceptual-species",
   "metadata": {},
   "outputs": [
    {
     "data": {
      "text/plain": [
       "<AxesSubplot:ylabel='pathway_y'>"
      ]
     },
     "execution_count": 138,
     "metadata": {},
     "output_type": "execute_result"
    },
    {
     "data": {
      "image/png": "[encoded data removed]",
      "text/plain": [
       "<Figure size 432x288 with 1 Axes>"
      ]
     },
     "metadata": {
      "image/png": {
       "height": 231,
       "width": 245
      }
     },
     "output_type": "display_data"
    }
   ],
   "source": [
    "data_new.pathway_y.value_counts().plot(kind='pie', autopct='%1.0f%%', colors=['skyblue', 'orange'],\n",
    "                                                      explode=(0.05, 0.05))"
   ]
  },
  {
   "cell_type": "code",
   "execution_count": 83,
   "id": "resident-digest",
   "metadata": {},
   "outputs": [],
   "source": [
    "data = data_new\n",
    "#data_new.drop(['gene_sym'],inplace =True,axis=1)\n"
   ]
  },
  {
   "cell_type": "code",
   "execution_count": 74,
   "id": "superb-decade",
   "metadata": {
    "collapsed": true
   },
   "outputs": [
    {
     "data": {
      "text/html": [
       "<div>\n",
       "<style scoped>\n",
       "    .dataframe tbody tr th:only-of-type {\n",
       "        vertical-align: middle;\n",
       "    }\n",
       "\n",
       "    .dataframe tbody tr th {\n",
       "        vertical-align: top;\n",
       "    }\n",
       "\n",
       "    .dataframe thead th {\n",
       "        text-align: right;\n",
       "    }\n",
       "</style>\n",
       "<table border=\"1\" class=\"dataframe\">\n",
       "  <thead>\n",
       "    <tr style=\"text-align: right;\">\n",
       "      <th></th>\n",
       "      <th>cancer_driver</th>\n",
       "      <th>drug_target</th>\n",
       "      <th>triplex</th>\n",
       "      <th>promoter_methylated</th>\n",
       "      <th>negative_correlated_methylation</th>\n",
       "      <th>positive_correlated_methylation</th>\n",
       "      <th>risk_alelle_freq</th>\n",
       "      <th>EZH2</th>\n",
       "      <th>H3K27</th>\n",
       "      <th>types</th>\n",
       "      <th>cnv_exp_cor</th>\n",
       "      <th>Meth_Mean</th>\n",
       "      <th>logFC</th>\n",
       "      <th>target</th>\n",
       "      <th>sphase_mean_FC</th>\n",
       "      <th>vaf</th>\n",
       "      <th>pathway_y</th>\n",
       "    </tr>\n",
       "  </thead>\n",
       "  <tbody>\n",
       "    <tr>\n",
       "      <th>0</th>\n",
       "      <td>No</td>\n",
       "      <td>No</td>\n",
       "      <td>No</td>\n",
       "      <td>No</td>\n",
       "      <td>No</td>\n",
       "      <td>No</td>\n",
       "      <td>0.0</td>\n",
       "      <td>0.0</td>\n",
       "      <td>0.0</td>\n",
       "      <td>unknown</td>\n",
       "      <td>0.0000</td>\n",
       "      <td>0.0</td>\n",
       "      <td>1.376536</td>\n",
       "      <td>unknown</td>\n",
       "      <td>0.0</td>\n",
       "      <td>0.273400</td>\n",
       "      <td>0</td>\n",
       "    </tr>\n",
       "    <tr>\n",
       "      <th>1</th>\n",
       "      <td>No</td>\n",
       "      <td>No</td>\n",
       "      <td>No</td>\n",
       "      <td>No</td>\n",
       "      <td>No</td>\n",
       "      <td>No</td>\n",
       "      <td>0.0</td>\n",
       "      <td>0.0</td>\n",
       "      <td>0.0</td>\n",
       "      <td>t</td>\n",
       "      <td>0.5647</td>\n",
       "      <td>0.0</td>\n",
       "      <td>0.815080</td>\n",
       "      <td>unknown</td>\n",
       "      <td>0.0</td>\n",
       "      <td>0.238314</td>\n",
       "      <td>1</td>\n",
       "    </tr>\n",
       "    <tr>\n",
       "      <th>2</th>\n",
       "      <td>No</td>\n",
       "      <td>No</td>\n",
       "      <td>No</td>\n",
       "      <td>No</td>\n",
       "      <td>No</td>\n",
       "      <td>No</td>\n",
       "      <td>0.0</td>\n",
       "      <td>0.0</td>\n",
       "      <td>0.0</td>\n",
       "      <td>unknown</td>\n",
       "      <td>0.0000</td>\n",
       "      <td>0.0</td>\n",
       "      <td>0.705599</td>\n",
       "      <td>unknown</td>\n",
       "      <td>0.0</td>\n",
       "      <td>0.000000</td>\n",
       "      <td>0</td>\n",
       "    </tr>\n",
       "    <tr>\n",
       "      <th>3</th>\n",
       "      <td>No</td>\n",
       "      <td>No</td>\n",
       "      <td>No</td>\n",
       "      <td>No</td>\n",
       "      <td>No</td>\n",
       "      <td>No</td>\n",
       "      <td>0.0</td>\n",
       "      <td>0.0</td>\n",
       "      <td>0.0</td>\n",
       "      <td>unknown</td>\n",
       "      <td>0.0000</td>\n",
       "      <td>0.0</td>\n",
       "      <td>0.830010</td>\n",
       "      <td>unknown</td>\n",
       "      <td>0.0</td>\n",
       "      <td>0.000000</td>\n",
       "      <td>1</td>\n",
       "    </tr>\n",
       "    <tr>\n",
       "      <th>4</th>\n",
       "      <td>No</td>\n",
       "      <td>No</td>\n",
       "      <td>No</td>\n",
       "      <td>No</td>\n",
       "      <td>No</td>\n",
       "      <td>No</td>\n",
       "      <td>0.0</td>\n",
       "      <td>0.0</td>\n",
       "      <td>0.0</td>\n",
       "      <td>unknown</td>\n",
       "      <td>0.0000</td>\n",
       "      <td>0.0</td>\n",
       "      <td>0.990965</td>\n",
       "      <td>unknown</td>\n",
       "      <td>0.0</td>\n",
       "      <td>0.000000</td>\n",
       "      <td>1</td>\n",
       "    </tr>\n",
       "  </tbody>\n",
       "</table>\n",
       "</div>"
      ],
      "text/plain": [
       "  cancer_driver drug_target triplex promoter_methylated  \\\n",
       "0            No          No      No                  No   \n",
       "1            No          No      No                  No   \n",
       "2            No          No      No                  No   \n",
       "3            No          No      No                  No   \n",
       "4            No          No      No                  No   \n",
       "\n",
       "  negative_correlated_methylation positive_correlated_methylation  \\\n",
       "0                              No                              No   \n",
       "1                              No                              No   \n",
       "2                              No                              No   \n",
       "3                              No                              No   \n",
       "4                              No                              No   \n",
       "\n",
       "   risk_alelle_freq  EZH2  H3K27    types  cnv_exp_cor  Meth_Mean     logFC  \\\n",
       "0               0.0   0.0    0.0  unknown       0.0000        0.0  1.376536   \n",
       "1               0.0   0.0    0.0        t       0.5647        0.0  0.815080   \n",
       "2               0.0   0.0    0.0  unknown       0.0000        0.0  0.705599   \n",
       "3               0.0   0.0    0.0  unknown       0.0000        0.0  0.830010   \n",
       "4               0.0   0.0    0.0  unknown       0.0000        0.0  0.990965   \n",
       "\n",
       "    target  sphase_mean_FC       vaf  pathway_y  \n",
       "0  unknown             0.0  0.273400          0  \n",
       "1  unknown             0.0  0.238314          1  \n",
       "2  unknown             0.0  0.000000          0  \n",
       "3  unknown             0.0  0.000000          1  \n",
       "4  unknown             0.0  0.000000          1  "
      ]
     },
     "execution_count": 74,
     "metadata": {},
     "output_type": "execute_result"
    }
   ],
   "source": [
    "data_new.head()"
   ]
  },
  {
   "cell_type": "code",
   "execution_count": 84,
   "id": "preliminary-parameter",
   "metadata": {},
   "outputs": [],
   "source": [
    "cat_vars=['cancer_driver',\n",
    " 'drug_target', 'promoter_methylated',\n",
    " 'triplex','target','types']\n",
    "for var in cat_vars:\n",
    "    cat_list = 'var '+'_'+ var\n",
    "    cat_list = pd.get_dummies(data[var], prefix=var)\n",
    "    data1    = data.join(cat_list)\n",
    "    data     = data1\n",
    "    \n",
    "cat_vars = ['cancer_driver',\n",
    " 'drug_target', 'promoter_methylated',\n",
    " 'triplex','target','types']\n",
    "data_vars    = data.columns.values.tolist()\n",
    "to_keep      = [i for i in data_vars if i not in cat_vars]"
   ]
  },
  {
   "cell_type": "code",
   "execution_count": 85,
   "id": "different-perth",
   "metadata": {},
   "outputs": [],
   "source": [
    "data_final =data[to_keep]\n",
    "data_final =data_final.replace(['o','t','ot'],1)\n",
    "#data_final.drop(['gene_sym'],axis=1,inplace=True)\n",
    "data_final=data_final.replace(['unknown', 'Yes'], \n",
    "                     [0,1])\n",
    "data_final=data_final.replace('yes', \n",
    "                     1)\n",
    "data_final=data_final.replace('No', \n",
    "                     0)\n",
    "data_final=data_final.fillna(0)"
   ]
  },
  {
   "cell_type": "code",
   "execution_count": 86,
   "id": "elder-coordinator",
   "metadata": {},
   "outputs": [],
   "source": [
    "X  = data_final.loc[:, data_final.columns != 'pathway_y']\n",
    "y  = data_final.loc[:, data_final.columns == 'pathway_y']\n",
    "os = SMOTE(random_state=0)\n",
    "X_train, X_test, y_train, y_test = train_test_split(X, y, test_size=0.3, random_state=0)\n",
    "columns   = X_train.columns\n",
    "os_data_X,os_data_y=os.fit_resample(X_train, y_train)\n",
    "os_data_X = pd.DataFrame(data=os_data_X,columns=columns )\n",
    "os_data_y = pd.DataFrame(data=os_data_y,columns=['pathway_y'])"
   ]
  },
  {
   "cell_type": "code",
   "execution_count": 87,
   "id": "according-constraint",
   "metadata": {
    "scrolled": true
   },
   "outputs": [
    {
     "name": "stdout",
     "output_type": "stream",
     "text": [
      "length of oversampled data is  2254\n",
      "Number of no pathways in oversampled data 1127\n",
      "Number of pathways 1127\n",
      "Proportion of no pathways data in oversampled data is  0.5\n",
      "Proportion of pathways data in oversampled data is  0.5\n"
     ]
    }
   ],
   "source": [
    "# Check the numbers of our data\n",
    "print(\"length of oversampled data is \",len(os_data_X))\n",
    "print(\"Number of no pathways in oversampled data\",len(os_data_y[os_data_y['pathway_y']==0]))\n",
    "print(\"Number of pathways\",len(os_data_y[os_data_y['pathway_y']==1]))\n",
    "print(\"Proportion of no pathways data in oversampled data is \",len(os_data_y[os_data_y['pathway_y']==0])/len(os_data_X))\n",
    "print(\"Proportion of pathways data in oversampled data is \",len(os_data_y[os_data_y['pathway_y']==1])/len(os_data_X))"
   ]
  },
  {
   "cell_type": "code",
   "execution_count": 88,
   "id": "common-approach",
   "metadata": {},
   "outputs": [
    {
     "data": {
      "text/plain": [
       "Index(['negative_correlated_methylation', 'positive_correlated_methylation',\n",
       "       'risk_alelle_freq', 'EZH2', 'H3K27', 'cnv_exp_cor', 'Meth_Mean',\n",
       "       'logFC', 'sphase_mean_FC', 'vaf', 'pathway_y', 'cancer_driver_No',\n",
       "       'cancer_driver_Yes', 'drug_target_No', 'promoter_methylated_No',\n",
       "       'promoter_methylated_Yes', 'triplex_No', 'triplex_Yes', 'target_Yes',\n",
       "       'target_unknown', 'types_o', 'types_ot', 'types_t', 'types_unknown'],\n",
       "      dtype='object')"
      ]
     },
     "execution_count": 88,
     "metadata": {},
     "output_type": "execute_result"
    }
   ],
   "source": [
    "data_final_vars=data_final.columns.values.tolist()\n",
    "data_final.columns"
   ]
  },
  {
   "cell_type": "code",
   "execution_count": 89,
   "id": "previous-gambling",
   "metadata": {},
   "outputs": [
    {
     "name": "stderr",
     "output_type": "stream",
     "text": [
      "/home/alva/anaconda3/lib/python3.7/site-packages/sklearn/utils/validation.py:72: FutureWarning: Pass n_features_to_select=20 as keyword args. From version 1.0 (renaming of 0.25) passing these as positional arguments will result in an error\n",
      "  \"will result in an error\", FutureWarning)\n",
      "/home/alva/anaconda3/lib/python3.7/site-packages/sklearn/linear_model/_logistic.py:765: ConvergenceWarning: lbfgs failed to converge (status=1):\n",
      "STOP: TOTAL NO. of ITERATIONS REACHED LIMIT.\n",
      "\n",
      "Increase the number of iterations (max_iter) or scale the data as shown in:\n",
      "    https://scikit-learn.org/stable/modules/preprocessing.html\n",
      "Please also refer to the documentation for alternative solver options:\n",
      "    https://scikit-learn.org/stable/modules/linear_model.html#logistic-regression\n",
      "  extra_warning_msg=_LOGISTIC_SOLVER_CONVERGENCE_MSG)\n"
     ]
    },
    {
     "name": "stdout",
     "output_type": "stream",
     "text": [
      "[ True  True  True  True  True  True False  True  True  True  True False\n",
      " False  True  True  True  True  True  True  True  True  True  True]\n",
      "[1 1 1 1 1 1 2 1 1 1 1 3 4 1 1 1 1 1 1 1 1 1 1]\n"
     ]
    }
   ],
   "source": [
    "y=['pathway_y']\n",
    "X=[i for i in data_final_vars if i not in y]\n",
    "from sklearn.feature_selection import RFE\n",
    "from sklearn.linear_model import LogisticRegression\n",
    "logreg = LogisticRegression()\n",
    "rfe = RFE(logreg, 20)\n",
    "rfe = rfe.fit(os_data_X, os_data_y.values.ravel())\n",
    "print(rfe.support_)\n",
    "print(rfe.ranking_)"
   ]
  },
  {
   "cell_type": "code",
   "execution_count": 90,
   "id": "radio-savings",
   "metadata": {},
   "outputs": [
    {
     "data": {
      "text/plain": [
       "['negative_correlated_methylation',\n",
       " 'positive_correlated_methylation',\n",
       " 'risk_alelle_freq',\n",
       " 'EZH2',\n",
       " 'H3K27',\n",
       " 'cnv_exp_cor',\n",
       " 'logFC',\n",
       " 'sphase_mean_FC',\n",
       " 'vaf',\n",
       " 'cancer_driver_No',\n",
       " 'promoter_methylated_No',\n",
       " 'promoter_methylated_Yes',\n",
       " 'triplex_No',\n",
       " 'triplex_Yes',\n",
       " 'target_Yes',\n",
       " 'target_unknown',\n",
       " 'types_o',\n",
       " 'types_ot',\n",
       " 'types_t',\n",
       " 'types_unknown']"
      ]
     },
     "execution_count": 90,
     "metadata": {},
     "output_type": "execute_result"
    }
   ],
   "source": [
    "os_data_X.columns[rfe.support_].tolist()"
   ]
  },
  {
   "cell_type": "code",
   "execution_count": 123,
   "id": "coordinate-video",
   "metadata": {},
   "outputs": [],
   "source": [
    "cols=[\n",
    " 'positive_correlated_methylation',\n",
    " 'EZH2',\n",
    " 'H3K27',\n",
    " 'cnv_exp_cor',\n",
    " 'logFC',\n",
    " 'sphase_mean_FC',\n",
    " 'vaf',\n",
    " 'cancer_driver_No',\n",
    " 'promoter_methylated_No',\n",
    " 'promoter_methylated_Yes',\n",
    " 'target_Yes',\n",
    " 'target_unknown',\n",
    " 'types_o',\n",
    " 'types_ot',\n",
    " 'types_t',\n",
    " 'types_unknown']\n",
    "X=os_data_X[cols]\n",
    "y=os_data_y['pathway_y']"
   ]
  },
  {
   "cell_type": "code",
   "execution_count": 124,
   "id": "supreme-fourth",
   "metadata": {},
   "outputs": [
    {
     "name": "stdout",
     "output_type": "stream",
     "text": [
      "Warning: Maximum number of iterations has been exceeded.\n",
      "         Current function value: 0.672437\n",
      "         Iterations: 35\n",
      "                                     Results: Logit\n",
      "=========================================================================================\n",
      "Model:                      Logit                    Pseudo R-squared:         0.030     \n",
      "Dependent Variable:         pathway_y                AIC:                      3063.3444 \n",
      "Date:                       2021-03-08 12:31         BIC:                      3154.8717 \n",
      "No. Observations:           2254                     Log-Likelihood:           -1515.7   \n",
      "Df Model:                   15                       LL-Null:                  -1562.4   \n",
      "Df Residuals:               2238                     LLR p-value:              2.3293e-13\n",
      "Converged:                  0.0000                   Scale:                    1.0000    \n",
      "No. Iterations:             35.0000                                                      \n",
      "-----------------------------------------------------------------------------------------\n",
      "                                 Coef.    Std.Err.     z    P>|z|     [0.025     0.975]  \n",
      "-----------------------------------------------------------------------------------------\n",
      "positive_correlated_methylation  -0.8132     0.6195 -1.3127 0.1893     -2.0275     0.4010\n",
      "EZH2                             -0.1586     0.1895 -0.8365 0.4029     -0.5301     0.2130\n",
      "H3K27                            -0.3353     0.3124 -1.0734 0.2831     -0.9477     0.2770\n",
      "cnv_exp_cor                       0.6168     1.2241  0.5039 0.6144     -1.7824     3.0160\n",
      "logFC                            -0.2463     0.0306 -8.0551 0.0000     -0.3062    -0.1863\n",
      "sphase_mean_FC                    0.3624     0.2748  1.3187 0.1873     -0.1762     0.9010\n",
      "vaf                              -0.2389     0.4616 -0.5175 0.6048     -1.1435     0.6658\n",
      "cancer_driver_No                 -0.3037     0.3746 -0.8107 0.4175     -1.0378     0.4305\n",
      "promoter_methylated_No            6.6600    22.9166  0.2906 0.7713    -38.2556    51.5757\n",
      "promoter_methylated_Yes           6.5541    22.9052  0.2861 0.7748    -38.3394    51.4475\n",
      "target_Yes                        9.0834  1079.0530  0.0084 0.9933  -2105.8215  2123.9883\n",
      "target_unknown                    8.6401  1079.0531  0.0080 0.9936  -2106.2650  2123.5452\n",
      "types_o                         -15.0744  1078.8100 -0.0140 0.9889  -2129.5031  2099.3543\n",
      "types_ot                          6.9379 39573.9183  0.0002 0.9999 -77556.5167 77570.3924\n",
      "types_t                         -14.1762  1078.8101 -0.0131 0.9895  -2128.6052  2100.2528\n",
      "types_unknown                   -15.1284  1078.8097 -0.0140 0.9888  -2129.5566  2099.2999\n",
      "=========================================================================================\n",
      "\n"
     ]
    },
    {
     "name": "stderr",
     "output_type": "stream",
     "text": [
      "/home/alva/anaconda3/lib/python3.7/site-packages/statsmodels/base/model.py:568: ConvergenceWarning: Maximum Likelihood optimization failed to converge. Check mle_retvals\n",
      "  ConvergenceWarning)\n"
     ]
    }
   ],
   "source": [
    "import statsmodels.api as sm\n",
    "logit_model=sm.Logit(y,X)\n",
    "result=logit_model.fit()\n",
    "print(result.summary2())"
   ]
  },
  {
   "cell_type": "code",
   "execution_count": 125,
   "id": "duplicate-lucas",
   "metadata": {},
   "outputs": [
    {
     "name": "stdout",
     "output_type": "stream",
     "text": [
      "Accuracy of logistic regression classifier on test set: 0.60\n"
     ]
    }
   ],
   "source": [
    "from sklearn.linear_model import LogisticRegression\n",
    "from sklearn import metrics\n",
    "X_train, X_test, y_train, y_test = train_test_split(X, y, test_size=0.3, random_state=0)\n",
    "logreg = LogisticRegression(C=1.0,class_weight=None,dual=False, fit_intercept=True,intercept_scaling=1,\n",
    "                   max_iter=100,multi_class='ovr',n_jobs=1, penalty='l2',random_state=None,solver='liblinear',tol=0.0001,\n",
    "                  verbose=0,warm_start=False)\n",
    "logreg.fit(X_train, y_train)\n",
    "y_pred = logreg.predict(X_test)\n",
    "print('Accuracy of logistic regression classifier on test set: {:.2f}'.format(logreg.score(X_test, y_test)))"
   ]
  },
  {
   "cell_type": "code",
   "execution_count": 126,
   "id": "identical-switzerland",
   "metadata": {},
   "outputs": [
    {
     "name": "stdout",
     "output_type": "stream",
     "text": [
      "[[187 136]\n",
      " [135 219]]\n"
     ]
    }
   ],
   "source": [
    "from sklearn.metrics import confusion_matrix\n",
    "confusion_matrix = confusion_matrix(y_test, y_pred)\n",
    "print(confusion_matrix)"
   ]
  },
  {
   "cell_type": "code",
   "execution_count": 127,
   "id": "static-companion",
   "metadata": {},
   "outputs": [
    {
     "name": "stdout",
     "output_type": "stream",
     "text": [
      "              precision    recall  f1-score   support\n",
      "\n",
      "           0       0.58      0.58      0.58       323\n",
      "           1       0.62      0.62      0.62       354\n",
      "\n",
      "    accuracy                           0.60       677\n",
      "   macro avg       0.60      0.60      0.60       677\n",
      "weighted avg       0.60      0.60      0.60       677\n",
      "\n"
     ]
    }
   ],
   "source": [
    "from sklearn.metrics import classification_report\n",
    "print(classification_report(y_test, y_pred))"
   ]
  },
  {
   "cell_type": "code",
   "execution_count": 128,
   "id": "random-pennsylvania",
   "metadata": {},
   "outputs": [
    {
     "data": {
      "image/png": "[encoded data removed]",
      "text/plain": [
       "<Figure size 432x288 with 1 Axes>"
      ]
     },
     "metadata": {
      "image/png": {
       "height": 277,
       "width": 393
      },
      "needs_background": "light"
     },
     "output_type": "display_data"
    }
   ],
   "source": [
    "from sklearn.metrics import roc_auc_score\n",
    "from sklearn.metrics import roc_curve\n",
    "logit_roc_auc = roc_auc_score(y_test, logreg.predict(X_test))\n",
    "fpr, tpr, thresholds = roc_curve(y_test, logreg.predict_proba(X_test)[:,1])\n",
    "plt.figure()\n",
    "plt.plot(fpr, tpr, label='Logistic Regression (area = %0.2f)' % logit_roc_auc)\n",
    "plt.plot([0, 1], [0, 1],'r--')\n",
    "plt.xlim([0.0, 1.0])\n",
    "plt.ylim([0.0, 1.05])\n",
    "plt.xlabel('False Positive Rate')\n",
    "plt.ylabel('True Positive Rate')\n",
    "plt.title('Receiver operating characteristic')\n",
    "plt.legend(loc=\"lower right\")\n",
    "#plt.savefig('Log_ROC_BRCA_correlation_pathways.png')\n",
    "plt.show()"
   ]
  },
  {
   "cell_type": "code",
   "execution_count": null,
   "id": "occupational-picture",
   "metadata": {},
   "outputs": [],
   "source": []
  }
 ],
 "metadata": {
  "kernelspec": {
   "display_name": "Python 3",
   "language": "python",
   "name": "python3"
  },
  "language_info": {
   "codemirror_mode": {
    "name": "ipython",
    "version": 3
   },
   "file_extension": ".py",
   "mimetype": "text/x-python",
   "name": "python",
   "nbconvert_exporter": "python",
   "pygments_lexer": "ipython3",
   "version": "3.7.3"
  }
 },
 "nbformat": 4,
 "nbformat_minor": 5
}
