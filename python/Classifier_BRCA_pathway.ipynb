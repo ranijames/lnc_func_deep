{
 "cells": [
  {
   "cell_type": "code",
   "execution_count": 18,
   "id": "fresh-radical",
   "metadata": {},
   "outputs": [],
   "source": [
    "import torch\n",
    "import torch.nn as nn\n",
    "import numpy as np\n",
    "import pandas as pd\n",
    "import matplotlib.pyplot as plt\n",
    "import seaborn as sns\n",
    "from collections import OrderedDict\n",
    "from datapreprocessfunction_code import function_process, readfile, rename_cols,annon,outers_join\n",
    "%matplotlib inline"
   ]
  },
  {
   "cell_type": "code",
   "execution_count": 12,
   "id": "sixth-channels",
   "metadata": {},
   "outputs": [],
   "source": [
    "fig_size    = plt.rcParams[\"figure.figsize\"]\n",
    "fig_size[0] = 10\n",
    "fig_size[1] = 8\n",
    "plt.rcParams[\"figure.figsize\"] = fig_size"
   ]
  },
  {
   "cell_type": "code",
   "execution_count": 3,
   "id": "several-mapping",
   "metadata": {},
   "outputs": [],
   "source": [
    "def remove_dup(strng):\n",
    "    '''\n",
    "     Input a string and split them \n",
    "    '''\n",
    "    return ', '.join(list(dict.fromkeys(strng.split(', '))))"
   ]
  },
  {
   "cell_type": "code",
   "execution_count": 8,
   "id": "legal-alcohol",
   "metadata": {},
   "outputs": [],
   "source": [
    "%store -r data_new"
   ]
  },
  {
   "cell_type": "code",
   "execution_count": 9,
   "id": "static-austria",
   "metadata": {},
   "outputs": [
    {
     "data": {
      "text/html": [
       "<div>\n",
       "<style scoped>\n",
       "    .dataframe tbody tr th:only-of-type {\n",
       "        vertical-align: middle;\n",
       "    }\n",
       "\n",
       "    .dataframe tbody tr th {\n",
       "        vertical-align: top;\n",
       "    }\n",
       "\n",
       "    .dataframe thead th {\n",
       "        text-align: right;\n",
       "    }\n",
       "</style>\n",
       "<table border=\"1\" class=\"dataframe\">\n",
       "  <thead>\n",
       "    <tr style=\"text-align: right;\">\n",
       "      <th></th>\n",
       "      <th>gene_sym</th>\n",
       "      <th>cancer_driver</th>\n",
       "      <th>drug_target</th>\n",
       "      <th>triplex</th>\n",
       "      <th>promoter_methylated</th>\n",
       "      <th>negative_correlated_methylation</th>\n",
       "      <th>positive_correlated_methylation</th>\n",
       "      <th>risk_alelle_freq</th>\n",
       "      <th>EZH2</th>\n",
       "      <th>H3K27</th>\n",
       "      <th>types</th>\n",
       "      <th>cnv_exp_cor</th>\n",
       "      <th>Meth_Mean</th>\n",
       "      <th>logFC</th>\n",
       "      <th>Pathway</th>\n",
       "      <th>target</th>\n",
       "      <th>sphase_mean_FC</th>\n",
       "      <th>vaf</th>\n",
       "      <th>pathway_y</th>\n",
       "    </tr>\n",
       "  </thead>\n",
       "  <tbody>\n",
       "    <tr>\n",
       "      <th>0</th>\n",
       "      <td>AC062028.1</td>\n",
       "      <td>No</td>\n",
       "      <td>No</td>\n",
       "      <td>No</td>\n",
       "      <td>No</td>\n",
       "      <td>No</td>\n",
       "      <td>No</td>\n",
       "      <td>0.0</td>\n",
       "      <td>0.0</td>\n",
       "      <td>0.0</td>\n",
       "      <td>unknown</td>\n",
       "      <td>0.0000</td>\n",
       "      <td>0.0</td>\n",
       "      <td>1.376536</td>\n",
       "      <td>unknown</td>\n",
       "      <td>unknown</td>\n",
       "      <td>0.0</td>\n",
       "      <td>0.273400</td>\n",
       "      <td>0</td>\n",
       "    </tr>\n",
       "    <tr>\n",
       "      <th>1</th>\n",
       "      <td>LINC00467</td>\n",
       "      <td>No</td>\n",
       "      <td>No</td>\n",
       "      <td>No</td>\n",
       "      <td>No</td>\n",
       "      <td>No</td>\n",
       "      <td>No</td>\n",
       "      <td>0.0</td>\n",
       "      <td>0.0</td>\n",
       "      <td>0.0</td>\n",
       "      <td>t</td>\n",
       "      <td>0.5647</td>\n",
       "      <td>0.0</td>\n",
       "      <td>0.815080</td>\n",
       "      <td>PI3K-Akt signaling pathway</td>\n",
       "      <td>unknown</td>\n",
       "      <td>0.0</td>\n",
       "      <td>0.238314</td>\n",
       "      <td>1</td>\n",
       "    </tr>\n",
       "    <tr>\n",
       "      <th>2</th>\n",
       "      <td>C1orf147</td>\n",
       "      <td>No</td>\n",
       "      <td>No</td>\n",
       "      <td>No</td>\n",
       "      <td>No</td>\n",
       "      <td>No</td>\n",
       "      <td>No</td>\n",
       "      <td>0.0</td>\n",
       "      <td>0.0</td>\n",
       "      <td>0.0</td>\n",
       "      <td>unknown</td>\n",
       "      <td>0.0000</td>\n",
       "      <td>0.0</td>\n",
       "      <td>0.705599</td>\n",
       "      <td>unknown</td>\n",
       "      <td>unknown</td>\n",
       "      <td>0.0</td>\n",
       "      <td>0.000000</td>\n",
       "      <td>0</td>\n",
       "    </tr>\n",
       "    <tr>\n",
       "      <th>3</th>\n",
       "      <td>LINC01116</td>\n",
       "      <td>No</td>\n",
       "      <td>No</td>\n",
       "      <td>No</td>\n",
       "      <td>No</td>\n",
       "      <td>No</td>\n",
       "      <td>No</td>\n",
       "      <td>0.0</td>\n",
       "      <td>0.0</td>\n",
       "      <td>0.0</td>\n",
       "      <td>unknown</td>\n",
       "      <td>0.0000</td>\n",
       "      <td>0.0</td>\n",
       "      <td>0.830010</td>\n",
       "      <td>Cytokine-cytokine receptor interaction, Axon g...</td>\n",
       "      <td>unknown</td>\n",
       "      <td>0.0</td>\n",
       "      <td>0.000000</td>\n",
       "      <td>1</td>\n",
       "    </tr>\n",
       "    <tr>\n",
       "      <th>4</th>\n",
       "      <td>MIR4435-2HG</td>\n",
       "      <td>No</td>\n",
       "      <td>No</td>\n",
       "      <td>No</td>\n",
       "      <td>No</td>\n",
       "      <td>No</td>\n",
       "      <td>No</td>\n",
       "      <td>0.0</td>\n",
       "      <td>0.0</td>\n",
       "      <td>0.0</td>\n",
       "      <td>unknown</td>\n",
       "      <td>0.0000</td>\n",
       "      <td>0.0</td>\n",
       "      <td>0.990965</td>\n",
       "      <td>Cytokine-cytokine receptor interaction, Small ...</td>\n",
       "      <td>unknown</td>\n",
       "      <td>0.0</td>\n",
       "      <td>0.000000</td>\n",
       "      <td>1</td>\n",
       "    </tr>\n",
       "    <tr>\n",
       "      <th>...</th>\n",
       "      <td>...</td>\n",
       "      <td>...</td>\n",
       "      <td>...</td>\n",
       "      <td>...</td>\n",
       "      <td>...</td>\n",
       "      <td>...</td>\n",
       "      <td>...</td>\n",
       "      <td>...</td>\n",
       "      <td>...</td>\n",
       "      <td>...</td>\n",
       "      <td>...</td>\n",
       "      <td>...</td>\n",
       "      <td>...</td>\n",
       "      <td>...</td>\n",
       "      <td>...</td>\n",
       "      <td>...</td>\n",
       "      <td>...</td>\n",
       "      <td>...</td>\n",
       "      <td>...</td>\n",
       "    </tr>\n",
       "    <tr>\n",
       "      <th>2858</th>\n",
       "      <td>RBM5-AS1</td>\n",
       "      <td>No</td>\n",
       "      <td>No</td>\n",
       "      <td>No</td>\n",
       "      <td>No</td>\n",
       "      <td>No</td>\n",
       "      <td>No</td>\n",
       "      <td>0.0</td>\n",
       "      <td>0.0</td>\n",
       "      <td>0.0</td>\n",
       "      <td>unknown</td>\n",
       "      <td>0.0000</td>\n",
       "      <td>0.0</td>\n",
       "      <td>-0.687609</td>\n",
       "      <td>Rap1 signaling pathway, MAPK signaling pathway...</td>\n",
       "      <td>Yes</td>\n",
       "      <td>0.0</td>\n",
       "      <td>0.000000</td>\n",
       "      <td>1</td>\n",
       "    </tr>\n",
       "    <tr>\n",
       "      <th>2859</th>\n",
       "      <td>PACRG-AS1</td>\n",
       "      <td>No</td>\n",
       "      <td>No</td>\n",
       "      <td>No</td>\n",
       "      <td>No</td>\n",
       "      <td>No</td>\n",
       "      <td>No</td>\n",
       "      <td>0.0</td>\n",
       "      <td>0.0</td>\n",
       "      <td>0.0</td>\n",
       "      <td>unknown</td>\n",
       "      <td>0.0000</td>\n",
       "      <td>0.0</td>\n",
       "      <td>-1.961944</td>\n",
       "      <td>Regulation of actin cytoskeleton, Axon guidance</td>\n",
       "      <td>unknown</td>\n",
       "      <td>0.0</td>\n",
       "      <td>0.000000</td>\n",
       "      <td>1</td>\n",
       "    </tr>\n",
       "    <tr>\n",
       "      <th>2860</th>\n",
       "      <td>LINC01230</td>\n",
       "      <td>No</td>\n",
       "      <td>No</td>\n",
       "      <td>No</td>\n",
       "      <td>No</td>\n",
       "      <td>No</td>\n",
       "      <td>No</td>\n",
       "      <td>0.0</td>\n",
       "      <td>0.0</td>\n",
       "      <td>0.0</td>\n",
       "      <td>unknown</td>\n",
       "      <td>0.0000</td>\n",
       "      <td>0.0</td>\n",
       "      <td>-4.454476</td>\n",
       "      <td>Small cell lung cancer, cGMP-PKG signaling pat...</td>\n",
       "      <td>unknown</td>\n",
       "      <td>0.0</td>\n",
       "      <td>0.000000</td>\n",
       "      <td>1</td>\n",
       "    </tr>\n",
       "    <tr>\n",
       "      <th>2861</th>\n",
       "      <td>AL645929.2</td>\n",
       "      <td>No</td>\n",
       "      <td>No</td>\n",
       "      <td>No</td>\n",
       "      <td>No</td>\n",
       "      <td>No</td>\n",
       "      <td>No</td>\n",
       "      <td>0.0</td>\n",
       "      <td>0.0</td>\n",
       "      <td>0.0</td>\n",
       "      <td>unknown</td>\n",
       "      <td>0.0000</td>\n",
       "      <td>0.0</td>\n",
       "      <td>-1.030154</td>\n",
       "      <td>unknown</td>\n",
       "      <td>unknown</td>\n",
       "      <td>0.0</td>\n",
       "      <td>0.000000</td>\n",
       "      <td>0</td>\n",
       "    </tr>\n",
       "    <tr>\n",
       "      <th>2862</th>\n",
       "      <td>LINC00891</td>\n",
       "      <td>Yes</td>\n",
       "      <td>No</td>\n",
       "      <td>No</td>\n",
       "      <td>No</td>\n",
       "      <td>No</td>\n",
       "      <td>No</td>\n",
       "      <td>0.0</td>\n",
       "      <td>0.0</td>\n",
       "      <td>0.0</td>\n",
       "      <td>unknown</td>\n",
       "      <td>0.0000</td>\n",
       "      <td>0.0</td>\n",
       "      <td>-1.251660</td>\n",
       "      <td>Cytokine-cytokine receptor interaction, Small ...</td>\n",
       "      <td>unknown</td>\n",
       "      <td>0.0</td>\n",
       "      <td>0.000000</td>\n",
       "      <td>1</td>\n",
       "    </tr>\n",
       "  </tbody>\n",
       "</table>\n",
       "<p>2863 rows × 19 columns</p>\n",
       "</div>"
      ],
      "text/plain": [
       "         gene_sym cancer_driver drug_target triplex promoter_methylated  \\\n",
       "0      AC062028.1            No          No      No                  No   \n",
       "1       LINC00467            No          No      No                  No   \n",
       "2        C1orf147            No          No      No                  No   \n",
       "3       LINC01116            No          No      No                  No   \n",
       "4     MIR4435-2HG            No          No      No                  No   \n",
       "...           ...           ...         ...     ...                 ...   \n",
       "2858     RBM5-AS1            No          No      No                  No   \n",
       "2859    PACRG-AS1            No          No      No                  No   \n",
       "2860    LINC01230            No          No      No                  No   \n",
       "2861   AL645929.2            No          No      No                  No   \n",
       "2862    LINC00891           Yes          No      No                  No   \n",
       "\n",
       "     negative_correlated_methylation positive_correlated_methylation  \\\n",
       "0                                 No                              No   \n",
       "1                                 No                              No   \n",
       "2                                 No                              No   \n",
       "3                                 No                              No   \n",
       "4                                 No                              No   \n",
       "...                              ...                             ...   \n",
       "2858                              No                              No   \n",
       "2859                              No                              No   \n",
       "2860                              No                              No   \n",
       "2861                              No                              No   \n",
       "2862                              No                              No   \n",
       "\n",
       "      risk_alelle_freq  EZH2  H3K27    types  cnv_exp_cor  Meth_Mean  \\\n",
       "0                  0.0   0.0    0.0  unknown       0.0000        0.0   \n",
       "1                  0.0   0.0    0.0        t       0.5647        0.0   \n",
       "2                  0.0   0.0    0.0  unknown       0.0000        0.0   \n",
       "3                  0.0   0.0    0.0  unknown       0.0000        0.0   \n",
       "4                  0.0   0.0    0.0  unknown       0.0000        0.0   \n",
       "...                ...   ...    ...      ...          ...        ...   \n",
       "2858               0.0   0.0    0.0  unknown       0.0000        0.0   \n",
       "2859               0.0   0.0    0.0  unknown       0.0000        0.0   \n",
       "2860               0.0   0.0    0.0  unknown       0.0000        0.0   \n",
       "2861               0.0   0.0    0.0  unknown       0.0000        0.0   \n",
       "2862               0.0   0.0    0.0  unknown       0.0000        0.0   \n",
       "\n",
       "         logFC                                            Pathway   target  \\\n",
       "0     1.376536                                            unknown  unknown   \n",
       "1     0.815080                         PI3K-Akt signaling pathway  unknown   \n",
       "2     0.705599                                            unknown  unknown   \n",
       "3     0.830010  Cytokine-cytokine receptor interaction, Axon g...  unknown   \n",
       "4     0.990965  Cytokine-cytokine receptor interaction, Small ...  unknown   \n",
       "...        ...                                                ...      ...   \n",
       "2858 -0.687609  Rap1 signaling pathway, MAPK signaling pathway...      Yes   \n",
       "2859 -1.961944    Regulation of actin cytoskeleton, Axon guidance  unknown   \n",
       "2860 -4.454476  Small cell lung cancer, cGMP-PKG signaling pat...  unknown   \n",
       "2861 -1.030154                                            unknown  unknown   \n",
       "2862 -1.251660  Cytokine-cytokine receptor interaction, Small ...  unknown   \n",
       "\n",
       "      sphase_mean_FC       vaf  pathway_y  \n",
       "0                0.0  0.273400          0  \n",
       "1                0.0  0.238314          1  \n",
       "2                0.0  0.000000          0  \n",
       "3                0.0  0.000000          1  \n",
       "4                0.0  0.000000          1  \n",
       "...              ...       ...        ...  \n",
       "2858             0.0  0.000000          1  \n",
       "2859             0.0  0.000000          1  \n",
       "2860             0.0  0.000000          1  \n",
       "2861             0.0  0.000000          0  \n",
       "2862             0.0  0.000000          1  \n",
       "\n",
       "[2863 rows x 19 columns]"
      ]
     },
     "execution_count": 9,
     "metadata": {},
     "output_type": "execute_result"
    }
   ],
   "source": [
    "data_new"
   ]
  },
  {
   "cell_type": "code",
   "execution_count": 10,
   "id": "joint-clause",
   "metadata": {},
   "outputs": [],
   "source": [
    "data_new['target'].fillna('unknown',inplace=True)\n",
    "data_new['sphase_mean_FC'].fillna(0,inplace=True)\n",
    "data_new['vaf'].fillna(0,inplace=True)"
   ]
  },
  {
   "cell_type": "code",
   "execution_count": 11,
   "id": "serial-source",
   "metadata": {},
   "outputs": [],
   "source": [
    "data_new['EZH2'].fillna(0,inplace=True)\n",
    "data_new['EZH2'].fillna(0,inplace=True)"
   ]
  },
  {
   "cell_type": "code",
   "execution_count": 12,
   "id": "relevant-extension",
   "metadata": {},
   "outputs": [],
   "source": [
    "data_new.drop(['gene_sym'],axis=1,inplace=True)"
   ]
  },
  {
   "cell_type": "code",
   "execution_count": 13,
   "id": "reduced-spanking",
   "metadata": {},
   "outputs": [
    {
     "ename": "AttributeError",
     "evalue": "'DataFrame' object has no attribute 'SNPS'",
     "output_type": "error",
     "traceback": [
      "\u001b[0;31m---------------------------------------------------------------------------\u001b[0m",
      "\u001b[0;31mAttributeError\u001b[0m                            Traceback (most recent call last)",
      "\u001b[0;32m<ipython-input-13-65a788bd59b8>\u001b[0m in \u001b[0;36m<module>\u001b[0;34m\u001b[0m\n\u001b[1;32m      1\u001b[0m \u001b[0mmutations_BRCA_agg_clin\u001b[0m \u001b[0;34m=\u001b[0m \u001b[0mdata_new\u001b[0m\u001b[0;34m\u001b[0m\u001b[0;34m\u001b[0m\u001b[0m\n\u001b[0;32m----> 2\u001b[0;31m \u001b[0mmutations_BRCA_agg_clin\u001b[0m\u001b[0;34m.\u001b[0m\u001b[0mSNPS\u001b[0m\u001b[0;34m\u001b[0m\u001b[0;34m\u001b[0m\u001b[0m\n\u001b[0m",
      "\u001b[0;32m~/anaconda3/lib/python3.7/site-packages/pandas/core/generic.py\u001b[0m in \u001b[0;36m__getattr__\u001b[0;34m(self, name)\u001b[0m\n\u001b[1;32m   5460\u001b[0m             \u001b[0;32mif\u001b[0m \u001b[0mself\u001b[0m\u001b[0;34m.\u001b[0m\u001b[0m_info_axis\u001b[0m\u001b[0;34m.\u001b[0m\u001b[0m_can_hold_identifiers_and_holds_name\u001b[0m\u001b[0;34m(\u001b[0m\u001b[0mname\u001b[0m\u001b[0;34m)\u001b[0m\u001b[0;34m:\u001b[0m\u001b[0;34m\u001b[0m\u001b[0;34m\u001b[0m\u001b[0m\n\u001b[1;32m   5461\u001b[0m                 \u001b[0;32mreturn\u001b[0m \u001b[0mself\u001b[0m\u001b[0;34m[\u001b[0m\u001b[0mname\u001b[0m\u001b[0;34m]\u001b[0m\u001b[0;34m\u001b[0m\u001b[0;34m\u001b[0m\u001b[0m\n\u001b[0;32m-> 5462\u001b[0;31m             \u001b[0;32mreturn\u001b[0m \u001b[0mobject\u001b[0m\u001b[0;34m.\u001b[0m\u001b[0m__getattribute__\u001b[0m\u001b[0;34m(\u001b[0m\u001b[0mself\u001b[0m\u001b[0;34m,\u001b[0m \u001b[0mname\u001b[0m\u001b[0;34m)\u001b[0m\u001b[0;34m\u001b[0m\u001b[0;34m\u001b[0m\u001b[0m\n\u001b[0m\u001b[1;32m   5463\u001b[0m \u001b[0;34m\u001b[0m\u001b[0m\n\u001b[1;32m   5464\u001b[0m     \u001b[0;32mdef\u001b[0m \u001b[0m__setattr__\u001b[0m\u001b[0;34m(\u001b[0m\u001b[0mself\u001b[0m\u001b[0;34m,\u001b[0m \u001b[0mname\u001b[0m\u001b[0;34m:\u001b[0m \u001b[0mstr\u001b[0m\u001b[0;34m,\u001b[0m \u001b[0mvalue\u001b[0m\u001b[0;34m)\u001b[0m \u001b[0;34m->\u001b[0m \u001b[0;32mNone\u001b[0m\u001b[0;34m:\u001b[0m\u001b[0;34m\u001b[0m\u001b[0;34m\u001b[0m\u001b[0m\n",
      "\u001b[0;31mAttributeError\u001b[0m: 'DataFrame' object has no attribute 'SNPS'"
     ]
    }
   ],
   "source": [
    "mutations_BRCA_agg_clin = data_new\n",
    "mutations_BRCA_agg_clin.SNPS"
   ]
  },
  {
   "cell_type": "code",
   "execution_count": 14,
   "id": "spare-cotton",
   "metadata": {},
   "outputs": [
    {
     "data": {
      "text/plain": [
       "<AxesSubplot:ylabel='pathway_y'>"
      ]
     },
     "execution_count": 14,
     "metadata": {},
     "output_type": "execute_result"
    },
    {
     "data": {
      "image/png": "[encoded data removed]",
      "text/plain": [
       "<Figure size 432x288 with 1 Axes>"
      ]
     },
     "metadata": {},
     "output_type": "display_data"
    }
   ],
   "source": [
    "mutations_BRCA_agg_clin.pathway_y.value_counts().plot(kind='pie', autopct='%1.0f%%', colors=['skyblue', 'orange'],\n",
    "                                                      explode=(0.05, 0.05))"
   ]
  },
  {
   "cell_type": "code",
   "execution_count": null,
   "id": "further-costs",
   "metadata": {},
   "outputs": [],
   "source": []
  },
  {
   "cell_type": "code",
   "execution_count": 12,
   "id": "parental-exchange",
   "metadata": {
    "collapsed": true
   },
   "outputs": [
    {
     "ename": "NameError",
     "evalue": "name 'cat' is not defined",
     "output_type": "error",
     "traceback": [
      "\u001b[0;31m---------------------------------------------------------------------------\u001b[0m",
      "\u001b[0;31mNameError\u001b[0m                                 Traceback (most recent call last)",
      "\u001b[0;32m<ipython-input-12-b78fc26bee6d>\u001b[0m in \u001b[0;36m<module>\u001b[0;34m\u001b[0m\n\u001b[0;32m----> 1\u001b[0;31m \u001b[0;34m[\u001b[0m\u001b[0mcol\u001b[0m \u001b[0;32mfor\u001b[0m \u001b[0mcol\u001b[0m \u001b[0;32min\u001b[0m \u001b[0mcommon_de_new\u001b[0m\u001b[0;34m.\u001b[0m\u001b[0mcolumns\u001b[0m \u001b[0;32mif\u001b[0m \u001b[0mcol\u001b[0m \u001b[0;32mnot\u001b[0m \u001b[0;32min\u001b[0m \u001b[0mcat\u001b[0m\u001b[0;34m]\u001b[0m\u001b[0;34m\u001b[0m\u001b[0;34m\u001b[0m\u001b[0m\n\u001b[0m",
      "\u001b[0;32m<ipython-input-12-b78fc26bee6d>\u001b[0m in \u001b[0;36m<listcomp>\u001b[0;34m(.0)\u001b[0m\n\u001b[0;32m----> 1\u001b[0;31m \u001b[0;34m[\u001b[0m\u001b[0mcol\u001b[0m \u001b[0;32mfor\u001b[0m \u001b[0mcol\u001b[0m \u001b[0;32min\u001b[0m \u001b[0mcommon_de_new\u001b[0m\u001b[0;34m.\u001b[0m\u001b[0mcolumns\u001b[0m \u001b[0;32mif\u001b[0m \u001b[0mcol\u001b[0m \u001b[0;32mnot\u001b[0m \u001b[0;32min\u001b[0m \u001b[0mcat\u001b[0m\u001b[0;34m]\u001b[0m\u001b[0;34m\u001b[0m\u001b[0;34m\u001b[0m\u001b[0m\n\u001b[0m",
      "\u001b[0;31mNameError\u001b[0m: name 'cat' is not defined"
     ]
    }
   ],
   "source": [
    "[col for col in common_de_new.columns if col not in cat]"
   ]
  },
  {
   "cell_type": "code",
   "execution_count": 15,
   "id": "hairy-coach",
   "metadata": {},
   "outputs": [
    {
     "data": {
      "text/plain": [
       "cancer_driver                       object\n",
       "drug_target                         object\n",
       "triplex                             object\n",
       "promoter_methylated                 object\n",
       "negative_correlated_methylation     object\n",
       "positive_correlated_methylation     object\n",
       "risk_alelle_freq                   float64\n",
       "EZH2                               float64\n",
       "H3K27                              float64\n",
       "types                               object\n",
       "cnv_exp_cor                        float64\n",
       "Meth_Mean                          float64\n",
       "logFC                              float64\n",
       "Pathway                             object\n",
       "target                              object\n",
       "sphase_mean_FC                     float64\n",
       "vaf                                float64\n",
       "pathway_y                            int64\n",
       "dtype: object"
      ]
     },
     "execution_count": 15,
     "metadata": {},
     "output_type": "execute_result"
    }
   ],
   "source": [
    "mutations_BRCA_agg_clin.dtypes"
   ]
  },
  {
   "cell_type": "code",
   "execution_count": 19,
   "id": "broad-reviewer",
   "metadata": {},
   "outputs": [
    {
     "data": {
      "text/plain": [
       "array([[0, 0, 0],\n",
       "       [0, 0, 0],\n",
       "       [0, 0, 0],\n",
       "       [0, 0, 0],\n",
       "       [0, 0, 0],\n",
       "       [0, 0, 0],\n",
       "       [0, 0, 0],\n",
       "       [0, 0, 0],\n",
       "       [0, 0, 0],\n",
       "       [0, 0, 0]], dtype=int8)"
      ]
     },
     "execution_count": 19,
     "metadata": {},
     "output_type": "execute_result"
    }
   ],
   "source": [
    "categorical_columns = ['cancer_driver', 'promoter_methylated',\n",
    " 'triplex']\n",
    "numerical_columns   = ['logFC','vaf','sphase_mean_FC']\n",
    "output =['pathway_y']\n",
    "for category in categorical_columns:\n",
    "    mutations_BRCA_agg_clin[category] = mutations_BRCA_agg_clin[category].astype('category')\n",
    "#convert the categorical columns to tensors.\n",
    "# data in the four categorical columns into numpy arrays and then stack all the columns horizontally\n",
    "vt = mutations_BRCA_agg_clin['cancer_driver'].cat.codes.values\n",
    "#ty = mutations_BRCA_agg_clin['SNPS'].cat.codes.values\n",
    "#rg = mutations_BRCA_agg_clin['positive_correlated_methylation'].cat.codes.values\n",
    "#dt = mutations_BRCA_agg_clin['drug_target'].cat.codes.values\n",
    "pm = mutations_BRCA_agg_clin['promoter_methylated'].cat.codes.values\n",
    "tri = mutations_BRCA_agg_clin['triplex'].cat.codes.values\n",
    "#sam = mutations_BRCA_agg_clin['sample'].cat.codes.values\n",
    "#typ = mutations_BRCA_agg_clin['types'].cat.codes.values\n",
    "#tar = mutations_BRCA_agg_clin['target'].cat.codes.values\n",
    "\n",
    "categorical_data = np.stack([vt,pm,tri,], 1)\n",
    "categorical_data[:10]"
   ]
  },
  {
   "cell_type": "code",
   "execution_count": 20,
   "id": "assigned-magic",
   "metadata": {},
   "outputs": [
    {
     "data": {
      "text/plain": [
       "cancer_driver                      category\n",
       "drug_target                          object\n",
       "triplex                            category\n",
       "promoter_methylated                category\n",
       "negative_correlated_methylation      object\n",
       "positive_correlated_methylation      object\n",
       "risk_alelle_freq                    float64\n",
       "EZH2                                float64\n",
       "H3K27                               float64\n",
       "types                                object\n",
       "cnv_exp_cor                         float64\n",
       "Meth_Mean                           float64\n",
       "logFC                               float64\n",
       "Pathway                              object\n",
       "target                               object\n",
       "sphase_mean_FC                      float64\n",
       "vaf                                 float64\n",
       "pathway_y                             int64\n",
       "dtype: object"
      ]
     },
     "execution_count": 20,
     "metadata": {},
     "output_type": "execute_result"
    }
   ],
   "source": [
    "mutations_BRCA_agg_clin.dtypes\n"
   ]
  },
  {
   "cell_type": "code",
   "execution_count": 21,
   "id": "settled-credit",
   "metadata": {},
   "outputs": [
    {
     "data": {
      "text/plain": [
       "tensor([[0, 0, 0],\n",
       "        [0, 0, 0],\n",
       "        [0, 0, 0],\n",
       "        [0, 0, 0],\n",
       "        [0, 0, 0],\n",
       "        [0, 0, 0],\n",
       "        [0, 0, 0],\n",
       "        [0, 0, 0],\n",
       "        [0, 0, 0],\n",
       "        [0, 0, 0]])"
      ]
     },
     "execution_count": 21,
     "metadata": {},
     "output_type": "execute_result"
    }
   ],
   "source": [
    "#create a tensor from the aforementioned numpy array, \n",
    "categorical_data = torch.tensor(categorical_data, dtype=torch.int64)\n",
    "categorical_data[:10]\n"
   ]
  },
  {
   "cell_type": "code",
   "execution_count": 22,
   "id": "silver-wiring",
   "metadata": {},
   "outputs": [
    {
     "data": {
      "text/plain": [
       "tensor([[ 1.3765,  0.2734,  0.0000],\n",
       "        [ 0.8151,  0.2383,  0.0000],\n",
       "        [ 0.7056,  0.0000,  0.0000],\n",
       "        ...,\n",
       "        [-4.4545,  0.0000,  0.0000],\n",
       "        [-1.0302,  0.0000,  0.0000],\n",
       "        [-1.2517,  0.0000,  0.0000]])"
      ]
     },
     "execution_count": 22,
     "metadata": {},
     "output_type": "execute_result"
    }
   ],
   "source": [
    "numerical_data = np.stack([mutations_BRCA_agg_clin[col].values for col in numerical_columns], 1)\n",
    "numerical_data = torch.tensor(numerical_data, dtype=torch.float)\n",
    "numerical_data"
   ]
  },
  {
   "cell_type": "code",
   "execution_count": 23,
   "id": "together-civilian",
   "metadata": {},
   "outputs": [
    {
     "data": {
      "text/plain": [
       "tensor([0, 1, 0, 1, 1])"
      ]
     },
     "execution_count": 23,
     "metadata": {},
     "output_type": "execute_result"
    }
   ],
   "source": [
    "outputs = torch.tensor(mutations_BRCA_agg_clin[output].values).flatten()\n",
    "outputs[:5]"
   ]
  },
  {
   "cell_type": "code",
   "execution_count": 24,
   "id": "fifteen-cameroon",
   "metadata": {},
   "outputs": [
    {
     "name": "stdout",
     "output_type": "stream",
     "text": [
      "torch.Size([2863, 3])\n",
      "torch.Size([2863, 3])\n"
     ]
    }
   ],
   "source": [
    "print(categorical_data.shape)\n",
    "print(numerical_data.shape)"
   ]
  },
  {
   "cell_type": "code",
   "execution_count": 25,
   "id": "pregnant-second",
   "metadata": {},
   "outputs": [
    {
     "name": "stdout",
     "output_type": "stream",
     "text": [
      "[(2, 1), (2, 1), (2, 1)]\n"
     ]
    }
   ],
   "source": [
    "categorical_column_sizes = [len(mutations_BRCA_agg_clin[column].cat.categories) for column in categorical_columns]\n",
    "categorical_embedding_sizes = [(col_size, min(50, (col_size+1)//2)) for col_size in categorical_column_sizes]\n",
    "print(categorical_embedding_sizes)"
   ]
  },
  {
   "cell_type": "code",
   "execution_count": 32,
   "id": "alpine-relations",
   "metadata": {},
   "outputs": [
    {
     "name": "stdout",
     "output_type": "stream",
     "text": [
      "2291\n",
      "2291\n",
      "2291\n",
      "572\n",
      "572\n",
      "572\n"
     ]
    }
   ],
   "source": [
    "total_records = 2863\n",
    "test_records = int(total_records * .2)\n",
    "\n",
    "categorical_train_data = categorical_data[:total_records-test_records]\n",
    "categorical_test_data = categorical_data[total_records-test_records:total_records]\n",
    "numerical_train_data = numerical_data[:total_records-test_records]\n",
    "numerical_test_data = numerical_data[total_records-test_records:total_records]\n",
    "train_outputs       = outputs[:total_records-test_records]\n",
    "test_outputs        = outputs[total_records-test_records:total_records]\n",
    "print(len(categorical_train_data))\n",
    "print(len(numerical_train_data))\n",
    "print(len(train_outputs))\n",
    "print(len(categorical_test_data))\n",
    "print(len(numerical_test_data))\n",
    "print(len(test_outputs))"
   ]
  },
  {
   "cell_type": "code",
   "execution_count": 33,
   "id": "mobile-diameter",
   "metadata": {},
   "outputs": [],
   "source": [
    "class Model(nn.Module):\n",
    "\n",
    "    def __init__(self, embedding_size, num_numerical_cols, output_size, layers, p=0.4):\n",
    "        super().__init__()\n",
    "        self.all_embeddings = nn.ModuleList([nn.Embedding(ni, nf) for ni, nf in embedding_size])\n",
    "        self.embedding_dropout = nn.Dropout(p)\n",
    "        self.batch_norm_num = nn.BatchNorm1d(num_numerical_cols)\n",
    "        all_layers = []\n",
    "        num_categorical_cols = sum((nf for ni, nf in embedding_size))\n",
    "        input_size = num_categorical_cols + num_numerical_cols\n",
    "        \n",
    "        for i in layers:\n",
    "            all_layers.append(nn.Linear(input_size, i))\n",
    "            all_layers.append(nn.ReLU(inplace=True))\n",
    "            all_layers.append(nn.BatchNorm1d(i))\n",
    "            all_layers.append(nn.Dropout(p))\n",
    "            input_size = i\n",
    "       #multilayer perceptron is used\n",
    "        all_layers.append(nn.Linear(layers[-1], output_size))\n",
    "        self.layers = nn.Sequential(*all_layers)\n",
    "\n",
    "    def forward(self, x_categorical, x_numerical):\n",
    "        #embedding of the categorical columns takes place\n",
    "        embeddings = []\n",
    "        for i,e in enumerate(self.all_embeddings):\n",
    "            embeddings.append(e(x_categorical[:,i]))\n",
    "        x = torch.cat(embeddings, 1)\n",
    "        x = self.embedding_dropout(x)\n",
    "        #batch normalization of the numerical columns\n",
    "        x_numerical = self.batch_norm_num(x_numerical)\n",
    "        x = torch.cat([x, x_numerical], 1)\n",
    "        x = self.layers(x)\n",
    "        return x"
   ]
  },
  {
   "cell_type": "code",
   "execution_count": 34,
   "id": "refined-sunrise",
   "metadata": {},
   "outputs": [
    {
     "data": {
      "text/plain": [
       "tensor(0.)"
      ]
     },
     "execution_count": 34,
     "metadata": {},
     "output_type": "execute_result"
    }
   ],
   "source": [
    "numerical_train_data[1][2]"
   ]
  },
  {
   "cell_type": "code",
   "execution_count": 35,
   "id": "swedish-malaysia",
   "metadata": {},
   "outputs": [
    {
     "data": {
      "text/plain": [
       "tensor([[-1.3104, -1.0113, -1.8345],\n",
       "        [-1.8797, -0.3089, -1.3514],\n",
       "        [-0.7045,  0.6612,  0.0068],\n",
       "        ...,\n",
       "        [-0.4183, -1.0228, -0.1212],\n",
       "        [-0.1984, -0.0695, -0.6171],\n",
       "        [ 0.0750,  0.5999,  0.0119]], grad_fn=<AddmmBackward>)"
      ]
     },
     "execution_count": 35,
     "metadata": {},
     "output_type": "execute_result"
    }
   ],
   "source": [
    "model = Model(categorical_embedding_sizes, numerical_data.shape[1], 3, [200,100,50], p=0.4)\n",
    "#print(model)\n",
    "model(categorical_train_data, numerical_train_data)"
   ]
  },
  {
   "cell_type": "code",
   "execution_count": 36,
   "id": "deadly-hydrogen",
   "metadata": {},
   "outputs": [],
   "source": [
    "loss_function = nn.CrossEntropyLoss()\n",
    "optimizer     = torch.optim.Adam(model.parameters(), lr=0.001)"
   ]
  },
  {
   "cell_type": "code",
   "execution_count": 40,
   "id": "specialized-viking",
   "metadata": {},
   "outputs": [
    {
     "name": "stdout",
     "output_type": "stream",
     "text": [
      "epoch:   1 loss: 0.80359763\n",
      "epoch:  26 loss: 0.76744699\n",
      "epoch:  51 loss: 0.72853273\n",
      "epoch:  76 loss: 0.69702154\n",
      "epoch: 101 loss: 0.68152618\n",
      "epoch: 126 loss: 0.65027636\n",
      "epoch: 151 loss: 0.64244592\n",
      "epoch: 176 loss: 0.63307345\n",
      "epoch: 201 loss: 0.62901419\n",
      "epoch: 226 loss: 0.61779994\n",
      "epoch: 251 loss: 0.62026656\n",
      "epoch: 276 loss: 0.61603141\n",
      "epoch: 300 loss: 0.6133755445\n"
     ]
    }
   ],
   "source": [
    "epochs = 300\n",
    "aggregated_losses = []\n",
    "for i in range(epochs):\n",
    "    i += 1\n",
    "    y_pred = model(categorical_train_data, numerical_train_data)\n",
    "    single_loss = loss_function(y_pred, train_outputs)\n",
    "    aggregated_losses.append(single_loss)\n",
    "\n",
    "    if i%25 == 1:\n",
    "        print(f'epoch: {i:3} loss: {single_loss.item():10.8f}')\n",
    "\n",
    "    optimizer.zero_grad()\n",
    "    single_loss.backward()\n",
    "    optimizer.step()\n",
    "\n",
    "print(f'epoch: {i:3} loss: {single_loss.item():10.10f}')"
   ]
  },
  {
   "cell_type": "code",
   "execution_count": 41,
   "id": "bibliographic-still",
   "metadata": {},
   "outputs": [
    {
     "data": {
      "image/png": "[encoded data removed]",
      "text/plain": [
       "<Figure size 432x288 with 1 Axes>"
      ]
     },
     "metadata": {
      "needs_background": "light"
     },
     "output_type": "display_data"
    }
   ],
   "source": [
    "plt.plot(range(epochs), aggregated_losses)\n",
    "plt.ylabel('Loss')\n",
    "plt.xlabel('epoch');"
   ]
  },
  {
   "cell_type": "code",
   "execution_count": 42,
   "id": "robust-wilson",
   "metadata": {},
   "outputs": [
    {
     "name": "stdout",
     "output_type": "stream",
     "text": [
      "Loss: 0.65190965\n"
     ]
    }
   ],
   "source": [
    "with torch.no_grad():\n",
    "    y_val = model(categorical_test_data, numerical_test_data)\n",
    "    loss = loss_function(y_val, test_outputs)\n",
    "print(f'Loss: {loss:.8f}')\n",
    "y_val = np.argmax(y_val, axis=1)"
   ]
  },
  {
   "cell_type": "code",
   "execution_count": 43,
   "id": "representative-hormone",
   "metadata": {},
   "outputs": [
    {
     "name": "stdout",
     "output_type": "stream",
     "text": [
      "[[270  77]\n",
      " [134  91]]\n",
      "              precision    recall  f1-score   support\n",
      "\n",
      "           0       0.67      0.78      0.72       347\n",
      "           1       0.54      0.40      0.46       225\n",
      "\n",
      "    accuracy                           0.63       572\n",
      "   macro avg       0.60      0.59      0.59       572\n",
      "weighted avg       0.62      0.63      0.62       572\n",
      "\n",
      "0.6311188811188811\n"
     ]
    }
   ],
   "source": [
    "from sklearn.metrics import classification_report, confusion_matrix, accuracy_score\n",
    "print(confusion_matrix(test_outputs,y_val))\n",
    "print(classification_report(test_outputs,y_val))\n",
    "print(accuracy_score(test_outputs, y_val))"
   ]
  },
  {
   "cell_type": "code",
   "execution_count": 50,
   "id": "stainless-antigua",
   "metadata": {},
   "outputs": [],
   "source": [
    "def get_confusion_matrix_values(y_true, y_pred):\n",
    "    cm = confusion_matrix(y_true, y_pred)\n",
    "    return(cm[0][0], cm[0][1], cm[1][0], cm[1][1])"
   ]
  },
  {
   "cell_type": "code",
   "execution_count": 53,
   "id": "forward-stuart",
   "metadata": {},
   "outputs": [],
   "source": [
    "TP, FP, FN, TN = get_confusion_matrix_values(test_outputs,y_val)"
   ]
  },
  {
   "cell_type": "code",
   "execution_count": 56,
   "id": "residential-oracle",
   "metadata": {},
   "outputs": [
    {
     "data": {
      "text/plain": [
       "0.6311188811188811"
      ]
     },
     "execution_count": 56,
     "metadata": {},
     "output_type": "execute_result"
    }
   ],
   "source": [
    "from sklearn.metrics import roc_auc_score\n",
    "from sklearn.metrics import roc_curve\n",
    "logit_roc_auc = accuracy_score(test_outputs, y_val)\n",
    "logit_roc_auc"
   ]
  },
  {
   "cell_type": "code",
   "execution_count": 49,
   "id": "representative-broadcast",
   "metadata": {},
   "outputs": [
    {
     "data": {
      "text/plain": [
       "array([[270,  77],\n",
       "       [134,  91]])"
      ]
     },
     "execution_count": 49,
     "metadata": {},
     "output_type": "execute_result"
    }
   ],
   "source": [
    "confusion_matrix(test_outputs,y_val)"
   ]
  },
  {
   "cell_type": "code",
   "execution_count": 58,
   "id": "through-island",
   "metadata": {},
   "outputs": [
    {
     "data": {
      "image/png": "[encoded data removed]",
      "text/plain": [
       "<Figure size 432x288 with 1 Axes>"
      ]
     },
     "metadata": {
      "needs_background": "light"
     },
     "output_type": "display_data"
    }
   ],
   "source": [
    "from sklearn.metrics import roc_auc_score\n",
    "from sklearn.metrics import roc_curve\n",
    "plt.figure()\n",
    "plt.plot(FP, TP, label='MLP (area = %0.2f)' % logit_roc_auc)\n",
    "plt.plot([0, 1], [0, 1],'r--')\n",
    "plt.xlim([0.0, 1.0])\n",
    "plt.ylim([0.0, 1.05])\n",
    "plt.xlabel('False Positive Rate')\n",
    "plt.ylabel('True Positive Rate')\n",
    "plt.title('Receiver operating characteristic')\n",
    "plt.legend(loc=\"lower right\")\n",
    "#plt.savefig('Log_ROC_BRCA_correlation_pathways.png')\n",
    "plt.show()"
   ]
  }
 ],
 "metadata": {
  "kernelspec": {
   "display_name": "Python 3",
   "language": "python",
   "name": "python3"
  },
  "language_info": {
   "codemirror_mode": {
    "name": "ipython",
    "version": 3
   },
   "file_extension": ".py",
   "mimetype": "text/x-python",
   "name": "python",
   "nbconvert_exporter": "python",
   "pygments_lexer": "ipython3",
   "version": "3.7.3"
  }
 },
 "nbformat": 4,
 "nbformat_minor": 5
}
