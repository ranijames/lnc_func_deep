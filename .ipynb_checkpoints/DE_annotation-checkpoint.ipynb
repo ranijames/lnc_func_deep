{
 "cells": [
  {
   "cell_type": "code",
   "execution_count": 1,
   "id": "measured-dancing",
   "metadata": {},
   "outputs": [],
   "source": [
    "import os\n",
    "import itertools\n",
    "from itertools import groupby\n",
    "from numpy import *\n",
    "import operator\n",
    "import numpy as np\n",
    "import pandas as pd\n",
    "import math\n",
    "from statistics import mean\n",
    "from pandas import *  \n",
    "import glob"
   ]
  },
  {
   "cell_type": "code",
   "execution_count": 8,
   "id": "suffering-documentary",
   "metadata": {},
   "outputs": [],
   "source": [
    "refs        ='/home/alva/Documents/lncRNAs_project_2020/Analysis_2021/Tcga_R/GDCdata/TCGA-BRCA/harmonized/Transcriptome_Profiling/Gene_Expression_Quantification/r_data/reference/Homo_sapiens.GRCh38.97.chr.txt'\n",
    "ref         = pd.read_csv(refs, sep=\"\\t\", header=0,skipinitialspace=True)\n",
    "lncRNAs_ref = ref.query('biotype == \"lncRNA\"')"
   ]
  },
  {
   "cell_type": "code",
   "execution_count": 55,
   "id": "secure-antibody",
   "metadata": {},
   "outputs": [],
   "source": [
    "debraca = '/home/alva/Documents/lncRNAs_project_2020/Analysis_2021/Tcga_R/GDCdata/TCGA-BRCA/harmonized/Transcriptome_Profiling/Gene_Expression_Quantification/r_data_new/de'\n",
    "de      = pd.read_csv(debraca, sep=\"\\t\", header=0,skipinitialspace=True)\n",
    "de.rename(columns={'adj.P.Val':'adj_pval'}, inplace=True)"
   ]
  },
  {
   "cell_type": "code",
   "execution_count": 5,
   "id": "pediatric-singing",
   "metadata": {
    "collapsed": true
   },
   "outputs": [
    {
     "data": {
      "text/plain": [
       "['/home/alva/Documents/lncRNAs_project_2020/Analysis_2021/Tcga_R/GDCdata/TCGA-BRCA/harmonized/Transcriptome_Profiling/Gene_Expression_Quantification/r_data_new/de/TCGA-THCA_DE',\n",
       " '/home/alva/Documents/lncRNAs_project_2020/Analysis_2021/Tcga_R/GDCdata/TCGA-BRCA/harmonized/Transcriptome_Profiling/Gene_Expression_Quantification/r_data_new/de/TCGA-LIHC_DE',\n",
       " '/home/alva/Documents/lncRNAs_project_2020/Analysis_2021/Tcga_R/GDCdata/TCGA-BRCA/harmonized/Transcriptome_Profiling/Gene_Expression_Quantification/r_data_new/de/TCGA-COAD_DE',\n",
       " '/home/alva/Documents/lncRNAs_project_2020/Analysis_2021/Tcga_R/GDCdata/TCGA-BRCA/harmonized/Transcriptome_Profiling/Gene_Expression_Quantification/r_data_new/de/TCGA-ESCA_DE',\n",
       " '/home/alva/Documents/lncRNAs_project_2020/Analysis_2021/Tcga_R/GDCdata/TCGA-BRCA/harmonized/Transcriptome_Profiling/Gene_Expression_Quantification/r_data_new/de/TCGA-BRCA_DE',\n",
       " '/home/alva/Documents/lncRNAs_project_2020/Analysis_2021/Tcga_R/GDCdata/TCGA-BRCA/harmonized/Transcriptome_Profiling/Gene_Expression_Quantification/r_data_new/de/TCGA-KIRC_DE',\n",
       " '/home/alva/Documents/lncRNAs_project_2020/Analysis_2021/Tcga_R/GDCdata/TCGA-BRCA/harmonized/Transcriptome_Profiling/Gene_Expression_Quantification/r_data_new/de/TCGA-HNSC_DE',\n",
       " '/home/alva/Documents/lncRNAs_project_2020/Analysis_2021/Tcga_R/GDCdata/TCGA-BRCA/harmonized/Transcriptome_Profiling/Gene_Expression_Quantification/r_data_new/de/TCGA-KIRP_DE',\n",
       " '/home/alva/Documents/lncRNAs_project_2020/Analysis_2021/Tcga_R/GDCdata/TCGA-BRCA/harmonized/Transcriptome_Profiling/Gene_Expression_Quantification/r_data_new/de/TCGA-KICH_DE',\n",
       " '/home/alva/Documents/lncRNAs_project_2020/Analysis_2021/Tcga_R/GDCdata/TCGA-BRCA/harmonized/Transcriptome_Profiling/Gene_Expression_Quantification/r_data_new/de/TCGA-STAD_DE',\n",
       " '/home/alva/Documents/lncRNAs_project_2020/Analysis_2021/Tcga_R/GDCdata/TCGA-BRCA/harmonized/Transcriptome_Profiling/Gene_Expression_Quantification/r_data_new/de/TCGA-PAAD_DE',\n",
       " '/home/alva/Documents/lncRNAs_project_2020/Analysis_2021/Tcga_R/GDCdata/TCGA-BRCA/harmonized/Transcriptome_Profiling/Gene_Expression_Quantification/r_data_new/de/TCGA-LUAD_DE',\n",
       " '/home/alva/Documents/lncRNAs_project_2020/Analysis_2021/Tcga_R/GDCdata/TCGA-BRCA/harmonized/Transcriptome_Profiling/Gene_Expression_Quantification/r_data_new/de/TCGA-PRAD_DE',\n",
       " '/home/alva/Documents/lncRNAs_project_2020/Analysis_2021/Tcga_R/GDCdata/TCGA-BRCA/harmonized/Transcriptome_Profiling/Gene_Expression_Quantification/r_data_new/de/TCGA-LUSC_DE']"
      ]
     },
     "execution_count": 5,
     "metadata": {},
     "output_type": "execute_result"
    }
   ],
   "source": [
    "path         = '/home/alva/Documents/lncRNAs_project_2020/Analysis_2021/Tcga_R/GDCdata/TCGA-BRCA/harmonized/Transcriptome_Profiling/Gene_Expression_Quantification/r_data_new/de' \n",
    "files        = os.listdir(path)\n",
    "results      = [os.path.join(path,i) for i in files if i.startswith('TCGA')]"
   ]
  },
  {
   "cell_type": "code",
   "execution_count": 6,
   "id": "still-microphone",
   "metadata": {},
   "outputs": [],
   "source": [
    "def DEfilter(df):\n",
    "    Up_regulted = df.query('logFC >= 0.58 and adj_pval <= 0.05')\n",
    "    Down_regulated = df.query('logFC <= -0.58 and adj_pval <= 0.05')\n",
    "    DE = pd.concat([Up_regulted, Down_regulated])\n",
    "    return DE"
   ]
  },
  {
   "cell_type": "code",
   "execution_count": 7,
   "id": "rural-spirit",
   "metadata": {},
   "outputs": [
    {
     "ename": "NameError",
     "evalue": "name 'ref_chr_pos_lncRNA' is not defined",
     "output_type": "error",
     "traceback": [
      "\u001b[0;31m---------------------------------------------------------------------------\u001b[0m",
      "\u001b[0;31mNameError\u001b[0m                                 Traceback (most recent call last)",
      "\u001b[0;32m<ipython-input-7-623b37688c51>\u001b[0m in \u001b[0;36m<module>\u001b[0;34m\u001b[0m\n\u001b[1;32m      3\u001b[0m     \u001b[0mdf\u001b[0m\u001b[0;34m.\u001b[0m\u001b[0mrename\u001b[0m\u001b[0;34m(\u001b[0m\u001b[0mcolumns\u001b[0m\u001b[0;34m=\u001b[0m\u001b[0;34m{\u001b[0m\u001b[0;34m'adj.P.Val'\u001b[0m\u001b[0;34m:\u001b[0m\u001b[0;34m'adj_pval'\u001b[0m\u001b[0;34m}\u001b[0m\u001b[0;34m,\u001b[0m \u001b[0minplace\u001b[0m\u001b[0;34m=\u001b[0m\u001b[0;32mTrue\u001b[0m\u001b[0;34m)\u001b[0m\u001b[0;34m\u001b[0m\u001b[0;34m\u001b[0m\u001b[0m\n\u001b[1;32m      4\u001b[0m     \u001b[0mDE\u001b[0m \u001b[0;34m=\u001b[0m \u001b[0mDEfilter\u001b[0m\u001b[0;34m(\u001b[0m\u001b[0mdf\u001b[0m\u001b[0;34m)\u001b[0m\u001b[0;34m\u001b[0m\u001b[0;34m\u001b[0m\u001b[0m\n\u001b[0;32m----> 5\u001b[0;31m     \u001b[0mlncRNA\u001b[0m    \u001b[0;34m=\u001b[0m \u001b[0mpd\u001b[0m\u001b[0;34m.\u001b[0m\u001b[0mmerge\u001b[0m\u001b[0;34m(\u001b[0m\u001b[0mDE\u001b[0m\u001b[0;34m,\u001b[0m\u001b[0mref_chr_pos_lncRNA\u001b[0m\u001b[0;34m,\u001b[0m\u001b[0mon\u001b[0m\u001b[0;34m=\u001b[0m\u001b[0;34m'Geneid'\u001b[0m\u001b[0;34m)\u001b[0m\u001b[0;34m\u001b[0m\u001b[0;34m\u001b[0m\u001b[0m\n\u001b[0m\u001b[1;32m      6\u001b[0m     \u001b[0mAnnon_all\u001b[0m \u001b[0;34m=\u001b[0m \u001b[0mpd\u001b[0m\u001b[0;34m.\u001b[0m\u001b[0mmerge\u001b[0m\u001b[0;34m(\u001b[0m\u001b[0mDE\u001b[0m\u001b[0;34m,\u001b[0m\u001b[0mref_chr_pos\u001b[0m\u001b[0;34m,\u001b[0m\u001b[0mon\u001b[0m\u001b[0;34m=\u001b[0m\u001b[0;34m'Geneid'\u001b[0m\u001b[0;34m)\u001b[0m\u001b[0;34m\u001b[0m\u001b[0;34m\u001b[0m\u001b[0m\n\u001b[1;32m      7\u001b[0m     \u001b[0mname\u001b[0m      \u001b[0;34m=\u001b[0m \u001b[0mos\u001b[0m\u001b[0;34m.\u001b[0m\u001b[0mpath\u001b[0m\u001b[0;34m.\u001b[0m\u001b[0mbasename\u001b[0m\u001b[0;34m(\u001b[0m\u001b[0mos\u001b[0m\u001b[0;34m.\u001b[0m\u001b[0mpath\u001b[0m\u001b[0;34m.\u001b[0m\u001b[0mnormpath\u001b[0m\u001b[0;34m(\u001b[0m\u001b[0mfilename\u001b[0m\u001b[0;34m)\u001b[0m\u001b[0;34m)\u001b[0m\u001b[0;34m\u001b[0m\u001b[0;34m\u001b[0m\u001b[0m\n",
      "\u001b[0;31mNameError\u001b[0m: name 'ref_chr_pos_lncRNA' is not defined"
     ]
    }
   ],
   "source": [
    "for filename in results:\n",
    "    df = pd.read_csv(filename, sep='\\t', header=0,skipinitialspace=True)\n",
    "    df.rename(columns={'adj.P.Val':'adj_pval'}, inplace=True)\n",
    "    DE = DEfilter(df)\n",
    "    lncRNA    = pd.merge(DE,lncRNAs_ref,on='Geneid')\n",
    "    Annon_all = pd.merge(DE,ref_chr_pos,on='Geneid')\n",
    "    name      = os.path.basename(os.path.normpath(filename))\n",
    "    dirname   = os.path.dirname(os.path.normpath(filename))\n",
    "    lncRNA.to_csv(dirname +'/lncRNA_0.58_' + name, sep='\\t',index=False)\n",
    "    Annon_all.to_csv(dirname +'/Annon_0.58_' + name, sep='\\t',index=False)"
   ]
  },
  {
   "cell_type": "code",
   "execution_count": 54,
   "id": "limiting-trash",
   "metadata": {},
   "outputs": [],
   "source": [
    "DE        = DEfilter(de)\n",
    "lncRNA    = pd.merge(DE,lncRNAs_ref,on='gene_id')\n",
    "name      = os.path.basename(os.path.normpath(debraca))\n",
    "dirname   = os.path.dirname(os.path.normpath(debraca))\n",
    "lncRNA.to_csv(dirname +'/lncRNA_0.58_' + name, sep='\\t',index=False)"
   ]
  }
 ],
 "metadata": {
  "kernelspec": {
   "display_name": "Python 3",
   "language": "python",
   "name": "python3"
  },
  "language_info": {
   "codemirror_mode": {
    "name": "ipython",
    "version": 3
   },
   "file_extension": ".py",
   "mimetype": "text/x-python",
   "name": "python",
   "nbconvert_exporter": "python",
   "pygments_lexer": "ipython3",
   "version": "3.7.3"
  }
 },
 "nbformat": 4,
 "nbformat_minor": 5
}
