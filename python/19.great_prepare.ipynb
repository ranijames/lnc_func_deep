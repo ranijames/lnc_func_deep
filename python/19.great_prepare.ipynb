{
 "cells": [
  {
   "cell_type": "code",
   "execution_count": 2,
   "id": "electrical-adaptation",
   "metadata": {},
   "outputs": [],
   "source": [
    "import pandas as pd\n",
    "import numpy as np\n",
    "from datapreprocessfunction_code import function_process, readfile, rename_cols,annon,outers_join,add_column,label_paths\n"
   ]
  },
  {
   "cell_type": "code",
   "execution_count": 14,
   "id": "automotive-million",
   "metadata": {},
   "outputs": [],
   "source": [
    "%store -r neg\n",
    "%store -r lncRNAs_ref\n",
    "%store -r PC_ref"
   ]
  },
  {
   "cell_type": "code",
   "execution_count": 5,
   "id": "breeding-machine",
   "metadata": {},
   "outputs": [],
   "source": [
    "path_lncRNAs = '/home/alva/Documents/lncRNAs_project_2020/Analysis_2021/DNA_methy_tcga/meth/de/filtered_results/'\n",
    "#reference    = '/'"
   ]
  },
  {
   "cell_type": "code",
   "execution_count": 6,
   "id": "solar-simulation",
   "metadata": {},
   "outputs": [],
   "source": [
    "lncRNAs_common     = readfile(path_lncRNAs,\"commonDE_5cancermetainformation_lncRNAs_alone\")\n",
    "lncRNAs_common_ann = annon(lncRNAs_common,\"gene_sym\",lncRNAs_ref[[\"chr\",\"start\",\"end\",\"gene_sym\",'gene_id']])\n",
    "cols               = ['chr','start','end','gene_id']\n",
    "great_results      = readfile(path_lncRNAs,\"20210315-public-4.0.4-H80DU8-hg38-all-region.txt\")"
   ]
  },
  {
   "cell_type": "code",
   "execution_count": 7,
   "id": "celtic-daily",
   "metadata": {},
   "outputs": [
    {
     "data": {
      "text/html": [
       "<div>\n",
       "<style scoped>\n",
       "    .dataframe tbody tr th:only-of-type {\n",
       "        vertical-align: middle;\n",
       "    }\n",
       "\n",
       "    .dataframe tbody tr th {\n",
       "        vertical-align: top;\n",
       "    }\n",
       "\n",
       "    .dataframe thead th {\n",
       "        text-align: right;\n",
       "    }\n",
       "</style>\n",
       "<table border=\"1\" class=\"dataframe\">\n",
       "  <thead>\n",
       "    <tr style=\"text-align: right;\">\n",
       "      <th></th>\n",
       "      <th>gene_id</th>\n",
       "      <th>PC</th>\n",
       "    </tr>\n",
       "  </thead>\n",
       "  <tbody>\n",
       "    <tr>\n",
       "      <th>0</th>\n",
       "      <td>ENSG00000268895</td>\n",
       "      <td>A1BG (+1912), ZSCAN22 (+24568)</td>\n",
       "    </tr>\n",
       "    <tr>\n",
       "      <th>1</th>\n",
       "      <td>ENSG00000245105</td>\n",
       "      <td>A2M (+49231), KLRG1 (+77385)</td>\n",
       "    </tr>\n",
       "    <tr>\n",
       "      <th>2</th>\n",
       "      <td>ENSG00000242908</td>\n",
       "      <td>SUCNR1 (-33834), AADAC (+25772)</td>\n",
       "    </tr>\n",
       "    <tr>\n",
       "      <th>3</th>\n",
       "      <td>ENSG00000281376</td>\n",
       "      <td>BCL2L1 (+440), COX4I2 (+84570)</td>\n",
       "    </tr>\n",
       "    <tr>\n",
       "      <th>4</th>\n",
       "      <td>ENSG00000231749</td>\n",
       "      <td>ABCA8 (-38417), ABCA9 (+67406)</td>\n",
       "    </tr>\n",
       "  </tbody>\n",
       "</table>\n",
       "</div>"
      ],
      "text/plain": [
       "           gene_id                               PC\n",
       "0  ENSG00000268895   A1BG (+1912), ZSCAN22 (+24568)\n",
       "1  ENSG00000245105     A2M (+49231), KLRG1 (+77385)\n",
       "2  ENSG00000242908  SUCNR1 (-33834), AADAC (+25772)\n",
       "3  ENSG00000281376   BCL2L1 (+440), COX4I2 (+84570)\n",
       "4  ENSG00000231749   ABCA8 (-38417), ABCA9 (+67406)"
      ]
     },
     "execution_count": 7,
     "metadata": {},
     "output_type": "execute_result"
    }
   ],
   "source": [
    "great_results.head()"
   ]
  },
  {
   "cell_type": "code",
   "execution_count": 8,
   "id": "banned-blogger",
   "metadata": {},
   "outputs": [],
   "source": [
    "def Cis_Trans1(df):\n",
    "    df1         = df.PC.str.split(',', expand=True)\n",
    "    regex       = r'(?P<PC>\\w+.*).*\\((?P<Strand>[+-])(?P<Distance>.*)\\)'\n",
    "    extract     = lambda df: df.iloc[0].str.extract(regex, expand=True)\n",
    "    extracted   = df1.groupby(level=0).apply(extract)\n",
    "    df2         = extracted.stack().unstack([2, 1])\n",
    "    colseries   = df2.columns.to_series()\n",
    "    df2.columns = colseries.str.get(0).astype(str) + colseries.str.get(1).astype(str)\n",
    "    PCs         = pd.concat([df, df2], axis=1)\n",
    "    return(PCs)"
   ]
  },
  {
   "cell_type": "code",
   "execution_count": 9,
   "id": "overhead-senegal",
   "metadata": {},
   "outputs": [],
   "source": [
    "def arrange_cols(df):\n",
    "    frames_to_concat = []\n",
    "    for col in df:\n",
    "        if col.startswith(\"Dis\"):\n",
    "            dis_num = col[-1] # Extract the # from a column like Distance# or Dis#\n",
    "            frame_to_concat = df[[\"lncRNA\", \"PC\" + dis_num, \"Distance\" + dis_num]]\n",
    "            frame_to_concat.columns = [\"lncRNA\", \"PC\", \"Distance\"]\n",
    "            frames_to_concat.append(frame_to_concat)\n",
    "    stacked_columns = pd.concat(frames_to_concat)\n",
    "    stacked_columns = stacked_columns[stacked_columns[\"Distance\"] != \"NaN\"]\n",
    "    stacked_columns = stacked_columns[stacked_columns[\"Distance\"] != \"None\"]\n",
    "    return stacked_columns\n"
   ]
  },
  {
   "cell_type": "code",
   "execution_count": 10,
   "id": "incomplete-authority",
   "metadata": {},
   "outputs": [],
   "source": [
    "great = Cis_Trans1(great_results)\n",
    "great = rename_cols(great,\"gene_id\",\"lncRNA\")"
   ]
  },
  {
   "cell_type": "code",
   "execution_count": 13,
   "id": "innovative-employment",
   "metadata": {},
   "outputs": [
    {
     "name": "stdout",
     "output_type": "stream",
     "text": [
      "Stored 'arr_great' (DataFrame)\n"
     ]
    }
   ],
   "source": [
    "arr_great       = arrange_cols(great)\n",
    "#arr_great_less = arr_great.query('Distance <= \"400000\"')\n"
   ]
  },
  {
   "cell_type": "code",
   "execution_count": 15,
   "id": "generous-boost",
   "metadata": {},
   "outputs": [
    {
     "name": "stdout",
     "output_type": "stream",
     "text": [
      "Stored 'arr_great' (DataFrame)\n"
     ]
    }
   ],
   "source": [
    "arr_great     = rename_cols(arr_great,\"PC\",\"gene_sym\")\n",
    "arr_great['gene_sym'] = arr_great['gene_sym'].str.strip()\n",
    "arr_great_ann = annon(arr_great,\"gene_sym\",PC_ref[[\"gene_sym\",\"gene_id\"]])\n",
    "%store arr_great\n",
    "#arr_great_ann.to_csv(path_lncRNAs+'great_PC_commonDE5lncRNAs', sep='\\t',index=False)"
   ]
  },
  {
   "cell_type": "code",
   "execution_count": 17,
   "id": "contained-catalog",
   "metadata": {},
   "outputs": [],
   "source": [
    "lncRNAs_common_ann[cols].to_csv(path_lncRNAs+'commonDE_5cancermetainformation_lncRNAs_alone_chr', sep='\\t',index=False)"
   ]
  },
  {
   "cell_type": "code",
   "execution_count": 1,
   "id": "recreational-delaware",
   "metadata": {},
   "outputs": [
    {
     "name": "stderr",
     "output_type": "stream",
     "text": [
      "UsageError: Unknown variable 'lncRNAs_common_ann'\n"
     ]
    }
   ],
   "source": [
    "%store lncRNAs_common_ann"
   ]
  }
 ],
 "metadata": {
  "kernelspec": {
   "display_name": "Python 3",
   "language": "python",
   "name": "python3"
  },
  "language_info": {
   "codemirror_mode": {
    "name": "ipython",
    "version": 3
   },
   "file_extension": ".py",
   "mimetype": "text/x-python",
   "name": "python",
   "nbconvert_exporter": "python",
   "pygments_lexer": "ipython3",
   "version": "3.7.3"
  }
 },
 "nbformat": 4,
 "nbformat_minor": 5
}
