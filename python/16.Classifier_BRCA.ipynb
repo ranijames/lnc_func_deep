{
 "cells": [
  {
   "cell_type": "code",
   "execution_count": 2,
   "id": "canadian-daily",
   "metadata": {},
   "outputs": [],
   "source": [
    "import torch\n",
    "import torch.nn as nn\n",
    "import numpy as np\n",
    "import pandas as pd\n",
    "import matplotlib.pyplot as plt\n",
    "import seaborn as sns\n",
    "from collections import OrderedDict\n",
    "from datapreprocessfunction_code import function_process, readfile, rename_cols,annon,outers_join\n",
    "%matplotlib inline"
   ]
  },
  {
   "cell_type": "markdown",
   "id": "romance-gibraltar",
   "metadata": {},
   "source": [
    "A supervised learning technique called backpropagation for training.\n",
    "Its multiple layers and non-linear activation distinguish MLP from a linear perceptron."
   ]
  },
  {
   "cell_type": "code",
   "execution_count": 2,
   "id": "convertible-secondary",
   "metadata": {},
   "outputs": [],
   "source": [
    "fig_size    = plt.rcParams[\"figure.figsize\"]\n",
    "fig_size[0] = 10\n",
    "fig_size[1] = 8\n",
    "plt.rcParams[\"figure.figsize\"] = fig_size"
   ]
  },
  {
   "cell_type": "code",
   "execution_count": 47,
   "id": "welcome-trailer",
   "metadata": {},
   "outputs": [],
   "source": [
    "def remove_dup(strng):\n",
    "    '''\n",
    "     Input a string and split them \n",
    "    '''\n",
    "    return ', '.join(list(dict.fromkeys(strng.split(', '))))\n"
   ]
  },
  {
   "cell_type": "code",
   "execution_count": 18,
   "id": "remarkable-approach",
   "metadata": {},
   "outputs": [],
   "source": [
    "%store -r mutations_BRCA_agg_clin\n",
    "mutations_BRCA_agg_clin = rename_cols(mutations_BRCA_agg_clin,\"ER.Status\",\"ER_status\")\n",
    "mutations_BRCA_agg_clin = rename_cols(mutations_BRCA_agg_clin,\"PR.Status\",\"PR_status\")\n",
    "mutations_BRCA_agg_clin[\"regulation\"]   = np.where(mutations_BRCA_agg_clin['logFC']>=0.58,'up','down')\n",
    "\n",
    "mapping = {'Positive': 1, 'Negative': 1}\n",
    "mutations_BRCA_agg_clin['ER_status'] = mutations_BRCA_agg_clin['ER_status'].fillna(0)\n",
    "mutations_BRCA_agg_clin = mutations_BRCA_agg_clin.replace({'ER_status': mapping})\n",
    "mutations_BRCA_agg_clin.drop(['gene_sym','sample'],inplace=True,axis=1)"
   ]
  },
  {
   "cell_type": "code",
   "execution_count": 19,
   "id": "velvet-newsletter",
   "metadata": {},
   "outputs": [
    {
     "data": {
      "text/plain": [
       "<AxesSubplot:ylabel='ER_status'>"
      ]
     },
     "execution_count": 19,
     "metadata": {},
     "output_type": "execute_result"
    },
    {
     "data": {
      "image/png": "[encoded data removed]",
      "text/plain": [
       "<Figure size 432x288 with 1 Axes>"
      ]
     },
     "metadata": {},
     "output_type": "display_data"
    }
   ],
   "source": [
    "mutations_BRCA_agg_clin.ER_status.value_counts().plot(kind='pie', autopct='%1.0f%%', colors=['skyblue', 'orange'],\n",
    "                                                      explode=(0.05, 0.05))"
   ]
  },
  {
   "cell_type": "code",
   "execution_count": 20,
   "id": "local-radical",
   "metadata": {},
   "outputs": [
    {
     "data": {
      "text/plain": [
       "<AxesSubplot:xlabel='type', ylabel='count'>"
      ]
     },
     "execution_count": 20,
     "metadata": {},
     "output_type": "execute_result"
    },
    {
     "data": {
      "image/png": "[encoded data removed]",
      "text/plain": [
       "<Figure size 432x288 with 1 Axes>"
      ]
     },
     "metadata": {
      "needs_background": "light"
     },
     "output_type": "display_data"
    }
   ],
   "source": [
    "sns.countplot(x='type', data=mutations_BRCA_agg_clin)\n"
   ]
  },
  {
   "cell_type": "code",
   "execution_count": 21,
   "id": "chicken-myanmar",
   "metadata": {},
   "outputs": [
    {
     "data": {
      "text/plain": [
       "<AxesSubplot:xlabel='Variant_Type', ylabel='count'>"
      ]
     },
     "execution_count": 21,
     "metadata": {},
     "output_type": "execute_result"
    },
    {
     "data": {
      "image/png": "[encoded data removed]",
      "text/plain": [
       "<Figure size 432x288 with 1 Axes>"
      ]
     },
     "metadata": {
      "needs_background": "light"
     },
     "output_type": "display_data"
    }
   ],
   "source": [
    "sns.countplot(x='Variant_Type', hue='PR_status', data=mutations_BRCA_agg_clin)"
   ]
  },
  {
   "cell_type": "code",
   "execution_count": 22,
   "id": "hybrid-tribe",
   "metadata": {},
   "outputs": [
    {
     "data": {
      "text/plain": [
       "array([[1, 3, 0],\n",
       "       [0, 2, 0],\n",
       "       [0, 1, 0],\n",
       "       [2, 3, 1],\n",
       "       [0, 3, 1],\n",
       "       [0, 2, 1],\n",
       "       [1, 3, 1],\n",
       "       [0, 3, 0],\n",
       "       [0, 2, 0],\n",
       "       [0, 2, 0]], dtype=int8)"
      ]
     },
     "execution_count": 22,
     "metadata": {},
     "output_type": "execute_result"
    }
   ],
   "source": [
    "categorical_columns = ['Variant_Type','type','regulation']\n",
    "numerical_columns   = ['vaf','logFC']\n",
    "output =['ER_status']\n",
    "for category in categorical_columns:\n",
    "    mutations_BRCA_agg_clin[category] = mutations_BRCA_agg_clin[category].astype('category')\n",
    "#convert the categorical columns to tensors.\n",
    "# data in the four categorical columns into numpy arrays and then stack all the columns horizontally\n",
    "vt = mutations_BRCA_agg_clin['Variant_Type'].cat.codes.values\n",
    "ty = mutations_BRCA_agg_clin['type'].cat.codes.values\n",
    "rg = mutations_BRCA_agg_clin['regulation'].cat.codes.values\n",
    "categorical_data = np.stack([vt, ty, rg], 1)\n",
    "categorical_data[:10]"
   ]
  },
  {
   "cell_type": "code",
   "execution_count": 23,
   "id": "western-possession",
   "metadata": {},
   "outputs": [
    {
     "data": {
      "text/plain": [
       "0    INS\n",
       "1    DEL\n",
       "2    DEL\n",
       "3    SNP\n",
       "4    DEL\n",
       "Name: Variant_Type, dtype: category\n",
       "Categories (3, object): ['DEL', 'INS', 'SNP']"
      ]
     },
     "execution_count": 23,
     "metadata": {},
     "output_type": "execute_result"
    }
   ],
   "source": [
    "mutations_BRCA_agg_clin['Variant_Type'].head()\n"
   ]
  },
  {
   "cell_type": "code",
   "execution_count": 24,
   "id": "emerging-navigator",
   "metadata": {},
   "outputs": [
    {
     "data": {
      "text/plain": [
       "(711, 8)"
      ]
     },
     "execution_count": 24,
     "metadata": {},
     "output_type": "execute_result"
    }
   ],
   "source": [
    "mutations_BRCA_agg_clin.shape"
   ]
  },
  {
   "cell_type": "code",
   "execution_count": 25,
   "id": "subtle-questionnaire",
   "metadata": {},
   "outputs": [
    {
     "data": {
      "text/plain": [
       "tensor([[1, 3, 0],\n",
       "        [0, 2, 0],\n",
       "        [0, 1, 0],\n",
       "        [2, 3, 1],\n",
       "        [0, 3, 1],\n",
       "        [0, 2, 1],\n",
       "        [1, 3, 1],\n",
       "        [0, 3, 0],\n",
       "        [0, 2, 0],\n",
       "        [0, 2, 0]])"
      ]
     },
     "execution_count": 25,
     "metadata": {},
     "output_type": "execute_result"
    }
   ],
   "source": [
    "#create a tensor from the aforementioned numpy array, \n",
    "categorical_data = torch.tensor(categorical_data, dtype=torch.int64)\n",
    "categorical_data[:10]"
   ]
  },
  {
   "cell_type": "markdown",
   "id": "considered-response",
   "metadata": {},
   "source": [
    "Numpy neumerical data"
   ]
  },
  {
   "cell_type": "code",
   "execution_count": 26,
   "id": "based-italian",
   "metadata": {},
   "outputs": [
    {
     "data": {
      "text/plain": [
       "tensor([[ 0.5000, -1.2934],\n",
       "        [ 0.5556, -1.2934],\n",
       "        [ 0.3333, -1.2934],\n",
       "        [ 0.5000,  0.8647],\n",
       "        [ 0.5000,  1.1244]])"
      ]
     },
     "execution_count": 26,
     "metadata": {},
     "output_type": "execute_result"
    }
   ],
   "source": [
    "numerical_data = np.stack([mutations_BRCA_agg_clin[col].values for col in numerical_columns], 1)\n",
    "numerical_data = torch.tensor(numerical_data, dtype=torch.float)\n",
    "numerical_data[:5]"
   ]
  },
  {
   "cell_type": "markdown",
   "id": "vietnamese-economy",
   "metadata": {},
   "source": [
    "Convert output into numpy tensors"
   ]
  },
  {
   "cell_type": "code",
   "execution_count": 27,
   "id": "martial-absolute",
   "metadata": {},
   "outputs": [
    {
     "data": {
      "text/plain": [
       "tensor([0, 0, 0, 0, 0])"
      ]
     },
     "execution_count": 27,
     "metadata": {},
     "output_type": "execute_result"
    }
   ],
   "source": [
    "outputs = torch.tensor(mutations_BRCA_agg_clin[output].values).flatten()\n",
    "outputs[:5]"
   ]
  },
  {
   "cell_type": "code",
   "execution_count": 28,
   "id": "musical-remark",
   "metadata": {},
   "outputs": [
    {
     "name": "stdout",
     "output_type": "stream",
     "text": [
      "torch.Size([711, 3])\n",
      "torch.Size([711, 2])\n"
     ]
    }
   ],
   "source": [
    "print(categorical_data.shape)\n",
    "print(numerical_data.shape)\n"
   ]
  },
  {
   "cell_type": "code",
   "execution_count": 29,
   "id": "blind-globe",
   "metadata": {},
   "outputs": [
    {
     "name": "stdout",
     "output_type": "stream",
     "text": [
      "[(3, 2), (4, 2), (2, 1)]\n"
     ]
    }
   ],
   "source": [
    "categorical_column_sizes = [len(mutations_BRCA_agg_clin[column].cat.categories) for column in categorical_columns]\n",
    "categorical_embedding_sizes = [(col_size, min(50, (col_size+1)//2)) for col_size in categorical_column_sizes]\n",
    "print(categorical_embedding_sizes)"
   ]
  },
  {
   "cell_type": "code",
   "execution_count": 30,
   "id": "canadian-nicholas",
   "metadata": {},
   "outputs": [],
   "source": [
    "total_records = 711\n",
    "test_records = int(total_records * .2)\n",
    "\n",
    "categorical_train_data = categorical_data[:total_records-test_records]\n",
    "categorical_test_data = categorical_data[total_records-test_records:total_records]\n",
    "numerical_train_data = numerical_data[:total_records-test_records]\n",
    "numerical_test_data = numerical_data[total_records-test_records:total_records]\n",
    "train_outputs       = outputs[:total_records-test_records]\n",
    "test_outputs        = outputs[total_records-test_records:total_records]"
   ]
  },
  {
   "cell_type": "code",
   "execution_count": 31,
   "id": "saved-compensation",
   "metadata": {},
   "outputs": [
    {
     "name": "stdout",
     "output_type": "stream",
     "text": [
      "569\n",
      "569\n",
      "569\n",
      "142\n",
      "142\n",
      "142\n"
     ]
    }
   ],
   "source": [
    "print(len(categorical_train_data))\n",
    "print(len(numerical_train_data))\n",
    "print(len(train_outputs))\n",
    "\n",
    "print(len(categorical_test_data))\n",
    "print(len(numerical_test_data))\n",
    "print(len(test_outputs))"
   ]
  },
  {
   "cell_type": "markdown",
   "id": "increasing-research",
   "metadata": {},
   "source": [
    "Model generation class"
   ]
  },
  {
   "cell_type": "code",
   "execution_count": 32,
   "id": "instrumental-anime",
   "metadata": {},
   "outputs": [],
   "source": [
    "class Model(nn.Module):\n",
    "\n",
    "    def __init__(self, embedding_size, num_numerical_cols, output_size, layers, p=0.4):\n",
    "        super().__init__()\n",
    "        self.all_embeddings = nn.ModuleList([nn.Embedding(ni, nf) for ni, nf in embedding_size])\n",
    "        self.embedding_dropout = nn.Dropout(p)\n",
    "        self.batch_norm_num = nn.BatchNorm1d(num_numerical_cols)\n",
    "        all_layers = []\n",
    "        num_categorical_cols = sum((nf for ni, nf in embedding_size))\n",
    "        input_size = num_categorical_cols + num_numerical_cols\n",
    "        \n",
    "        for i in layers:\n",
    "            all_layers.append(nn.Linear(input_size, i))\n",
    "            all_layers.append(nn.ReLU(inplace=True))\n",
    "            all_layers.append(nn.BatchNorm1d(i))\n",
    "            all_layers.append(nn.Dropout(p))\n",
    "            input_size = i\n",
    "       #multilayer percpreton is used\n",
    "        all_layers.append(nn.Linear(layers[-1], output_size))\n",
    "        self.layers = nn.Sequential(*all_layers)\n",
    "\n",
    "    def forward(self, x_categorical, x_numerical):\n",
    "        #embedding of the categorical columns takes place\n",
    "        embeddings = []\n",
    "        for i,e in enumerate(self.all_embeddings):\n",
    "            embeddings.append(e(x_categorical[:,i]))\n",
    "        x = torch.cat(embeddings, 1)\n",
    "        x = self.embedding_dropout(x)\n",
    "        #batch normalization of the numerical columns\n",
    "        x_numerical = self.batch_norm_num(x_numerical)\n",
    "        x = torch.cat([x, x_numerical], 1)\n",
    "        x = self.layers(x)\n",
    "        return x"
   ]
  },
  {
   "cell_type": "code",
   "execution_count": 33,
   "id": "exotic-permission",
   "metadata": {},
   "outputs": [
    {
     "name": "stdout",
     "output_type": "stream",
     "text": [
      "[(3, 2), (4, 2), (2, 1)]\n"
     ]
    }
   ],
   "source": [
    "print(categorical_embedding_sizes)\n"
   ]
  },
  {
   "cell_type": "code",
   "execution_count": 34,
   "id": "whole-canal",
   "metadata": {},
   "outputs": [
    {
     "data": {
      "text/plain": [
       "tensor([[ 0.5000, -1.2934],\n",
       "        [ 0.5556, -1.2934],\n",
       "        [ 0.3333, -1.2934],\n",
       "        ...,\n",
       "        [ 0.4444, -0.9094],\n",
       "        [ 0.3333, -0.9087],\n",
       "        [ 0.4118, -2.1365]])"
      ]
     },
     "execution_count": 34,
     "metadata": {},
     "output_type": "execute_result"
    }
   ],
   "source": [
    "numerical_train_data"
   ]
  },
  {
   "cell_type": "code",
   "execution_count": 35,
   "id": "common-seller",
   "metadata": {},
   "outputs": [
    {
     "data": {
      "text/plain": [
       "tensor([[-0.6966,  0.2145],\n",
       "        [-0.4567, -0.6010],\n",
       "        [ 0.0943,  0.1042],\n",
       "        ...,\n",
       "        [ 0.7319, -0.7335],\n",
       "        [ 0.4293, -0.2345],\n",
       "        [-0.6572, -1.0919]], grad_fn=<AddmmBackward>)"
      ]
     },
     "execution_count": 35,
     "metadata": {},
     "output_type": "execute_result"
    }
   ],
   "source": [
    "model = Model(categorical_embedding_sizes, numerical_data.shape[1], 2, [200,100,50], p=0.4)\n",
    "#print(model)\n",
    "model(categorical_train_data, numerical_train_data)"
   ]
  },
  {
   "cell_type": "code",
   "execution_count": 36,
   "id": "casual-papua",
   "metadata": {},
   "outputs": [
    {
     "data": {
      "text/plain": [
       "[(3, 2), (4, 2), (2, 1)]"
      ]
     },
     "execution_count": 36,
     "metadata": {},
     "output_type": "execute_result"
    }
   ],
   "source": [
    "categorical_embedding_sizes"
   ]
  },
  {
   "cell_type": "code",
   "execution_count": 37,
   "id": "adolescent-nancy",
   "metadata": {},
   "outputs": [],
   "source": [
    "loss_function = nn.CrossEntropyLoss()\n",
    "optimizer     = torch.optim.Adam(model.parameters(), lr=0.001)"
   ]
  },
  {
   "cell_type": "code",
   "execution_count": 38,
   "id": "forty-worst",
   "metadata": {},
   "outputs": [
    {
     "data": {
      "text/plain": [
       "tensor([[ 0.5000, -1.2934],\n",
       "        [ 0.5556, -1.2934],\n",
       "        [ 0.3333, -1.2934],\n",
       "        [ 0.5000,  0.8647],\n",
       "        [ 0.5000,  1.1244]])"
      ]
     },
     "execution_count": 38,
     "metadata": {},
     "output_type": "execute_result"
    }
   ],
   "source": [
    "numerical_data[:5]\n"
   ]
  },
  {
   "cell_type": "code",
   "execution_count": 39,
   "id": "portuguese-proxy",
   "metadata": {},
   "outputs": [],
   "source": [
    "epochs = 300\n",
    "aggregated_losses = []"
   ]
  },
  {
   "cell_type": "code",
   "execution_count": 40,
   "id": "consecutive-conducting",
   "metadata": {},
   "outputs": [
    {
     "name": "stdout",
     "output_type": "stream",
     "text": [
      "epoch:   1 loss: 0.81543154\n",
      "epoch:  26 loss: 0.71506315\n",
      "epoch:  51 loss: 0.63303787\n",
      "epoch:  76 loss: 0.57970643\n",
      "epoch: 101 loss: 0.50922191\n",
      "epoch: 126 loss: 0.44302714\n",
      "epoch: 151 loss: 0.39171812\n",
      "epoch: 176 loss: 0.34273386\n",
      "epoch: 201 loss: 0.31566525\n",
      "epoch: 226 loss: 0.31520391\n",
      "epoch: 251 loss: 0.29790169\n",
      "epoch: 276 loss: 0.29593834\n",
      "epoch: 300 loss: 0.2829117775\n"
     ]
    }
   ],
   "source": [
    "for i in range(epochs):\n",
    "    i += 1\n",
    "    y_pred = model(categorical_train_data, numerical_train_data)\n",
    "    single_loss = loss_function(y_pred, train_outputs)\n",
    "    aggregated_losses.append(single_loss)\n",
    "\n",
    "    if i%25 == 1:\n",
    "        print(f'epoch: {i:3} loss: {single_loss.item():10.8f}')\n",
    "\n",
    "    optimizer.zero_grad()\n",
    "    single_loss.backward()\n",
    "    optimizer.step()\n",
    "\n",
    "print(f'epoch: {i:3} loss: {single_loss.item():10.10f}')\n",
    "    "
   ]
  },
  {
   "cell_type": "code",
   "execution_count": 41,
   "id": "grateful-steel",
   "metadata": {},
   "outputs": [
    {
     "data": {
      "image/png": "[encoded data removed]",
      "text/plain": [
       "<Figure size 432x288 with 1 Axes>"
      ]
     },
     "metadata": {
      "needs_background": "light"
     },
     "output_type": "display_data"
    }
   ],
   "source": [
    "plt.plot(range(epochs), aggregated_losses)\n",
    "plt.ylabel('Loss')\n",
    "plt.xlabel('epoch');"
   ]
  },
  {
   "cell_type": "markdown",
   "id": "elementary-klein",
   "metadata": {},
   "source": [
    " look at the loss on validation set for figuring out the overfitting using the validation set y_val"
   ]
  },
  {
   "cell_type": "code",
   "execution_count": 42,
   "id": "voluntary-inside",
   "metadata": {},
   "outputs": [
    {
     "name": "stdout",
     "output_type": "stream",
     "text": [
      "Loss: 0.24516590\n"
     ]
    }
   ],
   "source": [
    "with torch.no_grad():\n",
    "    y_val = model(categorical_test_data, numerical_test_data)\n",
    "    loss = loss_function(y_val, test_outputs)\n",
    "print(f'Loss: {loss:.8f}')\n",
    "y_val = np.argmax(y_val, axis=1)"
   ]
  },
  {
   "cell_type": "code",
   "execution_count": 43,
   "id": "worth-delta",
   "metadata": {},
   "outputs": [
    {
     "name": "stdout",
     "output_type": "stream",
     "text": [
      "[[133   3]\n",
      " [  6   0]]\n",
      "              precision    recall  f1-score   support\n",
      "\n",
      "           0       0.96      0.98      0.97       136\n",
      "           1       0.00      0.00      0.00         6\n",
      "\n",
      "    accuracy                           0.94       142\n",
      "   macro avg       0.48      0.49      0.48       142\n",
      "weighted avg       0.92      0.94      0.93       142\n",
      "\n",
      "0.9366197183098591\n"
     ]
    }
   ],
   "source": [
    "from sklearn.metrics import classification_report, confusion_matrix, accuracy_score\n",
    "print(confusion_matrix(test_outputs,y_val))\n",
    "print(classification_report(test_outputs,y_val))\n",
    "print(accuracy_score(test_outputs, y_val))"
   ]
  },
  {
   "cell_type": "code",
   "execution_count": null,
   "id": "indian-collins",
   "metadata": {},
   "outputs": [],
   "source": []
  }
 ],
 "metadata": {
  "kernelspec": {
   "display_name": "Python 3",
   "language": "python",
   "name": "python3"
  },
  "language_info": {
   "codemirror_mode": {
    "name": "ipython",
    "version": 3
   },
   "file_extension": ".py",
   "mimetype": "text/x-python",
   "name": "python",
   "nbconvert_exporter": "python",
   "pygments_lexer": "ipython3",
   "version": "3.7.3"
  }
 },
 "nbformat": 4,
 "nbformat_minor": 5
}
