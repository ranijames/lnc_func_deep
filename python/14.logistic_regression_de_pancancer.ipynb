{
 "cells": [
  {
   "cell_type": "code",
   "execution_count": 1,
   "id": "experimental-timer",
   "metadata": {},
   "outputs": [
    {
     "name": "stdout",
     "output_type": "stream",
     "text": [
      "Linux-5.11.0-17-generic-x86_64-with-debian-bullseye-sid\n",
      "Python 3.7.3 (default, Mar 27 2019, 22:11:17) \n",
      "[GCC 7.3.0]\n",
      "NumPy 1.19.5\n",
      "SciPy 1.6.0\n",
      "Scikit-Learn 0.24.1\n"
     ]
    }
   ],
   "source": [
    "from comut import comut\n",
    "from comut import fileparsers\n",
    "import palettable\n",
    "import pandas as pd\n",
    "import matplotlib.pyplot as plt\n",
    "import numpy as np\n",
    "import seaborn as sns\n",
    "from imblearn.over_sampling import SMOTE\n",
    "from sklearn import preprocessing\n",
    "import matplotlib.pyplot as plt \n",
    "plt.rc(\"font\", size=14)\n",
    "from sklearn.linear_model import LogisticRegression\n",
    "from sklearn.model_selection import train_test_split\n",
    "import platform; print(platform.platform())\n",
    "import sys; print(\"Python\", sys.version)\n",
    "import numpy; print(\"NumPy\", numpy.__version__)\n",
    "import scipy; print(\"SciPy\", scipy.__version__)\n",
    "import sklearn; print(\"Scikit-Learn\", sklearn.__version__)\n",
    "from sklearn.feature_selection import RFE\n",
    "from sklearn.linear_model import LogisticRegression\n",
    "%matplotlib inline\n",
    "from collections import OrderedDict\n",
    "%config InlineBackend.figure_format = 'retina'"
   ]
  },
  {
   "cell_type": "code",
   "execution_count": 2,
   "id": "committed-retrieval",
   "metadata": {},
   "outputs": [],
   "source": [
    "cols_down=['risk_alelle_freq',\n",
    " 'Meth_Mean',\n",
    " 'logFC',\n",
    " 'positive_correlated_methylation_Yes',\n",
    " 'promoter_methylated_unknown',\n",
    " 'triplex_Yes',\n",
    " 'triplex_unknown',\n",
    " 'sample_BRCA',\n",
    " 'sample_KICH',\n",
    " 'sample_KIRP',\n",
    " 'sample_STAD',\n",
    " 'types_o',\n",
    " 'types_t',\n",
    " 'types_unknown']\n",
    "# generated accuracy 0.93"
   ]
  },
  {
   "cell_type": "code",
   "execution_count": 2,
   "id": "difficult-london",
   "metadata": {},
   "outputs": [],
   "source": [
    "\"\"\"\n",
    "Global functions used in this notebook\n",
    "\"\"\"\n",
    "def make_list(df,string):\n",
    "    lists   =list(df[string].drop_duplicates())\n",
    "    return lists\n",
    "\n",
    "def annon(df1,string,df2):\n",
    "    df_annon     =pd.merge(df1,df2,on=string)\n",
    "    return df_annon\n",
    "\n",
    "def add_column(df,lists,string,newcolname):\n",
    "    df[newcolname]  = np.where(df['gene_sym'].isin(lists),'Yes','No')\n",
    "    return df\n",
    "\n",
    "def readfile(path,filename):\n",
    "    df = pd.read_csv(path+filename,header=0,sep='\\t',skipinitialspace=True)\n",
    "    return df\n",
    "\n",
    "def annotate_features(df,cancer_driver,drugtarget,triplex,promo_methy,SNPS):\n",
    "    \"\"\"\n",
    "    Feature annotation, adding column to de lncRNAs datafrme based on the feature information\n",
    "    \"\"\"\n",
    "    df =add_column(df,cancer_driver,\"gene_sym\",\"cancer_driver\")\n",
    "    df =add_column(df,drugtarget,\"gene_sym\",\"drug_target\")\n",
    "    df =add_column(df,triplex,\"gene_sym\",\"triplex\")\n",
    "    df =add_column(df,promo_methy,\"gene_sym\",\"promoter_methylated\")\n",
    "    df =add_column(df,SNPS,\"gene_sym\",\"SNPS\")\n",
    "    return df  \n",
    "\n",
    "def rename_cols(df,oldname,newname):\n",
    "    df.rename(columns={oldname:newname},inplace=True)\n",
    "    return df\n",
    "\n",
    "def outers_join(df1,df2,string):\n",
    "    df_new = pd.merge(df1, df2, on=string,how=\"outer\")\n",
    "    return df_new\n",
    "\n",
    "def label_paths (row):\n",
    "    if row['Pathway'] == \"unknown\":\n",
    "        return 0\n",
    "    else:\n",
    "        return 1\n",
    "    \n",
    "def percentage_calc(count_ofyes,countofno,question):\n",
    "    \"\"\"\n",
    "    Percentage calculator for the number of pathways\n",
    "    \"\"\"\n",
    "    pct_of_no_sub = countofno/(countofno+count_ofyes)\n",
    "    pct_of_sub    = (count_ofyes)/(countofno+count_ofyes)\n",
    "    return(print(\"percentage of lncRNAs without\" + question, pct_of_no_sub*100),print(\"percentage of lncRNAs with\"+question, pct_of_sub*100))\n"
   ]
  },
  {
   "cell_type": "code",
   "execution_count": 3,
   "id": "fifteen-wheel",
   "metadata": {},
   "outputs": [],
   "source": [
    "def data_preparation(common_de,snps,lncRNAs_ref,common_de_ezh2_h2k27,clc,meth):\n",
    "    \"\"\"\n",
    "    Make the dataframe for the logic regression analysis with all avaliable meta information for the pan cancer common \n",
    "    De lncRNAs file\n",
    "    \"\"\"\n",
    "    SNPS_ann       = pd.merge(lncRNAs_ref[[\"gene_id\",\"gene_sym\"]],snps_all[[\"gene_id\",\"p-Value\"]],on=\"gene_id\")\n",
    "    SNPS_ann       = rename_cols(SNPS_ann,\"p-Value\",\"risk_alelle_freq\")\n",
    "    SNPS_ann.drop_duplicates(inplace=True)\n",
    "    SNPS_ann_de    = pd.merge(common_de['gene_sym'],SNPS_ann[[\"risk_alelle_freq\",\"gene_sym\"]],on='gene_sym')\n",
    "    SNPS_ann_de['risk_alelle_freq'] = pd.to_numeric(SNPS_ann_de['risk_alelle_freq'], errors='coerce')\n",
    "    SNPS_ann_de.fillna(0, inplace=True)\n",
    "    SNPS_ann_de    = SNPS_ann_de.sort_values(by='risk_alelle_freq', ascending=False)\n",
    "    SNPS_ann_de.drop_duplicates(subset='gene_sym', keep=\"first\",inplace=True)\n",
    "    chrom_de_ezh2  = common_de_ezh2_h2k27.query('chromatin==\"EZH2\"')\n",
    "    chrom_de_H3K27 = common_de_ezh2_h2k27.query('chromatin==\"H3K27\"')\n",
    "    chrom_de_H3K27 = chrom_de_H3K27[[\"gene_sym\",\"sample\",\"logFC_chromatin\"]]\n",
    "    chrom_de_ezh2  = chrom_de_ezh2[[\"gene_sym\",\"sample\",\"logFC_chromatin\"]]\n",
    "    clc_de         = pd.merge(common_de['gene_sym'],clc,on='gene_sym')\n",
    "    brca_meth_de   = pd.merge(common_de[['gene_sym','sample']],Methylated[[\"gene_sym\",\"Meth_Mean\",\"sample\"]],on=['gene_sym','sample'])\n",
    "    brca_new       = pd.merge(common_de, SNPS_ann_de, on='gene_sym',how=\"outer\")\n",
    "    brca_new       = outers_join(brca_new,chrom_de_ezh2[[\"gene_sym\",\"logFC_chromatin\"]],\"gene_sym\")\n",
    "    brca_new       = outers_join(brca_new,chrom_de_H3K27[[\"gene_sym\",\"logFC_chromatin\"]],\"gene_sym\")\n",
    "    brca_new = rename_cols(brca_new,\"logFC_chromatin_x\",\"EZH2\")\n",
    "    brca_new = rename_cols(brca_new,\"logFC_chromatin_y\",\"H3K27\")\n",
    "    brca_new = outers_join(brca_new,clc_de,\"gene_sym\")\n",
    "    brca_new = pd.merge(brca_new, brca_meth_de, on=['gene_sym','sample'],how=\"outer\")\n",
    "    brca_new.fillna('unknown', inplace=True)\n",
    "    brca_new.drop(['SNPS'],axis=1,inplace=True)\n",
    "    return brca_new"
   ]
  },
  {
   "cell_type": "code",
   "execution_count": 3,
   "id": "anticipated-advance",
   "metadata": {},
   "outputs": [],
   "source": [
    "refs        = '/home/alva/Documents/lncRNAs_project_2020/Analysis_2021/Tcga_R/GDCdata/TCGA-BRCA/harmonized/Transcriptome_Profiling/Gene_Expression_Quantification/r_data/reference/Homo_sapiens.GRCh38.97.chr.txt'\n",
    "ref         = pd.read_csv(refs, sep=\"\\t\", header=0,skipinitialspace=True)\n",
    "lncRNAs_ref = ref.query('biotype == \"lncRNA\"')\n",
    "PC_ref      = ref.query('biotype == \"protein_coding\"')"
   ]
  },
  {
   "cell_type": "code",
   "execution_count": 4,
   "id": "mental-genealogy",
   "metadata": {},
   "outputs": [],
   "source": [
    "path                  = '/home/alva/Documents/lncRNAs_project_2020/Analysis_2021/DNA_methy_tcga/meth/de/filtered_results/'\n",
    "chrompath             = \"/home/alva/Documents/lncRNAs_project_2020/MEG3/\"\n",
    "depath                = '/home/alva/Documents/lncRNAs_project_2020/Analysis_2021/DNA_methy_tcga/meth/de/'\n",
    "methy                 = '/home/alva/Documents/lncRNAs_project_2020/Analysis_2021/DNA_methy_tcga/meth/de/'\n",
    "cancer_lncRNAs_census = '/home/alva/Documents/lncRNAs_project_2020/Analysis_2021/DNA_methy_tcga/autoencoder_lncRNAs/data/'\n",
    "SNPS                  = \"/home/alva/Documents/lncRNAs_project_2020/Analysis_2021/lncRNAs_TCGA/\"\n",
    "pathmeg3              = \"/home/alva/Documents/lncRNAs_project_2020/MEG3/\"\n",
    "de                    = \"/home/alva/Documents/lncRNAs_project_2020/Analysis_2021/DNA_methy_tcga/meth/de/filtered_results/\"\n",
    "cancer_features       = \"/home/alva/Documents/lncRNAs_project_2020/Analysis_2021/lnc2cancer/\"\n",
    "sphase                = '/home/alva/Documents/lncRNAs_project_2020/Analysis_2021/Sphase_lncRNAs/'"
   ]
  },
  {
   "cell_type": "code",
   "execution_count": 5,
   "id": "conceptual-knock",
   "metadata": {},
   "outputs": [],
   "source": [
    "#http://www.bio-bigdata.net/lnc2cancer/download.html\n",
    "cancer_clinical   = pd.read_excel(cancer_features+\"lncRNA_clinical.xlsx\")\n",
    "cancer_mechanism  = pd.read_excel(cancer_features+\"lncRNA(mechanism).xlsx\")\n",
    "cancer_functional = pd.read_excel(cancer_features+\"lncRNA(function).xlsx\")"
   ]
  },
  {
   "cell_type": "code",
   "execution_count": 59,
   "id": "minimal-hepatitis",
   "metadata": {},
   "outputs": [],
   "source": [
    "common_de           = readfile(path,\"commonDE_5cancermetainformation\")\n",
    "pathways            = readfile(path,\"cis_onco_pathways_ann_cols\")\n",
    "triplex             = readfile(depath,\"tripleFPP_triplex_genecode\")\n",
    "Methylated          = readfile(methy,'methylated_lncRNAs')\n",
    "clc                 = readfile(cancer_lncRNAs_census,\"lncRNA_CLC\")\n",
    "snps_all            = readfile(SNPS,\"SNPs_loci_lncRNAs_cancertypes\")\n",
    "de_fc               = readfile(de,\"lncRNAs_acrossatleast5cancer\")"
   ]
  },
  {
   "cell_type": "code",
   "execution_count": 60,
   "id": "isolated-looking",
   "metadata": {},
   "outputs": [],
   "source": [
    "SNPS_ann       = pd.merge(lncRNAs_ref[[\"gene_id\",\"gene_sym\"]],snps_all[[\"gene_id\",\"p-Value\"]],on=\"gene_id\")\n",
    "SNPS_ann       = rename_cols(SNPS_ann,\"p-Value\",\"risk_alelle_freq\")\n",
    "SNPS_ann.drop_duplicates(inplace=True)\n",
    "SNPS_ann_de    = pd.merge(common_de['gene_sym'],SNPS_ann[[\"risk_alelle_freq\",\"gene_sym\"]],on='gene_sym')\n",
    "SNPS_ann_de['risk_alelle_freq'] = pd.to_numeric(SNPS_ann_de['risk_alelle_freq'], errors='coerce')\n",
    "SNPS_ann_de.fillna(0, inplace=True)\n",
    "SNPS_ann_de    = SNPS_ann_de.sort_values(by='risk_alelle_freq', ascending=False)\n",
    "SNPS_ann_de.drop_duplicates(subset='gene_sym', keep=\"first\",inplace=True)"
   ]
  },
  {
   "cell_type": "code",
   "execution_count": 61,
   "id": "attached-nature",
   "metadata": {},
   "outputs": [],
   "source": [
    "triple =pd.read_csv('/home/alva/Documents/lncRNAs_project_2020/Analysis_2021/DNA_methy_tcga/meth/de/tripleFPP_triplex_genecode',sep='\\t',header=0)\n",
    "triple.rename(columns={'gene_sym_y':'gene_sym'},inplace=True)"
   ]
  },
  {
   "cell_type": "code",
   "execution_count": 62,
   "id": "infrared-implementation",
   "metadata": {},
   "outputs": [],
   "source": [
    "clc = clc[[\"NAME AS PUBLISHED\",\"Oncogene (o) or Tumour Supp(t)\"]]\n",
    "clc = rename_cols(clc,\"NAME AS PUBLISHED\",\"gene_sym\")\n",
    "clc = rename_cols(clc,\"Oncogene (o) or Tumour Supp(t)\",\"types\")\n",
    "Methylated           = rename_cols(Methylated,\"Gene\",\"gene_sym\")\n",
    "common_de[\"sample\"]  = common_de[\"filename\"].apply(lambda x:x.split(\"-\")[1])\n",
    "common_de.drop('filename',axis=1,inplace=True)\n",
    "de_fc[\"sample\"]      = de_fc[\"filename\"].apply(lambda x:x.split(\"-\")[1])\n",
    "de_fc                = rename_cols(de_fc,\"external_gene_name\",\"gene_sym\")\n",
    "de_fc.drop('filename',axis=1,inplace=True)"
   ]
  },
  {
   "cell_type": "markdown",
   "id": "settled-excitement",
   "metadata": {},
   "source": [
    " Pathway enrichment score data preparation\n",
    "#calculated all has got significant p-value"
   ]
  },
  {
   "cell_type": "code",
   "execution_count": 10,
   "id": "hydraulic-brook",
   "metadata": {},
   "outputs": [],
   "source": [
    "%store -r pathways_kegg_eng_ann_great_fil_lnc\n",
    "#pathways_kegg_eng_ann_great_fil_lnc.drop('SNPS',axis=1,inplace=True)"
   ]
  },
  {
   "cell_type": "code",
   "execution_count": 11,
   "id": "photographic-satin",
   "metadata": {
    "scrolled": true
   },
   "outputs": [],
   "source": [
    "Pathways   = pathways_kegg_eng_ann_great_fil_lnc[[\"Pathway\",\"gene_sym\",\n",
    "                                                  \"gene_group\",\"num_of_Genes\"]].drop_duplicates()"
   ]
  },
  {
   "cell_type": "code",
   "execution_count": 12,
   "id": "paperback-findings",
   "metadata": {},
   "outputs": [
    {
     "name": "stderr",
     "output_type": "stream",
     "text": [
      "/home/alva/anaconda3/lib/python3.7/site-packages/pandas/core/frame.py:4446: SettingWithCopyWarning: \n",
      "A value is trying to be set on a copy of a slice from a DataFrame\n",
      "\n",
      "See the caveats in the documentation: https://pandas.pydata.org/pandas-docs/stable/user_guide/indexing.html#returning-a-view-versus-a-copy\n",
      "  errors=errors,\n"
     ]
    },
    {
     "data": {
      "text/plain": [
       "(370,)"
      ]
     },
     "execution_count": 12,
     "metadata": {},
     "output_type": "execute_result"
    }
   ],
   "source": [
    "cancer_clinical_use      = cancer_clinical[[\"name\",\"Drug\",\"Circulating\",\"Metastasis\",\"Recurrence\"]]\n",
    "cancer_clinical_use      = rename_cols(cancer_clinical_use,\"name\",\"gene_sym\")\n",
    "cancer_clinical_use_common = annon(cancer_clinical_use,\"gene_sym\",de_fc[\"gene_sym\"])\n",
    "cancer_clinical_use_common.drop_duplicates(inplace=True)\n",
    "cancer_clinical_use_common_melt = pd.melt(cancer_clinical_use_common,id_vars='gene_sym')\n",
    "cancer_clinical_use_common_melt = cancer_clinical_use_common_melt.query('value!=\"0\"')\n",
    "cols = ['Drug','Circulating','Recurrence','Coding Ability']\n",
    "cancer_clinical_use_common_melt[\"col\"] = cancer_clinical_use_common_melt['variable'] + '_' + cancer_clinical_use_common_melt['value'].astype(str)\n",
    "cancer_clinical_use_common_melt = (cancer_clinical_use_common_melt['variable'].str.split(', ')\n",
    "                    .groupby(cancer_clinical_use_common_melt['gene_sym'])\n",
    "                    .agg(lambda x: ', '.join(set(y for z in x for y in z)))\n",
    "                    .reset_index())\n",
    "cancer_clinical_use_common_melt['variable'] =cancer_clinical_use_common_melt['variable'].apply(lambda x: x.replace(',','_'))\n",
    "cancer_clinical_use_common_melt.gene_sym.drop_duplicates().shape"
   ]
  },
  {
   "cell_type": "code",
   "execution_count": 13,
   "id": "attempted-artist",
   "metadata": {},
   "outputs": [],
   "source": [
    "triple_de = pd.merge(triple[[\"score\",\"gene_sym\"]],common_de[\"gene_sym\"],on='gene_sym')\n",
    "triple_de.drop_duplicates(inplace=True)"
   ]
  },
  {
   "cell_type": "code",
   "execution_count": 14,
   "id": "other-batman",
   "metadata": {},
   "outputs": [],
   "source": [
    "pathways_fc_de = annon(de_fc[[\"logFC\",\"gene_sym\",\"sample\"]],\"gene_sym\",Pathways)\n",
    "brca_meth_de   = pd.merge(common_de[['gene_sym','sample']], Methylated[[\"gene_sym\",\"Meth_Mean\",\"sample\"]],on=['gene_sym','sample'])"
   ]
  },
  {
   "cell_type": "code",
   "execution_count": 17,
   "id": "handled-persian",
   "metadata": {},
   "outputs": [
    {
     "data": {
      "text/plain": [
       "(34373, 6)"
      ]
     },
     "execution_count": 17,
     "metadata": {},
     "output_type": "execute_result"
    }
   ],
   "source": [
    "pathways_fc_de.shape"
   ]
  },
  {
   "cell_type": "markdown",
   "id": "overhead-colorado",
   "metadata": {},
   "source": [
    "Input Pathways for fisher exact test "
   ]
  },
  {
   "cell_type": "code",
   "execution_count": 15,
   "id": "nutritional-norwegian",
   "metadata": {},
   "outputs": [],
   "source": [
    "pathways_lncRNAs = (pathways_fc_de['gene_sym'].str.split(', ')\n",
    "                    .groupby(pathways_fc_de['Pathway'])\n",
    "                    .agg(lambda x: ', '.join(set(y for z in x for y in z)))\n",
    "                    .reset_index())\n",
    "df1 = pathways_lncRNAs.groupby('Pathway')['gene_sym'].apply(lambda x: ', '.join(x.astype(str))).reset_index()\n",
    "df1['num_of_lncRNAs'] = df1.gene_sym.str.count(',')+1\n",
    "df1_ann = annon(pathways_fc_de[[\"Pathway\",\"gene_group\",\"num_of_Genes\"]],\"Pathway\",df1)\n",
    "df1_ann = df1_ann.drop_duplicates()\n",
    "df1_ann = df1_ann.query('num_of_lncRNAs<=gene_group')"
   ]
  },
  {
   "cell_type": "code",
   "execution_count": 26,
   "id": "important-flooring",
   "metadata": {},
   "outputs": [
    {
     "name": "stdout",
     "output_type": "stream",
     "text": [
      "Stored 'df1_ann' (DataFrame)\n"
     ]
    }
   ],
   "source": [
    "%store df1_ann"
   ]
  },
  {
   "cell_type": "code",
   "execution_count": 16,
   "id": "confidential-abraham",
   "metadata": {},
   "outputs": [
    {
     "data": {
      "text/plain": [
       "(115, 2)"
      ]
     },
     "execution_count": 16,
     "metadata": {},
     "output_type": "execute_result"
    }
   ],
   "source": [
    "cancer_mechanism_use = cancer_mechanism[[\"name\",\"TF\",\"Enhancer\",\"Variant\"]]\n",
    "cancer_mechanism_use = rename_cols(cancer_mechanism_use,\"name\",\"gene_sym\")\n",
    "cancer_mechanism_use_common = annon(cancer_mechanism_use,\"gene_sym\",de_fc[\"gene_sym\"])\n",
    "cancer_mechanism_use_common.drop_duplicates(inplace=True)\n",
    "cancer_mechanism_use_common_melt = pd.melt(cancer_mechanism_use_common,id_vars='gene_sym')\n",
    "cancer_mechanism_use_common_melt['variable'].drop_duplicates()\n",
    "cancer_mechanism_use_common_melt = cancer_mechanism_use_common_melt.query('value!=\"0\"')\n",
    "cancer_mechanism_use_common_melt[\"col\"] = cancer_mechanism_use_common_melt['variable'] + '_' + cancer_mechanism_use_common_melt['value'].astype(str)\n",
    "cancer_mechanism_use_common_melt=cancer_mechanism_use_common_melt.query('col !=\"TF_0\"')\n",
    "cancer_mechanism_use_common_melt=cancer_mechanism_use_common_melt.query('col !=\"Enhancer_0\"')\n",
    "cancer_mechanism_use_common_melt=cancer_mechanism_use_common_melt.query('col !=\"Variant_0\"')\n",
    "cancer_mechanism_use_common_melt = (cancer_mechanism_use_common_melt['variable'].str.split(', ')\n",
    "                    .groupby(cancer_mechanism_use_common_melt['gene_sym'])\n",
    "                    .agg(lambda x: ', '.join(set(y for z in x for y in z)))\n",
    "                    .reset_index())\n",
    "cancer_mechanism_use_common_melt['variable'] =cancer_mechanism_use_common_melt['variable'].apply(lambda x: x.replace(',','_'))\n",
    "cancer_mechanism_use_common_melt.drop_duplicates(inplace=True)\n",
    "cancer_mechanism_use_common_melt.shape"
   ]
  },
  {
   "cell_type": "code",
   "execution_count": 18,
   "id": "intense-playback",
   "metadata": {},
   "outputs": [
    {
     "name": "stderr",
     "output_type": "stream",
     "text": [
      "/home/alva/anaconda3/lib/python3.7/site-packages/ipykernel_launcher.py:9: SettingWithCopyWarning: \n",
      "A value is trying to be set on a copy of a slice from a DataFrame.\n",
      "Try using .loc[row_indexer,col_indexer] = value instead\n",
      "\n",
      "See the caveats in the documentation: https://pandas.pydata.org/pandas-docs/stable/user_guide/indexing.html#returning-a-view-versus-a-copy\n",
      "  if __name__ == '__main__':\n"
     ]
    },
    {
     "data": {
      "text/plain": [
       "(320, 2)"
      ]
     },
     "execution_count": 18,
     "metadata": {},
     "output_type": "execute_result"
    }
   ],
   "source": [
    "cancer_functional_use = cancer_functional[[\"name\",\"autophagy/Apoptosis\",\"Cell Growth\",\"EMT\",\"Survival\"]]\n",
    "cancer_functional_use = rename_cols(cancer_functional_use,\"name\",\"gene_sym\")\n",
    "cancer_functional_use_common      = annon(cancer_functional_use,\"gene_sym\",de_fc[\"gene_sym\"])\n",
    "cancer_functional_use_common.drop_duplicates(inplace=True)\n",
    "cancer_functional_use_common_melt = pd.melt(cancer_functional_use_common,id_vars='gene_sym')\n",
    "cancer_functional_use_common_melt.drop_duplicates(inplace=True)\n",
    "#cancer_functional_use_common_melt['value'] = pd.to_numeric(cancer_functional_use_common_melt['value'])\n",
    "cancer_functional_use_common_melt_fil        = cancer_functional_use_common_melt.query('value!=\"0\" ')\n",
    "cancer_functional_use_common_melt_fil[\"col\"] = cancer_functional_use_common_melt_fil['variable'] + '_' + cancer_functional_use_common_melt_fil['value'].astype(str)\n",
    "cancer_functional_use_common_melt_fil=cancer_functional_use_common_melt_fil.query('col !=\"Cell Growth_0\"')\n",
    "cancer_functional_use_common_melt_fil =cancer_functional_use_common_melt_fil.query('col != \"autophagy/Apoptosis_autophagy0\"')\n",
    "cancer_functional_use_common_melt_fil =cancer_functional_use_common_melt_fil.query('col != \"EMT_0\"')\n",
    "cancer_functional_use_common_melt_fil =cancer_functional_use_common_melt_fil.query('col !=\"Survival_0\"')\n",
    "cancer_functional_use_common_melt_fil = (cancer_functional_use_common_melt_fil['variable'].str.split(', ')\n",
    "                    .groupby(cancer_functional_use_common_melt_fil['gene_sym'])\n",
    "                    .agg(lambda x: ', '.join(set(y for z in x for y in z)))\n",
    "                    .reset_index())\n",
    "cancer_functional_use_common_melt_fil['variable'] =cancer_functional_use_common_melt_fil['variable'].apply(lambda x: x.replace(',','_'))\n",
    "cancer_functional_use_common_melt_fil.drop_duplicates(inplace=True)\n",
    "cancer_functional_use_common_melt_fil.shape"
   ]
  },
  {
   "cell_type": "code",
   "execution_count": 19,
   "id": "sized-parallel",
   "metadata": {},
   "outputs": [],
   "source": [
    "sphase_lncRNAs    = readfile(sphase,\"Sphase_TCGA\")\n",
    "sphase_lncRNAs[\"sphase_mean_FC\"]    = sphase_lncRNAs[[\"GeneSymbol\",\"S-phase T1\",\"S-phase T2\",\"S-phase T3\"]].mean(axis=1)\n",
    "sphase_lncRNAs    = rename_cols(sphase_lncRNAs,\"GeneSymbol\",\"gene_sym\")"
   ]
  },
  {
   "cell_type": "code",
   "execution_count": 20,
   "id": "naval-nigeria",
   "metadata": {},
   "outputs": [
    {
     "data": {
      "text/plain": [
       "Index(['gene_sym', 'proximal_cancer_driver', 'proximal_drug_target', 'triplex',\n",
       "       'promoter_methylated', 'SNPS', 'negative_correlated_methylation',\n",
       "       'positive_correlated_methylation', 'sample'],\n",
       "      dtype='object')"
      ]
     },
     "execution_count": 20,
     "metadata": {},
     "output_type": "execute_result"
    }
   ],
   "source": [
    "common_de.columns"
   ]
  },
  {
   "cell_type": "markdown",
   "id": "advance-father",
   "metadata": {},
   "source": [
    "1.New data preparation as of March 18th"
   ]
  },
  {
   "cell_type": "code",
   "execution_count": 64,
   "id": "covered-apparel",
   "metadata": {},
   "outputs": [],
   "source": [
    "clc_de    = pd.merge(common_de['gene_sym'],clc,on='gene_sym')\n",
    "clc_de.drop_duplicates(inplace=True)\n",
    "meth_de   = pd.merge(common_de[['gene_sym','sample']],Methylated[[\"gene_sym\",\"Meth_Mean\",\"sample\"]],on=['gene_sym','sample'])\n",
    "meth_de.drop_duplicates(inplace=True)\n",
    "sphase_de = pd.merge(common_de['gene_sym'],sphase_lncRNAs[[\"gene_sym\",\"sphase_mean_FC\"]],on='gene_sym')\n",
    "sphase_de.drop_duplicates(inplace=True)"
   ]
  },
  {
   "cell_type": "code",
   "execution_count": 65,
   "id": "engaging-lightweight",
   "metadata": {},
   "outputs": [],
   "source": [
    "common_de = outers_join(common_de,clc_de,\"gene_sym\")\n",
    "common_de = outers_join(common_de,meth_de,[\"gene_sym\",\"sample\"])\n",
    "common_de = outers_join(common_de,sphase_de,\"gene_sym\")\n",
    "common_de = outers_join(common_de,triple_de,\"gene_sym\")\n",
    "common_de = annon(de_fc[[\"gene_sym\",\"logFC\",\"sample\"]],[\"gene_sym\",\"sample\"],common_de)\n",
    "common_de.drop_duplicates(inplace=True)"
   ]
  },
  {
   "cell_type": "code",
   "execution_count": 66,
   "id": "heated-difficulty",
   "metadata": {},
   "outputs": [],
   "source": [
    "common_de = outers_join(common_de,cancer_mechanism_use_common_melt[[\"gene_sym\",\"variable\"]],\"gene_sym\")\n",
    "common_de = rename_cols(common_de,\"variable\",\"mechanism\")"
   ]
  },
  {
   "cell_type": "code",
   "execution_count": 67,
   "id": "strategic-neighborhood",
   "metadata": {},
   "outputs": [],
   "source": [
    "common_de = outers_join(common_de,cancer_functional_use_common_melt_fil[[\"gene_sym\",\"variable\"]],\"gene_sym\")\n",
    "common_de = rename_cols(common_de,\"variable\",\"functional\")"
   ]
  },
  {
   "cell_type": "code",
   "execution_count": 68,
   "id": "mathematical-reservation",
   "metadata": {},
   "outputs": [
    {
     "data": {
      "text/plain": [
       "(26467, 17)"
      ]
     },
     "execution_count": 68,
     "metadata": {},
     "output_type": "execute_result"
    }
   ],
   "source": [
    "common_de = outers_join(common_de,cancer_clinical_use_common_melt[[\"gene_sym\",\"variable\"]],\"gene_sym\")\n",
    "common_de = rename_cols(common_de,\"variable\",\"clinical\")\n",
    "common_de.fillna(\"0\",inplace=True)\n",
    "common_de.drop_duplicates(inplace=True)\n",
    "common_de.shape\n",
    "#common_de.drop(['Pathway_x','Pathway_y'],axis=1,inplace=True)"
   ]
  },
  {
   "cell_type": "code",
   "execution_count": 56,
   "id": "several-princeton",
   "metadata": {
    "collapsed": true
   },
   "outputs": [
    {
     "data": {
      "text/html": [
       "<div>\n",
       "<style scoped>\n",
       "    .dataframe tbody tr th:only-of-type {\n",
       "        vertical-align: middle;\n",
       "    }\n",
       "\n",
       "    .dataframe tbody tr th {\n",
       "        vertical-align: top;\n",
       "    }\n",
       "\n",
       "    .dataframe thead th {\n",
       "        text-align: right;\n",
       "    }\n",
       "</style>\n",
       "<table border=\"1\" class=\"dataframe\">\n",
       "  <thead>\n",
       "    <tr style=\"text-align: right;\">\n",
       "      <th></th>\n",
       "      <th>gene_sym</th>\n",
       "      <th>logFC</th>\n",
       "      <th>sample</th>\n",
       "      <th>proximal_cancer_driver</th>\n",
       "      <th>proximal_drug_target</th>\n",
       "      <th>triplex</th>\n",
       "      <th>promoter_methylated</th>\n",
       "      <th>SNPS</th>\n",
       "      <th>negative_correlated_methylation</th>\n",
       "      <th>positive_correlated_methylation</th>\n",
       "      <th>types</th>\n",
       "      <th>Meth_Mean</th>\n",
       "      <th>sphase_mean_FC</th>\n",
       "      <th>score</th>\n",
       "      <th>mechanism</th>\n",
       "      <th>functional</th>\n",
       "      <th>clinical</th>\n",
       "    </tr>\n",
       "  </thead>\n",
       "  <tbody>\n",
       "    <tr>\n",
       "      <th>0</th>\n",
       "      <td>A1BG-AS1</td>\n",
       "      <td>-1.277354</td>\n",
       "      <td>COAD</td>\n",
       "      <td>No</td>\n",
       "      <td>No</td>\n",
       "      <td>No</td>\n",
       "      <td>No</td>\n",
       "      <td>No</td>\n",
       "      <td>No</td>\n",
       "      <td>No</td>\n",
       "      <td>0</td>\n",
       "      <td>0</td>\n",
       "      <td>0</td>\n",
       "      <td>0</td>\n",
       "      <td>0</td>\n",
       "      <td>0</td>\n",
       "      <td>Recurrence_ Metastasis</td>\n",
       "    </tr>\n",
       "    <tr>\n",
       "      <th>1</th>\n",
       "      <td>A1BG-AS1</td>\n",
       "      <td>0.988639</td>\n",
       "      <td>HNSC</td>\n",
       "      <td>No</td>\n",
       "      <td>No</td>\n",
       "      <td>No</td>\n",
       "      <td>No</td>\n",
       "      <td>No</td>\n",
       "      <td>No</td>\n",
       "      <td>No</td>\n",
       "      <td>0</td>\n",
       "      <td>0</td>\n",
       "      <td>0</td>\n",
       "      <td>0</td>\n",
       "      <td>0</td>\n",
       "      <td>0</td>\n",
       "      <td>Recurrence_ Metastasis</td>\n",
       "    </tr>\n",
       "    <tr>\n",
       "      <th>2</th>\n",
       "      <td>A1BG-AS1</td>\n",
       "      <td>-1.049325</td>\n",
       "      <td>KICH</td>\n",
       "      <td>No</td>\n",
       "      <td>No</td>\n",
       "      <td>No</td>\n",
       "      <td>No</td>\n",
       "      <td>No</td>\n",
       "      <td>No</td>\n",
       "      <td>No</td>\n",
       "      <td>0</td>\n",
       "      <td>0</td>\n",
       "      <td>0</td>\n",
       "      <td>0</td>\n",
       "      <td>0</td>\n",
       "      <td>0</td>\n",
       "      <td>Recurrence_ Metastasis</td>\n",
       "    </tr>\n",
       "    <tr>\n",
       "      <th>3</th>\n",
       "      <td>A1BG-AS1</td>\n",
       "      <td>-0.772376</td>\n",
       "      <td>LIHC</td>\n",
       "      <td>No</td>\n",
       "      <td>No</td>\n",
       "      <td>No</td>\n",
       "      <td>No</td>\n",
       "      <td>No</td>\n",
       "      <td>No</td>\n",
       "      <td>No</td>\n",
       "      <td>0</td>\n",
       "      <td>0</td>\n",
       "      <td>0</td>\n",
       "      <td>0</td>\n",
       "      <td>0</td>\n",
       "      <td>0</td>\n",
       "      <td>Recurrence_ Metastasis</td>\n",
       "    </tr>\n",
       "    <tr>\n",
       "      <th>4</th>\n",
       "      <td>A1BG-AS1</td>\n",
       "      <td>-0.581519</td>\n",
       "      <td>LUAD</td>\n",
       "      <td>No</td>\n",
       "      <td>No</td>\n",
       "      <td>No</td>\n",
       "      <td>No</td>\n",
       "      <td>No</td>\n",
       "      <td>No</td>\n",
       "      <td>No</td>\n",
       "      <td>0</td>\n",
       "      <td>0</td>\n",
       "      <td>0</td>\n",
       "      <td>0</td>\n",
       "      <td>0</td>\n",
       "      <td>0</td>\n",
       "      <td>Recurrence_ Metastasis</td>\n",
       "    </tr>\n",
       "    <tr>\n",
       "      <th>...</th>\n",
       "      <td>...</td>\n",
       "      <td>...</td>\n",
       "      <td>...</td>\n",
       "      <td>...</td>\n",
       "      <td>...</td>\n",
       "      <td>...</td>\n",
       "      <td>...</td>\n",
       "      <td>...</td>\n",
       "      <td>...</td>\n",
       "      <td>...</td>\n",
       "      <td>...</td>\n",
       "      <td>...</td>\n",
       "      <td>...</td>\n",
       "      <td>...</td>\n",
       "      <td>...</td>\n",
       "      <td>...</td>\n",
       "      <td>...</td>\n",
       "    </tr>\n",
       "    <tr>\n",
       "      <th>26462</th>\n",
       "      <td>ZSCAN16-AS1</td>\n",
       "      <td>-0.670712</td>\n",
       "      <td>COAD</td>\n",
       "      <td>No</td>\n",
       "      <td>No</td>\n",
       "      <td>No</td>\n",
       "      <td>No</td>\n",
       "      <td>No</td>\n",
       "      <td>No</td>\n",
       "      <td>No</td>\n",
       "      <td>0</td>\n",
       "      <td>0</td>\n",
       "      <td>0</td>\n",
       "      <td>0</td>\n",
       "      <td>0</td>\n",
       "      <td>0</td>\n",
       "      <td>0</td>\n",
       "    </tr>\n",
       "    <tr>\n",
       "      <th>26463</th>\n",
       "      <td>ZSCAN16-AS1</td>\n",
       "      <td>-0.968157</td>\n",
       "      <td>KICH</td>\n",
       "      <td>No</td>\n",
       "      <td>No</td>\n",
       "      <td>No</td>\n",
       "      <td>No</td>\n",
       "      <td>No</td>\n",
       "      <td>No</td>\n",
       "      <td>No</td>\n",
       "      <td>0</td>\n",
       "      <td>0</td>\n",
       "      <td>0</td>\n",
       "      <td>0</td>\n",
       "      <td>0</td>\n",
       "      <td>0</td>\n",
       "      <td>0</td>\n",
       "    </tr>\n",
       "    <tr>\n",
       "      <th>26464</th>\n",
       "      <td>ZSCAN16-AS1</td>\n",
       "      <td>-0.778585</td>\n",
       "      <td>KIRC</td>\n",
       "      <td>No</td>\n",
       "      <td>No</td>\n",
       "      <td>No</td>\n",
       "      <td>No</td>\n",
       "      <td>No</td>\n",
       "      <td>No</td>\n",
       "      <td>No</td>\n",
       "      <td>0</td>\n",
       "      <td>0</td>\n",
       "      <td>0</td>\n",
       "      <td>0</td>\n",
       "      <td>0</td>\n",
       "      <td>0</td>\n",
       "      <td>0</td>\n",
       "    </tr>\n",
       "    <tr>\n",
       "      <th>26465</th>\n",
       "      <td>ZSCAN16-AS1</td>\n",
       "      <td>-0.642760</td>\n",
       "      <td>LUAD</td>\n",
       "      <td>No</td>\n",
       "      <td>No</td>\n",
       "      <td>No</td>\n",
       "      <td>No</td>\n",
       "      <td>No</td>\n",
       "      <td>No</td>\n",
       "      <td>No</td>\n",
       "      <td>0</td>\n",
       "      <td>0</td>\n",
       "      <td>0</td>\n",
       "      <td>0</td>\n",
       "      <td>0</td>\n",
       "      <td>0</td>\n",
       "      <td>0</td>\n",
       "    </tr>\n",
       "    <tr>\n",
       "      <th>26466</th>\n",
       "      <td>ZSCAN16-AS1</td>\n",
       "      <td>-1.000631</td>\n",
       "      <td>STAD</td>\n",
       "      <td>No</td>\n",
       "      <td>No</td>\n",
       "      <td>No</td>\n",
       "      <td>No</td>\n",
       "      <td>No</td>\n",
       "      <td>No</td>\n",
       "      <td>No</td>\n",
       "      <td>0</td>\n",
       "      <td>0</td>\n",
       "      <td>0</td>\n",
       "      <td>0</td>\n",
       "      <td>0</td>\n",
       "      <td>0</td>\n",
       "      <td>0</td>\n",
       "    </tr>\n",
       "  </tbody>\n",
       "</table>\n",
       "<p>26467 rows × 17 columns</p>\n",
       "</div>"
      ],
      "text/plain": [
       "          gene_sym     logFC sample proximal_cancer_driver  \\\n",
       "0         A1BG-AS1 -1.277354   COAD                     No   \n",
       "1         A1BG-AS1  0.988639   HNSC                     No   \n",
       "2         A1BG-AS1 -1.049325   KICH                     No   \n",
       "3         A1BG-AS1 -0.772376   LIHC                     No   \n",
       "4         A1BG-AS1 -0.581519   LUAD                     No   \n",
       "...            ...       ...    ...                    ...   \n",
       "26462  ZSCAN16-AS1 -0.670712   COAD                     No   \n",
       "26463  ZSCAN16-AS1 -0.968157   KICH                     No   \n",
       "26464  ZSCAN16-AS1 -0.778585   KIRC                     No   \n",
       "26465  ZSCAN16-AS1 -0.642760   LUAD                     No   \n",
       "26466  ZSCAN16-AS1 -1.000631   STAD                     No   \n",
       "\n",
       "      proximal_drug_target triplex promoter_methylated SNPS  \\\n",
       "0                       No      No                  No   No   \n",
       "1                       No      No                  No   No   \n",
       "2                       No      No                  No   No   \n",
       "3                       No      No                  No   No   \n",
       "4                       No      No                  No   No   \n",
       "...                    ...     ...                 ...  ...   \n",
       "26462                   No      No                  No   No   \n",
       "26463                   No      No                  No   No   \n",
       "26464                   No      No                  No   No   \n",
       "26465                   No      No                  No   No   \n",
       "26466                   No      No                  No   No   \n",
       "\n",
       "      negative_correlated_methylation positive_correlated_methylation types  \\\n",
       "0                                  No                              No     0   \n",
       "1                                  No                              No     0   \n",
       "2                                  No                              No     0   \n",
       "3                                  No                              No     0   \n",
       "4                                  No                              No     0   \n",
       "...                               ...                             ...   ...   \n",
       "26462                              No                              No     0   \n",
       "26463                              No                              No     0   \n",
       "26464                              No                              No     0   \n",
       "26465                              No                              No     0   \n",
       "26466                              No                              No     0   \n",
       "\n",
       "      Meth_Mean sphase_mean_FC score mechanism functional  \\\n",
       "0             0              0     0         0          0   \n",
       "1             0              0     0         0          0   \n",
       "2             0              0     0         0          0   \n",
       "3             0              0     0         0          0   \n",
       "4             0              0     0         0          0   \n",
       "...         ...            ...   ...       ...        ...   \n",
       "26462         0              0     0         0          0   \n",
       "26463         0              0     0         0          0   \n",
       "26464         0              0     0         0          0   \n",
       "26465         0              0     0         0          0   \n",
       "26466         0              0     0         0          0   \n",
       "\n",
       "                     clinical  \n",
       "0      Recurrence_ Metastasis  \n",
       "1      Recurrence_ Metastasis  \n",
       "2      Recurrence_ Metastasis  \n",
       "3      Recurrence_ Metastasis  \n",
       "4      Recurrence_ Metastasis  \n",
       "...                       ...  \n",
       "26462                       0  \n",
       "26463                       0  \n",
       "26464                       0  \n",
       "26465                       0  \n",
       "26466                       0  \n",
       "\n",
       "[26467 rows x 17 columns]"
      ]
     },
     "execution_count": 56,
     "metadata": {},
     "output_type": "execute_result"
    }
   ],
   "source": [
    "common_de"
   ]
  },
  {
   "cell_type": "code",
   "execution_count": 69,
   "id": "smart-sphere",
   "metadata": {},
   "outputs": [
    {
     "data": {
      "text/plain": [
       "(72811, 18)"
      ]
     },
     "execution_count": 69,
     "metadata": {},
     "output_type": "execute_result"
    }
   ],
   "source": [
    "common_de = outers_join(common_de,pathways_fc_de[[\"gene_sym\",\"sample\",\"Pathway\",\"logFC\"]],['gene_sym','sample','logFC'])\n",
    "common_de.fillna('unknown',inplace=True)\n",
    "common_de.drop_duplicates(inplace=True)\n",
    "common_de.shape"
   ]
  },
  {
   "cell_type": "code",
   "execution_count": 70,
   "id": "unlimited-satin",
   "metadata": {},
   "outputs": [
    {
     "data": {
      "text/plain": [
       "Index(['gene_sym', 'logFC', 'sample', 'proximal_cancer_driver',\n",
       "       'proximal_drug_target', 'triplex', 'promoter_methylated', 'SNPS',\n",
       "       'negative_correlated_methylation', 'positive_correlated_methylation',\n",
       "       'types', 'Meth_Mean', 'sphase_mean_FC', 'score', 'mechanism',\n",
       "       'functional', 'clinical', 'Pathway'],\n",
       "      dtype='object')"
      ]
     },
     "execution_count": 70,
     "metadata": {},
     "output_type": "execute_result"
    }
   ],
   "source": [
    "common_de.columns"
   ]
  },
  {
   "cell_type": "code",
   "execution_count": 71,
   "id": "entitled-bradley",
   "metadata": {},
   "outputs": [],
   "source": [
    "path_filtered =['unknown',\n",
    " 'cAMP',\n",
    " 'Metabolic',\n",
    " 'Ras',\n",
    " 'PI3K-Akt',\n",
    " 'Pathways',\n",
    " 'Transcriptional',\n",
    " 'Rap1',\n",
    " 'Endocytosis',\n",
    " 'Focal',\n",
    " 'Proteoglycans',\n",
    " 'cGMP-PKG',\n",
    " 'Axon',\n",
    " 'Cellular',\n",
    " 'HIF-1',\n",
    " 'FoxO',\n",
    " 'Endocrine',\n",
    " 'MAPK',\n",
    " 'ECM-receptor',\n",
    " 'Wnt',\n",
    " 'Tight',\n",
    " 'Signaling',\n",
    " 'Growth',\n",
    " 'Glycolysis',\n",
    " 'Regulation',\n",
    " 'Adherens',\n",
    " 'Hedgehog',\n",
    " 'Hippo',\n",
    " 'AMPK',\n",
    " 'Melanogenesis',\n",
    " 'Gap',\n",
    " 'TGF-beta']\n",
    "common_de = common_de[common_de['Pathway'].isin(path_filtered)]"
   ]
  },
  {
   "cell_type": "code",
   "execution_count": 72,
   "id": "automotive-consent",
   "metadata": {},
   "outputs": [],
   "source": [
    "common_de['y']  = common_de.apply(lambda row: label_paths(row), axis=1)\n",
    "common_de       = pd.merge(common_de, SNPS_ann_de, on='gene_sym',how=\"outer\")\n",
    "common_de.fillna(0,axis=1,inplace=True)"
   ]
  },
  {
   "cell_type": "code",
   "execution_count": 73,
   "id": "pending-athens",
   "metadata": {
    "scrolled": true
   },
   "outputs": [
    {
     "data": {
      "text/plain": [
       "0        unknown\n",
       "1        unknown\n",
       "2        unknown\n",
       "3        unknown\n",
       "4        unknown\n",
       "          ...   \n",
       "49632    unknown\n",
       "49633    unknown\n",
       "49634    unknown\n",
       "49635    unknown\n",
       "49636          0\n",
       "Name: Pathway, Length: 49637, dtype: object"
      ]
     },
     "execution_count": 73,
     "metadata": {},
     "output_type": "execute_result"
    }
   ],
   "source": [
    "common_de['Pathway']"
   ]
  },
  {
   "cell_type": "code",
   "execution_count": 74,
   "id": "declared-failure",
   "metadata": {},
   "outputs": [],
   "source": [
    "common_de['Meth_Mean']       =pd.to_numeric(common_de.Meth_Mean, errors='coerce')\n",
    "common_de['sphase_mean_FC']  =pd.to_numeric(common_de.sphase_mean_FC, errors='coerce')\n",
    "common_de['risk_alelle_freq']=pd.to_numeric(common_de.risk_alelle_freq, errors='coerce')\n",
    "common_de['score']           =pd.to_numeric(common_de.score, errors='coerce')\n",
    "common_de['logFC']           =pd.to_numeric(common_de.logFC, errors='coerce')"
   ]
  },
  {
   "cell_type": "code",
   "execution_count": 75,
   "id": "strange-photography",
   "metadata": {},
   "outputs": [],
   "source": [
    "Signalling = ['AMPK','Focal','Hedgehog','FoxO','Wnt','Gap','PI3K-Akt','TGF-beta',\n",
    "              'Hippo','MAPK','Ras','Rap1','Regulation','cGMP-PKG','HIF-1','ECM-receptor','cGMP-PKG','cAMP','Endocrine']\n",
    "cellular   = ['Endocytosis','Adherens','Glycolysis','Proteoglycans','Cellular']"
   ]
  },
  {
   "cell_type": "code",
   "execution_count": 76,
   "id": "celtic-recorder",
   "metadata": {},
   "outputs": [],
   "source": [
    "#common_de.drop('Pathway',axis=1,inplace=True)\n",
    "common_de.drop('gene_sym',axis=1,inplace=True)\n",
    "common_de.drop('triplex',axis=1,inplace=True)\n",
    "#common_de.drop('sample',axis=1,inplace=True)\n",
    "common_de.drop_duplicates(inplace=True)"
   ]
  },
  {
   "cell_type": "code",
   "execution_count": 77,
   "id": "human-pursuit",
   "metadata": {},
   "outputs": [],
   "source": [
    "common_de[['Pathway']] = common_de[['Pathway']].replace(dict.fromkeys(Signalling, 'Signaling'))\n",
    "common_de[['Pathway']] = common_de[['Pathway']].replace(dict.fromkeys(cellular, 'Cellular'))\n"
   ]
  },
  {
   "cell_type": "code",
   "execution_count": 78,
   "id": "successful-count",
   "metadata": {},
   "outputs": [
    {
     "data": {
      "text/html": [
       "<div>\n",
       "<style scoped>\n",
       "    .dataframe tbody tr th:only-of-type {\n",
       "        vertical-align: middle;\n",
       "    }\n",
       "\n",
       "    .dataframe tbody tr th {\n",
       "        vertical-align: top;\n",
       "    }\n",
       "\n",
       "    .dataframe thead th {\n",
       "        text-align: right;\n",
       "    }\n",
       "</style>\n",
       "<table border=\"1\" class=\"dataframe\">\n",
       "  <thead>\n",
       "    <tr style=\"text-align: right;\">\n",
       "      <th></th>\n",
       "      <th>logFC</th>\n",
       "      <th>sample</th>\n",
       "      <th>proximal_cancer_driver</th>\n",
       "      <th>proximal_drug_target</th>\n",
       "      <th>promoter_methylated</th>\n",
       "      <th>SNPS</th>\n",
       "      <th>negative_correlated_methylation</th>\n",
       "      <th>positive_correlated_methylation</th>\n",
       "      <th>types</th>\n",
       "      <th>Meth_Mean</th>\n",
       "      <th>sphase_mean_FC</th>\n",
       "      <th>score</th>\n",
       "      <th>mechanism</th>\n",
       "      <th>functional</th>\n",
       "      <th>clinical</th>\n",
       "      <th>Pathway</th>\n",
       "      <th>y</th>\n",
       "      <th>risk_alelle_freq</th>\n",
       "    </tr>\n",
       "  </thead>\n",
       "  <tbody>\n",
       "    <tr>\n",
       "      <th>87</th>\n",
       "      <td>-3.153973</td>\n",
       "      <td>BRCA</td>\n",
       "      <td>No</td>\n",
       "      <td>No</td>\n",
       "      <td>No</td>\n",
       "      <td>No</td>\n",
       "      <td>No</td>\n",
       "      <td>No</td>\n",
       "      <td>0</td>\n",
       "      <td>0.0</td>\n",
       "      <td>2.02</td>\n",
       "      <td>0.0</td>\n",
       "      <td>0</td>\n",
       "      <td>0</td>\n",
       "      <td>0</td>\n",
       "      <td>Cellular</td>\n",
       "      <td>1.0</td>\n",
       "      <td>0.0</td>\n",
       "    </tr>\n",
       "    <tr>\n",
       "      <th>89</th>\n",
       "      <td>-3.153973</td>\n",
       "      <td>BRCA</td>\n",
       "      <td>No</td>\n",
       "      <td>No</td>\n",
       "      <td>No</td>\n",
       "      <td>No</td>\n",
       "      <td>No</td>\n",
       "      <td>No</td>\n",
       "      <td>0</td>\n",
       "      <td>0.0</td>\n",
       "      <td>2.02</td>\n",
       "      <td>0.0</td>\n",
       "      <td>0</td>\n",
       "      <td>0</td>\n",
       "      <td>0</td>\n",
       "      <td>Cellular</td>\n",
       "      <td>1.0</td>\n",
       "      <td>0.0</td>\n",
       "    </tr>\n",
       "    <tr>\n",
       "      <th>90</th>\n",
       "      <td>0.919768</td>\n",
       "      <td>HNSC</td>\n",
       "      <td>No</td>\n",
       "      <td>No</td>\n",
       "      <td>No</td>\n",
       "      <td>No</td>\n",
       "      <td>No</td>\n",
       "      <td>No</td>\n",
       "      <td>0</td>\n",
       "      <td>0.0</td>\n",
       "      <td>2.02</td>\n",
       "      <td>0.0</td>\n",
       "      <td>0</td>\n",
       "      <td>0</td>\n",
       "      <td>0</td>\n",
       "      <td>Cellular</td>\n",
       "      <td>1.0</td>\n",
       "      <td>0.0</td>\n",
       "    </tr>\n",
       "    <tr>\n",
       "      <th>92</th>\n",
       "      <td>0.919768</td>\n",
       "      <td>HNSC</td>\n",
       "      <td>No</td>\n",
       "      <td>No</td>\n",
       "      <td>No</td>\n",
       "      <td>No</td>\n",
       "      <td>No</td>\n",
       "      <td>No</td>\n",
       "      <td>0</td>\n",
       "      <td>0.0</td>\n",
       "      <td>2.02</td>\n",
       "      <td>0.0</td>\n",
       "      <td>0</td>\n",
       "      <td>0</td>\n",
       "      <td>0</td>\n",
       "      <td>Cellular</td>\n",
       "      <td>1.0</td>\n",
       "      <td>0.0</td>\n",
       "    </tr>\n",
       "    <tr>\n",
       "      <th>93</th>\n",
       "      <td>2.003736</td>\n",
       "      <td>KICH</td>\n",
       "      <td>No</td>\n",
       "      <td>No</td>\n",
       "      <td>No</td>\n",
       "      <td>No</td>\n",
       "      <td>No</td>\n",
       "      <td>No</td>\n",
       "      <td>0</td>\n",
       "      <td>0.0</td>\n",
       "      <td>2.02</td>\n",
       "      <td>0.0</td>\n",
       "      <td>0</td>\n",
       "      <td>0</td>\n",
       "      <td>0</td>\n",
       "      <td>Cellular</td>\n",
       "      <td>1.0</td>\n",
       "      <td>0.0</td>\n",
       "    </tr>\n",
       "    <tr>\n",
       "      <th>...</th>\n",
       "      <td>...</td>\n",
       "      <td>...</td>\n",
       "      <td>...</td>\n",
       "      <td>...</td>\n",
       "      <td>...</td>\n",
       "      <td>...</td>\n",
       "      <td>...</td>\n",
       "      <td>...</td>\n",
       "      <td>...</td>\n",
       "      <td>...</td>\n",
       "      <td>...</td>\n",
       "      <td>...</td>\n",
       "      <td>...</td>\n",
       "      <td>...</td>\n",
       "      <td>...</td>\n",
       "      <td>...</td>\n",
       "      <td>...</td>\n",
       "      <td>...</td>\n",
       "    </tr>\n",
       "    <tr>\n",
       "      <th>49307</th>\n",
       "      <td>-0.983622</td>\n",
       "      <td>COAD</td>\n",
       "      <td>No</td>\n",
       "      <td>No</td>\n",
       "      <td>No</td>\n",
       "      <td>No</td>\n",
       "      <td>No</td>\n",
       "      <td>No</td>\n",
       "      <td>0</td>\n",
       "      <td>0.0</td>\n",
       "      <td>0.00</td>\n",
       "      <td>0.0</td>\n",
       "      <td>0</td>\n",
       "      <td>0</td>\n",
       "      <td>0</td>\n",
       "      <td>Cellular</td>\n",
       "      <td>1.0</td>\n",
       "      <td>0.0</td>\n",
       "    </tr>\n",
       "    <tr>\n",
       "      <th>49308</th>\n",
       "      <td>-0.769008</td>\n",
       "      <td>ESCA</td>\n",
       "      <td>No</td>\n",
       "      <td>No</td>\n",
       "      <td>No</td>\n",
       "      <td>No</td>\n",
       "      <td>No</td>\n",
       "      <td>No</td>\n",
       "      <td>0</td>\n",
       "      <td>0.0</td>\n",
       "      <td>0.00</td>\n",
       "      <td>0.0</td>\n",
       "      <td>0</td>\n",
       "      <td>0</td>\n",
       "      <td>0</td>\n",
       "      <td>Cellular</td>\n",
       "      <td>1.0</td>\n",
       "      <td>0.0</td>\n",
       "    </tr>\n",
       "    <tr>\n",
       "      <th>49309</th>\n",
       "      <td>-1.431780</td>\n",
       "      <td>KICH</td>\n",
       "      <td>No</td>\n",
       "      <td>No</td>\n",
       "      <td>No</td>\n",
       "      <td>No</td>\n",
       "      <td>No</td>\n",
       "      <td>No</td>\n",
       "      <td>0</td>\n",
       "      <td>0.0</td>\n",
       "      <td>0.00</td>\n",
       "      <td>0.0</td>\n",
       "      <td>0</td>\n",
       "      <td>0</td>\n",
       "      <td>0</td>\n",
       "      <td>Cellular</td>\n",
       "      <td>1.0</td>\n",
       "      <td>0.0</td>\n",
       "    </tr>\n",
       "    <tr>\n",
       "      <th>49310</th>\n",
       "      <td>-1.309923</td>\n",
       "      <td>LUAD</td>\n",
       "      <td>No</td>\n",
       "      <td>No</td>\n",
       "      <td>No</td>\n",
       "      <td>No</td>\n",
       "      <td>No</td>\n",
       "      <td>No</td>\n",
       "      <td>0</td>\n",
       "      <td>0.0</td>\n",
       "      <td>0.00</td>\n",
       "      <td>0.0</td>\n",
       "      <td>0</td>\n",
       "      <td>0</td>\n",
       "      <td>0</td>\n",
       "      <td>Cellular</td>\n",
       "      <td>1.0</td>\n",
       "      <td>0.0</td>\n",
       "    </tr>\n",
       "    <tr>\n",
       "      <th>49311</th>\n",
       "      <td>-1.848161</td>\n",
       "      <td>LUSC</td>\n",
       "      <td>No</td>\n",
       "      <td>No</td>\n",
       "      <td>No</td>\n",
       "      <td>No</td>\n",
       "      <td>No</td>\n",
       "      <td>No</td>\n",
       "      <td>0</td>\n",
       "      <td>0.0</td>\n",
       "      <td>0.00</td>\n",
       "      <td>0.0</td>\n",
       "      <td>0</td>\n",
       "      <td>0</td>\n",
       "      <td>0</td>\n",
       "      <td>Cellular</td>\n",
       "      <td>1.0</td>\n",
       "      <td>0.0</td>\n",
       "    </tr>\n",
       "  </tbody>\n",
       "</table>\n",
       "<p>5325 rows × 18 columns</p>\n",
       "</div>"
      ],
      "text/plain": [
       "          logFC sample proximal_cancer_driver proximal_drug_target  \\\n",
       "87    -3.153973   BRCA                     No                   No   \n",
       "89    -3.153973   BRCA                     No                   No   \n",
       "90     0.919768   HNSC                     No                   No   \n",
       "92     0.919768   HNSC                     No                   No   \n",
       "93     2.003736   KICH                     No                   No   \n",
       "...         ...    ...                    ...                  ...   \n",
       "49307 -0.983622   COAD                     No                   No   \n",
       "49308 -0.769008   ESCA                     No                   No   \n",
       "49309 -1.431780   KICH                     No                   No   \n",
       "49310 -1.309923   LUAD                     No                   No   \n",
       "49311 -1.848161   LUSC                     No                   No   \n",
       "\n",
       "      promoter_methylated SNPS negative_correlated_methylation  \\\n",
       "87                     No   No                              No   \n",
       "89                     No   No                              No   \n",
       "90                     No   No                              No   \n",
       "92                     No   No                              No   \n",
       "93                     No   No                              No   \n",
       "...                   ...  ...                             ...   \n",
       "49307                  No   No                              No   \n",
       "49308                  No   No                              No   \n",
       "49309                  No   No                              No   \n",
       "49310                  No   No                              No   \n",
       "49311                  No   No                              No   \n",
       "\n",
       "      positive_correlated_methylation types  Meth_Mean  sphase_mean_FC  score  \\\n",
       "87                                 No     0        0.0            2.02    0.0   \n",
       "89                                 No     0        0.0            2.02    0.0   \n",
       "90                                 No     0        0.0            2.02    0.0   \n",
       "92                                 No     0        0.0            2.02    0.0   \n",
       "93                                 No     0        0.0            2.02    0.0   \n",
       "...                               ...   ...        ...             ...    ...   \n",
       "49307                              No     0        0.0            0.00    0.0   \n",
       "49308                              No     0        0.0            0.00    0.0   \n",
       "49309                              No     0        0.0            0.00    0.0   \n",
       "49310                              No     0        0.0            0.00    0.0   \n",
       "49311                              No     0        0.0            0.00    0.0   \n",
       "\n",
       "      mechanism functional clinical   Pathway    y  risk_alelle_freq  \n",
       "87            0          0        0  Cellular  1.0               0.0  \n",
       "89            0          0        0  Cellular  1.0               0.0  \n",
       "90            0          0        0  Cellular  1.0               0.0  \n",
       "92            0          0        0  Cellular  1.0               0.0  \n",
       "93            0          0        0  Cellular  1.0               0.0  \n",
       "...         ...        ...      ...       ...  ...               ...  \n",
       "49307         0          0        0  Cellular  1.0               0.0  \n",
       "49308         0          0        0  Cellular  1.0               0.0  \n",
       "49309         0          0        0  Cellular  1.0               0.0  \n",
       "49310         0          0        0  Cellular  1.0               0.0  \n",
       "49311         0          0        0  Cellular  1.0               0.0  \n",
       "\n",
       "[5325 rows x 18 columns]"
      ]
     },
     "execution_count": 78,
     "metadata": {},
     "output_type": "execute_result"
    }
   ],
   "source": [
    "common_de[(common_de == 'Cellular').any(axis=1)]"
   ]
  },
  {
   "cell_type": "code",
   "execution_count": 79,
   "id": "manufactured-laser",
   "metadata": {},
   "outputs": [],
   "source": [
    "replacement= {\"Pathways\":\"unknown\",\n",
    "              \"Axon\":\"unknown\",\n",
    "               \"Tight\":\"unknown\",\n",
    "                \"Growth\":\"unknown\",\n",
    "                \"Melanogenesis\":\"unknown\",\n",
    "                \"Transcriptional\":\"unknown\"}"
   ]
  },
  {
   "cell_type": "code",
   "execution_count": 80,
   "id": "necessary-disclaimer",
   "metadata": {},
   "outputs": [],
   "source": [
    "#test['Pathway'] = test.apply(rename_vals,axis=1)\n",
    "common_de['Pathway'] = common_de['Pathway'].replace(replacement, regex=True)\n"
   ]
  },
  {
   "cell_type": "code",
   "execution_count": 60,
   "id": "embedded-vietnamese",
   "metadata": {},
   "outputs": [
    {
     "name": "stdout",
     "output_type": "stream",
     "text": [
      "Stored 'common_de' (DataFrame)\n"
     ]
    }
   ],
   "source": [
    "%store common_de"
   ]
  },
  {
   "cell_type": "code",
   "execution_count": 38,
   "id": "pointed-message",
   "metadata": {},
   "outputs": [
    {
     "data": {
      "text/plain": [
       "0          unknown\n",
       "18       Signaling\n",
       "23       Metabolic\n",
       "87        Cellular\n",
       "49636            0\n",
       "Name: Pathway, dtype: object"
      ]
     },
     "execution_count": 38,
     "metadata": {},
     "output_type": "execute_result"
    }
   ],
   "source": [
    "common_de.Pathway.drop_duplicates()"
   ]
  },
  {
   "cell_type": "code",
   "execution_count": 43,
   "id": "european-notebook",
   "metadata": {
    "collapsed": true
   },
   "outputs": [
    {
     "data": {
      "text/html": [
       "<div>\n",
       "<style scoped>\n",
       "    .dataframe tbody tr th:only-of-type {\n",
       "        vertical-align: middle;\n",
       "    }\n",
       "\n",
       "    .dataframe tbody tr th {\n",
       "        vertical-align: top;\n",
       "    }\n",
       "\n",
       "    .dataframe thead th {\n",
       "        text-align: right;\n",
       "    }\n",
       "</style>\n",
       "<table border=\"1\" class=\"dataframe\">\n",
       "  <thead>\n",
       "    <tr style=\"text-align: right;\">\n",
       "      <th></th>\n",
       "      <th>logFC</th>\n",
       "      <th>sample</th>\n",
       "      <th>proximal_cancer_driver</th>\n",
       "      <th>proximal_drug_target</th>\n",
       "      <th>promoter_methylated</th>\n",
       "      <th>SNPS</th>\n",
       "      <th>negative_correlated_methylation</th>\n",
       "      <th>positive_correlated_methylation</th>\n",
       "      <th>types</th>\n",
       "      <th>Meth_Mean</th>\n",
       "      <th>sphase_mean_FC</th>\n",
       "      <th>score</th>\n",
       "      <th>mechanism</th>\n",
       "      <th>functional</th>\n",
       "      <th>clinical</th>\n",
       "      <th>y</th>\n",
       "      <th>risk_alelle_freq</th>\n",
       "    </tr>\n",
       "  </thead>\n",
       "  <tbody>\n",
       "    <tr>\n",
       "      <th>9</th>\n",
       "      <td>-1.307162</td>\n",
       "      <td>BRCA</td>\n",
       "      <td>No</td>\n",
       "      <td>No</td>\n",
       "      <td>No</td>\n",
       "      <td>No</td>\n",
       "      <td>No</td>\n",
       "      <td>No</td>\n",
       "      <td>0</td>\n",
       "      <td>0.0</td>\n",
       "      <td>0.666667</td>\n",
       "      <td>0.0</td>\n",
       "      <td>0</td>\n",
       "      <td>Survival_ Cell Growth</td>\n",
       "      <td>Recurrence_ Metastasis</td>\n",
       "      <td>0.0</td>\n",
       "      <td>0.0</td>\n",
       "    </tr>\n",
       "    <tr>\n",
       "      <th>18</th>\n",
       "      <td>-1.693635</td>\n",
       "      <td>BRCA</td>\n",
       "      <td>No</td>\n",
       "      <td>No</td>\n",
       "      <td>No</td>\n",
       "      <td>No</td>\n",
       "      <td>No</td>\n",
       "      <td>No</td>\n",
       "      <td>0</td>\n",
       "      <td>0.0</td>\n",
       "      <td>0.000000</td>\n",
       "      <td>0.0</td>\n",
       "      <td>0</td>\n",
       "      <td>0</td>\n",
       "      <td>0</td>\n",
       "      <td>1.0</td>\n",
       "      <td>0.0</td>\n",
       "    </tr>\n",
       "    <tr>\n",
       "      <th>23</th>\n",
       "      <td>0.668899</td>\n",
       "      <td>BRCA</td>\n",
       "      <td>No</td>\n",
       "      <td>No</td>\n",
       "      <td>No</td>\n",
       "      <td>No</td>\n",
       "      <td>No</td>\n",
       "      <td>No</td>\n",
       "      <td>0</td>\n",
       "      <td>0.0</td>\n",
       "      <td>0.000000</td>\n",
       "      <td>0.0</td>\n",
       "      <td>0</td>\n",
       "      <td>0</td>\n",
       "      <td>0</td>\n",
       "      <td>1.0</td>\n",
       "      <td>0.0</td>\n",
       "    </tr>\n",
       "    <tr>\n",
       "      <th>58</th>\n",
       "      <td>-0.689454</td>\n",
       "      <td>BRCA</td>\n",
       "      <td>No</td>\n",
       "      <td>No</td>\n",
       "      <td>No</td>\n",
       "      <td>No</td>\n",
       "      <td>No</td>\n",
       "      <td>No</td>\n",
       "      <td>0</td>\n",
       "      <td>0.0</td>\n",
       "      <td>0.000000</td>\n",
       "      <td>0.0</td>\n",
       "      <td>0</td>\n",
       "      <td>0</td>\n",
       "      <td>0</td>\n",
       "      <td>1.0</td>\n",
       "      <td>0.0</td>\n",
       "    </tr>\n",
       "    <tr>\n",
       "      <th>69</th>\n",
       "      <td>-1.296427</td>\n",
       "      <td>BRCA</td>\n",
       "      <td>No</td>\n",
       "      <td>No</td>\n",
       "      <td>No</td>\n",
       "      <td>No</td>\n",
       "      <td>No</td>\n",
       "      <td>No</td>\n",
       "      <td>0</td>\n",
       "      <td>0.0</td>\n",
       "      <td>0.000000</td>\n",
       "      <td>0.0</td>\n",
       "      <td>0</td>\n",
       "      <td>0</td>\n",
       "      <td>0</td>\n",
       "      <td>1.0</td>\n",
       "      <td>0.0</td>\n",
       "    </tr>\n",
       "    <tr>\n",
       "      <th>...</th>\n",
       "      <td>...</td>\n",
       "      <td>...</td>\n",
       "      <td>...</td>\n",
       "      <td>...</td>\n",
       "      <td>...</td>\n",
       "      <td>...</td>\n",
       "      <td>...</td>\n",
       "      <td>...</td>\n",
       "      <td>...</td>\n",
       "      <td>...</td>\n",
       "      <td>...</td>\n",
       "      <td>...</td>\n",
       "      <td>...</td>\n",
       "      <td>...</td>\n",
       "      <td>...</td>\n",
       "      <td>...</td>\n",
       "      <td>...</td>\n",
       "    </tr>\n",
       "    <tr>\n",
       "      <th>49543</th>\n",
       "      <td>-1.168064</td>\n",
       "      <td>BRCA</td>\n",
       "      <td>No</td>\n",
       "      <td>No</td>\n",
       "      <td>No</td>\n",
       "      <td>No</td>\n",
       "      <td>No</td>\n",
       "      <td>No</td>\n",
       "      <td>0</td>\n",
       "      <td>0.0</td>\n",
       "      <td>0.000000</td>\n",
       "      <td>0.0</td>\n",
       "      <td>0</td>\n",
       "      <td>0</td>\n",
       "      <td>0</td>\n",
       "      <td>0.0</td>\n",
       "      <td>0.0</td>\n",
       "    </tr>\n",
       "    <tr>\n",
       "      <th>49558</th>\n",
       "      <td>-1.154551</td>\n",
       "      <td>BRCA</td>\n",
       "      <td>No</td>\n",
       "      <td>No</td>\n",
       "      <td>No</td>\n",
       "      <td>No</td>\n",
       "      <td>No</td>\n",
       "      <td>No</td>\n",
       "      <td>0</td>\n",
       "      <td>0.0</td>\n",
       "      <td>0.000000</td>\n",
       "      <td>0.0</td>\n",
       "      <td>0</td>\n",
       "      <td>0</td>\n",
       "      <td>0</td>\n",
       "      <td>0.0</td>\n",
       "      <td>0.0</td>\n",
       "    </tr>\n",
       "    <tr>\n",
       "      <th>49568</th>\n",
       "      <td>-1.212904</td>\n",
       "      <td>BRCA</td>\n",
       "      <td>No</td>\n",
       "      <td>No</td>\n",
       "      <td>No</td>\n",
       "      <td>No</td>\n",
       "      <td>No</td>\n",
       "      <td>No</td>\n",
       "      <td>0</td>\n",
       "      <td>0.0</td>\n",
       "      <td>0.000000</td>\n",
       "      <td>0.0</td>\n",
       "      <td>TF</td>\n",
       "      <td>EMT_ Survival_ Cell Growth</td>\n",
       "      <td>Recurrence_ Drug_ Metastasis</td>\n",
       "      <td>0.0</td>\n",
       "      <td>0.0</td>\n",
       "    </tr>\n",
       "    <tr>\n",
       "      <th>49577</th>\n",
       "      <td>-0.918857</td>\n",
       "      <td>BRCA</td>\n",
       "      <td>Yes</td>\n",
       "      <td>No</td>\n",
       "      <td>No</td>\n",
       "      <td>No</td>\n",
       "      <td>No</td>\n",
       "      <td>No</td>\n",
       "      <td>0</td>\n",
       "      <td>0.0</td>\n",
       "      <td>0.000000</td>\n",
       "      <td>0.0</td>\n",
       "      <td>0</td>\n",
       "      <td>0</td>\n",
       "      <td>0</td>\n",
       "      <td>1.0</td>\n",
       "      <td>0.0</td>\n",
       "    </tr>\n",
       "    <tr>\n",
       "      <th>49612</th>\n",
       "      <td>-1.071134</td>\n",
       "      <td>BRCA</td>\n",
       "      <td>No</td>\n",
       "      <td>No</td>\n",
       "      <td>No</td>\n",
       "      <td>No</td>\n",
       "      <td>No</td>\n",
       "      <td>No</td>\n",
       "      <td>0</td>\n",
       "      <td>0.0</td>\n",
       "      <td>0.000000</td>\n",
       "      <td>0.0</td>\n",
       "      <td>0</td>\n",
       "      <td>0</td>\n",
       "      <td>0</td>\n",
       "      <td>1.0</td>\n",
       "      <td>0.0</td>\n",
       "    </tr>\n",
       "  </tbody>\n",
       "</table>\n",
       "<p>2114 rows × 17 columns</p>\n",
       "</div>"
      ],
      "text/plain": [
       "          logFC sample proximal_cancer_driver proximal_drug_target  \\\n",
       "9     -1.307162   BRCA                     No                   No   \n",
       "18    -1.693635   BRCA                     No                   No   \n",
       "23     0.668899   BRCA                     No                   No   \n",
       "58    -0.689454   BRCA                     No                   No   \n",
       "69    -1.296427   BRCA                     No                   No   \n",
       "...         ...    ...                    ...                  ...   \n",
       "49543 -1.168064   BRCA                     No                   No   \n",
       "49558 -1.154551   BRCA                     No                   No   \n",
       "49568 -1.212904   BRCA                     No                   No   \n",
       "49577 -0.918857   BRCA                    Yes                   No   \n",
       "49612 -1.071134   BRCA                     No                   No   \n",
       "\n",
       "      promoter_methylated SNPS negative_correlated_methylation  \\\n",
       "9                      No   No                              No   \n",
       "18                     No   No                              No   \n",
       "23                     No   No                              No   \n",
       "58                     No   No                              No   \n",
       "69                     No   No                              No   \n",
       "...                   ...  ...                             ...   \n",
       "49543                  No   No                              No   \n",
       "49558                  No   No                              No   \n",
       "49568                  No   No                              No   \n",
       "49577                  No   No                              No   \n",
       "49612                  No   No                              No   \n",
       "\n",
       "      positive_correlated_methylation types  Meth_Mean  sphase_mean_FC  score  \\\n",
       "9                                  No     0        0.0        0.666667    0.0   \n",
       "18                                 No     0        0.0        0.000000    0.0   \n",
       "23                                 No     0        0.0        0.000000    0.0   \n",
       "58                                 No     0        0.0        0.000000    0.0   \n",
       "69                                 No     0        0.0        0.000000    0.0   \n",
       "...                               ...   ...        ...             ...    ...   \n",
       "49543                              No     0        0.0        0.000000    0.0   \n",
       "49558                              No     0        0.0        0.000000    0.0   \n",
       "49568                              No     0        0.0        0.000000    0.0   \n",
       "49577                              No     0        0.0        0.000000    0.0   \n",
       "49612                              No     0        0.0        0.000000    0.0   \n",
       "\n",
       "      mechanism                  functional                      clinical  \\\n",
       "9             0       Survival_ Cell Growth        Recurrence_ Metastasis   \n",
       "18            0                           0                             0   \n",
       "23            0                           0                             0   \n",
       "58            0                           0                             0   \n",
       "69            0                           0                             0   \n",
       "...         ...                         ...                           ...   \n",
       "49543         0                           0                             0   \n",
       "49558         0                           0                             0   \n",
       "49568        TF  EMT_ Survival_ Cell Growth  Recurrence_ Drug_ Metastasis   \n",
       "49577         0                           0                             0   \n",
       "49612         0                           0                             0   \n",
       "\n",
       "         y  risk_alelle_freq  \n",
       "9      0.0               0.0  \n",
       "18     1.0               0.0  \n",
       "23     1.0               0.0  \n",
       "58     1.0               0.0  \n",
       "69     1.0               0.0  \n",
       "...    ...               ...  \n",
       "49543  0.0               0.0  \n",
       "49558  0.0               0.0  \n",
       "49568  0.0               0.0  \n",
       "49577  1.0               0.0  \n",
       "49612  1.0               0.0  \n",
       "\n",
       "[2114 rows x 17 columns]"
      ]
     },
     "execution_count": 43,
     "metadata": {},
     "output_type": "execute_result"
    }
   ],
   "source": [
    "BRCA = common_de.query('sample ==\"BRCA\"')\n",
    "BRCA"
   ]
  },
  {
   "cell_type": "markdown",
   "id": "appreciated-cameroon",
   "metadata": {},
   "source": [
    "Old Data preparations"
   ]
  },
  {
   "cell_type": "code",
   "execution_count": null,
   "id": "brown-thanks",
   "metadata": {},
   "outputs": [],
   "source": [
    "EZH2  = readfile(pathmeg3,\"EZH2_enriched_lncRNAs\")\n",
    "EZH2  = rename_cols(EZH2,\"GeneSymbol\",\"gene_sym\")\n",
    "H3K27 = readfile(pathmeg3,\"H3k27_enriched_lncRNAs\")\n",
    "H3K27 = rename_cols(H3K27,\"GeneSymbol\",\"gene_sym\")\n",
    "common_de_EZH2       = pd.merge(de_fc[[\"gene_sym\",\"logFC\",\"sample\"]],EZH2[[\"gene_sym\",\"logFC\"]],on=\"gene_sym\",suffixes=('_de', '_chromatin'))\n",
    "common_de_EZH2[\"chromatin\"] = \"EZH2\"\n",
    "common_de_H3K27      = pd.merge(de_fc[[\"gene_sym\",\"logFC\",\"sample\"]],H3K27[[\"gene_sym\",\"logFC\"]],on=\"gene_sym\",suffixes=('_de', '_chromatin'))\n",
    "common_de_H3K27[\"chromatin\"] = \"H3K27\"\n",
    "common_de_ezh2_h2k27 = pd.concat([common_de_H3K27,common_de_EZH2])\n",
    "common_de_melt      = pd.melt(common_de,id_vars=['gene_sym','sample'],var_name='category',value_name='value')\n",
    "common_de_data      = common_de_melt[[\"gene_sym\",\"sample\"]]\n",
    "#common_de_data     = pd.merge(common_de_data,pathways,on=\"gene_sym\")\n",
    "common_de_data"
   ]
  },
  {
   "cell_type": "code",
   "execution_count": null,
   "id": "crude-reputation",
   "metadata": {},
   "outputs": [],
   "source": [
    "common_de_new  = data_preparation(common_de,snps_all,lncRNAs_ref,common_de_ezh2_h2k27,clc,Methylated)\n",
    "common_de_new  = pd.merge(common_de_new,de_fc[[\"logFC\",\"sample\",\"gene_sym\"]],on=['gene_sym',\"sample\"])\n",
    "common_de_new  = pd.merge(common_de_new, common_de[[\"gene_sym\",\"Pathway\",\"sample\"]], on=['gene_sym','sample'],how=\"outer\")\n",
    "common_de_new.fillna('unknown', inplace=True)\n",
    "common_de_new[\"pathway_y\"]   = common_de_new.apply(lambda row: label_paths(row), axis=1)\n",
    "common_de_new                = common_de_new.replace(\"No\",\"unknown\")\n",
    "num_cols                     = ['EZH2', 'H3K27','logFC','Meth_Mean','risk_alelle_freq','pathway_y']\n",
    "common_de_new[num_cols]      = common_de_new[num_cols].apply(pd.to_numeric, errors='coerce')"
   ]
  },
  {
   "cell_type": "code",
   "execution_count": 1,
   "id": "separated-bargain",
   "metadata": {
    "collapsed": true
   },
   "outputs": [
    {
     "ename": "NameError",
     "evalue": "name 'common_de_new' is not defined",
     "output_type": "error",
     "traceback": [
      "\u001b[0;31m---------------------------------------------------------------------------\u001b[0m",
      "\u001b[0;31mNameError\u001b[0m                                 Traceback (most recent call last)",
      "\u001b[0;32m<ipython-input-1-d7989fd22954>\u001b[0m in \u001b[0;36m<module>\u001b[0;34m\u001b[0m\n\u001b[0;32m----> 1\u001b[0;31m \u001b[0mcommon_de_new\u001b[0m \u001b[0;34m=\u001b[0m \u001b[0mcommon_de_new\u001b[0m\u001b[0;34m.\u001b[0m\u001b[0mdrop_duplicates\u001b[0m\u001b[0;34m(\u001b[0m\u001b[0;34m)\u001b[0m\u001b[0;34m\u001b[0m\u001b[0;34m\u001b[0m\u001b[0m\n\u001b[0m",
      "\u001b[0;31mNameError\u001b[0m: name 'common_de_new' is not defined"
     ]
    }
   ],
   "source": [
    "common_de_new = common_de_new.drop_duplicates()"
   ]
  },
  {
   "cell_type": "code",
   "execution_count": 521,
   "id": "weekly-ethernet",
   "metadata": {},
   "outputs": [],
   "source": [
    "common_de_new['Meth_Mean'].fillna(0,inplace=True)\n",
    "common_de_new['EZH2'].fillna(0,inplace=True)\n",
    "common_de_new['H3K27'].fillna(0,inplace=True)\n",
    "common_de_new['risk_alelle_freq'].fillna(0,inplace=True)"
   ]
  },
  {
   "cell_type": "code",
   "execution_count": 522,
   "id": "union-concrete",
   "metadata": {},
   "outputs": [
    {
     "name": "stdout",
     "output_type": "stream",
     "text": [
      "Stored 'common_de_new' (DataFrame)\n"
     ]
    }
   ],
   "source": [
    "%store common_de_new"
   ]
  },
  {
   "cell_type": "code",
   "execution_count": 523,
   "id": "lucky-colleague",
   "metadata": {
    "collapsed": true
   },
   "outputs": [
    {
     "data": {
      "text/plain": [
       "0        0.0\n",
       "1        0.0\n",
       "2        0.0\n",
       "3        0.0\n",
       "4        0.0\n",
       "        ... \n",
       "19583    0.0\n",
       "19584    0.0\n",
       "19585    0.0\n",
       "19586    0.0\n",
       "19587    0.0\n",
       "Name: risk_alelle_freq, Length: 14294, dtype: float64"
      ]
     },
     "execution_count": 523,
     "metadata": {},
     "output_type": "execute_result"
    }
   ],
   "source": [
    "common_de_new.risk_alelle_freq"
   ]
  },
  {
   "cell_type": "markdown",
   "id": "middle-restriction",
   "metadata": {},
   "source": [
    "Data exploration"
   ]
  },
  {
   "cell_type": "code",
   "execution_count": 31,
   "id": "attractive-average",
   "metadata": {
    "scrolled": true
   },
   "outputs": [
    {
     "data": {
      "text/plain": [
       "(3379, 2)"
      ]
     },
     "execution_count": 31,
     "metadata": {},
     "output_type": "execute_result"
    }
   ],
   "source": [
    "common_de_new[[\"gene_sym\",\"Pathway\"]].drop_duplicates().shape"
   ]
  },
  {
   "cell_type": "code",
   "execution_count": 44,
   "id": "innocent-vampire",
   "metadata": {
    "collapsed": true
   },
   "outputs": [
    {
     "data": {
      "image/png": "[encoded data removed]",
      "text/plain": [
       "<Figure size 432x288 with 1 Axes>"
      ]
     },
     "metadata": {
      "image/png": {
       "height": 261,
       "width": 395
      },
      "needs_background": "light"
     },
     "output_type": "display_data"
    }
   ],
   "source": [
    "sns.countplot(data=BRCA,x='y',palette='hls')\n",
    "plt.show()\n",
    "#plt.savefig(\"commonDe_pathway.png\")"
   ]
  },
  {
   "cell_type": "code",
   "execution_count": 463,
   "id": "alpine-hostel",
   "metadata": {
    "collapsed": true
   },
   "outputs": [
    {
     "data": {
      "text/html": [
       "<div>\n",
       "<style scoped>\n",
       "    .dataframe tbody tr th:only-of-type {\n",
       "        vertical-align: middle;\n",
       "    }\n",
       "\n",
       "    .dataframe tbody tr th {\n",
       "        vertical-align: top;\n",
       "    }\n",
       "\n",
       "    .dataframe thead th {\n",
       "        text-align: right;\n",
       "    }\n",
       "</style>\n",
       "<table border=\"1\" class=\"dataframe\">\n",
       "  <thead>\n",
       "    <tr style=\"text-align: right;\">\n",
       "      <th></th>\n",
       "      <th>risk_alelle_freq</th>\n",
       "      <th>EZH2</th>\n",
       "      <th>H3K27</th>\n",
       "      <th>Meth_Mean</th>\n",
       "      <th>logFC</th>\n",
       "      <th>count</th>\n",
       "      <th>pathway_y</th>\n",
       "    </tr>\n",
       "    <tr>\n",
       "      <th>Pathway</th>\n",
       "      <th></th>\n",
       "      <th></th>\n",
       "      <th></th>\n",
       "      <th></th>\n",
       "      <th></th>\n",
       "      <th></th>\n",
       "      <th></th>\n",
       "    </tr>\n",
       "  </thead>\n",
       "  <tbody>\n",
       "    <tr>\n",
       "      <th>Acute myeloid leukemia, PPAR signaling pathway, MAPK signaling pathway, Breast cancer, Leukocyte transendothelial migration, Pathways in cancer, Rap1 signaling pathway, Cell cycle, Cell adhesion molecules, Regulation of actin cytoskeleton, DNA replication, Axon guidance, Small cell lung cancer, Proteoglycans in cancer, Hippo signaling pathway, Cytokine-cytokine receptor interaction, Transcriptional misregulation in cancer, p53 signaling pathway, PI3K-Akt signaling pathway, TNF signaling pathway</th>\n",
       "      <td>NaN</td>\n",
       "      <td>NaN</td>\n",
       "      <td>NaN</td>\n",
       "      <td>NaN</td>\n",
       "      <td>1.548512</td>\n",
       "      <td>20.0</td>\n",
       "      <td>1</td>\n",
       "    </tr>\n",
       "    <tr>\n",
       "      <th>Acute myeloid leukemia, PPAR signaling pathway, MAPK signaling pathway, Breast cancer, Leukocyte transendothelial migration, Pathways in cancer, Rap1 signaling pathway, Regulation of actin cytoskeleton, Cell adhesion molecules, Cell cycle, DNA replication, Axon guidance, Proteoglycans in cancer, Small cell lung cancer, Cytokine-cytokine receptor interaction, Hippo signaling pathway, Transcriptional misregulation in cancer, p53 signaling pathway, PI3K-Akt signaling pathway, TNF signaling pathway, Calcium signaling pathway</th>\n",
       "      <td>NaN</td>\n",
       "      <td>NaN</td>\n",
       "      <td>NaN</td>\n",
       "      <td>NaN</td>\n",
       "      <td>0.486484</td>\n",
       "      <td>21.0</td>\n",
       "      <td>1</td>\n",
       "    </tr>\n",
       "    <tr>\n",
       "      <th>Acute myeloid leukemia, Transcriptional misregulation in cancer, Cell adhesion molecules, Proteoglycans in cancer, MAPK signaling pathway, PI3K-Akt signaling pathway, Axon guidance, Calcium signaling pathway, Pathways in cancer</th>\n",
       "      <td>NaN</td>\n",
       "      <td>NaN</td>\n",
       "      <td>NaN</td>\n",
       "      <td>NaN</td>\n",
       "      <td>-0.645642</td>\n",
       "      <td>9.0</td>\n",
       "      <td>1</td>\n",
       "    </tr>\n",
       "    <tr>\n",
       "      <th>Acute myeloid leukemia, Transcriptional misregulation in cancer, Cell cycle, Regulation of actin cytoskeleton, p53 signaling pathway, Small cell lung cancer, Breast cancer, DNA replication, MAPK signaling pathway, Pathways in cancer</th>\n",
       "      <td>NaN</td>\n",
       "      <td>NaN</td>\n",
       "      <td>NaN</td>\n",
       "      <td>NaN</td>\n",
       "      <td>2.243343</td>\n",
       "      <td>10.0</td>\n",
       "      <td>1</td>\n",
       "    </tr>\n",
       "    <tr>\n",
       "      <th>Acute myeloid leukemia, Transcriptional misregulation in cancer, Cell cycle, Regulation of actin cytoskeleton, p53 signaling pathway, Small cell lung cancer, DNA replication, PI3K-Akt signaling pathway, Pathways in cancer</th>\n",
       "      <td>NaN</td>\n",
       "      <td>NaN</td>\n",
       "      <td>NaN</td>\n",
       "      <td>NaN</td>\n",
       "      <td>1.438246</td>\n",
       "      <td>9.0</td>\n",
       "      <td>1</td>\n",
       "    </tr>\n",
       "    <tr>\n",
       "      <th>...</th>\n",
       "      <td>...</td>\n",
       "      <td>...</td>\n",
       "      <td>...</td>\n",
       "      <td>...</td>\n",
       "      <td>...</td>\n",
       "      <td>...</td>\n",
       "      <td>...</td>\n",
       "    </tr>\n",
       "    <tr>\n",
       "      <th>p53 signaling pathway</th>\n",
       "      <td>NaN</td>\n",
       "      <td>NaN</td>\n",
       "      <td>NaN</td>\n",
       "      <td>NaN</td>\n",
       "      <td>0.950766</td>\n",
       "      <td>1.0</td>\n",
       "      <td>1</td>\n",
       "    </tr>\n",
       "    <tr>\n",
       "      <th>p53 signaling pathway, Small cell lung cancer, Breast cancer, PI3K-Akt signaling pathway, Pathways in cancer</th>\n",
       "      <td>NaN</td>\n",
       "      <td>NaN</td>\n",
       "      <td>NaN</td>\n",
       "      <td>NaN</td>\n",
       "      <td>-1.514867</td>\n",
       "      <td>5.0</td>\n",
       "      <td>1</td>\n",
       "    </tr>\n",
       "    <tr>\n",
       "      <th>p53 signaling pathway, Small cell lung cancer, MAPK signaling pathway, TNF signaling pathway, Pathways in cancer</th>\n",
       "      <td>NaN</td>\n",
       "      <td>NaN</td>\n",
       "      <td>NaN</td>\n",
       "      <td>NaN</td>\n",
       "      <td>1.169474</td>\n",
       "      <td>5.0</td>\n",
       "      <td>1</td>\n",
       "    </tr>\n",
       "    <tr>\n",
       "      <th>p53 signaling pathway, Small cell lung cancer, Pathways in cancer, PI3K-Akt signaling pathway</th>\n",
       "      <td>NaN</td>\n",
       "      <td>NaN</td>\n",
       "      <td>NaN</td>\n",
       "      <td>NaN</td>\n",
       "      <td>-1.287401</td>\n",
       "      <td>4.0</td>\n",
       "      <td>1</td>\n",
       "    </tr>\n",
       "    <tr>\n",
       "      <th>unknown</th>\n",
       "      <td>0.461707</td>\n",
       "      <td>2.561985</td>\n",
       "      <td>2.936503</td>\n",
       "      <td>0.433024</td>\n",
       "      <td>0.174829</td>\n",
       "      <td>NaN</td>\n",
       "      <td>0</td>\n",
       "    </tr>\n",
       "  </tbody>\n",
       "</table>\n",
       "<p>413 rows × 7 columns</p>\n",
       "</div>"
      ],
      "text/plain": [
       "                                                    risk_alelle_freq  \\\n",
       "Pathway                                                                \n",
       "Acute myeloid leukemia, PPAR signaling pathway,...               NaN   \n",
       "Acute myeloid leukemia, PPAR signaling pathway,...               NaN   \n",
       "Acute myeloid leukemia, Transcriptional misregu...               NaN   \n",
       "Acute myeloid leukemia, Transcriptional misregu...               NaN   \n",
       "Acute myeloid leukemia, Transcriptional misregu...               NaN   \n",
       "...                                                              ...   \n",
       "p53 signaling pathway                                            NaN   \n",
       "p53 signaling pathway, Small cell lung cancer, ...               NaN   \n",
       "p53 signaling pathway, Small cell lung cancer, ...               NaN   \n",
       "p53 signaling pathway, Small cell lung cancer, ...               NaN   \n",
       "unknown                                                     0.461707   \n",
       "\n",
       "                                                        EZH2     H3K27  \\\n",
       "Pathway                                                                  \n",
       "Acute myeloid leukemia, PPAR signaling pathway,...       NaN       NaN   \n",
       "Acute myeloid leukemia, PPAR signaling pathway,...       NaN       NaN   \n",
       "Acute myeloid leukemia, Transcriptional misregu...       NaN       NaN   \n",
       "Acute myeloid leukemia, Transcriptional misregu...       NaN       NaN   \n",
       "Acute myeloid leukemia, Transcriptional misregu...       NaN       NaN   \n",
       "...                                                      ...       ...   \n",
       "p53 signaling pathway                                    NaN       NaN   \n",
       "p53 signaling pathway, Small cell lung cancer, ...       NaN       NaN   \n",
       "p53 signaling pathway, Small cell lung cancer, ...       NaN       NaN   \n",
       "p53 signaling pathway, Small cell lung cancer, ...       NaN       NaN   \n",
       "unknown                                             2.561985  2.936503   \n",
       "\n",
       "                                                    Meth_Mean     logFC  \\\n",
       "Pathway                                                                   \n",
       "Acute myeloid leukemia, PPAR signaling pathway,...        NaN  1.548512   \n",
       "Acute myeloid leukemia, PPAR signaling pathway,...        NaN  0.486484   \n",
       "Acute myeloid leukemia, Transcriptional misregu...        NaN -0.645642   \n",
       "Acute myeloid leukemia, Transcriptional misregu...        NaN  2.243343   \n",
       "Acute myeloid leukemia, Transcriptional misregu...        NaN  1.438246   \n",
       "...                                                       ...       ...   \n",
       "p53 signaling pathway                                     NaN  0.950766   \n",
       "p53 signaling pathway, Small cell lung cancer, ...        NaN -1.514867   \n",
       "p53 signaling pathway, Small cell lung cancer, ...        NaN  1.169474   \n",
       "p53 signaling pathway, Small cell lung cancer, ...        NaN -1.287401   \n",
       "unknown                                              0.433024  0.174829   \n",
       "\n",
       "                                                    count  pathway_y  \n",
       "Pathway                                                               \n",
       "Acute myeloid leukemia, PPAR signaling pathway,...   20.0          1  \n",
       "Acute myeloid leukemia, PPAR signaling pathway,...   21.0          1  \n",
       "Acute myeloid leukemia, Transcriptional misregu...    9.0          1  \n",
       "Acute myeloid leukemia, Transcriptional misregu...   10.0          1  \n",
       "Acute myeloid leukemia, Transcriptional misregu...    9.0          1  \n",
       "...                                                   ...        ...  \n",
       "p53 signaling pathway                                 1.0          1  \n",
       "p53 signaling pathway, Small cell lung cancer, ...    5.0          1  \n",
       "p53 signaling pathway, Small cell lung cancer, ...    5.0          1  \n",
       "p53 signaling pathway, Small cell lung cancer, ...    4.0          1  \n",
       "unknown                                               NaN          0  \n",
       "\n",
       "[413 rows x 7 columns]"
      ]
     },
     "execution_count": 463,
     "metadata": {},
     "output_type": "execute_result"
    }
   ],
   "source": [
    "common_de_new.groupby('pathway_y').mean()\n",
    "common_de_new.groupby('Pathway').mean()"
   ]
  },
  {
   "cell_type": "code",
   "execution_count": 464,
   "id": "direct-algebra",
   "metadata": {
    "collapsed": true
   },
   "outputs": [
    {
     "ename": "KeyError",
     "evalue": "'Acute myeloid leukemia, PPAR signaling pathway, MAPK signaling pathway, Breast cancer, Leukocyte transendothelial migration, Pathways in cancer, Rap1 signaling pathway, Cell cycle, Cell adhesion molecules, Regulation of actin cytoskeleton, DNA replication, Axon guidance, Small cell lung cancer, Proteoglycans in cancer, Hippo signaling pathway, Cytokine-cytokine receptor interaction, Transcriptional misregulation in cancer, p53 signaling pathway, PI3K-Akt signaling pathway, TNF signaling pathway'",
     "output_type": "error",
     "traceback": [
      "\u001b[0;31m---------------------------------------------------------------------------\u001b[0m",
      "\u001b[0;31mKeyError\u001b[0m                                  Traceback (most recent call last)",
      "\u001b[0;32m<ipython-input-464-68445b972ebe>\u001b[0m in \u001b[0;36m<module>\u001b[0;34m\u001b[0m\n\u001b[1;32m      3\u001b[0m color_dict   = { 'Cell_Cycle':'red', 'Hippo':'blue', 'MYC':'black', 'NOTCH':'green','NRF2':'purple' ,\n\u001b[1;32m      4\u001b[0m               'PI3K':'orange','RTK-RAS':'yellow','TGF-Beta':'hotpink','TP53':'magenta','WNT':'teal','unknown':'aqua'}\n\u001b[0;32m----> 5\u001b[0;31m \u001b[0mtable\u001b[0m\u001b[0;34m.\u001b[0m\u001b[0mdiv\u001b[0m\u001b[0;34m(\u001b[0m\u001b[0mtable\u001b[0m\u001b[0;34m.\u001b[0m\u001b[0msum\u001b[0m\u001b[0;34m(\u001b[0m\u001b[0;36m1\u001b[0m\u001b[0;34m)\u001b[0m\u001b[0;34m.\u001b[0m\u001b[0mastype\u001b[0m\u001b[0;34m(\u001b[0m\u001b[0mfloat\u001b[0m\u001b[0;34m)\u001b[0m\u001b[0;34m,\u001b[0m \u001b[0maxis\u001b[0m\u001b[0;34m=\u001b[0m\u001b[0;36m0\u001b[0m\u001b[0;34m)\u001b[0m\u001b[0;34m.\u001b[0m\u001b[0mplot\u001b[0m\u001b[0;34m(\u001b[0m\u001b[0mkind\u001b[0m\u001b[0;34m=\u001b[0m\u001b[0;34m'bar'\u001b[0m\u001b[0;34m,\u001b[0m \u001b[0mstacked\u001b[0m\u001b[0;34m=\u001b[0m\u001b[0;32mTrue\u001b[0m\u001b[0;34m,\u001b[0m\u001b[0mcolor\u001b[0m\u001b[0;34m=\u001b[0m\u001b[0mcolor_dict\u001b[0m\u001b[0;34m)\u001b[0m\u001b[0;34m\u001b[0m\u001b[0;34m\u001b[0m\u001b[0m\n\u001b[0m\u001b[1;32m      6\u001b[0m \u001b[0mplt\u001b[0m\u001b[0;34m.\u001b[0m\u001b[0mlegend\u001b[0m\u001b[0;34m(\u001b[0m\u001b[0mloc\u001b[0m\u001b[0;34m=\u001b[0m\u001b[0;34m'upper left'\u001b[0m\u001b[0;34m)\u001b[0m\u001b[0;34m\u001b[0m\u001b[0;34m\u001b[0m\u001b[0m\n\u001b[1;32m      7\u001b[0m \u001b[0mplt\u001b[0m\u001b[0;34m.\u001b[0m\u001b[0mtitle\u001b[0m\u001b[0;34m(\u001b[0m\u001b[0;34m'Stacked Bar Chart of pathway vs oncogenes'\u001b[0m\u001b[0;34m)\u001b[0m\u001b[0;34m\u001b[0m\u001b[0;34m\u001b[0m\u001b[0m\n",
      "\u001b[0;32m~/anaconda3/lib/python3.7/site-packages/pandas/plotting/_core.py\u001b[0m in \u001b[0;36m__call__\u001b[0;34m(self, *args, **kwargs)\u001b[0m\n\u001b[1;32m    953\u001b[0m                     \u001b[0mdata\u001b[0m\u001b[0;34m.\u001b[0m\u001b[0mcolumns\u001b[0m \u001b[0;34m=\u001b[0m \u001b[0mlabel_name\u001b[0m\u001b[0;34m\u001b[0m\u001b[0;34m\u001b[0m\u001b[0m\n\u001b[1;32m    954\u001b[0m \u001b[0;34m\u001b[0m\u001b[0m\n\u001b[0;32m--> 955\u001b[0;31m         \u001b[0;32mreturn\u001b[0m \u001b[0mplot_backend\u001b[0m\u001b[0;34m.\u001b[0m\u001b[0mplot\u001b[0m\u001b[0;34m(\u001b[0m\u001b[0mdata\u001b[0m\u001b[0;34m,\u001b[0m \u001b[0mkind\u001b[0m\u001b[0;34m=\u001b[0m\u001b[0mkind\u001b[0m\u001b[0;34m,\u001b[0m \u001b[0;34m**\u001b[0m\u001b[0mkwargs\u001b[0m\u001b[0;34m)\u001b[0m\u001b[0;34m\u001b[0m\u001b[0;34m\u001b[0m\u001b[0m\n\u001b[0m\u001b[1;32m    956\u001b[0m \u001b[0;34m\u001b[0m\u001b[0m\n\u001b[1;32m    957\u001b[0m     \u001b[0m__call__\u001b[0m\u001b[0;34m.\u001b[0m\u001b[0m__doc__\u001b[0m \u001b[0;34m=\u001b[0m \u001b[0m__doc__\u001b[0m\u001b[0;34m\u001b[0m\u001b[0;34m\u001b[0m\u001b[0m\n",
      "\u001b[0;32m~/anaconda3/lib/python3.7/site-packages/pandas/plotting/_matplotlib/__init__.py\u001b[0m in \u001b[0;36mplot\u001b[0;34m(data, kind, **kwargs)\u001b[0m\n\u001b[1;32m     59\u001b[0m             \u001b[0mkwargs\u001b[0m\u001b[0;34m[\u001b[0m\u001b[0;34m\"ax\"\u001b[0m\u001b[0;34m]\u001b[0m \u001b[0;34m=\u001b[0m \u001b[0mgetattr\u001b[0m\u001b[0;34m(\u001b[0m\u001b[0max\u001b[0m\u001b[0;34m,\u001b[0m \u001b[0;34m\"left_ax\"\u001b[0m\u001b[0;34m,\u001b[0m \u001b[0max\u001b[0m\u001b[0;34m)\u001b[0m\u001b[0;34m\u001b[0m\u001b[0;34m\u001b[0m\u001b[0m\n\u001b[1;32m     60\u001b[0m     \u001b[0mplot_obj\u001b[0m \u001b[0;34m=\u001b[0m \u001b[0mPLOT_CLASSES\u001b[0m\u001b[0;34m[\u001b[0m\u001b[0mkind\u001b[0m\u001b[0;34m]\u001b[0m\u001b[0;34m(\u001b[0m\u001b[0mdata\u001b[0m\u001b[0;34m,\u001b[0m \u001b[0;34m**\u001b[0m\u001b[0mkwargs\u001b[0m\u001b[0;34m)\u001b[0m\u001b[0;34m\u001b[0m\u001b[0;34m\u001b[0m\u001b[0m\n\u001b[0;32m---> 61\u001b[0;31m     \u001b[0mplot_obj\u001b[0m\u001b[0;34m.\u001b[0m\u001b[0mgenerate\u001b[0m\u001b[0;34m(\u001b[0m\u001b[0;34m)\u001b[0m\u001b[0;34m\u001b[0m\u001b[0;34m\u001b[0m\u001b[0m\n\u001b[0m\u001b[1;32m     62\u001b[0m     \u001b[0mplot_obj\u001b[0m\u001b[0;34m.\u001b[0m\u001b[0mdraw\u001b[0m\u001b[0;34m(\u001b[0m\u001b[0;34m)\u001b[0m\u001b[0;34m\u001b[0m\u001b[0;34m\u001b[0m\u001b[0m\n\u001b[1;32m     63\u001b[0m     \u001b[0;32mreturn\u001b[0m \u001b[0mplot_obj\u001b[0m\u001b[0;34m.\u001b[0m\u001b[0mresult\u001b[0m\u001b[0;34m\u001b[0m\u001b[0;34m\u001b[0m\u001b[0m\n",
      "\u001b[0;32m~/anaconda3/lib/python3.7/site-packages/pandas/plotting/_matplotlib/core.py\u001b[0m in \u001b[0;36mgenerate\u001b[0;34m(self)\u001b[0m\n\u001b[1;32m    278\u001b[0m         \u001b[0mself\u001b[0m\u001b[0;34m.\u001b[0m\u001b[0m_compute_plot_data\u001b[0m\u001b[0;34m(\u001b[0m\u001b[0;34m)\u001b[0m\u001b[0;34m\u001b[0m\u001b[0;34m\u001b[0m\u001b[0m\n\u001b[1;32m    279\u001b[0m         \u001b[0mself\u001b[0m\u001b[0;34m.\u001b[0m\u001b[0m_setup_subplots\u001b[0m\u001b[0;34m(\u001b[0m\u001b[0;34m)\u001b[0m\u001b[0;34m\u001b[0m\u001b[0;34m\u001b[0m\u001b[0m\n\u001b[0;32m--> 280\u001b[0;31m         \u001b[0mself\u001b[0m\u001b[0;34m.\u001b[0m\u001b[0m_make_plot\u001b[0m\u001b[0;34m(\u001b[0m\u001b[0;34m)\u001b[0m\u001b[0;34m\u001b[0m\u001b[0;34m\u001b[0m\u001b[0m\n\u001b[0m\u001b[1;32m    281\u001b[0m         \u001b[0mself\u001b[0m\u001b[0;34m.\u001b[0m\u001b[0m_add_table\u001b[0m\u001b[0;34m(\u001b[0m\u001b[0;34m)\u001b[0m\u001b[0;34m\u001b[0m\u001b[0;34m\u001b[0m\u001b[0m\n\u001b[1;32m    282\u001b[0m         \u001b[0mself\u001b[0m\u001b[0;34m.\u001b[0m\u001b[0m_make_legend\u001b[0m\u001b[0;34m(\u001b[0m\u001b[0;34m)\u001b[0m\u001b[0;34m\u001b[0m\u001b[0;34m\u001b[0m\u001b[0m\n",
      "\u001b[0;32m~/anaconda3/lib/python3.7/site-packages/pandas/plotting/_matplotlib/core.py\u001b[0m in \u001b[0;36m_make_plot\u001b[0;34m(self)\u001b[0m\n\u001b[1;32m   1425\u001b[0m                 \u001b[0mkwds\u001b[0m\u001b[0;34m[\u001b[0m\u001b[0;34m\"color\"\u001b[0m\u001b[0;34m]\u001b[0m \u001b[0;34m=\u001b[0m \u001b[0mcolors\u001b[0m\u001b[0;34m\u001b[0m\u001b[0;34m\u001b[0m\u001b[0m\n\u001b[1;32m   1426\u001b[0m             \u001b[0;32melif\u001b[0m \u001b[0misinstance\u001b[0m\u001b[0;34m(\u001b[0m\u001b[0mcolors\u001b[0m\u001b[0;34m,\u001b[0m \u001b[0mdict\u001b[0m\u001b[0;34m)\u001b[0m\u001b[0;34m:\u001b[0m\u001b[0;34m\u001b[0m\u001b[0;34m\u001b[0m\u001b[0m\n\u001b[0;32m-> 1427\u001b[0;31m                 \u001b[0mkwds\u001b[0m\u001b[0;34m[\u001b[0m\u001b[0;34m\"color\"\u001b[0m\u001b[0;34m]\u001b[0m \u001b[0;34m=\u001b[0m \u001b[0mcolors\u001b[0m\u001b[0;34m[\u001b[0m\u001b[0mlabel\u001b[0m\u001b[0;34m]\u001b[0m\u001b[0;34m\u001b[0m\u001b[0;34m\u001b[0m\u001b[0m\n\u001b[0m\u001b[1;32m   1428\u001b[0m             \u001b[0;32melse\u001b[0m\u001b[0;34m:\u001b[0m\u001b[0;34m\u001b[0m\u001b[0;34m\u001b[0m\u001b[0m\n\u001b[1;32m   1429\u001b[0m                 \u001b[0mkwds\u001b[0m\u001b[0;34m[\u001b[0m\u001b[0;34m\"color\"\u001b[0m\u001b[0;34m]\u001b[0m \u001b[0;34m=\u001b[0m \u001b[0mcolors\u001b[0m\u001b[0;34m[\u001b[0m\u001b[0mi\u001b[0m \u001b[0;34m%\u001b[0m \u001b[0mncolors\u001b[0m\u001b[0;34m]\u001b[0m\u001b[0;34m\u001b[0m\u001b[0;34m\u001b[0m\u001b[0m\n",
      "\u001b[0;31mKeyError\u001b[0m: 'Acute myeloid leukemia, PPAR signaling pathway, MAPK signaling pathway, Breast cancer, Leukocyte transendothelial migration, Pathways in cancer, Rap1 signaling pathway, Cell cycle, Cell adhesion molecules, Regulation of actin cytoskeleton, DNA replication, Axon guidance, Small cell lung cancer, Proteoglycans in cancer, Hippo signaling pathway, Cytokine-cytokine receptor interaction, Transcriptional misregulation in cancer, p53 signaling pathway, PI3K-Akt signaling pathway, TNF signaling pathway'"
     ]
    },
    {
     "data": {
      "image/png": "[encoded data removed]",
      "text/plain": [
       "<Figure size 432x288 with 1 Axes>"
      ]
     },
     "metadata": {
      "image/png": {
       "height": 252,
       "width": 380
      },
      "needs_background": "light"
     },
     "output_type": "display_data"
    }
   ],
   "source": [
    "table        = pd.crosstab(common_de_new.types,common_de_new.Pathway)\n",
    "color        = list('rgbkymc')\n",
    "color_dict   = {'Cell_Cycle':'red', 'Hippo':'blue', 'MYC':'black', 'NOTCH':'green','NRF2':'purple' ,\n",
    "              'PI3K':'orange','RTK-RAS':'yellow','TGF-Beta':'hotpink','TP53':'magenta','WNT':'teal','unknown':'aqua'}\n",
    "table.div(table.sum(1).astype(float), axis=0).plot(kind='bar', stacked=True,color=color_dict)\n",
    "plt.legend(loc='upper left')\n",
    "plt.title('Stacked Bar Chart of pathway vs oncogenes')\n",
    "plt.xlabel('oncogene Status')\n",
    "plt.ylabel('Proportion of pathways')\n",
    "plt.savefig('pathway_vs_oncogene_stack')"
   ]
  },
  {
   "cell_type": "code",
   "execution_count": 201,
   "id": "billion-culture",
   "metadata": {
    "collapsed": true
   },
   "outputs": [
    {
     "ename": "NameError",
     "evalue": "name 'common_de_new' is not defined",
     "output_type": "error",
     "traceback": [
      "\u001b[0;31m---------------------------------------------------------------------------\u001b[0m",
      "\u001b[0;31mNameError\u001b[0m                                 Traceback (most recent call last)",
      "\u001b[0;32m<ipython-input-201-2691a0476670>\u001b[0m in \u001b[0;36m<module>\u001b[0;34m\u001b[0m\n\u001b[0;32m----> 1\u001b[0;31m \u001b[0mpd\u001b[0m\u001b[0;34m.\u001b[0m\u001b[0mcrosstab\u001b[0m\u001b[0;34m(\u001b[0m\u001b[0mcommon_de_new\u001b[0m\u001b[0;34m.\u001b[0m\u001b[0mtypes\u001b[0m\u001b[0;34m,\u001b[0m\u001b[0mcommon_de_new\u001b[0m\u001b[0;34m.\u001b[0m\u001b[0mPathway\u001b[0m\u001b[0;34m)\u001b[0m\u001b[0;34m.\u001b[0m\u001b[0mplot\u001b[0m\u001b[0;34m(\u001b[0m\u001b[0mkind\u001b[0m\u001b[0;34m=\u001b[0m\u001b[0;34m'bar'\u001b[0m\u001b[0;34m,\u001b[0m\u001b[0mcolor\u001b[0m\u001b[0;34m=\u001b[0m\u001b[0mcolor_dict\u001b[0m\u001b[0;34m)\u001b[0m\u001b[0;34m\u001b[0m\u001b[0;34m\u001b[0m\u001b[0m\n\u001b[0m\u001b[1;32m      2\u001b[0m \u001b[0mplt\u001b[0m\u001b[0;34m.\u001b[0m\u001b[0mtitle\u001b[0m\u001b[0;34m(\u001b[0m\u001b[0;34m'Pathways Frequency for lncRNAs type'\u001b[0m\u001b[0;34m)\u001b[0m\u001b[0;34m\u001b[0m\u001b[0;34m\u001b[0m\u001b[0m\n\u001b[1;32m      3\u001b[0m \u001b[0mplt\u001b[0m\u001b[0;34m.\u001b[0m\u001b[0mxlabel\u001b[0m\u001b[0;34m(\u001b[0m\u001b[0;34m'Types'\u001b[0m\u001b[0;34m)\u001b[0m\u001b[0;34m\u001b[0m\u001b[0;34m\u001b[0m\u001b[0m\n\u001b[1;32m      4\u001b[0m \u001b[0mplt\u001b[0m\u001b[0;34m.\u001b[0m\u001b[0mylabel\u001b[0m\u001b[0;34m(\u001b[0m\u001b[0;34m'Frequency of Pathways'\u001b[0m\u001b[0;34m)\u001b[0m\u001b[0;34m\u001b[0m\u001b[0;34m\u001b[0m\u001b[0m\n\u001b[1;32m      5\u001b[0m \u001b[0;31m#plt.title('Purchase Frequency for Job Title')\u001b[0m\u001b[0;34m\u001b[0m\u001b[0;34m\u001b[0m\u001b[0;34m\u001b[0m\u001b[0m\n",
      "\u001b[0;31mNameError\u001b[0m: name 'common_de_new' is not defined"
     ]
    }
   ],
   "source": [
    "pd.crosstab(common_de_new.types,common_de_new.Pathway).plot(kind='bar',color=color_dict)\n",
    "plt.title('Pathways Frequency for lncRNAs type')\n",
    "plt.xlabel('Types')\n",
    "plt.ylabel('Frequency of Pathways')\n"
   ]
  },
  {
   "cell_type": "code",
   "execution_count": 100,
   "id": "pleased-disposal",
   "metadata": {
    "collapsed": true
   },
   "outputs": [
    {
     "ename": "TypeError",
     "evalue": "'DataFrame' objects are mutable, thus they cannot be hashed",
     "output_type": "error",
     "traceback": [
      "\u001b[0;31m---------------------------------------------------------------------------\u001b[0m",
      "\u001b[0;31mTypeError\u001b[0m                                 Traceback (most recent call last)",
      "\u001b[0;32m<ipython-input-100-b5faf41595ba>\u001b[0m in \u001b[0;36m<module>\u001b[0;34m\u001b[0m\n\u001b[0;32m----> 1\u001b[0;31m \u001b[0mtable\u001b[0m\u001b[0;34m=\u001b[0m\u001b[0mpd\u001b[0m\u001b[0;34m.\u001b[0m\u001b[0mcrosstab\u001b[0m\u001b[0;34m(\u001b[0m\u001b[0mcommon_de_new\u001b[0m\u001b[0;34m.\u001b[0m\u001b[0msample\u001b[0m\u001b[0;34m,\u001b[0m\u001b[0mcommon_de_new\u001b[0m\u001b[0;34m.\u001b[0m\u001b[0mPathway\u001b[0m\u001b[0;34m)\u001b[0m\u001b[0;34m\u001b[0m\u001b[0;34m\u001b[0m\u001b[0m\n\u001b[0m\u001b[1;32m      2\u001b[0m \u001b[0mtable\u001b[0m\u001b[0;34m.\u001b[0m\u001b[0mdiv\u001b[0m\u001b[0;34m(\u001b[0m\u001b[0mtable\u001b[0m\u001b[0;34m.\u001b[0m\u001b[0msum\u001b[0m\u001b[0;34m(\u001b[0m\u001b[0;36m1\u001b[0m\u001b[0;34m)\u001b[0m\u001b[0;34m.\u001b[0m\u001b[0mastype\u001b[0m\u001b[0;34m(\u001b[0m\u001b[0mfloat\u001b[0m\u001b[0;34m)\u001b[0m\u001b[0;34m,\u001b[0m \u001b[0maxis\u001b[0m\u001b[0;34m=\u001b[0m\u001b[0;36m0\u001b[0m\u001b[0;34m)\u001b[0m\u001b[0;34m.\u001b[0m\u001b[0mplot\u001b[0m\u001b[0;34m(\u001b[0m\u001b[0mkind\u001b[0m\u001b[0;34m=\u001b[0m\u001b[0;34m'bar'\u001b[0m\u001b[0;34m,\u001b[0m \u001b[0mstacked\u001b[0m\u001b[0;34m=\u001b[0m\u001b[0;32mTrue\u001b[0m\u001b[0;34m,\u001b[0m\u001b[0mcolor\u001b[0m\u001b[0;34m=\u001b[0m\u001b[0mcolor_dict\u001b[0m\u001b[0;34m)\u001b[0m\u001b[0;34m\u001b[0m\u001b[0;34m\u001b[0m\u001b[0m\n\u001b[1;32m      3\u001b[0m \u001b[0;31m#plt.title('Stacked Bar Chart of Education vs Purchase')\u001b[0m\u001b[0;34m\u001b[0m\u001b[0;34m\u001b[0m\u001b[0;34m\u001b[0m\u001b[0m\n\u001b[1;32m      4\u001b[0m \u001b[0;31m#plt.xlabel('Education')\u001b[0m\u001b[0;34m\u001b[0m\u001b[0;34m\u001b[0m\u001b[0;34m\u001b[0m\u001b[0m\n\u001b[1;32m      5\u001b[0m \u001b[0mplt\u001b[0m\u001b[0;34m.\u001b[0m\u001b[0mylabel\u001b[0m\u001b[0;34m(\u001b[0m\u001b[0;34m'Proportion of pathways'\u001b[0m\u001b[0;34m)\u001b[0m\u001b[0;34m\u001b[0m\u001b[0;34m\u001b[0m\u001b[0m\n",
      "\u001b[0;32m~/anaconda3/lib/python3.7/site-packages/pandas/core/reshape/pivot.py\u001b[0m in \u001b[0;36mcrosstab\u001b[0;34m(index, columns, values, rownames, colnames, aggfunc, margins, margins_name, dropna, normalize)\u001b[0m\n\u001b[1;32m    613\u001b[0m         \u001b[0mmargins_name\u001b[0m\u001b[0;34m=\u001b[0m\u001b[0mmargins_name\u001b[0m\u001b[0;34m,\u001b[0m\u001b[0;34m\u001b[0m\u001b[0;34m\u001b[0m\u001b[0m\n\u001b[1;32m    614\u001b[0m         \u001b[0mdropna\u001b[0m\u001b[0;34m=\u001b[0m\u001b[0mdropna\u001b[0m\u001b[0;34m,\u001b[0m\u001b[0;34m\u001b[0m\u001b[0;34m\u001b[0m\u001b[0m\n\u001b[0;32m--> 615\u001b[0;31m         \u001b[0;34m**\u001b[0m\u001b[0mkwargs\u001b[0m\u001b[0;34m,\u001b[0m\u001b[0;34m\u001b[0m\u001b[0;34m\u001b[0m\u001b[0m\n\u001b[0m\u001b[1;32m    616\u001b[0m     )\n\u001b[1;32m    617\u001b[0m \u001b[0;34m\u001b[0m\u001b[0m\n",
      "\u001b[0;32m~/anaconda3/lib/python3.7/site-packages/pandas/core/frame.py\u001b[0m in \u001b[0;36mpivot_table\u001b[0;34m(self, values, index, columns, aggfunc, fill_value, margins, dropna, margins_name, observed)\u001b[0m\n\u001b[1;32m   7036\u001b[0m             \u001b[0mdropna\u001b[0m\u001b[0;34m=\u001b[0m\u001b[0mdropna\u001b[0m\u001b[0;34m,\u001b[0m\u001b[0;34m\u001b[0m\u001b[0;34m\u001b[0m\u001b[0m\n\u001b[1;32m   7037\u001b[0m             \u001b[0mmargins_name\u001b[0m\u001b[0;34m=\u001b[0m\u001b[0mmargins_name\u001b[0m\u001b[0;34m,\u001b[0m\u001b[0;34m\u001b[0m\u001b[0;34m\u001b[0m\u001b[0m\n\u001b[0;32m-> 7038\u001b[0;31m             \u001b[0mobserved\u001b[0m\u001b[0;34m=\u001b[0m\u001b[0mobserved\u001b[0m\u001b[0;34m,\u001b[0m\u001b[0;34m\u001b[0m\u001b[0;34m\u001b[0m\u001b[0m\n\u001b[0m\u001b[1;32m   7039\u001b[0m         )\n\u001b[1;32m   7040\u001b[0m \u001b[0;34m\u001b[0m\u001b[0m\n",
      "\u001b[0;32m~/anaconda3/lib/python3.7/site-packages/pandas/core/reshape/pivot.py\u001b[0m in \u001b[0;36mpivot_table\u001b[0;34m(data, values, index, columns, aggfunc, fill_value, margins, dropna, margins_name, observed)\u001b[0m\n\u001b[1;32m    111\u001b[0m \u001b[0;34m\u001b[0m\u001b[0m\n\u001b[1;32m    112\u001b[0m     \u001b[0mgrouped\u001b[0m \u001b[0;34m=\u001b[0m \u001b[0mdata\u001b[0m\u001b[0;34m.\u001b[0m\u001b[0mgroupby\u001b[0m\u001b[0;34m(\u001b[0m\u001b[0mkeys\u001b[0m\u001b[0;34m,\u001b[0m \u001b[0mobserved\u001b[0m\u001b[0;34m=\u001b[0m\u001b[0mobserved\u001b[0m\u001b[0;34m)\u001b[0m\u001b[0;34m\u001b[0m\u001b[0;34m\u001b[0m\u001b[0m\n\u001b[0;32m--> 113\u001b[0;31m     \u001b[0magged\u001b[0m \u001b[0;34m=\u001b[0m \u001b[0mgrouped\u001b[0m\u001b[0;34m.\u001b[0m\u001b[0magg\u001b[0m\u001b[0;34m(\u001b[0m\u001b[0maggfunc\u001b[0m\u001b[0;34m)\u001b[0m\u001b[0;34m\u001b[0m\u001b[0;34m\u001b[0m\u001b[0m\n\u001b[0m\u001b[1;32m    114\u001b[0m     \u001b[0;32mif\u001b[0m \u001b[0mdropna\u001b[0m \u001b[0;32mand\u001b[0m \u001b[0misinstance\u001b[0m\u001b[0;34m(\u001b[0m\u001b[0magged\u001b[0m\u001b[0;34m,\u001b[0m \u001b[0mABCDataFrame\u001b[0m\u001b[0;34m)\u001b[0m \u001b[0;32mand\u001b[0m \u001b[0mlen\u001b[0m\u001b[0;34m(\u001b[0m\u001b[0magged\u001b[0m\u001b[0;34m.\u001b[0m\u001b[0mcolumns\u001b[0m\u001b[0;34m)\u001b[0m\u001b[0;34m:\u001b[0m\u001b[0;34m\u001b[0m\u001b[0;34m\u001b[0m\u001b[0m\n\u001b[1;32m    115\u001b[0m         \u001b[0magged\u001b[0m \u001b[0;34m=\u001b[0m \u001b[0magged\u001b[0m\u001b[0;34m.\u001b[0m\u001b[0mdropna\u001b[0m\u001b[0;34m(\u001b[0m\u001b[0mhow\u001b[0m\u001b[0;34m=\u001b[0m\u001b[0;34m\"all\"\u001b[0m\u001b[0;34m)\u001b[0m\u001b[0;34m\u001b[0m\u001b[0;34m\u001b[0m\u001b[0m\n",
      "\u001b[0;32m~/anaconda3/lib/python3.7/site-packages/pandas/core/groupby/generic.py\u001b[0m in \u001b[0;36maggregate\u001b[0;34m(self, func, engine, engine_kwargs, *args, **kwargs)\u001b[0m\n\u001b[1;32m    951\u001b[0m             \u001b[0;31m# grouper specific aggregations\u001b[0m\u001b[0;34m\u001b[0m\u001b[0;34m\u001b[0m\u001b[0;34m\u001b[0m\u001b[0m\n\u001b[1;32m    952\u001b[0m             \u001b[0;32mif\u001b[0m \u001b[0mself\u001b[0m\u001b[0;34m.\u001b[0m\u001b[0mgrouper\u001b[0m\u001b[0;34m.\u001b[0m\u001b[0mnkeys\u001b[0m \u001b[0;34m>\u001b[0m \u001b[0;36m1\u001b[0m\u001b[0;34m:\u001b[0m\u001b[0;34m\u001b[0m\u001b[0;34m\u001b[0m\u001b[0m\n\u001b[0;32m--> 953\u001b[0;31m                 \u001b[0;32mreturn\u001b[0m \u001b[0mself\u001b[0m\u001b[0;34m.\u001b[0m\u001b[0m_python_agg_general\u001b[0m\u001b[0;34m(\u001b[0m\u001b[0mfunc\u001b[0m\u001b[0;34m,\u001b[0m \u001b[0;34m*\u001b[0m\u001b[0margs\u001b[0m\u001b[0;34m,\u001b[0m \u001b[0;34m**\u001b[0m\u001b[0mkwargs\u001b[0m\u001b[0;34m)\u001b[0m\u001b[0;34m\u001b[0m\u001b[0;34m\u001b[0m\u001b[0m\n\u001b[0m\u001b[1;32m    954\u001b[0m             \u001b[0;32melif\u001b[0m \u001b[0margs\u001b[0m \u001b[0;32mor\u001b[0m \u001b[0mkwargs\u001b[0m\u001b[0;34m:\u001b[0m\u001b[0;34m\u001b[0m\u001b[0;34m\u001b[0m\u001b[0m\n\u001b[1;32m    955\u001b[0m                 \u001b[0mresult\u001b[0m \u001b[0;34m=\u001b[0m \u001b[0mself\u001b[0m\u001b[0;34m.\u001b[0m\u001b[0m_aggregate_frame\u001b[0m\u001b[0;34m(\u001b[0m\u001b[0mfunc\u001b[0m\u001b[0;34m,\u001b[0m \u001b[0;34m*\u001b[0m\u001b[0margs\u001b[0m\u001b[0;34m,\u001b[0m \u001b[0;34m**\u001b[0m\u001b[0mkwargs\u001b[0m\u001b[0;34m)\u001b[0m\u001b[0;34m\u001b[0m\u001b[0;34m\u001b[0m\u001b[0m\n",
      "\u001b[0;32m~/anaconda3/lib/python3.7/site-packages/pandas/core/groupby/groupby.py\u001b[0m in \u001b[0;36m_python_agg_general\u001b[0;34m(self, func, *args, **kwargs)\u001b[0m\n\u001b[1;32m   1165\u001b[0m         \u001b[0;32mfor\u001b[0m \u001b[0midx\u001b[0m\u001b[0;34m,\u001b[0m \u001b[0mobj\u001b[0m \u001b[0;32min\u001b[0m \u001b[0menumerate\u001b[0m\u001b[0;34m(\u001b[0m\u001b[0mself\u001b[0m\u001b[0;34m.\u001b[0m\u001b[0m_iterate_slices\u001b[0m\u001b[0;34m(\u001b[0m\u001b[0;34m)\u001b[0m\u001b[0;34m)\u001b[0m\u001b[0;34m:\u001b[0m\u001b[0;34m\u001b[0m\u001b[0;34m\u001b[0m\u001b[0m\n\u001b[1;32m   1166\u001b[0m             \u001b[0mname\u001b[0m \u001b[0;34m=\u001b[0m \u001b[0mobj\u001b[0m\u001b[0;34m.\u001b[0m\u001b[0mname\u001b[0m\u001b[0;34m\u001b[0m\u001b[0;34m\u001b[0m\u001b[0m\n\u001b[0;32m-> 1167\u001b[0;31m             \u001b[0;32mif\u001b[0m \u001b[0mself\u001b[0m\u001b[0;34m.\u001b[0m\u001b[0mgrouper\u001b[0m\u001b[0;34m.\u001b[0m\u001b[0mngroups\u001b[0m \u001b[0;34m==\u001b[0m \u001b[0;36m0\u001b[0m\u001b[0;34m:\u001b[0m\u001b[0;34m\u001b[0m\u001b[0;34m\u001b[0m\u001b[0m\n\u001b[0m\u001b[1;32m   1168\u001b[0m                 \u001b[0;31m# agg_series below assumes ngroups > 0\u001b[0m\u001b[0;34m\u001b[0m\u001b[0;34m\u001b[0m\u001b[0;34m\u001b[0m\u001b[0m\n\u001b[1;32m   1169\u001b[0m                 \u001b[0;32mcontinue\u001b[0m\u001b[0;34m\u001b[0m\u001b[0;34m\u001b[0m\u001b[0m\n",
      "\u001b[0;32mpandas/_libs/properties.pyx\u001b[0m in \u001b[0;36mpandas._libs.properties.CachedProperty.__get__\u001b[0;34m()\u001b[0m\n",
      "\u001b[0;32m~/anaconda3/lib/python3.7/site-packages/pandas/core/groupby/ops.py\u001b[0m in \u001b[0;36mngroups\u001b[0;34m(self)\u001b[0m\n\u001b[1;32m    327\u001b[0m     \u001b[0;34m@\u001b[0m\u001b[0mcache_readonly\u001b[0m\u001b[0;34m\u001b[0m\u001b[0;34m\u001b[0m\u001b[0m\n\u001b[1;32m    328\u001b[0m     \u001b[0;32mdef\u001b[0m \u001b[0mngroups\u001b[0m\u001b[0;34m(\u001b[0m\u001b[0mself\u001b[0m\u001b[0;34m)\u001b[0m \u001b[0;34m->\u001b[0m \u001b[0mint\u001b[0m\u001b[0;34m:\u001b[0m\u001b[0;34m\u001b[0m\u001b[0;34m\u001b[0m\u001b[0m\n\u001b[0;32m--> 329\u001b[0;31m         \u001b[0;32mreturn\u001b[0m \u001b[0mlen\u001b[0m\u001b[0;34m(\u001b[0m\u001b[0mself\u001b[0m\u001b[0;34m.\u001b[0m\u001b[0mresult_index\u001b[0m\u001b[0;34m)\u001b[0m\u001b[0;34m\u001b[0m\u001b[0;34m\u001b[0m\u001b[0m\n\u001b[0m\u001b[1;32m    330\u001b[0m \u001b[0;34m\u001b[0m\u001b[0m\n\u001b[1;32m    331\u001b[0m     \u001b[0;34m@\u001b[0m\u001b[0mproperty\u001b[0m\u001b[0;34m\u001b[0m\u001b[0;34m\u001b[0m\u001b[0m\n",
      "\u001b[0;32mpandas/_libs/properties.pyx\u001b[0m in \u001b[0;36mpandas._libs.properties.CachedProperty.__get__\u001b[0;34m()\u001b[0m\n",
      "\u001b[0;32m~/anaconda3/lib/python3.7/site-packages/pandas/core/groupby/ops.py\u001b[0m in \u001b[0;36mresult_index\u001b[0;34m(self)\u001b[0m\n\u001b[1;32m    340\u001b[0m             \u001b[0;32mreturn\u001b[0m \u001b[0mself\u001b[0m\u001b[0;34m.\u001b[0m\u001b[0mgroupings\u001b[0m\u001b[0;34m[\u001b[0m\u001b[0;36m0\u001b[0m\u001b[0;34m]\u001b[0m\u001b[0;34m.\u001b[0m\u001b[0mresult_index\u001b[0m\u001b[0;34m.\u001b[0m\u001b[0mrename\u001b[0m\u001b[0;34m(\u001b[0m\u001b[0mself\u001b[0m\u001b[0;34m.\u001b[0m\u001b[0mnames\u001b[0m\u001b[0;34m[\u001b[0m\u001b[0;36m0\u001b[0m\u001b[0;34m]\u001b[0m\u001b[0;34m)\u001b[0m\u001b[0;34m\u001b[0m\u001b[0;34m\u001b[0m\u001b[0m\n\u001b[1;32m    341\u001b[0m \u001b[0;34m\u001b[0m\u001b[0m\n\u001b[0;32m--> 342\u001b[0;31m         \u001b[0mcodes\u001b[0m \u001b[0;34m=\u001b[0m \u001b[0mself\u001b[0m\u001b[0;34m.\u001b[0m\u001b[0mreconstructed_codes\u001b[0m\u001b[0;34m\u001b[0m\u001b[0;34m\u001b[0m\u001b[0m\n\u001b[0m\u001b[1;32m    343\u001b[0m         \u001b[0mlevels\u001b[0m \u001b[0;34m=\u001b[0m \u001b[0;34m[\u001b[0m\u001b[0mping\u001b[0m\u001b[0;34m.\u001b[0m\u001b[0mresult_index\u001b[0m \u001b[0;32mfor\u001b[0m \u001b[0mping\u001b[0m \u001b[0;32min\u001b[0m \u001b[0mself\u001b[0m\u001b[0;34m.\u001b[0m\u001b[0mgroupings\u001b[0m\u001b[0;34m]\u001b[0m\u001b[0;34m\u001b[0m\u001b[0;34m\u001b[0m\u001b[0m\n\u001b[1;32m    344\u001b[0m         return MultiIndex(\n",
      "\u001b[0;32m~/anaconda3/lib/python3.7/site-packages/pandas/core/groupby/ops.py\u001b[0m in \u001b[0;36mreconstructed_codes\u001b[0;34m(self)\u001b[0m\n\u001b[1;32m    331\u001b[0m     \u001b[0;34m@\u001b[0m\u001b[0mproperty\u001b[0m\u001b[0;34m\u001b[0m\u001b[0;34m\u001b[0m\u001b[0m\n\u001b[1;32m    332\u001b[0m     \u001b[0;32mdef\u001b[0m \u001b[0mreconstructed_codes\u001b[0m\u001b[0;34m(\u001b[0m\u001b[0mself\u001b[0m\u001b[0;34m)\u001b[0m \u001b[0;34m->\u001b[0m \u001b[0mList\u001b[0m\u001b[0;34m[\u001b[0m\u001b[0mnp\u001b[0m\u001b[0;34m.\u001b[0m\u001b[0mndarray\u001b[0m\u001b[0;34m]\u001b[0m\u001b[0;34m:\u001b[0m\u001b[0;34m\u001b[0m\u001b[0;34m\u001b[0m\u001b[0m\n\u001b[0;32m--> 333\u001b[0;31m         \u001b[0mcodes\u001b[0m \u001b[0;34m=\u001b[0m \u001b[0mself\u001b[0m\u001b[0;34m.\u001b[0m\u001b[0mcodes\u001b[0m\u001b[0;34m\u001b[0m\u001b[0;34m\u001b[0m\u001b[0m\n\u001b[0m\u001b[1;32m    334\u001b[0m         \u001b[0mcomp_ids\u001b[0m\u001b[0;34m,\u001b[0m \u001b[0mobs_ids\u001b[0m\u001b[0;34m,\u001b[0m \u001b[0m_\u001b[0m \u001b[0;34m=\u001b[0m \u001b[0mself\u001b[0m\u001b[0;34m.\u001b[0m\u001b[0mgroup_info\u001b[0m\u001b[0;34m\u001b[0m\u001b[0;34m\u001b[0m\u001b[0m\n\u001b[1;32m    335\u001b[0m         \u001b[0;32mreturn\u001b[0m \u001b[0mdecons_obs_group_ids\u001b[0m\u001b[0;34m(\u001b[0m\u001b[0mcomp_ids\u001b[0m\u001b[0;34m,\u001b[0m \u001b[0mobs_ids\u001b[0m\u001b[0;34m,\u001b[0m \u001b[0mself\u001b[0m\u001b[0;34m.\u001b[0m\u001b[0mshape\u001b[0m\u001b[0;34m,\u001b[0m \u001b[0mcodes\u001b[0m\u001b[0;34m,\u001b[0m \u001b[0mxnull\u001b[0m\u001b[0;34m=\u001b[0m\u001b[0;32mTrue\u001b[0m\u001b[0;34m)\u001b[0m\u001b[0;34m\u001b[0m\u001b[0;34m\u001b[0m\u001b[0m\n",
      "\u001b[0;32m~/anaconda3/lib/python3.7/site-packages/pandas/core/groupby/ops.py\u001b[0m in \u001b[0;36mcodes\u001b[0;34m(self)\u001b[0m\n\u001b[1;32m    257\u001b[0m     \u001b[0;34m@\u001b[0m\u001b[0mproperty\u001b[0m\u001b[0;34m\u001b[0m\u001b[0;34m\u001b[0m\u001b[0m\n\u001b[1;32m    258\u001b[0m     \u001b[0;32mdef\u001b[0m \u001b[0mcodes\u001b[0m\u001b[0;34m(\u001b[0m\u001b[0mself\u001b[0m\u001b[0;34m)\u001b[0m \u001b[0;34m->\u001b[0m \u001b[0mList\u001b[0m\u001b[0;34m[\u001b[0m\u001b[0mnp\u001b[0m\u001b[0;34m.\u001b[0m\u001b[0mndarray\u001b[0m\u001b[0;34m]\u001b[0m\u001b[0;34m:\u001b[0m\u001b[0;34m\u001b[0m\u001b[0;34m\u001b[0m\u001b[0m\n\u001b[0;32m--> 259\u001b[0;31m         \u001b[0;32mreturn\u001b[0m \u001b[0;34m[\u001b[0m\u001b[0mping\u001b[0m\u001b[0;34m.\u001b[0m\u001b[0mcodes\u001b[0m \u001b[0;32mfor\u001b[0m \u001b[0mping\u001b[0m \u001b[0;32min\u001b[0m \u001b[0mself\u001b[0m\u001b[0;34m.\u001b[0m\u001b[0mgroupings\u001b[0m\u001b[0;34m]\u001b[0m\u001b[0;34m\u001b[0m\u001b[0;34m\u001b[0m\u001b[0m\n\u001b[0m\u001b[1;32m    260\u001b[0m \u001b[0;34m\u001b[0m\u001b[0m\n\u001b[1;32m    261\u001b[0m     \u001b[0;34m@\u001b[0m\u001b[0mproperty\u001b[0m\u001b[0;34m\u001b[0m\u001b[0;34m\u001b[0m\u001b[0m\n",
      "\u001b[0;32m~/anaconda3/lib/python3.7/site-packages/pandas/core/groupby/ops.py\u001b[0m in \u001b[0;36m<listcomp>\u001b[0;34m(.0)\u001b[0m\n\u001b[1;32m    257\u001b[0m     \u001b[0;34m@\u001b[0m\u001b[0mproperty\u001b[0m\u001b[0;34m\u001b[0m\u001b[0;34m\u001b[0m\u001b[0m\n\u001b[1;32m    258\u001b[0m     \u001b[0;32mdef\u001b[0m \u001b[0mcodes\u001b[0m\u001b[0;34m(\u001b[0m\u001b[0mself\u001b[0m\u001b[0;34m)\u001b[0m \u001b[0;34m->\u001b[0m \u001b[0mList\u001b[0m\u001b[0;34m[\u001b[0m\u001b[0mnp\u001b[0m\u001b[0;34m.\u001b[0m\u001b[0mndarray\u001b[0m\u001b[0;34m]\u001b[0m\u001b[0;34m:\u001b[0m\u001b[0;34m\u001b[0m\u001b[0;34m\u001b[0m\u001b[0m\n\u001b[0;32m--> 259\u001b[0;31m         \u001b[0;32mreturn\u001b[0m \u001b[0;34m[\u001b[0m\u001b[0mping\u001b[0m\u001b[0;34m.\u001b[0m\u001b[0mcodes\u001b[0m \u001b[0;32mfor\u001b[0m \u001b[0mping\u001b[0m \u001b[0;32min\u001b[0m \u001b[0mself\u001b[0m\u001b[0;34m.\u001b[0m\u001b[0mgroupings\u001b[0m\u001b[0;34m]\u001b[0m\u001b[0;34m\u001b[0m\u001b[0;34m\u001b[0m\u001b[0m\n\u001b[0m\u001b[1;32m    260\u001b[0m \u001b[0;34m\u001b[0m\u001b[0m\n\u001b[1;32m    261\u001b[0m     \u001b[0;34m@\u001b[0m\u001b[0mproperty\u001b[0m\u001b[0;34m\u001b[0m\u001b[0;34m\u001b[0m\u001b[0m\n",
      "\u001b[0;32m~/anaconda3/lib/python3.7/site-packages/pandas/core/groupby/grouper.py\u001b[0m in \u001b[0;36mcodes\u001b[0;34m(self)\u001b[0m\n\u001b[1;32m    589\u001b[0m     \u001b[0;32mdef\u001b[0m \u001b[0mcodes\u001b[0m\u001b[0;34m(\u001b[0m\u001b[0mself\u001b[0m\u001b[0;34m)\u001b[0m \u001b[0;34m->\u001b[0m \u001b[0mnp\u001b[0m\u001b[0;34m.\u001b[0m\u001b[0mndarray\u001b[0m\u001b[0;34m:\u001b[0m\u001b[0;34m\u001b[0m\u001b[0;34m\u001b[0m\u001b[0m\n\u001b[1;32m    590\u001b[0m         \u001b[0;32mif\u001b[0m \u001b[0mself\u001b[0m\u001b[0;34m.\u001b[0m\u001b[0m_codes\u001b[0m \u001b[0;32mis\u001b[0m \u001b[0;32mNone\u001b[0m\u001b[0;34m:\u001b[0m\u001b[0;34m\u001b[0m\u001b[0;34m\u001b[0m\u001b[0m\n\u001b[0;32m--> 591\u001b[0;31m             \u001b[0mself\u001b[0m\u001b[0;34m.\u001b[0m\u001b[0m_make_codes\u001b[0m\u001b[0;34m(\u001b[0m\u001b[0;34m)\u001b[0m\u001b[0;34m\u001b[0m\u001b[0;34m\u001b[0m\u001b[0m\n\u001b[0m\u001b[1;32m    592\u001b[0m         \u001b[0;32mreturn\u001b[0m \u001b[0mself\u001b[0m\u001b[0;34m.\u001b[0m\u001b[0m_codes\u001b[0m\u001b[0;34m\u001b[0m\u001b[0;34m\u001b[0m\u001b[0m\n\u001b[1;32m    593\u001b[0m \u001b[0;34m\u001b[0m\u001b[0m\n",
      "\u001b[0;32m~/anaconda3/lib/python3.7/site-packages/pandas/core/groupby/grouper.py\u001b[0m in \u001b[0;36m_make_codes\u001b[0;34m(self)\u001b[0m\n\u001b[1;32m    622\u001b[0m                 \u001b[0mna_sentinel\u001b[0m \u001b[0;34m=\u001b[0m \u001b[0;34m-\u001b[0m\u001b[0;36m1\u001b[0m\u001b[0;34m\u001b[0m\u001b[0;34m\u001b[0m\u001b[0m\n\u001b[1;32m    623\u001b[0m             codes, uniques = algorithms.factorize(\n\u001b[0;32m--> 624\u001b[0;31m                 \u001b[0mself\u001b[0m\u001b[0;34m.\u001b[0m\u001b[0mgrouper\u001b[0m\u001b[0;34m,\u001b[0m \u001b[0msort\u001b[0m\u001b[0;34m=\u001b[0m\u001b[0mself\u001b[0m\u001b[0;34m.\u001b[0m\u001b[0msort\u001b[0m\u001b[0;34m,\u001b[0m \u001b[0mna_sentinel\u001b[0m\u001b[0;34m=\u001b[0m\u001b[0mna_sentinel\u001b[0m\u001b[0;34m\u001b[0m\u001b[0;34m\u001b[0m\u001b[0m\n\u001b[0m\u001b[1;32m    625\u001b[0m             )\n\u001b[1;32m    626\u001b[0m             \u001b[0muniques\u001b[0m \u001b[0;34m=\u001b[0m \u001b[0mIndex\u001b[0m\u001b[0;34m(\u001b[0m\u001b[0muniques\u001b[0m\u001b[0;34m,\u001b[0m \u001b[0mname\u001b[0m\u001b[0;34m=\u001b[0m\u001b[0mself\u001b[0m\u001b[0;34m.\u001b[0m\u001b[0mname\u001b[0m\u001b[0;34m)\u001b[0m\u001b[0;34m\u001b[0m\u001b[0;34m\u001b[0m\u001b[0m\n",
      "\u001b[0;32m~/anaconda3/lib/python3.7/site-packages/pandas/core/algorithms.py\u001b[0m in \u001b[0;36mfactorize\u001b[0;34m(values, sort, na_sentinel, size_hint)\u001b[0m\n\u001b[1;32m    721\u001b[0m \u001b[0;34m\u001b[0m\u001b[0m\n\u001b[1;32m    722\u001b[0m         codes, uniques = factorize_array(\n\u001b[0;32m--> 723\u001b[0;31m             \u001b[0mvalues\u001b[0m\u001b[0;34m,\u001b[0m \u001b[0mna_sentinel\u001b[0m\u001b[0;34m=\u001b[0m\u001b[0mna_sentinel\u001b[0m\u001b[0;34m,\u001b[0m \u001b[0msize_hint\u001b[0m\u001b[0;34m=\u001b[0m\u001b[0msize_hint\u001b[0m\u001b[0;34m,\u001b[0m \u001b[0mna_value\u001b[0m\u001b[0;34m=\u001b[0m\u001b[0mna_value\u001b[0m\u001b[0;34m\u001b[0m\u001b[0;34m\u001b[0m\u001b[0m\n\u001b[0m\u001b[1;32m    724\u001b[0m         )\n\u001b[1;32m    725\u001b[0m \u001b[0;34m\u001b[0m\u001b[0m\n",
      "\u001b[0;32m~/anaconda3/lib/python3.7/site-packages/pandas/core/algorithms.py\u001b[0m in \u001b[0;36mfactorize_array\u001b[0;34m(values, na_sentinel, size_hint, na_value, mask)\u001b[0m\n\u001b[1;32m    527\u001b[0m     \u001b[0mtable\u001b[0m \u001b[0;34m=\u001b[0m \u001b[0mhash_klass\u001b[0m\u001b[0;34m(\u001b[0m\u001b[0msize_hint\u001b[0m \u001b[0;32mor\u001b[0m \u001b[0mlen\u001b[0m\u001b[0;34m(\u001b[0m\u001b[0mvalues\u001b[0m\u001b[0;34m)\u001b[0m\u001b[0;34m)\u001b[0m\u001b[0;34m\u001b[0m\u001b[0;34m\u001b[0m\u001b[0m\n\u001b[1;32m    528\u001b[0m     uniques, codes = table.factorize(\n\u001b[0;32m--> 529\u001b[0;31m         \u001b[0mvalues\u001b[0m\u001b[0;34m,\u001b[0m \u001b[0mna_sentinel\u001b[0m\u001b[0;34m=\u001b[0m\u001b[0mna_sentinel\u001b[0m\u001b[0;34m,\u001b[0m \u001b[0mna_value\u001b[0m\u001b[0;34m=\u001b[0m\u001b[0mna_value\u001b[0m\u001b[0;34m,\u001b[0m \u001b[0mmask\u001b[0m\u001b[0;34m=\u001b[0m\u001b[0mmask\u001b[0m\u001b[0;34m\u001b[0m\u001b[0;34m\u001b[0m\u001b[0m\n\u001b[0m\u001b[1;32m    530\u001b[0m     )\n\u001b[1;32m    531\u001b[0m \u001b[0;34m\u001b[0m\u001b[0m\n",
      "\u001b[0;32mpandas/_libs/hashtable_class_helper.pxi\u001b[0m in \u001b[0;36mpandas._libs.hashtable.PyObjectHashTable.factorize\u001b[0;34m()\u001b[0m\n",
      "\u001b[0;32mpandas/_libs/hashtable_class_helper.pxi\u001b[0m in \u001b[0;36mpandas._libs.hashtable.PyObjectHashTable._unique\u001b[0;34m()\u001b[0m\n",
      "\u001b[0;32m~/anaconda3/lib/python3.7/site-packages/pandas/core/generic.py\u001b[0m in \u001b[0;36m__hash__\u001b[0;34m(self)\u001b[0m\n\u001b[1;32m   1783\u001b[0m     \u001b[0;32mdef\u001b[0m \u001b[0m__hash__\u001b[0m\u001b[0;34m(\u001b[0m\u001b[0mself\u001b[0m\u001b[0;34m)\u001b[0m \u001b[0;34m->\u001b[0m \u001b[0mint\u001b[0m\u001b[0;34m:\u001b[0m\u001b[0;34m\u001b[0m\u001b[0;34m\u001b[0m\u001b[0m\n\u001b[1;32m   1784\u001b[0m         raise TypeError(\n\u001b[0;32m-> 1785\u001b[0;31m             \u001b[0;34mf\"{repr(type(self).__name__)} objects are mutable, \"\u001b[0m\u001b[0;34m\u001b[0m\u001b[0;34m\u001b[0m\u001b[0m\n\u001b[0m\u001b[1;32m   1786\u001b[0m             \u001b[0;34mf\"thus they cannot be hashed\"\u001b[0m\u001b[0;34m\u001b[0m\u001b[0;34m\u001b[0m\u001b[0m\n\u001b[1;32m   1787\u001b[0m         )\n",
      "\u001b[0;31mTypeError\u001b[0m: 'DataFrame' objects are mutable, thus they cannot be hashed"
     ]
    }
   ],
   "source": [
    "table=pd.crosstab(common_de_new.sample,common_de_new.Pathway)\n",
    "table.div(table.sum(1).astype(float), axis=0).plot(kind='bar', stacked=True,color=color_dict)\n",
    "plt.ylabel('Proportion of pathways')"
   ]
  },
  {
   "cell_type": "markdown",
   "id": "brief-longer",
   "metadata": {},
   "source": [
    "Data from notebook 23.improve*"
   ]
  },
  {
   "cell_type": "code",
   "execution_count": 33,
   "id": "floating-diamond",
   "metadata": {},
   "outputs": [],
   "source": [
    "%store -r common_de_fil"
   ]
  },
  {
   "cell_type": "code",
   "execution_count": 52,
   "id": "superb-switch",
   "metadata": {},
   "outputs": [],
   "source": [
    "keep_samples =['BRCA','KICH','PRAD','STAD','KIRP']"
   ]
  },
  {
   "cell_type": "code",
   "execution_count": 39,
   "id": "inappropriate-conjunction",
   "metadata": {},
   "outputs": [
    {
     "data": {
      "text/plain": [
       "Index(['score', 'logFC', 'sample', 'proximal_cancer_driver',\n",
       "       'proximal_drug_target', 'promoter_methylated',\n",
       "       'negative_correlated_methylation', 'positive_correlated_methylation',\n",
       "       'types', 'Meth_Mean', 'sphase_mean_FC', 'mechanism', 'functional',\n",
       "       'clinical', 'y', 'risk_alelle_freq'],\n",
       "      dtype='object')"
      ]
     },
     "execution_count": 39,
     "metadata": {},
     "output_type": "execute_result"
    }
   ],
   "source": [
    "common_de_fil.columns"
   ]
  },
  {
   "cell_type": "code",
   "execution_count": 35,
   "id": "charged-parallel",
   "metadata": {
    "collapsed": true
   },
   "outputs": [
    {
     "data": {
      "text/plain": [
       "<AxesSubplot:ylabel='y'>"
      ]
     },
     "execution_count": 35,
     "metadata": {},
     "output_type": "execute_result"
    },
    {
     "data": {
      "image/png": "[encoded data removed]",
      "text/plain": [
       "<Figure size 432x288 with 1 Axes>"
      ]
     },
     "metadata": {
      "image/png": {
       "height": 231,
       "width": 245
      }
     },
     "output_type": "display_data"
    }
   ],
   "source": [
    "common_de_fil.y.value_counts().plot(kind='pie', autopct='%1.0f%%', colors=['skyblue', 'orange'],\n",
    "                                                      explode=(0.05, 0.05))"
   ]
  },
  {
   "cell_type": "markdown",
   "id": "floating-modeling",
   "metadata": {},
   "source": [
    "Selecting Mutual exclusive list of DE up and down lncRNAs"
   ]
  },
  {
   "cell_type": "code",
   "execution_count": 56,
   "id": "unknown-wonder",
   "metadata": {},
   "outputs": [],
   "source": [
    "common_DE_5samples = common_de_new[common_de_new['sample'].isin(keep_samples)]"
   ]
  },
  {
   "cell_type": "code",
   "execution_count": 2,
   "id": "greatest-monkey",
   "metadata": {
    "collapsed": true
   },
   "outputs": [
    {
     "ename": "NameError",
     "evalue": "name 'common_DE_5samples' is not defined",
     "output_type": "error",
     "traceback": [
      "\u001b[0;31m---------------------------------------------------------------------------\u001b[0m",
      "\u001b[0;31mNameError\u001b[0m                                 Traceback (most recent call last)",
      "\u001b[0;32m<ipython-input-2-9fc02f7b4d37>\u001b[0m in \u001b[0;36m<module>\u001b[0;34m\u001b[0m\n\u001b[0;32m----> 1\u001b[0;31m \u001b[0mcommon_DE_5samples\u001b[0m\u001b[0;34m\u001b[0m\u001b[0;34m\u001b[0m\u001b[0m\n\u001b[0m",
      "\u001b[0;31mNameError\u001b[0m: name 'common_DE_5samples' is not defined"
     ]
    }
   ],
   "source": [
    "common_DE_5samples"
   ]
  },
  {
   "cell_type": "code",
   "execution_count": 58,
   "id": "challenging-barbados",
   "metadata": {},
   "outputs": [],
   "source": [
    "up_de_common   = common_DE_5samples.query('logFC>=0.58')\n",
    "down_de_common = common_DE_5samples.query('logFC<=-0.58')"
   ]
  },
  {
   "cell_type": "code",
   "execution_count": 59,
   "id": "japanese-moderator",
   "metadata": {},
   "outputs": [],
   "source": [
    "common_DE_5samples_up_down = pd.merge(down_de_common,up_de_common, on='gene_sym', how='outer', indicator=True,suffixes=('_up','_down'))"
   ]
  },
  {
   "cell_type": "code",
   "execution_count": 60,
   "id": "lasting-helmet",
   "metadata": {},
   "outputs": [
    {
     "data": {
      "text/plain": [
       "(1123,)"
      ]
     },
     "execution_count": 60,
     "metadata": {},
     "output_type": "execute_result"
    }
   ],
   "source": [
    "up_alone      = common_DE_5samples_up_down.query('_merge==\"left_only\"')\n",
    "down_alone    = common_DE_5samples_up_down.query('_merge==\"right_only\"')\n",
    "both_de       = common_DE_5samples_up_down.query('_merge==\"both\"')\n",
    "upalone_list  = up_alone.gene_sym.drop_duplicates().tolist()\n",
    "downalone_list = down_alone.gene_sym.drop_duplicates().tolist()\n",
    "both_de.gene_sym.drop_duplicates().shape"
   ]
  },
  {
   "cell_type": "code",
   "execution_count": 61,
   "id": "muslim-lexington",
   "metadata": {},
   "outputs": [],
   "source": [
    "up_down_alone = downalone_list + upalone_list"
   ]
  },
  {
   "cell_type": "code",
   "execution_count": 62,
   "id": "ranging-rates",
   "metadata": {},
   "outputs": [],
   "source": [
    "common_de_new_down_alone    = common_de_new[common_de_new['gene_sym'].isin(downalone_list)]\n",
    "common_de_new_up_alone      = common_de_new[common_de_new['gene_sym'].isin(upalone_list)]\n",
    "common_de_new_up_down_alone = common_de_new[common_de_new['gene_sym'].isin(up_down_alone)]"
   ]
  },
  {
   "cell_type": "code",
   "execution_count": 63,
   "id": "genuine-context",
   "metadata": {},
   "outputs": [],
   "source": [
    "common_de_new_up_down_alone_BRCA =common_de_new_up_down_alone.query('sample ==\"BRCA\"')"
   ]
  },
  {
   "cell_type": "code",
   "execution_count": 64,
   "id": "threaded-andrews",
   "metadata": {
    "collapsed": true
   },
   "outputs": [
    {
     "data": {
      "text/html": [
       "<div>\n",
       "<style scoped>\n",
       "    .dataframe tbody tr th:only-of-type {\n",
       "        vertical-align: middle;\n",
       "    }\n",
       "\n",
       "    .dataframe tbody tr th {\n",
       "        vertical-align: top;\n",
       "    }\n",
       "\n",
       "    .dataframe thead th {\n",
       "        text-align: right;\n",
       "    }\n",
       "</style>\n",
       "<table border=\"1\" class=\"dataframe\">\n",
       "  <thead>\n",
       "    <tr style=\"text-align: right;\">\n",
       "      <th></th>\n",
       "      <th>gene_sym</th>\n",
       "      <th>proximal_cancer_driver</th>\n",
       "      <th>proximal_drug_target</th>\n",
       "      <th>triplex</th>\n",
       "      <th>promoter_methylated</th>\n",
       "      <th>negative_correlated_methylation</th>\n",
       "      <th>positive_correlated_methylation</th>\n",
       "      <th>sample</th>\n",
       "      <th>risk_alelle_freq</th>\n",
       "      <th>EZH2</th>\n",
       "      <th>H3K27</th>\n",
       "      <th>types</th>\n",
       "      <th>Meth_Mean</th>\n",
       "      <th>logFC</th>\n",
       "      <th>Pathway</th>\n",
       "      <th>pathway_y</th>\n",
       "    </tr>\n",
       "  </thead>\n",
       "  <tbody>\n",
       "    <tr>\n",
       "      <th>9</th>\n",
       "      <td>A2M-AS1</td>\n",
       "      <td>unknown</td>\n",
       "      <td>unknown</td>\n",
       "      <td>unknown</td>\n",
       "      <td>unknown</td>\n",
       "      <td>unknown</td>\n",
       "      <td>unknown</td>\n",
       "      <td>BRCA</td>\n",
       "      <td>NaN</td>\n",
       "      <td>NaN</td>\n",
       "      <td>NaN</td>\n",
       "      <td>unknown</td>\n",
       "      <td>NaN</td>\n",
       "      <td>-1.307162</td>\n",
       "      <td>unknown</td>\n",
       "      <td>0</td>\n",
       "    </tr>\n",
       "    <tr>\n",
       "      <th>23</th>\n",
       "      <td>ABALON</td>\n",
       "      <td>unknown</td>\n",
       "      <td>unknown</td>\n",
       "      <td>unknown</td>\n",
       "      <td>unknown</td>\n",
       "      <td>unknown</td>\n",
       "      <td>unknown</td>\n",
       "      <td>BRCA</td>\n",
       "      <td>NaN</td>\n",
       "      <td>NaN</td>\n",
       "      <td>NaN</td>\n",
       "      <td>unknown</td>\n",
       "      <td>NaN</td>\n",
       "      <td>0.668899</td>\n",
       "      <td>unknown</td>\n",
       "      <td>0</td>\n",
       "    </tr>\n",
       "    <tr>\n",
       "      <th>87</th>\n",
       "      <td>AC002116.2</td>\n",
       "      <td>unknown</td>\n",
       "      <td>unknown</td>\n",
       "      <td>unknown</td>\n",
       "      <td>unknown</td>\n",
       "      <td>unknown</td>\n",
       "      <td>unknown</td>\n",
       "      <td>BRCA</td>\n",
       "      <td>NaN</td>\n",
       "      <td>NaN</td>\n",
       "      <td>NaN</td>\n",
       "      <td>unknown</td>\n",
       "      <td>NaN</td>\n",
       "      <td>0.977489</td>\n",
       "      <td>unknown</td>\n",
       "      <td>0</td>\n",
       "    </tr>\n",
       "    <tr>\n",
       "      <th>97</th>\n",
       "      <td>AC002128.1</td>\n",
       "      <td>unknown</td>\n",
       "      <td>unknown</td>\n",
       "      <td>unknown</td>\n",
       "      <td>unknown</td>\n",
       "      <td>unknown</td>\n",
       "      <td>unknown</td>\n",
       "      <td>BRCA</td>\n",
       "      <td>NaN</td>\n",
       "      <td>NaN</td>\n",
       "      <td>NaN</td>\n",
       "      <td>unknown</td>\n",
       "      <td>NaN</td>\n",
       "      <td>0.583788</td>\n",
       "      <td>unknown</td>\n",
       "      <td>0</td>\n",
       "    </tr>\n",
       "    <tr>\n",
       "      <th>114</th>\n",
       "      <td>AC002398.1</td>\n",
       "      <td>unknown</td>\n",
       "      <td>unknown</td>\n",
       "      <td>unknown</td>\n",
       "      <td>unknown</td>\n",
       "      <td>unknown</td>\n",
       "      <td>unknown</td>\n",
       "      <td>BRCA</td>\n",
       "      <td>NaN</td>\n",
       "      <td>NaN</td>\n",
       "      <td>NaN</td>\n",
       "      <td>unknown</td>\n",
       "      <td>NaN</td>\n",
       "      <td>0.714649</td>\n",
       "      <td>unknown</td>\n",
       "      <td>0</td>\n",
       "    </tr>\n",
       "    <tr>\n",
       "      <th>...</th>\n",
       "      <td>...</td>\n",
       "      <td>...</td>\n",
       "      <td>...</td>\n",
       "      <td>...</td>\n",
       "      <td>...</td>\n",
       "      <td>...</td>\n",
       "      <td>...</td>\n",
       "      <td>...</td>\n",
       "      <td>...</td>\n",
       "      <td>...</td>\n",
       "      <td>...</td>\n",
       "      <td>...</td>\n",
       "      <td>...</td>\n",
       "      <td>...</td>\n",
       "      <td>...</td>\n",
       "      <td>...</td>\n",
       "    </tr>\n",
       "    <tr>\n",
       "      <th>42811</th>\n",
       "      <td>ZNF426-DT</td>\n",
       "      <td>unknown</td>\n",
       "      <td>unknown</td>\n",
       "      <td>unknown</td>\n",
       "      <td>unknown</td>\n",
       "      <td>unknown</td>\n",
       "      <td>unknown</td>\n",
       "      <td>BRCA</td>\n",
       "      <td>NaN</td>\n",
       "      <td>NaN</td>\n",
       "      <td>NaN</td>\n",
       "      <td>unknown</td>\n",
       "      <td>NaN</td>\n",
       "      <td>-0.744261</td>\n",
       "      <td>unknown</td>\n",
       "      <td>0</td>\n",
       "    </tr>\n",
       "    <tr>\n",
       "      <th>42822</th>\n",
       "      <td>ZNF503-AS1</td>\n",
       "      <td>unknown</td>\n",
       "      <td>unknown</td>\n",
       "      <td>unknown</td>\n",
       "      <td>unknown</td>\n",
       "      <td>unknown</td>\n",
       "      <td>unknown</td>\n",
       "      <td>BRCA</td>\n",
       "      <td>NaN</td>\n",
       "      <td>NaN</td>\n",
       "      <td>NaN</td>\n",
       "      <td>unknown</td>\n",
       "      <td>NaN</td>\n",
       "      <td>-1.168064</td>\n",
       "      <td>unknown</td>\n",
       "      <td>0</td>\n",
       "    </tr>\n",
       "    <tr>\n",
       "      <th>42837</th>\n",
       "      <td>ZNF582-AS1</td>\n",
       "      <td>unknown</td>\n",
       "      <td>unknown</td>\n",
       "      <td>unknown</td>\n",
       "      <td>unknown</td>\n",
       "      <td>unknown</td>\n",
       "      <td>unknown</td>\n",
       "      <td>BRCA</td>\n",
       "      <td>NaN</td>\n",
       "      <td>NaN</td>\n",
       "      <td>NaN</td>\n",
       "      <td>unknown</td>\n",
       "      <td>NaN</td>\n",
       "      <td>-1.154551</td>\n",
       "      <td>unknown</td>\n",
       "      <td>0</td>\n",
       "    </tr>\n",
       "    <tr>\n",
       "      <th>42847</th>\n",
       "      <td>ZNF667-AS1</td>\n",
       "      <td>unknown</td>\n",
       "      <td>unknown</td>\n",
       "      <td>unknown</td>\n",
       "      <td>unknown</td>\n",
       "      <td>unknown</td>\n",
       "      <td>unknown</td>\n",
       "      <td>BRCA</td>\n",
       "      <td>NaN</td>\n",
       "      <td>NaN</td>\n",
       "      <td>NaN</td>\n",
       "      <td>unknown</td>\n",
       "      <td>NaN</td>\n",
       "      <td>-1.212904</td>\n",
       "      <td>unknown</td>\n",
       "      <td>0</td>\n",
       "    </tr>\n",
       "    <tr>\n",
       "      <th>42856</th>\n",
       "      <td>ZNF687-AS1</td>\n",
       "      <td>unknown</td>\n",
       "      <td>unknown</td>\n",
       "      <td>unknown</td>\n",
       "      <td>unknown</td>\n",
       "      <td>unknown</td>\n",
       "      <td>unknown</td>\n",
       "      <td>BRCA</td>\n",
       "      <td>NaN</td>\n",
       "      <td>NaN</td>\n",
       "      <td>NaN</td>\n",
       "      <td>unknown</td>\n",
       "      <td>NaN</td>\n",
       "      <td>1.008246</td>\n",
       "      <td>unknown</td>\n",
       "      <td>0</td>\n",
       "    </tr>\n",
       "  </tbody>\n",
       "</table>\n",
       "<p>3042 rows × 16 columns</p>\n",
       "</div>"
      ],
      "text/plain": [
       "         gene_sym proximal_cancer_driver proximal_drug_target  triplex  \\\n",
       "9         A2M-AS1                unknown              unknown  unknown   \n",
       "23         ABALON                unknown              unknown  unknown   \n",
       "87     AC002116.2                unknown              unknown  unknown   \n",
       "97     AC002128.1                unknown              unknown  unknown   \n",
       "114    AC002398.1                unknown              unknown  unknown   \n",
       "...           ...                    ...                  ...      ...   \n",
       "42811   ZNF426-DT                unknown              unknown  unknown   \n",
       "42822  ZNF503-AS1                unknown              unknown  unknown   \n",
       "42837  ZNF582-AS1                unknown              unknown  unknown   \n",
       "42847  ZNF667-AS1                unknown              unknown  unknown   \n",
       "42856  ZNF687-AS1                unknown              unknown  unknown   \n",
       "\n",
       "      promoter_methylated negative_correlated_methylation  \\\n",
       "9                 unknown                         unknown   \n",
       "23                unknown                         unknown   \n",
       "87                unknown                         unknown   \n",
       "97                unknown                         unknown   \n",
       "114               unknown                         unknown   \n",
       "...                   ...                             ...   \n",
       "42811             unknown                         unknown   \n",
       "42822             unknown                         unknown   \n",
       "42837             unknown                         unknown   \n",
       "42847             unknown                         unknown   \n",
       "42856             unknown                         unknown   \n",
       "\n",
       "      positive_correlated_methylation sample  risk_alelle_freq  EZH2  H3K27  \\\n",
       "9                             unknown   BRCA               NaN   NaN    NaN   \n",
       "23                            unknown   BRCA               NaN   NaN    NaN   \n",
       "87                            unknown   BRCA               NaN   NaN    NaN   \n",
       "97                            unknown   BRCA               NaN   NaN    NaN   \n",
       "114                           unknown   BRCA               NaN   NaN    NaN   \n",
       "...                               ...    ...               ...   ...    ...   \n",
       "42811                         unknown   BRCA               NaN   NaN    NaN   \n",
       "42822                         unknown   BRCA               NaN   NaN    NaN   \n",
       "42837                         unknown   BRCA               NaN   NaN    NaN   \n",
       "42847                         unknown   BRCA               NaN   NaN    NaN   \n",
       "42856                         unknown   BRCA               NaN   NaN    NaN   \n",
       "\n",
       "         types  Meth_Mean     logFC  Pathway  pathway_y  \n",
       "9      unknown        NaN -1.307162  unknown          0  \n",
       "23     unknown        NaN  0.668899  unknown          0  \n",
       "87     unknown        NaN  0.977489  unknown          0  \n",
       "97     unknown        NaN  0.583788  unknown          0  \n",
       "114    unknown        NaN  0.714649  unknown          0  \n",
       "...        ...        ...       ...      ...        ...  \n",
       "42811  unknown        NaN -0.744261  unknown          0  \n",
       "42822  unknown        NaN -1.168064  unknown          0  \n",
       "42837  unknown        NaN -1.154551  unknown          0  \n",
       "42847  unknown        NaN -1.212904  unknown          0  \n",
       "42856  unknown        NaN  1.008246  unknown          0  \n",
       "\n",
       "[3042 rows x 16 columns]"
      ]
     },
     "execution_count": 64,
     "metadata": {},
     "output_type": "execute_result"
    }
   ],
   "source": [
    "common_de_new_up_down_alone_BRCA"
   ]
  },
  {
   "cell_type": "code",
   "execution_count": 45,
   "id": "eastern-nightmare",
   "metadata": {
    "collapsed": true
   },
   "outputs": [
    {
     "data": {
      "text/plain": [
       "<AxesSubplot:ylabel='y'>"
      ]
     },
     "execution_count": 45,
     "metadata": {},
     "output_type": "execute_result"
    },
    {
     "data": {
      "image/png": "[encoded data removed]",
      "text/plain": [
       "<Figure size 432x288 with 1 Axes>"
      ]
     },
     "metadata": {
      "image/png": {
       "height": 231,
       "width": 245
      }
     },
     "output_type": "display_data"
    }
   ],
   "source": [
    "BRCA.y.value_counts().plot(kind='pie', autopct='%1.0f%%', colors=['skyblue', 'orange'],\n",
    "                                                      explode=(0.05, 0.05))"
   ]
  },
  {
   "cell_type": "markdown",
   "id": "passing-minimum",
   "metadata": {},
   "source": [
    "Pie chart for pathways and no pathways percentage"
   ]
  },
  {
   "cell_type": "code",
   "execution_count": 349,
   "id": "comic-russia",
   "metadata": {
    "collapsed": true
   },
   "outputs": [
    {
     "data": {
      "text/plain": [
       "<AxesSubplot:ylabel='pathway_y'>"
      ]
     },
     "execution_count": 349,
     "metadata": {},
     "output_type": "execute_result"
    },
    {
     "data": {
      "image/png": "[encoded data removed]",
      "text/plain": [
       "<Figure size 432x288 with 1 Axes>"
      ]
     },
     "metadata": {
      "image/png": {
       "height": 231,
       "width": 245
      }
     },
     "output_type": "display_data"
    }
   ],
   "source": [
    "common_de_new.pathway_y.value_counts().plot(kind='pie', autopct='%1.0f%%', colors=['skyblue', 'orange'],\n",
    "                                                      explode=(0.05, 0.05))"
   ]
  },
  {
   "cell_type": "code",
   "execution_count": 142,
   "id": "steady-lawsuit",
   "metadata": {
    "collapsed": true
   },
   "outputs": [
    {
     "data": {
      "text/html": [
       "<div>\n",
       "<style scoped>\n",
       "    .dataframe tbody tr th:only-of-type {\n",
       "        vertical-align: middle;\n",
       "    }\n",
       "\n",
       "    .dataframe tbody tr th {\n",
       "        vertical-align: top;\n",
       "    }\n",
       "\n",
       "    .dataframe thead th {\n",
       "        text-align: right;\n",
       "    }\n",
       "</style>\n",
       "<table border=\"1\" class=\"dataframe\">\n",
       "  <thead>\n",
       "    <tr style=\"text-align: right;\">\n",
       "      <th></th>\n",
       "      <th>gene_sym</th>\n",
       "      <th>proximal_cancer_driver</th>\n",
       "      <th>proximal_drug_target</th>\n",
       "      <th>triplex</th>\n",
       "      <th>promoter_methylated</th>\n",
       "      <th>negative_correlated_methylation</th>\n",
       "      <th>positive_correlated_methylation</th>\n",
       "      <th>sample</th>\n",
       "      <th>risk_alelle_freq</th>\n",
       "      <th>EZH2</th>\n",
       "      <th>H3K27</th>\n",
       "      <th>types</th>\n",
       "      <th>Meth_Mean</th>\n",
       "      <th>logFC</th>\n",
       "      <th>Pathway</th>\n",
       "      <th>pathway_y</th>\n",
       "    </tr>\n",
       "  </thead>\n",
       "  <tbody>\n",
       "    <tr>\n",
       "      <th>0</th>\n",
       "      <td>A1BG-AS1</td>\n",
       "      <td>unknown</td>\n",
       "      <td>unknown</td>\n",
       "      <td>unknown</td>\n",
       "      <td>unknown</td>\n",
       "      <td>unknown</td>\n",
       "      <td>unknown</td>\n",
       "      <td>COAD</td>\n",
       "      <td>0.0</td>\n",
       "      <td>0.0</td>\n",
       "      <td>0.0</td>\n",
       "      <td>unknown</td>\n",
       "      <td>0.0</td>\n",
       "      <td>-1.277354</td>\n",
       "      <td>unknown</td>\n",
       "      <td>0</td>\n",
       "    </tr>\n",
       "    <tr>\n",
       "      <th>1</th>\n",
       "      <td>A1BG-AS1</td>\n",
       "      <td>unknown</td>\n",
       "      <td>unknown</td>\n",
       "      <td>unknown</td>\n",
       "      <td>unknown</td>\n",
       "      <td>unknown</td>\n",
       "      <td>unknown</td>\n",
       "      <td>HNSC</td>\n",
       "      <td>0.0</td>\n",
       "      <td>0.0</td>\n",
       "      <td>0.0</td>\n",
       "      <td>unknown</td>\n",
       "      <td>0.0</td>\n",
       "      <td>0.988639</td>\n",
       "      <td>unknown</td>\n",
       "      <td>0</td>\n",
       "    </tr>\n",
       "    <tr>\n",
       "      <th>2</th>\n",
       "      <td>A1BG-AS1</td>\n",
       "      <td>unknown</td>\n",
       "      <td>unknown</td>\n",
       "      <td>unknown</td>\n",
       "      <td>unknown</td>\n",
       "      <td>unknown</td>\n",
       "      <td>unknown</td>\n",
       "      <td>KICH</td>\n",
       "      <td>0.0</td>\n",
       "      <td>0.0</td>\n",
       "      <td>0.0</td>\n",
       "      <td>unknown</td>\n",
       "      <td>0.0</td>\n",
       "      <td>-1.049325</td>\n",
       "      <td>unknown</td>\n",
       "      <td>0</td>\n",
       "    </tr>\n",
       "    <tr>\n",
       "      <th>3</th>\n",
       "      <td>A1BG-AS1</td>\n",
       "      <td>unknown</td>\n",
       "      <td>unknown</td>\n",
       "      <td>unknown</td>\n",
       "      <td>unknown</td>\n",
       "      <td>unknown</td>\n",
       "      <td>unknown</td>\n",
       "      <td>LIHC</td>\n",
       "      <td>0.0</td>\n",
       "      <td>0.0</td>\n",
       "      <td>0.0</td>\n",
       "      <td>unknown</td>\n",
       "      <td>0.0</td>\n",
       "      <td>-0.772376</td>\n",
       "      <td>unknown</td>\n",
       "      <td>0</td>\n",
       "    </tr>\n",
       "    <tr>\n",
       "      <th>4</th>\n",
       "      <td>A1BG-AS1</td>\n",
       "      <td>unknown</td>\n",
       "      <td>unknown</td>\n",
       "      <td>unknown</td>\n",
       "      <td>unknown</td>\n",
       "      <td>unknown</td>\n",
       "      <td>unknown</td>\n",
       "      <td>LUAD</td>\n",
       "      <td>0.0</td>\n",
       "      <td>0.0</td>\n",
       "      <td>0.0</td>\n",
       "      <td>unknown</td>\n",
       "      <td>0.0</td>\n",
       "      <td>-0.581519</td>\n",
       "      <td>unknown</td>\n",
       "      <td>0</td>\n",
       "    </tr>\n",
       "    <tr>\n",
       "      <th>...</th>\n",
       "      <td>...</td>\n",
       "      <td>...</td>\n",
       "      <td>...</td>\n",
       "      <td>...</td>\n",
       "      <td>...</td>\n",
       "      <td>...</td>\n",
       "      <td>...</td>\n",
       "      <td>...</td>\n",
       "      <td>...</td>\n",
       "      <td>...</td>\n",
       "      <td>...</td>\n",
       "      <td>...</td>\n",
       "      <td>...</td>\n",
       "      <td>...</td>\n",
       "      <td>...</td>\n",
       "      <td>...</td>\n",
       "    </tr>\n",
       "    <tr>\n",
       "      <th>31138</th>\n",
       "      <td>ZSCAN16-AS1</td>\n",
       "      <td>unknown</td>\n",
       "      <td>unknown</td>\n",
       "      <td>unknown</td>\n",
       "      <td>unknown</td>\n",
       "      <td>unknown</td>\n",
       "      <td>unknown</td>\n",
       "      <td>COAD</td>\n",
       "      <td>0.0</td>\n",
       "      <td>0.0</td>\n",
       "      <td>0.0</td>\n",
       "      <td>unknown</td>\n",
       "      <td>0.0</td>\n",
       "      <td>-0.670712</td>\n",
       "      <td>unknown</td>\n",
       "      <td>0</td>\n",
       "    </tr>\n",
       "    <tr>\n",
       "      <th>31139</th>\n",
       "      <td>ZSCAN16-AS1</td>\n",
       "      <td>unknown</td>\n",
       "      <td>unknown</td>\n",
       "      <td>unknown</td>\n",
       "      <td>unknown</td>\n",
       "      <td>unknown</td>\n",
       "      <td>unknown</td>\n",
       "      <td>KICH</td>\n",
       "      <td>0.0</td>\n",
       "      <td>0.0</td>\n",
       "      <td>0.0</td>\n",
       "      <td>unknown</td>\n",
       "      <td>0.0</td>\n",
       "      <td>-0.968157</td>\n",
       "      <td>unknown</td>\n",
       "      <td>0</td>\n",
       "    </tr>\n",
       "    <tr>\n",
       "      <th>31140</th>\n",
       "      <td>ZSCAN16-AS1</td>\n",
       "      <td>unknown</td>\n",
       "      <td>unknown</td>\n",
       "      <td>unknown</td>\n",
       "      <td>unknown</td>\n",
       "      <td>unknown</td>\n",
       "      <td>unknown</td>\n",
       "      <td>KIRC</td>\n",
       "      <td>0.0</td>\n",
       "      <td>0.0</td>\n",
       "      <td>0.0</td>\n",
       "      <td>unknown</td>\n",
       "      <td>0.0</td>\n",
       "      <td>-0.778585</td>\n",
       "      <td>unknown</td>\n",
       "      <td>0</td>\n",
       "    </tr>\n",
       "    <tr>\n",
       "      <th>31141</th>\n",
       "      <td>ZSCAN16-AS1</td>\n",
       "      <td>unknown</td>\n",
       "      <td>unknown</td>\n",
       "      <td>unknown</td>\n",
       "      <td>unknown</td>\n",
       "      <td>unknown</td>\n",
       "      <td>unknown</td>\n",
       "      <td>LUAD</td>\n",
       "      <td>0.0</td>\n",
       "      <td>0.0</td>\n",
       "      <td>0.0</td>\n",
       "      <td>unknown</td>\n",
       "      <td>0.0</td>\n",
       "      <td>-0.642760</td>\n",
       "      <td>unknown</td>\n",
       "      <td>0</td>\n",
       "    </tr>\n",
       "    <tr>\n",
       "      <th>31142</th>\n",
       "      <td>ZSCAN16-AS1</td>\n",
       "      <td>unknown</td>\n",
       "      <td>unknown</td>\n",
       "      <td>unknown</td>\n",
       "      <td>unknown</td>\n",
       "      <td>unknown</td>\n",
       "      <td>unknown</td>\n",
       "      <td>STAD</td>\n",
       "      <td>0.0</td>\n",
       "      <td>0.0</td>\n",
       "      <td>0.0</td>\n",
       "      <td>unknown</td>\n",
       "      <td>0.0</td>\n",
       "      <td>-1.000631</td>\n",
       "      <td>unknown</td>\n",
       "      <td>0</td>\n",
       "    </tr>\n",
       "  </tbody>\n",
       "</table>\n",
       "<p>23424 rows × 16 columns</p>\n",
       "</div>"
      ],
      "text/plain": [
       "          gene_sym proximal_cancer_driver proximal_drug_target  triplex  \\\n",
       "0         A1BG-AS1                unknown              unknown  unknown   \n",
       "1         A1BG-AS1                unknown              unknown  unknown   \n",
       "2         A1BG-AS1                unknown              unknown  unknown   \n",
       "3         A1BG-AS1                unknown              unknown  unknown   \n",
       "4         A1BG-AS1                unknown              unknown  unknown   \n",
       "...            ...                    ...                  ...      ...   \n",
       "31138  ZSCAN16-AS1                unknown              unknown  unknown   \n",
       "31139  ZSCAN16-AS1                unknown              unknown  unknown   \n",
       "31140  ZSCAN16-AS1                unknown              unknown  unknown   \n",
       "31141  ZSCAN16-AS1                unknown              unknown  unknown   \n",
       "31142  ZSCAN16-AS1                unknown              unknown  unknown   \n",
       "\n",
       "      promoter_methylated negative_correlated_methylation  \\\n",
       "0                 unknown                         unknown   \n",
       "1                 unknown                         unknown   \n",
       "2                 unknown                         unknown   \n",
       "3                 unknown                         unknown   \n",
       "4                 unknown                         unknown   \n",
       "...                   ...                             ...   \n",
       "31138             unknown                         unknown   \n",
       "31139             unknown                         unknown   \n",
       "31140             unknown                         unknown   \n",
       "31141             unknown                         unknown   \n",
       "31142             unknown                         unknown   \n",
       "\n",
       "      positive_correlated_methylation sample  risk_alelle_freq  EZH2  H3K27  \\\n",
       "0                             unknown   COAD               0.0   0.0    0.0   \n",
       "1                             unknown   HNSC               0.0   0.0    0.0   \n",
       "2                             unknown   KICH               0.0   0.0    0.0   \n",
       "3                             unknown   LIHC               0.0   0.0    0.0   \n",
       "4                             unknown   LUAD               0.0   0.0    0.0   \n",
       "...                               ...    ...               ...   ...    ...   \n",
       "31138                         unknown   COAD               0.0   0.0    0.0   \n",
       "31139                         unknown   KICH               0.0   0.0    0.0   \n",
       "31140                         unknown   KIRC               0.0   0.0    0.0   \n",
       "31141                         unknown   LUAD               0.0   0.0    0.0   \n",
       "31142                         unknown   STAD               0.0   0.0    0.0   \n",
       "\n",
       "         types  Meth_Mean     logFC  Pathway  pathway_y  \n",
       "0      unknown        0.0 -1.277354  unknown          0  \n",
       "1      unknown        0.0  0.988639  unknown          0  \n",
       "2      unknown        0.0 -1.049325  unknown          0  \n",
       "3      unknown        0.0 -0.772376  unknown          0  \n",
       "4      unknown        0.0 -0.581519  unknown          0  \n",
       "...        ...        ...       ...      ...        ...  \n",
       "31138  unknown        0.0 -0.670712  unknown          0  \n",
       "31139  unknown        0.0 -0.968157  unknown          0  \n",
       "31140  unknown        0.0 -0.778585  unknown          0  \n",
       "31141  unknown        0.0 -0.642760  unknown          0  \n",
       "31142  unknown        0.0 -1.000631  unknown          0  \n",
       "\n",
       "[23424 rows x 16 columns]"
      ]
     },
     "execution_count": 142,
     "metadata": {},
     "output_type": "execute_result"
    }
   ],
   "source": [
    "common_de_new"
   ]
  },
  {
   "cell_type": "code",
   "execution_count": 18,
   "id": "guided-radar",
   "metadata": {},
   "outputs": [
    {
     "data": {
      "text/plain": [
       "(3340,)"
      ]
     },
     "execution_count": 18,
     "metadata": {},
     "output_type": "execute_result"
    }
   ],
   "source": [
    "common_DE_5samples.gene_sym.drop_duplicates().shape"
   ]
  },
  {
   "cell_type": "code",
   "execution_count": 19,
   "id": "chronic-kazakhstan",
   "metadata": {},
   "outputs": [
    {
     "data": {
      "text/plain": [
       "9359"
      ]
     },
     "execution_count": 19,
     "metadata": {},
     "output_type": "execute_result"
    }
   ],
   "source": [
    "count_no_pathway   = len(common_DE_5samples[common_DE_5samples['pathway_y']==0])\n",
    "count_pathway      = len(common_DE_5samples[common_DE_5samples['pathway_y']==1])\n",
    "count_pathway"
   ]
  },
  {
   "cell_type": "code",
   "execution_count": 20,
   "id": "amazing-windows",
   "metadata": {},
   "outputs": [
    {
     "name": "stdout",
     "output_type": "stream",
     "text": [
      "percentage of lncRNAs withoutpathway 54.98533019094801\n",
      "percentage of lncRNAs withpathway 45.014669809051995\n"
     ]
    },
    {
     "data": {
      "text/plain": [
       "(None, None)"
      ]
     },
     "execution_count": 20,
     "metadata": {},
     "output_type": "execute_result"
    }
   ],
   "source": [
    "percentage_calc(count_pathway,count_no_pathway,\"pathway\")"
   ]
  },
  {
   "cell_type": "markdown",
   "id": "under-combining",
   "metadata": {},
   "source": [
    "Runing the logistic regression model for up and down regulated lncRNAs seperately"
   ]
  },
  {
   "cell_type": "code",
   "execution_count": 65,
   "id": "mysterious-recycling",
   "metadata": {},
   "outputs": [
    {
     "data": {
      "image/png": "[encoded data removed]",
      "text/plain": [
       "<Figure size 432x288 with 1 Axes>"
      ]
     },
     "metadata": {
      "image/png": {
       "height": 262,
       "width": 395
      },
      "needs_background": "light"
     },
     "output_type": "display_data"
    },
    {
     "data": {
      "text/plain": [
       "<Figure size 432x288 with 0 Axes>"
      ]
     },
     "metadata": {},
     "output_type": "display_data"
    }
   ],
   "source": [
    "sns.countplot(data = down_de_common,x='pathway_y',palette='hls')\n",
    "plt.show()\n",
    "plt.savefig(\"down_de_5samples_pathway.png\")"
   ]
  },
  {
   "cell_type": "code",
   "execution_count": 76,
   "id": "designing-distribution",
   "metadata": {
    "collapsed": true
   },
   "outputs": [
    {
     "ename": "TypeError",
     "evalue": "'DataFrame' objects are mutable, thus they cannot be hashed",
     "output_type": "error",
     "traceback": [
      "\u001b[0;31m---------------------------------------------------------------------------\u001b[0m",
      "\u001b[0;31mTypeError\u001b[0m                                 Traceback (most recent call last)",
      "\u001b[0;32m<ipython-input-76-6fc6272741b8>\u001b[0m in \u001b[0;36m<module>\u001b[0;34m\u001b[0m\n\u001b[0;32m----> 1\u001b[0;31m \u001b[0mpd\u001b[0m\u001b[0;34m.\u001b[0m\u001b[0mcrosstab\u001b[0m\u001b[0;34m(\u001b[0m\u001b[0mdown_de_common\u001b[0m\u001b[0;34m.\u001b[0m\u001b[0msample\u001b[0m\u001b[0;34m,\u001b[0m\u001b[0mdown_de_common\u001b[0m\u001b[0;34m.\u001b[0m\u001b[0mPathway\u001b[0m\u001b[0;34m)\u001b[0m\u001b[0;34m.\u001b[0m\u001b[0mplot\u001b[0m\u001b[0;34m(\u001b[0m\u001b[0mkind\u001b[0m\u001b[0;34m=\u001b[0m\u001b[0;34m'bar'\u001b[0m\u001b[0;34m,\u001b[0m\u001b[0mcolor\u001b[0m\u001b[0;34m=\u001b[0m\u001b[0mcolor_dict\u001b[0m\u001b[0;34m)\u001b[0m\u001b[0;34m\u001b[0m\u001b[0;34m\u001b[0m\u001b[0m\n\u001b[0m\u001b[1;32m      2\u001b[0m \u001b[0mplt\u001b[0m\u001b[0;34m.\u001b[0m\u001b[0mtitle\u001b[0m\u001b[0;34m(\u001b[0m\u001b[0;34m'Pthways in down regulated lncRNAs '\u001b[0m\u001b[0;34m)\u001b[0m\u001b[0;34m\u001b[0m\u001b[0;34m\u001b[0m\u001b[0m\n\u001b[1;32m      3\u001b[0m \u001b[0mplt\u001b[0m\u001b[0;34m.\u001b[0m\u001b[0mxlabel\u001b[0m\u001b[0;34m(\u001b[0m\u001b[0;34m'triplex'\u001b[0m\u001b[0;34m)\u001b[0m\u001b[0;34m\u001b[0m\u001b[0;34m\u001b[0m\u001b[0m\n\u001b[1;32m      4\u001b[0m \u001b[0mplt\u001b[0m\u001b[0;34m.\u001b[0m\u001b[0mylabel\u001b[0m\u001b[0;34m(\u001b[0m\u001b[0;34m'Frequency of Pathway'\u001b[0m\u001b[0;34m)\u001b[0m\u001b[0;34m\u001b[0m\u001b[0;34m\u001b[0m\u001b[0m\n\u001b[1;32m      5\u001b[0m \u001b[0;31m#plt.title('Purchase Frequency for Job Title')\u001b[0m\u001b[0;34m\u001b[0m\u001b[0;34m\u001b[0m\u001b[0;34m\u001b[0m\u001b[0m\n",
      "\u001b[0;32m~/anaconda3/lib/python3.7/site-packages/pandas/core/reshape/pivot.py\u001b[0m in \u001b[0;36mcrosstab\u001b[0;34m(index, columns, values, rownames, colnames, aggfunc, margins, margins_name, dropna, normalize)\u001b[0m\n\u001b[1;32m    613\u001b[0m         \u001b[0mmargins_name\u001b[0m\u001b[0;34m=\u001b[0m\u001b[0mmargins_name\u001b[0m\u001b[0;34m,\u001b[0m\u001b[0;34m\u001b[0m\u001b[0;34m\u001b[0m\u001b[0m\n\u001b[1;32m    614\u001b[0m         \u001b[0mdropna\u001b[0m\u001b[0;34m=\u001b[0m\u001b[0mdropna\u001b[0m\u001b[0;34m,\u001b[0m\u001b[0;34m\u001b[0m\u001b[0;34m\u001b[0m\u001b[0m\n\u001b[0;32m--> 615\u001b[0;31m         \u001b[0;34m**\u001b[0m\u001b[0mkwargs\u001b[0m\u001b[0;34m,\u001b[0m\u001b[0;34m\u001b[0m\u001b[0;34m\u001b[0m\u001b[0m\n\u001b[0m\u001b[1;32m    616\u001b[0m     )\n\u001b[1;32m    617\u001b[0m \u001b[0;34m\u001b[0m\u001b[0m\n",
      "\u001b[0;32m~/anaconda3/lib/python3.7/site-packages/pandas/core/frame.py\u001b[0m in \u001b[0;36mpivot_table\u001b[0;34m(self, values, index, columns, aggfunc, fill_value, margins, dropna, margins_name, observed)\u001b[0m\n\u001b[1;32m   7036\u001b[0m             \u001b[0mdropna\u001b[0m\u001b[0;34m=\u001b[0m\u001b[0mdropna\u001b[0m\u001b[0;34m,\u001b[0m\u001b[0;34m\u001b[0m\u001b[0;34m\u001b[0m\u001b[0m\n\u001b[1;32m   7037\u001b[0m             \u001b[0mmargins_name\u001b[0m\u001b[0;34m=\u001b[0m\u001b[0mmargins_name\u001b[0m\u001b[0;34m,\u001b[0m\u001b[0;34m\u001b[0m\u001b[0;34m\u001b[0m\u001b[0m\n\u001b[0;32m-> 7038\u001b[0;31m             \u001b[0mobserved\u001b[0m\u001b[0;34m=\u001b[0m\u001b[0mobserved\u001b[0m\u001b[0;34m,\u001b[0m\u001b[0;34m\u001b[0m\u001b[0;34m\u001b[0m\u001b[0m\n\u001b[0m\u001b[1;32m   7039\u001b[0m         )\n\u001b[1;32m   7040\u001b[0m \u001b[0;34m\u001b[0m\u001b[0m\n",
      "\u001b[0;32m~/anaconda3/lib/python3.7/site-packages/pandas/core/reshape/pivot.py\u001b[0m in \u001b[0;36mpivot_table\u001b[0;34m(data, values, index, columns, aggfunc, fill_value, margins, dropna, margins_name, observed)\u001b[0m\n\u001b[1;32m    111\u001b[0m \u001b[0;34m\u001b[0m\u001b[0m\n\u001b[1;32m    112\u001b[0m     \u001b[0mgrouped\u001b[0m \u001b[0;34m=\u001b[0m \u001b[0mdata\u001b[0m\u001b[0;34m.\u001b[0m\u001b[0mgroupby\u001b[0m\u001b[0;34m(\u001b[0m\u001b[0mkeys\u001b[0m\u001b[0;34m,\u001b[0m \u001b[0mobserved\u001b[0m\u001b[0;34m=\u001b[0m\u001b[0mobserved\u001b[0m\u001b[0;34m)\u001b[0m\u001b[0;34m\u001b[0m\u001b[0;34m\u001b[0m\u001b[0m\n\u001b[0;32m--> 113\u001b[0;31m     \u001b[0magged\u001b[0m \u001b[0;34m=\u001b[0m \u001b[0mgrouped\u001b[0m\u001b[0;34m.\u001b[0m\u001b[0magg\u001b[0m\u001b[0;34m(\u001b[0m\u001b[0maggfunc\u001b[0m\u001b[0;34m)\u001b[0m\u001b[0;34m\u001b[0m\u001b[0;34m\u001b[0m\u001b[0m\n\u001b[0m\u001b[1;32m    114\u001b[0m     \u001b[0;32mif\u001b[0m \u001b[0mdropna\u001b[0m \u001b[0;32mand\u001b[0m \u001b[0misinstance\u001b[0m\u001b[0;34m(\u001b[0m\u001b[0magged\u001b[0m\u001b[0;34m,\u001b[0m \u001b[0mABCDataFrame\u001b[0m\u001b[0;34m)\u001b[0m \u001b[0;32mand\u001b[0m \u001b[0mlen\u001b[0m\u001b[0;34m(\u001b[0m\u001b[0magged\u001b[0m\u001b[0;34m.\u001b[0m\u001b[0mcolumns\u001b[0m\u001b[0;34m)\u001b[0m\u001b[0;34m:\u001b[0m\u001b[0;34m\u001b[0m\u001b[0;34m\u001b[0m\u001b[0m\n\u001b[1;32m    115\u001b[0m         \u001b[0magged\u001b[0m \u001b[0;34m=\u001b[0m \u001b[0magged\u001b[0m\u001b[0;34m.\u001b[0m\u001b[0mdropna\u001b[0m\u001b[0;34m(\u001b[0m\u001b[0mhow\u001b[0m\u001b[0;34m=\u001b[0m\u001b[0;34m\"all\"\u001b[0m\u001b[0;34m)\u001b[0m\u001b[0;34m\u001b[0m\u001b[0;34m\u001b[0m\u001b[0m\n",
      "\u001b[0;32m~/anaconda3/lib/python3.7/site-packages/pandas/core/groupby/generic.py\u001b[0m in \u001b[0;36maggregate\u001b[0;34m(self, func, engine, engine_kwargs, *args, **kwargs)\u001b[0m\n\u001b[1;32m    951\u001b[0m             \u001b[0;31m# grouper specific aggregations\u001b[0m\u001b[0;34m\u001b[0m\u001b[0;34m\u001b[0m\u001b[0;34m\u001b[0m\u001b[0m\n\u001b[1;32m    952\u001b[0m             \u001b[0;32mif\u001b[0m \u001b[0mself\u001b[0m\u001b[0;34m.\u001b[0m\u001b[0mgrouper\u001b[0m\u001b[0;34m.\u001b[0m\u001b[0mnkeys\u001b[0m \u001b[0;34m>\u001b[0m \u001b[0;36m1\u001b[0m\u001b[0;34m:\u001b[0m\u001b[0;34m\u001b[0m\u001b[0;34m\u001b[0m\u001b[0m\n\u001b[0;32m--> 953\u001b[0;31m                 \u001b[0;32mreturn\u001b[0m \u001b[0mself\u001b[0m\u001b[0;34m.\u001b[0m\u001b[0m_python_agg_general\u001b[0m\u001b[0;34m(\u001b[0m\u001b[0mfunc\u001b[0m\u001b[0;34m,\u001b[0m \u001b[0;34m*\u001b[0m\u001b[0margs\u001b[0m\u001b[0;34m,\u001b[0m \u001b[0;34m**\u001b[0m\u001b[0mkwargs\u001b[0m\u001b[0;34m)\u001b[0m\u001b[0;34m\u001b[0m\u001b[0;34m\u001b[0m\u001b[0m\n\u001b[0m\u001b[1;32m    954\u001b[0m             \u001b[0;32melif\u001b[0m \u001b[0margs\u001b[0m \u001b[0;32mor\u001b[0m \u001b[0mkwargs\u001b[0m\u001b[0;34m:\u001b[0m\u001b[0;34m\u001b[0m\u001b[0;34m\u001b[0m\u001b[0m\n\u001b[1;32m    955\u001b[0m                 \u001b[0mresult\u001b[0m \u001b[0;34m=\u001b[0m \u001b[0mself\u001b[0m\u001b[0;34m.\u001b[0m\u001b[0m_aggregate_frame\u001b[0m\u001b[0;34m(\u001b[0m\u001b[0mfunc\u001b[0m\u001b[0;34m,\u001b[0m \u001b[0;34m*\u001b[0m\u001b[0margs\u001b[0m\u001b[0;34m,\u001b[0m \u001b[0;34m**\u001b[0m\u001b[0mkwargs\u001b[0m\u001b[0;34m)\u001b[0m\u001b[0;34m\u001b[0m\u001b[0;34m\u001b[0m\u001b[0m\n",
      "\u001b[0;32m~/anaconda3/lib/python3.7/site-packages/pandas/core/groupby/groupby.py\u001b[0m in \u001b[0;36m_python_agg_general\u001b[0;34m(self, func, *args, **kwargs)\u001b[0m\n\u001b[1;32m   1165\u001b[0m         \u001b[0;32mfor\u001b[0m \u001b[0midx\u001b[0m\u001b[0;34m,\u001b[0m \u001b[0mobj\u001b[0m \u001b[0;32min\u001b[0m \u001b[0menumerate\u001b[0m\u001b[0;34m(\u001b[0m\u001b[0mself\u001b[0m\u001b[0;34m.\u001b[0m\u001b[0m_iterate_slices\u001b[0m\u001b[0;34m(\u001b[0m\u001b[0;34m)\u001b[0m\u001b[0;34m)\u001b[0m\u001b[0;34m:\u001b[0m\u001b[0;34m\u001b[0m\u001b[0;34m\u001b[0m\u001b[0m\n\u001b[1;32m   1166\u001b[0m             \u001b[0mname\u001b[0m \u001b[0;34m=\u001b[0m \u001b[0mobj\u001b[0m\u001b[0;34m.\u001b[0m\u001b[0mname\u001b[0m\u001b[0;34m\u001b[0m\u001b[0;34m\u001b[0m\u001b[0m\n\u001b[0;32m-> 1167\u001b[0;31m             \u001b[0;32mif\u001b[0m \u001b[0mself\u001b[0m\u001b[0;34m.\u001b[0m\u001b[0mgrouper\u001b[0m\u001b[0;34m.\u001b[0m\u001b[0mngroups\u001b[0m \u001b[0;34m==\u001b[0m \u001b[0;36m0\u001b[0m\u001b[0;34m:\u001b[0m\u001b[0;34m\u001b[0m\u001b[0;34m\u001b[0m\u001b[0m\n\u001b[0m\u001b[1;32m   1168\u001b[0m                 \u001b[0;31m# agg_series below assumes ngroups > 0\u001b[0m\u001b[0;34m\u001b[0m\u001b[0;34m\u001b[0m\u001b[0;34m\u001b[0m\u001b[0m\n\u001b[1;32m   1169\u001b[0m                 \u001b[0;32mcontinue\u001b[0m\u001b[0;34m\u001b[0m\u001b[0;34m\u001b[0m\u001b[0m\n",
      "\u001b[0;32mpandas/_libs/properties.pyx\u001b[0m in \u001b[0;36mpandas._libs.properties.CachedProperty.__get__\u001b[0;34m()\u001b[0m\n",
      "\u001b[0;32m~/anaconda3/lib/python3.7/site-packages/pandas/core/groupby/ops.py\u001b[0m in \u001b[0;36mngroups\u001b[0;34m(self)\u001b[0m\n\u001b[1;32m    327\u001b[0m     \u001b[0;34m@\u001b[0m\u001b[0mcache_readonly\u001b[0m\u001b[0;34m\u001b[0m\u001b[0;34m\u001b[0m\u001b[0m\n\u001b[1;32m    328\u001b[0m     \u001b[0;32mdef\u001b[0m \u001b[0mngroups\u001b[0m\u001b[0;34m(\u001b[0m\u001b[0mself\u001b[0m\u001b[0;34m)\u001b[0m \u001b[0;34m->\u001b[0m \u001b[0mint\u001b[0m\u001b[0;34m:\u001b[0m\u001b[0;34m\u001b[0m\u001b[0;34m\u001b[0m\u001b[0m\n\u001b[0;32m--> 329\u001b[0;31m         \u001b[0;32mreturn\u001b[0m \u001b[0mlen\u001b[0m\u001b[0;34m(\u001b[0m\u001b[0mself\u001b[0m\u001b[0;34m.\u001b[0m\u001b[0mresult_index\u001b[0m\u001b[0;34m)\u001b[0m\u001b[0;34m\u001b[0m\u001b[0;34m\u001b[0m\u001b[0m\n\u001b[0m\u001b[1;32m    330\u001b[0m \u001b[0;34m\u001b[0m\u001b[0m\n\u001b[1;32m    331\u001b[0m     \u001b[0;34m@\u001b[0m\u001b[0mproperty\u001b[0m\u001b[0;34m\u001b[0m\u001b[0;34m\u001b[0m\u001b[0m\n",
      "\u001b[0;32mpandas/_libs/properties.pyx\u001b[0m in \u001b[0;36mpandas._libs.properties.CachedProperty.__get__\u001b[0;34m()\u001b[0m\n",
      "\u001b[0;32m~/anaconda3/lib/python3.7/site-packages/pandas/core/groupby/ops.py\u001b[0m in \u001b[0;36mresult_index\u001b[0;34m(self)\u001b[0m\n\u001b[1;32m    340\u001b[0m             \u001b[0;32mreturn\u001b[0m \u001b[0mself\u001b[0m\u001b[0;34m.\u001b[0m\u001b[0mgroupings\u001b[0m\u001b[0;34m[\u001b[0m\u001b[0;36m0\u001b[0m\u001b[0;34m]\u001b[0m\u001b[0;34m.\u001b[0m\u001b[0mresult_index\u001b[0m\u001b[0;34m.\u001b[0m\u001b[0mrename\u001b[0m\u001b[0;34m(\u001b[0m\u001b[0mself\u001b[0m\u001b[0;34m.\u001b[0m\u001b[0mnames\u001b[0m\u001b[0;34m[\u001b[0m\u001b[0;36m0\u001b[0m\u001b[0;34m]\u001b[0m\u001b[0;34m)\u001b[0m\u001b[0;34m\u001b[0m\u001b[0;34m\u001b[0m\u001b[0m\n\u001b[1;32m    341\u001b[0m \u001b[0;34m\u001b[0m\u001b[0m\n\u001b[0;32m--> 342\u001b[0;31m         \u001b[0mcodes\u001b[0m \u001b[0;34m=\u001b[0m \u001b[0mself\u001b[0m\u001b[0;34m.\u001b[0m\u001b[0mreconstructed_codes\u001b[0m\u001b[0;34m\u001b[0m\u001b[0;34m\u001b[0m\u001b[0m\n\u001b[0m\u001b[1;32m    343\u001b[0m         \u001b[0mlevels\u001b[0m \u001b[0;34m=\u001b[0m \u001b[0;34m[\u001b[0m\u001b[0mping\u001b[0m\u001b[0;34m.\u001b[0m\u001b[0mresult_index\u001b[0m \u001b[0;32mfor\u001b[0m \u001b[0mping\u001b[0m \u001b[0;32min\u001b[0m \u001b[0mself\u001b[0m\u001b[0;34m.\u001b[0m\u001b[0mgroupings\u001b[0m\u001b[0;34m]\u001b[0m\u001b[0;34m\u001b[0m\u001b[0;34m\u001b[0m\u001b[0m\n\u001b[1;32m    344\u001b[0m         return MultiIndex(\n",
      "\u001b[0;32m~/anaconda3/lib/python3.7/site-packages/pandas/core/groupby/ops.py\u001b[0m in \u001b[0;36mreconstructed_codes\u001b[0;34m(self)\u001b[0m\n\u001b[1;32m    331\u001b[0m     \u001b[0;34m@\u001b[0m\u001b[0mproperty\u001b[0m\u001b[0;34m\u001b[0m\u001b[0;34m\u001b[0m\u001b[0m\n\u001b[1;32m    332\u001b[0m     \u001b[0;32mdef\u001b[0m \u001b[0mreconstructed_codes\u001b[0m\u001b[0;34m(\u001b[0m\u001b[0mself\u001b[0m\u001b[0;34m)\u001b[0m \u001b[0;34m->\u001b[0m \u001b[0mList\u001b[0m\u001b[0;34m[\u001b[0m\u001b[0mnp\u001b[0m\u001b[0;34m.\u001b[0m\u001b[0mndarray\u001b[0m\u001b[0;34m]\u001b[0m\u001b[0;34m:\u001b[0m\u001b[0;34m\u001b[0m\u001b[0;34m\u001b[0m\u001b[0m\n\u001b[0;32m--> 333\u001b[0;31m         \u001b[0mcodes\u001b[0m \u001b[0;34m=\u001b[0m \u001b[0mself\u001b[0m\u001b[0;34m.\u001b[0m\u001b[0mcodes\u001b[0m\u001b[0;34m\u001b[0m\u001b[0;34m\u001b[0m\u001b[0m\n\u001b[0m\u001b[1;32m    334\u001b[0m         \u001b[0mcomp_ids\u001b[0m\u001b[0;34m,\u001b[0m \u001b[0mobs_ids\u001b[0m\u001b[0;34m,\u001b[0m \u001b[0m_\u001b[0m \u001b[0;34m=\u001b[0m \u001b[0mself\u001b[0m\u001b[0;34m.\u001b[0m\u001b[0mgroup_info\u001b[0m\u001b[0;34m\u001b[0m\u001b[0;34m\u001b[0m\u001b[0m\n\u001b[1;32m    335\u001b[0m         \u001b[0;32mreturn\u001b[0m \u001b[0mdecons_obs_group_ids\u001b[0m\u001b[0;34m(\u001b[0m\u001b[0mcomp_ids\u001b[0m\u001b[0;34m,\u001b[0m \u001b[0mobs_ids\u001b[0m\u001b[0;34m,\u001b[0m \u001b[0mself\u001b[0m\u001b[0;34m.\u001b[0m\u001b[0mshape\u001b[0m\u001b[0;34m,\u001b[0m \u001b[0mcodes\u001b[0m\u001b[0;34m,\u001b[0m \u001b[0mxnull\u001b[0m\u001b[0;34m=\u001b[0m\u001b[0;32mTrue\u001b[0m\u001b[0;34m)\u001b[0m\u001b[0;34m\u001b[0m\u001b[0;34m\u001b[0m\u001b[0m\n",
      "\u001b[0;32m~/anaconda3/lib/python3.7/site-packages/pandas/core/groupby/ops.py\u001b[0m in \u001b[0;36mcodes\u001b[0;34m(self)\u001b[0m\n\u001b[1;32m    257\u001b[0m     \u001b[0;34m@\u001b[0m\u001b[0mproperty\u001b[0m\u001b[0;34m\u001b[0m\u001b[0;34m\u001b[0m\u001b[0m\n\u001b[1;32m    258\u001b[0m     \u001b[0;32mdef\u001b[0m \u001b[0mcodes\u001b[0m\u001b[0;34m(\u001b[0m\u001b[0mself\u001b[0m\u001b[0;34m)\u001b[0m \u001b[0;34m->\u001b[0m \u001b[0mList\u001b[0m\u001b[0;34m[\u001b[0m\u001b[0mnp\u001b[0m\u001b[0;34m.\u001b[0m\u001b[0mndarray\u001b[0m\u001b[0;34m]\u001b[0m\u001b[0;34m:\u001b[0m\u001b[0;34m\u001b[0m\u001b[0;34m\u001b[0m\u001b[0m\n\u001b[0;32m--> 259\u001b[0;31m         \u001b[0;32mreturn\u001b[0m \u001b[0;34m[\u001b[0m\u001b[0mping\u001b[0m\u001b[0;34m.\u001b[0m\u001b[0mcodes\u001b[0m \u001b[0;32mfor\u001b[0m \u001b[0mping\u001b[0m \u001b[0;32min\u001b[0m \u001b[0mself\u001b[0m\u001b[0;34m.\u001b[0m\u001b[0mgroupings\u001b[0m\u001b[0;34m]\u001b[0m\u001b[0;34m\u001b[0m\u001b[0;34m\u001b[0m\u001b[0m\n\u001b[0m\u001b[1;32m    260\u001b[0m \u001b[0;34m\u001b[0m\u001b[0m\n\u001b[1;32m    261\u001b[0m     \u001b[0;34m@\u001b[0m\u001b[0mproperty\u001b[0m\u001b[0;34m\u001b[0m\u001b[0;34m\u001b[0m\u001b[0m\n",
      "\u001b[0;32m~/anaconda3/lib/python3.7/site-packages/pandas/core/groupby/ops.py\u001b[0m in \u001b[0;36m<listcomp>\u001b[0;34m(.0)\u001b[0m\n\u001b[1;32m    257\u001b[0m     \u001b[0;34m@\u001b[0m\u001b[0mproperty\u001b[0m\u001b[0;34m\u001b[0m\u001b[0;34m\u001b[0m\u001b[0m\n\u001b[1;32m    258\u001b[0m     \u001b[0;32mdef\u001b[0m \u001b[0mcodes\u001b[0m\u001b[0;34m(\u001b[0m\u001b[0mself\u001b[0m\u001b[0;34m)\u001b[0m \u001b[0;34m->\u001b[0m \u001b[0mList\u001b[0m\u001b[0;34m[\u001b[0m\u001b[0mnp\u001b[0m\u001b[0;34m.\u001b[0m\u001b[0mndarray\u001b[0m\u001b[0;34m]\u001b[0m\u001b[0;34m:\u001b[0m\u001b[0;34m\u001b[0m\u001b[0;34m\u001b[0m\u001b[0m\n\u001b[0;32m--> 259\u001b[0;31m         \u001b[0;32mreturn\u001b[0m \u001b[0;34m[\u001b[0m\u001b[0mping\u001b[0m\u001b[0;34m.\u001b[0m\u001b[0mcodes\u001b[0m \u001b[0;32mfor\u001b[0m \u001b[0mping\u001b[0m \u001b[0;32min\u001b[0m \u001b[0mself\u001b[0m\u001b[0;34m.\u001b[0m\u001b[0mgroupings\u001b[0m\u001b[0;34m]\u001b[0m\u001b[0;34m\u001b[0m\u001b[0;34m\u001b[0m\u001b[0m\n\u001b[0m\u001b[1;32m    260\u001b[0m \u001b[0;34m\u001b[0m\u001b[0m\n\u001b[1;32m    261\u001b[0m     \u001b[0;34m@\u001b[0m\u001b[0mproperty\u001b[0m\u001b[0;34m\u001b[0m\u001b[0;34m\u001b[0m\u001b[0m\n",
      "\u001b[0;32m~/anaconda3/lib/python3.7/site-packages/pandas/core/groupby/grouper.py\u001b[0m in \u001b[0;36mcodes\u001b[0;34m(self)\u001b[0m\n\u001b[1;32m    589\u001b[0m     \u001b[0;32mdef\u001b[0m \u001b[0mcodes\u001b[0m\u001b[0;34m(\u001b[0m\u001b[0mself\u001b[0m\u001b[0;34m)\u001b[0m \u001b[0;34m->\u001b[0m \u001b[0mnp\u001b[0m\u001b[0;34m.\u001b[0m\u001b[0mndarray\u001b[0m\u001b[0;34m:\u001b[0m\u001b[0;34m\u001b[0m\u001b[0;34m\u001b[0m\u001b[0m\n\u001b[1;32m    590\u001b[0m         \u001b[0;32mif\u001b[0m \u001b[0mself\u001b[0m\u001b[0;34m.\u001b[0m\u001b[0m_codes\u001b[0m \u001b[0;32mis\u001b[0m \u001b[0;32mNone\u001b[0m\u001b[0;34m:\u001b[0m\u001b[0;34m\u001b[0m\u001b[0;34m\u001b[0m\u001b[0m\n\u001b[0;32m--> 591\u001b[0;31m             \u001b[0mself\u001b[0m\u001b[0;34m.\u001b[0m\u001b[0m_make_codes\u001b[0m\u001b[0;34m(\u001b[0m\u001b[0;34m)\u001b[0m\u001b[0;34m\u001b[0m\u001b[0;34m\u001b[0m\u001b[0m\n\u001b[0m\u001b[1;32m    592\u001b[0m         \u001b[0;32mreturn\u001b[0m \u001b[0mself\u001b[0m\u001b[0;34m.\u001b[0m\u001b[0m_codes\u001b[0m\u001b[0;34m\u001b[0m\u001b[0;34m\u001b[0m\u001b[0m\n\u001b[1;32m    593\u001b[0m \u001b[0;34m\u001b[0m\u001b[0m\n",
      "\u001b[0;32m~/anaconda3/lib/python3.7/site-packages/pandas/core/groupby/grouper.py\u001b[0m in \u001b[0;36m_make_codes\u001b[0;34m(self)\u001b[0m\n\u001b[1;32m    622\u001b[0m                 \u001b[0mna_sentinel\u001b[0m \u001b[0;34m=\u001b[0m \u001b[0;34m-\u001b[0m\u001b[0;36m1\u001b[0m\u001b[0;34m\u001b[0m\u001b[0;34m\u001b[0m\u001b[0m\n\u001b[1;32m    623\u001b[0m             codes, uniques = algorithms.factorize(\n\u001b[0;32m--> 624\u001b[0;31m                 \u001b[0mself\u001b[0m\u001b[0;34m.\u001b[0m\u001b[0mgrouper\u001b[0m\u001b[0;34m,\u001b[0m \u001b[0msort\u001b[0m\u001b[0;34m=\u001b[0m\u001b[0mself\u001b[0m\u001b[0;34m.\u001b[0m\u001b[0msort\u001b[0m\u001b[0;34m,\u001b[0m \u001b[0mna_sentinel\u001b[0m\u001b[0;34m=\u001b[0m\u001b[0mna_sentinel\u001b[0m\u001b[0;34m\u001b[0m\u001b[0;34m\u001b[0m\u001b[0m\n\u001b[0m\u001b[1;32m    625\u001b[0m             )\n\u001b[1;32m    626\u001b[0m             \u001b[0muniques\u001b[0m \u001b[0;34m=\u001b[0m \u001b[0mIndex\u001b[0m\u001b[0;34m(\u001b[0m\u001b[0muniques\u001b[0m\u001b[0;34m,\u001b[0m \u001b[0mname\u001b[0m\u001b[0;34m=\u001b[0m\u001b[0mself\u001b[0m\u001b[0;34m.\u001b[0m\u001b[0mname\u001b[0m\u001b[0;34m)\u001b[0m\u001b[0;34m\u001b[0m\u001b[0;34m\u001b[0m\u001b[0m\n",
      "\u001b[0;32m~/anaconda3/lib/python3.7/site-packages/pandas/core/algorithms.py\u001b[0m in \u001b[0;36mfactorize\u001b[0;34m(values, sort, na_sentinel, size_hint)\u001b[0m\n\u001b[1;32m    721\u001b[0m \u001b[0;34m\u001b[0m\u001b[0m\n\u001b[1;32m    722\u001b[0m         codes, uniques = factorize_array(\n\u001b[0;32m--> 723\u001b[0;31m             \u001b[0mvalues\u001b[0m\u001b[0;34m,\u001b[0m \u001b[0mna_sentinel\u001b[0m\u001b[0;34m=\u001b[0m\u001b[0mna_sentinel\u001b[0m\u001b[0;34m,\u001b[0m \u001b[0msize_hint\u001b[0m\u001b[0;34m=\u001b[0m\u001b[0msize_hint\u001b[0m\u001b[0;34m,\u001b[0m \u001b[0mna_value\u001b[0m\u001b[0;34m=\u001b[0m\u001b[0mna_value\u001b[0m\u001b[0;34m\u001b[0m\u001b[0;34m\u001b[0m\u001b[0m\n\u001b[0m\u001b[1;32m    724\u001b[0m         )\n\u001b[1;32m    725\u001b[0m \u001b[0;34m\u001b[0m\u001b[0m\n",
      "\u001b[0;32m~/anaconda3/lib/python3.7/site-packages/pandas/core/algorithms.py\u001b[0m in \u001b[0;36mfactorize_array\u001b[0;34m(values, na_sentinel, size_hint, na_value, mask)\u001b[0m\n\u001b[1;32m    527\u001b[0m     \u001b[0mtable\u001b[0m \u001b[0;34m=\u001b[0m \u001b[0mhash_klass\u001b[0m\u001b[0;34m(\u001b[0m\u001b[0msize_hint\u001b[0m \u001b[0;32mor\u001b[0m \u001b[0mlen\u001b[0m\u001b[0;34m(\u001b[0m\u001b[0mvalues\u001b[0m\u001b[0;34m)\u001b[0m\u001b[0;34m)\u001b[0m\u001b[0;34m\u001b[0m\u001b[0;34m\u001b[0m\u001b[0m\n\u001b[1;32m    528\u001b[0m     uniques, codes = table.factorize(\n\u001b[0;32m--> 529\u001b[0;31m         \u001b[0mvalues\u001b[0m\u001b[0;34m,\u001b[0m \u001b[0mna_sentinel\u001b[0m\u001b[0;34m=\u001b[0m\u001b[0mna_sentinel\u001b[0m\u001b[0;34m,\u001b[0m \u001b[0mna_value\u001b[0m\u001b[0;34m=\u001b[0m\u001b[0mna_value\u001b[0m\u001b[0;34m,\u001b[0m \u001b[0mmask\u001b[0m\u001b[0;34m=\u001b[0m\u001b[0mmask\u001b[0m\u001b[0;34m\u001b[0m\u001b[0;34m\u001b[0m\u001b[0m\n\u001b[0m\u001b[1;32m    530\u001b[0m     )\n\u001b[1;32m    531\u001b[0m \u001b[0;34m\u001b[0m\u001b[0m\n",
      "\u001b[0;32mpandas/_libs/hashtable_class_helper.pxi\u001b[0m in \u001b[0;36mpandas._libs.hashtable.PyObjectHashTable.factorize\u001b[0;34m()\u001b[0m\n",
      "\u001b[0;32mpandas/_libs/hashtable_class_helper.pxi\u001b[0m in \u001b[0;36mpandas._libs.hashtable.PyObjectHashTable._unique\u001b[0;34m()\u001b[0m\n",
      "\u001b[0;32m~/anaconda3/lib/python3.7/site-packages/pandas/core/generic.py\u001b[0m in \u001b[0;36m__hash__\u001b[0;34m(self)\u001b[0m\n\u001b[1;32m   1783\u001b[0m     \u001b[0;32mdef\u001b[0m \u001b[0m__hash__\u001b[0m\u001b[0;34m(\u001b[0m\u001b[0mself\u001b[0m\u001b[0;34m)\u001b[0m \u001b[0;34m->\u001b[0m \u001b[0mint\u001b[0m\u001b[0;34m:\u001b[0m\u001b[0;34m\u001b[0m\u001b[0;34m\u001b[0m\u001b[0m\n\u001b[1;32m   1784\u001b[0m         raise TypeError(\n\u001b[0;32m-> 1785\u001b[0;31m             \u001b[0;34mf\"{repr(type(self).__name__)} objects are mutable, \"\u001b[0m\u001b[0;34m\u001b[0m\u001b[0;34m\u001b[0m\u001b[0m\n\u001b[0m\u001b[1;32m   1786\u001b[0m             \u001b[0;34mf\"thus they cannot be hashed\"\u001b[0m\u001b[0;34m\u001b[0m\u001b[0;34m\u001b[0m\u001b[0m\n\u001b[1;32m   1787\u001b[0m         )\n",
      "\u001b[0;31mTypeError\u001b[0m: 'DataFrame' objects are mutable, thus they cannot be hashed"
     ]
    }
   ],
   "source": [
    "pd.crosstab(down_de_common.sample,down_de_common.Pathway).plot(kind='bar',color=color_dict)\n",
    "plt.title('Pthways in down regulated lncRNAs ')\n",
    "plt.xlabel('triplex')\n",
    "plt.ylabel('Frequency of Pathway')\n"
   ]
  },
  {
   "cell_type": "markdown",
   "id": "sacred-tobacco",
   "metadata": {},
   "source": [
    "Add filters to the input 22.04.2020"
   ]
  },
  {
   "cell_type": "markdown",
   "id": "literary-addition",
   "metadata": {},
   "source": [
    "up and down\n",
    "Randomly >50% features No"
   ]
  },
  {
   "cell_type": "code",
   "execution_count": 82,
   "id": "following-madrid",
   "metadata": {},
   "outputs": [
    {
     "data": {
      "text/plain": [
       "0     0.0\n",
       "18    1.0\n",
       "Name: y, dtype: float64"
      ]
     },
     "execution_count": 82,
     "metadata": {},
     "output_type": "execute_result"
    }
   ],
   "source": []
  },
  {
   "cell_type": "code",
   "execution_count": 44,
   "id": "approved-competition",
   "metadata": {},
   "outputs": [
    {
     "data": {
      "text/plain": [
       "dtype('float64')"
      ]
     },
     "execution_count": 44,
     "metadata": {},
     "output_type": "execute_result"
    }
   ],
   "source": [
    "common_de.logFC.dtype"
   ]
  },
  {
   "cell_type": "code",
   "execution_count": 173,
   "id": "working-announcement",
   "metadata": {},
   "outputs": [
    {
     "data": {
      "text/plain": [
       "(32472, 18)"
      ]
     },
     "execution_count": 173,
     "metadata": {},
     "output_type": "execute_result"
    }
   ],
   "source": [
    "#test_df = common_de.drop(['y'],axis=1)\n",
    "test_df = common_de\n",
    "test_df = test_df.drop_duplicates()\n",
    "test_df.shape"
   ]
  },
  {
   "cell_type": "code",
   "execution_count": 174,
   "id": "institutional-prediction",
   "metadata": {},
   "outputs": [],
   "source": [
    "data = test_df\n",
    "data = data.drop(['Pathway'],axis=1)\n",
    "\n",
    "data = data.replace(['0',0],0)\n",
    "data = data.replace(['o','t','ot'],1)"
   ]
  },
  {
   "cell_type": "code",
   "execution_count": 145,
   "id": "heard-double",
   "metadata": {},
   "outputs": [
    {
     "data": {
      "text/plain": [
       "(18700, 68)"
      ]
     },
     "execution_count": 145,
     "metadata": {},
     "output_type": "execute_result"
    }
   ],
   "source": [
    "data.shape"
   ]
  },
  {
   "cell_type": "code",
   "execution_count": 175,
   "id": "genuine-blend",
   "metadata": {},
   "outputs": [
    {
     "data": {
      "image/png": "[encoded data removed]",
      "text/plain": [
       "<Figure size 432x288 with 1 Axes>"
      ]
     },
     "metadata": {
      "image/png": {
       "height": 261,
       "width": 401
      },
      "needs_background": "light"
     },
     "output_type": "display_data"
    }
   ],
   "source": [
    "sns.countplot(data = data,x='y',palette='hls')\n",
    "plt.show()\n"
   ]
  },
  {
   "cell_type": "markdown",
   "id": "informed-mining",
   "metadata": {},
   "source": [
    "Choosing the columns which have categorical values to create a dummy dataframe \n",
    "The choosen columns/variables have only two values either yes or no\n"
   ]
  },
  {
   "cell_type": "code",
   "execution_count": 176,
   "id": "waiting-black",
   "metadata": {},
   "outputs": [],
   "source": [
    "cat_vars     = ['proximal_cancer_driver','proximal_drug_target',\n",
    "                'negative_correlated_methylation','positive_correlated_methylation',\n",
    "                'promoter_methylated','sample','mechanism',\n",
    "                'functional','clinical','SNPS']\n",
    "for var in cat_vars:\n",
    "    cat_list = 'var '+'_'+ var\n",
    "    cat_list = pd.get_dummies(data[var], prefix=var)\n",
    "    data1    = data.join(cat_list)\n",
    "    data     = data1\n",
    "    \n",
    "cat_vars     = ['proximal_cancer_driver','proximal_drug_target',\n",
    "               'negative_correlated_methylation','positive_correlated_methylation',\n",
    "               'promoter_methylated','sample','mechanism', \n",
    "               'functional','clinical','SNPS']\n",
    "data_vars    = data.columns.values.tolist()\n",
    "to_keep      = [i for i in data_vars if i not in cat_vars]"
   ]
  },
  {
   "cell_type": "code",
   "execution_count": 177,
   "id": "natural-complement",
   "metadata": {},
   "outputs": [],
   "source": [
    "data_final = data[to_keep]\n",
    "data_final = data_final.replace(['unknown', 'Yes'], \n",
    "                     [0,1])\n",
    "data_final = data_final.fillna(0)\n",
    "data_final = data_final.replace('yes',1)\n",
    "data_final = data_final.replace('TF',1)\n",
    "data_final = data_final.replace('No',0)\n",
    "#data_final = data_final.replace('Signaling',1)"
   ]
  },
  {
   "cell_type": "code",
   "execution_count": 151,
   "id": "protective-reputation",
   "metadata": {},
   "outputs": [
    {
     "data": {
      "text/plain": [
       "(18700, 58)"
      ]
     },
     "execution_count": 151,
     "metadata": {},
     "output_type": "execute_result"
    }
   ],
   "source": [
    "data_final.shape"
   ]
  },
  {
   "cell_type": "code",
   "execution_count": 53,
   "id": "fitted-holiday",
   "metadata": {},
   "outputs": [],
   "source": [
    "%store -r data_final"
   ]
  },
  {
   "cell_type": "markdown",
   "id": "impossible-energy",
   "metadata": {},
   "source": [
    "Creating a balanced sample by using Recurrssive feature elimination method"
   ]
  },
  {
   "cell_type": "code",
   "execution_count": 178,
   "id": "greater-fraud",
   "metadata": {},
   "outputs": [],
   "source": [
    "X  = data_final.loc[:, data_final.columns != 'y']\n",
    "y  = data_final.loc[:, data_final.columns == 'y']\n",
    "os = SMOTE(random_state=0)\n",
    "X_train, X_test, y_train, y_test = train_test_split(X, y, test_size=0.3, random_state=0)"
   ]
  },
  {
   "cell_type": "code",
   "execution_count": 154,
   "id": "behavioral-hunter",
   "metadata": {},
   "outputs": [
    {
     "data": {
      "text/plain": [
       "(18700, 1)"
      ]
     },
     "execution_count": 154,
     "metadata": {},
     "output_type": "execute_result"
    }
   ],
   "source": [
    "y.shape"
   ]
  },
  {
   "cell_type": "markdown",
   "id": "suspended-worthy",
   "metadata": {},
   "source": [
    "See what is train and  test"
   ]
  },
  {
   "cell_type": "code",
   "execution_count": 55,
   "id": "primary-qualification",
   "metadata": {},
   "outputs": [
    {
     "name": "stdout",
     "output_type": "stream",
     "text": [
      "train x:  (9639, 58) test x: (4132, 58) \n",
      " train y: (9639, 1) \n",
      " test y: (4132, 1)\n"
     ]
    },
    {
     "data": {
      "text/plain": [
       "(None, '\\n')"
      ]
     },
     "execution_count": 55,
     "metadata": {},
     "output_type": "execute_result"
    }
   ],
   "source": [
    "print(\"train x: \", X_train.shape,\n",
    "      \"test x:\", X_test.shape,\"\\n\", \n",
    "      \"train y:\", y_train.shape, \"\\n\",\n",
    "      \"test y:\" , y_test.shape),\"\\n\""
   ]
  },
  {
   "cell_type": "code",
   "execution_count": 228,
   "id": "consistent-seven",
   "metadata": {
    "collapsed": true
   },
   "outputs": [
    {
     "name": "stdout",
     "output_type": "stream",
     "text": [
      "train x:  Index(['gene_sym', 'logFC', 'types', 'Meth_Mean', 'sphase_mean_FC', 'score',\n",
      "       'risk_alelle_freq', 'proximal_cancer_driver_No',\n",
      "       'proximal_cancer_driver_Yes', 'proximal_drug_target_No',\n",
      "       'negative_correlated_methylation_No',\n",
      "       'negative_correlated_methylation_Yes',\n",
      "       'positive_correlated_methylation_No',\n",
      "       'positive_correlated_methylation_Yes', 'promoter_methylated_No',\n",
      "       'promoter_methylated_Yes', 'sample_BRCA', 'sample_COAD', 'sample_ESCA',\n",
      "       'sample_HNSC', 'sample_KICH', 'sample_KIRC', 'sample_KIRP',\n",
      "       'sample_LIHC', 'sample_LUAD', 'sample_LUSC', 'sample_PRAD',\n",
      "       'sample_STAD', 'sample_THCA', 'mechanism_0', 'mechanism_Enhancer',\n",
      "       'mechanism_Enhancer_ TF', 'mechanism_Enhancer_ TF_ Variant',\n",
      "       'mechanism_Enhancer_ Variant', 'mechanism_TF', 'mechanism_TF_ Variant',\n",
      "       'mechanism_Variant', 'functional_0', 'functional_Cell Growth',\n",
      "       'functional_EMT', 'functional_EMT_ Cell Growth',\n",
      "       'functional_EMT_ Survival', 'functional_EMT_ Survival_ Cell Growth',\n",
      "       'functional_EMT_ autophagy/Apoptosis_ Cell Growth',\n",
      "       'functional_EMT_ autophagy/Apoptosis_ Survival',\n",
      "       'functional_EMT_ autophagy/Apoptosis_ Survival_ Cell Growth',\n",
      "       'functional_Survival_ Cell Growth',\n",
      "       'functional_Survival_ autophagy/Apoptosis',\n",
      "       'functional_Survival_ autophagy/Apoptosis_ Cell Growth',\n",
      "       'functional_autophagy/Apoptosis',\n",
      "       'functional_autophagy/Apoptosis_ Cell Growth', 'clinical_0',\n",
      "       'clinical_Metastasis_ Circulating_ Drug_ Recurrence',\n",
      "       'clinical_Metastasis_ Circulating_ Recurrence',\n",
      "       'clinical_Metastasis_ Drug_ Recurrence',\n",
      "       'clinical_Metastasis_ Recurrence', 'SNPS_No', 'SNPS_Yes'],\n",
      "      dtype='object') \n",
      " test x:  Index(['gene_sym', 'logFC', 'types', 'Meth_Mean', 'sphase_mean_FC', 'score',\n",
      "       'risk_alelle_freq', 'proximal_cancer_driver_No',\n",
      "       'proximal_cancer_driver_Yes', 'proximal_drug_target_No',\n",
      "       'negative_correlated_methylation_No',\n",
      "       'negative_correlated_methylation_Yes',\n",
      "       'positive_correlated_methylation_No',\n",
      "       'positive_correlated_methylation_Yes', 'promoter_methylated_No',\n",
      "       'promoter_methylated_Yes', 'sample_BRCA', 'sample_COAD', 'sample_ESCA',\n",
      "       'sample_HNSC', 'sample_KICH', 'sample_KIRC', 'sample_KIRP',\n",
      "       'sample_LIHC', 'sample_LUAD', 'sample_LUSC', 'sample_PRAD',\n",
      "       'sample_STAD', 'sample_THCA', 'mechanism_0', 'mechanism_Enhancer',\n",
      "       'mechanism_Enhancer_ TF', 'mechanism_Enhancer_ TF_ Variant',\n",
      "       'mechanism_Enhancer_ Variant', 'mechanism_TF', 'mechanism_TF_ Variant',\n",
      "       'mechanism_Variant', 'functional_0', 'functional_Cell Growth',\n",
      "       'functional_EMT', 'functional_EMT_ Cell Growth',\n",
      "       'functional_EMT_ Survival', 'functional_EMT_ Survival_ Cell Growth',\n",
      "       'functional_EMT_ autophagy/Apoptosis_ Cell Growth',\n",
      "       'functional_EMT_ autophagy/Apoptosis_ Survival',\n",
      "       'functional_EMT_ autophagy/Apoptosis_ Survival_ Cell Growth',\n",
      "       'functional_Survival_ Cell Growth',\n",
      "       'functional_Survival_ autophagy/Apoptosis',\n",
      "       'functional_Survival_ autophagy/Apoptosis_ Cell Growth',\n",
      "       'functional_autophagy/Apoptosis',\n",
      "       'functional_autophagy/Apoptosis_ Cell Growth', 'clinical_0',\n",
      "       'clinical_Metastasis_ Circulating_ Drug_ Recurrence',\n",
      "       'clinical_Metastasis_ Circulating_ Recurrence',\n",
      "       'clinical_Metastasis_ Drug_ Recurrence',\n",
      "       'clinical_Metastasis_ Recurrence', 'SNPS_No', 'SNPS_Yes'],\n",
      "      dtype='object') \n",
      " train y:  Index(['Pathway'], dtype='object') \n",
      " test y:  Index(['Pathway'], dtype='object')\n"
     ]
    }
   ],
   "source": [
    "print(\"train x: \", X_train.columns,\"\\n\",\n",
    "      \"test x: \",  X_test.columns,\"\\n\", \n",
    "      \"train y: \", y_train.columns,\"\\n\",\n",
    "      \"test y: \" , y_test.columns)"
   ]
  },
  {
   "cell_type": "code",
   "execution_count": 141,
   "id": "collaborative-belly",
   "metadata": {},
   "outputs": [
    {
     "data": {
      "text/html": [
       "<div>\n",
       "<style scoped>\n",
       "    .dataframe tbody tr th:only-of-type {\n",
       "        vertical-align: middle;\n",
       "    }\n",
       "\n",
       "    .dataframe tbody tr th {\n",
       "        vertical-align: top;\n",
       "    }\n",
       "\n",
       "    .dataframe thead th {\n",
       "        text-align: right;\n",
       "    }\n",
       "</style>\n",
       "<table border=\"1\" class=\"dataframe\">\n",
       "  <thead>\n",
       "    <tr style=\"text-align: right;\">\n",
       "      <th></th>\n",
       "      <th>y</th>\n",
       "    </tr>\n",
       "  </thead>\n",
       "  <tbody>\n",
       "    <tr>\n",
       "      <th>45446</th>\n",
       "      <td>1.0</td>\n",
       "    </tr>\n",
       "    <tr>\n",
       "      <th>11221</th>\n",
       "      <td>0.0</td>\n",
       "    </tr>\n",
       "  </tbody>\n",
       "</table>\n",
       "</div>"
      ],
      "text/plain": [
       "         y\n",
       "45446  1.0\n",
       "11221  0.0"
      ]
     },
     "execution_count": 141,
     "metadata": {},
     "output_type": "execute_result"
    }
   ],
   "source": [
    "#y_train = y_train.replace(0,'unknown')\n",
    "y_train.drop_duplicates()"
   ]
  },
  {
   "cell_type": "code",
   "execution_count": null,
   "id": "divided-event",
   "metadata": {},
   "outputs": [],
   "source": [
    "Creating balanced sample using SMOTE on categorical features"
   ]
  },
  {
   "cell_type": "code",
   "execution_count": 179,
   "id": "lightweight-ferry",
   "metadata": {},
   "outputs": [],
   "source": [
    "columns             = X_train.columns\n",
    "os_data_X,os_data_y = os.fit_resample(X_train, y_train)"
   ]
  },
  {
   "cell_type": "code",
   "execution_count": 180,
   "id": "nervous-controversy",
   "metadata": {},
   "outputs": [],
   "source": [
    "os_data_X = pd.DataFrame(data =os_data_X,columns=columns )\n",
    "os_data_y = pd.DataFrame(data =os_data_y,columns=['y'])"
   ]
  },
  {
   "cell_type": "code",
   "execution_count": 150,
   "id": "dense-canyon",
   "metadata": {},
   "outputs": [
    {
     "data": {
      "text/plain": [
       "(15618, 1)"
      ]
     },
     "execution_count": 150,
     "metadata": {},
     "output_type": "execute_result"
    }
   ],
   "source": [
    "os_data_y.shape"
   ]
  },
  {
   "cell_type": "code",
   "execution_count": null,
   "id": "tutorial-disaster",
   "metadata": {},
   "outputs": [],
   "source": [
    "data_final.to_csv(\"/home/alva/Documents/lncRNAs_project_2020/Analysis_2021/DNA_methy_tcga/autoencoder_lncRNAs/data/pathways_lncRNAs_de_common5\",sep='\\t',index=False)"
   ]
  },
  {
   "cell_type": "code",
   "execution_count": 181,
   "id": "developed-carter",
   "metadata": {},
   "outputs": [
    {
     "name": "stdout",
     "output_type": "stream",
     "text": [
      "length of oversampled data is  24182\n",
      "Number of no pathways in oversampled data 12091\n",
      "Number of pathways 12091\n",
      "Proportion of no pathways data in oversampled data is  0.5\n",
      "Proportion of pathways data in oversampled data is  0.5\n"
     ]
    }
   ],
   "source": [
    "# Check the numbers of our data\n",
    "print(\"length of oversampled data is \",len(os_data_X))\n",
    "print(\"Number of no pathways in oversampled data\",len(os_data_y[os_data_y['y']==0]))\n",
    "print(\"Number of pathways\",len(os_data_y[os_data_y['y']==1]))\n",
    "print(\"Proportion of no pathways data in oversampled data is \",len(os_data_y[os_data_y['y']==0])/len(os_data_X))\n",
    "print(\"Proportion of pathways data in oversampled data is \",len(os_data_y[os_data_y['y']==1])/len(os_data_X))"
   ]
  },
  {
   "cell_type": "code",
   "execution_count": 184,
   "id": "about-explosion",
   "metadata": {},
   "outputs": [],
   "source": [
    "data_final_vars=data_final.columns.values.tolist()\n"
   ]
  },
  {
   "cell_type": "code",
   "execution_count": 183,
   "id": "experimental-photograph",
   "metadata": {},
   "outputs": [
    {
     "name": "stderr",
     "output_type": "stream",
     "text": [
      "/home/alva/anaconda3/lib/python3.7/site-packages/sklearn/utils/validation.py:72: FutureWarning: Pass n_features_to_select=25 as keyword args. From version 1.0 (renaming of 0.25) passing these as positional arguments will result in an error\n",
      "  \"will result in an error\", FutureWarning)\n",
      "/home/alva/anaconda3/lib/python3.7/site-packages/sklearn/linear_model/_logistic.py:765: ConvergenceWarning: lbfgs failed to converge (status=1):\n",
      "STOP: TOTAL NO. of ITERATIONS REACHED LIMIT.\n",
      "\n",
      "Increase the number of iterations (max_iter) or scale the data as shown in:\n",
      "    https://scikit-learn.org/stable/modules/preprocessing.html\n",
      "Please also refer to the documentation for alternative solver options:\n",
      "    https://scikit-learn.org/stable/modules/linear_model.html#logistic-regression\n",
      "  extra_warning_msg=_LOGISTIC_SOLVER_CONVERGENCE_MSG)\n",
      "/home/alva/anaconda3/lib/python3.7/site-packages/sklearn/linear_model/_logistic.py:765: ConvergenceWarning: lbfgs failed to converge (status=1):\n",
      "STOP: TOTAL NO. of ITERATIONS REACHED LIMIT.\n",
      "\n",
      "Increase the number of iterations (max_iter) or scale the data as shown in:\n",
      "    https://scikit-learn.org/stable/modules/preprocessing.html\n",
      "Please also refer to the documentation for alternative solver options:\n",
      "    https://scikit-learn.org/stable/modules/linear_model.html#logistic-regression\n",
      "  extra_warning_msg=_LOGISTIC_SOLVER_CONVERGENCE_MSG)\n",
      "/home/alva/anaconda3/lib/python3.7/site-packages/sklearn/linear_model/_logistic.py:765: ConvergenceWarning: lbfgs failed to converge (status=1):\n",
      "STOP: TOTAL NO. of ITERATIONS REACHED LIMIT.\n",
      "\n",
      "Increase the number of iterations (max_iter) or scale the data as shown in:\n",
      "    https://scikit-learn.org/stable/modules/preprocessing.html\n",
      "Please also refer to the documentation for alternative solver options:\n",
      "    https://scikit-learn.org/stable/modules/linear_model.html#logistic-regression\n",
      "  extra_warning_msg=_LOGISTIC_SOLVER_CONVERGENCE_MSG)\n",
      "/home/alva/anaconda3/lib/python3.7/site-packages/sklearn/linear_model/_logistic.py:765: ConvergenceWarning: lbfgs failed to converge (status=1):\n",
      "STOP: TOTAL NO. of ITERATIONS REACHED LIMIT.\n",
      "\n",
      "Increase the number of iterations (max_iter) or scale the data as shown in:\n",
      "    https://scikit-learn.org/stable/modules/preprocessing.html\n",
      "Please also refer to the documentation for alternative solver options:\n",
      "    https://scikit-learn.org/stable/modules/linear_model.html#logistic-regression\n",
      "  extra_warning_msg=_LOGISTIC_SOLVER_CONVERGENCE_MSG)\n",
      "/home/alva/anaconda3/lib/python3.7/site-packages/sklearn/linear_model/_logistic.py:765: ConvergenceWarning: lbfgs failed to converge (status=1):\n",
      "STOP: TOTAL NO. of ITERATIONS REACHED LIMIT.\n",
      "\n",
      "Increase the number of iterations (max_iter) or scale the data as shown in:\n",
      "    https://scikit-learn.org/stable/modules/preprocessing.html\n",
      "Please also refer to the documentation for alternative solver options:\n",
      "    https://scikit-learn.org/stable/modules/linear_model.html#logistic-regression\n",
      "  extra_warning_msg=_LOGISTIC_SOLVER_CONVERGENCE_MSG)\n",
      "/home/alva/anaconda3/lib/python3.7/site-packages/sklearn/linear_model/_logistic.py:765: ConvergenceWarning: lbfgs failed to converge (status=1):\n",
      "STOP: TOTAL NO. of ITERATIONS REACHED LIMIT.\n",
      "\n",
      "Increase the number of iterations (max_iter) or scale the data as shown in:\n",
      "    https://scikit-learn.org/stable/modules/preprocessing.html\n",
      "Please also refer to the documentation for alternative solver options:\n",
      "    https://scikit-learn.org/stable/modules/linear_model.html#logistic-regression\n",
      "  extra_warning_msg=_LOGISTIC_SOLVER_CONVERGENCE_MSG)\n",
      "/home/alva/anaconda3/lib/python3.7/site-packages/sklearn/linear_model/_logistic.py:765: ConvergenceWarning: lbfgs failed to converge (status=1):\n",
      "STOP: TOTAL NO. of ITERATIONS REACHED LIMIT.\n",
      "\n",
      "Increase the number of iterations (max_iter) or scale the data as shown in:\n",
      "    https://scikit-learn.org/stable/modules/preprocessing.html\n",
      "Please also refer to the documentation for alternative solver options:\n",
      "    https://scikit-learn.org/stable/modules/linear_model.html#logistic-regression\n",
      "  extra_warning_msg=_LOGISTIC_SOLVER_CONVERGENCE_MSG)\n",
      "/home/alva/anaconda3/lib/python3.7/site-packages/sklearn/linear_model/_logistic.py:765: ConvergenceWarning: lbfgs failed to converge (status=1):\n",
      "STOP: TOTAL NO. of ITERATIONS REACHED LIMIT.\n",
      "\n",
      "Increase the number of iterations (max_iter) or scale the data as shown in:\n",
      "    https://scikit-learn.org/stable/modules/preprocessing.html\n",
      "Please also refer to the documentation for alternative solver options:\n",
      "    https://scikit-learn.org/stable/modules/linear_model.html#logistic-regression\n",
      "  extra_warning_msg=_LOGISTIC_SOLVER_CONVERGENCE_MSG)\n",
      "/home/alva/anaconda3/lib/python3.7/site-packages/sklearn/linear_model/_logistic.py:765: ConvergenceWarning: lbfgs failed to converge (status=1):\n",
      "STOP: TOTAL NO. of ITERATIONS REACHED LIMIT.\n",
      "\n",
      "Increase the number of iterations (max_iter) or scale the data as shown in:\n",
      "    https://scikit-learn.org/stable/modules/preprocessing.html\n",
      "Please also refer to the documentation for alternative solver options:\n",
      "    https://scikit-learn.org/stable/modules/linear_model.html#logistic-regression\n",
      "  extra_warning_msg=_LOGISTIC_SOLVER_CONVERGENCE_MSG)\n",
      "/home/alva/anaconda3/lib/python3.7/site-packages/sklearn/linear_model/_logistic.py:765: ConvergenceWarning: lbfgs failed to converge (status=1):\n",
      "STOP: TOTAL NO. of ITERATIONS REACHED LIMIT.\n",
      "\n",
      "Increase the number of iterations (max_iter) or scale the data as shown in:\n",
      "    https://scikit-learn.org/stable/modules/preprocessing.html\n",
      "Please also refer to the documentation for alternative solver options:\n",
      "    https://scikit-learn.org/stable/modules/linear_model.html#logistic-regression\n",
      "  extra_warning_msg=_LOGISTIC_SOLVER_CONVERGENCE_MSG)\n",
      "/home/alva/anaconda3/lib/python3.7/site-packages/sklearn/linear_model/_logistic.py:765: ConvergenceWarning: lbfgs failed to converge (status=1):\n",
      "STOP: TOTAL NO. of ITERATIONS REACHED LIMIT.\n",
      "\n",
      "Increase the number of iterations (max_iter) or scale the data as shown in:\n",
      "    https://scikit-learn.org/stable/modules/preprocessing.html\n",
      "Please also refer to the documentation for alternative solver options:\n",
      "    https://scikit-learn.org/stable/modules/linear_model.html#logistic-regression\n",
      "  extra_warning_msg=_LOGISTIC_SOLVER_CONVERGENCE_MSG)\n",
      "/home/alva/anaconda3/lib/python3.7/site-packages/sklearn/linear_model/_logistic.py:765: ConvergenceWarning: lbfgs failed to converge (status=1):\n",
      "STOP: TOTAL NO. of ITERATIONS REACHED LIMIT.\n",
      "\n",
      "Increase the number of iterations (max_iter) or scale the data as shown in:\n",
      "    https://scikit-learn.org/stable/modules/preprocessing.html\n",
      "Please also refer to the documentation for alternative solver options:\n",
      "    https://scikit-learn.org/stable/modules/linear_model.html#logistic-regression\n",
      "  extra_warning_msg=_LOGISTIC_SOLVER_CONVERGENCE_MSG)\n",
      "/home/alva/anaconda3/lib/python3.7/site-packages/sklearn/linear_model/_logistic.py:765: ConvergenceWarning: lbfgs failed to converge (status=1):\n",
      "STOP: TOTAL NO. of ITERATIONS REACHED LIMIT.\n",
      "\n",
      "Increase the number of iterations (max_iter) or scale the data as shown in:\n",
      "    https://scikit-learn.org/stable/modules/preprocessing.html\n",
      "Please also refer to the documentation for alternative solver options:\n",
      "    https://scikit-learn.org/stable/modules/linear_model.html#logistic-regression\n",
      "  extra_warning_msg=_LOGISTIC_SOLVER_CONVERGENCE_MSG)\n",
      "/home/alva/anaconda3/lib/python3.7/site-packages/sklearn/linear_model/_logistic.py:765: ConvergenceWarning: lbfgs failed to converge (status=1):\n",
      "STOP: TOTAL NO. of ITERATIONS REACHED LIMIT.\n",
      "\n",
      "Increase the number of iterations (max_iter) or scale the data as shown in:\n",
      "    https://scikit-learn.org/stable/modules/preprocessing.html\n",
      "Please also refer to the documentation for alternative solver options:\n",
      "    https://scikit-learn.org/stable/modules/linear_model.html#logistic-regression\n",
      "  extra_warning_msg=_LOGISTIC_SOLVER_CONVERGENCE_MSG)\n",
      "/home/alva/anaconda3/lib/python3.7/site-packages/sklearn/linear_model/_logistic.py:765: ConvergenceWarning: lbfgs failed to converge (status=1):\n",
      "STOP: TOTAL NO. of ITERATIONS REACHED LIMIT.\n",
      "\n",
      "Increase the number of iterations (max_iter) or scale the data as shown in:\n",
      "    https://scikit-learn.org/stable/modules/preprocessing.html\n",
      "Please also refer to the documentation for alternative solver options:\n",
      "    https://scikit-learn.org/stable/modules/linear_model.html#logistic-regression\n",
      "  extra_warning_msg=_LOGISTIC_SOLVER_CONVERGENCE_MSG)\n"
     ]
    },
    {
     "name": "stderr",
     "output_type": "stream",
     "text": [
      "/home/alva/anaconda3/lib/python3.7/site-packages/sklearn/linear_model/_logistic.py:765: ConvergenceWarning: lbfgs failed to converge (status=1):\n",
      "STOP: TOTAL NO. of ITERATIONS REACHED LIMIT.\n",
      "\n",
      "Increase the number of iterations (max_iter) or scale the data as shown in:\n",
      "    https://scikit-learn.org/stable/modules/preprocessing.html\n",
      "Please also refer to the documentation for alternative solver options:\n",
      "    https://scikit-learn.org/stable/modules/linear_model.html#logistic-regression\n",
      "  extra_warning_msg=_LOGISTIC_SOLVER_CONVERGENCE_MSG)\n",
      "/home/alva/anaconda3/lib/python3.7/site-packages/sklearn/linear_model/_logistic.py:765: ConvergenceWarning: lbfgs failed to converge (status=1):\n",
      "STOP: TOTAL NO. of ITERATIONS REACHED LIMIT.\n",
      "\n",
      "Increase the number of iterations (max_iter) or scale the data as shown in:\n",
      "    https://scikit-learn.org/stable/modules/preprocessing.html\n",
      "Please also refer to the documentation for alternative solver options:\n",
      "    https://scikit-learn.org/stable/modules/linear_model.html#logistic-regression\n",
      "  extra_warning_msg=_LOGISTIC_SOLVER_CONVERGENCE_MSG)\n",
      "/home/alva/anaconda3/lib/python3.7/site-packages/sklearn/linear_model/_logistic.py:765: ConvergenceWarning: lbfgs failed to converge (status=1):\n",
      "STOP: TOTAL NO. of ITERATIONS REACHED LIMIT.\n",
      "\n",
      "Increase the number of iterations (max_iter) or scale the data as shown in:\n",
      "    https://scikit-learn.org/stable/modules/preprocessing.html\n",
      "Please also refer to the documentation for alternative solver options:\n",
      "    https://scikit-learn.org/stable/modules/linear_model.html#logistic-regression\n",
      "  extra_warning_msg=_LOGISTIC_SOLVER_CONVERGENCE_MSG)\n",
      "/home/alva/anaconda3/lib/python3.7/site-packages/sklearn/linear_model/_logistic.py:765: ConvergenceWarning: lbfgs failed to converge (status=1):\n",
      "STOP: TOTAL NO. of ITERATIONS REACHED LIMIT.\n",
      "\n",
      "Increase the number of iterations (max_iter) or scale the data as shown in:\n",
      "    https://scikit-learn.org/stable/modules/preprocessing.html\n",
      "Please also refer to the documentation for alternative solver options:\n",
      "    https://scikit-learn.org/stable/modules/linear_model.html#logistic-regression\n",
      "  extra_warning_msg=_LOGISTIC_SOLVER_CONVERGENCE_MSG)\n",
      "/home/alva/anaconda3/lib/python3.7/site-packages/sklearn/linear_model/_logistic.py:765: ConvergenceWarning: lbfgs failed to converge (status=1):\n",
      "STOP: TOTAL NO. of ITERATIONS REACHED LIMIT.\n",
      "\n",
      "Increase the number of iterations (max_iter) or scale the data as shown in:\n",
      "    https://scikit-learn.org/stable/modules/preprocessing.html\n",
      "Please also refer to the documentation for alternative solver options:\n",
      "    https://scikit-learn.org/stable/modules/linear_model.html#logistic-regression\n",
      "  extra_warning_msg=_LOGISTIC_SOLVER_CONVERGENCE_MSG)\n",
      "/home/alva/anaconda3/lib/python3.7/site-packages/sklearn/linear_model/_logistic.py:765: ConvergenceWarning: lbfgs failed to converge (status=1):\n",
      "STOP: TOTAL NO. of ITERATIONS REACHED LIMIT.\n",
      "\n",
      "Increase the number of iterations (max_iter) or scale the data as shown in:\n",
      "    https://scikit-learn.org/stable/modules/preprocessing.html\n",
      "Please also refer to the documentation for alternative solver options:\n",
      "    https://scikit-learn.org/stable/modules/linear_model.html#logistic-regression\n",
      "  extra_warning_msg=_LOGISTIC_SOLVER_CONVERGENCE_MSG)\n",
      "/home/alva/anaconda3/lib/python3.7/site-packages/sklearn/linear_model/_logistic.py:765: ConvergenceWarning: lbfgs failed to converge (status=1):\n",
      "STOP: TOTAL NO. of ITERATIONS REACHED LIMIT.\n",
      "\n",
      "Increase the number of iterations (max_iter) or scale the data as shown in:\n",
      "    https://scikit-learn.org/stable/modules/preprocessing.html\n",
      "Please also refer to the documentation for alternative solver options:\n",
      "    https://scikit-learn.org/stable/modules/linear_model.html#logistic-regression\n",
      "  extra_warning_msg=_LOGISTIC_SOLVER_CONVERGENCE_MSG)\n",
      "/home/alva/anaconda3/lib/python3.7/site-packages/sklearn/linear_model/_logistic.py:765: ConvergenceWarning: lbfgs failed to converge (status=1):\n",
      "STOP: TOTAL NO. of ITERATIONS REACHED LIMIT.\n",
      "\n",
      "Increase the number of iterations (max_iter) or scale the data as shown in:\n",
      "    https://scikit-learn.org/stable/modules/preprocessing.html\n",
      "Please also refer to the documentation for alternative solver options:\n",
      "    https://scikit-learn.org/stable/modules/linear_model.html#logistic-regression\n",
      "  extra_warning_msg=_LOGISTIC_SOLVER_CONVERGENCE_MSG)\n",
      "/home/alva/anaconda3/lib/python3.7/site-packages/sklearn/linear_model/_logistic.py:765: ConvergenceWarning: lbfgs failed to converge (status=1):\n",
      "STOP: TOTAL NO. of ITERATIONS REACHED LIMIT.\n",
      "\n",
      "Increase the number of iterations (max_iter) or scale the data as shown in:\n",
      "    https://scikit-learn.org/stable/modules/preprocessing.html\n",
      "Please also refer to the documentation for alternative solver options:\n",
      "    https://scikit-learn.org/stable/modules/linear_model.html#logistic-regression\n",
      "  extra_warning_msg=_LOGISTIC_SOLVER_CONVERGENCE_MSG)\n",
      "/home/alva/anaconda3/lib/python3.7/site-packages/sklearn/linear_model/_logistic.py:765: ConvergenceWarning: lbfgs failed to converge (status=1):\n",
      "STOP: TOTAL NO. of ITERATIONS REACHED LIMIT.\n",
      "\n",
      "Increase the number of iterations (max_iter) or scale the data as shown in:\n",
      "    https://scikit-learn.org/stable/modules/preprocessing.html\n",
      "Please also refer to the documentation for alternative solver options:\n",
      "    https://scikit-learn.org/stable/modules/linear_model.html#logistic-regression\n",
      "  extra_warning_msg=_LOGISTIC_SOLVER_CONVERGENCE_MSG)\n",
      "/home/alva/anaconda3/lib/python3.7/site-packages/sklearn/linear_model/_logistic.py:765: ConvergenceWarning: lbfgs failed to converge (status=1):\n",
      "STOP: TOTAL NO. of ITERATIONS REACHED LIMIT.\n",
      "\n",
      "Increase the number of iterations (max_iter) or scale the data as shown in:\n",
      "    https://scikit-learn.org/stable/modules/preprocessing.html\n",
      "Please also refer to the documentation for alternative solver options:\n",
      "    https://scikit-learn.org/stable/modules/linear_model.html#logistic-regression\n",
      "  extra_warning_msg=_LOGISTIC_SOLVER_CONVERGENCE_MSG)\n",
      "/home/alva/anaconda3/lib/python3.7/site-packages/sklearn/linear_model/_logistic.py:765: ConvergenceWarning: lbfgs failed to converge (status=1):\n",
      "STOP: TOTAL NO. of ITERATIONS REACHED LIMIT.\n",
      "\n",
      "Increase the number of iterations (max_iter) or scale the data as shown in:\n",
      "    https://scikit-learn.org/stable/modules/preprocessing.html\n",
      "Please also refer to the documentation for alternative solver options:\n",
      "    https://scikit-learn.org/stable/modules/linear_model.html#logistic-regression\n",
      "  extra_warning_msg=_LOGISTIC_SOLVER_CONVERGENCE_MSG)\n",
      "/home/alva/anaconda3/lib/python3.7/site-packages/sklearn/linear_model/_logistic.py:765: ConvergenceWarning: lbfgs failed to converge (status=1):\n",
      "STOP: TOTAL NO. of ITERATIONS REACHED LIMIT.\n",
      "\n",
      "Increase the number of iterations (max_iter) or scale the data as shown in:\n",
      "    https://scikit-learn.org/stable/modules/preprocessing.html\n",
      "Please also refer to the documentation for alternative solver options:\n",
      "    https://scikit-learn.org/stable/modules/linear_model.html#logistic-regression\n",
      "  extra_warning_msg=_LOGISTIC_SOLVER_CONVERGENCE_MSG)\n",
      "/home/alva/anaconda3/lib/python3.7/site-packages/sklearn/linear_model/_logistic.py:765: ConvergenceWarning: lbfgs failed to converge (status=1):\n",
      "STOP: TOTAL NO. of ITERATIONS REACHED LIMIT.\n",
      "\n",
      "Increase the number of iterations (max_iter) or scale the data as shown in:\n",
      "    https://scikit-learn.org/stable/modules/preprocessing.html\n",
      "Please also refer to the documentation for alternative solver options:\n",
      "    https://scikit-learn.org/stable/modules/linear_model.html#logistic-regression\n",
      "  extra_warning_msg=_LOGISTIC_SOLVER_CONVERGENCE_MSG)\n",
      "/home/alva/anaconda3/lib/python3.7/site-packages/sklearn/linear_model/_logistic.py:765: ConvergenceWarning: lbfgs failed to converge (status=1):\n",
      "STOP: TOTAL NO. of ITERATIONS REACHED LIMIT.\n",
      "\n",
      "Increase the number of iterations (max_iter) or scale the data as shown in:\n",
      "    https://scikit-learn.org/stable/modules/preprocessing.html\n",
      "Please also refer to the documentation for alternative solver options:\n",
      "    https://scikit-learn.org/stable/modules/linear_model.html#logistic-regression\n",
      "  extra_warning_msg=_LOGISTIC_SOLVER_CONVERGENCE_MSG)\n",
      "/home/alva/anaconda3/lib/python3.7/site-packages/sklearn/linear_model/_logistic.py:765: ConvergenceWarning: lbfgs failed to converge (status=1):\n",
      "STOP: TOTAL NO. of ITERATIONS REACHED LIMIT.\n",
      "\n",
      "Increase the number of iterations (max_iter) or scale the data as shown in:\n",
      "    https://scikit-learn.org/stable/modules/preprocessing.html\n",
      "Please also refer to the documentation for alternative solver options:\n",
      "    https://scikit-learn.org/stable/modules/linear_model.html#logistic-regression\n",
      "  extra_warning_msg=_LOGISTIC_SOLVER_CONVERGENCE_MSG)\n"
     ]
    },
    {
     "name": "stderr",
     "output_type": "stream",
     "text": [
      "/home/alva/anaconda3/lib/python3.7/site-packages/sklearn/linear_model/_logistic.py:765: ConvergenceWarning: lbfgs failed to converge (status=1):\n",
      "STOP: TOTAL NO. of ITERATIONS REACHED LIMIT.\n",
      "\n",
      "Increase the number of iterations (max_iter) or scale the data as shown in:\n",
      "    https://scikit-learn.org/stable/modules/preprocessing.html\n",
      "Please also refer to the documentation for alternative solver options:\n",
      "    https://scikit-learn.org/stable/modules/linear_model.html#logistic-regression\n",
      "  extra_warning_msg=_LOGISTIC_SOLVER_CONVERGENCE_MSG)\n",
      "/home/alva/anaconda3/lib/python3.7/site-packages/sklearn/linear_model/_logistic.py:765: ConvergenceWarning: lbfgs failed to converge (status=1):\n",
      "STOP: TOTAL NO. of ITERATIONS REACHED LIMIT.\n",
      "\n",
      "Increase the number of iterations (max_iter) or scale the data as shown in:\n",
      "    https://scikit-learn.org/stable/modules/preprocessing.html\n",
      "Please also refer to the documentation for alternative solver options:\n",
      "    https://scikit-learn.org/stable/modules/linear_model.html#logistic-regression\n",
      "  extra_warning_msg=_LOGISTIC_SOLVER_CONVERGENCE_MSG)\n",
      "/home/alva/anaconda3/lib/python3.7/site-packages/sklearn/linear_model/_logistic.py:765: ConvergenceWarning: lbfgs failed to converge (status=1):\n",
      "STOP: TOTAL NO. of ITERATIONS REACHED LIMIT.\n",
      "\n",
      "Increase the number of iterations (max_iter) or scale the data as shown in:\n",
      "    https://scikit-learn.org/stable/modules/preprocessing.html\n",
      "Please also refer to the documentation for alternative solver options:\n",
      "    https://scikit-learn.org/stable/modules/linear_model.html#logistic-regression\n",
      "  extra_warning_msg=_LOGISTIC_SOLVER_CONVERGENCE_MSG)\n",
      "/home/alva/anaconda3/lib/python3.7/site-packages/sklearn/linear_model/_logistic.py:765: ConvergenceWarning: lbfgs failed to converge (status=1):\n",
      "STOP: TOTAL NO. of ITERATIONS REACHED LIMIT.\n",
      "\n",
      "Increase the number of iterations (max_iter) or scale the data as shown in:\n",
      "    https://scikit-learn.org/stable/modules/preprocessing.html\n",
      "Please also refer to the documentation for alternative solver options:\n",
      "    https://scikit-learn.org/stable/modules/linear_model.html#logistic-regression\n",
      "  extra_warning_msg=_LOGISTIC_SOLVER_CONVERGENCE_MSG)\n",
      "/home/alva/anaconda3/lib/python3.7/site-packages/sklearn/linear_model/_logistic.py:765: ConvergenceWarning: lbfgs failed to converge (status=1):\n",
      "STOP: TOTAL NO. of ITERATIONS REACHED LIMIT.\n",
      "\n",
      "Increase the number of iterations (max_iter) or scale the data as shown in:\n",
      "    https://scikit-learn.org/stable/modules/preprocessing.html\n",
      "Please also refer to the documentation for alternative solver options:\n",
      "    https://scikit-learn.org/stable/modules/linear_model.html#logistic-regression\n",
      "  extra_warning_msg=_LOGISTIC_SOLVER_CONVERGENCE_MSG)\n",
      "/home/alva/anaconda3/lib/python3.7/site-packages/sklearn/linear_model/_logistic.py:765: ConvergenceWarning: lbfgs failed to converge (status=1):\n",
      "STOP: TOTAL NO. of ITERATIONS REACHED LIMIT.\n",
      "\n",
      "Increase the number of iterations (max_iter) or scale the data as shown in:\n",
      "    https://scikit-learn.org/stable/modules/preprocessing.html\n",
      "Please also refer to the documentation for alternative solver options:\n",
      "    https://scikit-learn.org/stable/modules/linear_model.html#logistic-regression\n",
      "  extra_warning_msg=_LOGISTIC_SOLVER_CONVERGENCE_MSG)\n",
      "/home/alva/anaconda3/lib/python3.7/site-packages/sklearn/linear_model/_logistic.py:765: ConvergenceWarning: lbfgs failed to converge (status=1):\n",
      "STOP: TOTAL NO. of ITERATIONS REACHED LIMIT.\n",
      "\n",
      "Increase the number of iterations (max_iter) or scale the data as shown in:\n",
      "    https://scikit-learn.org/stable/modules/preprocessing.html\n",
      "Please also refer to the documentation for alternative solver options:\n",
      "    https://scikit-learn.org/stable/modules/linear_model.html#logistic-regression\n",
      "  extra_warning_msg=_LOGISTIC_SOLVER_CONVERGENCE_MSG)\n",
      "/home/alva/anaconda3/lib/python3.7/site-packages/sklearn/linear_model/_logistic.py:765: ConvergenceWarning: lbfgs failed to converge (status=1):\n",
      "STOP: TOTAL NO. of ITERATIONS REACHED LIMIT.\n",
      "\n",
      "Increase the number of iterations (max_iter) or scale the data as shown in:\n",
      "    https://scikit-learn.org/stable/modules/preprocessing.html\n",
      "Please also refer to the documentation for alternative solver options:\n",
      "    https://scikit-learn.org/stable/modules/linear_model.html#logistic-regression\n",
      "  extra_warning_msg=_LOGISTIC_SOLVER_CONVERGENCE_MSG)\n",
      "/home/alva/anaconda3/lib/python3.7/site-packages/sklearn/linear_model/_logistic.py:765: ConvergenceWarning: lbfgs failed to converge (status=1):\n",
      "STOP: TOTAL NO. of ITERATIONS REACHED LIMIT.\n",
      "\n",
      "Increase the number of iterations (max_iter) or scale the data as shown in:\n",
      "    https://scikit-learn.org/stable/modules/preprocessing.html\n",
      "Please also refer to the documentation for alternative solver options:\n",
      "    https://scikit-learn.org/stable/modules/linear_model.html#logistic-regression\n",
      "  extra_warning_msg=_LOGISTIC_SOLVER_CONVERGENCE_MSG)\n"
     ]
    },
    {
     "name": "stdout",
     "output_type": "stream",
     "text": [
      "[False  True False False False  True False False  True False False False\n",
      " False False False False False False False False False  True  True  True\n",
      "  True  True  True  True  True  True  True  True  True  True  True False\n",
      "  True False False  True False  True  True False False False  True False\n",
      " False False False False False  True False False False False False False\n",
      " False False False  True  True]\n",
      "[34  1 33  9 21  1 37 28  1 41 23 36 18 19 35 30 17 39 20 29 40  1  1  1\n",
      "  1  1  1  1  1  1  1  1  1  1  1 27  1  2 31  1  8  1  1 15 11 16  1 13\n",
      "  3 26 12 10 25  1 14 24 22  7  5 32  6  4 38  1  1]\n"
     ]
    },
    {
     "name": "stderr",
     "output_type": "stream",
     "text": [
      "/home/alva/anaconda3/lib/python3.7/site-packages/sklearn/linear_model/_logistic.py:765: ConvergenceWarning: lbfgs failed to converge (status=1):\n",
      "STOP: TOTAL NO. of ITERATIONS REACHED LIMIT.\n",
      "\n",
      "Increase the number of iterations (max_iter) or scale the data as shown in:\n",
      "    https://scikit-learn.org/stable/modules/preprocessing.html\n",
      "Please also refer to the documentation for alternative solver options:\n",
      "    https://scikit-learn.org/stable/modules/linear_model.html#logistic-regression\n",
      "  extra_warning_msg=_LOGISTIC_SOLVER_CONVERGENCE_MSG)\n"
     ]
    }
   ],
   "source": [
    "y=['Pathway']\n",
    "X=[i for i in data_final_vars if i not in y]\n",
    "logreg = LogisticRegression()\n",
    "rfe    = RFE(logreg, 25)\n",
    "rfe    = rfe.fit(os_data_X, os_data_y.values.ravel())\n",
    "print(rfe.support_)\n",
    "print(rfe.ranking_)"
   ]
  },
  {
   "cell_type": "code",
   "execution_count": 142,
   "id": "massive-processing",
   "metadata": {
    "collapsed": true
   },
   "outputs": [
    {
     "data": {
      "text/plain": [
       "0       NaN\n",
       "1       NaN\n",
       "2       NaN\n",
       "3       NaN\n",
       "4       NaN\n",
       "         ..\n",
       "10755   NaN\n",
       "10756   NaN\n",
       "10757   NaN\n",
       "10758   NaN\n",
       "10759   NaN\n",
       "Name: Pathway, Length: 10760, dtype: float64"
      ]
     },
     "execution_count": 142,
     "metadata": {},
     "output_type": "execute_result"
    }
   ],
   "source": [
    "balanced_y"
   ]
  },
  {
   "cell_type": "code",
   "execution_count": 155,
   "id": "plastic-franklin",
   "metadata": {},
   "outputs": [],
   "source": [
    "balanced_X_without_rfe = os_data_X\n",
    "balanced_y = os_data_y['y']"
   ]
  },
  {
   "cell_type": "code",
   "execution_count": 158,
   "id": "technical-whale",
   "metadata": {},
   "outputs": [
    {
     "data": {
      "text/plain": [
       "(15618, 57)"
      ]
     },
     "execution_count": 158,
     "metadata": {},
     "output_type": "execute_result"
    }
   ],
   "source": [
    "balanced_X_without_rfe.shape"
   ]
  },
  {
   "cell_type": "code",
   "execution_count": 185,
   "id": "extended-stock",
   "metadata": {
    "collapsed": true
   },
   "outputs": [
    {
     "ename": "KeyError",
     "evalue": "'Pathway'",
     "output_type": "error",
     "traceback": [
      "\u001b[0;31m---------------------------------------------------------------------------\u001b[0m",
      "\u001b[0;31mKeyError\u001b[0m                                  Traceback (most recent call last)",
      "\u001b[0;32m~/anaconda3/lib/python3.7/site-packages/pandas/core/indexes/base.py\u001b[0m in \u001b[0;36mget_loc\u001b[0;34m(self, key, method, tolerance)\u001b[0m\n\u001b[1;32m   3079\u001b[0m             \u001b[0;32mtry\u001b[0m\u001b[0;34m:\u001b[0m\u001b[0;34m\u001b[0m\u001b[0;34m\u001b[0m\u001b[0m\n\u001b[0;32m-> 3080\u001b[0;31m                 \u001b[0;32mreturn\u001b[0m \u001b[0mself\u001b[0m\u001b[0;34m.\u001b[0m\u001b[0m_engine\u001b[0m\u001b[0;34m.\u001b[0m\u001b[0mget_loc\u001b[0m\u001b[0;34m(\u001b[0m\u001b[0mcasted_key\u001b[0m\u001b[0;34m)\u001b[0m\u001b[0;34m\u001b[0m\u001b[0;34m\u001b[0m\u001b[0m\n\u001b[0m\u001b[1;32m   3081\u001b[0m             \u001b[0;32mexcept\u001b[0m \u001b[0mKeyError\u001b[0m \u001b[0;32mas\u001b[0m \u001b[0merr\u001b[0m\u001b[0;34m:\u001b[0m\u001b[0;34m\u001b[0m\u001b[0;34m\u001b[0m\u001b[0m\n",
      "\u001b[0;32mpandas/_libs/index.pyx\u001b[0m in \u001b[0;36mpandas._libs.index.IndexEngine.get_loc\u001b[0;34m()\u001b[0m\n",
      "\u001b[0;32mpandas/_libs/index.pyx\u001b[0m in \u001b[0;36mpandas._libs.index.IndexEngine.get_loc\u001b[0;34m()\u001b[0m\n",
      "\u001b[0;32mpandas/_libs/hashtable_class_helper.pxi\u001b[0m in \u001b[0;36mpandas._libs.hashtable.PyObjectHashTable.get_item\u001b[0;34m()\u001b[0m\n",
      "\u001b[0;32mpandas/_libs/hashtable_class_helper.pxi\u001b[0m in \u001b[0;36mpandas._libs.hashtable.PyObjectHashTable.get_item\u001b[0;34m()\u001b[0m\n",
      "\u001b[0;31mKeyError\u001b[0m: 'Pathway'",
      "\nThe above exception was the direct cause of the following exception:\n",
      "\u001b[0;31mKeyError\u001b[0m                                  Traceback (most recent call last)",
      "\u001b[0;32m<ipython-input-185-371113a6dc8f>\u001b[0m in \u001b[0;36m<module>\u001b[0;34m\u001b[0m\n\u001b[1;32m      1\u001b[0m \u001b[0mbalanced_X\u001b[0m \u001b[0;34m=\u001b[0m \u001b[0mos_data_X\u001b[0m\u001b[0;34m[\u001b[0m\u001b[0mos_data_X\u001b[0m\u001b[0;34m.\u001b[0m\u001b[0mcolumns\u001b[0m\u001b[0;34m[\u001b[0m\u001b[0mrfe\u001b[0m\u001b[0;34m.\u001b[0m\u001b[0msupport_\u001b[0m\u001b[0;34m]\u001b[0m\u001b[0;34m.\u001b[0m\u001b[0mtolist\u001b[0m\u001b[0;34m(\u001b[0m\u001b[0;34m)\u001b[0m\u001b[0;34m]\u001b[0m\u001b[0;34m\u001b[0m\u001b[0;34m\u001b[0m\u001b[0m\n\u001b[0;32m----> 2\u001b[0;31m \u001b[0mbalanced_y\u001b[0m \u001b[0;34m=\u001b[0m \u001b[0mos_data_y\u001b[0m\u001b[0;34m[\u001b[0m\u001b[0;34m'Pathway'\u001b[0m\u001b[0;34m]\u001b[0m\u001b[0;34m\u001b[0m\u001b[0;34m\u001b[0m\u001b[0m\n\u001b[0m",
      "\u001b[0;32m~/anaconda3/lib/python3.7/site-packages/pandas/core/frame.py\u001b[0m in \u001b[0;36m__getitem__\u001b[0;34m(self, key)\u001b[0m\n\u001b[1;32m   3022\u001b[0m             \u001b[0;32mif\u001b[0m \u001b[0mself\u001b[0m\u001b[0;34m.\u001b[0m\u001b[0mcolumns\u001b[0m\u001b[0;34m.\u001b[0m\u001b[0mnlevels\u001b[0m \u001b[0;34m>\u001b[0m \u001b[0;36m1\u001b[0m\u001b[0;34m:\u001b[0m\u001b[0;34m\u001b[0m\u001b[0;34m\u001b[0m\u001b[0m\n\u001b[1;32m   3023\u001b[0m                 \u001b[0;32mreturn\u001b[0m \u001b[0mself\u001b[0m\u001b[0;34m.\u001b[0m\u001b[0m_getitem_multilevel\u001b[0m\u001b[0;34m(\u001b[0m\u001b[0mkey\u001b[0m\u001b[0;34m)\u001b[0m\u001b[0;34m\u001b[0m\u001b[0;34m\u001b[0m\u001b[0m\n\u001b[0;32m-> 3024\u001b[0;31m             \u001b[0mindexer\u001b[0m \u001b[0;34m=\u001b[0m \u001b[0mself\u001b[0m\u001b[0;34m.\u001b[0m\u001b[0mcolumns\u001b[0m\u001b[0;34m.\u001b[0m\u001b[0mget_loc\u001b[0m\u001b[0;34m(\u001b[0m\u001b[0mkey\u001b[0m\u001b[0;34m)\u001b[0m\u001b[0;34m\u001b[0m\u001b[0;34m\u001b[0m\u001b[0m\n\u001b[0m\u001b[1;32m   3025\u001b[0m             \u001b[0;32mif\u001b[0m \u001b[0mis_integer\u001b[0m\u001b[0;34m(\u001b[0m\u001b[0mindexer\u001b[0m\u001b[0;34m)\u001b[0m\u001b[0;34m:\u001b[0m\u001b[0;34m\u001b[0m\u001b[0;34m\u001b[0m\u001b[0m\n\u001b[1;32m   3026\u001b[0m                 \u001b[0mindexer\u001b[0m \u001b[0;34m=\u001b[0m \u001b[0;34m[\u001b[0m\u001b[0mindexer\u001b[0m\u001b[0;34m]\u001b[0m\u001b[0;34m\u001b[0m\u001b[0;34m\u001b[0m\u001b[0m\n",
      "\u001b[0;32m~/anaconda3/lib/python3.7/site-packages/pandas/core/indexes/base.py\u001b[0m in \u001b[0;36mget_loc\u001b[0;34m(self, key, method, tolerance)\u001b[0m\n\u001b[1;32m   3080\u001b[0m                 \u001b[0;32mreturn\u001b[0m \u001b[0mself\u001b[0m\u001b[0;34m.\u001b[0m\u001b[0m_engine\u001b[0m\u001b[0;34m.\u001b[0m\u001b[0mget_loc\u001b[0m\u001b[0;34m(\u001b[0m\u001b[0mcasted_key\u001b[0m\u001b[0;34m)\u001b[0m\u001b[0;34m\u001b[0m\u001b[0;34m\u001b[0m\u001b[0m\n\u001b[1;32m   3081\u001b[0m             \u001b[0;32mexcept\u001b[0m \u001b[0mKeyError\u001b[0m \u001b[0;32mas\u001b[0m \u001b[0merr\u001b[0m\u001b[0;34m:\u001b[0m\u001b[0;34m\u001b[0m\u001b[0;34m\u001b[0m\u001b[0m\n\u001b[0;32m-> 3082\u001b[0;31m                 \u001b[0;32mraise\u001b[0m \u001b[0mKeyError\u001b[0m\u001b[0;34m(\u001b[0m\u001b[0mkey\u001b[0m\u001b[0;34m)\u001b[0m \u001b[0;32mfrom\u001b[0m \u001b[0merr\u001b[0m\u001b[0;34m\u001b[0m\u001b[0;34m\u001b[0m\u001b[0m\n\u001b[0m\u001b[1;32m   3083\u001b[0m \u001b[0;34m\u001b[0m\u001b[0m\n\u001b[1;32m   3084\u001b[0m         \u001b[0;32mif\u001b[0m \u001b[0mtolerance\u001b[0m \u001b[0;32mis\u001b[0m \u001b[0;32mnot\u001b[0m \u001b[0;32mNone\u001b[0m\u001b[0;34m:\u001b[0m\u001b[0;34m\u001b[0m\u001b[0;34m\u001b[0m\u001b[0m\n",
      "\u001b[0;31mKeyError\u001b[0m: 'Pathway'"
     ]
    }
   ],
   "source": [
    "balanced_X = os_data_X[os_data_X.columns[rfe.support_].tolist()]\n",
    "balanced_y = os_data_y['Pathway']"
   ]
  },
  {
   "cell_type": "code",
   "execution_count": 156,
   "id": "preliminary-divide",
   "metadata": {},
   "outputs": [
    {
     "name": "stdout",
     "output_type": "stream",
     "text": [
      "Stored 'balanced_X_without_rfe' (DataFrame)\n",
      "Stored 'balanced_y' (Series)\n"
     ]
    }
   ],
   "source": [
    "%store balanced_X_without_rfe\n",
    "%store balanced_y"
   ]
  },
  {
   "cell_type": "code",
   "execution_count": 248,
   "id": "accessory-wheat",
   "metadata": {
    "collapsed": true
   },
   "outputs": [
    {
     "ename": "KeyError",
     "evalue": "'pathway_y'",
     "output_type": "error",
     "traceback": [
      "\u001b[0;31m---------------------------------------------------------------------------\u001b[0m",
      "\u001b[0;31mKeyError\u001b[0m                                  Traceback (most recent call last)",
      "\u001b[0;32m~/anaconda3/lib/python3.7/site-packages/pandas/core/indexes/base.py\u001b[0m in \u001b[0;36mget_loc\u001b[0;34m(self, key, method, tolerance)\u001b[0m\n\u001b[1;32m   3079\u001b[0m             \u001b[0;32mtry\u001b[0m\u001b[0;34m:\u001b[0m\u001b[0;34m\u001b[0m\u001b[0;34m\u001b[0m\u001b[0m\n\u001b[0;32m-> 3080\u001b[0;31m                 \u001b[0;32mreturn\u001b[0m \u001b[0mself\u001b[0m\u001b[0;34m.\u001b[0m\u001b[0m_engine\u001b[0m\u001b[0;34m.\u001b[0m\u001b[0mget_loc\u001b[0m\u001b[0;34m(\u001b[0m\u001b[0mcasted_key\u001b[0m\u001b[0;34m)\u001b[0m\u001b[0;34m\u001b[0m\u001b[0;34m\u001b[0m\u001b[0m\n\u001b[0m\u001b[1;32m   3081\u001b[0m             \u001b[0;32mexcept\u001b[0m \u001b[0mKeyError\u001b[0m \u001b[0;32mas\u001b[0m \u001b[0merr\u001b[0m\u001b[0;34m:\u001b[0m\u001b[0;34m\u001b[0m\u001b[0;34m\u001b[0m\u001b[0m\n",
      "\u001b[0;32mpandas/_libs/index.pyx\u001b[0m in \u001b[0;36mpandas._libs.index.IndexEngine.get_loc\u001b[0;34m()\u001b[0m\n",
      "\u001b[0;32mpandas/_libs/index.pyx\u001b[0m in \u001b[0;36mpandas._libs.index.IndexEngine.get_loc\u001b[0;34m()\u001b[0m\n",
      "\u001b[0;32mpandas/_libs/hashtable_class_helper.pxi\u001b[0m in \u001b[0;36mpandas._libs.hashtable.PyObjectHashTable.get_item\u001b[0;34m()\u001b[0m\n",
      "\u001b[0;32mpandas/_libs/hashtable_class_helper.pxi\u001b[0m in \u001b[0;36mpandas._libs.hashtable.PyObjectHashTable.get_item\u001b[0;34m()\u001b[0m\n",
      "\u001b[0;31mKeyError\u001b[0m: 'pathway_y'",
      "\nThe above exception was the direct cause of the following exception:\n",
      "\u001b[0;31mKeyError\u001b[0m                                  Traceback (most recent call last)",
      "\u001b[0;32m<ipython-input-248-15eeb13b37b3>\u001b[0m in \u001b[0;36m<module>\u001b[0;34m\u001b[0m\n\u001b[0;32m----> 1\u001b[0;31m \u001b[0mos_data_y\u001b[0m\u001b[0;34m[\u001b[0m\u001b[0;34m'pathway_y'\u001b[0m\u001b[0;34m]\u001b[0m\u001b[0;34m\u001b[0m\u001b[0;34m\u001b[0m\u001b[0m\n\u001b[0m",
      "\u001b[0;32m~/anaconda3/lib/python3.7/site-packages/pandas/core/frame.py\u001b[0m in \u001b[0;36m__getitem__\u001b[0;34m(self, key)\u001b[0m\n\u001b[1;32m   3022\u001b[0m             \u001b[0;32mif\u001b[0m \u001b[0mself\u001b[0m\u001b[0;34m.\u001b[0m\u001b[0mcolumns\u001b[0m\u001b[0;34m.\u001b[0m\u001b[0mnlevels\u001b[0m \u001b[0;34m>\u001b[0m \u001b[0;36m1\u001b[0m\u001b[0;34m:\u001b[0m\u001b[0;34m\u001b[0m\u001b[0;34m\u001b[0m\u001b[0m\n\u001b[1;32m   3023\u001b[0m                 \u001b[0;32mreturn\u001b[0m \u001b[0mself\u001b[0m\u001b[0;34m.\u001b[0m\u001b[0m_getitem_multilevel\u001b[0m\u001b[0;34m(\u001b[0m\u001b[0mkey\u001b[0m\u001b[0;34m)\u001b[0m\u001b[0;34m\u001b[0m\u001b[0;34m\u001b[0m\u001b[0m\n\u001b[0;32m-> 3024\u001b[0;31m             \u001b[0mindexer\u001b[0m \u001b[0;34m=\u001b[0m \u001b[0mself\u001b[0m\u001b[0;34m.\u001b[0m\u001b[0mcolumns\u001b[0m\u001b[0;34m.\u001b[0m\u001b[0mget_loc\u001b[0m\u001b[0;34m(\u001b[0m\u001b[0mkey\u001b[0m\u001b[0;34m)\u001b[0m\u001b[0;34m\u001b[0m\u001b[0;34m\u001b[0m\u001b[0m\n\u001b[0m\u001b[1;32m   3025\u001b[0m             \u001b[0;32mif\u001b[0m \u001b[0mis_integer\u001b[0m\u001b[0;34m(\u001b[0m\u001b[0mindexer\u001b[0m\u001b[0;34m)\u001b[0m\u001b[0;34m:\u001b[0m\u001b[0;34m\u001b[0m\u001b[0;34m\u001b[0m\u001b[0m\n\u001b[1;32m   3026\u001b[0m                 \u001b[0mindexer\u001b[0m \u001b[0;34m=\u001b[0m \u001b[0;34m[\u001b[0m\u001b[0mindexer\u001b[0m\u001b[0;34m]\u001b[0m\u001b[0;34m\u001b[0m\u001b[0;34m\u001b[0m\u001b[0m\n",
      "\u001b[0;32m~/anaconda3/lib/python3.7/site-packages/pandas/core/indexes/base.py\u001b[0m in \u001b[0;36mget_loc\u001b[0;34m(self, key, method, tolerance)\u001b[0m\n\u001b[1;32m   3080\u001b[0m                 \u001b[0;32mreturn\u001b[0m \u001b[0mself\u001b[0m\u001b[0;34m.\u001b[0m\u001b[0m_engine\u001b[0m\u001b[0;34m.\u001b[0m\u001b[0mget_loc\u001b[0m\u001b[0;34m(\u001b[0m\u001b[0mcasted_key\u001b[0m\u001b[0;34m)\u001b[0m\u001b[0;34m\u001b[0m\u001b[0;34m\u001b[0m\u001b[0m\n\u001b[1;32m   3081\u001b[0m             \u001b[0;32mexcept\u001b[0m \u001b[0mKeyError\u001b[0m \u001b[0;32mas\u001b[0m \u001b[0merr\u001b[0m\u001b[0;34m:\u001b[0m\u001b[0;34m\u001b[0m\u001b[0;34m\u001b[0m\u001b[0m\n\u001b[0;32m-> 3082\u001b[0;31m                 \u001b[0;32mraise\u001b[0m \u001b[0mKeyError\u001b[0m\u001b[0;34m(\u001b[0m\u001b[0mkey\u001b[0m\u001b[0;34m)\u001b[0m \u001b[0;32mfrom\u001b[0m \u001b[0merr\u001b[0m\u001b[0;34m\u001b[0m\u001b[0;34m\u001b[0m\u001b[0m\n\u001b[0m\u001b[1;32m   3083\u001b[0m \u001b[0;34m\u001b[0m\u001b[0m\n\u001b[1;32m   3084\u001b[0m         \u001b[0;32mif\u001b[0m \u001b[0mtolerance\u001b[0m \u001b[0;32mis\u001b[0m \u001b[0;32mnot\u001b[0m \u001b[0;32mNone\u001b[0m\u001b[0;34m:\u001b[0m\u001b[0;34m\u001b[0m\u001b[0;34m\u001b[0m\u001b[0m\n",
      "\u001b[0;31mKeyError\u001b[0m: 'pathway_y'"
     ]
    }
   ],
   "source": [
    "os_data_y['pathway_y']"
   ]
  },
  {
   "cell_type": "code",
   "execution_count": 186,
   "id": "radical-aruba",
   "metadata": {},
   "outputs": [],
   "source": [
    "X=os_data_X[os_data_X.columns[rfe.support_].tolist()]\n",
    "y=os_data_y['y']"
   ]
  },
  {
   "cell_type": "code",
   "execution_count": 192,
   "id": "sophisticated-mediterranean",
   "metadata": {},
   "outputs": [
    {
     "data": {
      "text/plain": [
       "Index(['types', 'risk_alelle_freq', 'proximal_cancer_driver_Yes',\n",
       "       'sample_BRCA', 'sample_COAD', 'sample_ESCA', 'sample_HNSC',\n",
       "       'sample_KICH', 'sample_KIRC', 'sample_KIRP', 'sample_LIHC',\n",
       "       'sample_LUAD', 'sample_LUSC', 'sample_PAAD', 'sample_PRAD',\n",
       "       'sample_STAD', 'sample_THCA', 'mechanism_Enhancer',\n",
       "       'mechanism_Enhancer_ Variant', 'mechanism_TF_ Variant',\n",
       "       'mechanism_Variant', 'functional_EMT', 'functional_Survival_ EMT',\n",
       "       'SNPS_No', 'SNPS_Yes'],\n",
       "      dtype='object')"
      ]
     },
     "execution_count": 192,
     "metadata": {},
     "output_type": "execute_result"
    }
   ],
   "source": [
    "X.columns"
   ]
  },
  {
   "cell_type": "markdown",
   "id": "documented-electricity",
   "metadata": {},
   "source": [
    "Implementing the model\n"
   ]
  },
  {
   "cell_type": "code",
   "execution_count": 187,
   "id": "permanent-stake",
   "metadata": {},
   "outputs": [
    {
     "name": "stdout",
     "output_type": "stream",
     "text": [
      "Warning: Maximum number of iterations has been exceeded.\n",
      "         Current function value: 0.575210\n",
      "         Iterations: 35\n"
     ]
    },
    {
     "ename": "LinAlgError",
     "evalue": "Singular matrix",
     "output_type": "error",
     "traceback": [
      "\u001b[0;31m---------------------------------------------------------------------------\u001b[0m",
      "\u001b[0;31mLinAlgError\u001b[0m                               Traceback (most recent call last)",
      "\u001b[0;32m<ipython-input-187-4c2655e55d38>\u001b[0m in \u001b[0;36m<module>\u001b[0;34m\u001b[0m\n\u001b[1;32m      1\u001b[0m \u001b[0;32mimport\u001b[0m \u001b[0mstatsmodels\u001b[0m\u001b[0;34m.\u001b[0m\u001b[0mapi\u001b[0m \u001b[0;32mas\u001b[0m \u001b[0msm\u001b[0m\u001b[0;34m\u001b[0m\u001b[0;34m\u001b[0m\u001b[0m\n\u001b[1;32m      2\u001b[0m \u001b[0mlogit_model\u001b[0m \u001b[0;34m=\u001b[0m \u001b[0msm\u001b[0m\u001b[0;34m.\u001b[0m\u001b[0mLogit\u001b[0m\u001b[0;34m(\u001b[0m\u001b[0my\u001b[0m\u001b[0;34m,\u001b[0m\u001b[0mX\u001b[0m\u001b[0;34m)\u001b[0m\u001b[0;34m\u001b[0m\u001b[0;34m\u001b[0m\u001b[0m\n\u001b[0;32m----> 3\u001b[0;31m \u001b[0mresult\u001b[0m      \u001b[0;34m=\u001b[0m \u001b[0mlogit_model\u001b[0m\u001b[0;34m.\u001b[0m\u001b[0mfit\u001b[0m\u001b[0;34m(\u001b[0m\u001b[0;34m)\u001b[0m\u001b[0;34m\u001b[0m\u001b[0;34m\u001b[0m\u001b[0m\n\u001b[0m\u001b[1;32m      4\u001b[0m \u001b[0mprint\u001b[0m\u001b[0;34m(\u001b[0m\u001b[0mresult\u001b[0m\u001b[0;34m.\u001b[0m\u001b[0msummary2\u001b[0m\u001b[0;34m(\u001b[0m\u001b[0;34m)\u001b[0m\u001b[0;34m)\u001b[0m\u001b[0;34m\u001b[0m\u001b[0;34m\u001b[0m\u001b[0m\n",
      "\u001b[0;32m~/anaconda3/lib/python3.7/site-packages/statsmodels/discrete/discrete_model.py\u001b[0m in \u001b[0;36mfit\u001b[0;34m(self, start_params, method, maxiter, full_output, disp, callback, **kwargs)\u001b[0m\n\u001b[1;32m   1978\u001b[0m                               \u001b[0mdisp\u001b[0m\u001b[0;34m=\u001b[0m\u001b[0mdisp\u001b[0m\u001b[0;34m,\u001b[0m\u001b[0;34m\u001b[0m\u001b[0;34m\u001b[0m\u001b[0m\n\u001b[1;32m   1979\u001b[0m                               \u001b[0mcallback\u001b[0m\u001b[0;34m=\u001b[0m\u001b[0mcallback\u001b[0m\u001b[0;34m,\u001b[0m\u001b[0;34m\u001b[0m\u001b[0;34m\u001b[0m\u001b[0m\n\u001b[0;32m-> 1980\u001b[0;31m                               **kwargs)\n\u001b[0m\u001b[1;32m   1981\u001b[0m \u001b[0;34m\u001b[0m\u001b[0m\n\u001b[1;32m   1982\u001b[0m         \u001b[0mdiscretefit\u001b[0m \u001b[0;34m=\u001b[0m \u001b[0mLogitResults\u001b[0m\u001b[0;34m(\u001b[0m\u001b[0mself\u001b[0m\u001b[0;34m,\u001b[0m \u001b[0mbnryfit\u001b[0m\u001b[0;34m)\u001b[0m\u001b[0;34m\u001b[0m\u001b[0;34m\u001b[0m\u001b[0m\n",
      "\u001b[0;32m~/anaconda3/lib/python3.7/site-packages/statsmodels/discrete/discrete_model.py\u001b[0m in \u001b[0;36mfit\u001b[0;34m(self, start_params, method, maxiter, full_output, disp, callback, **kwargs)\u001b[0m\n\u001b[1;32m    231\u001b[0m                              \u001b[0mdisp\u001b[0m\u001b[0;34m=\u001b[0m\u001b[0mdisp\u001b[0m\u001b[0;34m,\u001b[0m\u001b[0;34m\u001b[0m\u001b[0;34m\u001b[0m\u001b[0m\n\u001b[1;32m    232\u001b[0m                              \u001b[0mcallback\u001b[0m\u001b[0;34m=\u001b[0m\u001b[0mcallback\u001b[0m\u001b[0;34m,\u001b[0m\u001b[0;34m\u001b[0m\u001b[0;34m\u001b[0m\u001b[0m\n\u001b[0;32m--> 233\u001b[0;31m                              **kwargs)\n\u001b[0m\u001b[1;32m    234\u001b[0m \u001b[0;34m\u001b[0m\u001b[0m\n\u001b[1;32m    235\u001b[0m         \u001b[0;32mreturn\u001b[0m \u001b[0mmlefit\u001b[0m  \u001b[0;31m# It is up to subclasses to wrap results\u001b[0m\u001b[0;34m\u001b[0m\u001b[0;34m\u001b[0m\u001b[0m\n",
      "\u001b[0;32m~/anaconda3/lib/python3.7/site-packages/statsmodels/base/model.py\u001b[0m in \u001b[0;36mfit\u001b[0;34m(self, start_params, method, maxiter, full_output, disp, fargs, callback, retall, skip_hessian, **kwargs)\u001b[0m\n\u001b[1;32m    532\u001b[0m             \u001b[0mHinv\u001b[0m \u001b[0;34m=\u001b[0m \u001b[0mcov_params_func\u001b[0m\u001b[0;34m(\u001b[0m\u001b[0mself\u001b[0m\u001b[0;34m,\u001b[0m \u001b[0mxopt\u001b[0m\u001b[0;34m,\u001b[0m \u001b[0mretvals\u001b[0m\u001b[0;34m)\u001b[0m\u001b[0;34m\u001b[0m\u001b[0;34m\u001b[0m\u001b[0m\n\u001b[1;32m    533\u001b[0m         \u001b[0;32melif\u001b[0m \u001b[0mmethod\u001b[0m \u001b[0;34m==\u001b[0m \u001b[0;34m'newton'\u001b[0m \u001b[0;32mand\u001b[0m \u001b[0mfull_output\u001b[0m\u001b[0;34m:\u001b[0m\u001b[0;34m\u001b[0m\u001b[0;34m\u001b[0m\u001b[0m\n\u001b[0;32m--> 534\u001b[0;31m             \u001b[0mHinv\u001b[0m \u001b[0;34m=\u001b[0m \u001b[0mnp\u001b[0m\u001b[0;34m.\u001b[0m\u001b[0mlinalg\u001b[0m\u001b[0;34m.\u001b[0m\u001b[0minv\u001b[0m\u001b[0;34m(\u001b[0m\u001b[0;34m-\u001b[0m\u001b[0mretvals\u001b[0m\u001b[0;34m[\u001b[0m\u001b[0;34m'Hessian'\u001b[0m\u001b[0;34m]\u001b[0m\u001b[0;34m)\u001b[0m \u001b[0;34m/\u001b[0m \u001b[0mnobs\u001b[0m\u001b[0;34m\u001b[0m\u001b[0;34m\u001b[0m\u001b[0m\n\u001b[0m\u001b[1;32m    535\u001b[0m         \u001b[0;32melif\u001b[0m \u001b[0;32mnot\u001b[0m \u001b[0mskip_hessian\u001b[0m\u001b[0;34m:\u001b[0m\u001b[0;34m\u001b[0m\u001b[0;34m\u001b[0m\u001b[0m\n\u001b[1;32m    536\u001b[0m             \u001b[0mH\u001b[0m \u001b[0;34m=\u001b[0m \u001b[0;34m-\u001b[0m\u001b[0;36m1\u001b[0m \u001b[0;34m*\u001b[0m \u001b[0mself\u001b[0m\u001b[0;34m.\u001b[0m\u001b[0mhessian\u001b[0m\u001b[0;34m(\u001b[0m\u001b[0mxopt\u001b[0m\u001b[0;34m)\u001b[0m\u001b[0;34m\u001b[0m\u001b[0;34m\u001b[0m\u001b[0m\n",
      "\u001b[0;32m<__array_function__ internals>\u001b[0m in \u001b[0;36minv\u001b[0;34m(*args, **kwargs)\u001b[0m\n",
      "\u001b[0;32m~/anaconda3/lib/python3.7/site-packages/numpy/linalg/linalg.py\u001b[0m in \u001b[0;36minv\u001b[0;34m(a)\u001b[0m\n\u001b[1;32m    544\u001b[0m     \u001b[0msignature\u001b[0m \u001b[0;34m=\u001b[0m \u001b[0;34m'D->D'\u001b[0m \u001b[0;32mif\u001b[0m \u001b[0misComplexType\u001b[0m\u001b[0;34m(\u001b[0m\u001b[0mt\u001b[0m\u001b[0;34m)\u001b[0m \u001b[0;32melse\u001b[0m \u001b[0;34m'd->d'\u001b[0m\u001b[0;34m\u001b[0m\u001b[0;34m\u001b[0m\u001b[0m\n\u001b[1;32m    545\u001b[0m     \u001b[0mextobj\u001b[0m \u001b[0;34m=\u001b[0m \u001b[0mget_linalg_error_extobj\u001b[0m\u001b[0;34m(\u001b[0m\u001b[0m_raise_linalgerror_singular\u001b[0m\u001b[0;34m)\u001b[0m\u001b[0;34m\u001b[0m\u001b[0;34m\u001b[0m\u001b[0m\n\u001b[0;32m--> 546\u001b[0;31m     \u001b[0mainv\u001b[0m \u001b[0;34m=\u001b[0m \u001b[0m_umath_linalg\u001b[0m\u001b[0;34m.\u001b[0m\u001b[0minv\u001b[0m\u001b[0;34m(\u001b[0m\u001b[0ma\u001b[0m\u001b[0;34m,\u001b[0m \u001b[0msignature\u001b[0m\u001b[0;34m=\u001b[0m\u001b[0msignature\u001b[0m\u001b[0;34m,\u001b[0m \u001b[0mextobj\u001b[0m\u001b[0;34m=\u001b[0m\u001b[0mextobj\u001b[0m\u001b[0;34m)\u001b[0m\u001b[0;34m\u001b[0m\u001b[0;34m\u001b[0m\u001b[0m\n\u001b[0m\u001b[1;32m    547\u001b[0m     \u001b[0;32mreturn\u001b[0m \u001b[0mwrap\u001b[0m\u001b[0;34m(\u001b[0m\u001b[0mainv\u001b[0m\u001b[0;34m.\u001b[0m\u001b[0mastype\u001b[0m\u001b[0;34m(\u001b[0m\u001b[0mresult_t\u001b[0m\u001b[0;34m,\u001b[0m \u001b[0mcopy\u001b[0m\u001b[0;34m=\u001b[0m\u001b[0;32mFalse\u001b[0m\u001b[0;34m)\u001b[0m\u001b[0;34m)\u001b[0m\u001b[0;34m\u001b[0m\u001b[0;34m\u001b[0m\u001b[0m\n\u001b[1;32m    548\u001b[0m \u001b[0;34m\u001b[0m\u001b[0m\n",
      "\u001b[0;32m~/anaconda3/lib/python3.7/site-packages/numpy/linalg/linalg.py\u001b[0m in \u001b[0;36m_raise_linalgerror_singular\u001b[0;34m(err, flag)\u001b[0m\n\u001b[1;32m     86\u001b[0m \u001b[0;34m\u001b[0m\u001b[0m\n\u001b[1;32m     87\u001b[0m \u001b[0;32mdef\u001b[0m \u001b[0m_raise_linalgerror_singular\u001b[0m\u001b[0;34m(\u001b[0m\u001b[0merr\u001b[0m\u001b[0;34m,\u001b[0m \u001b[0mflag\u001b[0m\u001b[0;34m)\u001b[0m\u001b[0;34m:\u001b[0m\u001b[0;34m\u001b[0m\u001b[0;34m\u001b[0m\u001b[0m\n\u001b[0;32m---> 88\u001b[0;31m     \u001b[0;32mraise\u001b[0m \u001b[0mLinAlgError\u001b[0m\u001b[0;34m(\u001b[0m\u001b[0;34m\"Singular matrix\"\u001b[0m\u001b[0;34m)\u001b[0m\u001b[0;34m\u001b[0m\u001b[0;34m\u001b[0m\u001b[0m\n\u001b[0m\u001b[1;32m     89\u001b[0m \u001b[0;34m\u001b[0m\u001b[0m\n\u001b[1;32m     90\u001b[0m \u001b[0;32mdef\u001b[0m \u001b[0m_raise_linalgerror_nonposdef\u001b[0m\u001b[0;34m(\u001b[0m\u001b[0merr\u001b[0m\u001b[0;34m,\u001b[0m \u001b[0mflag\u001b[0m\u001b[0;34m)\u001b[0m\u001b[0;34m:\u001b[0m\u001b[0;34m\u001b[0m\u001b[0;34m\u001b[0m\u001b[0m\n",
      "\u001b[0;31mLinAlgError\u001b[0m: Singular matrix"
     ]
    }
   ],
   "source": [
    "import statsmodels.api as sm\n",
    "logit_model = sm.Logit(y,X)\n",
    "result      = logit_model.fit()\n",
    "print(result.summary2())"
   ]
  },
  {
   "cell_type": "markdown",
   "id": "stone-democrat",
   "metadata": {},
   "source": [
    "Logistic Regression Model Fitting\n"
   ]
  },
  {
   "cell_type": "code",
   "execution_count": 166,
   "id": "turkish-publisher",
   "metadata": {},
   "outputs": [
    {
     "name": "stdout",
     "output_type": "stream",
     "text": [
      "Accuracy of logistic regression classifier on test set: 0.70\n"
     ]
    }
   ],
   "source": [
    "from sklearn.linear_model import LogisticRegression\n",
    "from sklearn import metrics\n",
    "X_train, X_test, y_train, y_test = train_test_split(X, y, test_size=0.3, random_state=0)\n",
    "\n",
    "logreg = LogisticRegression(class_weight=None,dual=False, fit_intercept=False,intercept_scaling=1,\n",
    "                   max_iter=100,multi_class='ovr',n_jobs=1, penalty='l2',random_state=None,solver='liblinear',tol=0.0001,\n",
    "                  verbose=0,warm_start=False, C = 1.63)\n",
    "\n",
    "logreg.fit(X_train, y_train)\n",
    "y_pred = logreg.predict(X_test)\n",
    "print('Accuracy of logistic regression classifier on test set: {:.2f}'.format(logreg.score(X_test, y_test)))"
   ]
  },
  {
   "cell_type": "code",
   "execution_count": 161,
   "id": "painted-brush",
   "metadata": {},
   "outputs": [
    {
     "data": {
      "text/plain": [
       "array([0., 0., 0., ..., 1., 1., 1.])"
      ]
     },
     "execution_count": 161,
     "metadata": {},
     "output_type": "execute_result"
    }
   ],
   "source": [
    "y_pred"
   ]
  },
  {
   "cell_type": "code",
   "execution_count": 227,
   "id": "heard-relative",
   "metadata": {
    "collapsed": true
   },
   "outputs": [
    {
     "name": "stdout",
     "output_type": "stream",
     "text": [
      "      risk_alelle_freq  Meth_Mean     logFC  \\\n",
      "9842               0.0   0.000000 -0.767323   \n",
      "8627               0.0   0.778854 -0.580471   \n",
      "8636               0.0   0.670390 -2.002334   \n",
      "5790               0.0   0.670390 -2.002334   \n",
      "4230               0.0   0.000000 -1.886597   \n",
      "\n",
      "      positive_correlated_methylation_Yes  promoter_methylated_unknown  \\\n",
      "9842                                    0                            1   \n",
      "8627                                    0                            1   \n",
      "8636                                    1                            0   \n",
      "5790                                    1                            0   \n",
      "4230                                    0                            1   \n",
      "\n",
      "      triplex_Yes  triplex_unknown  sample_BRCA  sample_KICH  sample_KIRP  \\\n",
      "9842            0                1            0            1            0   \n",
      "8627            1                0            0            0            0   \n",
      "8636            1                0            0            1            0   \n",
      "5790            1                0            0            1            0   \n",
      "4230            0                1            1            0            0   \n",
      "\n",
      "      sample_STAD  types_o  types_t  types_unknown  \n",
      "9842            0        0        0              1  \n",
      "8627            1        0        1              0  \n",
      "8636            0        1        0              0  \n",
      "5790            0        1        0              0  \n",
      "4230            0        0        0              1   \n",
      " y test:  9842    0\n",
      "8627    1\n",
      "8636    0\n",
      "5790    0\n",
      "4230    0\n",
      "Name: pathway_y, dtype: int64\n"
     ]
    }
   ],
   "source": [
    "print(X_test.head(),\"\\n\",\"y test: \",y_test.head())"
   ]
  },
  {
   "cell_type": "code",
   "execution_count": 167,
   "id": "intended-keyboard",
   "metadata": {},
   "outputs": [
    {
     "data": {
      "text/plain": [
       "0.7025181391378574"
      ]
     },
     "execution_count": 167,
     "metadata": {},
     "output_type": "execute_result"
    }
   ],
   "source": [
    "logreg.score(X_test, y_test)"
   ]
  },
  {
   "cell_type": "code",
   "execution_count": 199,
   "id": "synthetic-purse",
   "metadata": {},
   "outputs": [
    {
     "name": "stdout",
     "output_type": "stream",
     "text": [
      "0.0\n"
     ]
    }
   ],
   "source": [
    "print( logreg.intercept_ )\n"
   ]
  },
  {
   "cell_type": "code",
   "execution_count": 200,
   "id": "critical-sessions",
   "metadata": {
    "collapsed": true
   },
   "outputs": [
    {
     "ename": "AttributeError",
     "evalue": "'LogisticRegression' object has no attribute 'summary'",
     "output_type": "error",
     "traceback": [
      "\u001b[0;31m---------------------------------------------------------------------------\u001b[0m",
      "\u001b[0;31mAttributeError\u001b[0m                            Traceback (most recent call last)",
      "\u001b[0;32m<ipython-input-200-ceb06b79a7fd>\u001b[0m in \u001b[0;36m<module>\u001b[0;34m\u001b[0m\n\u001b[0;32m----> 1\u001b[0;31m \u001b[0mprint\u001b[0m\u001b[0;34m(\u001b[0m\u001b[0mlogreg\u001b[0m\u001b[0;34m.\u001b[0m\u001b[0msummary\u001b[0m\u001b[0;34m(\u001b[0m\u001b[0;34m)\u001b[0m\u001b[0;34m)\u001b[0m\u001b[0;34m\u001b[0m\u001b[0;34m\u001b[0m\u001b[0m\n\u001b[0m",
      "\u001b[0;31mAttributeError\u001b[0m: 'LogisticRegression' object has no attribute 'summary'"
     ]
    }
   ],
   "source": [
    "print(logreg.summary())"
   ]
  },
  {
   "cell_type": "code",
   "execution_count": 162,
   "id": "ranking-mistake",
   "metadata": {},
   "outputs": [
    {
     "name": "stdout",
     "output_type": "stream",
     "text": [
      "train x:  (76883, 25) test x: (32951, 25) \n",
      " train y: (76883,) test y: (32951,)\n"
     ]
    }
   ],
   "source": [
    "print(\"train x: \", X_train.shape,\n",
    "      \"test x:\", X_test.shape,\"\\n\", \n",
    "      \"train y:\", y_train.shape, \"test y:\" , y_test.shape)"
   ]
  },
  {
   "cell_type": "markdown",
   "id": "normal-massage",
   "metadata": {},
   "source": [
    "Finding whether the test and train has got same rows by looking for the difference"
   ]
  },
  {
   "cell_type": "code",
   "execution_count": 140,
   "id": "determined-latter",
   "metadata": {},
   "outputs": [
    {
     "data": {
      "text/plain": [
       "(3497, 14)"
      ]
     },
     "execution_count": 140,
     "metadata": {},
     "output_type": "execute_result"
    }
   ],
   "source": [
    "X_test[ ~X_test.isin(X_train)].dropna().shape"
   ]
  },
  {
   "cell_type": "code",
   "execution_count": 130,
   "id": "vocational-battlefield",
   "metadata": {
    "collapsed": true
   },
   "outputs": [
    {
     "name": "stdout",
     "output_type": "stream",
     "text": [
      "train x:  Index(['risk_alelle_freq', 'Meth_Mean', 'logFC',\n",
      "       'positive_correlated_methylation_Yes', 'promoter_methylated_unknown',\n",
      "       'triplex_Yes', 'triplex_unknown', 'sample_BRCA', 'sample_KICH',\n",
      "       'sample_KIRP', 'sample_STAD', 'types_o', 'types_t', 'types_unknown'],\n",
      "      dtype='object') \n",
      " test x:  Index(['risk_alelle_freq', 'Meth_Mean', 'logFC',\n",
      "       'positive_correlated_methylation_Yes', 'promoter_methylated_unknown',\n",
      "       'triplex_Yes', 'triplex_unknown', 'sample_BRCA', 'sample_KICH',\n",
      "       'sample_KIRP', 'sample_STAD', 'types_o', 'types_t', 'types_unknown'],\n",
      "      dtype='object') \n",
      " train y:  825      1\n",
      "9312     1\n",
      "6847     1\n",
      "3326     1\n",
      "9183     0\n",
      "        ..\n",
      "4859     1\n",
      "3264     1\n",
      "9845     0\n",
      "10799    0\n",
      "2732     0\n",
      "Name: pathway_y, Length: 8157, dtype: int64 \n",
      " test y:  9842     0\n",
      "8627     1\n",
      "8636     0\n",
      "5790     0\n",
      "4230     0\n",
      "        ..\n",
      "10786    0\n",
      "987      0\n",
      "9534     1\n",
      "4487     1\n",
      "2570     0\n",
      "Name: pathway_y, Length: 3497, dtype: int64\n"
     ]
    }
   ],
   "source": [
    "print(\"train x: \", X_train.columns,\"\\n\",\n",
    "      \"test x: \",  X_test.columns,\"\\n\", \n",
    "      \"train y: \", y_train,\"\\n\",\n",
    "      \"test y: \" , y_test)"
   ]
  },
  {
   "cell_type": "code",
   "execution_count": 168,
   "id": "disciplinary-charge",
   "metadata": {},
   "outputs": [
    {
     "name": "stdout",
     "output_type": "stream",
     "text": [
      "[[2281   28]\n",
      " [1366 1011]]\n"
     ]
    }
   ],
   "source": [
    "from sklearn.metrics import confusion_matrix\n",
    "confusion_matrix = confusion_matrix(y_test, y_pred)\n",
    "print(confusion_matrix)"
   ]
  },
  {
   "cell_type": "code",
   "execution_count": 169,
   "id": "typical-translation",
   "metadata": {},
   "outputs": [
    {
     "ename": "NameError",
     "evalue": "name 'classification_report' is not defined",
     "output_type": "error",
     "traceback": [
      "\u001b[0;31m---------------------------------------------------------------------------\u001b[0m",
      "\u001b[0;31mNameError\u001b[0m                                 Traceback (most recent call last)",
      "\u001b[0;32m<ipython-input-169-221bda6bfc4f>\u001b[0m in \u001b[0;36m<module>\u001b[0;34m\u001b[0m\n\u001b[0;32m----> 1\u001b[0;31m \u001b[0mprint\u001b[0m\u001b[0;34m(\u001b[0m\u001b[0mclassification_report\u001b[0m\u001b[0;34m(\u001b[0m\u001b[0my_test\u001b[0m\u001b[0;34m,\u001b[0m\u001b[0my_pred\u001b[0m\u001b[0;34m)\u001b[0m\u001b[0;34m)\u001b[0m\u001b[0;34m\u001b[0m\u001b[0;34m\u001b[0m\u001b[0m\n\u001b[0m",
      "\u001b[0;31mNameError\u001b[0m: name 'classification_report' is not defined"
     ]
    }
   ],
   "source": [
    "print(classification_report(y_test,y_pred))"
   ]
  },
  {
   "cell_type": "code",
   "execution_count": 170,
   "id": "systematic-feeding",
   "metadata": {},
   "outputs": [
    {
     "name": "stdout",
     "output_type": "stream",
     "text": [
      "Accuracy:  0.7025181391378574\n"
     ]
    },
    {
     "data": {
      "image/png": "[encoded data removed]",
      "text/plain": [
       "<Figure size 432x288 with 2 Axes>"
      ]
     },
     "metadata": {
      "image/png": {
       "height": 261,
       "width": 372
      },
      "needs_background": "light"
     },
     "output_type": "display_data"
    }
   ],
   "source": [
    "confusion_matrix = pd.crosstab(y_test, y_pred, rownames=['Actual'], colnames=['Predicted'])\n",
    "sns.heatmap(confusion_matrix, annot=True, fmt='g')\n",
    "print('Accuracy: ',metrics.accuracy_score(y_test, y_pred))\n",
    "#plt.savefig('5samples_down_regulated.png')\n",
    "\n",
    "plt.show()"
   ]
  },
  {
   "cell_type": "code",
   "execution_count": 171,
   "id": "limited-interpretation",
   "metadata": {
    "collapsed": true
   },
   "outputs": [
    {
     "name": "stdout",
     "output_type": "stream",
     "text": [
      "              precision    recall  f1-score   support\n",
      "\n",
      "         0.0       0.63      0.99      0.77      2309\n",
      "         1.0       0.97      0.43      0.59      2377\n",
      "\n",
      "    accuracy                           0.70      4686\n",
      "   macro avg       0.80      0.71      0.68      4686\n",
      "weighted avg       0.80      0.70      0.68      4686\n",
      "\n"
     ]
    }
   ],
   "source": [
    "from sklearn.metrics import classification_report\n",
    "print(classification_report(y_test, y_pred))"
   ]
  },
  {
   "cell_type": "code",
   "execution_count": 172,
   "id": "hollow-profile",
   "metadata": {},
   "outputs": [
    {
     "data": {
      "image/png": "[encoded data removed]",
      "text/plain": [
       "<Figure size 432x288 with 1 Axes>"
      ]
     },
     "metadata": {
      "image/png": {
       "height": 277,
       "width": 393
      },
      "needs_background": "light"
     },
     "output_type": "display_data"
    }
   ],
   "source": [
    "from sklearn.metrics import roc_auc_score\n",
    "from sklearn.metrics import roc_curve\n",
    "logit_roc_auc = roc_auc_score(y_test, logreg.predict(X_test))\n",
    "fpr, tpr, thresholds = roc_curve(y_test, logreg.predict_proba(X_test)[:,1])\n",
    "plt.figure()\n",
    "plt.plot(fpr, tpr, label='Logistic Regression (area = %0.2f)' % logit_roc_auc)\n",
    "plt.plot([0, 1], [0, 1],'r--')\n",
    "plt.xlim([0.0, 1.0])\n",
    "plt.ylim([0.0, 1.05])\n",
    "plt.xlabel('False Positive Rate')\n",
    "plt.ylabel('True Positive Rate')\n",
    "plt.title('Receiver operating characteristic')\n",
    "plt.legend(loc=\"lower right\")\n",
    "#plt.savefig('Log_ROC_5samples_down_regulated_with_features.png')\n",
    "plt.show()"
   ]
  }
 ],
 "metadata": {
  "kernelspec": {
   "display_name": "Python 3",
   "language": "python",
   "name": "python3"
  },
  "language_info": {
   "codemirror_mode": {
    "name": "ipython",
    "version": 3
   },
   "file_extension": ".py",
   "mimetype": "text/x-python",
   "name": "python",
   "nbconvert_exporter": "python",
   "pygments_lexer": "ipython3",
   "version": "3.7.3"
  }
 },
 "nbformat": 4,
 "nbformat_minor": 5
}
