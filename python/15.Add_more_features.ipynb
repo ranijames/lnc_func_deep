{
 "cells": [
  {
   "cell_type": "code",
   "execution_count": 62,
   "id": "placed-prior",
   "metadata": {},
   "outputs": [],
   "source": [
    "import pandas as pd\n",
    "from datapreprocessfunction_code import function_process"
   ]
  },
  {
   "cell_type": "code",
   "execution_count": 61,
   "id": "compact-configuration",
   "metadata": {},
   "outputs": [],
   "source": [
    "\"\"\"\n",
    "Global functions for pre-processing feature engineering and Feature adding\n",
    "\"\"\"\n",
    "def readfile(path,filename):\n",
    "    df  = pd.read_csv(path+filename,header=0,sep='\\t',skipinitialspace=True)\n",
    "    return df"
   ]
  },
  {
   "cell_type": "markdown",
   "id": "demographic-house",
   "metadata": {},
   "source": [
    "Paths and reading the files"
   ]
  },
  {
   "cell_type": "code",
   "execution_count": 27,
   "id": "responsible-deposit",
   "metadata": {},
   "outputs": [],
   "source": [
    "path      = '/home/alva/Documents/lncRNAs_project_2020/Analysis_2021/lncRNAs2target/lncRNA_target_from_low_throughput_experiments.xlsx'\n",
    "BRCA_GSEA = '/home/alva/Documents/lncRNAs_project_2020/Analysis_2021/DNA_methy_tcga/meth/de/correlation/'\n",
    "triplex   = '/home/alva/Documents/lncRNAs_project_2020/Analysis_2021/DNA_methy_tcga/meth/de/'"
   ]
  },
  {
   "cell_type": "code",
   "execution_count": 25,
   "id": "standing-ferry",
   "metadata": {},
   "outputs": [],
   "source": [
    "excel                   = pd.read_excel(path)\n",
    "low_through_put_lncRNAs = excel[[\"lncRNA_name_from_paper\",\"LncRNA_official_symbol\",\"Target_official_symbol\",\"Cell_Line\",\"Disease_state\"]]\n",
    "Correlation_BRCA_GSEA      = readfile(BRCA_GSEA,\"BRCA_pos_cis\") \n",
    "pathways_inpos_correlation = readfile(BRCA_GSEA,\"postive_signalling_pathway_BRCA\")\n",
    "triplex_lncRNAs = readfile(triplex,\"tripleFPP_triplex_genecode\")\n",
    "brca_de         = readfile(triplex,\"lncRNA_down_TCGA-BRCA_DE\")"
   ]
  },
  {
   "cell_type": "code",
   "execution_count": 59,
   "id": "plain-harmony",
   "metadata": {},
   "outputs": [],
   "source": [
    "%pycat datapreprocessfunction_code.py"
   ]
  },
  {
   "cell_type": "code",
   "execution_count": 47,
   "id": "boolean-potter",
   "metadata": {
    "collapsed": true
   },
   "outputs": [
    {
     "name": "stdout",
     "output_type": "stream",
     "text": [
      "total 11M\r\n",
      "-rw-r--r-- 1 alva alva 249K Jan 21 01:23  split_fasta.ipynb\r\n",
      "-rw-r--r-- 1 alva alva 1,4K Jan 26 01:43  filter_fasta.py\r\n",
      "-rw-r--r-- 1 alva alva 123K Jan 26 11:53  1.preprocess.ipynb\r\n",
      "-rw-r--r-- 1 alva alva 1001 Jan 30 00:26  3.preprocess_metadata_tcga.ipynb\r\n",
      "-rw-r--r-- 1 alva alva  583 Feb  9 22:14  5.specificity_shannon_entropy.ipynb\r\n",
      "-rw-r--r-- 1 alva alva 442K Feb 13 17:15  tsne_2d.png\r\n",
      "-rw-r--r-- 1 alva alva 1,3M Feb 14 00:55  plot_3d_rna_seq.svg\r\n",
      "-rw-r--r-- 1 alva alva 1,3M Feb 14 01:18 'DE lncRNAs accros cancer.svg'\r\n",
      "-rw-r--r-- 1 alva alva 1,3M Feb 14 01:20 'DE lncRNAs accros tumor samples.svg'\r\n",
      "-rw-r--r-- 1 alva alva 1,3M Feb 14 01:20  pca_de_lncRNAs_tumor.svg\r\n",
      "-rw-r--r-- 1 alva alva  19K Feb 14 05:15  DE_annotation.ipynb\r\n",
      "-rw-r--r-- 1 alva alva 1,3M Feb 14 19:34  pca_de_lncRNAs_normal.svg\r\n",
      "-rw-r--r-- 1 alva alva  15K Feb 14 21:44  2.filter_whole_genecode_lncRNAs.ipynb\r\n",
      "-rw-r--r-- 1 alva alva 248K Feb 15 13:56  7.PCA.ipynb\r\n",
      "-rw-r--r-- 1 alva alva  42K Feb 16 01:08  9.Exp_count_RNA-seq.ipynb\r\n",
      "-rw-r--r-- 1 alva alva  66K Feb 19 14:41  6.common_de_lncRNAs.ipynb\r\n",
      "-rw-r--r-- 1 alva alva  81K Feb 19 16:41  comut_test.ipynb\r\n",
      "-rw-r--r-- 1 alva alva  70K Feb 19 18:12  4.DNA_methylation.ipynb\r\n",
      "-rw-r--r-- 1 alva alva  47K Feb 21 00:05  DEcommon_triplex_pathways_only.svg\r\n",
      "-rw-r--r-- 1 alva alva 224K Feb 21 01:34  DEcommon_featues_only.svg\r\n",
      "-rw-r--r-- 1 alva alva 104K Feb 21 18:19  10.Drug_targets.ipynb\r\n",
      "-rw-r--r-- 1 alva alva 180K Feb 21 19:03  BRCA_pathways_only.svg\r\n",
      "-rw-r--r-- 1 alva alva 334K Feb 21 23:42  DEcommon_pathways_only.svg\r\n",
      "-rw-r--r-- 1 alva alva 334K Feb 21 23:43 'DEcommon_pathways&evidence_only.svg'\r\n",
      "-rw-r--r-- 1 alva alva  12K Feb 23 19:08  oncogene_vs_pathways_stack.png\r\n",
      "-rw-r--r-- 1 alva alva  12K Feb 23 19:10  oncogene_vs_pathways_stack_BRCA.png\r\n",
      "-rw-r--r-- 1 alva alva 551K Feb 23 19:34  12.BRCA_comut.ipynb\r\n",
      "-rw-r--r-- 1 alva alva 526K Feb 23 19:39  11.comut.ipynb\r\n",
      "-rw-r--r-- 1 alva alva 1,3K Feb 23 22:10  commonDe_pathway.png\r\n",
      "-rw-r--r-- 1 alva alva  14K Feb 23 22:22  mariral_vs_pur_stack.png\r\n",
      "-rw-r--r-- 1 alva alva  15K Feb 23 22:46  purchase_fre_job.png\r\n",
      "-rw-r--r-- 1 alva alva  15K Feb 23 23:36  pathway_vs_oncogene_stack.png\r\n",
      "-rw-r--r-- 1 alva alva  18K Feb 24 00:07  Log_ROC.png\r\n",
      "-rw-r--r-- 1 alva alva  18K Feb 24 12:45  Log_ROC_forwholede_with_features.png\r\n",
      "-rw-r--r-- 1 alva alva 1,3K Feb 24 13:11  commonup_pathway.png\r\n",
      "-rw-r--r-- 1 alva alva 1,3K Feb 24 13:11  commondown_pathway.png\r\n",
      "-rw-r--r-- 1 alva alva  15K Feb 24 17:49  Log_ROC_fordown_regulated_with_features.png\r\n",
      "-rw-r--r-- 1 alva alva 7,5K Feb 24 18:04  CM_fordown_regulated.png\r\n",
      "-rw-r--r-- 1 alva alva 1,3K Feb 24 22:40  common_DE_5samples_pathway.png\r\n",
      "-rw-r--r-- 1 alva alva  16K Feb 25 00:02  Log_ROC_5samples_allde_with_features.png\r\n",
      "-rw-r--r-- 1 alva alva 8,1K Feb 25 00:10  5samples_allde_regulated.png\r\n",
      "-rw-r--r-- 1 alva alva 8,0K Feb 25 00:40  5samples_down_regulated.png\r\n",
      "-rw-r--r-- 1 alva alva  15K Feb 25 00:54  Log_ROC_5samples_down_regulated_with_features.png\r\n",
      "-rw-r--r-- 1 alva alva  15K Feb 25 02:49  ALL_mypaper.ipynb\r\n",
      "-rw-r--r-- 1 alva alva 1,3K Feb 26 19:54  down_de_5samples_pathway.png\r\n",
      "-rw-rw-r-- 1 alva alva 6,5K Feb 27 21:41  circular_plot.py\r\n",
      "-rw-r--r-- 1 alva alva 334K Mär  1 21:19  14.logistic_regression_de_pancancer.ipynb\r\n",
      "-rw-r--r-- 1 alva alva 1,7K Mär  1 23:35  datapreprocessfunction_code.py\r\n",
      "-rw-r--r-- 1 alva alva  17K Mär  1 23:35 '15.Add_more _features.ipynb'\r\n"
     ]
    }
   ],
   "source": [
    "!ls -lrht"
   ]
  },
  {
   "cell_type": "code",
   "execution_count": 65,
   "id": "suspected-request",
   "metadata": {},
   "outputs": [
    {
     "data": {
      "text/html": [
       "<div>\n",
       "<style scoped>\n",
       "    .dataframe tbody tr th:only-of-type {\n",
       "        vertical-align: middle;\n",
       "    }\n",
       "\n",
       "    .dataframe tbody tr th {\n",
       "        vertical-align: top;\n",
       "    }\n",
       "\n",
       "    .dataframe thead th {\n",
       "        text-align: right;\n",
       "    }\n",
       "</style>\n",
       "<table border=\"1\" class=\"dataframe\">\n",
       "  <thead>\n",
       "    <tr style=\"text-align: right;\">\n",
       "      <th></th>\n",
       "      <th>term_name</th>\n",
       "      <th>intersections</th>\n",
       "    </tr>\n",
       "  </thead>\n",
       "  <tbody>\n",
       "    <tr>\n",
       "      <th>0</th>\n",
       "      <td>PI3K-Akt signaling pathway</td>\n",
       "      <td>ENSG00000077782</td>\n",
       "    </tr>\n",
       "    <tr>\n",
       "      <th>1</th>\n",
       "      <td>PI3K-Akt signaling pathway</td>\n",
       "      <td>ENSG00000078579</td>\n",
       "    </tr>\n",
       "    <tr>\n",
       "      <th>2</th>\n",
       "      <td>PI3K-Akt signaling pathway</td>\n",
       "      <td>ENSG00000081052</td>\n",
       "    </tr>\n",
       "    <tr>\n",
       "      <th>3</th>\n",
       "      <td>PI3K-Akt signaling pathway</td>\n",
       "      <td>ENSG00000101049</td>\n",
       "    </tr>\n",
       "    <tr>\n",
       "      <th>4</th>\n",
       "      <td>PI3K-Akt signaling pathway</td>\n",
       "      <td>ENSG00000101280</td>\n",
       "    </tr>\n",
       "  </tbody>\n",
       "</table>\n",
       "</div>"
      ],
      "text/plain": [
       "                    term_name    intersections\n",
       "0  PI3K-Akt signaling pathway  ENSG00000077782\n",
       "1  PI3K-Akt signaling pathway  ENSG00000078579\n",
       "2  PI3K-Akt signaling pathway  ENSG00000081052\n",
       "3  PI3K-Akt signaling pathway  ENSG00000101049\n",
       "4  PI3K-Akt signaling pathway  ENSG00000101280"
      ]
     },
     "execution_count": 65,
     "metadata": {},
     "output_type": "execute_result"
    }
   ],
   "source": [
    "pathways_inpos_correlation_genes = function_process(pathways_inpos_correlation,\"intersections\")\n",
    "pathways_inpos_correlation_genes.head()"
   ]
  },
  {
   "cell_type": "code",
   "execution_count": 64,
   "id": "purple-england",
   "metadata": {},
   "outputs": [
    {
     "data": {
      "text/html": [
       "<div>\n",
       "<style scoped>\n",
       "    .dataframe tbody tr th:only-of-type {\n",
       "        vertical-align: middle;\n",
       "    }\n",
       "\n",
       "    .dataframe tbody tr th {\n",
       "        vertical-align: top;\n",
       "    }\n",
       "\n",
       "    .dataframe thead th {\n",
       "        text-align: right;\n",
       "    }\n",
       "</style>\n",
       "<table border=\"1\" class=\"dataframe\">\n",
       "  <thead>\n",
       "    <tr style=\"text-align: right;\">\n",
       "      <th></th>\n",
       "      <th>term_name</th>\n",
       "      <th>intersections</th>\n",
       "    </tr>\n",
       "  </thead>\n",
       "  <tbody>\n",
       "    <tr>\n",
       "      <th>0</th>\n",
       "      <td>PI3K-Akt signaling pathway</td>\n",
       "      <td>ENSG00000077782</td>\n",
       "    </tr>\n",
       "    <tr>\n",
       "      <th>1</th>\n",
       "      <td>PI3K-Akt signaling pathway</td>\n",
       "      <td>ENSG00000078579</td>\n",
       "    </tr>\n",
       "    <tr>\n",
       "      <th>2</th>\n",
       "      <td>PI3K-Akt signaling pathway</td>\n",
       "      <td>ENSG00000081052</td>\n",
       "    </tr>\n",
       "    <tr>\n",
       "      <th>3</th>\n",
       "      <td>PI3K-Akt signaling pathway</td>\n",
       "      <td>ENSG00000101049</td>\n",
       "    </tr>\n",
       "    <tr>\n",
       "      <th>4</th>\n",
       "      <td>PI3K-Akt signaling pathway</td>\n",
       "      <td>ENSG00000101280</td>\n",
       "    </tr>\n",
       "    <tr>\n",
       "      <th>...</th>\n",
       "      <td>...</td>\n",
       "      <td>...</td>\n",
       "    </tr>\n",
       "    <tr>\n",
       "      <th>1536</th>\n",
       "      <td>cGMP-PKG signaling pathway</td>\n",
       "      <td>ENSG00000197616</td>\n",
       "    </tr>\n",
       "    <tr>\n",
       "      <th>1537</th>\n",
       "      <td>cGMP-PKG signaling pathway</td>\n",
       "      <td>ENSG00000043591</td>\n",
       "    </tr>\n",
       "    <tr>\n",
       "      <th>1538</th>\n",
       "      <td>cGMP-PKG signaling pathway</td>\n",
       "      <td>ENSG00000058668</td>\n",
       "    </tr>\n",
       "    <tr>\n",
       "      <th>1539</th>\n",
       "      <td>cGMP-PKG signaling pathway</td>\n",
       "      <td>ENSG00000068305</td>\n",
       "    </tr>\n",
       "    <tr>\n",
       "      <th>1540</th>\n",
       "      <td>cGMP-PKG signaling pathway</td>\n",
       "      <td>ENSG00000197584</td>\n",
       "    </tr>\n",
       "  </tbody>\n",
       "</table>\n",
       "<p>1541 rows × 2 columns</p>\n",
       "</div>"
      ],
      "text/plain": [
       "                       term_name    intersections\n",
       "0     PI3K-Akt signaling pathway  ENSG00000077782\n",
       "1     PI3K-Akt signaling pathway  ENSG00000078579\n",
       "2     PI3K-Akt signaling pathway  ENSG00000081052\n",
       "3     PI3K-Akt signaling pathway  ENSG00000101049\n",
       "4     PI3K-Akt signaling pathway  ENSG00000101280\n",
       "...                          ...              ...\n",
       "1536  cGMP-PKG signaling pathway  ENSG00000197616\n",
       "1537  cGMP-PKG signaling pathway  ENSG00000043591\n",
       "1538  cGMP-PKG signaling pathway  ENSG00000058668\n",
       "1539  cGMP-PKG signaling pathway  ENSG00000068305\n",
       "1540  cGMP-PKG signaling pathway  ENSG00000197584\n",
       "\n",
       "[1541 rows x 2 columns]"
      ]
     },
     "execution_count": 64,
     "metadata": {},
     "output_type": "execute_result"
    }
   ],
   "source": []
  }
 ],
 "metadata": {
  "kernelspec": {
   "display_name": "Python 3",
   "language": "python",
   "name": "python3"
  },
  "language_info": {
   "codemirror_mode": {
    "name": "ipython",
    "version": 3
   },
   "file_extension": ".py",
   "mimetype": "text/x-python",
   "name": "python",
   "nbconvert_exporter": "python",
   "pygments_lexer": "ipython3",
   "version": "3.7.3"
  }
 },
 "nbformat": 4,
 "nbformat_minor": 5
}
