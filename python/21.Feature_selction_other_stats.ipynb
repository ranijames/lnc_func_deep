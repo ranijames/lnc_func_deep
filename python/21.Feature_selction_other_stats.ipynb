{
 "cells": [
  {
   "cell_type": "code",
   "execution_count": 11,
   "id": "special-reference",
   "metadata": {},
   "outputs": [],
   "source": [
    "from scipy.stats import fisher_exact\n",
    "import pandas as pd\n",
    "import numpy as np\n",
    "import matplotlib.pyplot as plt \n",
    "import seaborn as sns\n",
    "def somaticP(ingenes_y, inpathway_y,bg,inpathway_n):\n",
    "    bg_lncRNAs    = 16825\n",
    "    bg_lncRNAs_de = 3379\n",
    "    contingency_table = [[ingenes_y, inpathway_y],[bg, inpathway_n]]\n",
    "    return min(fisher_exact(contingency_table, alternative='less')[1],fisher_exact(contingency_table, alternative='greater')[1])"
   ]
  },
  {
   "cell_type": "code",
   "execution_count": 79,
   "id": "freelance-words",
   "metadata": {},
   "outputs": [],
   "source": [
    "bg_lncRNAs_de =3379"
   ]
  },
  {
   "cell_type": "code",
   "execution_count": 46,
   "id": "dirty-cannon",
   "metadata": {},
   "outputs": [],
   "source": [
    "def jaccard(A, B):\n",
    "    if A or B:\n",
    "        return len(A and B) / len(A or B)\n",
    "    else:\n",
    "        return 1.0"
   ]
  },
  {
   "cell_type": "code",
   "execution_count": 15,
   "id": "protective-sustainability",
   "metadata": {},
   "outputs": [],
   "source": [
    "%store -r df1_ann\n",
    "%store -r pathways_kegg_eng_ann_list"
   ]
  },
  {
   "cell_type": "code",
   "execution_count": 22,
   "id": "thrown-moral",
   "metadata": {},
   "outputs": [],
   "source": [
    "df1_ann.rename(columns={'gene_sym':'gene_sym_lncRNAs'},inplace=True)\n",
    "pathways_kegg_eng_ann_list.rename(columns={'Process~name':'Pathway'},inplace=True)"
   ]
  },
  {
   "cell_type": "code",
   "execution_count": 23,
   "id": "latter-hands",
   "metadata": {
    "collapsed": true
   },
   "outputs": [
    {
     "data": {
      "text/html": [
       "<div>\n",
       "<style scoped>\n",
       "    .dataframe tbody tr th:only-of-type {\n",
       "        vertical-align: middle;\n",
       "    }\n",
       "\n",
       "    .dataframe tbody tr th {\n",
       "        vertical-align: top;\n",
       "    }\n",
       "\n",
       "    .dataframe thead th {\n",
       "        text-align: right;\n",
       "    }\n",
       "</style>\n",
       "<table border=\"1\" class=\"dataframe\">\n",
       "  <thead>\n",
       "    <tr style=\"text-align: right;\">\n",
       "      <th></th>\n",
       "      <th>Pathway</th>\n",
       "      <th>gene_sym</th>\n",
       "    </tr>\n",
       "  </thead>\n",
       "  <tbody>\n",
       "    <tr>\n",
       "      <th>0</th>\n",
       "      <td>AMPK</td>\n",
       "      <td>PIK3R3, PPARGC1A, PRKAG3, PIK3R1, FOXO1, PPP2R...</td>\n",
       "    </tr>\n",
       "    <tr>\n",
       "      <th>1</th>\n",
       "      <td>Adherens</td>\n",
       "      <td>LEF1, NECTIN1, CSNK2A3, YES1, NECTIN3, TJP1, P...</td>\n",
       "    </tr>\n",
       "    <tr>\n",
       "      <th>2</th>\n",
       "      <td>Aldosterone</td>\n",
       "      <td>ATP2B1, CYP11A1, ATP1A1, ATP1A4, CALML6, CALM2...</td>\n",
       "    </tr>\n",
       "    <tr>\n",
       "      <th>3</th>\n",
       "      <td>Aldosterone-regulated</td>\n",
       "      <td>PIK3R3, NEDD4L, INS, FXYD2, ATP1A1, ATP1B1, PI...</td>\n",
       "    </tr>\n",
       "    <tr>\n",
       "      <th>4</th>\n",
       "      <td>Alzheimer</td>\n",
       "      <td>CHRM3, FZD4, FZD3, CALML6, CALML3, VDAC3, FZD9...</td>\n",
       "    </tr>\n",
       "    <tr>\n",
       "      <th>...</th>\n",
       "      <td>...</td>\n",
       "      <td>...</td>\n",
       "    </tr>\n",
       "    <tr>\n",
       "      <th>67</th>\n",
       "      <td>Type</td>\n",
       "      <td>PIK3R3, PIK3R1, PRKCZ, SOCS3, IRS2, INS, PIK3C...</td>\n",
       "    </tr>\n",
       "    <tr>\n",
       "      <th>68</th>\n",
       "      <td>Vascular</td>\n",
       "      <td>NPR2, KCNMB1, PLA2G2C, CALM2, CALML6, GUCY1A2,...</td>\n",
       "    </tr>\n",
       "    <tr>\n",
       "      <th>69</th>\n",
       "      <td>Wnt</td>\n",
       "      <td>LEF1, FZD4, CSNK2A3, APC, FZD3, FZD9, CXXC4, G...</td>\n",
       "    </tr>\n",
       "    <tr>\n",
       "      <th>70</th>\n",
       "      <td>cAMP</td>\n",
       "      <td>PIK3R3, ATP2B1, ATP1A1, PIK3R1, GRIN2B, ATP1A4...</td>\n",
       "    </tr>\n",
       "    <tr>\n",
       "      <th>71</th>\n",
       "      <td>cGMP-PKG</td>\n",
       "      <td>ATP2B1, NPR2, KCNMB1, ATP1A1, ATP1A4, CALML6, ...</td>\n",
       "    </tr>\n",
       "  </tbody>\n",
       "</table>\n",
       "<p>72 rows × 2 columns</p>\n",
       "</div>"
      ],
      "text/plain": [
       "                  Pathway                                           gene_sym\n",
       "0                    AMPK  PIK3R3, PPARGC1A, PRKAG3, PIK3R1, FOXO1, PPP2R...\n",
       "1                Adherens  LEF1, NECTIN1, CSNK2A3, YES1, NECTIN3, TJP1, P...\n",
       "2             Aldosterone  ATP2B1, CYP11A1, ATP1A1, ATP1A4, CALML6, CALM2...\n",
       "3   Aldosterone-regulated  PIK3R3, NEDD4L, INS, FXYD2, ATP1A1, ATP1B1, PI...\n",
       "4               Alzheimer  CHRM3, FZD4, FZD3, CALML6, CALML3, VDAC3, FZD9...\n",
       "..                    ...                                                ...\n",
       "67                   Type  PIK3R3, PIK3R1, PRKCZ, SOCS3, IRS2, INS, PIK3C...\n",
       "68               Vascular  NPR2, KCNMB1, PLA2G2C, CALM2, CALML6, GUCY1A2,...\n",
       "69                    Wnt  LEF1, FZD4, CSNK2A3, APC, FZD3, FZD9, CXXC4, G...\n",
       "70                   cAMP  PIK3R3, ATP2B1, ATP1A1, PIK3R1, GRIN2B, ATP1A4...\n",
       "71               cGMP-PKG  ATP2B1, NPR2, KCNMB1, ATP1A1, ATP1A4, CALML6, ...\n",
       "\n",
       "[72 rows x 2 columns]"
      ]
     },
     "execution_count": 23,
     "metadata": {},
     "output_type": "execute_result"
    }
   ],
   "source": [
    "pathways_kegg_eng_ann_list"
   ]
  },
  {
   "cell_type": "code",
   "execution_count": 28,
   "id": "practical-writer",
   "metadata": {
    "collapsed": true
   },
   "outputs": [
    {
     "data": {
      "text/html": [
       "<div>\n",
       "<style scoped>\n",
       "    .dataframe tbody tr th:only-of-type {\n",
       "        vertical-align: middle;\n",
       "    }\n",
       "\n",
       "    .dataframe tbody tr th {\n",
       "        vertical-align: top;\n",
       "    }\n",
       "\n",
       "    .dataframe thead th {\n",
       "        text-align: right;\n",
       "    }\n",
       "</style>\n",
       "<table border=\"1\" class=\"dataframe\">\n",
       "  <thead>\n",
       "    <tr style=\"text-align: right;\">\n",
       "      <th></th>\n",
       "      <th>Pathway</th>\n",
       "      <th>gene_sym</th>\n",
       "      <th>gene_group</th>\n",
       "      <th>num_of_Genes</th>\n",
       "      <th>gene_sym_lncRNAs</th>\n",
       "      <th>num_of_lncRNAs</th>\n",
       "      <th>diff</th>\n",
       "    </tr>\n",
       "  </thead>\n",
       "  <tbody>\n",
       "    <tr>\n",
       "      <th>0</th>\n",
       "      <td>AMPK</td>\n",
       "      <td>PIK3R3, PPARGC1A, PRKAG3, PIK3R1, FOXO1, PPP2R...</td>\n",
       "      <td>120</td>\n",
       "      <td>42</td>\n",
       "      <td>LINC00685, AC129510.1, PCAT7, RAB11B-AS1, AC00...</td>\n",
       "      <td>55</td>\n",
       "      <td>65</td>\n",
       "    </tr>\n",
       "    <tr>\n",
       "      <th>1</th>\n",
       "      <td>Adherens</td>\n",
       "      <td>LEF1, NECTIN1, CSNK2A3, YES1, NECTIN3, TJP1, P...</td>\n",
       "      <td>71</td>\n",
       "      <td>30</td>\n",
       "      <td>AC104031.1, AC008467.1, AL133230.1, AC087482.1...</td>\n",
       "      <td>41</td>\n",
       "      <td>30</td>\n",
       "    </tr>\n",
       "    <tr>\n",
       "      <th>2</th>\n",
       "      <td>Aldosterone</td>\n",
       "      <td>ATP2B1, CYP11A1, ATP1A1, ATP1A4, CALML6, CALM2...</td>\n",
       "      <td>98</td>\n",
       "      <td>37</td>\n",
       "      <td>G2E3-AS1, AC120498.10, GNAS-AS1, LINC02489, LI...</td>\n",
       "      <td>44</td>\n",
       "      <td>54</td>\n",
       "    </tr>\n",
       "    <tr>\n",
       "      <th>3</th>\n",
       "      <td>Aldosterone-regulated</td>\n",
       "      <td>PIK3R3, NEDD4L, INS, FXYD2, ATP1A1, ATP1B1, PI...</td>\n",
       "      <td>37</td>\n",
       "      <td>17</td>\n",
       "      <td>CT69, AC010280.2, AC010735.2, ATP1B3-AS1, AC01...</td>\n",
       "      <td>22</td>\n",
       "      <td>15</td>\n",
       "    </tr>\n",
       "    <tr>\n",
       "      <th>4</th>\n",
       "      <td>Alzheimer</td>\n",
       "      <td>CHRM3, FZD4, FZD3, CALML6, CALML3, VDAC3, FZD9...</td>\n",
       "      <td>369</td>\n",
       "      <td>107</td>\n",
       "      <td>NDUFA6-DT, AC010973.2, AC078864.1, AC079336.5,...</td>\n",
       "      <td>132</td>\n",
       "      <td>237</td>\n",
       "    </tr>\n",
       "    <tr>\n",
       "      <th>...</th>\n",
       "      <td>...</td>\n",
       "      <td>...</td>\n",
       "      <td>...</td>\n",
       "      <td>...</td>\n",
       "      <td>...</td>\n",
       "      <td>...</td>\n",
       "      <td>...</td>\n",
       "    </tr>\n",
       "    <tr>\n",
       "      <th>64</th>\n",
       "      <td>Type</td>\n",
       "      <td>PIK3R3, PIK3R1, PRKCZ, SOCS3, IRS2, INS, PIK3C...</td>\n",
       "      <td>46</td>\n",
       "      <td>20</td>\n",
       "      <td>AC010280.2, AC010735.2, AC010735.1, AC019069.1...</td>\n",
       "      <td>27</td>\n",
       "      <td>19</td>\n",
       "    </tr>\n",
       "    <tr>\n",
       "      <th>65</th>\n",
       "      <td>Vascular</td>\n",
       "      <td>NPR2, KCNMB1, PLA2G2C, CALM2, CALML6, GUCY1A2,...</td>\n",
       "      <td>133</td>\n",
       "      <td>46</td>\n",
       "      <td>AP001453.2, AC104463.2, LINC01366, LINC01605, ...</td>\n",
       "      <td>68</td>\n",
       "      <td>65</td>\n",
       "    </tr>\n",
       "    <tr>\n",
       "      <th>66</th>\n",
       "      <td>Wnt</td>\n",
       "      <td>LEF1, FZD4, CSNK2A3, APC, FZD3, FZD9, CXXC4, G...</td>\n",
       "      <td>166</td>\n",
       "      <td>51</td>\n",
       "      <td>MIRLET7BHG, AC104031.1, AC100826.1, AP001453.2...</td>\n",
       "      <td>66</td>\n",
       "      <td>100</td>\n",
       "    </tr>\n",
       "    <tr>\n",
       "      <th>67</th>\n",
       "      <td>cAMP</td>\n",
       "      <td>PIK3R3, ATP2B1, ATP1A1, PIK3R1, GRIN2B, ATP1A4...</td>\n",
       "      <td>216</td>\n",
       "      <td>74</td>\n",
       "      <td>LINC02097, AC104825.1, AL139274.2, LINC02489, ...</td>\n",
       "      <td>105</td>\n",
       "      <td>111</td>\n",
       "    </tr>\n",
       "    <tr>\n",
       "      <th>68</th>\n",
       "      <td>cGMP-PKG</td>\n",
       "      <td>ATP2B1, NPR2, KCNMB1, ATP1A1, ATP1A4, CALML6, ...</td>\n",
       "      <td>167</td>\n",
       "      <td>63</td>\n",
       "      <td>LINC01605, LINC02600, LINC02489, AC025569.1, M...</td>\n",
       "      <td>89</td>\n",
       "      <td>78</td>\n",
       "    </tr>\n",
       "  </tbody>\n",
       "</table>\n",
       "<p>69 rows × 7 columns</p>\n",
       "</div>"
      ],
      "text/plain": [
       "                  Pathway                                           gene_sym  \\\n",
       "0                    AMPK  PIK3R3, PPARGC1A, PRKAG3, PIK3R1, FOXO1, PPP2R...   \n",
       "1                Adherens  LEF1, NECTIN1, CSNK2A3, YES1, NECTIN3, TJP1, P...   \n",
       "2             Aldosterone  ATP2B1, CYP11A1, ATP1A1, ATP1A4, CALML6, CALM2...   \n",
       "3   Aldosterone-regulated  PIK3R3, NEDD4L, INS, FXYD2, ATP1A1, ATP1B1, PI...   \n",
       "4               Alzheimer  CHRM3, FZD4, FZD3, CALML6, CALML3, VDAC3, FZD9...   \n",
       "..                    ...                                                ...   \n",
       "64                   Type  PIK3R3, PIK3R1, PRKCZ, SOCS3, IRS2, INS, PIK3C...   \n",
       "65               Vascular  NPR2, KCNMB1, PLA2G2C, CALM2, CALML6, GUCY1A2,...   \n",
       "66                    Wnt  LEF1, FZD4, CSNK2A3, APC, FZD3, FZD9, CXXC4, G...   \n",
       "67                   cAMP  PIK3R3, ATP2B1, ATP1A1, PIK3R1, GRIN2B, ATP1A4...   \n",
       "68               cGMP-PKG  ATP2B1, NPR2, KCNMB1, ATP1A1, ATP1A4, CALML6, ...   \n",
       "\n",
       "    gene_group  num_of_Genes  \\\n",
       "0          120            42   \n",
       "1           71            30   \n",
       "2           98            37   \n",
       "3           37            17   \n",
       "4          369           107   \n",
       "..         ...           ...   \n",
       "64          46            20   \n",
       "65         133            46   \n",
       "66         166            51   \n",
       "67         216            74   \n",
       "68         167            63   \n",
       "\n",
       "                                     gene_sym_lncRNAs  num_of_lncRNAs  diff  \n",
       "0   LINC00685, AC129510.1, PCAT7, RAB11B-AS1, AC00...              55    65  \n",
       "1   AC104031.1, AC008467.1, AL133230.1, AC087482.1...              41    30  \n",
       "2   G2E3-AS1, AC120498.10, GNAS-AS1, LINC02489, LI...              44    54  \n",
       "3   CT69, AC010280.2, AC010735.2, ATP1B3-AS1, AC01...              22    15  \n",
       "4   NDUFA6-DT, AC010973.2, AC078864.1, AC079336.5,...             132   237  \n",
       "..                                                ...             ...   ...  \n",
       "64  AC010280.2, AC010735.2, AC010735.1, AC019069.1...              27    19  \n",
       "65  AP001453.2, AC104463.2, LINC01366, LINC01605, ...              68    65  \n",
       "66  MIRLET7BHG, AC104031.1, AC100826.1, AP001453.2...              66   100  \n",
       "67  LINC02097, AC104825.1, AL139274.2, LINC02489, ...             105   111  \n",
       "68  LINC01605, LINC02600, LINC02489, AC025569.1, M...              89    78  \n",
       "\n",
       "[69 rows x 7 columns]"
      ]
     },
     "execution_count": 28,
     "metadata": {},
     "output_type": "execute_result"
    }
   ],
   "source": [
    "df1_ann_pathway_genes = pd.merge(pathways_kegg_eng_ann_list,df1_ann,on=\"Pathway\")\n",
    "df1_ann_pathway_genes"
   ]
  },
  {
   "cell_type": "markdown",
   "id": "african-classics",
   "metadata": {},
   "source": [
    "1.Feature selection for the final input"
   ]
  },
  {
   "cell_type": "code",
   "execution_count": null,
   "id": "meaningful-western",
   "metadata": {},
   "outputs": [],
   "source": []
  },
  {
   "cell_type": "code",
   "execution_count": null,
   "id": "lovely-response",
   "metadata": {},
   "outputs": [],
   "source": [
    "from sklearn.feature_selection import SelectKBest, f_classif\n",
    "#Suppose, we select 5 features with top 5 Fisher scores\n",
    "selector = SelectKBest(f_classif, k = 5)\n",
    "#New dataframe with the selected features for later use in the classifier. fit() method works too, if you want only the feature names and their corresponding scores\n",
    "X_new = selector.fit_transform(X, y)\n",
    "names = X.columns.values[selector.get_support()]\n",
    "scores = selector.scores_[selector.get_support()]\n",
    "names_scores = list(zip(names, scores))\n",
    "ns_df = pd.DataFrame(data = names_scores, columns=['Feat_names', 'F_Scores'])\n",
    "#Sort the dataframe for better visualization\n",
    "ns_df_sorted = ns_df.sort_values(['F_Scores', 'Feat_names'], ascending = [False, True])\n",
    "print(ns_df_sorted)"
   ]
  },
  {
   "cell_type": "code",
   "execution_count": null,
   "id": "substantial-quantity",
   "metadata": {},
   "outputs": [],
   "source": [
    "mask = select_k_best_classifier.get_support()\n",
    "new_features = features_dataframe.columns[mask]"
   ]
  },
  {
   "cell_type": "code",
   "execution_count": 65,
   "id": "acceptable-archives",
   "metadata": {
    "scrolled": true
   },
   "outputs": [],
   "source": [
    "df1_ann[\"diff\"] = df1_ann['gene_group']-df1_ann['num_of_lncRNAs']\n"
   ]
  },
  {
   "cell_type": "code",
   "execution_count": 47,
   "id": "fewer-slope",
   "metadata": {},
   "outputs": [
    {
     "data": {
      "text/plain": [
       "1.0"
      ]
     },
     "execution_count": 47,
     "metadata": {},
     "output_type": "execute_result"
    }
   ],
   "source": [
    "A=len(df1_ann_pathway_genes['gene_sym']) \n",
    "B=len(df1_ann_pathway_genes['gene_sym_lncRNAs']) \n",
    "A and B/A or B"
   ]
  },
  {
   "cell_type": "code",
   "execution_count": 48,
   "id": "initial-bullet",
   "metadata": {},
   "outputs": [],
   "source": [
    "#df1_ann[[\"num_of_lncRNAs\",\"gene_group\"]].apply(jaccard)\n",
    "df1_ann_pathway_genes[\"jaccard\"] = df1_ann_pathway_genes.apply(lambda row: jaccard(row['gene_sym_lncRNAs'], row['gene_sym']), axis=1)"
   ]
  },
  {
   "cell_type": "code",
   "execution_count": 101,
   "id": "functioning-civilian",
   "metadata": {
    "collapsed": true
   },
   "outputs": [
    {
     "ename": "ValueError",
     "evalue": "The input `table` must be of shape (2, 2).",
     "output_type": "error",
     "traceback": [
      "\u001b[0;31m---------------------------------------------------------------------------\u001b[0m",
      "\u001b[0;31mValueError\u001b[0m                                Traceback (most recent call last)",
      "\u001b[0;32m<ipython-input-101-e14e08c0b42a>\u001b[0m in \u001b[0;36m<module>\u001b[0;34m\u001b[0m\n\u001b[1;32m      1\u001b[0m contingency_table=[[df1_ann_pathway_genes.gene_group,df1_ann_pathway_genes.num_of_Genes],\n\u001b[1;32m      2\u001b[0m [df1_ann_pathway_genes.bg,df1_ann_pathway_genes.num_of_lncRNAs]]\n\u001b[0;32m----> 3\u001b[0;31m \u001b[0mmin\u001b[0m\u001b[0;34m(\u001b[0m\u001b[0mfisher_exact\u001b[0m\u001b[0;34m(\u001b[0m\u001b[0mcontingency_table\u001b[0m\u001b[0;34m,\u001b[0m \u001b[0malternative\u001b[0m\u001b[0;34m=\u001b[0m\u001b[0;34m'less'\u001b[0m\u001b[0;34m)\u001b[0m\u001b[0;34m[\u001b[0m\u001b[0;36m1\u001b[0m\u001b[0;34m]\u001b[0m\u001b[0;34m,\u001b[0m\u001b[0mfisher_exact\u001b[0m\u001b[0;34m(\u001b[0m\u001b[0mcontingency_table\u001b[0m\u001b[0;34m,\u001b[0m \u001b[0malternative\u001b[0m\u001b[0;34m=\u001b[0m\u001b[0;34m'greater'\u001b[0m\u001b[0;34m)\u001b[0m\u001b[0;34m[\u001b[0m\u001b[0;36m1\u001b[0m\u001b[0;34m]\u001b[0m\u001b[0;34m)\u001b[0m\u001b[0;34m\u001b[0m\u001b[0;34m\u001b[0m\u001b[0m\n\u001b[0m",
      "\u001b[0;32m~/anaconda3/lib/python3.7/site-packages/scipy/stats/stats.py\u001b[0m in \u001b[0;36mfisher_exact\u001b[0;34m(table, alternative)\u001b[0m\n\u001b[1;32m   4030\u001b[0m     \u001b[0mc\u001b[0m \u001b[0;34m=\u001b[0m \u001b[0mnp\u001b[0m\u001b[0;34m.\u001b[0m\u001b[0masarray\u001b[0m\u001b[0;34m(\u001b[0m\u001b[0mtable\u001b[0m\u001b[0;34m,\u001b[0m \u001b[0mdtype\u001b[0m\u001b[0;34m=\u001b[0m\u001b[0mnp\u001b[0m\u001b[0;34m.\u001b[0m\u001b[0mint64\u001b[0m\u001b[0;34m)\u001b[0m  \u001b[0;31m# int32 is not enough for the algorithm\u001b[0m\u001b[0;34m\u001b[0m\u001b[0;34m\u001b[0m\u001b[0m\n\u001b[1;32m   4031\u001b[0m     \u001b[0;32mif\u001b[0m \u001b[0;32mnot\u001b[0m \u001b[0mc\u001b[0m\u001b[0;34m.\u001b[0m\u001b[0mshape\u001b[0m \u001b[0;34m==\u001b[0m \u001b[0;34m(\u001b[0m\u001b[0;36m2\u001b[0m\u001b[0;34m,\u001b[0m \u001b[0;36m2\u001b[0m\u001b[0;34m)\u001b[0m\u001b[0;34m:\u001b[0m\u001b[0;34m\u001b[0m\u001b[0;34m\u001b[0m\u001b[0m\n\u001b[0;32m-> 4032\u001b[0;31m         \u001b[0;32mraise\u001b[0m \u001b[0mValueError\u001b[0m\u001b[0;34m(\u001b[0m\u001b[0;34m\"The input `table` must be of shape (2, 2).\"\u001b[0m\u001b[0;34m)\u001b[0m\u001b[0;34m\u001b[0m\u001b[0;34m\u001b[0m\u001b[0m\n\u001b[0m\u001b[1;32m   4033\u001b[0m \u001b[0;34m\u001b[0m\u001b[0m\n\u001b[1;32m   4034\u001b[0m     \u001b[0;32mif\u001b[0m \u001b[0mnp\u001b[0m\u001b[0;34m.\u001b[0m\u001b[0many\u001b[0m\u001b[0;34m(\u001b[0m\u001b[0mc\u001b[0m \u001b[0;34m<\u001b[0m \u001b[0;36m0\u001b[0m\u001b[0;34m)\u001b[0m\u001b[0;34m:\u001b[0m\u001b[0;34m\u001b[0m\u001b[0;34m\u001b[0m\u001b[0m\n",
      "\u001b[0;31mValueError\u001b[0m: The input `table` must be of shape (2, 2)."
     ]
    }
   ],
   "source": [
    "contingency_table=[[df1_ann_pathway_genes.gene_group,df1_ann_pathway_genes.num_of_Genes],\n",
    "[df1_ann_pathway_genes.bg,df1_ann_pathway_genes.num_of_lncRNAs]]\n",
    "min(fisher_exact(contingency_table, alternative='less')[1],fisher_exact(contingency_table, alternative='greater')[1])"
   ]
  },
  {
   "cell_type": "code",
   "execution_count": 117,
   "id": "pressed-nightlife",
   "metadata": {},
   "outputs": [
    {
     "data": {
      "text/plain": [
       "(69, 12)"
      ]
     },
     "execution_count": 117,
     "metadata": {},
     "output_type": "execute_result"
    }
   ],
   "source": [
    "df1_ann_pathway_genes[\"p_value\"] = df1_ann_pathway_genes.apply(lambda r: somaticP(r.gene_group,r.num_of_Genes,\n",
    "                                                        r.bg,r.num_of_lncRNAs),axis=1)\n",
    "df1_ann_pathway_genes.query('p_value<=0.05').shape"
   ]
  },
  {
   "cell_type": "code",
   "execution_count": 119,
   "id": "stupid-huntington",
   "metadata": {
    "collapsed": true
   },
   "outputs": [
    {
     "data": {
      "text/html": [
       "<div>\n",
       "<style scoped>\n",
       "    .dataframe tbody tr th:only-of-type {\n",
       "        vertical-align: middle;\n",
       "    }\n",
       "\n",
       "    .dataframe tbody tr th {\n",
       "        vertical-align: top;\n",
       "    }\n",
       "\n",
       "    .dataframe thead th {\n",
       "        text-align: right;\n",
       "    }\n",
       "</style>\n",
       "<table border=\"1\" class=\"dataframe\">\n",
       "  <thead>\n",
       "    <tr style=\"text-align: right;\">\n",
       "      <th></th>\n",
       "      <th>Pathway</th>\n",
       "      <th>gene_sym</th>\n",
       "      <th>gene_group</th>\n",
       "      <th>num_of_Genes</th>\n",
       "      <th>gene_sym_lncRNAs</th>\n",
       "      <th>num_of_lncRNAs</th>\n",
       "      <th>diff</th>\n",
       "      <th>jacc</th>\n",
       "      <th>bg</th>\n",
       "      <th>p</th>\n",
       "      <th>p-value</th>\n",
       "      <th>p_value</th>\n",
       "    </tr>\n",
       "  </thead>\n",
       "  <tbody>\n",
       "    <tr>\n",
       "      <th>0</th>\n",
       "      <td>AMPK</td>\n",
       "      <td>PIK3R3, PPARGC1A, PRKAG3, PIK3R1, FOXO1, PPP2R...</td>\n",
       "      <td>120</td>\n",
       "      <td>42</td>\n",
       "      <td>LINC00685, AC129510.1, PCAT7, RAB11B-AS1, AC00...</td>\n",
       "      <td>55</td>\n",
       "      <td>65</td>\n",
       "      <td>0.494400</td>\n",
       "      <td>3379</td>\n",
       "      <td>8.900866e-33</td>\n",
       "      <td>8.900866e-33</td>\n",
       "      <td>8.900866e-33</td>\n",
       "    </tr>\n",
       "    <tr>\n",
       "      <th>1</th>\n",
       "      <td>Adherens</td>\n",
       "      <td>LEF1, NECTIN1, CSNK2A3, YES1, NECTIN3, TJP1, P...</td>\n",
       "      <td>71</td>\n",
       "      <td>30</td>\n",
       "      <td>AC104031.1, AC008467.1, AL133230.1, AC087482.1...</td>\n",
       "      <td>41</td>\n",
       "      <td>30</td>\n",
       "      <td>0.453564</td>\n",
       "      <td>3379</td>\n",
       "      <td>2.109914e-29</td>\n",
       "      <td>2.109914e-29</td>\n",
       "      <td>2.109914e-29</td>\n",
       "    </tr>\n",
       "    <tr>\n",
       "      <th>2</th>\n",
       "      <td>Aldosterone</td>\n",
       "      <td>ATP2B1, CYP11A1, ATP1A1, ATP1A4, CALML6, CALM2...</td>\n",
       "      <td>98</td>\n",
       "      <td>37</td>\n",
       "      <td>G2E3-AS1, AC120498.10, GNAS-AS1, LINC02489, LI...</td>\n",
       "      <td>44</td>\n",
       "      <td>54</td>\n",
       "      <td>0.555556</td>\n",
       "      <td>3379</td>\n",
       "      <td>6.521074e-33</td>\n",
       "      <td>6.521074e-33</td>\n",
       "      <td>6.521074e-33</td>\n",
       "    </tr>\n",
       "    <tr>\n",
       "      <th>3</th>\n",
       "      <td>Aldosterone-regulated</td>\n",
       "      <td>PIK3R3, NEDD4L, INS, FXYD2, ATP1A1, ATP1B1, PI...</td>\n",
       "      <td>37</td>\n",
       "      <td>17</td>\n",
       "      <td>CT69, AC010280.2, AC010735.2, ATP1B3-AS1, AC01...</td>\n",
       "      <td>22</td>\n",
       "      <td>15</td>\n",
       "      <td>0.500000</td>\n",
       "      <td>3379</td>\n",
       "      <td>4.988557e-22</td>\n",
       "      <td>4.988557e-22</td>\n",
       "      <td>4.988557e-22</td>\n",
       "    </tr>\n",
       "    <tr>\n",
       "      <th>4</th>\n",
       "      <td>Alzheimer</td>\n",
       "      <td>CHRM3, FZD4, FZD3, CALML6, CALML3, VDAC3, FZD9...</td>\n",
       "      <td>369</td>\n",
       "      <td>107</td>\n",
       "      <td>NDUFA6-DT, AC010973.2, AC078864.1, AC079336.5,...</td>\n",
       "      <td>132</td>\n",
       "      <td>237</td>\n",
       "      <td>0.498356</td>\n",
       "      <td>3379</td>\n",
       "      <td>3.706152e-40</td>\n",
       "      <td>3.706152e-40</td>\n",
       "      <td>3.706152e-40</td>\n",
       "    </tr>\n",
       "  </tbody>\n",
       "</table>\n",
       "</div>"
      ],
      "text/plain": [
       "                 Pathway                                           gene_sym  \\\n",
       "0                   AMPK  PIK3R3, PPARGC1A, PRKAG3, PIK3R1, FOXO1, PPP2R...   \n",
       "1               Adherens  LEF1, NECTIN1, CSNK2A3, YES1, NECTIN3, TJP1, P...   \n",
       "2            Aldosterone  ATP2B1, CYP11A1, ATP1A1, ATP1A4, CALML6, CALM2...   \n",
       "3  Aldosterone-regulated  PIK3R3, NEDD4L, INS, FXYD2, ATP1A1, ATP1B1, PI...   \n",
       "4              Alzheimer  CHRM3, FZD4, FZD3, CALML6, CALML3, VDAC3, FZD9...   \n",
       "\n",
       "   gene_group  num_of_Genes  \\\n",
       "0         120            42   \n",
       "1          71            30   \n",
       "2          98            37   \n",
       "3          37            17   \n",
       "4         369           107   \n",
       "\n",
       "                                    gene_sym_lncRNAs  num_of_lncRNAs  diff  \\\n",
       "0  LINC00685, AC129510.1, PCAT7, RAB11B-AS1, AC00...              55    65   \n",
       "1  AC104031.1, AC008467.1, AL133230.1, AC087482.1...              41    30   \n",
       "2  G2E3-AS1, AC120498.10, GNAS-AS1, LINC02489, LI...              44    54   \n",
       "3  CT69, AC010280.2, AC010735.2, ATP1B3-AS1, AC01...              22    15   \n",
       "4  NDUFA6-DT, AC010973.2, AC078864.1, AC079336.5,...             132   237   \n",
       "\n",
       "       jacc    bg             p       p-value       p_value  \n",
       "0  0.494400  3379  8.900866e-33  8.900866e-33  8.900866e-33  \n",
       "1  0.453564  3379  2.109914e-29  2.109914e-29  2.109914e-29  \n",
       "2  0.555556  3379  6.521074e-33  6.521074e-33  6.521074e-33  \n",
       "3  0.500000  3379  4.988557e-22  4.988557e-22  4.988557e-22  \n",
       "4  0.498356  3379  3.706152e-40  3.706152e-40  3.706152e-40  "
      ]
     },
     "execution_count": 119,
     "metadata": {},
     "output_type": "execute_result"
    }
   ],
   "source": [
    "df1_ann_pathway_genes.head()"
   ]
  },
  {
   "cell_type": "code",
   "execution_count": 109,
   "id": "blocked-loading",
   "metadata": {
    "collapsed": true
   },
   "outputs": [
    {
     "ename": "ValueError",
     "evalue": "The input `table` must be of shape (2, 2).",
     "output_type": "error",
     "traceback": [
      "\u001b[0;31m---------------------------------------------------------------------------\u001b[0m",
      "\u001b[0;31mValueError\u001b[0m                                Traceback (most recent call last)",
      "\u001b[0;32m<ipython-input-109-808cdaf0829c>\u001b[0m in \u001b[0;36m<module>\u001b[0;34m\u001b[0m\n\u001b[1;32m      1\u001b[0m somaticP(df1_ann_pathway_genes.gene_group,df1_ann_pathway_genes.num_of_Genes,\n\u001b[0;32m----> 2\u001b[0;31m                                                         df1_ann_pathway_genes.bg,df1_ann_pathway_genes.num_of_lncRNAs)\n\u001b[0m",
      "\u001b[0;32m<ipython-input-103-5e0b25cfc424>\u001b[0m in \u001b[0;36msomaticP\u001b[0;34m(ingenes_y, inpathway_y, bg, inpathway_n)\u001b[0m\n\u001b[1;32m      6\u001b[0m     \u001b[0mbg_lncRNAs_de\u001b[0m \u001b[0;34m=\u001b[0m \u001b[0;36m3379\u001b[0m\u001b[0;34m\u001b[0m\u001b[0;34m\u001b[0m\u001b[0m\n\u001b[1;32m      7\u001b[0m     \u001b[0mcontingency_table\u001b[0m \u001b[0;34m=\u001b[0m \u001b[0;34m[\u001b[0m\u001b[0;34m[\u001b[0m\u001b[0mingenes_y\u001b[0m\u001b[0;34m,\u001b[0m \u001b[0minpathway_y\u001b[0m\u001b[0;34m]\u001b[0m\u001b[0;34m,\u001b[0m\u001b[0;34m[\u001b[0m\u001b[0mbg\u001b[0m\u001b[0;34m,\u001b[0m \u001b[0minpathway_n\u001b[0m\u001b[0;34m]\u001b[0m\u001b[0;34m]\u001b[0m\u001b[0;34m\u001b[0m\u001b[0;34m\u001b[0m\u001b[0m\n\u001b[0;32m----> 8\u001b[0;31m     \u001b[0;32mreturn\u001b[0m \u001b[0mmin\u001b[0m\u001b[0;34m(\u001b[0m\u001b[0mfisher_exact\u001b[0m\u001b[0;34m(\u001b[0m\u001b[0mcontingency_table\u001b[0m\u001b[0;34m,\u001b[0m \u001b[0malternative\u001b[0m\u001b[0;34m=\u001b[0m\u001b[0;34m'less'\u001b[0m\u001b[0;34m)\u001b[0m\u001b[0;34m[\u001b[0m\u001b[0;36m1\u001b[0m\u001b[0;34m]\u001b[0m\u001b[0;34m,\u001b[0m\u001b[0mfisher_exact\u001b[0m\u001b[0;34m(\u001b[0m\u001b[0mcontingency_table\u001b[0m\u001b[0;34m,\u001b[0m \u001b[0malternative\u001b[0m\u001b[0;34m=\u001b[0m\u001b[0;34m'greater'\u001b[0m\u001b[0;34m)\u001b[0m\u001b[0;34m[\u001b[0m\u001b[0;36m1\u001b[0m\u001b[0;34m]\u001b[0m\u001b[0;34m)\u001b[0m\u001b[0;34m\u001b[0m\u001b[0;34m\u001b[0m\u001b[0m\n\u001b[0m",
      "\u001b[0;32m~/anaconda3/lib/python3.7/site-packages/scipy/stats/stats.py\u001b[0m in \u001b[0;36mfisher_exact\u001b[0;34m(table, alternative)\u001b[0m\n\u001b[1;32m   4030\u001b[0m     \u001b[0mc\u001b[0m \u001b[0;34m=\u001b[0m \u001b[0mnp\u001b[0m\u001b[0;34m.\u001b[0m\u001b[0masarray\u001b[0m\u001b[0;34m(\u001b[0m\u001b[0mtable\u001b[0m\u001b[0;34m,\u001b[0m \u001b[0mdtype\u001b[0m\u001b[0;34m=\u001b[0m\u001b[0mnp\u001b[0m\u001b[0;34m.\u001b[0m\u001b[0mint64\u001b[0m\u001b[0;34m)\u001b[0m  \u001b[0;31m# int32 is not enough for the algorithm\u001b[0m\u001b[0;34m\u001b[0m\u001b[0;34m\u001b[0m\u001b[0m\n\u001b[1;32m   4031\u001b[0m     \u001b[0;32mif\u001b[0m \u001b[0;32mnot\u001b[0m \u001b[0mc\u001b[0m\u001b[0;34m.\u001b[0m\u001b[0mshape\u001b[0m \u001b[0;34m==\u001b[0m \u001b[0;34m(\u001b[0m\u001b[0;36m2\u001b[0m\u001b[0;34m,\u001b[0m \u001b[0;36m2\u001b[0m\u001b[0;34m)\u001b[0m\u001b[0;34m:\u001b[0m\u001b[0;34m\u001b[0m\u001b[0;34m\u001b[0m\u001b[0m\n\u001b[0;32m-> 4032\u001b[0;31m         \u001b[0;32mraise\u001b[0m \u001b[0mValueError\u001b[0m\u001b[0;34m(\u001b[0m\u001b[0;34m\"The input `table` must be of shape (2, 2).\"\u001b[0m\u001b[0;34m)\u001b[0m\u001b[0;34m\u001b[0m\u001b[0;34m\u001b[0m\u001b[0m\n\u001b[0m\u001b[1;32m   4033\u001b[0m \u001b[0;34m\u001b[0m\u001b[0m\n\u001b[1;32m   4034\u001b[0m     \u001b[0;32mif\u001b[0m \u001b[0mnp\u001b[0m\u001b[0;34m.\u001b[0m\u001b[0many\u001b[0m\u001b[0;34m(\u001b[0m\u001b[0mc\u001b[0m \u001b[0;34m<\u001b[0m \u001b[0;36m0\u001b[0m\u001b[0;34m)\u001b[0m\u001b[0;34m:\u001b[0m\u001b[0;34m\u001b[0m\u001b[0;34m\u001b[0m\u001b[0m\n",
      "\u001b[0;31mValueError\u001b[0m: The input `table` must be of shape (2, 2)."
     ]
    }
   ],
   "source": [
    "somaticP(df1_ann_pathway_genes.gene_group,df1_ann_pathway_genes.num_of_Genes,\n",
    "                                                        df1_ann_pathway_genes.bg,df1_ann_pathway_genes.num_of_lncRNAs)"
   ]
  },
  {
   "cell_type": "code",
   "execution_count": 56,
   "id": "alternative-shell",
   "metadata": {
    "collapsed": true
   },
   "outputs": [
    {
     "data": {
      "text/plain": [
       "[[0      55\n",
       "  1      41\n",
       "  2      44\n",
       "  3      22\n",
       "  4     132\n",
       "       ... \n",
       "  64     27\n",
       "  65     68\n",
       "  66     66\n",
       "  67    105\n",
       "  68     89\n",
       "  Name: num_of_lncRNAs, Length: 69, dtype: int64,\n",
       "  0      65\n",
       "  1      30\n",
       "  2      54\n",
       "  3      15\n",
       "  4     237\n",
       "       ... \n",
       "  64     19\n",
       "  65     65\n",
       "  66    100\n",
       "  67    111\n",
       "  68     78\n",
       "  Name: diff, Length: 69, dtype: int64],\n",
       " [0      65\n",
       "  1      30\n",
       "  2      54\n",
       "  3      15\n",
       "  4     237\n",
       "       ... \n",
       "  64     19\n",
       "  65     65\n",
       "  66    100\n",
       "  67    111\n",
       "  68     78\n",
       "  Name: diff, Length: 69, dtype: int64,\n",
       "  0     120\n",
       "  1      71\n",
       "  2      98\n",
       "  3      37\n",
       "  4     369\n",
       "       ... \n",
       "  64     46\n",
       "  65    133\n",
       "  66    166\n",
       "  67    216\n",
       "  68    167\n",
       "  Name: gene_group, Length: 69, dtype: int64]]"
      ]
     },
     "execution_count": 56,
     "metadata": {},
     "output_type": "execute_result"
    }
   ],
   "source": [
    "pd.crosstab(df1_ann_pathway_genes['gene_group']>0, df1_ann_pathway_genes['num_of_lncRNAs']>0)\n",
    "bg_lncRNAs = 16825\n",
    "bg_lncRNAs_de = 3379\n",
    "\n",
    "[[df1_ann_pathway_genes['gene_group'], df1_ann_pathway_genes['num_of_Genes']],[bg_lncRNAs_de, df1_ann_pathway_genes['num_of_lncRNAs']]]\n"
   ]
  },
  {
   "cell_type": "code",
   "execution_count": null,
   "id": "exciting-jerusalem",
   "metadata": {},
   "outputs": [],
   "source": [
    "# Feature elimination Mar23"
   ]
  },
  {
   "cell_type": "code",
   "execution_count": 13,
   "id": "transsexual-coordinator",
   "metadata": {},
   "outputs": [],
   "source": [
    "%store -r common_de"
   ]
  },
  {
   "cell_type": "code",
   "execution_count": 14,
   "id": "demographic-yahoo",
   "metadata": {
    "collapsed": true
   },
   "outputs": [
    {
     "data": {
      "image/png": "[encoded data removed]",
      "text/plain": [
       "<Figure size 864x720 with 2 Axes>"
      ]
     },
     "metadata": {
      "needs_background": "light"
     },
     "output_type": "display_data"
    }
   ],
   "source": [
    "plt.figure(figsize=(12,10))\n",
    "cor = common_de.corr()\n",
    "sns.heatmap(cor, annot=True, cmap=plt.cm.Reds)\n",
    "plt.show()"
   ]
  },
  {
   "cell_type": "code",
   "execution_count": 20,
   "id": "incorrect-sense",
   "metadata": {},
   "outputs": [],
   "source": [
    "#Correlation with output variable\n",
    "cor_target = abs(cor[\"risk_alelle_freq\"])"
   ]
  },
  {
   "cell_type": "code",
   "execution_count": 21,
   "id": "settled-definition",
   "metadata": {
    "collapsed": true
   },
   "outputs": [
    {
     "data": {
      "text/plain": [
       "Meth_Mean           0.779297\n",
       "score               0.771916\n",
       "risk_alelle_freq    1.000000\n",
       "Name: risk_alelle_freq, dtype: float64"
      ]
     },
     "execution_count": 21,
     "metadata": {},
     "output_type": "execute_result"
    }
   ],
   "source": [
    "#Selecting highly correlated features\n",
    "relevant_features = cor_target[cor_target>0.5]\n",
    "relevant_features"
   ]
  },
  {
   "cell_type": "code",
   "execution_count": 22,
   "id": "greatest-carroll",
   "metadata": {
    "collapsed": true
   },
   "outputs": [
    {
     "name": "stdout",
     "output_type": "stream",
     "text": [
      "           Meth_Mean    score\n",
      "Meth_Mean    1.00000  0.67402\n",
      "score        0.67402  1.00000\n",
      "                  risk_alelle_freq  Meth_Mean\n",
      "risk_alelle_freq          1.000000   0.779297\n",
      "Meth_Mean                 0.779297   1.000000\n"
     ]
    }
   ],
   "source": [
    "print(common_de[[\"Meth_Mean\",\"score\"]].corr())\n",
    "print(common_de[[\"risk_alelle_freq\",\"Meth_Mean\"]].corr())"
   ]
  },
  {
   "cell_type": "code",
   "execution_count": 23,
   "id": "logical-chorus",
   "metadata": {},
   "outputs": [
    {
     "ename": "NameError",
     "evalue": "name 'LassoCV' is not defined",
     "output_type": "error",
     "traceback": [
      "\u001b[0;31m---------------------------------------------------------------------------\u001b[0m",
      "\u001b[0;31mNameError\u001b[0m                                 Traceback (most recent call last)",
      "\u001b[0;32m<ipython-input-23-d6f3d6e27f94>\u001b[0m in \u001b[0;36m<module>\u001b[0;34m\u001b[0m\n\u001b[0;32m----> 1\u001b[0;31m \u001b[0mreg\u001b[0m \u001b[0;34m=\u001b[0m \u001b[0mLassoCV\u001b[0m\u001b[0;34m(\u001b[0m\u001b[0;34m)\u001b[0m\u001b[0;34m\u001b[0m\u001b[0;34m\u001b[0m\u001b[0m\n\u001b[0m\u001b[1;32m      2\u001b[0m \u001b[0mreg\u001b[0m\u001b[0;34m.\u001b[0m\u001b[0mfit\u001b[0m\u001b[0;34m(\u001b[0m\u001b[0mX\u001b[0m\u001b[0;34m,\u001b[0m \u001b[0my\u001b[0m\u001b[0;34m)\u001b[0m\u001b[0;34m\u001b[0m\u001b[0;34m\u001b[0m\u001b[0m\n\u001b[1;32m      3\u001b[0m \u001b[0mprint\u001b[0m\u001b[0;34m(\u001b[0m\u001b[0;34m\"Best alpha using built-in LassoCV: %f\"\u001b[0m \u001b[0;34m%\u001b[0m \u001b[0mreg\u001b[0m\u001b[0;34m.\u001b[0m\u001b[0malpha_\u001b[0m\u001b[0;34m)\u001b[0m\u001b[0;34m\u001b[0m\u001b[0;34m\u001b[0m\u001b[0m\n\u001b[1;32m      4\u001b[0m \u001b[0mprint\u001b[0m\u001b[0;34m(\u001b[0m\u001b[0;34m\"Best score using built-in LassoCV: %f\"\u001b[0m \u001b[0;34m%\u001b[0m\u001b[0mreg\u001b[0m\u001b[0;34m.\u001b[0m\u001b[0mscore\u001b[0m\u001b[0;34m(\u001b[0m\u001b[0mX\u001b[0m\u001b[0;34m,\u001b[0m\u001b[0my\u001b[0m\u001b[0;34m)\u001b[0m\u001b[0;34m)\u001b[0m\u001b[0;34m\u001b[0m\u001b[0;34m\u001b[0m\u001b[0m\n\u001b[1;32m      5\u001b[0m \u001b[0mcoef\u001b[0m \u001b[0;34m=\u001b[0m \u001b[0mpd\u001b[0m\u001b[0;34m.\u001b[0m\u001b[0mSeries\u001b[0m\u001b[0;34m(\u001b[0m\u001b[0mreg\u001b[0m\u001b[0;34m.\u001b[0m\u001b[0mcoef_\u001b[0m\u001b[0;34m,\u001b[0m \u001b[0mindex\u001b[0m \u001b[0;34m=\u001b[0m \u001b[0mX\u001b[0m\u001b[0;34m.\u001b[0m\u001b[0mcolumns\u001b[0m\u001b[0;34m)\u001b[0m\u001b[0;34m\u001b[0m\u001b[0;34m\u001b[0m\u001b[0m\n",
      "\u001b[0;31mNameError\u001b[0m: name 'LassoCV' is not defined"
     ]
    }
   ],
   "source": [
    "reg = LassoCV()\n",
    "reg.fit(X, y)\n",
    "print(\"Best alpha using built-in LassoCV: %f\" % reg.alpha_)\n",
    "print(\"Best score using built-in LassoCV: %f\" %reg.score(X,y))\n",
    "coef = pd.Series(reg.coef_, index = X.columns)"
   ]
  }
 ],
 "metadata": {
  "kernelspec": {
   "display_name": "Python 3",
   "language": "python",
   "name": "python3"
  },
  "language_info": {
   "codemirror_mode": {
    "name": "ipython",
    "version": 3
   },
   "file_extension": ".py",
   "mimetype": "text/x-python",
   "name": "python",
   "nbconvert_exporter": "python",
   "pygments_lexer": "ipython3",
   "version": "3.7.3"
  }
 },
 "nbformat": 4,
 "nbformat_minor": 5
}
