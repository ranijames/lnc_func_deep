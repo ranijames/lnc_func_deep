{
 "cells": [
  {
   "cell_type": "code",
   "execution_count": 1,
   "id": "dying-private",
   "metadata": {
    "collapsed": true
   },
   "outputs": [
    {
     "name": "stdout",
     "output_type": "stream",
     "text": [
      "Linux-5.4.0-59-generic-x86_64-with-debian-buster-sid\n",
      "Python 3.7.3 (default, Mar 27 2019, 22:11:17) \n",
      "[GCC 7.3.0]\n",
      "NumPy 1.19.5\n",
      "SciPy 1.6.0\n",
      "Scikit-Learn 0.24.1\n"
     ]
    }
   ],
   "source": [
    "from comut import comut\n",
    "from comut import fileparsers\n",
    "import palettable\n",
    "import pandas as pd\n",
    "import matplotlib.pyplot as plt\n",
    "import numpy as np\n",
    "import seaborn as sns\n",
    "from imblearn.over_sampling import SMOTE\n",
    "from sklearn import preprocessing\n",
    "import matplotlib.pyplot as plt \n",
    "plt.rc(\"font\", size=14)\n",
    "from sklearn.linear_model import LogisticRegression\n",
    "from sklearn.model_selection import train_test_split\n",
    "import platform; print(platform.platform())\n",
    "import sys; print(\"Python\", sys.version)\n",
    "import numpy; print(\"NumPy\", numpy.__version__)\n",
    "import scipy; print(\"SciPy\", scipy.__version__)\n",
    "import sklearn; print(\"Scikit-Learn\", sklearn.__version__)\n",
    "from sklearn.feature_selection import RFE\n",
    "from sklearn.linear_model import LogisticRegression\n",
    "%matplotlib inline\n",
    "%config InlineBackend.figure_format = 'retina'"
   ]
  },
  {
   "cell_type": "code",
   "execution_count": 4,
   "id": "increasing-buyer",
   "metadata": {},
   "outputs": [],
   "source": [
    "\"\"\"\n",
    "Global functions used in this notebook\n",
    "\"\"\"\n",
    "def make_list(df,string):\n",
    "    lists   =list(df[string].drop_duplicates())\n",
    "    return lists\n",
    "\n",
    "def annon(df1,string,df2):\n",
    "    df_annon     =pd.merge(df1,df2,on=string)\n",
    "    return df_annon\n",
    "\n",
    "def add_column(df,lists,string,newcolname):\n",
    "    df[newcolname]  = np.where(df['gene_sym'].isin(lists),'Yes','No')\n",
    "    return df\n",
    "\n",
    "def readfile(path,filename):\n",
    "    df = pd.read_csv(path+filename,header=0,sep='\\t',skipinitialspace=True)\n",
    "    return df\n",
    "\n",
    "def annotate_features(df,cancer_driver,drugtarget,triplex,promo_methy,SNPS):\n",
    "    \"\"\"\n",
    "    Feature annotation, adding column to de lncRNAs datafrme based on the feature information\n",
    "    \"\"\"\n",
    "    df =add_column(df,cancer_driver,\"gene_sym\",\"cancer_driver\")\n",
    "    df =add_column(df,drugtarget,\"gene_sym\",\"drug_target\")\n",
    "    df =add_column(df,triplex,\"gene_sym\",\"triplex\")\n",
    "    df =add_column(df,promo_methy,\"gene_sym\",\"promoter_methylated\")\n",
    "    df =add_column(df,SNPS,\"gene_sym\",\"SNPS\")\n",
    "    return df  \n",
    "\n",
    "def rename_cols(df,oldname,newname):\n",
    "    df.rename(columns={oldname:newname},inplace=True)\n",
    "    return df\n",
    "\n",
    "def outers_join(df1,df2,string):\n",
    "    df_new = pd.merge(df1, df2, on=string,how=\"outer\")\n",
    "    return df_new\n",
    "\n",
    "def label_paths (row):\n",
    "    if row['Pathway'] == \"unknown\":\n",
    "        return 0\n",
    "    else:\n",
    "        return 1\n",
    "    \n",
    "def percentage_calc(count_ofyes,countofno,question):\n",
    "    \"\"\"\n",
    "    Percentage calculator for the number of pathways\n",
    "    \"\"\"\n",
    "    pct_of_no_sub = countofno/(countofno+count_ofyes)\n",
    "    pct_of_sub    = (count_ofyes)/(countofno+count_ofyes)\n",
    "    return(print(\"percentage of lncRNAs without\" + question, pct_of_no_sub*100),print(\"percentage of lncRNAs with\"+question, pct_of_sub*100))\n"
   ]
  },
  {
   "cell_type": "code",
   "execution_count": 3,
   "id": "statistical-dodge",
   "metadata": {},
   "outputs": [],
   "source": [
    "def data_preparation(common_de,snps,lncRNAs_ref,common_de_ezh2_h2k27,clc,meth):\n",
    "    \"\"\"\n",
    "    Make the dataframe for the logic regression analysis with all avaliable meta information for the pan cancer common \n",
    "    De lncRNAs file\n",
    "    \"\"\"\n",
    "    SNPS_ann       = pd.merge(lncRNAs_ref[[\"gene_id\",\"gene_sym\"]],snps_all[[\"gene_id\",\"p-Value\"]],on=\"gene_id\")\n",
    "    SNPS_ann       = rename_cols(SNPS_ann,\"p-Value\",\"risk_alelle_freq\")\n",
    "    SNPS_ann.drop_duplicates(inplace=True)\n",
    "    SNPS_ann_de    = pd.merge(common_de['gene_sym'],SNPS_ann[[\"risk_alelle_freq\",\"gene_sym\"]],on='gene_sym')\n",
    "    SNPS_ann_de['risk_alelle_freq'] = pd.to_numeric(SNPS_ann_de['risk_alelle_freq'], errors='coerce')\n",
    "    SNPS_ann_de.fillna(0, inplace=True)\n",
    "    SNPS_ann_de    = SNPS_ann_de.sort_values(by='risk_alelle_freq', ascending=False)\n",
    "    SNPS_ann_de.drop_duplicates(subset='gene_sym', keep=\"first\",inplace=True)\n",
    "    chrom_de_ezh2  = common_de_ezh2_h2k27.query('chromatin==\"EZH2\"')\n",
    "    chrom_de_H3K27 = common_de_ezh2_h2k27.query('chromatin==\"H3K27\"')\n",
    "    chrom_de_H3K27 = chrom_de_H3K27[[\"gene_sym\",\"sample\",\"logFC_chromatin\"]]\n",
    "    chrom_de_ezh2  = chrom_de_ezh2[[\"gene_sym\",\"sample\",\"logFC_chromatin\"]]\n",
    "    clc_de         = pd.merge(common_de['gene_sym'],clc,on='gene_sym')\n",
    "    brca_meth_de   = pd.merge(common_de[['gene_sym','sample']],Methylated[[\"gene_sym\",\"Meth_Mean\",\"sample\"]],on=['gene_sym','sample'])\n",
    "    brca_new       = pd.merge(common_de, SNPS_ann_de, on='gene_sym',how=\"outer\")\n",
    "    brca_new       = outers_join(brca_new,chrom_de_ezh2[[\"gene_sym\",\"logFC_chromatin\"]],\"gene_sym\")\n",
    "    brca_new       = outers_join(brca_new,chrom_de_H3K27[[\"gene_sym\",\"logFC_chromatin\"]],\"gene_sym\")\n",
    "    brca_new = rename_cols(brca_new,\"logFC_chromatin_x\",\"EZH2\")\n",
    "    brca_new = rename_cols(brca_new,\"logFC_chromatin_y\",\"H3K27\")\n",
    "    brca_new = outers_join(brca_new,clc_de,\"gene_sym\")\n",
    "    brca_new = pd.merge(brca_new, brca_meth_de, on=['gene_sym','sample'],how=\"outer\")\n",
    "    brca_new.fillna('unknown', inplace=True)\n",
    "    brca_new.drop(['SNPS'],axis=1,inplace=True)\n",
    "    return brca_new"
   ]
  },
  {
   "cell_type": "code",
   "execution_count": 4,
   "id": "national-intensity",
   "metadata": {},
   "outputs": [],
   "source": [
    "refs        = '/home/alva/Documents/lncRNAs_project_2020/Analysis_2021/Tcga_R/GDCdata/TCGA-BRCA/harmonized/Transcriptome_Profiling/Gene_Expression_Quantification/r_data/reference/Homo_sapiens.GRCh38.97.chr.txt'\n",
    "ref         = pd.read_csv(refs, sep=\"\\t\", header=0,skipinitialspace=True)\n",
    "lncRNAs_ref = ref.query('biotype == \"lncRNA\"')\n",
    "PC_ref      = ref.query('biotype == \"protein_coding\"')"
   ]
  },
  {
   "cell_type": "code",
   "execution_count": 5,
   "id": "adjacent-membrane",
   "metadata": {},
   "outputs": [],
   "source": [
    "path                  = '/home/alva/Documents/lncRNAs_project_2020/Analysis_2021/DNA_methy_tcga/meth/de/filtered_results/'\n",
    "chrompath             = \"/home/alva/Documents/lncRNAs_project_2020/MEG3/\"\n",
    "depath                = '/home/alva/Documents/lncRNAs_project_2020/Analysis_2021/DNA_methy_tcga/meth/de/'\n",
    "methy                 = '/home/alva/Documents/lncRNAs_project_2020/Analysis_2021/DNA_methy_tcga/meth/de/'\n",
    "cancer_lncRNAs_census = '/home/alva/Documents/lncRNAs_project_2020/Analysis_2021/DNA_methy_tcga/autoencoder_lncRNAs/data/'\n",
    "SNPS                  = \"/home/alva/Documents/lncRNAs_project_2020/Analysis_2021/lncRNAs_TCGA/\"\n",
    "pathmeg3              = \"/home/alva/Documents/lncRNAs_project_2020/MEG3/\"\n",
    "de                    = \"/home/alva/Documents/lncRNAs_project_2020/Analysis_2021/DNA_methy_tcga/meth/de/filtered_results/\""
   ]
  },
  {
   "cell_type": "code",
   "execution_count": 7,
   "id": "desperate-dryer",
   "metadata": {},
   "outputs": [],
   "source": [
    "common_de           = readfile(path,\"commonDE_5cancermetainformation\")\n",
    "pathways            = readfile(path,\"cis_onco_pathways_ann_cols\")\n",
    "triplex             = readfile(depath,\"tripleFPP_triplex_genecode\")\n",
    "Methylated          = readfile(methy,'methylated_lncRNAs')\n",
    "clc                 = readfile(cancer_lncRNAs_census,\"lncRNA_CLC\")\n",
    "snps_all            = readfile(SNPS,\"SNPs_loci_lncRNAs_cancertypes\")\n",
    "de_fc               = readfile(de,\"lncRNAs_acrossatleast5cancer\")"
   ]
  },
  {
   "cell_type": "code",
   "execution_count": 8,
   "id": "developed-digest",
   "metadata": {},
   "outputs": [],
   "source": [
    "clc = clc[[\"NAME AS PUBLISHED\",\"Oncogene (o) or Tumour Supp(t)\"]]\n",
    "clc = rename_cols(clc,\"NAME AS PUBLISHED\",\"gene_sym\")\n",
    "clc = rename_cols(clc,\"Oncogene (o) or Tumour Supp(t)\",\"types\")\n",
    "Methylated           = rename_cols(Methylated,\"Gene\",\"gene_sym\")\n",
    "common_de[\"sample\"]  = common_de[\"filename\"].apply(lambda x:x.split(\"-\")[1])\n",
    "common_de.drop('filename',axis=1,inplace=True)\n",
    "de_fc[\"sample\"]      = de_fc[\"filename\"].apply(lambda x:x.split(\"-\")[1])\n",
    "de_fc                = rename_cols(de_fc,\"external_gene_name\",\"gene_sym\")\n",
    "de_fc.drop('filename',axis=1,inplace=True)"
   ]
  },
  {
   "cell_type": "code",
   "execution_count": 9,
   "id": "effective-facial",
   "metadata": {},
   "outputs": [],
   "source": [
    "EZH2  = readfile(pathmeg3,\"EZH2_enriched_lncRNAs\")\n",
    "EZH2  = rename_cols(EZH2,\"GeneSymbol\",\"gene_sym\")\n",
    "H3K27 = readfile(pathmeg3,\"H3k27_enriched_lncRNAs\")\n",
    "H3K27 = rename_cols(H3K27,\"GeneSymbol\",\"gene_sym\")"
   ]
  },
  {
   "cell_type": "code",
   "execution_count": 10,
   "id": "disabled-display",
   "metadata": {},
   "outputs": [],
   "source": [
    "common_de_EZH2       = pd.merge(de_fc[[\"gene_sym\",\"logFC\",\"sample\"]],EZH2[[\"gene_sym\",\"logFC\"]],on=\"gene_sym\",suffixes=('_de', '_chromatin'))\n",
    "common_de_EZH2[\"chromatin\"] = \"EZH2\"\n",
    "common_de_H3K27      = pd.merge(de_fc[[\"gene_sym\",\"logFC\",\"sample\"]],H3K27[[\"gene_sym\",\"logFC\"]],on=\"gene_sym\",suffixes=('_de', '_chromatin'))\n",
    "common_de_H3K27[\"chromatin\"] = \"H3K27\"\n",
    "common_de_ezh2_h2k27 = pd.concat([common_de_H3K27,common_de_EZH2])"
   ]
  },
  {
   "cell_type": "code",
   "execution_count": 11,
   "id": "neural-colombia",
   "metadata": {
    "collapsed": true
   },
   "outputs": [
    {
     "data": {
      "text/html": [
       "<div>\n",
       "<style scoped>\n",
       "    .dataframe tbody tr th:only-of-type {\n",
       "        vertical-align: middle;\n",
       "    }\n",
       "\n",
       "    .dataframe tbody tr th {\n",
       "        vertical-align: top;\n",
       "    }\n",
       "\n",
       "    .dataframe thead th {\n",
       "        text-align: right;\n",
       "    }\n",
       "</style>\n",
       "<table border=\"1\" class=\"dataframe\">\n",
       "  <thead>\n",
       "    <tr style=\"text-align: right;\">\n",
       "      <th></th>\n",
       "      <th>gene_sym</th>\n",
       "      <th>logFC_de</th>\n",
       "      <th>sample</th>\n",
       "      <th>logFC_chromatin</th>\n",
       "      <th>chromatin</th>\n",
       "    </tr>\n",
       "  </thead>\n",
       "  <tbody>\n",
       "    <tr>\n",
       "      <th>0</th>\n",
       "      <td>AC131097.3</td>\n",
       "      <td>-1.271944</td>\n",
       "      <td>KIRP</td>\n",
       "      <td>4.165595</td>\n",
       "      <td>H3K27</td>\n",
       "    </tr>\n",
       "    <tr>\n",
       "      <th>1</th>\n",
       "      <td>AC131097.3</td>\n",
       "      <td>-0.948757</td>\n",
       "      <td>LUAD</td>\n",
       "      <td>4.165595</td>\n",
       "      <td>H3K27</td>\n",
       "    </tr>\n",
       "    <tr>\n",
       "      <th>2</th>\n",
       "      <td>AC131097.3</td>\n",
       "      <td>-1.363466</td>\n",
       "      <td>LUSC</td>\n",
       "      <td>4.165595</td>\n",
       "      <td>H3K27</td>\n",
       "    </tr>\n",
       "    <tr>\n",
       "      <th>3</th>\n",
       "      <td>AC131097.3</td>\n",
       "      <td>-0.839736</td>\n",
       "      <td>PRAD</td>\n",
       "      <td>4.165595</td>\n",
       "      <td>H3K27</td>\n",
       "    </tr>\n",
       "    <tr>\n",
       "      <th>4</th>\n",
       "      <td>AC131097.3</td>\n",
       "      <td>-0.812610</td>\n",
       "      <td>THCA</td>\n",
       "      <td>4.165595</td>\n",
       "      <td>H3K27</td>\n",
       "    </tr>\n",
       "    <tr>\n",
       "      <th>...</th>\n",
       "      <td>...</td>\n",
       "      <td>...</td>\n",
       "      <td>...</td>\n",
       "      <td>...</td>\n",
       "      <td>...</td>\n",
       "    </tr>\n",
       "    <tr>\n",
       "      <th>209</th>\n",
       "      <td>ZEB1-AS1</td>\n",
       "      <td>1.092297</td>\n",
       "      <td>ESCA</td>\n",
       "      <td>5.121238</td>\n",
       "      <td>EZH2</td>\n",
       "    </tr>\n",
       "    <tr>\n",
       "      <th>210</th>\n",
       "      <td>ZEB1-AS1</td>\n",
       "      <td>-1.052096</td>\n",
       "      <td>KICH</td>\n",
       "      <td>5.121238</td>\n",
       "      <td>EZH2</td>\n",
       "    </tr>\n",
       "    <tr>\n",
       "      <th>211</th>\n",
       "      <td>ZEB1-AS1</td>\n",
       "      <td>1.083651</td>\n",
       "      <td>KIRP</td>\n",
       "      <td>5.121238</td>\n",
       "      <td>EZH2</td>\n",
       "    </tr>\n",
       "    <tr>\n",
       "      <th>212</th>\n",
       "      <td>ZEB1-AS1</td>\n",
       "      <td>0.705494</td>\n",
       "      <td>LIHC</td>\n",
       "      <td>5.121238</td>\n",
       "      <td>EZH2</td>\n",
       "    </tr>\n",
       "    <tr>\n",
       "      <th>213</th>\n",
       "      <td>ZEB1-AS1</td>\n",
       "      <td>0.634162</td>\n",
       "      <td>LUSC</td>\n",
       "      <td>5.121238</td>\n",
       "      <td>EZH2</td>\n",
       "    </tr>\n",
       "  </tbody>\n",
       "</table>\n",
       "<p>336 rows × 5 columns</p>\n",
       "</div>"
      ],
      "text/plain": [
       "       gene_sym  logFC_de sample  logFC_chromatin chromatin\n",
       "0    AC131097.3 -1.271944   KIRP         4.165595     H3K27\n",
       "1    AC131097.3 -0.948757   LUAD         4.165595     H3K27\n",
       "2    AC131097.3 -1.363466   LUSC         4.165595     H3K27\n",
       "3    AC131097.3 -0.839736   PRAD         4.165595     H3K27\n",
       "4    AC131097.3 -0.812610   THCA         4.165595     H3K27\n",
       "..          ...       ...    ...              ...       ...\n",
       "209    ZEB1-AS1  1.092297   ESCA         5.121238      EZH2\n",
       "210    ZEB1-AS1 -1.052096   KICH         5.121238      EZH2\n",
       "211    ZEB1-AS1  1.083651   KIRP         5.121238      EZH2\n",
       "212    ZEB1-AS1  0.705494   LIHC         5.121238      EZH2\n",
       "213    ZEB1-AS1  0.634162   LUSC         5.121238      EZH2\n",
       "\n",
       "[336 rows x 5 columns]"
      ]
     },
     "execution_count": 11,
     "metadata": {},
     "output_type": "execute_result"
    }
   ],
   "source": [
    "common_de_ezh2_h2k27"
   ]
  },
  {
   "cell_type": "code",
   "execution_count": 12,
   "id": "acceptable-trunk",
   "metadata": {
    "collapsed": true
   },
   "outputs": [
    {
     "data": {
      "text/html": [
       "<div>\n",
       "<style scoped>\n",
       "    .dataframe tbody tr th:only-of-type {\n",
       "        vertical-align: middle;\n",
       "    }\n",
       "\n",
       "    .dataframe tbody tr th {\n",
       "        vertical-align: top;\n",
       "    }\n",
       "\n",
       "    .dataframe thead th {\n",
       "        text-align: right;\n",
       "    }\n",
       "</style>\n",
       "<table border=\"1\" class=\"dataframe\">\n",
       "  <thead>\n",
       "    <tr style=\"text-align: right;\">\n",
       "      <th></th>\n",
       "      <th>gene_sym</th>\n",
       "      <th>sample</th>\n",
       "      <th>Pathway</th>\n",
       "    </tr>\n",
       "  </thead>\n",
       "  <tbody>\n",
       "    <tr>\n",
       "      <th>0</th>\n",
       "      <td>AC004846.1</td>\n",
       "      <td>BRCA</td>\n",
       "      <td>NOTCH</td>\n",
       "    </tr>\n",
       "    <tr>\n",
       "      <th>1</th>\n",
       "      <td>AC004846.1</td>\n",
       "      <td>COAD</td>\n",
       "      <td>NOTCH</td>\n",
       "    </tr>\n",
       "    <tr>\n",
       "      <th>2</th>\n",
       "      <td>AC004846.1</td>\n",
       "      <td>KICH</td>\n",
       "      <td>NOTCH</td>\n",
       "    </tr>\n",
       "    <tr>\n",
       "      <th>3</th>\n",
       "      <td>AC004846.1</td>\n",
       "      <td>KIRC</td>\n",
       "      <td>NOTCH</td>\n",
       "    </tr>\n",
       "    <tr>\n",
       "      <th>4</th>\n",
       "      <td>AC004846.1</td>\n",
       "      <td>KIRP</td>\n",
       "      <td>NOTCH</td>\n",
       "    </tr>\n",
       "    <tr>\n",
       "      <th>...</th>\n",
       "      <td>...</td>\n",
       "      <td>...</td>\n",
       "      <td>...</td>\n",
       "    </tr>\n",
       "    <tr>\n",
       "      <th>4202</th>\n",
       "      <td>WNT5A-AS1</td>\n",
       "      <td>KICH</td>\n",
       "      <td>WNT</td>\n",
       "    </tr>\n",
       "    <tr>\n",
       "      <th>4203</th>\n",
       "      <td>WNT5A-AS1</td>\n",
       "      <td>KIRC</td>\n",
       "      <td>WNT</td>\n",
       "    </tr>\n",
       "    <tr>\n",
       "      <th>4204</th>\n",
       "      <td>WNT5A-AS1</td>\n",
       "      <td>KIRP</td>\n",
       "      <td>WNT</td>\n",
       "    </tr>\n",
       "    <tr>\n",
       "      <th>4205</th>\n",
       "      <td>WNT5A-AS1</td>\n",
       "      <td>LUSC</td>\n",
       "      <td>WNT</td>\n",
       "    </tr>\n",
       "    <tr>\n",
       "      <th>4206</th>\n",
       "      <td>WNT5A-AS1</td>\n",
       "      <td>THCA</td>\n",
       "      <td>WNT</td>\n",
       "    </tr>\n",
       "  </tbody>\n",
       "</table>\n",
       "<p>4207 rows × 3 columns</p>\n",
       "</div>"
      ],
      "text/plain": [
       "        gene_sym sample Pathway\n",
       "0     AC004846.1   BRCA   NOTCH\n",
       "1     AC004846.1   COAD   NOTCH\n",
       "2     AC004846.1   KICH   NOTCH\n",
       "3     AC004846.1   KIRC   NOTCH\n",
       "4     AC004846.1   KIRP   NOTCH\n",
       "...          ...    ...     ...\n",
       "4202   WNT5A-AS1   KICH     WNT\n",
       "4203   WNT5A-AS1   KIRC     WNT\n",
       "4204   WNT5A-AS1   KIRP     WNT\n",
       "4205   WNT5A-AS1   LUSC     WNT\n",
       "4206   WNT5A-AS1   THCA     WNT\n",
       "\n",
       "[4207 rows x 3 columns]"
      ]
     },
     "execution_count": 12,
     "metadata": {},
     "output_type": "execute_result"
    }
   ],
   "source": [
    "common_de_melt      = pd.melt(common_de,id_vars=['gene_sym','sample'],var_name='category',value_name='value')\n",
    "common_de_data      = common_de_melt[[\"gene_sym\",\"sample\"]]\n",
    "common_de_data      = pd.merge(common_de_data,pathways,on=\"gene_sym\")\n",
    "common_de_data"
   ]
  },
  {
   "cell_type": "code",
   "execution_count": 13,
   "id": "funded-notebook",
   "metadata": {},
   "outputs": [],
   "source": [
    "common_de_new  = data_preparation(common_de,snps_all,lncRNAs_ref,common_de_ezh2_h2k27,clc,Methylated)\n",
    "common_de_new  = pd.merge(common_de_new,de_fc[[\"logFC\",\"sample\",\"gene_sym\"]],on=['gene_sym',\"sample\"])\n",
    "common_de_new                = pd.merge(common_de_new, common_de_data[[\"gene_sym\",\"Pathway\",\"sample\"]], on=['gene_sym','sample'],how=\"outer\")\n",
    "common_de_new.fillna('unknown', inplace=True)\n",
    "common_de_new[\"pathway_y\"]   = common_de_new.apply(lambda row: label_paths(row), axis=1)\n",
    "common_de_new                = common_de_new.replace(\"No\",\"unknown\")\n",
    "num_cols                     = ['EZH2', 'H3K27','logFC','Meth_Mean','risk_alelle_freq','pathway_y']\n",
    "common_de_new[num_cols]      = common_de_new[num_cols].apply(pd.to_numeric, errors='coerce')"
   ]
  },
  {
   "cell_type": "markdown",
   "id": "handed-pittsburgh",
   "metadata": {},
   "source": [
    "Data exploration"
   ]
  },
  {
   "cell_type": "code",
   "execution_count": 28,
   "id": "designing-sydney",
   "metadata": {},
   "outputs": [
    {
     "data": {
      "text/html": [
       "<div>\n",
       "<style scoped>\n",
       "    .dataframe tbody tr th:only-of-type {\n",
       "        vertical-align: middle;\n",
       "    }\n",
       "\n",
       "    .dataframe tbody tr th {\n",
       "        vertical-align: top;\n",
       "    }\n",
       "\n",
       "    .dataframe thead th {\n",
       "        text-align: right;\n",
       "    }\n",
       "</style>\n",
       "<table border=\"1\" class=\"dataframe\">\n",
       "  <thead>\n",
       "    <tr style=\"text-align: right;\">\n",
       "      <th></th>\n",
       "      <th>gene_sym</th>\n",
       "      <th>Pathway</th>\n",
       "    </tr>\n",
       "  </thead>\n",
       "  <tbody>\n",
       "    <tr>\n",
       "      <th>0</th>\n",
       "      <td>A1BG-AS1</td>\n",
       "      <td>unknown</td>\n",
       "    </tr>\n",
       "    <tr>\n",
       "      <th>9</th>\n",
       "      <td>A2M-AS1</td>\n",
       "      <td>unknown</td>\n",
       "    </tr>\n",
       "    <tr>\n",
       "      <th>18</th>\n",
       "      <td>AADACL2-AS1</td>\n",
       "      <td>unknown</td>\n",
       "    </tr>\n",
       "    <tr>\n",
       "      <th>23</th>\n",
       "      <td>ABALON</td>\n",
       "      <td>unknown</td>\n",
       "    </tr>\n",
       "    <tr>\n",
       "      <th>29</th>\n",
       "      <td>ABCA9-AS1</td>\n",
       "      <td>unknown</td>\n",
       "    </tr>\n",
       "    <tr>\n",
       "      <th>...</th>\n",
       "      <td>...</td>\n",
       "      <td>...</td>\n",
       "    </tr>\n",
       "    <tr>\n",
       "      <th>42884</th>\n",
       "      <td>ZNF793-AS1</td>\n",
       "      <td>unknown</td>\n",
       "    </tr>\n",
       "    <tr>\n",
       "      <th>42891</th>\n",
       "      <td>ZNF8-ERVK3-1</td>\n",
       "      <td>unknown</td>\n",
       "    </tr>\n",
       "    <tr>\n",
       "      <th>42896</th>\n",
       "      <td>ZRANB2-AS1</td>\n",
       "      <td>unknown</td>\n",
       "    </tr>\n",
       "    <tr>\n",
       "      <th>42902</th>\n",
       "      <td>ZRANB2-AS2</td>\n",
       "      <td>unknown</td>\n",
       "    </tr>\n",
       "    <tr>\n",
       "      <th>42909</th>\n",
       "      <td>ZSCAN16-AS1</td>\n",
       "      <td>unknown</td>\n",
       "    </tr>\n",
       "  </tbody>\n",
       "</table>\n",
       "<p>3382 rows × 2 columns</p>\n",
       "</div>"
      ],
      "text/plain": [
       "           gene_sym  Pathway\n",
       "0          A1BG-AS1  unknown\n",
       "9           A2M-AS1  unknown\n",
       "18      AADACL2-AS1  unknown\n",
       "23           ABALON  unknown\n",
       "29        ABCA9-AS1  unknown\n",
       "...             ...      ...\n",
       "42884    ZNF793-AS1  unknown\n",
       "42891  ZNF8-ERVK3-1  unknown\n",
       "42896    ZRANB2-AS1  unknown\n",
       "42902    ZRANB2-AS2  unknown\n",
       "42909   ZSCAN16-AS1  unknown\n",
       "\n",
       "[3382 rows x 2 columns]"
      ]
     },
     "execution_count": 28,
     "metadata": {},
     "output_type": "execute_result"
    }
   ],
   "source": [
    "common_de_new[[\"gene_sym\",\"Pathway\"]].drop_duplicates()"
   ]
  },
  {
   "cell_type": "code",
   "execution_count": 185,
   "id": "local-advance",
   "metadata": {
    "collapsed": true
   },
   "outputs": [
    {
     "data": {
      "image/png": "[encoded data removed]",
      "text/plain": [
       "<Figure size 432x288 with 1 Axes>"
      ]
     },
     "metadata": {
      "image/png": {
       "height": 262,
       "width": 401
      },
      "needs_background": "light"
     },
     "output_type": "display_data"
    },
    {
     "data": {
      "text/plain": [
       "<Figure size 432x288 with 0 Axes>"
      ]
     },
     "metadata": {},
     "output_type": "display_data"
    }
   ],
   "source": [
    "sns.countplot(data=common_de_new,x='pathway_y',palette='hls')\n",
    "plt.show()\n",
    "plt.savefig(\"commonDe_pathway.png\")"
   ]
  },
  {
   "cell_type": "code",
   "execution_count": 199,
   "id": "requested-daisy",
   "metadata": {
    "collapsed": true
   },
   "outputs": [
    {
     "data": {
      "text/html": [
       "<div>\n",
       "<style scoped>\n",
       "    .dataframe tbody tr th:only-of-type {\n",
       "        vertical-align: middle;\n",
       "    }\n",
       "\n",
       "    .dataframe tbody tr th {\n",
       "        vertical-align: top;\n",
       "    }\n",
       "\n",
       "    .dataframe thead th {\n",
       "        text-align: right;\n",
       "    }\n",
       "</style>\n",
       "<table border=\"1\" class=\"dataframe\">\n",
       "  <thead>\n",
       "    <tr style=\"text-align: right;\">\n",
       "      <th></th>\n",
       "      <th>risk_alelle_freq</th>\n",
       "      <th>EZH2</th>\n",
       "      <th>H3K27</th>\n",
       "      <th>Meth_Mean</th>\n",
       "      <th>logFC</th>\n",
       "      <th>pathway_y</th>\n",
       "    </tr>\n",
       "    <tr>\n",
       "      <th>Pathway</th>\n",
       "      <th></th>\n",
       "      <th></th>\n",
       "      <th></th>\n",
       "      <th></th>\n",
       "      <th></th>\n",
       "      <th></th>\n",
       "    </tr>\n",
       "  </thead>\n",
       "  <tbody>\n",
       "    <tr>\n",
       "      <th>Cell_Cycle</th>\n",
       "      <td>0.890000</td>\n",
       "      <td>NaN</td>\n",
       "      <td>NaN</td>\n",
       "      <td>NaN</td>\n",
       "      <td>1.301695</td>\n",
       "      <td>1</td>\n",
       "    </tr>\n",
       "    <tr>\n",
       "      <th>Hippo</th>\n",
       "      <td>NaN</td>\n",
       "      <td>NaN</td>\n",
       "      <td>NaN</td>\n",
       "      <td>NaN</td>\n",
       "      <td>0.175046</td>\n",
       "      <td>1</td>\n",
       "    </tr>\n",
       "    <tr>\n",
       "      <th>MYC</th>\n",
       "      <td>0.450000</td>\n",
       "      <td>NaN</td>\n",
       "      <td>NaN</td>\n",
       "      <td>0.146660</td>\n",
       "      <td>0.522391</td>\n",
       "      <td>1</td>\n",
       "    </tr>\n",
       "    <tr>\n",
       "      <th>NOTCH</th>\n",
       "      <td>NaN</td>\n",
       "      <td>1.523297</td>\n",
       "      <td>2.675827</td>\n",
       "      <td>0.787964</td>\n",
       "      <td>-1.081341</td>\n",
       "      <td>1</td>\n",
       "    </tr>\n",
       "    <tr>\n",
       "      <th>NRF2</th>\n",
       "      <td>NaN</td>\n",
       "      <td>NaN</td>\n",
       "      <td>NaN</td>\n",
       "      <td>NaN</td>\n",
       "      <td>-0.050143</td>\n",
       "      <td>1</td>\n",
       "    </tr>\n",
       "    <tr>\n",
       "      <th>PI3K</th>\n",
       "      <td>NaN</td>\n",
       "      <td>NaN</td>\n",
       "      <td>NaN</td>\n",
       "      <td>NaN</td>\n",
       "      <td>0.355646</td>\n",
       "      <td>1</td>\n",
       "    </tr>\n",
       "    <tr>\n",
       "      <th>RTK-RAS</th>\n",
       "      <td>NaN</td>\n",
       "      <td>NaN</td>\n",
       "      <td>NaN</td>\n",
       "      <td>NaN</td>\n",
       "      <td>0.428287</td>\n",
       "      <td>1</td>\n",
       "    </tr>\n",
       "    <tr>\n",
       "      <th>TGF-Beta</th>\n",
       "      <td>NaN</td>\n",
       "      <td>NaN</td>\n",
       "      <td>NaN</td>\n",
       "      <td>NaN</td>\n",
       "      <td>-1.963262</td>\n",
       "      <td>1</td>\n",
       "    </tr>\n",
       "    <tr>\n",
       "      <th>TP53</th>\n",
       "      <td>NaN</td>\n",
       "      <td>NaN</td>\n",
       "      <td>NaN</td>\n",
       "      <td>NaN</td>\n",
       "      <td>-0.626121</td>\n",
       "      <td>1</td>\n",
       "    </tr>\n",
       "    <tr>\n",
       "      <th>WNT</th>\n",
       "      <td>NaN</td>\n",
       "      <td>NaN</td>\n",
       "      <td>NaN</td>\n",
       "      <td>0.116728</td>\n",
       "      <td>-0.023301</td>\n",
       "      <td>1</td>\n",
       "    </tr>\n",
       "    <tr>\n",
       "      <th>unknown</th>\n",
       "      <td>0.427057</td>\n",
       "      <td>2.725116</td>\n",
       "      <td>2.931143</td>\n",
       "      <td>0.437467</td>\n",
       "      <td>0.023770</td>\n",
       "      <td>0</td>\n",
       "    </tr>\n",
       "  </tbody>\n",
       "</table>\n",
       "</div>"
      ],
      "text/plain": [
       "            risk_alelle_freq      EZH2     H3K27  Meth_Mean     logFC  \\\n",
       "Pathway                                                                 \n",
       "Cell_Cycle          0.890000       NaN       NaN        NaN  1.301695   \n",
       "Hippo                    NaN       NaN       NaN        NaN  0.175046   \n",
       "MYC                 0.450000       NaN       NaN   0.146660  0.522391   \n",
       "NOTCH                    NaN  1.523297  2.675827   0.787964 -1.081341   \n",
       "NRF2                     NaN       NaN       NaN        NaN -0.050143   \n",
       "PI3K                     NaN       NaN       NaN        NaN  0.355646   \n",
       "RTK-RAS                  NaN       NaN       NaN        NaN  0.428287   \n",
       "TGF-Beta                 NaN       NaN       NaN        NaN -1.963262   \n",
       "TP53                     NaN       NaN       NaN        NaN -0.626121   \n",
       "WNT                      NaN       NaN       NaN   0.116728 -0.023301   \n",
       "unknown             0.427057  2.725116  2.931143   0.437467  0.023770   \n",
       "\n",
       "            pathway_y  \n",
       "Pathway                \n",
       "Cell_Cycle          1  \n",
       "Hippo               1  \n",
       "MYC                 1  \n",
       "NOTCH               1  \n",
       "NRF2                1  \n",
       "PI3K                1  \n",
       "RTK-RAS             1  \n",
       "TGF-Beta            1  \n",
       "TP53                1  \n",
       "WNT                 1  \n",
       "unknown             0  "
      ]
     },
     "execution_count": 199,
     "metadata": {},
     "output_type": "execute_result"
    }
   ],
   "source": [
    "common_de_new.groupby('pathway_y').mean()\n",
    "common_de_new.groupby('Pathway').mean()"
   ]
  },
  {
   "cell_type": "code",
   "execution_count": 13,
   "id": "interested-jason",
   "metadata": {},
   "outputs": [
    {
     "data": {
      "image/png": "[encoded data removed]",
      "text/plain": [
       "<Figure size 432x288 with 1 Axes>"
      ]
     },
     "metadata": {
      "image/png": {
       "height": 313,
       "width": 385
      },
      "needs_background": "light"
     },
     "output_type": "display_data"
    }
   ],
   "source": [
    "table        = pd.crosstab(common_de_new.types,common_de_new.Pathway)\n",
    "color        = list('rgbkymc')\n",
    "color_dict   = { 'Cell_Cycle':'red', 'Hippo':'blue', 'MYC':'black', 'NOTCH':'green','NRF2':'purple' ,\n",
    "              'PI3K':'orange','RTK-RAS':'yellow','TGF-Beta':'hotpink','TP53':'magenta','WNT':'teal','unknown':'aqua'}\n",
    "table.div(table.sum(1).astype(float), axis=0).plot(kind='bar', stacked=True,color=color_dict)\n",
    "plt.legend(loc='upper left')\n",
    "plt.title('Stacked Bar Chart of pathway vs oncogenes')\n",
    "plt.xlabel('oncogene Status')\n",
    "plt.ylabel('Proportion of pathways')\n",
    "plt.savefig('pathway_vs_oncogene_stack')"
   ]
  },
  {
   "cell_type": "code",
   "execution_count": 227,
   "id": "prescribed-progressive",
   "metadata": {
    "collapsed": true
   },
   "outputs": [
    {
     "data": {
      "text/plain": [
       "Text(0, 0.5, 'Frequency of Purchase')"
      ]
     },
     "execution_count": 227,
     "metadata": {},
     "output_type": "execute_result"
    },
    {
     "data": {
      "image/png": "[encoded data removed]",
      "text/plain": [
       "<Figure size 432x288 with 1 Axes>"
      ]
     },
     "metadata": {
      "image/png": {
       "height": 313,
       "width": 401
      },
      "needs_background": "light"
     },
     "output_type": "display_data"
    }
   ],
   "source": [
    "pd.crosstab(common_de_new.types,common_de_new.Pathway).plot(kind='bar',color=color_dict)\n",
    "plt.title('Purchase Frequency for Job Title')\n",
    "plt.xlabel('Job')\n",
    "plt.ylabel('Frequency of Purchase')\n",
    "#plt.title('Purchase Frequency for Job Title')"
   ]
  },
  {
   "cell_type": "code",
   "execution_count": 238,
   "id": "broad-terminology",
   "metadata": {},
   "outputs": [
    {
     "data": {
      "text/plain": [
       "Text(0, 0.5, 'Proportion of pathways')"
      ]
     },
     "execution_count": 238,
     "metadata": {},
     "output_type": "execute_result"
    },
    {
     "data": {
      "image/png": "[encoded data removed]",
      "text/plain": [
       "<Figure size 432x288 with 1 Axes>"
      ]
     },
     "metadata": {
      "image/png": {
       "height": 298,
       "width": 385
      },
      "needs_background": "light"
     },
     "output_type": "display_data"
    }
   ],
   "source": [
    "table=pd.crosstab(common_de_new.proximal_drug_target,common_de_new.Pathway)\n",
    "table.div(table.sum(1).astype(float), axis=0).plot(kind='bar', stacked=True,color=color_dict)\n",
    "#plt.title('Stacked Bar Chart of Education vs Purchase')\n",
    "#plt.xlabel('Education')\n",
    "plt.ylabel('Proportion of pathways')\n",
    "#plt.savefig('edu_vs_pur_stack')"
   ]
  },
  {
   "cell_type": "code",
   "execution_count": 14,
   "id": "european-brisbane",
   "metadata": {
    "collapsed": true
   },
   "outputs": [
    {
     "data": {
      "text/plain": [
       "0      COAD\n",
       "1      HNSC\n",
       "2      KICH\n",
       "3      LIHC\n",
       "4      LUAD\n",
       "5      LUSC\n",
       "6      PRAD\n",
       "7      STAD\n",
       "8      THCA\n",
       "9      BRCA\n",
       "26     KIRC\n",
       "38     KIRP\n",
       "58     ESCA\n",
       "356    PAAD\n",
       "Name: sample, dtype: object"
      ]
     },
     "execution_count": 14,
     "metadata": {},
     "output_type": "execute_result"
    }
   ],
   "source": [
    "common_de_new['sample'].drop_duplicates()"
   ]
  },
  {
   "cell_type": "code",
   "execution_count": 14,
   "id": "personalized-terry",
   "metadata": {},
   "outputs": [],
   "source": [
    "keep_samples =['BRCA','KICH','PRAD','STAD','KIRP']"
   ]
  },
  {
   "cell_type": "code",
   "execution_count": 416,
   "id": "corresponding-tourism",
   "metadata": {},
   "outputs": [],
   "source": [
    "BRCA =common_de_new.query('sample ==\"PAAD\"')"
   ]
  },
  {
   "cell_type": "code",
   "execution_count": 22,
   "id": "bibliographic-regression",
   "metadata": {},
   "outputs": [
    {
     "data": {
      "text/plain": [
       "(42914, 16)"
      ]
     },
     "execution_count": 22,
     "metadata": {},
     "output_type": "execute_result"
    }
   ],
   "source": [
    "common_de_new.shape"
   ]
  },
  {
   "cell_type": "code",
   "execution_count": 16,
   "id": "composite-donor",
   "metadata": {},
   "outputs": [],
   "source": [
    "common_DE_5samples = common_de_new[common_de_new['sample'].isin(keep_samples)]"
   ]
  },
  {
   "cell_type": "code",
   "execution_count": 17,
   "id": "aboriginal-insulin",
   "metadata": {},
   "outputs": [],
   "source": [
    "up_de_common   = common_DE_5samples.query('logFC>=0.58')\n",
    "down_de_common = common_DE_5samples.query('logFC<=-0.58')"
   ]
  },
  {
   "cell_type": "code",
   "execution_count": 18,
   "id": "violent-wilderness",
   "metadata": {},
   "outputs": [
    {
     "data": {
      "text/plain": [
       "8372"
      ]
     },
     "execution_count": 18,
     "metadata": {},
     "output_type": "execute_result"
    }
   ],
   "source": [
    "count_no_pathway   = len(down_de_common[down_de_common['pathway_y']==0])\n",
    "count_pathway      = len(down_de_common[down_de_common['pathway_y']==1])\n",
    "count_pathway"
   ]
  },
  {
   "cell_type": "code",
   "execution_count": 19,
   "id": "entertaining-zoning",
   "metadata": {},
   "outputs": [
    {
     "name": "stdout",
     "output_type": "stream",
     "text": [
      "percentage of lncRNAs withoutpathway 39.55234657039711\n",
      "percentage of lncRNAs withpathway 60.44765342960289\n"
     ]
    },
    {
     "data": {
      "text/plain": [
       "(None, None)"
      ]
     },
     "execution_count": 19,
     "metadata": {},
     "output_type": "execute_result"
    }
   ],
   "source": [
    "percentage_calc(count_pathway,count_no_pathway,\"pathway\")"
   ]
  },
  {
   "cell_type": "markdown",
   "id": "spanish-packaging",
   "metadata": {},
   "source": [
    "Runing the logistic regression model for up and down regulated lncRNAs seperately"
   ]
  },
  {
   "cell_type": "code",
   "execution_count": 20,
   "id": "apparent-cincinnati",
   "metadata": {},
   "outputs": [
    {
     "data": {
      "image/png": "[encoded data removed]",
      "text/plain": [
       "<Figure size 432x288 with 1 Axes>"
      ]
     },
     "metadata": {
      "image/png": {
       "height": 262,
       "width": 395
      },
      "needs_background": "light"
     },
     "output_type": "display_data"
    },
    {
     "data": {
      "text/plain": [
       "<Figure size 432x288 with 0 Axes>"
      ]
     },
     "metadata": {},
     "output_type": "display_data"
    }
   ],
   "source": [
    "sns.countplot(data = down_de_common,x='pathway_y',palette='hls')\n",
    "plt.show()\n",
    "plt.savefig(\"down_de_5samples_pathway.png\")"
   ]
  },
  {
   "cell_type": "code",
   "execution_count": 186,
   "id": "level-thing",
   "metadata": {
    "collapsed": true
   },
   "outputs": [
    {
     "ename": "TypeError",
     "evalue": "'DataFrame' objects are mutable, thus they cannot be hashed",
     "output_type": "error",
     "traceback": [
      "\u001b[0;31m---------------------------------------------------------------------------\u001b[0m",
      "\u001b[0;31mTypeError\u001b[0m                                 Traceback (most recent call last)",
      "\u001b[0;32m<ipython-input-186-a61609dc2c1e>\u001b[0m in \u001b[0;36m<module>\u001b[0;34m\u001b[0m\n\u001b[0;32m----> 1\u001b[0;31m \u001b[0mpd\u001b[0m\u001b[0;34m.\u001b[0m\u001b[0mcrosstab\u001b[0m\u001b[0;34m(\u001b[0m\u001b[0mdown_de_common\u001b[0m\u001b[0;34m.\u001b[0m\u001b[0msample\u001b[0m\u001b[0;34m,\u001b[0m\u001b[0mdown_de_common\u001b[0m\u001b[0;34m.\u001b[0m\u001b[0mPathway\u001b[0m\u001b[0;34m)\u001b[0m\u001b[0;34m.\u001b[0m\u001b[0mplot\u001b[0m\u001b[0;34m(\u001b[0m\u001b[0mkind\u001b[0m\u001b[0;34m=\u001b[0m\u001b[0;34m'bar'\u001b[0m\u001b[0;34m,\u001b[0m\u001b[0mcolor\u001b[0m\u001b[0;34m=\u001b[0m\u001b[0mcolor_dict\u001b[0m\u001b[0;34m)\u001b[0m\u001b[0;34m\u001b[0m\u001b[0;34m\u001b[0m\u001b[0m\n\u001b[0m\u001b[1;32m      2\u001b[0m \u001b[0mplt\u001b[0m\u001b[0;34m.\u001b[0m\u001b[0mtitle\u001b[0m\u001b[0;34m(\u001b[0m\u001b[0;34m'Purchase Frequency for Job Title'\u001b[0m\u001b[0;34m)\u001b[0m\u001b[0;34m\u001b[0m\u001b[0;34m\u001b[0m\u001b[0m\n\u001b[1;32m      3\u001b[0m \u001b[0mplt\u001b[0m\u001b[0;34m.\u001b[0m\u001b[0mxlabel\u001b[0m\u001b[0;34m(\u001b[0m\u001b[0;34m'triplex'\u001b[0m\u001b[0;34m)\u001b[0m\u001b[0;34m\u001b[0m\u001b[0;34m\u001b[0m\u001b[0m\n\u001b[1;32m      4\u001b[0m \u001b[0mplt\u001b[0m\u001b[0;34m.\u001b[0m\u001b[0mylabel\u001b[0m\u001b[0;34m(\u001b[0m\u001b[0;34m'Frequency of Pathway'\u001b[0m\u001b[0;34m)\u001b[0m\u001b[0;34m\u001b[0m\u001b[0;34m\u001b[0m\u001b[0m\n\u001b[1;32m      5\u001b[0m \u001b[0;31m#plt.title('Purchase Frequency for Job Title')\u001b[0m\u001b[0;34m\u001b[0m\u001b[0;34m\u001b[0m\u001b[0;34m\u001b[0m\u001b[0m\n",
      "\u001b[0;32m~/anaconda3/lib/python3.7/site-packages/pandas/core/reshape/pivot.py\u001b[0m in \u001b[0;36mcrosstab\u001b[0;34m(index, columns, values, rownames, colnames, aggfunc, margins, margins_name, dropna, normalize)\u001b[0m\n\u001b[1;32m    613\u001b[0m         \u001b[0mmargins_name\u001b[0m\u001b[0;34m=\u001b[0m\u001b[0mmargins_name\u001b[0m\u001b[0;34m,\u001b[0m\u001b[0;34m\u001b[0m\u001b[0;34m\u001b[0m\u001b[0m\n\u001b[1;32m    614\u001b[0m         \u001b[0mdropna\u001b[0m\u001b[0;34m=\u001b[0m\u001b[0mdropna\u001b[0m\u001b[0;34m,\u001b[0m\u001b[0;34m\u001b[0m\u001b[0;34m\u001b[0m\u001b[0m\n\u001b[0;32m--> 615\u001b[0;31m         \u001b[0;34m**\u001b[0m\u001b[0mkwargs\u001b[0m\u001b[0;34m,\u001b[0m\u001b[0;34m\u001b[0m\u001b[0;34m\u001b[0m\u001b[0m\n\u001b[0m\u001b[1;32m    616\u001b[0m     )\n\u001b[1;32m    617\u001b[0m \u001b[0;34m\u001b[0m\u001b[0m\n",
      "\u001b[0;32m~/anaconda3/lib/python3.7/site-packages/pandas/core/frame.py\u001b[0m in \u001b[0;36mpivot_table\u001b[0;34m(self, values, index, columns, aggfunc, fill_value, margins, dropna, margins_name, observed)\u001b[0m\n\u001b[1;32m   7036\u001b[0m             \u001b[0mdropna\u001b[0m\u001b[0;34m=\u001b[0m\u001b[0mdropna\u001b[0m\u001b[0;34m,\u001b[0m\u001b[0;34m\u001b[0m\u001b[0;34m\u001b[0m\u001b[0m\n\u001b[1;32m   7037\u001b[0m             \u001b[0mmargins_name\u001b[0m\u001b[0;34m=\u001b[0m\u001b[0mmargins_name\u001b[0m\u001b[0;34m,\u001b[0m\u001b[0;34m\u001b[0m\u001b[0;34m\u001b[0m\u001b[0m\n\u001b[0;32m-> 7038\u001b[0;31m             \u001b[0mobserved\u001b[0m\u001b[0;34m=\u001b[0m\u001b[0mobserved\u001b[0m\u001b[0;34m,\u001b[0m\u001b[0;34m\u001b[0m\u001b[0;34m\u001b[0m\u001b[0m\n\u001b[0m\u001b[1;32m   7039\u001b[0m         )\n\u001b[1;32m   7040\u001b[0m \u001b[0;34m\u001b[0m\u001b[0m\n",
      "\u001b[0;32m~/anaconda3/lib/python3.7/site-packages/pandas/core/reshape/pivot.py\u001b[0m in \u001b[0;36mpivot_table\u001b[0;34m(data, values, index, columns, aggfunc, fill_value, margins, dropna, margins_name, observed)\u001b[0m\n\u001b[1;32m    111\u001b[0m \u001b[0;34m\u001b[0m\u001b[0m\n\u001b[1;32m    112\u001b[0m     \u001b[0mgrouped\u001b[0m \u001b[0;34m=\u001b[0m \u001b[0mdata\u001b[0m\u001b[0;34m.\u001b[0m\u001b[0mgroupby\u001b[0m\u001b[0;34m(\u001b[0m\u001b[0mkeys\u001b[0m\u001b[0;34m,\u001b[0m \u001b[0mobserved\u001b[0m\u001b[0;34m=\u001b[0m\u001b[0mobserved\u001b[0m\u001b[0;34m)\u001b[0m\u001b[0;34m\u001b[0m\u001b[0;34m\u001b[0m\u001b[0m\n\u001b[0;32m--> 113\u001b[0;31m     \u001b[0magged\u001b[0m \u001b[0;34m=\u001b[0m \u001b[0mgrouped\u001b[0m\u001b[0;34m.\u001b[0m\u001b[0magg\u001b[0m\u001b[0;34m(\u001b[0m\u001b[0maggfunc\u001b[0m\u001b[0;34m)\u001b[0m\u001b[0;34m\u001b[0m\u001b[0;34m\u001b[0m\u001b[0m\n\u001b[0m\u001b[1;32m    114\u001b[0m     \u001b[0;32mif\u001b[0m \u001b[0mdropna\u001b[0m \u001b[0;32mand\u001b[0m \u001b[0misinstance\u001b[0m\u001b[0;34m(\u001b[0m\u001b[0magged\u001b[0m\u001b[0;34m,\u001b[0m \u001b[0mABCDataFrame\u001b[0m\u001b[0;34m)\u001b[0m \u001b[0;32mand\u001b[0m \u001b[0mlen\u001b[0m\u001b[0;34m(\u001b[0m\u001b[0magged\u001b[0m\u001b[0;34m.\u001b[0m\u001b[0mcolumns\u001b[0m\u001b[0;34m)\u001b[0m\u001b[0;34m:\u001b[0m\u001b[0;34m\u001b[0m\u001b[0;34m\u001b[0m\u001b[0m\n\u001b[1;32m    115\u001b[0m         \u001b[0magged\u001b[0m \u001b[0;34m=\u001b[0m \u001b[0magged\u001b[0m\u001b[0;34m.\u001b[0m\u001b[0mdropna\u001b[0m\u001b[0;34m(\u001b[0m\u001b[0mhow\u001b[0m\u001b[0;34m=\u001b[0m\u001b[0;34m\"all\"\u001b[0m\u001b[0;34m)\u001b[0m\u001b[0;34m\u001b[0m\u001b[0;34m\u001b[0m\u001b[0m\n",
      "\u001b[0;32m~/anaconda3/lib/python3.7/site-packages/pandas/core/groupby/generic.py\u001b[0m in \u001b[0;36maggregate\u001b[0;34m(self, func, engine, engine_kwargs, *args, **kwargs)\u001b[0m\n\u001b[1;32m    951\u001b[0m             \u001b[0;31m# grouper specific aggregations\u001b[0m\u001b[0;34m\u001b[0m\u001b[0;34m\u001b[0m\u001b[0;34m\u001b[0m\u001b[0m\n\u001b[1;32m    952\u001b[0m             \u001b[0;32mif\u001b[0m \u001b[0mself\u001b[0m\u001b[0;34m.\u001b[0m\u001b[0mgrouper\u001b[0m\u001b[0;34m.\u001b[0m\u001b[0mnkeys\u001b[0m \u001b[0;34m>\u001b[0m \u001b[0;36m1\u001b[0m\u001b[0;34m:\u001b[0m\u001b[0;34m\u001b[0m\u001b[0;34m\u001b[0m\u001b[0m\n\u001b[0;32m--> 953\u001b[0;31m                 \u001b[0;32mreturn\u001b[0m \u001b[0mself\u001b[0m\u001b[0;34m.\u001b[0m\u001b[0m_python_agg_general\u001b[0m\u001b[0;34m(\u001b[0m\u001b[0mfunc\u001b[0m\u001b[0;34m,\u001b[0m \u001b[0;34m*\u001b[0m\u001b[0margs\u001b[0m\u001b[0;34m,\u001b[0m \u001b[0;34m**\u001b[0m\u001b[0mkwargs\u001b[0m\u001b[0;34m)\u001b[0m\u001b[0;34m\u001b[0m\u001b[0;34m\u001b[0m\u001b[0m\n\u001b[0m\u001b[1;32m    954\u001b[0m             \u001b[0;32melif\u001b[0m \u001b[0margs\u001b[0m \u001b[0;32mor\u001b[0m \u001b[0mkwargs\u001b[0m\u001b[0;34m:\u001b[0m\u001b[0;34m\u001b[0m\u001b[0;34m\u001b[0m\u001b[0m\n\u001b[1;32m    955\u001b[0m                 \u001b[0mresult\u001b[0m \u001b[0;34m=\u001b[0m \u001b[0mself\u001b[0m\u001b[0;34m.\u001b[0m\u001b[0m_aggregate_frame\u001b[0m\u001b[0;34m(\u001b[0m\u001b[0mfunc\u001b[0m\u001b[0;34m,\u001b[0m \u001b[0;34m*\u001b[0m\u001b[0margs\u001b[0m\u001b[0;34m,\u001b[0m \u001b[0;34m**\u001b[0m\u001b[0mkwargs\u001b[0m\u001b[0;34m)\u001b[0m\u001b[0;34m\u001b[0m\u001b[0;34m\u001b[0m\u001b[0m\n",
      "\u001b[0;32m~/anaconda3/lib/python3.7/site-packages/pandas/core/groupby/groupby.py\u001b[0m in \u001b[0;36m_python_agg_general\u001b[0;34m(self, func, *args, **kwargs)\u001b[0m\n\u001b[1;32m   1165\u001b[0m         \u001b[0;32mfor\u001b[0m \u001b[0midx\u001b[0m\u001b[0;34m,\u001b[0m \u001b[0mobj\u001b[0m \u001b[0;32min\u001b[0m \u001b[0menumerate\u001b[0m\u001b[0;34m(\u001b[0m\u001b[0mself\u001b[0m\u001b[0;34m.\u001b[0m\u001b[0m_iterate_slices\u001b[0m\u001b[0;34m(\u001b[0m\u001b[0;34m)\u001b[0m\u001b[0;34m)\u001b[0m\u001b[0;34m:\u001b[0m\u001b[0;34m\u001b[0m\u001b[0;34m\u001b[0m\u001b[0m\n\u001b[1;32m   1166\u001b[0m             \u001b[0mname\u001b[0m \u001b[0;34m=\u001b[0m \u001b[0mobj\u001b[0m\u001b[0;34m.\u001b[0m\u001b[0mname\u001b[0m\u001b[0;34m\u001b[0m\u001b[0;34m\u001b[0m\u001b[0m\n\u001b[0;32m-> 1167\u001b[0;31m             \u001b[0;32mif\u001b[0m \u001b[0mself\u001b[0m\u001b[0;34m.\u001b[0m\u001b[0mgrouper\u001b[0m\u001b[0;34m.\u001b[0m\u001b[0mngroups\u001b[0m \u001b[0;34m==\u001b[0m \u001b[0;36m0\u001b[0m\u001b[0;34m:\u001b[0m\u001b[0;34m\u001b[0m\u001b[0;34m\u001b[0m\u001b[0m\n\u001b[0m\u001b[1;32m   1168\u001b[0m                 \u001b[0;31m# agg_series below assumes ngroups > 0\u001b[0m\u001b[0;34m\u001b[0m\u001b[0;34m\u001b[0m\u001b[0;34m\u001b[0m\u001b[0m\n\u001b[1;32m   1169\u001b[0m                 \u001b[0;32mcontinue\u001b[0m\u001b[0;34m\u001b[0m\u001b[0;34m\u001b[0m\u001b[0m\n",
      "\u001b[0;32mpandas/_libs/properties.pyx\u001b[0m in \u001b[0;36mpandas._libs.properties.CachedProperty.__get__\u001b[0;34m()\u001b[0m\n",
      "\u001b[0;32m~/anaconda3/lib/python3.7/site-packages/pandas/core/groupby/ops.py\u001b[0m in \u001b[0;36mngroups\u001b[0;34m(self)\u001b[0m\n\u001b[1;32m    327\u001b[0m     \u001b[0;34m@\u001b[0m\u001b[0mcache_readonly\u001b[0m\u001b[0;34m\u001b[0m\u001b[0;34m\u001b[0m\u001b[0m\n\u001b[1;32m    328\u001b[0m     \u001b[0;32mdef\u001b[0m \u001b[0mngroups\u001b[0m\u001b[0;34m(\u001b[0m\u001b[0mself\u001b[0m\u001b[0;34m)\u001b[0m \u001b[0;34m->\u001b[0m \u001b[0mint\u001b[0m\u001b[0;34m:\u001b[0m\u001b[0;34m\u001b[0m\u001b[0;34m\u001b[0m\u001b[0m\n\u001b[0;32m--> 329\u001b[0;31m         \u001b[0;32mreturn\u001b[0m \u001b[0mlen\u001b[0m\u001b[0;34m(\u001b[0m\u001b[0mself\u001b[0m\u001b[0;34m.\u001b[0m\u001b[0mresult_index\u001b[0m\u001b[0;34m)\u001b[0m\u001b[0;34m\u001b[0m\u001b[0;34m\u001b[0m\u001b[0m\n\u001b[0m\u001b[1;32m    330\u001b[0m \u001b[0;34m\u001b[0m\u001b[0m\n\u001b[1;32m    331\u001b[0m     \u001b[0;34m@\u001b[0m\u001b[0mproperty\u001b[0m\u001b[0;34m\u001b[0m\u001b[0;34m\u001b[0m\u001b[0m\n",
      "\u001b[0;32mpandas/_libs/properties.pyx\u001b[0m in \u001b[0;36mpandas._libs.properties.CachedProperty.__get__\u001b[0;34m()\u001b[0m\n",
      "\u001b[0;32m~/anaconda3/lib/python3.7/site-packages/pandas/core/groupby/ops.py\u001b[0m in \u001b[0;36mresult_index\u001b[0;34m(self)\u001b[0m\n\u001b[1;32m    340\u001b[0m             \u001b[0;32mreturn\u001b[0m \u001b[0mself\u001b[0m\u001b[0;34m.\u001b[0m\u001b[0mgroupings\u001b[0m\u001b[0;34m[\u001b[0m\u001b[0;36m0\u001b[0m\u001b[0;34m]\u001b[0m\u001b[0;34m.\u001b[0m\u001b[0mresult_index\u001b[0m\u001b[0;34m.\u001b[0m\u001b[0mrename\u001b[0m\u001b[0;34m(\u001b[0m\u001b[0mself\u001b[0m\u001b[0;34m.\u001b[0m\u001b[0mnames\u001b[0m\u001b[0;34m[\u001b[0m\u001b[0;36m0\u001b[0m\u001b[0;34m]\u001b[0m\u001b[0;34m)\u001b[0m\u001b[0;34m\u001b[0m\u001b[0;34m\u001b[0m\u001b[0m\n\u001b[1;32m    341\u001b[0m \u001b[0;34m\u001b[0m\u001b[0m\n\u001b[0;32m--> 342\u001b[0;31m         \u001b[0mcodes\u001b[0m \u001b[0;34m=\u001b[0m \u001b[0mself\u001b[0m\u001b[0;34m.\u001b[0m\u001b[0mreconstructed_codes\u001b[0m\u001b[0;34m\u001b[0m\u001b[0;34m\u001b[0m\u001b[0m\n\u001b[0m\u001b[1;32m    343\u001b[0m         \u001b[0mlevels\u001b[0m \u001b[0;34m=\u001b[0m \u001b[0;34m[\u001b[0m\u001b[0mping\u001b[0m\u001b[0;34m.\u001b[0m\u001b[0mresult_index\u001b[0m \u001b[0;32mfor\u001b[0m \u001b[0mping\u001b[0m \u001b[0;32min\u001b[0m \u001b[0mself\u001b[0m\u001b[0;34m.\u001b[0m\u001b[0mgroupings\u001b[0m\u001b[0;34m]\u001b[0m\u001b[0;34m\u001b[0m\u001b[0;34m\u001b[0m\u001b[0m\n\u001b[1;32m    344\u001b[0m         return MultiIndex(\n",
      "\u001b[0;32m~/anaconda3/lib/python3.7/site-packages/pandas/core/groupby/ops.py\u001b[0m in \u001b[0;36mreconstructed_codes\u001b[0;34m(self)\u001b[0m\n\u001b[1;32m    331\u001b[0m     \u001b[0;34m@\u001b[0m\u001b[0mproperty\u001b[0m\u001b[0;34m\u001b[0m\u001b[0;34m\u001b[0m\u001b[0m\n\u001b[1;32m    332\u001b[0m     \u001b[0;32mdef\u001b[0m \u001b[0mreconstructed_codes\u001b[0m\u001b[0;34m(\u001b[0m\u001b[0mself\u001b[0m\u001b[0;34m)\u001b[0m \u001b[0;34m->\u001b[0m \u001b[0mList\u001b[0m\u001b[0;34m[\u001b[0m\u001b[0mnp\u001b[0m\u001b[0;34m.\u001b[0m\u001b[0mndarray\u001b[0m\u001b[0;34m]\u001b[0m\u001b[0;34m:\u001b[0m\u001b[0;34m\u001b[0m\u001b[0;34m\u001b[0m\u001b[0m\n\u001b[0;32m--> 333\u001b[0;31m         \u001b[0mcodes\u001b[0m \u001b[0;34m=\u001b[0m \u001b[0mself\u001b[0m\u001b[0;34m.\u001b[0m\u001b[0mcodes\u001b[0m\u001b[0;34m\u001b[0m\u001b[0;34m\u001b[0m\u001b[0m\n\u001b[0m\u001b[1;32m    334\u001b[0m         \u001b[0mcomp_ids\u001b[0m\u001b[0;34m,\u001b[0m \u001b[0mobs_ids\u001b[0m\u001b[0;34m,\u001b[0m \u001b[0m_\u001b[0m \u001b[0;34m=\u001b[0m \u001b[0mself\u001b[0m\u001b[0;34m.\u001b[0m\u001b[0mgroup_info\u001b[0m\u001b[0;34m\u001b[0m\u001b[0;34m\u001b[0m\u001b[0m\n\u001b[1;32m    335\u001b[0m         \u001b[0;32mreturn\u001b[0m \u001b[0mdecons_obs_group_ids\u001b[0m\u001b[0;34m(\u001b[0m\u001b[0mcomp_ids\u001b[0m\u001b[0;34m,\u001b[0m \u001b[0mobs_ids\u001b[0m\u001b[0;34m,\u001b[0m \u001b[0mself\u001b[0m\u001b[0;34m.\u001b[0m\u001b[0mshape\u001b[0m\u001b[0;34m,\u001b[0m \u001b[0mcodes\u001b[0m\u001b[0;34m,\u001b[0m \u001b[0mxnull\u001b[0m\u001b[0;34m=\u001b[0m\u001b[0;32mTrue\u001b[0m\u001b[0;34m)\u001b[0m\u001b[0;34m\u001b[0m\u001b[0;34m\u001b[0m\u001b[0m\n",
      "\u001b[0;32m~/anaconda3/lib/python3.7/site-packages/pandas/core/groupby/ops.py\u001b[0m in \u001b[0;36mcodes\u001b[0;34m(self)\u001b[0m\n\u001b[1;32m    257\u001b[0m     \u001b[0;34m@\u001b[0m\u001b[0mproperty\u001b[0m\u001b[0;34m\u001b[0m\u001b[0;34m\u001b[0m\u001b[0m\n\u001b[1;32m    258\u001b[0m     \u001b[0;32mdef\u001b[0m \u001b[0mcodes\u001b[0m\u001b[0;34m(\u001b[0m\u001b[0mself\u001b[0m\u001b[0;34m)\u001b[0m \u001b[0;34m->\u001b[0m \u001b[0mList\u001b[0m\u001b[0;34m[\u001b[0m\u001b[0mnp\u001b[0m\u001b[0;34m.\u001b[0m\u001b[0mndarray\u001b[0m\u001b[0;34m]\u001b[0m\u001b[0;34m:\u001b[0m\u001b[0;34m\u001b[0m\u001b[0;34m\u001b[0m\u001b[0m\n\u001b[0;32m--> 259\u001b[0;31m         \u001b[0;32mreturn\u001b[0m \u001b[0;34m[\u001b[0m\u001b[0mping\u001b[0m\u001b[0;34m.\u001b[0m\u001b[0mcodes\u001b[0m \u001b[0;32mfor\u001b[0m \u001b[0mping\u001b[0m \u001b[0;32min\u001b[0m \u001b[0mself\u001b[0m\u001b[0;34m.\u001b[0m\u001b[0mgroupings\u001b[0m\u001b[0;34m]\u001b[0m\u001b[0;34m\u001b[0m\u001b[0;34m\u001b[0m\u001b[0m\n\u001b[0m\u001b[1;32m    260\u001b[0m \u001b[0;34m\u001b[0m\u001b[0m\n\u001b[1;32m    261\u001b[0m     \u001b[0;34m@\u001b[0m\u001b[0mproperty\u001b[0m\u001b[0;34m\u001b[0m\u001b[0;34m\u001b[0m\u001b[0m\n",
      "\u001b[0;32m~/anaconda3/lib/python3.7/site-packages/pandas/core/groupby/ops.py\u001b[0m in \u001b[0;36m<listcomp>\u001b[0;34m(.0)\u001b[0m\n\u001b[1;32m    257\u001b[0m     \u001b[0;34m@\u001b[0m\u001b[0mproperty\u001b[0m\u001b[0;34m\u001b[0m\u001b[0;34m\u001b[0m\u001b[0m\n\u001b[1;32m    258\u001b[0m     \u001b[0;32mdef\u001b[0m \u001b[0mcodes\u001b[0m\u001b[0;34m(\u001b[0m\u001b[0mself\u001b[0m\u001b[0;34m)\u001b[0m \u001b[0;34m->\u001b[0m \u001b[0mList\u001b[0m\u001b[0;34m[\u001b[0m\u001b[0mnp\u001b[0m\u001b[0;34m.\u001b[0m\u001b[0mndarray\u001b[0m\u001b[0;34m]\u001b[0m\u001b[0;34m:\u001b[0m\u001b[0;34m\u001b[0m\u001b[0;34m\u001b[0m\u001b[0m\n\u001b[0;32m--> 259\u001b[0;31m         \u001b[0;32mreturn\u001b[0m \u001b[0;34m[\u001b[0m\u001b[0mping\u001b[0m\u001b[0;34m.\u001b[0m\u001b[0mcodes\u001b[0m \u001b[0;32mfor\u001b[0m \u001b[0mping\u001b[0m \u001b[0;32min\u001b[0m \u001b[0mself\u001b[0m\u001b[0;34m.\u001b[0m\u001b[0mgroupings\u001b[0m\u001b[0;34m]\u001b[0m\u001b[0;34m\u001b[0m\u001b[0;34m\u001b[0m\u001b[0m\n\u001b[0m\u001b[1;32m    260\u001b[0m \u001b[0;34m\u001b[0m\u001b[0m\n\u001b[1;32m    261\u001b[0m     \u001b[0;34m@\u001b[0m\u001b[0mproperty\u001b[0m\u001b[0;34m\u001b[0m\u001b[0;34m\u001b[0m\u001b[0m\n",
      "\u001b[0;32m~/anaconda3/lib/python3.7/site-packages/pandas/core/groupby/grouper.py\u001b[0m in \u001b[0;36mcodes\u001b[0;34m(self)\u001b[0m\n\u001b[1;32m    589\u001b[0m     \u001b[0;32mdef\u001b[0m \u001b[0mcodes\u001b[0m\u001b[0;34m(\u001b[0m\u001b[0mself\u001b[0m\u001b[0;34m)\u001b[0m \u001b[0;34m->\u001b[0m \u001b[0mnp\u001b[0m\u001b[0;34m.\u001b[0m\u001b[0mndarray\u001b[0m\u001b[0;34m:\u001b[0m\u001b[0;34m\u001b[0m\u001b[0;34m\u001b[0m\u001b[0m\n\u001b[1;32m    590\u001b[0m         \u001b[0;32mif\u001b[0m \u001b[0mself\u001b[0m\u001b[0;34m.\u001b[0m\u001b[0m_codes\u001b[0m \u001b[0;32mis\u001b[0m \u001b[0;32mNone\u001b[0m\u001b[0;34m:\u001b[0m\u001b[0;34m\u001b[0m\u001b[0;34m\u001b[0m\u001b[0m\n\u001b[0;32m--> 591\u001b[0;31m             \u001b[0mself\u001b[0m\u001b[0;34m.\u001b[0m\u001b[0m_make_codes\u001b[0m\u001b[0;34m(\u001b[0m\u001b[0;34m)\u001b[0m\u001b[0;34m\u001b[0m\u001b[0;34m\u001b[0m\u001b[0m\n\u001b[0m\u001b[1;32m    592\u001b[0m         \u001b[0;32mreturn\u001b[0m \u001b[0mself\u001b[0m\u001b[0;34m.\u001b[0m\u001b[0m_codes\u001b[0m\u001b[0;34m\u001b[0m\u001b[0;34m\u001b[0m\u001b[0m\n\u001b[1;32m    593\u001b[0m \u001b[0;34m\u001b[0m\u001b[0m\n",
      "\u001b[0;32m~/anaconda3/lib/python3.7/site-packages/pandas/core/groupby/grouper.py\u001b[0m in \u001b[0;36m_make_codes\u001b[0;34m(self)\u001b[0m\n\u001b[1;32m    622\u001b[0m                 \u001b[0mna_sentinel\u001b[0m \u001b[0;34m=\u001b[0m \u001b[0;34m-\u001b[0m\u001b[0;36m1\u001b[0m\u001b[0;34m\u001b[0m\u001b[0;34m\u001b[0m\u001b[0m\n\u001b[1;32m    623\u001b[0m             codes, uniques = algorithms.factorize(\n\u001b[0;32m--> 624\u001b[0;31m                 \u001b[0mself\u001b[0m\u001b[0;34m.\u001b[0m\u001b[0mgrouper\u001b[0m\u001b[0;34m,\u001b[0m \u001b[0msort\u001b[0m\u001b[0;34m=\u001b[0m\u001b[0mself\u001b[0m\u001b[0;34m.\u001b[0m\u001b[0msort\u001b[0m\u001b[0;34m,\u001b[0m \u001b[0mna_sentinel\u001b[0m\u001b[0;34m=\u001b[0m\u001b[0mna_sentinel\u001b[0m\u001b[0;34m\u001b[0m\u001b[0;34m\u001b[0m\u001b[0m\n\u001b[0m\u001b[1;32m    625\u001b[0m             )\n\u001b[1;32m    626\u001b[0m             \u001b[0muniques\u001b[0m \u001b[0;34m=\u001b[0m \u001b[0mIndex\u001b[0m\u001b[0;34m(\u001b[0m\u001b[0muniques\u001b[0m\u001b[0;34m,\u001b[0m \u001b[0mname\u001b[0m\u001b[0;34m=\u001b[0m\u001b[0mself\u001b[0m\u001b[0;34m.\u001b[0m\u001b[0mname\u001b[0m\u001b[0;34m)\u001b[0m\u001b[0;34m\u001b[0m\u001b[0;34m\u001b[0m\u001b[0m\n",
      "\u001b[0;32m~/anaconda3/lib/python3.7/site-packages/pandas/core/algorithms.py\u001b[0m in \u001b[0;36mfactorize\u001b[0;34m(values, sort, na_sentinel, size_hint)\u001b[0m\n\u001b[1;32m    721\u001b[0m \u001b[0;34m\u001b[0m\u001b[0m\n\u001b[1;32m    722\u001b[0m         codes, uniques = factorize_array(\n\u001b[0;32m--> 723\u001b[0;31m             \u001b[0mvalues\u001b[0m\u001b[0;34m,\u001b[0m \u001b[0mna_sentinel\u001b[0m\u001b[0;34m=\u001b[0m\u001b[0mna_sentinel\u001b[0m\u001b[0;34m,\u001b[0m \u001b[0msize_hint\u001b[0m\u001b[0;34m=\u001b[0m\u001b[0msize_hint\u001b[0m\u001b[0;34m,\u001b[0m \u001b[0mna_value\u001b[0m\u001b[0;34m=\u001b[0m\u001b[0mna_value\u001b[0m\u001b[0;34m\u001b[0m\u001b[0;34m\u001b[0m\u001b[0m\n\u001b[0m\u001b[1;32m    724\u001b[0m         )\n\u001b[1;32m    725\u001b[0m \u001b[0;34m\u001b[0m\u001b[0m\n",
      "\u001b[0;32m~/anaconda3/lib/python3.7/site-packages/pandas/core/algorithms.py\u001b[0m in \u001b[0;36mfactorize_array\u001b[0;34m(values, na_sentinel, size_hint, na_value, mask)\u001b[0m\n\u001b[1;32m    527\u001b[0m     \u001b[0mtable\u001b[0m \u001b[0;34m=\u001b[0m \u001b[0mhash_klass\u001b[0m\u001b[0;34m(\u001b[0m\u001b[0msize_hint\u001b[0m \u001b[0;32mor\u001b[0m \u001b[0mlen\u001b[0m\u001b[0;34m(\u001b[0m\u001b[0mvalues\u001b[0m\u001b[0;34m)\u001b[0m\u001b[0;34m)\u001b[0m\u001b[0;34m\u001b[0m\u001b[0;34m\u001b[0m\u001b[0m\n\u001b[1;32m    528\u001b[0m     uniques, codes = table.factorize(\n\u001b[0;32m--> 529\u001b[0;31m         \u001b[0mvalues\u001b[0m\u001b[0;34m,\u001b[0m \u001b[0mna_sentinel\u001b[0m\u001b[0;34m=\u001b[0m\u001b[0mna_sentinel\u001b[0m\u001b[0;34m,\u001b[0m \u001b[0mna_value\u001b[0m\u001b[0;34m=\u001b[0m\u001b[0mna_value\u001b[0m\u001b[0;34m,\u001b[0m \u001b[0mmask\u001b[0m\u001b[0;34m=\u001b[0m\u001b[0mmask\u001b[0m\u001b[0;34m\u001b[0m\u001b[0;34m\u001b[0m\u001b[0m\n\u001b[0m\u001b[1;32m    530\u001b[0m     )\n\u001b[1;32m    531\u001b[0m \u001b[0;34m\u001b[0m\u001b[0m\n",
      "\u001b[0;32mpandas/_libs/hashtable_class_helper.pxi\u001b[0m in \u001b[0;36mpandas._libs.hashtable.PyObjectHashTable.factorize\u001b[0;34m()\u001b[0m\n",
      "\u001b[0;32mpandas/_libs/hashtable_class_helper.pxi\u001b[0m in \u001b[0;36mpandas._libs.hashtable.PyObjectHashTable._unique\u001b[0;34m()\u001b[0m\n",
      "\u001b[0;32m~/anaconda3/lib/python3.7/site-packages/pandas/core/generic.py\u001b[0m in \u001b[0;36m__hash__\u001b[0;34m(self)\u001b[0m\n\u001b[1;32m   1783\u001b[0m     \u001b[0;32mdef\u001b[0m \u001b[0m__hash__\u001b[0m\u001b[0;34m(\u001b[0m\u001b[0mself\u001b[0m\u001b[0;34m)\u001b[0m \u001b[0;34m->\u001b[0m \u001b[0mint\u001b[0m\u001b[0;34m:\u001b[0m\u001b[0;34m\u001b[0m\u001b[0;34m\u001b[0m\u001b[0m\n\u001b[1;32m   1784\u001b[0m         raise TypeError(\n\u001b[0;32m-> 1785\u001b[0;31m             \u001b[0;34mf\"{repr(type(self).__name__)} objects are mutable, \"\u001b[0m\u001b[0;34m\u001b[0m\u001b[0;34m\u001b[0m\u001b[0m\n\u001b[0m\u001b[1;32m   1786\u001b[0m             \u001b[0;34mf\"thus they cannot be hashed\"\u001b[0m\u001b[0;34m\u001b[0m\u001b[0;34m\u001b[0m\u001b[0m\n\u001b[1;32m   1787\u001b[0m         )\n",
      "\u001b[0;31mTypeError\u001b[0m: 'DataFrame' objects are mutable, thus they cannot be hashed"
     ]
    }
   ],
   "source": [
    "pd.crosstab(down_de_common.sample,down_de_common.Pathway).plot(kind='bar',color=color_dict)\n",
    "plt.title('Purchase Frequency for Job Title')\n",
    "plt.xlabel('triplex')\n",
    "plt.ylabel('Frequency of Pathway')\n",
    "#plt.title('Purchase Frequency for Job Title')"
   ]
  },
  {
   "cell_type": "code",
   "execution_count": 201,
   "id": "looking-boundary",
   "metadata": {},
   "outputs": [],
   "source": [
    "data =down_de_common"
   ]
  },
  {
   "cell_type": "code",
   "execution_count": 109,
   "id": "otherwise-photography",
   "metadata": {},
   "outputs": [
    {
     "data": {
      "text/html": [
       "<div>\n",
       "<style scoped>\n",
       "    .dataframe tbody tr th:only-of-type {\n",
       "        vertical-align: middle;\n",
       "    }\n",
       "\n",
       "    .dataframe tbody tr th {\n",
       "        vertical-align: top;\n",
       "    }\n",
       "\n",
       "    .dataframe thead th {\n",
       "        text-align: right;\n",
       "    }\n",
       "</style>\n",
       "<table border=\"1\" class=\"dataframe\">\n",
       "  <thead>\n",
       "    <tr style=\"text-align: right;\">\n",
       "      <th></th>\n",
       "      <th>risk_alelle_freq</th>\n",
       "      <th>EZH2</th>\n",
       "      <th>H3K27</th>\n",
       "      <th>Meth_Mean</th>\n",
       "      <th>logFC</th>\n",
       "      <th>pathway_y</th>\n",
       "    </tr>\n",
       "    <tr>\n",
       "      <th>sample</th>\n",
       "      <th></th>\n",
       "      <th></th>\n",
       "      <th></th>\n",
       "      <th></th>\n",
       "      <th></th>\n",
       "      <th></th>\n",
       "    </tr>\n",
       "  </thead>\n",
       "  <tbody>\n",
       "    <tr>\n",
       "      <th>BRCA</th>\n",
       "      <td>0.320000</td>\n",
       "      <td>1.561503</td>\n",
       "      <td>2.681120</td>\n",
       "      <td>0.692215</td>\n",
       "      <td>-1.787949</td>\n",
       "      <td>0.565063</td>\n",
       "    </tr>\n",
       "    <tr>\n",
       "      <th>KICH</th>\n",
       "      <td>0.433182</td>\n",
       "      <td>1.710165</td>\n",
       "      <td>2.750485</td>\n",
       "      <td>0.744119</td>\n",
       "      <td>-2.213485</td>\n",
       "      <td>0.557282</td>\n",
       "    </tr>\n",
       "    <tr>\n",
       "      <th>KIRP</th>\n",
       "      <td>0.461000</td>\n",
       "      <td>1.643565</td>\n",
       "      <td>2.749855</td>\n",
       "      <td>0.782672</td>\n",
       "      <td>-2.093471</td>\n",
       "      <td>0.596880</td>\n",
       "    </tr>\n",
       "    <tr>\n",
       "      <th>PRAD</th>\n",
       "      <td>0.410000</td>\n",
       "      <td>1.633132</td>\n",
       "      <td>2.758771</td>\n",
       "      <td>0.826321</td>\n",
       "      <td>-0.839813</td>\n",
       "      <td>0.666808</td>\n",
       "    </tr>\n",
       "    <tr>\n",
       "      <th>STAD</th>\n",
       "      <td>0.310000</td>\n",
       "      <td>1.619299</td>\n",
       "      <td>2.748294</td>\n",
       "      <td>0.769911</td>\n",
       "      <td>-0.858239</td>\n",
       "      <td>0.663493</td>\n",
       "    </tr>\n",
       "  </tbody>\n",
       "</table>\n",
       "</div>"
      ],
      "text/plain": [
       "        risk_alelle_freq      EZH2     H3K27  Meth_Mean     logFC  pathway_y\n",
       "sample                                                                      \n",
       "BRCA            0.320000  1.561503  2.681120   0.692215 -1.787949   0.565063\n",
       "KICH            0.433182  1.710165  2.750485   0.744119 -2.213485   0.557282\n",
       "KIRP            0.461000  1.643565  2.749855   0.782672 -2.093471   0.596880\n",
       "PRAD            0.410000  1.633132  2.758771   0.826321 -0.839813   0.666808\n",
       "STAD            0.310000  1.619299  2.748294   0.769911 -0.858239   0.663493"
      ]
     },
     "execution_count": 109,
     "metadata": {},
     "output_type": "execute_result"
    }
   ],
   "source": [
    "data.groupby('sample').mean()\n",
    "#common_de_new.groupby('Pathway').mean()"
   ]
  },
  {
   "cell_type": "code",
   "execution_count": 99,
   "id": "coral-upgrade",
   "metadata": {},
   "outputs": [
    {
     "name": "stdout",
     "output_type": "stream",
     "text": [
      "percentage of lncRNAs withoutpathway for downde 58.073878627968334\n",
      "percentage of lncRNAs withpathway for downde 41.92612137203166\n"
     ]
    }
   ],
   "source": [
    "count_no_pathway   = len(down_de_common[down_de_common['pathway_y']==0])\n",
    "count_pathway      = len(down_de_common[down_de_common['pathway_y']==1])"
   ]
  },
  {
   "cell_type": "code",
   "execution_count": 151,
   "id": "downtown-composer",
   "metadata": {},
   "outputs": [
    {
     "data": {
      "text/plain": [
       "['gene_sym',\n",
       " 'proximal_cancer_driver',\n",
       " 'proximal_drug_target',\n",
       " 'triplex',\n",
       " 'promoter_methylated',\n",
       " 'negative_correlated_methylation',\n",
       " 'positive_correlated_methylation',\n",
       " 'sample',\n",
       " 'risk_alelle_freq',\n",
       " 'EZH2',\n",
       " 'H3K27',\n",
       " 'types',\n",
       " 'Meth_Mean',\n",
       " 'logFC',\n",
       " 'Pathway',\n",
       " 'pathway_y']"
      ]
     },
     "execution_count": 151,
     "metadata": {},
     "output_type": "execute_result"
    }
   ],
   "source": [
    "data.columns.tolist()\n"
   ]
  },
  {
   "cell_type": "markdown",
   "id": "monetary-prior",
   "metadata": {},
   "source": [
    "Choosing the columns which have categorical values to create a dummy dataframe \n",
    "The choosen columns/variables have only two values either yes or no.\n"
   ]
  },
  {
   "cell_type": "code",
   "execution_count": 202,
   "id": "expressed-hormone",
   "metadata": {},
   "outputs": [],
   "source": [
    "cat_vars=['proximal_cancer_driver','negative_correlated_methylation','positive_correlated_methylation',\n",
    " 'proximal_drug_target', 'promoter_methylated',\n",
    " 'triplex',\n",
    " 'sample',\n",
    " 'types']\n",
    "for var in cat_vars:\n",
    "    cat_list = 'var '+'_'+ var\n",
    "    cat_list = pd.get_dummies(data[var], prefix=var)\n",
    "    data1    = data.join(cat_list)\n",
    "    data     = data1\n",
    "    \n",
    "cat_vars     = ['proximal_cancer_driver','negative_correlated_methylation','positive_correlated_methylation',\n",
    " 'proximal_drug_target', 'promoter_methylated',\n",
    " 'triplex',\n",
    " 'sample',\n",
    " 'types']\n",
    "data_vars    = data.columns.values.tolist()\n",
    "to_keep      = [i for i in data_vars if i not in cat_vars]"
   ]
  },
  {
   "cell_type": "code",
   "execution_count": 153,
   "id": "private-reduction",
   "metadata": {},
   "outputs": [
    {
     "data": {
      "text/plain": [
       "['proximal_cancer_driver',\n",
       " 'negative_correlated_methylation',\n",
       " 'positive_correlated_methylation',\n",
       " 'proximal_drug_target',\n",
       " 'promoter_methylated',\n",
       " 'triplex',\n",
       " 'sample',\n",
       " 'types']"
      ]
     },
     "execution_count": 153,
     "metadata": {},
     "output_type": "execute_result"
    }
   ],
   "source": [
    "cat_vars"
   ]
  },
  {
   "cell_type": "code",
   "execution_count": 203,
   "id": "tracked-proportion",
   "metadata": {},
   "outputs": [],
   "source": [
    "data_final =data[to_keep]\n",
    "data_final =data_final.replace(['o','t','ot'],1)"
   ]
  },
  {
   "cell_type": "code",
   "execution_count": 205,
   "id": "veterinary-poverty",
   "metadata": {},
   "outputs": [],
   "source": [
    "data_final.drop(['gene_sym','Pathway'],axis=1,inplace=True)\n"
   ]
  },
  {
   "cell_type": "code",
   "execution_count": 206,
   "id": "spatial-tenant",
   "metadata": {},
   "outputs": [],
   "source": [
    "data_final=data_final.replace(['unknown', 'Yes'], \n",
    "                     [0,1])\n",
    "data_final=data_final.fillna(0)"
   ]
  },
  {
   "cell_type": "code",
   "execution_count": 21,
   "id": "occupied-alias",
   "metadata": {
    "collapsed": true
   },
   "outputs": [
    {
     "ename": "NameError",
     "evalue": "name 'data_final' is not defined",
     "output_type": "error",
     "traceback": [
      "\u001b[0;31m---------------------------------------------------------------------------\u001b[0m",
      "\u001b[0;31mNameError\u001b[0m                                 Traceback (most recent call last)",
      "\u001b[0;32m<ipython-input-21-5b9b01cc20aa>\u001b[0m in \u001b[0;36m<module>\u001b[0;34m\u001b[0m\n\u001b[0;32m----> 1\u001b[0;31m \u001b[0mdata_final\u001b[0m\u001b[0;34m.\u001b[0m\u001b[0mshape\u001b[0m\u001b[0;34m\u001b[0m\u001b[0;34m\u001b[0m\u001b[0m\n\u001b[0m",
      "\u001b[0;31mNameError\u001b[0m: name 'data_final' is not defined"
     ]
    }
   ],
   "source": [
    "data_final.shape"
   ]
  },
  {
   "cell_type": "code",
   "execution_count": 208,
   "id": "future-calendar",
   "metadata": {},
   "outputs": [
    {
     "name": "stdout",
     "output_type": "stream",
     "text": [
      "Requirement already satisfied: imbalanced-learn in /home/alva/anaconda3/lib/python3.7/site-packages (0.8.0)\n",
      "Requirement already satisfied: numpy>=1.13.3 in /home/alva/anaconda3/lib/python3.7/site-packages (from imbalanced-learn) (1.19.5)\n",
      "Requirement already satisfied: scikit-learn>=0.24 in /home/alva/anaconda3/lib/python3.7/site-packages (from imbalanced-learn) (0.24.1)\n",
      "Requirement already satisfied: joblib>=0.11 in /home/alva/anaconda3/lib/python3.7/site-packages (from imbalanced-learn) (1.0.1)\n",
      "Requirement already satisfied: scipy>=0.19.1 in /home/alva/anaconda3/lib/python3.7/site-packages (from imbalanced-learn) (1.6.0)\n",
      "Requirement already satisfied: threadpoolctl>=2.0.0 in /home/alva/anaconda3/lib/python3.7/site-packages (from scikit-learn>=0.24->imbalanced-learn) (2.1.0)\n"
     ]
    }
   ],
   "source": [
    "! pip install imbalanced-learn -U"
   ]
  },
  {
   "cell_type": "markdown",
   "id": "controlling-adams",
   "metadata": {},
   "source": [
    "Creating a balanced sample by using Recurrssive feature elimination method"
   ]
  },
  {
   "cell_type": "code",
   "execution_count": 209,
   "id": "available-awareness",
   "metadata": {},
   "outputs": [],
   "source": [
    "X  = data_final.loc[:, data_final.columns != 'pathway_y']\n",
    "y  = data_final.loc[:, data_final.columns == 'pathway_y']\n",
    "os = SMOTE(random_state=0)\n",
    "X_train, X_test, y_train, y_test = train_test_split(X, y, test_size=0.3, random_state=0)\n",
    "columns   = X_train.columns\n",
    "os_data_X,os_data_y=os.fit_resample(X_train, y_train)\n",
    "os_data_X = pd.DataFrame(data=os_data_X,columns=columns )\n",
    "os_data_y = pd.DataFrame(data=os_data_y,columns=['pathway_y'])"
   ]
  },
  {
   "cell_type": "code",
   "execution_count": 210,
   "id": "favorite-tuning",
   "metadata": {},
   "outputs": [
    {
     "name": "stdout",
     "output_type": "stream",
     "text": [
      "length of oversampled data is  11654\n",
      "Number of no pathways in oversampled data 5827\n",
      "Number of pathways 5827\n",
      "Proportion of no pathways data in oversampled data is  0.5\n",
      "Proportion of pathways data in oversampled data is  0.5\n"
     ]
    }
   ],
   "source": [
    "# Check the numbers of our data\n",
    "print(\"length of oversampled data is \",len(os_data_X))\n",
    "print(\"Number of no pathways in oversampled data\",len(os_data_y[os_data_y['pathway_y']==0]))\n",
    "print(\"Number of pathways\",len(os_data_y[os_data_y['pathway_y']==1]))\n",
    "print(\"Proportion of no pathways data in oversampled data is \",len(os_data_y[os_data_y['pathway_y']==0])/len(os_data_X))\n",
    "print(\"Proportion of pathways data in oversampled data is \",len(os_data_y[os_data_y['pathway_y']==1])/len(os_data_X))"
   ]
  },
  {
   "cell_type": "code",
   "execution_count": 211,
   "id": "ranging-break",
   "metadata": {
    "collapsed": true
   },
   "outputs": [
    {
     "data": {
      "text/plain": [
       "['risk_alelle_freq',\n",
       " 'EZH2',\n",
       " 'H3K27',\n",
       " 'Meth_Mean',\n",
       " 'logFC',\n",
       " 'pathway_y',\n",
       " 'proximal_cancer_driver_Yes',\n",
       " 'proximal_cancer_driver_unknown',\n",
       " 'negative_correlated_methylation_Yes',\n",
       " 'negative_correlated_methylation_unknown',\n",
       " 'positive_correlated_methylation_Yes',\n",
       " 'positive_correlated_methylation_unknown',\n",
       " 'proximal_drug_target_unknown',\n",
       " 'promoter_methylated_Yes',\n",
       " 'promoter_methylated_unknown',\n",
       " 'triplex_Yes',\n",
       " 'triplex_unknown',\n",
       " 'sample_BRCA',\n",
       " 'sample_KICH',\n",
       " 'sample_KIRP',\n",
       " 'sample_PRAD',\n",
       " 'sample_STAD',\n",
       " 'types_o',\n",
       " 'types_ot',\n",
       " 'types_t',\n",
       " 'types_unknown']"
      ]
     },
     "execution_count": 211,
     "metadata": {},
     "output_type": "execute_result"
    }
   ],
   "source": [
    "data_final_vars=data_final.columns.values.tolist()\n",
    "data_final_vars"
   ]
  },
  {
   "cell_type": "code",
   "execution_count": 212,
   "id": "becoming-arrangement",
   "metadata": {
    "collapsed": true
   },
   "outputs": [
    {
     "name": "stderr",
     "output_type": "stream",
     "text": [
      "/home/alva/anaconda3/lib/python3.7/site-packages/sklearn/utils/validation.py:72: FutureWarning: Pass n_features_to_select=20 as keyword args. From version 1.0 (renaming of 0.25) passing these as positional arguments will result in an error\n",
      "  \"will result in an error\", FutureWarning)\n",
      "/home/alva/anaconda3/lib/python3.7/site-packages/sklearn/linear_model/_logistic.py:765: ConvergenceWarning: lbfgs failed to converge (status=1):\n",
      "STOP: TOTAL NO. of ITERATIONS REACHED LIMIT.\n",
      "\n",
      "Increase the number of iterations (max_iter) or scale the data as shown in:\n",
      "    https://scikit-learn.org/stable/modules/preprocessing.html\n",
      "Please also refer to the documentation for alternative solver options:\n",
      "    https://scikit-learn.org/stable/modules/linear_model.html#logistic-regression\n",
      "  extra_warning_msg=_LOGISTIC_SOLVER_CONVERGENCE_MSG)\n",
      "/home/alva/anaconda3/lib/python3.7/site-packages/sklearn/linear_model/_logistic.py:765: ConvergenceWarning: lbfgs failed to converge (status=1):\n",
      "STOP: TOTAL NO. of ITERATIONS REACHED LIMIT.\n",
      "\n",
      "Increase the number of iterations (max_iter) or scale the data as shown in:\n",
      "    https://scikit-learn.org/stable/modules/preprocessing.html\n",
      "Please also refer to the documentation for alternative solver options:\n",
      "    https://scikit-learn.org/stable/modules/linear_model.html#logistic-regression\n",
      "  extra_warning_msg=_LOGISTIC_SOLVER_CONVERGENCE_MSG)\n",
      "/home/alva/anaconda3/lib/python3.7/site-packages/sklearn/linear_model/_logistic.py:765: ConvergenceWarning: lbfgs failed to converge (status=1):\n",
      "STOP: TOTAL NO. of ITERATIONS REACHED LIMIT.\n",
      "\n",
      "Increase the number of iterations (max_iter) or scale the data as shown in:\n",
      "    https://scikit-learn.org/stable/modules/preprocessing.html\n",
      "Please also refer to the documentation for alternative solver options:\n",
      "    https://scikit-learn.org/stable/modules/linear_model.html#logistic-regression\n",
      "  extra_warning_msg=_LOGISTIC_SOLVER_CONVERGENCE_MSG)\n",
      "/home/alva/anaconda3/lib/python3.7/site-packages/sklearn/linear_model/_logistic.py:765: ConvergenceWarning: lbfgs failed to converge (status=1):\n",
      "STOP: TOTAL NO. of ITERATIONS REACHED LIMIT.\n",
      "\n",
      "Increase the number of iterations (max_iter) or scale the data as shown in:\n",
      "    https://scikit-learn.org/stable/modules/preprocessing.html\n",
      "Please also refer to the documentation for alternative solver options:\n",
      "    https://scikit-learn.org/stable/modules/linear_model.html#logistic-regression\n",
      "  extra_warning_msg=_LOGISTIC_SOLVER_CONVERGENCE_MSG)\n"
     ]
    },
    {
     "name": "stdout",
     "output_type": "stream",
     "text": [
      "[ True False False  True  True  True  True  True  True  True  True False\n",
      " False  True  True  True  True  True  True False  True  True  True  True\n",
      "  True]\n",
      "[1 2 4 1 1 1 1 1 1 1 1 3 5 1 1 1 1 1 1 6 1 1 1 1 1]\n"
     ]
    },
    {
     "name": "stderr",
     "output_type": "stream",
     "text": [
      "/home/alva/anaconda3/lib/python3.7/site-packages/sklearn/linear_model/_logistic.py:765: ConvergenceWarning: lbfgs failed to converge (status=1):\n",
      "STOP: TOTAL NO. of ITERATIONS REACHED LIMIT.\n",
      "\n",
      "Increase the number of iterations (max_iter) or scale the data as shown in:\n",
      "    https://scikit-learn.org/stable/modules/preprocessing.html\n",
      "Please also refer to the documentation for alternative solver options:\n",
      "    https://scikit-learn.org/stable/modules/linear_model.html#logistic-regression\n",
      "  extra_warning_msg=_LOGISTIC_SOLVER_CONVERGENCE_MSG)\n",
      "/home/alva/anaconda3/lib/python3.7/site-packages/sklearn/linear_model/_logistic.py:765: ConvergenceWarning: lbfgs failed to converge (status=1):\n",
      "STOP: TOTAL NO. of ITERATIONS REACHED LIMIT.\n",
      "\n",
      "Increase the number of iterations (max_iter) or scale the data as shown in:\n",
      "    https://scikit-learn.org/stable/modules/preprocessing.html\n",
      "Please also refer to the documentation for alternative solver options:\n",
      "    https://scikit-learn.org/stable/modules/linear_model.html#logistic-regression\n",
      "  extra_warning_msg=_LOGISTIC_SOLVER_CONVERGENCE_MSG)\n"
     ]
    }
   ],
   "source": [
    "y=['pathway_y']\n",
    "X=[i for i in data_final_vars if i not in y]\n",
    "from sklearn.feature_selection import RFE\n",
    "from sklearn.linear_model import LogisticRegression\n",
    "logreg = LogisticRegression()\n",
    "rfe = RFE(logreg, 20)\n",
    "rfe = rfe.fit(os_data_X, os_data_y.values.ravel())\n",
    "print(rfe.support_)\n",
    "print(rfe.ranking_)"
   ]
  },
  {
   "cell_type": "code",
   "execution_count": 213,
   "id": "noble-travel",
   "metadata": {},
   "outputs": [
    {
     "data": {
      "text/plain": [
       "['risk_alelle_freq',\n",
       " 'EZH2',\n",
       " 'H3K27',\n",
       " 'Meth_Mean',\n",
       " 'logFC',\n",
       " 'proximal_cancer_driver_Yes',\n",
       " 'proximal_cancer_driver_unknown',\n",
       " 'negative_correlated_methylation_Yes',\n",
       " 'negative_correlated_methylation_unknown',\n",
       " 'positive_correlated_methylation_Yes',\n",
       " 'positive_correlated_methylation_unknown',\n",
       " 'proximal_drug_target_unknown',\n",
       " 'promoter_methylated_Yes',\n",
       " 'promoter_methylated_unknown',\n",
       " 'triplex_Yes',\n",
       " 'triplex_unknown',\n",
       " 'sample_BRCA',\n",
       " 'sample_KICH',\n",
       " 'sample_KIRP',\n",
       " 'sample_PRAD',\n",
       " 'sample_STAD',\n",
       " 'types_o',\n",
       " 'types_ot',\n",
       " 'types_t',\n",
       " 'types_unknown']"
      ]
     },
     "execution_count": 213,
     "metadata": {},
     "output_type": "execute_result"
    }
   ],
   "source": [
    "os_data_X.columns.values.tolist()"
   ]
  },
  {
   "cell_type": "code",
   "execution_count": 77,
   "id": "right-price",
   "metadata": {
    "collapsed": true
   },
   "outputs": [
    {
     "data": {
      "text/plain": [
       "0        1\n",
       "1        0\n",
       "2        0\n",
       "3        0\n",
       "4        0\n",
       "        ..\n",
       "15957    1\n",
       "15958    1\n",
       "15959    1\n",
       "15960    1\n",
       "15961    1\n",
       "Name: pathway_y, Length: 15962, dtype: int64"
      ]
     },
     "execution_count": 77,
     "metadata": {},
     "output_type": "execute_result"
    }
   ],
   "source": [
    "os_data_y['pathway_y']"
   ]
  },
  {
   "cell_type": "code",
   "execution_count": 215,
   "id": "composed-chile",
   "metadata": {},
   "outputs": [],
   "source": [
    "cols=['risk_alelle_freq',\n",
    " 'Meth_Mean',\n",
    " 'logFC',\n",
    " 'positive_correlated_methylation_Yes',\n",
    " 'promoter_methylated_unknown',\n",
    " 'triplex_Yes',\n",
    " 'triplex_unknown',\n",
    " 'sample_BRCA',\n",
    " 'sample_KICH',\n",
    " 'sample_KIRP',\n",
    " 'sample_STAD',\n",
    " 'types_o',\n",
    " 'types_t',\n",
    " 'types_unknown']\n",
    "X=os_data_X[cols]\n",
    "y=os_data_y['pathway_y']"
   ]
  },
  {
   "cell_type": "code",
   "execution_count": 216,
   "id": "civic-chaos",
   "metadata": {},
   "outputs": [
    {
     "name": "stdout",
     "output_type": "stream",
     "text": [
      "Optimization terminated successfully.\n",
      "         Current function value: 0.198791\n",
      "         Iterations 8\n",
      "                                  Results: Logit\n",
      "===================================================================================\n",
      "Model:                     Logit                  Pseudo R-squared:       0.713    \n",
      "Dependent Variable:        pathway_y              AIC:                    4661.4137\n",
      "Date:                      2021-02-25 00:54       BIC:                    4764.5014\n",
      "No. Observations:          11654                  Log-Likelihood:         -2316.7  \n",
      "Df Model:                  13                     LL-Null:                -8077.9  \n",
      "Df Residuals:              11640                  LLR p-value:            0.0000   \n",
      "Converged:                 1.0000                 Scale:                  1.0000   \n",
      "No. Iterations:            8.0000                                                  \n",
      "-----------------------------------------------------------------------------------\n",
      "                                     Coef.  Std.Err.    z    P>|z|   [0.025  0.975]\n",
      "-----------------------------------------------------------------------------------\n",
      "risk_alelle_freq                     1.8208   1.1454  1.5896 0.1119 -0.4242  4.0658\n",
      "Meth_Mean                            4.3758   0.2326 18.8132 0.0000  3.9199  4.8317\n",
      "logFC                                0.4222   0.0516  8.1891 0.0000  0.3212  0.5233\n",
      "positive_correlated_methylation_Yes -0.8602   0.2959 -2.9074 0.0036 -1.4401 -0.2803\n",
      "promoter_methylated_unknown          1.1297   0.5483  2.0603 0.0394  0.0550  2.2044\n",
      "triplex_Yes                         -5.8013   1.2054 -4.8128 0.0000 -8.1638 -3.4388\n",
      "triplex_unknown                     -7.4984   1.1970 -6.2645 0.0000 -9.8444 -5.1524\n",
      "sample_BRCA                          1.1069   0.1481  7.4726 0.0000  0.8166  1.3973\n",
      "sample_KICH                          1.0345   0.1547  6.6873 0.0000  0.7313  1.3377\n",
      "sample_KIRP                          0.9706   0.1547  6.2736 0.0000  0.6674  1.2739\n",
      "sample_STAD                          0.5626   0.1682  3.3458 0.0008  0.2330  0.8922\n",
      "types_o                              4.3608   1.0608  4.1108 0.0000  2.2816  6.4399\n",
      "types_t                              5.3098   1.0460  5.0762 0.0000  3.2596  7.3600\n",
      "types_unknown                        3.6160   1.0479  3.4508 0.0006  1.5622  5.6698\n",
      "===================================================================================\n",
      "\n"
     ]
    }
   ],
   "source": [
    "import statsmodels.api as sm\n",
    "logit_model=sm.Logit(y,X)\n",
    "result=logit_model.fit()\n",
    "print(result.summary2())"
   ]
  },
  {
   "cell_type": "code",
   "execution_count": 171,
   "id": "hundred-death",
   "metadata": {},
   "outputs": [
    {
     "data": {
      "text/html": [
       "<div>\n",
       "<style scoped>\n",
       "    .dataframe tbody tr th:only-of-type {\n",
       "        vertical-align: middle;\n",
       "    }\n",
       "\n",
       "    .dataframe tbody tr th {\n",
       "        vertical-align: top;\n",
       "    }\n",
       "\n",
       "    .dataframe thead th {\n",
       "        text-align: right;\n",
       "    }\n",
       "</style>\n",
       "<table border=\"1\" class=\"dataframe\">\n",
       "  <thead>\n",
       "    <tr style=\"text-align: right;\">\n",
       "      <th></th>\n",
       "    </tr>\n",
       "  </thead>\n",
       "  <tbody>\n",
       "    <tr>\n",
       "      <th>0</th>\n",
       "    </tr>\n",
       "    <tr>\n",
       "      <th>1</th>\n",
       "    </tr>\n",
       "  </tbody>\n",
       "</table>\n",
       "</div>"
      ],
      "text/plain": [
       "Empty DataFrame\n",
       "Columns: []\n",
       "Index: [0, 1]"
      ]
     },
     "execution_count": 171,
     "metadata": {},
     "output_type": "execute_result"
    }
   ],
   "source": [
    "pvals=[]\n",
    "import statsmodels\n",
    "p=statsmodels.stats.multitest.fdrcorrection(pvals , alpha=0.05, method='indep', is_sorted=False)\n",
    "pd.DataFrame(p)"
   ]
  },
  {
   "cell_type": "code",
   "execution_count": 217,
   "id": "blind-sympathy",
   "metadata": {},
   "outputs": [
    {
     "data": {
      "text/plain": [
       "LogisticRegression(multi_class='ovr', n_jobs=1, solver='liblinear')"
      ]
     },
     "execution_count": 217,
     "metadata": {},
     "output_type": "execute_result"
    }
   ],
   "source": [
    "from sklearn.linear_model import LogisticRegression\n",
    "from sklearn import metrics\n",
    "X_train, X_test, y_train, y_test = train_test_split(X, y, test_size=0.3, random_state=0)\n",
    "logreg = LogisticRegression(C=1.0,class_weight=None,dual=False, fit_intercept=True,intercept_scaling=1,\n",
    "                   max_iter=100,multi_class='ovr',n_jobs=1, penalty='l2',random_state=None,solver='liblinear',tol=0.0001,\n",
    "                  verbose=0,warm_start=False)\n",
    "logreg.fit(X_train, y_train)"
   ]
  },
  {
   "cell_type": "code",
   "execution_count": 218,
   "id": "successful-produce",
   "metadata": {},
   "outputs": [
    {
     "name": "stdout",
     "output_type": "stream",
     "text": [
      "Accuracy of logistic regression classifier on test set: 0.93\n"
     ]
    }
   ],
   "source": [
    "y_pred = logreg.predict(X_test)\n",
    "print('Accuracy of logistic regression classifier on test set: {:.2f}'.format(logreg.score(X_test, y_test)))"
   ]
  },
  {
   "cell_type": "code",
   "execution_count": 219,
   "id": "verbal-glucose",
   "metadata": {},
   "outputs": [
    {
     "name": "stdout",
     "output_type": "stream",
     "text": [
      "[[1703   53]\n",
      " [ 184 1557]]\n"
     ]
    }
   ],
   "source": [
    "from sklearn.metrics import confusion_matrix\n",
    "confusion_matrix = confusion_matrix(y_test, y_pred)\n",
    "print(confusion_matrix)"
   ]
  },
  {
   "cell_type": "code",
   "execution_count": 175,
   "id": "fatal-turkey",
   "metadata": {},
   "outputs": [
    {
     "name": "stdout",
     "output_type": "stream",
     "text": [
      "Accuracy:  0.9322276236774378\n"
     ]
    },
    {
     "data": {
      "image/png": "[encoded data removed]",
      "text/plain": [
       "<Figure size 432x288 with 2 Axes>"
      ]
     },
     "metadata": {
      "image/png": {
       "height": 261,
       "width": 372
      },
      "needs_background": "light"
     },
     "output_type": "display_data"
    }
   ],
   "source": [
    "confusion_matrix = pd.crosstab(y_test, y_pred, rownames=['Actual'], colnames=['Predicted'])\n",
    "sns.heatmap(confusion_matrix, annot=True, fmt='g')\n",
    "print('Accuracy: ',metrics.accuracy_score(y_test, y_pred))\n",
    "plt.savefig('5samples_down_regulated.png')\n",
    "\n",
    "plt.show()"
   ]
  },
  {
   "cell_type": "code",
   "execution_count": 220,
   "id": "amended-sitting",
   "metadata": {
    "scrolled": true
   },
   "outputs": [
    {
     "name": "stdout",
     "output_type": "stream",
     "text": [
      "              precision    recall  f1-score   support\n",
      "\n",
      "           0       0.90      0.97      0.93      1756\n",
      "           1       0.97      0.89      0.93      1741\n",
      "\n",
      "    accuracy                           0.93      3497\n",
      "   macro avg       0.93      0.93      0.93      3497\n",
      "weighted avg       0.93      0.93      0.93      3497\n",
      "\n"
     ]
    }
   ],
   "source": [
    "from sklearn.metrics import classification_report\n",
    "print(classification_report(y_test, y_pred))"
   ]
  },
  {
   "cell_type": "code",
   "execution_count": 221,
   "id": "northern-workplace",
   "metadata": {},
   "outputs": [
    {
     "data": {
      "image/png": "[encoded data removed]",
      "text/plain": [
       "<Figure size 432x288 with 1 Axes>"
      ]
     },
     "metadata": {
      "image/png": {
       "height": 277,
       "width": 393
      },
      "needs_background": "light"
     },
     "output_type": "display_data"
    }
   ],
   "source": [
    "from sklearn.metrics import roc_auc_score\n",
    "from sklearn.metrics import roc_curve\n",
    "logit_roc_auc = roc_auc_score(y_test, logreg.predict(X_test))\n",
    "fpr, tpr, thresholds = roc_curve(y_test, logreg.predict_proba(X_test)[:,1])\n",
    "plt.figure()\n",
    "plt.plot(fpr, tpr, label='Logistic Regression (area = %0.2f)' % logit_roc_auc)\n",
    "plt.plot([0, 1], [0, 1],'r--')\n",
    "plt.xlim([0.0, 1.0])\n",
    "plt.ylim([0.0, 1.05])\n",
    "plt.xlabel('False Positive Rate')\n",
    "plt.ylabel('True Positive Rate')\n",
    "plt.title('Receiver operating characteristic')\n",
    "plt.legend(loc=\"lower right\")\n",
    "plt.savefig('Log_ROC_5samples_down_regulated_with_features.png')\n",
    "plt.show()"
   ]
  }
 ],
 "metadata": {
  "kernelspec": {
   "display_name": "Python 3",
   "language": "python",
   "name": "python3"
  },
  "language_info": {
   "codemirror_mode": {
    "name": "ipython",
    "version": 3
   },
   "file_extension": ".py",
   "mimetype": "text/x-python",
   "name": "python",
   "nbconvert_exporter": "python",
   "pygments_lexer": "ipython3",
   "version": "3.7.3"
  }
 },
 "nbformat": 4,
 "nbformat_minor": 5
}
