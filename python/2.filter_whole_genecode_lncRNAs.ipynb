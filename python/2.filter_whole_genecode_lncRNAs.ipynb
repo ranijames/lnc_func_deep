{
 "cells": [
  {
   "cell_type": "code",
   "execution_count": 2,
   "id": "green-flower",
   "metadata": {},
   "outputs": [],
   "source": [
    "import pandas as pd\n",
    "import numpy as np\n",
    "from functools import reduce\n",
    "import os\n",
    "import matplotlib.backends \n",
    "import matplotlib.pyplot as plt\n",
    "import seaborn as sns"
   ]
  },
  {
   "cell_type": "code",
   "execution_count": 3,
   "id": "reported-genius",
   "metadata": {},
   "outputs": [],
   "source": [
    "refs        ='/home/alva/Documents/lncRNAs_project_2020/Analysis_2021/Tcga_R/GDCdata/TCGA-BRCA/harmonized/Transcriptome_Profiling/Gene_Expression_Quantification/r_data/reference/Homo_sapiens.GRCh38.97.chr.txt'\n",
    "ref         = pd.read_csv(refs, sep=\"\\t\", header=0,skipinitialspace=True)\n",
    "lncRNAs_ref = ref.query('biotype == \"lncRNA\"')"
   ]
  },
  {
   "cell_type": "code",
   "execution_count": 4,
   "id": "satisfactory-magic",
   "metadata": {},
   "outputs": [],
   "source": [
    "# gencode except for the nagative ones 12869\n",
    "prediction_triplexfpp_genocode_all = pd.read_csv('/home/alva/Documents/lncRNAs_project_2020/scripts_2021/TriplexFPP/output/triplexgencode.v36.lncRNA_transcripts_results.tsv',header=None,sep='\\t',names=['headers','score','triplex_helices'])\n",
    "prediction_triplexfpp_genocode_all = prediction_triplexfpp_genocode_all.join(prediction_triplexfpp_genocode_all['headers'].apply(lambda x: pd.Series(str(x).split('|'))).rename(columns=lambda x: f\"string_{x+1}\"))\n",
    "prediction_triplexfpp_genocode_all.rename(columns={'string_5':'transcript_sym','string_6':'gene_sym_y'},inplace =True)\n",
    "triplexfpp_genocode_all_filtered   =prediction_triplexfpp_genocode_all[[\"gene_sym_y\",\"transcript_sym\",\"triplex_helices\",\"score\"]]"
   ]
  },
  {
   "cell_type": "code",
   "execution_count": 5,
   "id": "injured-fleece",
   "metadata": {
    "collapsed": true
   },
   "outputs": [
    {
     "data": {
      "text/html": [
       "<div>\n",
       "<style scoped>\n",
       "    .dataframe tbody tr th:only-of-type {\n",
       "        vertical-align: middle;\n",
       "    }\n",
       "\n",
       "    .dataframe tbody tr th {\n",
       "        vertical-align: top;\n",
       "    }\n",
       "\n",
       "    .dataframe thead th {\n",
       "        text-align: right;\n",
       "    }\n",
       "</style>\n",
       "<table border=\"1\" class=\"dataframe\">\n",
       "  <thead>\n",
       "    <tr style=\"text-align: right;\">\n",
       "      <th></th>\n",
       "      <th>gene_sym_y</th>\n",
       "      <th>transcript_sym</th>\n",
       "      <th>triplex_helices</th>\n",
       "      <th>score</th>\n",
       "    </tr>\n",
       "  </thead>\n",
       "  <tbody>\n",
       "    <tr>\n",
       "      <th>12072</th>\n",
       "      <td>CR381653.1</td>\n",
       "      <td>CR381653.1-204</td>\n",
       "      <td>Triplex</td>\n",
       "      <td>1.151553</td>\n",
       "    </tr>\n",
       "    <tr>\n",
       "      <th>12070</th>\n",
       "      <td>CR381653.1</td>\n",
       "      <td>CR381653.1-202</td>\n",
       "      <td>Triplex</td>\n",
       "      <td>1.148390</td>\n",
       "    </tr>\n",
       "    <tr>\n",
       "      <th>7674</th>\n",
       "      <td>MIR100HG</td>\n",
       "      <td>MIR100HG-220</td>\n",
       "      <td>Triplex</td>\n",
       "      <td>1.129234</td>\n",
       "    </tr>\n",
       "    <tr>\n",
       "      <th>12028</th>\n",
       "      <td>AL355803.1</td>\n",
       "      <td>AL355803.1-201</td>\n",
       "      <td>Triplex</td>\n",
       "      <td>1.128435</td>\n",
       "    </tr>\n",
       "    <tr>\n",
       "      <th>10483</th>\n",
       "      <td>AC008105.3</td>\n",
       "      <td>AC008105.3-204</td>\n",
       "      <td>Triplex</td>\n",
       "      <td>1.111797</td>\n",
       "    </tr>\n",
       "    <tr>\n",
       "      <th>...</th>\n",
       "      <td>...</td>\n",
       "      <td>...</td>\n",
       "      <td>...</td>\n",
       "      <td>...</td>\n",
       "    </tr>\n",
       "    <tr>\n",
       "      <th>2351</th>\n",
       "      <td>ZMYND10-AS1</td>\n",
       "      <td>ZMYND10-AS1-201</td>\n",
       "      <td>Triplex</td>\n",
       "      <td>0.492086</td>\n",
       "    </tr>\n",
       "    <tr>\n",
       "      <th>3912</th>\n",
       "      <td>AC025188.1</td>\n",
       "      <td>AC025188.1-201</td>\n",
       "      <td>Triplex</td>\n",
       "      <td>0.491564</td>\n",
       "    </tr>\n",
       "    <tr>\n",
       "      <th>4070</th>\n",
       "      <td>LINC01184</td>\n",
       "      <td>LINC01184-205</td>\n",
       "      <td>Triplex</td>\n",
       "      <td>0.491360</td>\n",
       "    </tr>\n",
       "    <tr>\n",
       "      <th>4793</th>\n",
       "      <td>TAB2-AS1</td>\n",
       "      <td>TAB2-AS1-202</td>\n",
       "      <td>Triplex</td>\n",
       "      <td>0.490859</td>\n",
       "    </tr>\n",
       "    <tr>\n",
       "      <th>7173</th>\n",
       "      <td>AC069287.1</td>\n",
       "      <td>AC069287.1-201</td>\n",
       "      <td>Triplex</td>\n",
       "      <td>0.490208</td>\n",
       "    </tr>\n",
       "  </tbody>\n",
       "</table>\n",
       "<p>742 rows × 4 columns</p>\n",
       "</div>"
      ],
      "text/plain": [
       "        gene_sym_y   transcript_sym triplex_helices     score\n",
       "12072   CR381653.1   CR381653.1-204         Triplex  1.151553\n",
       "12070   CR381653.1   CR381653.1-202         Triplex  1.148390\n",
       "7674      MIR100HG     MIR100HG-220         Triplex  1.129234\n",
       "12028   AL355803.1   AL355803.1-201         Triplex  1.128435\n",
       "10483   AC008105.3   AC008105.3-204         Triplex  1.111797\n",
       "...            ...              ...             ...       ...\n",
       "2351   ZMYND10-AS1  ZMYND10-AS1-201         Triplex  0.492086\n",
       "3912    AC025188.1   AC025188.1-201         Triplex  0.491564\n",
       "4070     LINC01184    LINC01184-205         Triplex  0.491360\n",
       "4793      TAB2-AS1     TAB2-AS1-202         Triplex  0.490859\n",
       "7173    AC069287.1   AC069287.1-201         Triplex  0.490208\n",
       "\n",
       "[742 rows x 4 columns]"
      ]
     },
     "execution_count": 5,
     "metadata": {},
     "output_type": "execute_result"
    }
   ],
   "source": [
    "tripleFPP_triplex_genecode   = triplexfpp_genocode_all_filtered.query('triplex_helices == \"Triplex\"')\n",
    "tripleFPP_triplex_genecode.sort_values('score',ascending=False)"
   ]
  },
  {
   "cell_type": "code",
   "execution_count": 6,
   "id": "north-rates",
   "metadata": {},
   "outputs": [],
   "source": [
    "tripleFPP_triplex_genecode.to_csv('/home/alva/Documents/lncRNAs_project_2020/Analysis_2021/DNA_methy_tcga/meth/de/tripleFPP_triplex_genecode', sep='\\t',index=True)"
   ]
  },
  {
   "cell_type": "code",
   "execution_count": 142,
   "id": "informational-azerbaijan",
   "metadata": {
    "collapsed": true
   },
   "outputs": [
    {
     "data": {
      "text/html": [
       "<div>\n",
       "<style scoped>\n",
       "    .dataframe tbody tr th:only-of-type {\n",
       "        vertical-align: middle;\n",
       "    }\n",
       "\n",
       "    .dataframe tbody tr th {\n",
       "        vertical-align: top;\n",
       "    }\n",
       "\n",
       "    .dataframe thead th {\n",
       "        text-align: right;\n",
       "    }\n",
       "</style>\n",
       "<table border=\"1\" class=\"dataframe\">\n",
       "  <thead>\n",
       "    <tr style=\"text-align: right;\">\n",
       "      <th></th>\n",
       "      <th>gene_sym_y</th>\n",
       "      <th>transcript_sym</th>\n",
       "      <th>triplex_helices</th>\n",
       "      <th>score</th>\n",
       "    </tr>\n",
       "  </thead>\n",
       "  <tbody>\n",
       "    <tr>\n",
       "      <th>6061</th>\n",
       "      <td>PVT1</td>\n",
       "      <td>PVT1-346</td>\n",
       "      <td>Triplex</td>\n",
       "      <td>0.688675</td>\n",
       "    </tr>\n",
       "    <tr>\n",
       "      <th>6062</th>\n",
       "      <td>PVT1</td>\n",
       "      <td>PVT1-316</td>\n",
       "      <td>Triplex</td>\n",
       "      <td>0.647226</td>\n",
       "    </tr>\n",
       "    <tr>\n",
       "      <th>6063</th>\n",
       "      <td>PVT1</td>\n",
       "      <td>PVT1-234</td>\n",
       "      <td>Triplex</td>\n",
       "      <td>0.747205</td>\n",
       "    </tr>\n",
       "    <tr>\n",
       "      <th>6064</th>\n",
       "      <td>PVT1</td>\n",
       "      <td>PVT1-315</td>\n",
       "      <td>Triplex</td>\n",
       "      <td>0.654007</td>\n",
       "    </tr>\n",
       "    <tr>\n",
       "      <th>6065</th>\n",
       "      <td>PVT1</td>\n",
       "      <td>PVT1-304</td>\n",
       "      <td>Triplex</td>\n",
       "      <td>0.670471</td>\n",
       "    </tr>\n",
       "    <tr>\n",
       "      <th>...</th>\n",
       "      <td>...</td>\n",
       "      <td>...</td>\n",
       "      <td>...</td>\n",
       "      <td>...</td>\n",
       "    </tr>\n",
       "    <tr>\n",
       "      <th>6161</th>\n",
       "      <td>PVT1</td>\n",
       "      <td>PVT1-277</td>\n",
       "      <td>Triplex</td>\n",
       "      <td>0.597450</td>\n",
       "    </tr>\n",
       "    <tr>\n",
       "      <th>6162</th>\n",
       "      <td>PVT1</td>\n",
       "      <td>PVT1-361</td>\n",
       "      <td>Triplex</td>\n",
       "      <td>0.602169</td>\n",
       "    </tr>\n",
       "    <tr>\n",
       "      <th>6163</th>\n",
       "      <td>PVT1</td>\n",
       "      <td>PVT1-211</td>\n",
       "      <td>Triplex</td>\n",
       "      <td>0.688601</td>\n",
       "    </tr>\n",
       "    <tr>\n",
       "      <th>6164</th>\n",
       "      <td>PVT1</td>\n",
       "      <td>PVT1-375</td>\n",
       "      <td>Triplex</td>\n",
       "      <td>0.656961</td>\n",
       "    </tr>\n",
       "    <tr>\n",
       "      <th>6165</th>\n",
       "      <td>PVT1</td>\n",
       "      <td>PVT1-273</td>\n",
       "      <td>Triplex</td>\n",
       "      <td>0.890147</td>\n",
       "    </tr>\n",
       "  </tbody>\n",
       "</table>\n",
       "<p>105 rows × 4 columns</p>\n",
       "</div>"
      ],
      "text/plain": [
       "     gene_sym_y transcript_sym triplex_helices     score\n",
       "6061       PVT1       PVT1-346         Triplex  0.688675\n",
       "6062       PVT1       PVT1-316         Triplex  0.647226\n",
       "6063       PVT1       PVT1-234         Triplex  0.747205\n",
       "6064       PVT1       PVT1-315         Triplex  0.654007\n",
       "6065       PVT1       PVT1-304         Triplex  0.670471\n",
       "...         ...            ...             ...       ...\n",
       "6161       PVT1       PVT1-277         Triplex  0.597450\n",
       "6162       PVT1       PVT1-361         Triplex  0.602169\n",
       "6163       PVT1       PVT1-211         Triplex  0.688601\n",
       "6164       PVT1       PVT1-375         Triplex  0.656961\n",
       "6165       PVT1       PVT1-273         Triplex  0.890147\n",
       "\n",
       "[105 rows x 4 columns]"
      ]
     },
     "execution_count": 142,
     "metadata": {},
     "output_type": "execute_result"
    }
   ],
   "source": [
    "tripleFPP_triplex_genecode.query('gene_sym_y == \"PVT1\"')"
   ]
  },
  {
   "cell_type": "code",
   "execution_count": 130,
   "id": "cutting-electric",
   "metadata": {},
   "outputs": [
    {
     "data": {
      "text/plain": [
       "(363,)"
      ]
     },
     "execution_count": 130,
     "metadata": {},
     "output_type": "execute_result"
    }
   ],
   "source": [
    "tripleFPP_triplex_genecode.gene_sym_y.drop_duplicates().shape"
   ]
  },
  {
   "cell_type": "code",
   "execution_count": 101,
   "id": "obvious-cycle",
   "metadata": {},
   "outputs": [],
   "source": [
    "DE_brca_lncRNAs = pd.read_csv('/home/alva/Documents/lncRNAs_project_2020/Analysis_2021/Tcga_R/GDCdata/TCGA-BRCA/harmonized/Transcriptome_Profiling/Gene_Expression_Quantification/r_data/lncRNA_0.58_BRCA_DE',header=0,sep='\\t')\n",
    "positve_lncRNAs_triplexFPP = pd.read_csv('/home/alva/Documents/lncRNAs_project_2020/scripts_2021/TriplexFPP_data/data/triplexlncRNA_pos_lncRNAs',names=['gene_sym_y'],sep='\\t')"
   ]
  },
  {
   "cell_type": "code",
   "execution_count": 136,
   "id": "pending-milton",
   "metadata": {
    "collapsed": true
   },
   "outputs": [
    {
     "data": {
      "text/plain": [
       "0      SLX1A-SULT1A3\n",
       "5             HOTAIR\n",
       "10              PVT1\n",
       "115        SSTR5-AS1\n",
       "116       AL121832.2\n",
       "117       AC069281.2\n",
       "118          MIR22HG\n",
       "132       MIRLET7BHG\n",
       "135             MEG3\n",
       "184       AL162586.1\n",
       "185         MIR100HG\n",
       "273           DIO3OS\n",
       "275         TBX2-AS1\n",
       "276           PICSAR\n",
       "Name: gene_sym_x, dtype: object"
      ]
     },
     "execution_count": 136,
     "metadata": {},
     "output_type": "execute_result"
    }
   ],
   "source": [
    "dfs      = [DE_brca_lncRNAs,positve_lncRNAs_triplexFPP,tripleFPP_triplex_genecode]\n",
    "df_final = reduce(lambda left,right: pd.merge(left,right,on='gene_sym_y'), dfs)\n",
    "df_final.gene_sym_x.drop_duplicates()"
   ]
  },
  {
   "cell_type": "code",
   "execution_count": null,
   "id": "practical-jenny",
   "metadata": {},
   "outputs": [],
   "source": [
    "dfs      = [DE_brca_lncRNAs,positve_lncRNAs_triplexFPP,tripleFPP_triplex_genecode]\n",
    "df_final = reduce(lambda left,right: pd.merge(left,right,on='gene_sym_y'), dfs)\n",
    "df_final.gene_sym_x.drop_duplicates()"
   ]
  },
  {
   "cell_type": "code",
   "execution_count": 143,
   "id": "distinguished-princeton",
   "metadata": {},
   "outputs": [],
   "source": [
    "de_brca_positive = pd.merge(DE_brca_lncRNAs,positve_lncRNAs_triplexFPP,on='gene_sym_y')\n",
    "de_brca_positive_triplexgencode = pd.merge(DE_brca_lncRNAs,tripleFPP_triplex_genecode,on='gene_sym_y')\n",
    "de_brca_positive_triplexgencode.to_csv('/home/alva/Documents/lncRNAs_project_2020/Analysis_2021/Tcga_R/GDCdata/TCGA-BRCA/harmonized/Transcriptome_Profiling/Gene_Expression_Quantification/r_data/de_lncRNAs_with_triplex/gencode_triplex_predictions_brca_de',index=False)\n"
   ]
  }
 ],
 "metadata": {
  "kernelspec": {
   "display_name": "Python 3",
   "language": "python",
   "name": "python3"
  },
  "language_info": {
   "codemirror_mode": {
    "name": "ipython",
    "version": 3
   },
   "file_extension": ".py",
   "mimetype": "text/x-python",
   "name": "python",
   "nbconvert_exporter": "python",
   "pygments_lexer": "ipython3",
   "version": "3.7.3"
  }
 },
 "nbformat": 4,
 "nbformat_minor": 5
}
